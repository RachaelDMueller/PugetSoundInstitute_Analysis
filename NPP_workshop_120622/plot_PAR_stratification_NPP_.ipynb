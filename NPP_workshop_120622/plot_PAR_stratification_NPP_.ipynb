{
 "cells": [
  {
   "cell_type": "code",
   "execution_count": null,
   "id": "285555c7-58e6-4f16-a9b1-c23a4199093c",
   "metadata": {},
   "outputs": [],
   "source": [
    "from matplotlib import pyplot as plt\n",
    "import matplotlib as mpl\n",
    "from matplotlib.offsetbox import AnchoredText\n",
    "from matplotlib.ticker import MaxNLocator\n",
    "import pandas as pd\n",
    "import numpy as np\n",
    "import yaml\n",
    "import xarray as xr\n",
    "import pathlib\n",
    "import geopandas as gpd\n",
    "import time\n",
    "import sys\n",
    "\n",
    "sys.path.insert(1, '/mmfs1/gscratch/ssmc/USRS/PSI/Rachael/projects/KingCounty/seawater')\n",
    "from seawater import dens\n",
    "from calc_density_NNP_workshop120622 import calc_density"
   ]
  },
  {
   "cell_type": "code",
   "execution_count": null,
   "id": "839ebe66-58ef-4bae-9a8f-74da2ae55e41",
   "metadata": {},
   "outputs": [],
   "source": [
    "def running_avg(ts1d, window=24):\n",
    "    ts1d_24h_avg = []\n",
    "    i = 0\n",
    "    while i < (len(ts1d)):\n",
    "        if i < (len(ts1d)-window):\n",
    "            ts1d_avg=ts1d[i:i+window].mean()\n",
    "        else:\n",
    "            ts1d_avg=np.NaN\n",
    "        ts1d_24h_avg.append(ts1d_avg)\n",
    "        i+=1   \n",
    "    return ts1d_24h_avg"
   ]
  },
  {
   "cell_type": "code",
   "execution_count": null,
   "id": "c270aff0-f1ce-4697-83db-dac2a242d8cf",
   "metadata": {},
   "outputs": [],
   "source": [
    "nodes = {\n",
    "    \"Bellingham Bay\":6565, #9m \n",
    "    \"Case Inlet\":15888, #4m\n",
    "    \"Sinclair Inlet\":11977 #6m\n",
    "}\n",
    "\n",
    "# Use shapefile with inlet attributions, provided by Stefano Mazzilli\n",
    "shp_dir = pathlib.Path('/mmfs1/gscratch/ssmc/USRS/PSI/Rachael/projects/KingCounty/SalishSeaModel-grid/shapefiles/SSMGrid2_tce_ecy_node_info_v2_10102022_inlets')\n",
    "shp = shp_dir/'SSMGrid2_tce\n",
    "with open('../etc/SSM_netcdf_config.yaml', 'r') as file:\n",
    "    ssm_nc = yaml.safe_load(file)\n",
    "with open('../etc/SSM_config_whidbey.yaml', 'r') as config_file:\n",
    "    ssm = yaml.safe_load(config_file) "
   ]
  },
  {
   "cell_type": "code",
   "execution_count": null,
   "id": "b778798c-b09c-4c94-a978-9d650c0ffc42",
   "metadata": {},
   "outputs": [],
   "source": [
    "in_dir = pathlib.Path(\"/mmfs1/gscratch/ssmc/USRS/PSI/Rachael/projects/KingCounty/data/NPP_workshop_120622/\")"
   ]
  },
  {
   "cell_type": "code",
   "execution_count": null,
   "id": "050728b4-fb7b-421b-829a-e3b02a128cc2",
   "metadata": {},
   "outputs": [],
   "source": []
  },
  {
   "cell_type": "code",
   "execution_count": null,
   "id": "2f933892-c807-4d9b-ad2b-5bd0b7838ebc",
   "metadata": {},
   "outputs": [],
   "source": [
    "rho = 1024\n",
    "g = 9.8\n",
    "P = rho*g*ds[\"depth\"][1,[1,2,3],1]\n",
    "density = calc_density(0,idx)"
   ]
  }
 ],
 "metadata": {
  "kernelspec": {
   "display_name": "Python 3 (ipykernel)",
   "language": "python",
   "name": "python3"
  },
  "language_info": {
   "codemirror_mode": {
    "name": "ipython",
    "version": 3
   },
   "file_extension": ".py",
   "mimetype": "text/x-python",
   "name": "python",
   "nbconvert_exporter": "python",
   "pygments_lexer": "ipython3",
   "version": "3.10.4"
  }
 },
 "nbformat": 4,
 "nbformat_minor": 5
}
