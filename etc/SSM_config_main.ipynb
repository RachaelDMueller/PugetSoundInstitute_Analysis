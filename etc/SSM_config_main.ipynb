{
 "cells": [
  {
   "cell_type": "markdown",
   "id": "6a3273be-a8ee-4283-b971-4435c0688069",
   "metadata": {},
   "source": [
    "---\n",
    "# Configuration file for post-processing Salish Sea Model results\n",
    "# Setup for Main Region WWTP model run scenarios\n",
    "---"
   ]
  },
  {
   "cell_type": "code",
   "execution_count": 1,
   "id": "e86bf7d2-e224-439c-8ed1-50d3d02fdbe6",
   "metadata": {},
   "outputs": [],
   "source": [
    "import sys\n",
    "import yaml\n",
    "import numpy\n",
    "%matplotlib inline\n",
    "import matplotlib.pyplot as plt"
   ]
  },
  {
   "cell_type": "markdown",
   "id": "b994034d-535b-4fca-afd8-7c17febe3a32",
   "metadata": {},
   "source": [
    "## Define main directory "
   ]
  },
  {
   "cell_type": "code",
   "execution_count": 2,
   "id": "0da387f4-de4e-432c-b707-0c15a0715336",
   "metadata": {},
   "outputs": [],
   "source": [
    "# Main dictionary used to output values to SSM_config.yaml\n",
    "ssm = {}"
   ]
  },
  {
   "cell_type": "markdown",
   "id": "2f69dcae-9611-47ed-95e2-b6fbdd8d4569",
   "metadata": {},
   "source": [
    "## Model variable names for two versions of model output\n",
    "- The model output used in the bounding scenario runs names variables as \"Var_XX\". `model_tags` is a dictionary that relates variable names to the model output names.  i.e. ```ssm['var_name']['DO'] yields 'Var_10'```, which is the SSM variable name for \"DO\"\n",
    "- The output netcdf from Ben's C++ script yields the `name_list` of variables "
   ]
  },
  {
   "cell_type": "code",
   "execution_count": 3,
   "id": "14b053d8-b28f-4cf2-a67c-004763f275a4",
   "metadata": {},
   "outputs": [],
   "source": [
    "ssm['variables']={}\n",
    "ssm['variables']['name_list']=['time','depth','DOXG','LDOC','B1','B2',\n",
    "                    'NH4','NO3','PO4','temp','salinity','RDOC','LPOC',\n",
    "                    'RPOC','TDIC','TALK','pH','pCO2'] "
   ]
  },
  {
   "cell_type": "markdown",
   "id": "3a56165f-6023-45d6-a681-f1e0e47a593a",
   "metadata": {},
   "source": [
    "## Create array of percentages for depth levels\n",
    "Multiply these values by the total depth of the water column to get the layer thickness for each model level. This layer thickness is used to calculate volume days.\n",
    "These values were provided by Su Kyong Yun in her script `volume_calculation.py` on 6/9/2022."
   ]
  },
  {
   "cell_type": "code",
   "execution_count": 4,
   "id": "4b6d4ae7-7279-40d7-be55-7f6a251c4938",
   "metadata": {},
   "outputs": [],
   "source": [
    "ssm['siglev_diff']=numpy.array(\n",
    "    [ 3.2,  5.7,  7.5,  8.9, 10.1, 11.1, 12.1, 13. , 13.8, 14.6]\n",
    ").tolist() #b/c safedump dosn't allow for objects\n",
    "# # Updated values given by Su Kyong August 10th, 2022, via Teams chat. \n",
    "# ssm['siglev_diff']=numpy.array(\n",
    "#     [3.2, 5.8, 7.4, 9, 9.8, 11.4, 11.8, 13.4, 13.4, 15]\n",
    "# ).tolist() #b/c safedump dosn't allow for objects"
   ]
  },
  {
   "cell_type": "code",
   "execution_count": 5,
   "id": "03ac1657-4bec-4cce-bd16-2cc0ac35b672",
   "metadata": {},
   "outputs": [
    {
     "data": {
      "text/plain": [
       "99.99999999999999"
      ]
     },
     "execution_count": 5,
     "metadata": {},
     "output_type": "execute_result"
    }
   ],
   "source": [
    "sum(ssm['siglev_diff'])"
   ]
  },
  {
   "cell_type": "markdown",
   "id": "c431fa42-2fae-4f35-a4f8-2f1eaf5f5647",
   "metadata": {},
   "source": [
    "### Define WWTP and river names"
   ]
  },
  {
   "cell_type": "code",
   "execution_count": 6,
   "id": "69177b81-b4bc-4788-847b-649e5bfe1114",
   "metadata": {},
   "outputs": [],
   "source": [
    "# The following WWTP names are from the \"Table NLoading1\" tab of \n",
    "# https://uwnetid.sharepoint.com/:x:/r/sites/og_uwt_psi/_layouts/15/Doc.aspx?sourcedoc=%7B3788B09C-126F-40BF-86AF-22DEC185E831%7D&file=SOG_NB_Figures%26Tables.xlsx&action=default&mobileredirect=true\n",
    "\n",
    "# The two spaces in front of names reflects formatting of column names in \n",
    "# excel spreadsheet\n",
    "ssm['WWTP_names'] = [\n",
    "  \"  Brightwater\",\n",
    "  \"  South King\",\n",
    "  \"  West Point\",\n",
    "]\n",
    "\n",
    "# Some rivers discharge into more than one node and have nutrient\n",
    "# loading in two columns (namely: Nooksack and Samish Bell).\n",
    "# Nutrient loading for these rivers is the sum of the columns\n",
    "ssm['river_names'] = [\n",
    "   \"  Green R_1\",\n",
    "   \"  Green R_2\"\n",
    "]\n",
    "ssm['unique_river_names']=[\n",
    "    \"Green\"\n",
    "]"
   ]
  },
  {
   "cell_type": "markdown",
   "id": "ef51e859-933b-4056-be4d-657b02eb8704",
   "metadata": {},
   "source": [
    "## Define colors used for color plots (in development)\n",
    "See [this cheatsheet](https://matplotlib.org/cheatsheets/_images/cheatsheets-2.png) or [this list of named colors](https://matplotlib.org/stable/gallery/color/named_colors.html) for more color options\n",
    "\n",
    "Run list will include:\n",
    "1. WWTP\n",
    "    - a. **Baseline**: all plants on (using output data set for Existing, Ecology (2021))\n",
    "    - b. **Seasonal 3 mg/L**: West Point, South Plant, Brightwater TIN at 3 mg/L, Apr.-oct.\n",
    "    - c. **0.85 West Point**: West Point load reduced to 85%, South Plant, Brightwater TIN reduced to 3mg/l, all other WWTPs constant\n",
    "    - d. **0.85 3 plants**: West Point, South Plant, Brightwater load reduced to 85%, all other WWTPs constant\n",
    "    - e. **0.5 West Point**: West Point load reduced to 50%, all other WWTPs constant\n",
    "    - f. **No West Point**: West Point load reduced to 0%, all other WWTPs constant\n",
    "    - g. **0.5 South**: King County South Plant load reduced to 50%, all other WWTPs constant\n",
    "    - h. **No South**: King County South Plant load reduced to 0%, all other WWTPs constant\n",
    "    - i. **0.5 Brightwater**: King County Brightwater load reduced to 50%, all other WWTPs constant\n",
    "    - j. **No Brightwater**: King County Brightwater load reduced to 0%, all other WWTPs constant\n",
    "2. Rivers\n",
    "   - k. **50% Green River**: Green River 50% of additional modern-loading to watershed\n",
    "   - l. **2x  Green River**: Green River 200% of additional modern-loading to watershed"
   ]
  },
  {
   "cell_type": "code",
   "execution_count": 7,
   "id": "81f5f15a-4885-4bc4-ad25-c723fb06fbaa",
   "metadata": {
    "tags": []
   },
   "outputs": [
    {
     "name": "stdout",
     "output_type": "stream",
     "text": [
      "darkviolet\n",
      "rebeccapurple\n",
      "royalblue\n",
      "darkslategrey\n",
      "darkslategrey\n",
      "cyan\n",
      "steelblue\n",
      "sienna\n",
      "teal\n",
      "royalblue\n",
      "brown\n",
      "olive\n",
      "orchid\n",
      "midnightblue\n"
     ]
    },
    {
     "data": {
      "text/plain": [
       "<matplotlib.legend.Legend at 0x14a520551c90>"
      ]
     },
     "execution_count": 7,
     "metadata": {},
     "output_type": "execute_result"
    },
    {
     "name": "stderr",
     "output_type": "stream",
     "text": [
      "findfont: Font family ['arial'] not found. Falling back to DejaVu Sans.\n",
      "findfont: Font family ['arial'] not found. Falling back to DejaVu Sans.\n"
     ]
    },
    {
     "data": {
      "image/png": "[encoded data removed]",
      "text/plain": [
       "<Figure size 432x288 with 1 Axes>"
      ]
     },
     "metadata": {
      "needs_background": "light"
     },
     "output_type": "display_data"
    }
   ],
   "source": [
    "ssm['line']={}\n",
    "ssm['line']['color']={}\n",
    "ssm['line']['width']={}\n",
    "ssm['line']['style']={}\n",
    "\n",
    "ssm['line']['color']['wqm_baseline'] = 'darkviolet'\n",
    "ssm['line']['color']['wqm_reference'] = 'rebeccapurple'\n",
    "ssm['line']['color']['deviation'] = 'royalblue'\n",
    "ssm['line']['color']['4b']='darkslategrey'\n",
    "ssm['line']['color']['4c']='darkslategrey'\n",
    "ssm['line']['color']['4d']='cyan'\n",
    "ssm['line']['color']['4e']='steelblue'\n",
    "ssm['line']['color']['4f']= 'sienna'\n",
    "ssm['line']['color']['4g']= 'teal'\n",
    "ssm['line']['color']['4h']= 'royalblue' \n",
    "ssm['line']['color']['4i']= 'brown'## need to change this and next three colors\n",
    "ssm['line']['color']['4j']= 'olive'\n",
    "ssm['line']['color']['4k']= 'orchid'\n",
    "ssm['line']['color']['4l']= 'midnightblue'\n",
    "\n",
    "ssm['line']['width']['wqm_baseline'] = 1.5\n",
    "ssm['line']['width']['wqm_reference'] = 1.5\n",
    "ssm['line']['width']['deviation'] = 1\n",
    "ssm['line']['width']['4b']=2.0\n",
    "ssm['line']['width']['4c']=2.0\n",
    "ssm['line']['width']['4d']=2.0\n",
    "ssm['line']['width']['4e']=3.0\n",
    "ssm['line']['width']['4f']= 2.0\n",
    "ssm['line']['width']['4g']= 3.0\n",
    "ssm['line']['width']['4h']= 3.0 ## need to change this and next three lw\n",
    "ssm['line']['width']['4i']= 3.0\n",
    "ssm['line']['width']['4j']= 3.0\n",
    "ssm['line']['width']['4k']= 3.0\n",
    "ssm['line']['width']['4l']= 3.0\n",
    "\n",
    "ssm['line']['style']['wqm_baseline'] = 'solid'\n",
    "ssm['line']['style']['wqm_reference'] = 'solid'\n",
    "ssm['line']['style']['deviation'] = 'solid'\n",
    "ssm['line']['style']['4b']='dashdot'\n",
    "ssm['line']['style']['4c']='dashdot'\n",
    "ssm['line']['style']['4d']='dashdot'\n",
    "ssm['line']['style']['4e']='dashed'\n",
    "ssm['line']['style']['4f']= 'dashdot'\n",
    "ssm['line']['style']['4g']= 'dashed'\n",
    "ssm['line']['style']['4h']= 'dashed'\n",
    "ssm['line']['style']['4i']= 'dashed'\n",
    "ssm['line']['style']['4j']= 'dashed'\n",
    "ssm['line']['style']['4k']= 'dashed'\n",
    "ssm['line']['style']['4l']= 'dashed'\n",
    "\n",
    "# plot these color options\n",
    "fig = plt.figure()\n",
    "ax = plt.axes()\n",
    "x = numpy.linspace(0, 1, 10)\n",
    "for idx,case in enumerate(ssm['line']['color']):\n",
    "    print(ssm['line']['color'][case])\n",
    "    ax.plot(x,idx*numpy.ones(len(x)),\n",
    "            color=ssm['line']['color'][case],\n",
    "            linestyle=ssm['line']['style'][case],\n",
    "            linewidth=ssm['line']['width'][case],\n",
    "            label=case)\n",
    "ax.legend(loc='upper right',bbox_to_anchor=(1.4,1))"
   ]
  },
  {
   "cell_type": "markdown",
   "id": "bf6799ef-c620-4eee-9aa3-765a2ca57801",
   "metadata": {
    "tags": []
   },
   "source": [
    "## Define black and white line-style formatting"
   ]
  },
  {
   "cell_type": "code",
   "execution_count": 8,
   "id": "7af1162a-6db7-4203-8026-e4bc5e0d6b95",
   "metadata": {},
   "outputs": [],
   "source": [
    "ssm['bw_line']={}\n",
    "ssm['bw_line']['color']={}\n",
    "ssm['bw_line']['width']={}\n",
    "ssm['bw_line']['style']={}\n",
    "# All scenarios\n",
    "ssm['bw_line']['color']['scenario']='grey'\n",
    "ssm['bw_line']['width']['scenario']=1.5\n",
    "ssm['bw_line']['style']['scenario']='dashed'\n",
    "# 2014 Baseline condition\n",
    "ssm['bw_line']['color']['baseline']='black'\n",
    "ssm['bw_line']['width']['baseline']=1\n",
    "ssm['bw_line']['style']['baseline']='solid'\n",
    "# Reference condition\n",
    "ssm['bw_line']['color']['reference']='black'\n",
    "ssm['bw_line']['width']['reference']=1.5\n",
    "ssm['bw_line']['style']['reference']='dashdot'"
   ]
  },
  {
   "cell_type": "markdown",
   "id": "cf48f35b-c959-40d0-80db-6b164c30905d",
   "metadata": {
    "tags": []
   },
   "source": [
    "## Define colors for different parameters"
   ]
  },
  {
   "cell_type": "code",
   "execution_count": 9,
   "id": "79064201-1c47-41fe-a69f-34e0524f8bae",
   "metadata": {},
   "outputs": [],
   "source": [
    "ssm['bar']={}\n",
    "ssm['bar']['colors']={}\n",
    "ssm['bar']['colors']['DOXG']='deepskyblue'\n",
    "ssm['bar']['colors']['NO3']='y'\n",
    "ssm['bar']['colors']['NH4']='darkolivegreen'\n",
    "\n",
    "ssm['region']={}\n",
    "ssm['region']['colors']={}\n",
    "ssm['region']['colors']['Hood']='darkseagreen'\n",
    "ssm['region']['colors']['Main']='mediumpurple'\n",
    "ssm['region']['colors']['SJF_Admiralty']='lightsteelblue'\n",
    "ssm['region']['colors']['SOG_Bellingham']='rosybrown'\n",
    "ssm['region']['colors']['South_Sound']='c'\n",
    "ssm['region']['colors']['Whidbey']='cornflowerblue'\n",
    "ssm['region']['colors']['ALL_REGIONS']='black'"
   ]
  },
  {
   "cell_type": "markdown",
   "id": "cd920a2f-7edd-4491-b708-0cd88d029a27",
   "metadata": {},
   "source": [
    "## Define location(s) for model output and graphics files"
   ]
  },
  {
   "cell_type": "markdown",
   "id": "0f384a53-f3d3-4f58-8e5f-598af9a8363f",
   "metadata": {},
   "source": [
    "## Path definitions\n",
    "\n",
    "Paths for \"full\" `netcdfs` of model output: \n",
    "-   \"/mmfs1/gscratch/ssmc/USRS/PSI/Sukyong/kingcounty/wqm_baseline/ssm_output.nc\"\n",
    "-   \"/mmfs1/gscratch/ssmc/USRS/PSI/Sukyong/kingcounty/wqm_reference/ssm_output.nc\"\n",
    "-   \"/mmfs1/gscratch/ssmc/USRS/PSI/Rachael/projects/KingCounty/SalishSeaModel/4b/ssm_hotstart_4b.nc\"\n",
    "-   \"/mmfs1/gscratch/ssmc/USRS/PSI/Rachael/projects/KingCounty/SalishSeaModel/4c/ssm_hotstart_4c.nc\"\n",
    "-   \"/mmfs1/gscratch/ssmc/USRS/PSI/Sukyong/kingcounty/4d/ssm_output.nc\"\n",
    "-   \"/mmfs1/gscratch/ssmc/USRS/PSI/Sukyong/kingcounty/4e/ssm_output.nc\"\n",
    "-   \"/mmfs1/gscratch/ssmc/USRS/PSI/Sukyong/kingcounty/4f/ssm_output.nc\"\n",
    "-   \"/mmfs1/gscratch/ssmc/USRS/PSI/Sukyong/kingcounty/4g/ssm_output.nc\"\n",
    "-   \"/mmfs1/gscratch/ssmc/USRS/PSI/Sukyong/kingcounty/4h/ssm_output.nc\"\n",
    "-   \"/mmfs1/gscratch/ssmc/USRS/PSI/Sukyong/kingcounty/4i/ssm_output.nc\"\n",
    "-   \"/mmfs1/gscratch/ssmc/USRS/PSI/Sukyong/kingcounty/4j/ssm_output.nc\"\n",
    "-   \"/mmfs1/gscratch/ssmc/USRS/PSI/Rachael/projects/KingCounty/SalishSeaModel/4k/hotstart_rdm.nc\"\n",
    "-   \"/mmfs1/gscratch/ssmc/USRS/PSI/Sukyong/kingcounty/4l/ssm_output.nc\"\n",
    "\n",
    "These combine runs that Su Kyong completed and runs that Rachael completed (4b, 4c, and 4k). "
   ]
  },
  {
   "cell_type": "code",
   "execution_count": null,
   "id": "612c8847-2863-42ec-8d67-4f1352346e24",
   "metadata": {},
   "outputs": [],
   "source": []
  },
  {
   "cell_type": "code",
   "execution_count": 10,
   "id": "400adbf8-72db-4225-b557-dc867ba9efe6",
   "metadata": {},
   "outputs": [],
   "source": [
    "root_output = '/mmfs1/gscratch/ssmc/USRS/PSI/Sukyong/kingcounty/'\n",
    "ssm['paths']={}\n",
    "ssm['paths']['model_output']={}\n",
    "\n",
    "# directory for Rachael's runs\n",
    "root_output_rdm = (\n",
    "    \"/mmfs1/gscratch/ssmc/USRS/PSI/Rachael/projects/KingCounty/SalishSeaModel/\"\n",
    ")\n",
    "\n",
    "# directory for Su Kyong run's loading files\n",
    "root_output_skloads = (\n",
    "    \"/mmfs1/gscratch/ssmc/USRS/PSI/Sukyong/kingcounty/4x_inputs/\"\n",
    ")\n",
    "\n",
    "# Main Region cases\n",
    "ssm['paths']['model_output']['main'] = [\n",
    "    root_output+'wqm_baseline/ssm_output.nc',\n",
    "    root_output+'wqm_reference/ssm_output.nc',\n",
    "    root_output_rdm+'4b/ssm_hotstart_4b.nc',\n",
    "    root_output_rdm+'4c/ssm_hotstart_4c.nc',\n",
    "    root_output_skloads+'4d/ssm_output_4d.nc',\n",
    "    root_output_skloads+'4e/ssm_output_4e.nc',\n",
    "    root_output_skloads+'4f/ssm_output_4f.nc',\n",
    "    root_output_skloads+'4g/ssm_output_4g.nc',\n",
    "    root_output_skloads+'4h/ssm_output_4h.nc',\n",
    "    root_output_skloads+'4i/ssm_output_4i.nc',\n",
    "    root_output_skloads+'4j/ssm_output_4j.nc',\n",
    "    root_output_rdm+'4k/ssm_hotstart_4k.nc',\n",
    "    root_output_skloads+'4l/ssm_output_4l.nc'\n",
    "]\n",
    "\n",
    "ssm['paths']['processed_output'] = ( \n",
    "    '/mmfs1/gscratch/ssmc/USRS/PSI/Rachael/projects/KingCounty/data/'\n",
    ")\n",
    "\n",
    "# Define directory for saving graphics output\n",
    "ssm['paths']['graphics'] = (\n",
    "    '/mmfs1/gscratch/ssmc/USRS/PSI/Rachael/projects/KingCounty/graphics/'\n",
    ")\n",
    "\n",
    "# Define directory for saving graphics output\n",
    "ssm['paths']['movies'] = (\n",
    "    '/mmfs1/gscratch/ssmc/USRS/PSI/Rachael/projects/KingCounty/movies/'\n",
    ")\n",
    "\n",
    "# Define location and name of Shapefile to use for planar graphics\n",
    "# This version corrects typos in region names and imposes a uniform format for \n",
    "# region names\n",
    "\n",
    "ssm['paths']['shapefile'] = (\n",
    "    '/mmfs1/gscratch/ssmc/USRS/PSI/Rachael/projects/KingCounty/SalishSeaModel-grid/'\\\n",
    "    'shapefiles/SSMGrid2_tce_ecy_node_info_v2_10102022/SSMGrid2_tce_ecy_node_info_v2_10102022.shp' \n",
    ")\n",
    "\n",
    "# Nutrient loading input files\n",
    "ssm['paths']['nutrient_loading_inputs']={\n",
    "    'wqm_baseline':root_output+'WQM/WQM/hotstart/inputs/ssm_pnt_wq.dat',\n",
    "    'wqm_reference':root_output+'WQM_REF/WQM_REF/hotstart/inputs/ssm_pnt_wq.dat',\n",
    "    '4b':root_output_rdm+'4b/hotstart/inputs/ssm_pnt_wq.dat',\n",
    "    '4c':root_output_rdm+'4c/hotstart/inputs/ssm_pnt_wq.dat',\n",
    "    '4csk':root_output_skloads+'ssm_pnt_wq_4c.dat',\n",
    "    '4d':root_output_skloads+'ssm_pnt_wq_4d.dat',\n",
    "    '4e':root_output_skloads+'ssm_pnt_wq_4e.dat',\n",
    "    '4f':root_output_skloads+'ssm_pnt_wq_4f.dat',\n",
    "    '4g':root_output_skloads+'ssm_pnt_wq_4g.dat',\n",
    "    '4h':root_output_skloads+'ssm_pnt_wq_4h.dat',\n",
    "    '4i':root_output_skloads+'ssm_pnt_wq_4i.dat',\n",
    "    '4j':root_output_skloads+'ssm_pnt_wq_4j.dat', \n",
    "    '4k':root_output_rdm+'4k/hotstart/inputs/ssm_pnt_wq.dat',\n",
    "    '4l':root_output_skloads+'ssm_pnt_wq_4l.dat' \n",
    "}"
   ]
  },
  {
   "cell_type": "markdown",
   "id": "041aeb1e-1e79-473a-909f-b37cd65c2373",
   "metadata": {
    "tags": []
   },
   "source": [
    "## Run information"
   ]
  },
  {
   "cell_type": "code",
   "execution_count": 11,
   "id": "454eec41-ef82-466f-b66e-ba558608d27f",
   "metadata": {},
   "outputs": [
    {
     "data": {
      "text/plain": [
       "['wqm_baseline',\n",
       " 'wqm_reference',\n",
       " '4b',\n",
       " '4c',\n",
       " '4d',\n",
       " '4e',\n",
       " '4f',\n",
       " '4g',\n",
       " '4h',\n",
       " '4i',\n",
       " '4j',\n",
       " '4k',\n",
       " '4l']"
      ]
     },
     "execution_count": 11,
     "metadata": {},
     "output_type": "execute_result"
    }
   ],
   "source": [
    "ssm['run_information']={}\n",
    "\n",
    "# Number of spin-up days removed from model output in post-processing\n",
    "ssm['run_information']['spin_up_days']=5\n",
    "\n",
    "# Run descriptions and names\n",
    "ssm['run_information']['baseline']='wqm_baseline'\n",
    "ssm['run_information']['reference']='wqm_reference'\n",
    "# ssm['run_information']['Main_rivers']={\n",
    "#     'wqm_baseline':'2014 conditions',\n",
    "#     'wqm_reference':'Reference conditions',\n",
    "#     '4k':'Mr1',\n",
    "#     '4l':'Mr2'\n",
    "# }\n",
    "# ssm['run_information']['Main_WWTPs']={\n",
    "#     'wqm_baseline':'2014 conditions',\n",
    "#     'wqm_reference':'Reference conditions',\n",
    "#     '4b':'Mtp1',\n",
    "#     '4c':'Mtp2',\n",
    "#     '4d':'Mtp3',\n",
    "#     '4e':'Mtp4',\n",
    "#     '4f':'Mtp5',\n",
    "#     '4g':'Mtp6',\n",
    "#     '4h':'Mtp7',\n",
    "#     '4i':'Mtp8',\n",
    "#     '4j':'Mtp9'   \n",
    "# }\n",
    "\n",
    "# ssm['run_information']['run_description_short']={}\n",
    "# ssm['run_information']['run_description_short']['main']={\n",
    "#     'wqm_baseline':'2014 conditions',\n",
    "#     'wqm_reference':'Reference',\n",
    "#     '4b':'Mtp1: West, South, and Brightwater(3 mg/L, April – October)',\n",
    "#     '4c':'Mtp2: West(85%); South and Brightwater(3 mg/L)',\n",
    "#     '4d':'Mtp3: West, South, and Brightwater(85%)',\n",
    "#     '4e':'Mtp4: West(50%)',\n",
    "#     '4f':'Mtp5: No West',\n",
    "#     '4g':'Mtp6: South(50%)',\n",
    "#     '4h':'Mtp7: No South',\n",
    "#     '4i':'Mtp8: Brightwater(50%)',\n",
    "#     '4j':'Mtp9: No Brightwater',\n",
    "#     '4k':'Mr1: Green R.(50%)',\n",
    "#     '4l':'Mr2: Green R.(200%)'\n",
    "    \n",
    "# }\n",
    "\n",
    "ssm['run_information']['Main_rivers']={\n",
    "    'wqm_baseline':'2014 conditions',\n",
    "    'wqm_reference':'Reference conditions',\n",
    "    '4k':'M.r1',\n",
    "    '4l':'M.r2'\n",
    "}\n",
    "ssm['run_information']['Main_WWTPs']={\n",
    "    'wqm_baseline':'2014 conditions',\n",
    "    'wqm_reference':'Reference conditions',\n",
    "    '4b':'M.tp1',\n",
    "    '4c':'M.tp2',\n",
    "    '4d':'M.tp3',\n",
    "    '4e':'M.tp4',\n",
    "    '4f':'M.tp5',\n",
    "    '4g':'M.tp6',\n",
    "    '4h':'M.tp7',\n",
    "    '4i':'M.tp8',\n",
    "    '4j':'M.tp9'   \n",
    "}\n",
    "\n",
    "ssm['run_information']['run_description_short']={}\n",
    "ssm['run_information']['run_description_short']['main']={\n",
    "    'wqm_baseline':'2014 conditions',\n",
    "    'wqm_reference':'Reference',\n",
    "    '4b':'M.tp1: West, South, and Brightwater(3 mg/L, April – October)',\n",
    "    '4c':'M.tp2: West(85%); South and Brightwater(3 mg/L)',\n",
    "    '4d':'M.tp3: West, South, and Brightwater(85%)',\n",
    "    '4e':'M.tp4: West(50%)',\n",
    "    '4f':'M.tp5: No West',\n",
    "    '4g':'M.tp6: South(50%)',\n",
    "    '4h':'M.tp7: No South',\n",
    "    '4i':'M.tp8: Brightwater(50%)',\n",
    "    '4j':'M.tp9: No Brightwater',\n",
    "    '4k':'M.r1: Green R.(50%)',\n",
    "    '4l':'M.r2: Green R.(200%)'\n",
    "    \n",
    "}\n",
    "\n",
    "ssm['run_information']['run_tag']={}\n",
    "ssm['run_information']['run_tag']['main']={\n",
    "    'wqm_baseline':'2014 Conditions',\n",
    "    'wqm_reference':'Reference',\n",
    "    '4b':'M.tp1',\n",
    "    '4c':'M.tp2',\n",
    "    '4d':'M.tp3',\n",
    "    '4e':'M.tp4',\n",
    "    '4f':'M.tp5',\n",
    "    '4g':'M.tp6',\n",
    "    '4h':'M.tp7',\n",
    "    '4i':'M.tp8',\n",
    "    '4j':'M.tp9',\n",
    "    '4k':'M.r1',\n",
    "    '4l':'M.r2'\n",
    "}\n",
    "\n",
    "[*ssm['run_information']['run_tag']['main']]"
   ]
  },
  {
   "cell_type": "code",
   "execution_count": 12,
   "id": "8b18fca8-61fd-4b09-93bd-f8c17521a22e",
   "metadata": {},
   "outputs": [],
   "source": [
    "tag_list = [ssm['run_information']['run_tag']['main'][tag] for tag in [*ssm['run_information']['run_tag']['main']]]"
   ]
  },
  {
   "cell_type": "code",
   "execution_count": 13,
   "id": "9e92bcaf-e4b1-4292-9f13-d412e25e59d4",
   "metadata": {},
   "outputs": [],
   "source": [
    "tag_list.remove('Reference')"
   ]
  },
  {
   "cell_type": "code",
   "execution_count": 14,
   "id": "b35ac422-7fb1-4751-99e2-bd39875eb851",
   "metadata": {},
   "outputs": [
    {
     "data": {
      "text/plain": [
       "['2014 Conditions',\n",
       " 'M.tp1',\n",
       " 'M.tp2',\n",
       " 'M.tp3',\n",
       " 'M.tp4',\n",
       " 'M.tp5',\n",
       " 'M.tp6',\n",
       " 'M.tp7',\n",
       " 'M.tp8',\n",
       " 'M.tp9',\n",
       " 'M.r1',\n",
       " 'M.r2']"
      ]
     },
     "execution_count": 14,
     "metadata": {},
     "output_type": "execute_result"
    }
   ],
   "source": [
    "tag_list"
   ]
  },
  {
   "cell_type": "markdown",
   "id": "02dc26bc-8033-4f46-a8d2-057a4dc066da",
   "metadata": {},
   "source": [
    "## Save specifications to file\n",
    "-Use `sort_keys=False` to preserve dictionary order"
   ]
  },
  {
   "cell_type": "code",
   "execution_count": 15,
   "id": "38fca57b-cbca-44ce-a480-0c5b2804b6ec",
   "metadata": {},
   "outputs": [],
   "source": [
    "with open('SSM_config_main.yaml', 'w') as file:\n",
    "    document = yaml.safe_dump(ssm, file,sort_keys=True)"
   ]
  },
  {
   "cell_type": "code",
   "execution_count": null,
   "id": "ceb0cf8f-4d45-4a2f-9859-cfa50228eb81",
   "metadata": {},
   "outputs": [],
   "source": []
  }
 ],
 "metadata": {
  "kernelspec": {
   "display_name": "Python 3 (ipykernel)",
   "language": "python",
   "name": "python3"
  },
  "language_info": {
   "codemirror_mode": {
    "name": "ipython",
    "version": 3
   },
   "file_extension": ".py",
   "mimetype": "text/x-python",
   "name": "python",
   "nbconvert_exporter": "python",
   "pygments_lexer": "ipython3",
   "version": "3.10.4"
  }
 },
 "nbformat": 4,
 "nbformat_minor": 5
}
