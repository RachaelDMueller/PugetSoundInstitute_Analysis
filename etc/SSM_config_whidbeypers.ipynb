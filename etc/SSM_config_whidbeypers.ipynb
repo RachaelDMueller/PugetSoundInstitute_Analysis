{
 "cells": [
  {
   "cell_type": "markdown",
   "id": "884428f1-8543-4577-833d-b0fdfc0d707e",
   "metadata": {},
   "source": [
    "---\n",
    "# Configuration file for post-processing Salish Sea Model results\n",
    "# Setup for PERS conference presentation on Whidbey basin river loading influences\n",
    "---\n"
   ]
  },
  {
   "cell_type": "code",
   "execution_count": 1,
   "id": "e86bf7d2-e224-439c-8ed1-50d3d02fdbe6",
   "metadata": {},
   "outputs": [],
   "source": [
    "import sys\n",
    "import yaml\n",
    "import numpy\n",
    "%matplotlib inline\n",
    "import matplotlib.pyplot as plt"
   ]
  },
  {
   "cell_type": "markdown",
   "id": "b994034d-535b-4fca-afd8-7c17febe3a32",
   "metadata": {},
   "source": [
    "## Define main directory "
   ]
  },
  {
   "cell_type": "code",
   "execution_count": 2,
   "id": "0da387f4-de4e-432c-b707-0c15a0715336",
   "metadata": {},
   "outputs": [],
   "source": [
    "# Main dictionary used to output values to SSM_config.yaml\n",
    "ssm = {}\n",
    "case = \"whidbeypers\""
   ]
  },
  {
   "cell_type": "markdown",
   "id": "2f69dcae-9611-47ed-95e2-b6fbdd8d4569",
   "metadata": {},
   "source": [
    "## Model variable names for two versions of model output\n",
    "- The model output used in the bounding scenario runs names variables as \"Var_XX\". `model_tags` is a dictionary that relates variable names to the model output names.  i.e. ```ssm['var_name']['DO'] yields 'Var_10'```, which is the SSM variable name for \"DO\"\n",
    "- The output netcdf from Ben's C++ script yields the `name_list` of variables "
   ]
  },
  {
   "cell_type": "code",
   "execution_count": 3,
   "id": "14b053d8-b28f-4cf2-a67c-004763f275a4",
   "metadata": {},
   "outputs": [],
   "source": [
    "ssm['variables']={}\n",
    "\n",
    "# King County runs\n",
    "ssm['variables']['name_list']=['time','depth','DOXG','LDOC','B1','B2',\n",
    "                    'NH4','NO3','PO4','temp','salinity','RDOC','LPOC',\n",
    "                    'RPOC','TDIC','TALK','pH','pCO2'] "
   ]
  },
  {
   "cell_type": "markdown",
   "id": "3a56165f-6023-45d6-a681-f1e0e47a593a",
   "metadata": {},
   "source": [
    "## Create array of percentages for depth levels\n",
    "Multiply these values by the total depth of the water column to get the layer thickness for each model level. This layer thickness is used to calculate volume days.\n",
    "These values were provided by Su Kyong Yun in her script `volume_calculation.py` on 6/9/2022."
   ]
  },
  {
   "cell_type": "code",
   "execution_count": 4,
   "id": "4b6d4ae7-7279-40d7-be55-7f6a251c4938",
   "metadata": {},
   "outputs": [],
   "source": [
    "ssm['siglev_diff']=numpy.array(\n",
    "    [ 3.2,  5.7,  7.5,  8.9, 10.1, 11.1, 12.1, 13. , 13.8, 14.6]\n",
    ").tolist() #b/c safedump dosn't allow for objects\n",
    "# # Updated values given by Su Kyong August 10th, 2022, via Teams chat. \n",
    "# ssm['siglev_diff']=numpy.array(\n",
    "#     [3.2, 5.8, 7.4, 9, 9.8, 11.4, 11.8, 13.4, 13.4, 15]\n",
    "# ).tolist() #b/c safedump dosn't allow for objects"
   ]
  },
  {
   "cell_type": "code",
   "execution_count": 5,
   "id": "03ac1657-4bec-4cce-bd16-2cc0ac35b672",
   "metadata": {},
   "outputs": [
    {
     "data": {
      "text/plain": [
       "99.99999999999999"
      ]
     },
     "execution_count": 5,
     "metadata": {},
     "output_type": "execute_result"
    }
   ],
   "source": [
    "sum(ssm['siglev_diff'])"
   ]
  },
  {
   "cell_type": "markdown",
   "id": "809ac658-ce51-4fe1-b276-27126ce1a4c3",
   "metadata": {},
   "source": [
    "### Define WWTP and river names"
   ]
  },
  {
   "cell_type": "code",
   "execution_count": 6,
   "id": "f503b4cd-819d-4a7d-9f7f-e102692813f3",
   "metadata": {},
   "outputs": [],
   "source": [
    "# The following WWTP names are from the \"Table NLoading1\" tab of \n",
    "# https://uwnetid.sharepoint.com/:x:/r/sites/og_uwt_psi/_layouts/15/Doc.aspx?sourcedoc=%7B3788B09C-126F-40BF-86AF-22DEC185E831%7D&file=SOG_NB_Figures%26Tables.xlsx&action=default&mobileredirect=true\n",
    "\n",
    "# The two spaces in front of names reflects formatting of column names in \n",
    "# excel spreadsheet\n",
    "ssm['WWTP_names'] = [\n",
    "  \"  Coupeville\",\n",
    "  \"  Everett Snohomish\",\n",
    "  \"  La Conner\",\n",
    "  \"  Lake Stevens 002\",\n",
    "  \"  Langley\",\n",
    "  \"  Marysville\",\n",
    "  \"  Mt Vernon\",\n",
    "  \"  Mukilteo\",\n",
    "  \"  Oak Harbor Lagoon\",\n",
    "  \"  OF100\",\n",
    "  \"  Penn Cove\",\n",
    "  \"  Skagit County 2 Big Lake\",\n",
    "  \"  Snohomish\",\n",
    "  \"  Stanwood\",\n",
    "  \"  Swinomish\",\n",
    "  \"  Tulalip\",\n",
    "  \"  Warm Beach Campground\"\n",
    "]\n",
    "\n",
    "# Some rivers discharge into more than one node and have nutrient\n",
    "# loading in two columns (namely: Nooksack and Samish Bell).\n",
    "# Nutrient loading for these rivers is the sum of the columns\n",
    "ssm['river_names'] = [\n",
    "  \"  Skagit R_1\",\n",
    "  \"  Skagit R_2\",\n",
    "  \"  Snohomish R_1\",\n",
    "  \"  Snohomish R_2\",\n",
    "  \"  Stillaguamish R_1\",\n",
    "  \"  Stillaguamish R_2\",\n",
    "  \"  Whidbey east\"\n",
    "]\n",
    "\n",
    "ssm['unique_river_names']=[\n",
    "    \"Skagit\",\n",
    "    \"Snohomish\",\n",
    "    \"Stillaguamish\",\n",
    "    \"Whidbey east\"\n",
    "]"
   ]
  },
  {
   "cell_type": "markdown",
   "id": "ef51e859-933b-4056-be4d-657b02eb8704",
   "metadata": {},
   "source": [
    "## Define colors used for color plots\n",
    "See [this cheatsheet](https://matplotlib.org/cheatsheets/_images/cheatsheets-2.png) or [this list of named colors](https://matplotlib.org/stable/gallery/color/named_colors.html) for more color options"
   ]
  },
  {
   "cell_type": "code",
   "execution_count": 7,
   "id": "81f5f15a-4885-4bc4-ad25-c723fb06fbaa",
   "metadata": {
    "tags": []
   },
   "outputs": [
    {
     "name": "stdout",
     "output_type": "stream",
     "text": [
      "purple\n",
      "teal\n",
      "royalblue\n",
      "slategrey\n",
      "darkslategrey\n",
      "steelblue\n",
      "royalblue\n",
      "midnightblue\n"
     ]
    },
    {
     "data": {
      "text/plain": [
       "<matplotlib.legend.Legend at 0x1528480ff010>"
      ]
     },
     "execution_count": 7,
     "metadata": {},
     "output_type": "execute_result"
    },
    {
     "name": "stderr",
     "output_type": "stream",
     "text": [
      "findfont: Font family ['arial'] not found. Falling back to DejaVu Sans.\n",
      "findfont: Font family ['arial'] not found. Falling back to DejaVu Sans.\n"
     ]
    },
    {
     "data": {
      "image/png": "[encoded data removed]",
      "text/plain": [
       "<Figure size 432x288 with 1 Axes>"
      ]
     },
     "metadata": {
      "needs_background": "light"
     },
     "output_type": "display_data"
    }
   ],
   "source": [
    "ssm['line']={}\n",
    "ssm['line']['color']={}\n",
    "ssm['line']['width']={}\n",
    "ssm['line']['style']={}\n",
    "\n",
    "ssm['line']['color']['wqm_baseline'] = 'purple'\n",
    "ssm['line']['color']['wqm_reference'] = 'teal'\n",
    "ssm['line']['color']['deviation'] = 'royalblue'\n",
    "ssm['line']['color']['3c'] = 'slategrey'\n",
    "ssm['line']['color']['3l'] = 'darkslategrey'\n",
    "ssm['line']['color']['3m'] = 'steelblue'\n",
    "ssm['line']['color']['3n'] = 'royalblue'\n",
    "ssm['line']['color']['3o'] = 'midnightblue'\n",
    "\n",
    "ssm['line']['width']['wqm_baseline'] = 1.5\n",
    "ssm['line']['width']['wqm_reference'] = 1.5\n",
    "ssm['line']['width']['deviation'] = 1\n",
    "ssm['line']['width']['3c'] = 2\n",
    "ssm['line']['width']['3l'] = 2\n",
    "ssm['line']['width']['3m'] = 2\n",
    "ssm['line']['width']['3n'] = 2\n",
    "ssm['line']['width']['3o'] = 2\n",
    "\n",
    "\n",
    "ssm['line']['style']['wqm_baseline'] = 'solid'\n",
    "ssm['line']['style']['wqm_reference'] = 'solid'\n",
    "ssm['line']['style']['deviation'] = 'solid'\n",
    "ssm['line']['style']['3l']='solid'\n",
    "ssm['line']['style']['3c']='solid'\n",
    "ssm['line']['style']['3m']='dashdot'\n",
    "ssm['line']['style']['3n']='dashed'\n",
    "ssm['line']['style']['3o']= 'dashdot'\n",
    "\n",
    "# plot these color options\n",
    "fig = plt.figure()\n",
    "ax = plt.axes()\n",
    "x = numpy.linspace(0, 1, 10)\n",
    "for idx,run in enumerate(ssm['line']['color']):\n",
    "    print(ssm['line']['color'][run])\n",
    "    ax.plot(x,idx*numpy.ones(len(x)),\n",
    "            color=ssm['line']['color'][run],\n",
    "            linestyle=ssm['line']['style'][run],\n",
    "            linewidth=ssm['line']['width'][run],\n",
    "            label=run)\n",
    "ax.legend(loc='upper right',bbox_to_anchor=(1.4,1))"
   ]
  },
  {
   "cell_type": "markdown",
   "id": "bf6799ef-c620-4eee-9aa3-765a2ca57801",
   "metadata": {
    "tags": []
   },
   "source": [
    "## Define black and white line-style formatting"
   ]
  },
  {
   "cell_type": "code",
   "execution_count": 8,
   "id": "7af1162a-6db7-4203-8026-e4bc5e0d6b95",
   "metadata": {},
   "outputs": [],
   "source": [
    "ssm['bw_line']={}\n",
    "ssm['bw_line']['color']={}\n",
    "ssm['bw_line']['width']={}\n",
    "ssm['bw_line']['style']={}\n",
    "# All scenarios\n",
    "ssm['bw_line']['color']['scenario']='grey'\n",
    "ssm['bw_line']['width']['scenario']=1.5\n",
    "ssm['bw_line']['style']['scenario']='dashed'\n",
    "# 2014 Baseline condition\n",
    "ssm['bw_line']['color']['baseline']='black'\n",
    "ssm['bw_line']['width']['baseline']=1\n",
    "ssm['bw_line']['style']['baseline']='solid'\n",
    "# Reference condition\n",
    "ssm['bw_line']['color']['reference']='black'\n",
    "ssm['bw_line']['width']['reference']=1.5\n",
    "ssm['bw_line']['style']['reference']='dashdot'"
   ]
  },
  {
   "cell_type": "markdown",
   "id": "cf48f35b-c959-40d0-80db-6b164c30905d",
   "metadata": {
    "tags": []
   },
   "source": [
    "## Define colors for different parameters"
   ]
  },
  {
   "cell_type": "code",
   "execution_count": 9,
   "id": "79064201-1c47-41fe-a69f-34e0524f8bae",
   "metadata": {},
   "outputs": [],
   "source": [
    "ssm['bar']={}\n",
    "ssm['bar']['colors']={}\n",
    "ssm['bar']['colors']['DOXG']='deepskyblue'\n",
    "ssm['bar']['colors']['NO3']='y'\n",
    "ssm['bar']['colors']['NH4']='darkolivegreen'\n",
    "\n",
    "ssm['region']={}\n",
    "ssm['region']['colors']={}\n",
    "ssm['region']['colors']['Hood']='darkseagreen'\n",
    "ssm['region']['colors']['Main']='mediumpurple'\n",
    "ssm['region']['colors']['SJF_Admiralty']='lightsteelblue'\n",
    "ssm['region']['colors']['SOG_Bellingham']='rosybrown'\n",
    "ssm['region']['colors']['South_Sound']='c'\n",
    "ssm['region']['colors']['Whidbey']='cornflowerblue'\n",
    "ssm['region']['colors']['ALL_REGIONS']='black'"
   ]
  },
  {
   "cell_type": "markdown",
   "id": "cd920a2f-7edd-4491-b708-0cd88d029a27",
   "metadata": {},
   "source": [
    "## Define location(s) for model output and graphics files"
   ]
  },
  {
   "cell_type": "markdown",
   "id": "0f384a53-f3d3-4f58-8e5f-598af9a8363f",
   "metadata": {},
   "source": [
    "## Path definitions"
   ]
  },
  {
   "cell_type": "code",
   "execution_count": 10,
   "id": "400adbf8-72db-4225-b557-dc867ba9efe6",
   "metadata": {},
   "outputs": [],
   "source": [
    "# directory for Su Kyong's runs\n",
    "root_output = '/mmfs1/gscratch/ssmc/USRS/PSI/Sukyong/kingcounty/'\n",
    "\n",
    "# directory for Rachael's runs\n",
    "root_output_rdm = (\n",
    "    \"/mmfs1/gscratch/ssmc/USRS/PSI/Rachael/projects/KingCounty/SalishSeaModel/\"\n",
    ")\n",
    "#'/mmfs1/gscratch/ssmc/USRS/PSI/Rachael/projects/KingCounty/SalishSeaModel-analysis/SSM_model_output'\n",
    "\n",
    "ssm['paths']={}\n",
    "ssm['paths']['model_output']={}\n",
    "# cases\n",
    "ssm['paths']['model_output'][case] = [\n",
    "    root_output+'wqm_baseline/ssm_output.nc',\n",
    "    root_output+'wqm_reference/ssm_output.nc',\n",
    "    root_output+'3c/ssm_output.nc',\n",
    "    root_output_rdm+'3l/hotstart_rdm.nc',\n",
    "    root_output+'3m/ssm_output.nc',\n",
    "    root_output_rdm+'3n/ssm_hotstart_3n.nc',\n",
    "    root_output_rdm+'3o/ssm_hotstart_3o.nc'\n",
    "]\n",
    "\n",
    "ssm['paths']['processed_output'] = ( \n",
    "    '/mmfs1/gscratch/ssmc/USRS/PSI/Rachael/projects/KingCounty/data/'\n",
    ")\n",
    "\n",
    "# Define directory for saving graphics output\n",
    "ssm['paths']['graphics'] = (\n",
    "    '/mmfs1/gscratch/ssmc/USRS/PSI/Rachael/projects/KingCounty/graphics/'\n",
    ")\n",
    "\n",
    "# Define directory for saving graphics output\n",
    "ssm['paths']['movies'] = (\n",
    "    '/mmfs1/gscratch/ssmc/USRS/PSI/Rachael/projects/KingCounty/movies/'\n",
    ")\n",
    "\n",
    "# Define location and name of Shapefile to use for planar graphics\n",
    "# This version corrects typos in region names and imposes a uniform format for \n",
    "# region names\n",
    "ssm['paths']['shapefile'] = (\n",
    "    '/mmfs1/gscratch/ssmc/USRS/PSI/Rachael/projects/KingCounty/SalishSeaModel-grid/'\\\n",
    "    'shapefiles/SSMGrid2_tce_ecy_node_info_v2_10102022/SSMGrid2_tce_ecy_node_info_v2_10102022.shp' \n",
    ")\n",
    "# ssm['paths']['shapefile'] = (\n",
    "#     '/mmfs1/gscratch/ssmc/USRS/PSI/Rachael/projects/KingCounty/SalishSeaModel-analysis/'\\\n",
    "#     'shapefiles/SSMGrid2_tce_ecy_node_info_v2_09292022/SSMGrid2_tce_ecy_node_info_v2_09292022.shp'\n",
    "# )\n",
    "\n",
    "# Nutrient loading input files\n",
    "ssm['paths']['nutrient_loading_inputs']={\n",
    "    'wqm_baseline':root_output+'WQM/WQM/hotstart/inputs/ssm_pnt_wq.dat',\n",
    "    'wqm_reference':root_output+'WQM_REF/WQM_REF/hotstart/inputs/ssm_pnt_wq.dat',\n",
    "    '3c':root_output+'3c/inputs/ssm_pnt_wq.dat',\n",
    "    '3l':root_output_rdm+'3l/hotstart/inputs/ssm_pnt_wq.dat',\n",
    "    '3m':root_output+'3m/inputs/ssm_pnt_wq.dat',\n",
    "    '3n':root_output_rdm+'3n/hotstart/inputs/ssm_pnt_wq.dat',\n",
    "    '3o':root_output_rdm+'3o/hotstart/inputs/ssm_pnt_wq.dat',\n",
    "}"
   ]
  },
  {
   "cell_type": "markdown",
   "id": "041aeb1e-1e79-473a-909f-b37cd65c2373",
   "metadata": {
    "tags": []
   },
   "source": [
    "## Run information"
   ]
  },
  {
   "cell_type": "code",
   "execution_count": 11,
   "id": "ca0da725-e90d-4b56-984e-d647fad227cf",
   "metadata": {},
   "outputs": [],
   "source": [
    "ssm['run_information']={}\n",
    "ssm['run_information']['run_tag']={}\n",
    "\n",
    "# Number of spin-up days removed from model output in post-processing\n",
    "ssm['run_information']['spin_up_days']=5\n",
    "\n",
    "# Run descriptions and names\n",
    "ssm['run_information']['baseline']='wqm_baseline'\n",
    "ssm['run_information']['reference']='wqm_reference'\n",
    "ssm['run_information']['whidbeypers_rivers']={\n",
    "    'wqm_baseline':'2014 conditions',\n",
    "    'wqm_reference':'Reference conditions',\n",
    "    '3c':'Wr1',\n",
    "    '3l':'Wr2',\n",
    "    '3m':'Wr3',\n",
    "    '3n':'Wr4',\n",
    "    '3o':'Wr5'\n",
    "}\n",
    "\n",
    "ssm['run_information']['run_description_short']={}\n",
    "ssm['run_information']['run_description_short'][case]={\n",
    "    'wqm_baseline':'2014 conditions',\n",
    "    'wqm_reference':'Reference',\n",
    "    '3c':'No Whidbey Rivers',\n",
    "    '3l':'0.5x Industrial River Load',\n",
    "    '3m':'2x 2014 River Load',\n",
    "    '3n':'No Snohomish River',\n",
    "    '3o':'0.5x Snohomish River'\n",
    "}\n",
    "\n",
    "ssm['run_information']['run_tag'][case]={\n",
    "    'wqm_baseline':'2014 Conditions',\n",
    "    'wqm_reference':'Reference',\n",
    "    '3c':'Wr1',\n",
    "    '3l':'Wr2',\n",
    "    '3m':'Wr3',\n",
    "    '3n':'Wr4',\n",
    "    '3o':'Wr5'\n",
    "}"
   ]
  },
  {
   "cell_type": "code",
   "execution_count": 12,
   "id": "72a3f48e-0f08-4392-9842-c5ea46fed2bc",
   "metadata": {},
   "outputs": [
    {
     "data": {
      "text/plain": [
       "['wqm_baseline', 'wqm_reference', '3c', '3l', '3m', '3n', '3o']"
      ]
     },
     "execution_count": 12,
     "metadata": {},
     "output_type": "execute_result"
    }
   ],
   "source": [
    "[*ssm['run_information']['run_tag'][case]]"
   ]
  },
  {
   "cell_type": "code",
   "execution_count": 13,
   "id": "8b18fca8-61fd-4b09-93bd-f8c17521a22e",
   "metadata": {},
   "outputs": [],
   "source": [
    "tag_list = [ssm['run_information']['run_tag'][case][tag] for tag in [*ssm['run_information']['run_tag'][case]]]"
   ]
  },
  {
   "cell_type": "code",
   "execution_count": 14,
   "id": "9e92bcaf-e4b1-4292-9f13-d412e25e59d4",
   "metadata": {},
   "outputs": [],
   "source": [
    "tag_list.remove('Reference')"
   ]
  },
  {
   "cell_type": "code",
   "execution_count": 15,
   "id": "b35ac422-7fb1-4751-99e2-bd39875eb851",
   "metadata": {},
   "outputs": [
    {
     "data": {
      "text/plain": [
       "['wqm_baseline', 'wqm_reference', '3c', '3l', '3m', '3n', '3o']"
      ]
     },
     "execution_count": 15,
     "metadata": {},
     "output_type": "execute_result"
    }
   ],
   "source": [
    "[*ssm['run_information']['run_description_short'][case]]"
   ]
  },
  {
   "cell_type": "code",
   "execution_count": 16,
   "id": "8db5f4e5-b2c7-4ee9-9f62-8038cf60f684",
   "metadata": {},
   "outputs": [
    {
     "data": {
      "text/plain": [
       "['whidbeypers']"
      ]
     },
     "execution_count": 16,
     "metadata": {},
     "output_type": "execute_result"
    }
   ],
   "source": [
    "[*ssm['run_information']['run_description_short']]"
   ]
  },
  {
   "cell_type": "markdown",
   "id": "02dc26bc-8033-4f46-a8d2-057a4dc066da",
   "metadata": {},
   "source": [
    "## Save specifications to file\n",
    "-Use `sort_keys=False` to preserve dictionary order"
   ]
  },
  {
   "cell_type": "code",
   "execution_count": 17,
   "id": "38fca57b-cbca-44ce-a480-0c5b2804b6ec",
   "metadata": {},
   "outputs": [],
   "source": [
    "with open('SSM_config_whidbeypers.yaml', 'w') as file:\n",
    "    document = yaml.safe_dump(ssm, file,sort_keys=False)"
   ]
  },
  {
   "cell_type": "code",
   "execution_count": 18,
   "id": "896ceab8-0b9f-4117-894a-a4b0b4151c00",
   "metadata": {},
   "outputs": [
    {
     "data": {
      "text/plain": [
       "{'wqm_baseline': '2014 Conditions',\n",
       " 'wqm_reference': 'Reference',\n",
       " '3c': 'Wr1',\n",
       " '3l': 'Wr2',\n",
       " '3m': 'Wr3',\n",
       " '3n': 'Wr4',\n",
       " '3o': 'Wr5'}"
      ]
     },
     "execution_count": 18,
     "metadata": {},
     "output_type": "execute_result"
    }
   ],
   "source": [
    "ssm['run_information']['run_tag'][case]"
   ]
  },
  {
   "cell_type": "code",
   "execution_count": null,
   "id": "4efa80e7-6933-4570-ad6c-107c2acba1d2",
   "metadata": {},
   "outputs": [],
   "source": []
  }
 ],
 "metadata": {
  "kernelspec": {
   "display_name": "Python 3 (ipykernel)",
   "language": "python",
   "name": "python3"
  },
  "language_info": {
   "codemirror_mode": {
    "name": "ipython",
    "version": 3
   },
   "file_extension": ".py",
   "mimetype": "text/x-python",
   "name": "python",
   "nbconvert_exporter": "python",
   "pygments_lexer": "ipython3",
   "version": "3.10.4"
  }
 },
 "nbformat": 4,
 "nbformat_minor": 5
}
