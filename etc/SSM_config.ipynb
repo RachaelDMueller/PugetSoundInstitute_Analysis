{
 "cells": [
  {
   "cell_type": "markdown",
   "id": "884428f1-8543-4577-833d-b0fdfc0d707e",
   "metadata": {},
   "source": [
    "---\n",
    "# Create configuration file for working with Salish Sea Model results\n",
    "\n",
    "---\n"
   ]
  },
  {
   "cell_type": "code",
   "execution_count": 1,
   "id": "e86bf7d2-e224-439c-8ed1-50d3d02fdbe6",
   "metadata": {},
   "outputs": [],
   "source": [
    "import sys\n",
    "import yaml\n",
    "import numpy\n",
    "%matplotlib inline\n",
    "import matplotlib.pyplot as plt"
   ]
  },
  {
   "cell_type": "markdown",
   "id": "b994034d-535b-4fca-afd8-7c17febe3a32",
   "metadata": {},
   "source": [
    "## Define main directory "
   ]
  },
  {
   "cell_type": "code",
   "execution_count": 2,
   "id": "0da387f4-de4e-432c-b707-0c15a0715336",
   "metadata": {},
   "outputs": [],
   "source": [
    "# Main dictionary used to output values to SSM_config.yaml\n",
    "ssm = {}"
   ]
  },
  {
   "cell_type": "markdown",
   "id": "2f69dcae-9611-47ed-95e2-b6fbdd8d4569",
   "metadata": {},
   "source": [
    "## Model variable names for two versions of model output\n",
    "- The model output used in the bounding scenario runs names variables as \"Var_XX\". `model_tags` is a dictionary that relates variable names to the model output names.  i.e. ```ssm['var_name']['DO'] yields 'Var_10'```, which is the SSM variable name for \"DO\"\n",
    "- The output netcdf from Ben's C++ script yields the `name_list` of variables "
   ]
  },
  {
   "cell_type": "code",
   "execution_count": 3,
   "id": "14b053d8-b28f-4cf2-a67c-004763f275a4",
   "metadata": {},
   "outputs": [],
   "source": [
    "ssm['variables']={}\n",
    "\n",
    "# Bounding Scenario runs\n",
    "variable_name_list=['DO','NH3','NO3','NPP','Temp','Salinity']\n",
    "parameter_ID_list=['Var_10','Var_14','Var_15','Var_17','Var_18','Var_19']\n",
    "ssm['variables']['model_tags'] = {\n",
    "    variable_name_list[i]: parameter_ID_list[i] \\\n",
    "    for i in range(len(variable_name_list))\n",
    "}\n",
    "\n",
    "# King County runs\n",
    "ssm['variables']['name_list']=['time','depth','DOXG','LDOC','B1','B2',\n",
    "                    'NH4','NO3','PO4','temp','salinity','RDOC','LPOC',\n",
    "                    'RPOC','TDIC','TALK','pH','pCO2'] "
   ]
  },
  {
   "cell_type": "markdown",
   "id": "3a56165f-6023-45d6-a681-f1e0e47a593a",
   "metadata": {},
   "source": [
    "## Create array of percentages for depth levels\n",
    "Multiply these values by the total depth of the water column to get the layer thickness for each model level. This layer thickness is used to calculate volume days.\n",
    "These values were provided by Su Kyong Yun in her script `volume_calculation.py` on 6/9/2022."
   ]
  },
  {
   "cell_type": "code",
   "execution_count": 4,
   "id": "4b6d4ae7-7279-40d7-be55-7f6a251c4938",
   "metadata": {},
   "outputs": [],
   "source": [
    "ssm['siglev_diff']=numpy.array(\n",
    "    [ 3.2,  5.7,  7.5,  8.9, 10.1, 11.1, 12.1, 13. , 13.8, 14.6]\n",
    ").tolist() #b/c savedump dosn't allow for objects"
   ]
  },
  {
   "cell_type": "markdown",
   "id": "03418e04-0334-459d-b7ba-567eb574c907",
   "metadata": {},
   "source": [
    "## Create dictionary for station locations\n",
    "My code hasn't yet been updated to utilize this dictionary but I'm placing it here for the next round of upgrades and for archive/reference purposes"
   ]
  },
  {
   "cell_type": "code",
   "execution_count": 5,
   "id": "dcf7448b-5949-4ee4-ae08-51f5e5d883e3",
   "metadata": {},
   "outputs": [],
   "source": [
    "ssm['stations']={\n",
    "    'NOAA_46118':[48.724, -122.576],\n",
    "    'BHAM-Bay':[48.767422,-122.575792],\n",
    "    'Birch Bay':[48.898880,-122.781905],\n",
    "    'Birch Bay (Point Whitehorn)': [48.895273,-122.805067],\n",
    "    'Cherry Point': [48.868451,-122.780400],\n",
    "    'Eastsound':[48.684406,-122.898953],\n",
    "    'Quartermaster Harbor': [47.3793, -122.462]\n",
    "}"
   ]
  },
  {
   "cell_type": "markdown",
   "id": "ef51e859-933b-4056-be4d-657b02eb8704",
   "metadata": {},
   "source": [
    "## Define colors used for plotting\n",
    "See [this cheatsheet](https://matplotlib.org/cheatsheets/_images/cheatsheets-2.png) or [this list of named colors](https://matplotlib.org/stable/gallery/color/named_colors.html) for more color options\n",
    "\n",
    "Run list will include:\n",
    "1. WWTP\n",
    "    - a. **Baseline**: all plants on (using output data set for Existing, Ecology (2021))\n",
    "    - b. **no SOG/NB WWTP source**: All SOG/NB WWTPs plants off (data from Scenario 4, Ecology (2021)\n",
    "    - c. **BHAM-only**: Shutting off all small WWTP plants (BNR <100) = all except Bellngham\n",
    "    - e. **no BHAM**: Shutting off only the 1 medium plant (BNR >100) (Bellingham).\n",
    "2. Rivers\n",
    "    - a. **no SOB/NB riverine source**: All river inputs from watershed loading to SOG/NB off (data from Scenario 4, Ecology (2021).\n",
    "    - b. **0.5x riverine** loading for those rivers entering SOG/NB\n",
    "    - c. **2x  riverine** loading for those rivers entering SOG/NB"
   ]
  },
  {
   "cell_type": "code",
   "execution_count": 6,
   "id": "81f5f15a-4885-4bc4-ad25-c723fb06fbaa",
   "metadata": {},
   "outputs": [
    {
     "name": "stdout",
     "output_type": "stream",
     "text": [
      "darkviolet\n",
      "royalblue\n",
      "teal\n",
      "darkgoldenrod\n",
      "darkslategrey\n",
      "steelblue\n",
      "sienna\n",
      "brown\n"
     ]
    },
    {
     "data": {
      "text/plain": [
       "<matplotlib.legend.Legend at 0x14ef2d1b0820>"
      ]
     },
     "execution_count": 6,
     "metadata": {},
     "output_type": "execute_result"
    },
    {
     "name": "stderr",
     "output_type": "stream",
     "text": [
      "findfont: Font family ['arial'] not found. Falling back to DejaVu Sans.\n",
      "findfont: Font family ['arial'] not found. Falling back to DejaVu Sans.\n"
     ]
    },
    {
     "data": {
      "image/png": "[encoded data removed]",
      "text/plain": [
       "<Figure size 432x288 with 1 Axes>"
      ]
     },
     "metadata": {
      "needs_background": "light"
     },
     "output_type": "display_data"
    }
   ],
   "source": [
    "ssm['line']={}\n",
    "ssm['line']['color']={}\n",
    "ssm['line']['width']={}\n",
    "ssm['line']['style']={}\n",
    "\n",
    "ssm['line']['color']['wqm_baseline'] = 'darkviolet'\n",
    "ssm['line']['color']['deviation'] = 'royalblue'\n",
    "ssm['line']['color']['1b_all_sog_wwtp_off']='teal'\n",
    "ssm['line']['color']['1c_all_sog_riv_off']= 'darkgoldenrod'\n",
    "ssm['line']['color']['1d_small_sog_wwtp_off']='darkslategrey'\n",
    "ssm['line']['color']['1e_med_sog_wwtp_off']='steelblue'\n",
    "ssm['line']['color']['2a_sog_river_0.5times']= 'sienna'\n",
    "ssm['line']['color']['2b_sog_river_2times']= 'brown'\n",
    "\n",
    "ssm['line']['width']['wqm_baseline'] = 1.5\n",
    "ssm['line']['width']['deviation'] = 1\n",
    "ssm['line']['width']['1b_all_sog_wwtp_off']=1.5\n",
    "ssm['line']['width']['1c_all_sog_riv_off']= 1.5\n",
    "ssm['line']['width']['1d_small_sog_wwtp_off']=2.0\n",
    "ssm['line']['width']['1e_med_sog_wwtp_off']=3.0\n",
    "ssm['line']['width']['2a_sog_river_0.5times']= 2.0\n",
    "ssm['line']['width']['2b_sog_river_2times']= 3.0\n",
    "\n",
    "ssm['line']['style']['wqm_baseline'] = 'solid'\n",
    "ssm['line']['style']['deviation'] = 'solid'\n",
    "ssm['line']['style']['1b_all_sog_wwtp_off']='solid'\n",
    "ssm['line']['style']['1c_all_sog_riv_off']= 'solid'\n",
    "ssm['line']['style']['1d_small_sog_wwtp_off']='dashdot'\n",
    "ssm['line']['style']['1e_med_sog_wwtp_off']='dashed'\n",
    "ssm['line']['style']['2a_sog_river_0.5times']= 'dashdot'\n",
    "ssm['line']['style']['2b_sog_river_2times']= 'dashed'\n",
    "# plot these color options\n",
    "fig = plt.figure()\n",
    "ax = plt.axes()\n",
    "x = numpy.linspace(0, 1, 10)\n",
    "for idx,case in enumerate(ssm['line']['color']):\n",
    "    print(ssm['line']['color'][case])\n",
    "    ax.plot(x,idx*numpy.ones(len(x)),\n",
    "            color=ssm['line']['color'][case],\n",
    "            linestyle=ssm['line']['style'][case],\n",
    "            linewidth=ssm['line']['width'][case],\n",
    "            label=case)\n",
    "ax.legend(loc='upper right',bbox_to_anchor=(1.4,1))"
   ]
  },
  {
   "cell_type": "markdown",
   "id": "cd920a2f-7edd-4491-b708-0cd88d029a27",
   "metadata": {},
   "source": [
    "## Define location(s) for model output and graphics files"
   ]
  },
  {
   "cell_type": "code",
   "execution_count": 7,
   "id": "69c8c018-99e5-410b-a202-54b4341b64ac",
   "metadata": {},
   "outputs": [],
   "source": [
    "# dictionary of output_path indices by run type for code readability\n",
    "# still a work in progress for how I will define/use this dictionary\n",
    "ssm['run_index']={\n",
    "    'Baseline':0,\n",
    "    'No SOG/NB WWTP':1,\n",
    "    'No SOG/NB River Loading':2,\n",
    "    'No BNR<100 WWTP':3,\n",
    "    'No BNR>100 WWTP':4,\n",
    "    '0.5x SOG/NB River Loading':5,\n",
    "    '2.0x SOG/NB River Loading':6\n",
    "}\n",
    "\n",
    "ssm['run_tag']={\n",
    "    'Baseline':0,\n",
    "    'No_SOGNB_WWTP':1,\n",
    "    'No_SOGNB_RiverLoading':2,\n",
    "    'No_lt100_WWTP':3,\n",
    "    'No_gt100_WWTP':4,\n",
    "    '0p5x_SOGNB_RiverLoading':5,\n",
    "    '2p0x_SOGNB_RiverLoading':6\n",
    "}"
   ]
  },
  {
   "cell_type": "markdown",
   "id": "0f384a53-f3d3-4f58-8e5f-598af9a8363f",
   "metadata": {},
   "source": [
    "## Path definitions"
   ]
  },
  {
   "cell_type": "code",
   "execution_count": 8,
   "id": "400adbf8-72db-4225-b557-dc867ba9efe6",
   "metadata": {},
   "outputs": [],
   "source": [
    "root_output = '/mmfs1/gscratch/ssmc/USRS/PSI/Sukyong/kingcounty/'\n",
    "ssm['paths']={}\n",
    "ssm['paths']['model_output'] = [\n",
    "    root_output+'wqm_baseline/ssm_output.nc',\n",
    "     root_output+'1b_all_sog_wwtp_off/ssm_output.nc',\n",
    "     root_output+'1c_all_sog_riv_off/ssm_output.nc',\n",
    "     root_output+'1d_small_sog_wwtp_off/ssm_output.nc',\n",
    "     root_output+'1e_med_sog_wwtp_off/ssm_output.nc',\n",
    "     root_output+'2a_sog_river_0.5times/ssm_output.nc',\n",
    "     root_output+ '2b_sog_river_2times/ssm_output.nc'   \n",
    "    ]\n",
    "ssm['paths']['processed_output'] = ( \n",
    "    '/mmfs1/gscratch/ssmc/USRS/PSI/Rachael/projects/KingCounty/data/'\n",
    ")\n",
    "# Define location and name of Shapefile to use for planar graphics\n",
    "ssm['paths']['shapefile'] = (\n",
    "    '/mmfs1/gscratch/ssmc/USRS/PSI/Rachael/projects/KingCounty/KingCounty-Rachael/'\\\n",
    "    'kevin_shapefiles/SSMGrid2_062822/SSMGrid2_062822.shp'\n",
    ")\n",
    "# Define directory for saving graphics output\n",
    "ssm['paths']['graphics'] = (\n",
    "    '/mmfs1/gscratch/ssmc/USRS/PSI/Rachael/projects/KingCounty/graphics/'\n",
    ")"
   ]
  },
  {
   "cell_type": "markdown",
   "id": "041aeb1e-1e79-473a-909f-b37cd65c2373",
   "metadata": {
    "tags": []
   },
   "source": [
    "## Run information"
   ]
  },
  {
   "cell_type": "code",
   "execution_count": 9,
   "id": "ca0da725-e90d-4b56-984e-d647fad227cf",
   "metadata": {},
   "outputs": [],
   "source": [
    "ssm['run_information']={}\n",
    "ssm['run_information']['baseline']='wqm_baseline'\n",
    "ssm['run_information']['run_description']={\n",
    "    'wqm_baseline':'Baseline',\n",
    "    '1b_all_sog_wwtp_off':'1b: No SOG/NB WWTP',\n",
    "    '1c_all_sog_riv_off':'1c: No SOG/NB River Loading',\n",
    "    '1d_small_sog_wwtp_off':'1d: No SOG/NB WWTP<100',\n",
    "    '1e_med_sog_wwtp_off': '1e: No SOG/NB WWTP>100',\n",
    "    '2a_sog_river_0.5times':'2a: 0.5x(River Loading)\\nin SOG/NB',\n",
    "    '2b_sog_river_2times':'2b: 2.0x(River Loading)\\nin SOG/NB'\n",
    "}\n",
    "ssm['run_information']['run_tag']={\n",
    "    'wqm_baseline':'Baseline',\n",
    "    '1b_all_sog_wwtp_off':'1b',\n",
    "    '1c_all_sog_riv_off':'1c',\n",
    "    '1d_small_sog_wwtp_off':'1d',\n",
    "    '1e_med_sog_wwtp_off': '1e',\n",
    "    '2a_sog_river_0.5times':'2a',\n",
    "    '2b_sog_river_2times':'2b'\n",
    "}"
   ]
  },
  {
   "cell_type": "markdown",
   "id": "7f098c7c-e17e-4cc2-966f-2a082c506730",
   "metadata": {},
   "source": [
    "### Keeping this next section for now, for reference"
   ]
  },
  {
   "cell_type": "code",
   "execution_count": 10,
   "id": "b9fab808-5915-495e-8476-2dce94276318",
   "metadata": {},
   "outputs": [],
   "source": [
    "# # ~~~ BEGIN REMOVE ~~~\n",
    "# root_output = '/mmfs1/gscratch/ssmc/USRS/PSI/Adi/BS_WQM/'\n",
    "# ssm['output_paths'] = [\n",
    "#     root_output+'2014_SSM4_WQ_exist_orig/hotstart/outputs',\n",
    "#      root_output+'2014_SSM4_WQ_ref_orig/hotstart/outputs',\n",
    "#      root_output+'2014_SSM4_WQ_rvr0.5_reg/hotstart/outputs',\n",
    "#      root_output+'2014_SSM4_WQ_wwtp0.0_reg/hotstart/outputs',\n",
    "#      root_output+'2014_SSM4_WQ_wwtp1.5_reg/hotstart/outputs',\n",
    "#      root_output+'2014_SSM4_WQ_wwtp0.5_reg/hotstart/outputs'\n",
    "#     ] \n",
    "# # dictionary of output_path indices by run type for code readability\n",
    "# # still a work in progress for how I will define/use this dictionary\n",
    "# ssm['run_index']={\n",
    "#     'deviation':0,\n",
    "#     'baseline':1,\n",
    "#     'existing':0,\n",
    "#     'reference':1\n",
    "#}\n",
    "\n",
    "# ssm['output_paths'] = [\n",
    "#     root_output+'wqm_baseline/ssm_output.nc',\n",
    "#      root_output+'1b_all_sog_wwtp_off/ssm_output.nc',\n",
    "#      root_output+'1c_all_sog_riv_off/ssm_output.nc',\n",
    "#      root_output+'1d_small_sog_wwtp_off/ssm_output.nc',\n",
    "#      root_output+'1e_med_sog_wwtp_off/ssm_output.nc',\n",
    "#      root_output+'2a_sog_river_0.5times/ssm_output.nc',\n",
    "#      root_output+ '2b_sog_river_2times/ssm_output.nc'   \n",
    "#     ]\n",
    "# ssm['processed_netcdf_path'] = [\n",
    "#     '/mmfs1/gscratch/ssmc/USRS/PSI/Rachael/projects/KingCounty/data/slurm_array/'\n",
    "# ]\n",
    "# # Define location and name of Shapefile to use for planar graphics\n",
    "# ssm['shapefile_path'] = (\n",
    "#     '/mmfs1/gscratch/ssmc/USRS/PSI/Rachael/projects/KingCounty/KingCounty-Rachael/'\\\n",
    "#     'kevin_shapefiles/SSMGrid2_062822/SSMGrid2_062822.shp'\n",
    "# )\n",
    "# # Define directory for saving graphics output\n",
    "# ssm['root_graphics'] = (\n",
    "#     '/mmfs1/gscratch/ssmc/USRS/PSI/Rachael/graphics'\n",
    "# )\n",
    "# # ~~~ END REMOVE ~~~~"
   ]
  },
  {
   "cell_type": "markdown",
   "id": "02dc26bc-8033-4f46-a8d2-057a4dc066da",
   "metadata": {},
   "source": [
    "## Save specifications to file\n",
    "-Use `sort_keys=False` to preserve dictionary order"
   ]
  },
  {
   "cell_type": "code",
   "execution_count": 11,
   "id": "38fca57b-cbca-44ce-a480-0c5b2804b6ec",
   "metadata": {},
   "outputs": [],
   "source": [
    "with open('SSM_config.yaml', 'w') as file:\n",
    "    document = yaml.safe_dump(ssm, file,sort_keys=True)"
   ]
  },
  {
   "cell_type": "code",
   "execution_count": null,
   "id": "4dbc779d-089a-47a0-8d02-5df341a0f2d9",
   "metadata": {},
   "outputs": [],
   "source": []
  }
 ],
 "metadata": {
  "kernelspec": {
   "display_name": "Python 3 (ipykernel)",
   "language": "python",
   "name": "python3"
  },
  "language_info": {
   "codemirror_mode": {
    "name": "ipython",
    "version": 3
   },
   "file_extension": ".py",
   "mimetype": "text/x-python",
   "name": "python",
   "nbconvert_exporter": "python",
   "pygments_lexer": "ipython3",
   "version": "3.10.4"
  }
 },
 "nbformat": 4,
 "nbformat_minor": 5
}
