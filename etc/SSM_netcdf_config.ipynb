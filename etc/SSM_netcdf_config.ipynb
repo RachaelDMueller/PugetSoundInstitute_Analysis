{
 "cells": [
  {
   "cell_type": "markdown",
   "id": "5c212367-137c-4fa6-9068-cec3266ceaed",
   "metadata": {},
   "source": [
    "# Configuration file for Salish Sea Model netcdf output \n",
    "This setup relates to `NetCDF` output created by [Ben Robert's post-processing script](https://github.com/UWModeling/SalishSeaModel-analysis/tree/main/bash_scripts/BenRoberts_postprocessing)"
   ]
  },
  {
   "cell_type": "code",
   "execution_count": 1,
   "id": "ef50b078-b4ef-4912-b3a0-a4b9c370167c",
   "metadata": {},
   "outputs": [],
   "source": [
    "import sys\n",
    "import yaml\n",
    "import numpy"
   ]
  },
  {
   "cell_type": "markdown",
   "id": "f3c6b607-4da1-48e0-af4a-1146727dbe31",
   "metadata": {},
   "source": [
    "# Mapping for variable names"
   ]
  },
  {
   "cell_type": "code",
   "execution_count": 2,
   "id": "8b640e3f-e837-4f02-83c8-5d7f0801492e",
   "metadata": {},
   "outputs": [],
   "source": [
    "# Main dictionary used to output values to SSM_config.yaml\n",
    "ssm_nc = {}"
   ]
  },
  {
   "cell_type": "code",
   "execution_count": 3,
   "id": "2aac5ccf-2e25-4fe5-a6d0-1ce58a77ee5e",
   "metadata": {},
   "outputs": [],
   "source": [
    "ssm_nc['label_dict'] = {\n",
    "    \"zeta\": \"SSH\",\n",
    "    \"depth\": \"Level Thickness\",\n",
    "    \"DOXG\": \"Dissolved Oxygen\",\n",
    "    \"B1\":\"Diatoms\",\n",
    "    \"B2\":\"Dinoflagellates\",\n",
    "    \"NO3\":r\"Nitrate and Nitrite\",\n",
    "    \"netPP\":\"Depth-integrated Primary Productivity\",\n",
    "    \"temp\": \"Temperature\",\n",
    "    \"salinity\":\"Salinity\",\n",
    "    \"IAVG\": \"PAR\"\n",
    "}\n",
    "ssm_nc['label_dict_with_units']={\n",
    "    \"zeta\": \"SSH [m]\",\n",
    "    \"depth\": \"Level Thickness [m]\",\n",
    "    \"DOXG\": \"Dissolved Oxygen [mg/L]\",\n",
    "    \"B1\":\"Diatoms [g m$^{-3}$]\",\n",
    "    \"B2\":\"Dinoflagellates [g m$^{-3}$]\",\n",
    "    \"NO3\":r\"NO$_3$ [mg/L]\",\n",
    "    \"netPP\":\"Depth-integrated Primary Productivity [g m$^{-2}$]\",\n",
    "    \"temp\": \"Temperature [$^o$C]\",\n",
    "    \"salinity\":\"Salinity [ppt]\",\n",
    "    \"IAVG\": \"PAR [Einstein m$^{-2}$ day$^{-1}$]\"\n",
    "}\n",
    "\n",
    "ssm_nc['units']={\n",
    "    \"zeta\": \"[m]\",\n",
    "    \"depth\": \"[m]\",\n",
    "    \"DOXG\": \"[mg/L]\",\n",
    "    \"B1\":\"[g m$^{-3}$]\",\n",
    "    \"B2\":\"[g m$^{-3}$]\",\n",
    "    \"NO3\":r\"[mg/L]\",\n",
    "    \"netPP\":\"[g m$^{-2}$]\",\n",
    "    \"temp\": \"[$^o$C]\",\n",
    "    \"salinity\":\"[ppt]\",\n",
    "    \"IAVG\": \"[Einstein m$^{-2}$ day$^{-1}$]\"\n",
    "}"
   ]
  },
  {
   "cell_type": "markdown",
   "id": "2d475093-a47e-40ab-8880-ee47797e967f",
   "metadata": {},
   "source": [
    "# List of 2D variables "
   ]
  },
  {
   "cell_type": "code",
   "execution_count": 4,
   "id": "702f9b9d-3354-4d3f-afb6-88029e617c07",
   "metadata": {},
   "outputs": [],
   "source": [
    "ssm_nc['2D']=[\"netPP\", \"IAVG\", \"zeta\"]"
   ]
  },
  {
   "cell_type": "markdown",
   "id": "b31d8c48-3084-4334-a1aa-5b411073508f",
   "metadata": {},
   "source": [
    "# Colorbar limits"
   ]
  },
  {
   "cell_type": "code",
   "execution_count": 5,
   "id": "1aab28e5-cdf1-45d4-8300-760e18dd558f",
   "metadata": {},
   "outputs": [],
   "source": [
    "ssm_nc['cb_limits_range']={\n",
    "    \"zeta\": \"[m]\",\n",
    "    \"depth\": \"[m]\",\n",
    "    \"DOXG\": [0, 8],\n",
    "    \"B1\":[0, 1],\n",
    "    \"B2\":[0, 0.2],\n",
    "    \"NO3\":[0,0.4],\n",
    "    \"netPP\":\"[g m$^{-2}$]\",\n",
    "    \"temp\": [0, 5],\n",
    "    \"salinity\":[0,20],\n",
    "    \"IAVG\": \"fill in\"\n",
    "}\n",
    "ssm_nc['cb_limits_median']={\n",
    "    \"zeta\": \"[m]\",\n",
    "    \"depth\": \"[m]\",\n",
    "    \"DOXG\": [2, 15],\n",
    "    \"B1\":[0, 1.1],\n",
    "    \"B2\":[0, 0.2],\n",
    "    \"NO3\":[0, 0.5],\n",
    "    \"netPP\":\"[g m$^{-2}$]\",\n",
    "    \"temp\": [5, 15],\n",
    "    \"salinity\":[20, 30],\n",
    "    \"IAVG\": \"fill in\"\n",
    "}\n"
   ]
  },
  {
   "cell_type": "markdown",
   "id": "f07d1597-fed3-4fdb-aa21-82320957486e",
   "metadata": {},
   "source": [
    "# Y-axis limits"
   ]
  },
  {
   "cell_type": "code",
   "execution_count": 6,
   "id": "4be507b0-b96f-4cb4-88aa-e06736be5abb",
   "metadata": {},
   "outputs": [],
   "source": [
    "ssm_nc['y_limits_median']={\n",
    "    \"DOXG\": [0, 12],\n",
    "    \"B1\":[0, 8],\n",
    "    \"B2\":[0, 2],\n",
    "    \"NO3\":[0, 4.5],\n",
    "    \"netPP\":[0,4],\n",
    "    \"temp\": [0, 16],\n",
    "    \"salinity\":[10, 30],\n",
    "    \"zeta\": [-3,4.5]\n",
    "}"
   ]
  },
  {
   "cell_type": "markdown",
   "id": "8e4b3289-755e-4199-863e-88172868ba8c",
   "metadata": {},
   "source": [
    "# Inlet Nodes and Area"
   ]
  },
  {
   "cell_type": "code",
   "execution_count": 7,
   "id": "e2f92e26-b3fb-4fa0-9308-ce18cbb59dd9",
   "metadata": {},
   "outputs": [],
   "source": [
    "ssm_nc['inlet_nodes']={\n",
    "    \"Bellingham Bay\":22,\n",
    "    \"Case Inlet\": 100,\n",
    "    \"Sinclair Inlet\": 12\n",
    "}\n",
    "\n",
    "ssm_nc['inlet_area_km2']={\n",
    "    \"Bellingham Bay\":62.5,\n",
    "    \"Case Inlet\": 31.5,\n",
    "    \"Sinclair Inlet\": 6.2\n",
    "}\n",
    "\n",
    "ssm_nc['inlet_colors']={\n",
    "    \"Bellingham Bay\":\"mediumseagreen\",\n",
    "    \"Case Inlet\": \"darksalmon\",\n",
    "    \"Sinclair Inlet\": \"steelblue\"\n",
    "}\n",
    "\n",
    "ssm_nc['inlet_label']={\n",
    "    \"Bellingham Bay\":\"Bellingham Bay (<20m)\",\n",
    "    \"Case Inlet\": \"Sinclair Inlet (<17m)\",\n",
    "    \"Sinclair Inlet\": \"Case Inlet (<50m)\"\n",
    "}"
   ]
  },
  {
   "cell_type": "markdown",
   "id": "2c8605da-cbe1-4ceb-961e-d50ee3fb85ec",
   "metadata": {},
   "source": [
    "## Save specifications to file\n",
    "-Use `sort_keys=False` to preserve dictionary order"
   ]
  },
  {
   "cell_type": "code",
   "execution_count": 8,
   "id": "5de08f4e-cd90-45c7-90a1-9a02a3c34e31",
   "metadata": {},
   "outputs": [],
   "source": [
    "with open('SSM_netcdf_config.yaml', 'w') as file:\n",
    "    document = yaml.safe_dump(ssm_nc, file,sort_keys=True)"
   ]
  }
 ],
 "metadata": {
  "kernelspec": {
   "display_name": "Python 3 (ipykernel)",
   "language": "python",
   "name": "python3"
  },
  "language_info": {
   "codemirror_mode": {
    "name": "ipython",
    "version": 3
   },
   "file_extension": ".py",
   "mimetype": "text/x-python",
   "name": "python",
   "nbconvert_exporter": "python",
   "pygments_lexer": "ipython3",
   "version": "3.10.4"
  }
 },
 "nbformat": 4,
 "nbformat_minor": 5
}
