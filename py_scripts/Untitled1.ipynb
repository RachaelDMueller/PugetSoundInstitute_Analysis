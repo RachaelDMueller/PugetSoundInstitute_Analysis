{
 "cells": [
  {
   "cell_type": "code",
   "execution_count": 26,
   "id": "4fc59411-a5d1-431c-98ee-3a75eadbb136",
   "metadata": {},
   "outputs": [],
   "source": [
    "import pandas\n",
    "import numpy\n",
    "import yaml\n",
    "import xarray\n",
    "import geopandas as gpd"
   ]
  },
  {
   "cell_type": "code",
   "execution_count": 16,
   "id": "50c52379-96e6-4d30-9dab-e0d848c32c34",
   "metadata": {},
   "outputs": [],
   "source": [
    "case='whidbey'\n",
    "model_var = 'DOXG'\n",
    "MinDO_full={}\n",
    "MinDO={}\n",
    "with open(f'../etc/SSM_config_{case}.yaml', 'r') as file:\n",
    "    ssm = yaml.safe_load(file)\n",
    "    shp = ssm['paths']['shapefile']\n",
    "gdf = gpd.read_file(shp)\n",
    "gdf = gdf.rename(columns={'region_inf':'Regions'})\n",
    "regions = gdf[['node_id','Regions']].groupby(\n",
    "    'Regions').count().index.to_list()\n",
    "regions.remove('Other')"
   ]
  },
  {
   "cell_type": "code",
   "execution_count": 36,
   "id": "eb02c84f-bb03-4765-824c-3b9fde486fc7",
   "metadata": {},
   "outputs": [
    {
     "data": {
      "text/html": [
       "<div>\n",
       "<style scoped>\n",
       "    .dataframe tbody tr th:only-of-type {\n",
       "        vertical-align: middle;\n",
       "    }\n",
       "\n",
       "    .dataframe tbody tr th {\n",
       "        vertical-align: top;\n",
       "    }\n",
       "\n",
       "    .dataframe thead th {\n",
       "        text-align: right;\n",
       "    }\n",
       "</style>\n",
       "<table border=\"1\" class=\"dataframe\">\n",
       "  <thead>\n",
       "    <tr style=\"text-align: right;\">\n",
       "      <th></th>\n",
       "      <th>volume</th>\n",
       "    </tr>\n",
       "    <tr>\n",
       "      <th>Regions</th>\n",
       "      <th></th>\n",
       "    </tr>\n",
       "  </thead>\n",
       "  <tbody>\n",
       "    <tr>\n",
       "      <th>Hood</th>\n",
       "      <td>401</td>\n",
       "    </tr>\n",
       "    <tr>\n",
       "      <th>Main</th>\n",
       "      <td>893</td>\n",
       "    </tr>\n",
       "    <tr>\n",
       "      <th>Other</th>\n",
       "      <td>29</td>\n",
       "    </tr>\n",
       "    <tr>\n",
       "      <th>SJF_Admiralty</th>\n",
       "      <td>774</td>\n",
       "    </tr>\n",
       "    <tr>\n",
       "      <th>SOG_Bellingham</th>\n",
       "      <td>488</td>\n",
       "    </tr>\n",
       "    <tr>\n",
       "      <th>South_Sound</th>\n",
       "      <td>1028</td>\n",
       "    </tr>\n",
       "    <tr>\n",
       "      <th>Whidbey</th>\n",
       "      <td>531</td>\n",
       "    </tr>\n",
       "  </tbody>\n",
       "</table>\n",
       "</div>"
      ],
      "text/plain": [
       "                volume\n",
       "Regions               \n",
       "Hood               401\n",
       "Main               893\n",
       "Other               29\n",
       "SJF_Admiralty      774\n",
       "SOG_Bellingham     488\n",
       "South_Sound       1028\n",
       "Whidbey            531"
      ]
     },
     "execution_count": 36,
     "metadata": {},
     "output_type": "execute_result"
    }
   ],
   "source": [
    "gdf[['Regions','volume']].groupby('Regions').count()"
   ]
  },
  {
   "cell_type": "code",
   "execution_count": 18,
   "id": "9e3a8e6f-e070-4169-871b-f7060e8523bf",
   "metadata": {},
   "outputs": [
    {
     "data": {
      "text/plain": [
       "361"
      ]
     },
     "execution_count": 18,
     "metadata": {},
     "output_type": "execute_result"
    }
   ],
   "source": [
    "# Load minimum DO results from reference case\n",
    "reference = ssm['run_information']['reference']\n",
    "base_dir = '/mmfs1/gscratch/ssmc/USRS/PSI/Rachael/projects/KingCounty/'\n",
    "reference_file = f'{base_dir}/data/{case}/DOXG/{reference}/wc/daily_min_DOXG_wc.nc'\n",
    "with xarray.open_dataset(reference_file) as ds:\n",
    "    MinDO_full[reference]=ds[f'{model_var}_daily_min_wc']\n",
    "    # Sub-sample nodes (from 16012 nodes to 7494)\n",
    "    MinDO[reference]=MinDO_full[reference][:,:,gdf['node_id']-1]\n",
    "\n",
    "# Get number of days and nodes\n",
    "[ndays,nlevels,nnodes]=MinDO[reference].shape\n",
    "ndays"
   ]
  },
  {
   "cell_type": "code",
   "execution_count": 19,
   "id": "fbb114af-30cc-4802-9755-3987972892f8",
   "metadata": {},
   "outputs": [],
   "source": [
    "dti = pandas.date_range(\"2014-01-01\", periods=366, freq=\"D\")"
   ]
  },
  {
   "cell_type": "code",
   "execution_count": 20,
   "id": "e9eb07f5-498b-48a8-8d8d-a8405d11dc83",
   "metadata": {},
   "outputs": [
    {
     "data": {
      "text/plain": [
       "(366,)"
      ]
     },
     "execution_count": 20,
     "metadata": {},
     "output_type": "execute_result"
    }
   ],
   "source": [
    "dti.shape"
   ]
  },
  {
   "cell_type": "code",
   "execution_count": 22,
   "id": "db96090a-d97f-4150-bfb3-ce05b06c8449",
   "metadata": {},
   "outputs": [
    {
     "data": {
      "text/plain": [
       "range(0, 5)"
      ]
     },
     "execution_count": 22,
     "metadata": {},
     "output_type": "execute_result"
    }
   ],
   "source": [
    "range(0,ssm['run_information']['spin_up_days'])"
   ]
  },
  {
   "cell_type": "code",
   "execution_count": 27,
   "id": "be0476c5-f6f6-4b25-9304-bd8b5a196c20",
   "metadata": {},
   "outputs": [
    {
     "data": {
      "text/plain": [
       "array([6, 7, 8, 9])"
      ]
     },
     "execution_count": 27,
     "metadata": {},
     "output_type": "execute_result"
    }
   ],
   "source": [
    "daily_values = [1,2,3,4,5,6,7,8,9]\n",
    "daily_values_clean = numpy.delete(\n",
    "    daily_values,range(0,ssm['run_information']['spin_up_days']),0)\n",
    "daily_values_clean"
   ]
  },
  {
   "cell_type": "code",
   "execution_count": 29,
   "id": "08117281-5915-444f-9513-b982b4f9ca3e",
   "metadata": {},
   "outputs": [
    {
     "name": "stdout",
     "output_type": "stream",
     "text": [
      "0 5 2014-01-06 00:00:00\n",
      "1 6 2014-01-07 00:00:00\n",
      "2 7 2014-01-08 00:00:00\n",
      "3 8 2014-01-09 00:00:00\n",
      "4 9 2014-01-10 00:00:00\n"
     ]
    }
   ],
   "source": [
    "for day in range(5):\n",
    "        model_day = day + ssm['run_information']['spin_up_days'] \n",
    "        model_date = dti[model_day]\n",
    "        print(day,model_day, model_date)"
   ]
  },
  {
   "cell_type": "code",
   "execution_count": 30,
   "id": "90436ce2-fed2-4130-8d55-1bcfc20f5d0c",
   "metadata": {},
   "outputs": [
    {
     "data": {
      "text/plain": [
       "'10'"
      ]
     },
     "execution_count": 30,
     "metadata": {},
     "output_type": "execute_result"
    }
   ],
   "source": [
    "f\"{model_day+1}\""
   ]
  },
  {
   "cell_type": "code",
   "execution_count": null,
   "id": "825c103d-e909-4c15-83b6-e943b31be9d5",
   "metadata": {},
   "outputs": [],
   "source": []
  }
 ],
 "metadata": {
  "kernelspec": {
   "display_name": "Python 3 (ipykernel)",
   "language": "python",
   "name": "python3"
  },
  "language_info": {
   "codemirror_mode": {
    "name": "ipython",
    "version": 3
   },
   "file_extension": ".py",
   "mimetype": "text/x-python",
   "name": "python",
   "nbconvert_exporter": "python",
   "pygments_lexer": "ipython3",
   "version": "3.10.4"
  }
 },
 "nbformat": 4,
 "nbformat_minor": 5
}
