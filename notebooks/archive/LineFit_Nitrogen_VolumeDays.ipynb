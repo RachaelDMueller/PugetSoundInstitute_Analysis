{
 "cells": [
  {
   "cell_type": "code",
   "execution_count": 1,
   "id": "d795748f-6701-4250-8084-ddcd0e4a11b8",
   "metadata": {},
   "outputs": [],
   "source": [
    "import sys\n",
    "import os\n",
    "import yaml\n",
    "import numpy as np\n",
    "import pandas\n",
    "import pathlib\n",
    "import time\n",
    "from datetime import date\n",
    "import geopandas as gpd\n",
    "import matplotlib.pyplot as plt\n",
    "from matplotlib.offsetbox import AnchoredText\n",
    "from matplotlib.ticker import MaxNLocator\n",
    "import matplotlib as mpl"
   ]
  },
  {
   "cell_type": "code",
   "execution_count": 2,
   "id": "4e21a537-6bee-4beb-94cd-049059cf5b80",
   "metadata": {},
   "outputs": [],
   "source": [
    "in_dir = pathlib.Path('/mmfs1/gscratch/ssmc/USRS/PSI/Rachael/projects/KingCounty/spreadsheets')\n",
    "# no3_f = in_dir/'NO3NO2_load_timeseries.xlsx'\n",
    "# nh4_f = in_dir/'NH4_load_timeseries.xlsx'"
   ]
  },
  {
   "cell_type": "code",
   "execution_count": 3,
   "id": "22b95803-b4f5-4909-93b1-7c5cbf27ca04",
   "metadata": {},
   "outputs": [],
   "source": [
    "# nh4={}\n",
    "# no3={}\n",
    "# for run in ['ssm_pnt_wq_exist', 'ssm_pnt_wq_1b','ssm_pnt_wq_1d','ssm_pnt_wq_1e','ssm_pnt_wq_1c','ssm_pnt_wq_2a']:\n",
    "#     nh4[run] = pandas.read_excel(nh4_f, sheet_name=run).sum().sum()\n",
    "#     no3[run] = pandas.read_excel(no3_f, sheet_name=run).sum().sum()"
   ]
  },
  {
   "cell_type": "code",
   "execution_count": 4,
   "id": "57c74c0d-8f4d-49fd-9426-4347513520ac",
   "metadata": {},
   "outputs": [],
   "source": [
    "# total_nitrogen={}\n",
    "# percent_nitrogen={}\n",
    "# for run in [*nh4]:\n",
    "#     total_nitrogen[run] = nh4[run]+no3[run]\n",
    "#     percent_nitrogen[run]=total_nitrogen[run]/total_nitrogen['ssm_pnt_wq_exist']\n",
    "#     print(run, total_nitrogen[run],percent_nitrogen[run])"
   ]
  },
  {
   "cell_type": "markdown",
   "id": "f67baf2c-9025-4195-8fc2-6518579bebe6",
   "metadata": {},
   "source": [
    "#### These numbers don't seem right.  2a is supposed to have more nitrogren than 2014.  Trying a different approach. "
   ]
  },
  {
   "cell_type": "markdown",
   "id": "169824b1-c0b6-4107-8aaa-595cee314e78",
   "metadata": {},
   "source": [
    "# Use [Municapal mode run](https://uwnetid.sharepoint.com/:x:/r/sites/og_uwt_psi/_layouts/15/Doc.aspx?sourcedoc=%7B417ABADA-C061-4340-9D09-2A23A26727E6%7D&file=Municipal%20%20model%20runs%20and%20scripting%20task%20list.xlsx&action=default&mobileredirect=true) spreadsheet"
   ]
  },
  {
   "cell_type": "code",
   "execution_count": 3,
   "id": "6696764d-bf5e-4df4-9f8d-fe033b09413a",
   "metadata": {},
   "outputs": [
    {
     "data": {
      "text/plain": [
       "  Agate East         0\n",
       "  Agate West         1\n",
       "  Anderson east      2\n",
       "  Anderson west      3\n",
       "  Artondale          4\n",
       "                  ... \n",
       "  Clover Point     254\n",
       "  Gulf Islands     255\n",
       "  Macaulay         256\n",
       "  Saanich          257\n",
       "  Cushman No 2     258\n",
       "Name: Unnamed: 0, Length: 259, dtype: int64"
      ]
     },
     "execution_count": 3,
     "metadata": {},
     "output_type": "execute_result"
    }
   ],
   "source": [
    "nh4 = pandas.read_excel(in_dir/'MunicipalOneDrive.xlsx',sheet_name='10_run_NH4',index_col='Unnamed: 1')\n",
    "nh4.pop('Unnamed: 0')\n",
    "no3 = pandas.read_excel(in_dir/'MunicipalOneDrive.xlsx',sheet_name='9_run_NO3NO2',index_col='Unnamed: 1')\n",
    "no3.pop('Unnamed: 0')"
   ]
  },
  {
   "cell_type": "code",
   "execution_count": 6,
   "id": "0128e3b5-3e6a-4efe-8909-06a143826008",
   "metadata": {},
   "outputs": [
    {
     "name": "stdout",
     "output_type": "stream",
     "text": [
      "1a 51748970.95235593 1.0\n",
      "1b 51256972.23903628 0.9904925894319208\n",
      "1c 49338346.494279265 0.9534169585653004\n",
      "1d 51637641.97061068 0.9978486725494938\n",
      "1e 51368301.22078153 0.992643916882427\n",
      "2a 49338346.494279265 0.9534169585653004\n",
      "2b 54159595.41043259 1.0465830414346997\n",
      "3a 51748970.95235593 1.0\n",
      "3b 50536639.02082497 0.976572830160292\n",
      "3c 45359842.210987315 0.8765361199694012\n",
      "3e 51711117.478750095 0.9992685173654818\n",
      "3f 51310140.553234145 0.991520016899934\n",
      "3g 51013186.90394761 0.9857816680241672\n",
      "3h 51384372.39724105 0.9929544771923956\n",
      "3i 51377785.45906249 0.9928271908317716\n",
      "3l 45359842.210987315 0.8765361199694012\n",
      "3m 58138099.69372454 1.1234638800305987\n"
     ]
    },
    {
     "data": {
      "text/plain": [
       "{'1a': 1.0,\n",
       " '1b': 0.9904925894319208,\n",
       " '1c': 0.9534169585653004,\n",
       " '1d': 0.9978486725494938,\n",
       " '1e': 0.992643916882427,\n",
       " '2b': 1.0465830414346997,\n",
       " '3a': 1.0,\n",
       " '3b': 0.976572830160292,\n",
       " '3c': 0.8765361199694012,\n",
       " '3e': 0.9992685173654818,\n",
       " '3f': 0.991520016899934,\n",
       " '3g': 0.9857816680241672,\n",
       " '3h': 0.9929544771923956,\n",
       " '3i': 0.9928271908317716,\n",
       " '3m': 1.1234638800305987}"
      ]
     },
     "execution_count": 6,
     "metadata": {},
     "output_type": "execute_result"
    }
   ],
   "source": [
    "total_nitrogen={}\n",
    "percent_nitrogen={}\n",
    "for run in [*nh4]:\n",
    "    total_nitrogen[run] = nh4[run].sum()+no3[run].sum()\n",
    "    percent_nitrogen[run]=total_nitrogen[run]/total_nitrogen['1a']\n",
    "    print(run, total_nitrogen[run],percent_nitrogen[run])\n",
    "percent_nitrogen.pop('2a')\n",
    "#percent_nitrogen.pop('3l')\n",
    "percent_nitrogen"
   ]
  },
  {
   "cell_type": "markdown",
   "id": "e66db027-9323-44d8-a2b7-de3eb1453910",
   "metadata": {},
   "source": [
    "# Plots by region "
   ]
  },
  {
   "cell_type": "code",
   "execution_count": 7,
   "id": "3f0ca69b-cec8-4a57-b1f4-c5e5ed60e05e",
   "metadata": {},
   "outputs": [],
   "source": [
    "# for region in ['SOG_Bellingham','Whidbey']:\n",
    "#     if region=='SOG_Bellingham':\n",
    "#         tag = 'SOG_NB'\n",
    "#         baseline = 'Present Day'\n",
    "#     else:\n",
    "#         tag = 'whidbey'\n",
    "#         baseline='2014 conditions'\n",
    "        \n",
    "#     input_nc = pandas.read_excel(f'/mmfs1/gscratch/ssmc/USRS/PSI/Rachael/projects/KingCounty/data/{tag}/spreadsheets/{tag}_wc_noncompliant_m0p25.xlsx',\n",
    "#            sheet_name='Volume_Days',\n",
    "#           index_col=\"Unnamed: 0\")\n",
    "#     if region=='SOG_Bellingham':\n",
    "#         input_nc.pop('2a')\n",
    "#     vd_norm={}\n",
    "#     for run in [*input_nc]:\n",
    "#         vd_norm[run] = input_nc[run][region]/input_nc[baseline][region]\n",
    "#     vd_norm['1a']=vd_norm[baseline]\n",
    "#     vd_norm.pop(baseline)\n",
    "    \n",
    "#     vd_plot=np.zeros(len([*vd_norm]))\n",
    "#     N_plot=np.zeros(len([*vd_norm]))\n",
    "\n",
    "#     # use run names as keys to get normalized nitrogen loading and volume days\n",
    "#     for idx,run in enumerate([*vd_norm]):\n",
    "#         print(run)\n",
    "#         vd_plot[idx]=vd_norm[run]\n",
    "#         N_plot[idx]=percent_nitrogen[run]\n",
    "#     vd_plot"
   ]
  },
  {
   "cell_type": "markdown",
   "id": "e149801a-0655-419d-9375-bf368e40ddf0",
   "metadata": {},
   "source": [
    "# Original code"
   ]
  },
  {
   "cell_type": "code",
   "execution_count": 8,
   "id": "7db3a4c3-7552-4df9-8453-2d60cfb77475",
   "metadata": {},
   "outputs": [],
   "source": [
    "region = 'SOG_Bellingham' # 'ALL_REGIONS' # \n",
    "\n",
    "sog_nc = pandas.read_excel('/mmfs1/gscratch/ssmc/USRS/PSI/Rachael/projects/KingCounty/data/SOG_NB/spreadsheets/SOG_NB_wc_noncompliant_m0p25.xlsx',\n",
    "                           sheet_name='Volume_Days',\n",
    "                          index_col=\"Unnamed: 0\")\n",
    "sog_nc.pop('2a')\n",
    "sog_vd_norm={}\n",
    "for run in [*sog_nc]:\n",
    "    sog_vd_norm[run] = sog_nc[run][region]/sog_nc['Present Day'][region]"
   ]
  },
  {
   "cell_type": "code",
   "execution_count": 9,
   "id": "382f32c5-958b-428e-84c9-72a7f252fd5c",
   "metadata": {},
   "outputs": [
    {
     "data": {
      "text/plain": [
       "1.0"
      ]
     },
     "execution_count": 9,
     "metadata": {},
     "output_type": "execute_result"
    }
   ],
   "source": [
    "sog_vd_norm['1a']=sog_vd_norm['Present Day']\n",
    "sog_vd_norm.pop('Present Day')"
   ]
  },
  {
   "cell_type": "code",
   "execution_count": 10,
   "id": "fa47ca3a-ebf1-4dd9-af80-e29a191bef69",
   "metadata": {},
   "outputs": [
    {
     "data": {
      "text/plain": [
       "{'1b': 0.31870028135731887,\n",
       " '1c': 0.0,\n",
       " '1d': 0.988534587568061,\n",
       " '1e': 0.333329403922065,\n",
       " '2b': 7.6199563153113665,\n",
       " '1a': 1.0}"
      ]
     },
     "execution_count": 10,
     "metadata": {},
     "output_type": "execute_result"
    }
   ],
   "source": [
    "sog_vd_norm"
   ]
  },
  {
   "cell_type": "markdown",
   "id": "09256ade-60a4-4559-98b9-32b4c6338184",
   "metadata": {},
   "source": [
    "# create arrays of SOG_NB values"
   ]
  },
  {
   "cell_type": "code",
   "execution_count": 11,
   "id": "707aa5e6-d0bb-4571-9643-5c88e54cf26e",
   "metadata": {
    "tags": []
   },
   "outputs": [
    {
     "name": "stdout",
     "output_type": "stream",
     "text": [
      "1b\n",
      "1c\n",
      "1d\n",
      "1e\n",
      "2b\n",
      "1a\n"
     ]
    },
    {
     "data": {
      "text/plain": [
       "array([0.31870028, 0.        , 0.98853459, 0.3333294 , 7.61995632,\n",
       "       1.        ])"
      ]
     },
     "execution_count": 11,
     "metadata": {},
     "output_type": "execute_result"
    }
   ],
   "source": [
    "sog_vd_plot=np.zeros(len([*sog_vd_norm]))\n",
    "sog_N_plot=np.zeros(len([*sog_vd_norm]))\n",
    "\n",
    "# use run names as keys to get normalized nitrogen loading and volume days\n",
    "for idx,run in enumerate([*sog_vd_norm]):\n",
    "    print(run)\n",
    "    sog_vd_plot[idx]=sog_vd_norm[run]\n",
    "    sog_N_plot[idx]=percent_nitrogen[run]\n",
    "sog_vd_plot"
   ]
  },
  {
   "cell_type": "markdown",
   "id": "a528b062-f95a-4c55-8358-5bc323108508",
   "metadata": {},
   "source": [
    "### initialize arrays that combine both SOG and whidbey"
   ]
  },
  {
   "cell_type": "code",
   "execution_count": 12,
   "id": "7cc22b62-873b-47fe-8907-d087f452aa77",
   "metadata": {},
   "outputs": [
    {
     "name": "stdout",
     "output_type": "stream",
     "text": [
      "1b\n",
      "1c\n",
      "1d\n",
      "1e\n",
      "2b\n",
      "1a\n"
     ]
    }
   ],
   "source": [
    "volume_days=np.zeros(15)#len([*whidbey_vd_norm])+len([*sog_vd_norm]))\n",
    "nitrogen=np.zeros(15)#len([*whidbey_vd_norm])+len([*sog_vd_norm]))\n",
    "# use run names as keys to get normalized nitrogen loading and volume days\n",
    "for idx,run in enumerate([*sog_vd_norm]):\n",
    "    print(run)\n",
    "    volume_days[idx]=sog_vd_norm[run]\n",
    "    nitrogen[idx]=percent_nitrogen[run]"
   ]
  },
  {
   "cell_type": "code",
   "execution_count": 13,
   "id": "3bfa5495-356e-4f34-b33a-b123c102837b",
   "metadata": {},
   "outputs": [],
   "source": [
    "colors = ['purple','teal','purple','purple','teal','orange']\n",
    "rivers = [False,True,False,False,True,False]\n",
    "wwtp = [True,False,True,True,False,False]\n",
    "base = [False,False,False,False,False,True]\n",
    "rivers_2014 = [False,True,False,False,True,True]\n",
    "wwtp_2014 = [True,False,True,True,False,True]"
   ]
  },
  {
   "cell_type": "markdown",
   "id": "5eeba0cb-46cc-4ecd-a565-0a7a0c210067",
   "metadata": {},
   "source": [
    "## print line fit values for river runs"
   ]
  },
  {
   "cell_type": "code",
   "execution_count": 14,
   "id": "e34c38a2-af18-41cc-a6fb-5181b8d7b837",
   "metadata": {},
   "outputs": [],
   "source": [
    "s_poly={}\n",
    "s_poly['rivers']=np.poly1d(np.polyfit(sog_N_plot[rivers_2014], sog_vd_plot[rivers_2014], 1))"
   ]
  },
  {
   "cell_type": "markdown",
   "id": "6e79b0b4-63fd-4f65-a1f8-39bcc24890cc",
   "metadata": {
    "tags": []
   },
   "source": [
    "## print line fit values for wwtp runs"
   ]
  },
  {
   "cell_type": "code",
   "execution_count": 15,
   "id": "e8cc75a0-ac53-41c9-b103-56fabc23c931",
   "metadata": {},
   "outputs": [],
   "source": [
    "s_poly['wwtp']=np.poly1d(np.polyfit(sog_N_plot[wwtp_2014], sog_vd_plot[wwtp_2014], 1))"
   ]
  },
  {
   "cell_type": "code",
   "execution_count": 23,
   "id": "7f00610b-59fc-4bde-860c-87b569258042",
   "metadata": {},
   "outputs": [
    {
     "data": {
      "image/png": "[encoded data removed]",
      "text/plain": [
       "<Figure size 360x360 with 1 Axes>"
      ]
     },
     "metadata": {
      "needs_background": "light"
     },
     "output_type": "display_data"
    }
   ],
   "source": [
    "fig, ax = plt.subplots(nrows=1, ncols=1, figsize=(5, 5),\n",
    "       gridspec_kw={\n",
    "           'width_ratios': [1],\n",
    "           'height_ratios': [1],\n",
    "       'wspace': 0.25,\n",
    "       'hspace': 0.15})\n",
    "\n",
    "ax.scatter(sog_N_plot[rivers],sog_vd_plot[rivers],color='teal',label='River scenarios')\n",
    "ax.scatter(sog_N_plot[wwtp],sog_vd_plot[wwtp],color='purple',label='WWTP scenarios')\n",
    "ax.scatter(sog_N_plot[base],sog_vd_plot[base],color='orange',label='2014 Conditions')\n",
    "plt.plot(np.unique(sog_N_plot[rivers_2014]), np.poly1d(np.polyfit(sog_N_plot[rivers_2014], sog_vd_plot[rivers_2014], 1))(np.unique(sog_N_plot[rivers_2014])), color='teal')\n",
    "plt.plot(np.unique(sog_N_plot[wwtp_2014]), np.poly1d(np.polyfit(sog_N_plot[wwtp_2014], sog_vd_plot[wwtp_2014], 1))(np.unique(sog_N_plot[wwtp_2014])), color='purple')\n",
    "\n",
    "fig.text(.15,0.825,f\"y={s_poly['rivers'][1]:2.1f}x+{s_poly['rivers'][0]:2.1f}\",color='teal')\n",
    "fig.text(.15,0.775,f\"y={s_poly['wwtp'][1]:2.1f}x+{s_poly['wwtp'][0]:2.1f}\",color='purple')\n",
    "\n",
    "ax.legend(bbox_to_anchor=(1,1),loc='upper left')\n",
    "ax.set_xlabel('normalized nitrogen loading')\n",
    "if region == \"ALL_REGIONS\":\n",
    "    ax.set_ylabel(f'normalized volume days (across all regions)')\n",
    "else:\n",
    "    ax.set_ylabel(f'normalized volume days ({region})')\n",
    "plt.savefig(f'/mmfs1/gscratch/ssmc/USRS/PSI/Rachael/projects/KingCounty/graphics/line_fits/sog_nitrogen_volumedays_fit_{region}.png', bbox_inches='tight', format='png', dpi=1000)"
   ]
  },
  {
   "cell_type": "markdown",
   "id": "a0bf253c-543f-4935-97c8-54f1142802c2",
   "metadata": {},
   "source": [
    "## print line fit values for river runs"
   ]
  },
  {
   "cell_type": "code",
   "execution_count": 24,
   "id": "fbd6707f-2798-4fea-aa3d-28802dcc7aee",
   "metadata": {},
   "outputs": [],
   "source": [
    "s_poly={}\n",
    "s_poly['rivers']=np.poly1d(np.polyfit(sog_N_plot[rivers_2014], sog_vd_plot[rivers_2014], 1))"
   ]
  },
  {
   "cell_type": "markdown",
   "id": "938ac2a3-de22-4f3c-a50f-587f2726ee8f",
   "metadata": {
    "tags": []
   },
   "source": [
    "## print line fit values for wwtp runs"
   ]
  },
  {
   "cell_type": "code",
   "execution_count": 25,
   "id": "d7c2c1f2-4a14-4675-a74e-c06580db5ac9",
   "metadata": {},
   "outputs": [],
   "source": [
    "s_poly['wwtp']=np.poly1d(np.polyfit(sog_N_plot[wwtp_2014], sog_vd_plot[wwtp_2014], 1))"
   ]
  },
  {
   "cell_type": "markdown",
   "id": "4af3a074-3c62-4c52-91ea-2f07a2e3d1a3",
   "metadata": {},
   "source": [
    "# Now plot up Whidbey"
   ]
  },
  {
   "cell_type": "code",
   "execution_count": 38,
   "id": "68b88a2d-1c13-4e45-b622-ce66c5a12c69",
   "metadata": {},
   "outputs": [
    {
     "data": {
      "text/plain": [
       "{'3b: No Whidbey WWTPs': 0.3664581194701929,\n",
       " '3f: No Whidbey Rivers': 0.0,\n",
       " '3c: No Small WWTPs < 100 TN Kg/day ': 0.9789257962301599,\n",
       " '3d: No Medium WWTPs 100 to 1000 TN Kg/day': 0.6908512907547861,\n",
       " '3e: No Everett North & South WWTPs': 0.5857632501120774,\n",
       " '3h: No Everett North (River)': 0.7403459341069861,\n",
       " '3i: No Everett South (Deep)': 0.799136266718929,\n",
       " '3g: 2x 2014 River Load': 10.08500494146997,\n",
       " '2014 conditions': 1.0}"
      ]
     },
     "execution_count": 38,
     "metadata": {},
     "output_type": "execute_result"
    }
   ],
   "source": [
    "region = 'Whidbey' # 'ALL_REGIONS' # \n",
    "\n",
    "whidbey_nc = pandas.read_excel('/mmfs1/gscratch/ssmc/USRS/PSI/Rachael/projects/KingCounty/data/whidbey/spreadsheets/whidbey_wc_noncompliant_m0p25.xlsx',\n",
    "                           sheet_name='Volume_Days',\n",
    "                          index_col=\"Unnamed: 0\")\n",
    "\n",
    "whidbey_vd_norm={}\n",
    "for run in [*whidbey_nc]:\n",
    "    whidbey_vd_norm[run] = whidbey_nc[run][region]/whidbey_nc['2014 conditions'][region]\n",
    "whidbey_vd_norm.pop('3l: 0.5x 2014 River Load')\n",
    "whidbey_vd_norm"
   ]
  },
  {
   "cell_type": "code",
   "execution_count": 39,
   "id": "75967f83-9341-4f02-8b37-3bf0d2bd97d0",
   "metadata": {},
   "outputs": [
    {
     "data": {
      "text/plain": [
       "['3b', '3f', '3c', '3d', '3e', '3h', '3i', '3g', '2014 conditions']"
      ]
     },
     "execution_count": 39,
     "metadata": {},
     "output_type": "execute_result"
    }
   ],
   "source": [
    "run_tag = [run.split(\":\")[0] for run in [*whidbey_vd_norm]]\n",
    "run_tag"
   ]
  },
  {
   "cell_type": "code",
   "execution_count": 40,
   "id": "aa2cfa32-1fd7-48d4-8aaf-def231c0edc8",
   "metadata": {},
   "outputs": [],
   "source": [
    "tag_map = {\n",
    "        '3b':'3b',\n",
    "        '3f':'3c',\n",
    "        '3c':'3e',\n",
    "        '3d':'3f',\n",
    "        '3e':'3g',\n",
    "        '3h':'3h',\n",
    "        '3i':'3i',\n",
    "        '3l':'3l',\n",
    "        '3g':'3m'\n",
    "    }"
   ]
  },
  {
   "cell_type": "code",
   "execution_count": 41,
   "id": "7a61040a-fcdd-4bbc-b69d-98e68ad6a4d5",
   "metadata": {},
   "outputs": [],
   "source": [
    "percent_nitrogen['2014 conditions']=percent_nitrogen['3a']"
   ]
  },
  {
   "cell_type": "code",
   "execution_count": 42,
   "id": "678ef77e-fea3-4731-ab70-2b54361cc54a",
   "metadata": {},
   "outputs": [
    {
     "name": "stdout",
     "output_type": "stream",
     "text": [
      "3b\n",
      "3f\n",
      "3c\n",
      "3d\n",
      "3e\n",
      "3h\n",
      "3i\n",
      "3g\n",
      "2014 conditions\n"
     ]
    },
    {
     "data": {
      "text/plain": [
       "array([ 0.36645812,  0.        ,  0.9789258 ,  0.69085129,  0.58576325,\n",
       "        0.74034593,  0.79913627, 10.08500494,  1.        ])"
      ]
     },
     "execution_count": 42,
     "metadata": {},
     "output_type": "execute_result"
    }
   ],
   "source": [
    "whidbey_vd_plot=np.zeros(len([*whidbey_vd_norm]))\n",
    "whidbey_N_plot=np.zeros(len([*whidbey_vd_norm]))\n",
    "\n",
    "# use run names as keys to get normalized nitrogen loading and volume days\n",
    "for idx,run in enumerate([*whidbey_vd_norm]):\n",
    "    print(run_tag[idx])\n",
    "    if run=='2014 conditions':\n",
    "        whidbey_N_plot[idx]=percent_nitrogen['3a']\n",
    "    else:\n",
    "        whidbey_N_plot[idx]=percent_nitrogen[tag_map[run_tag[idx]]]\n",
    "    whidbey_vd_plot[idx]=whidbey_vd_norm[run]\n",
    "whidbey_vd_plot"
   ]
  },
  {
   "cell_type": "code",
   "execution_count": 43,
   "id": "1f2faf27-0de1-46d4-8941-93105c33f7fe",
   "metadata": {},
   "outputs": [],
   "source": [
    "wwtp = [True,False,True,True,True,True, True, False, False]\n",
    "wwtp_2014 = [True,False,True,True,True,True, True, False,  True] #include 2014\n",
    "rivers = [False,True,False,False,False,False, False, True,  False]\n",
    "rivers_2014 = [False,True,False,False,False,False, False, True,  True] #include 2014\n",
    "base = [False,False,False,False,False,False, False, False, True] \n",
    "colors = ['purple','teal','purple','purple','teal','orange']\n",
    "vd_plot = whidbey_vd_plot\n",
    "N_plot=whidbey_N_plot\n"
   ]
  },
  {
   "cell_type": "markdown",
   "id": "7fd196cd-2569-4930-b99c-66e89511c798",
   "metadata": {},
   "source": [
    "## print line fit values for river runs"
   ]
  },
  {
   "cell_type": "code",
   "execution_count": 44,
   "id": "81b5e0c8-1d1e-474f-84bd-f2597d2b21ba",
   "metadata": {
    "tags": []
   },
   "outputs": [
    {
     "data": {
      "text/plain": [
       "1.905653940013389"
      ]
     },
     "execution_count": 44,
     "metadata": {},
     "output_type": "execute_result"
    }
   ],
   "source": [
    "w_poly = {}\n",
    "rmse={}\n",
    "w_poly['rivers']=np.poly1d(np.polyfit(N_plot[rivers_2014], vd_plot[rivers_2014], 1))\n",
    "fit_values = w_poly['rivers'][1]*N_plot[rivers_2014]+w_poly['rivers'][0]                                                          \n",
    "rmse['rivers']=np.sqrt(np.sum((vd_plot[rivers_2014]-fit_values)**2)/len(vd_plot[rivers_2014]))\n",
    "rmse['rivers']"
   ]
  },
  {
   "cell_type": "markdown",
   "id": "2dab23dd-c10f-4d18-b2c8-2df6e8cc6ac2",
   "metadata": {
    "tags": []
   },
   "source": [
    "## print line fit values for wwtp runs"
   ]
  },
  {
   "cell_type": "code",
   "execution_count": 45,
   "id": "9b6a12f1-6107-4c6a-9ca8-a936af5757a0",
   "metadata": {
    "tags": []
   },
   "outputs": [
    {
     "data": {
      "text/plain": [
       "0.03183580432721989"
      ]
     },
     "execution_count": 45,
     "metadata": {},
     "output_type": "execute_result"
    }
   ],
   "source": [
    "w_poly['wwtp']=np.poly1d(np.polyfit(N_plot[wwtp_2014], vd_plot[wwtp_2014], 1))\n",
    "fit_values = w_poly['wwtp'][1]*N_plot[wwtp_2014]+w_poly['wwtp'][0]                                                          \n",
    "rmse['wwtp']=np.sqrt(np.sum((vd_plot[wwtp_2014]-fit_values)**2)/len(vd_plot[wwtp_2014]))\n",
    "rmse['wwtp']"
   ]
  },
  {
   "cell_type": "code",
   "execution_count": 46,
   "id": "e3d40376-4a5a-49c7-a069-d8a17b4aa5b6",
   "metadata": {},
   "outputs": [
    {
     "data": {
      "image/png": "[encoded data removed]",
      "text/plain": [
       "<Figure size 360x360 with 1 Axes>"
      ]
     },
     "metadata": {
      "needs_background": "light"
     },
     "output_type": "display_data"
    }
   ],
   "source": [
    "fig, ax = plt.subplots(nrows=1, ncols=1, figsize=(5, 5),\n",
    "       gridspec_kw={\n",
    "           'width_ratios': [1],\n",
    "           'height_ratios': [1],\n",
    "       'wspace': 0.25,\n",
    "       'hspace': 0.15})\n",
    "\n",
    "ax.scatter(N_plot[rivers],vd_plot[rivers],color='teal',label='River scenarios')\n",
    "ax.scatter(N_plot[wwtp],vd_plot[wwtp],color='purple',label='WWTP scenarios')\n",
    "ax.scatter(N_plot[base],vd_plot[base],color='orange',label='2014 Conditions')\n",
    "plt.plot(np.unique(N_plot[rivers_2014]), np.poly1d(np.polyfit(N_plot[rivers_2014], vd_plot[rivers_2014], 1))(np.unique(N_plot[rivers_2014])), color='teal')\n",
    "plt.plot(np.unique(N_plot[wwtp_2014]), np.poly1d(np.polyfit(N_plot[wwtp_2014], vd_plot[wwtp_2014], 1))(np.unique(N_plot[wwtp_2014])), color='purple')\n",
    "# x = np.array([.9,1,1.1])\n",
    "#plt.plot(x, 14.06516795*x + -13.07638237,'k')\n",
    "fig.text(.15,0.825,f\"y={w_poly['rivers'][1]:2.1f}x+{w_poly['rivers'][0]:2.1f} (RMSE: {rmse['rivers']:.2f})\",color='teal')\n",
    "fig.text(.15,0.775,f\"y={w_poly['wwtp'][1]:2.1f}x+{w_poly['wwtp'][0]:2.1f} (RMSE: {rmse['wwtp']:.2f})\",color='purple')\n",
    "ax.legend(bbox_to_anchor=(1,1),loc='upper left')\n",
    "ax.set_xlabel('normalized nitrogen loading')\n",
    "if region == \"ALL_REGIONS\":\n",
    "    ax.set_ylabel(f'normalized volume days (across all regions)')\n",
    "else:\n",
    "    ax.set_ylabel(f'normalized volume days ({region})')\n",
    "plt.savefig(f'/mmfs1/gscratch/ssmc/USRS/PSI/Rachael/projects/KingCounty/graphics/line_fits/whidbey_nitrogen_volumedays_fit_{region}.png', bbox_inches='tight', format='png', dpi=1000)"
   ]
  },
  {
   "cell_type": "code",
   "execution_count": 47,
   "id": "df071f5a-7ee1-4d94-af35-eab58353d643",
   "metadata": {},
   "outputs": [
    {
     "data": {
      "image/png": "[encoded data removed]",
      "text/plain": [
       "<Figure size 360x360 with 1 Axes>"
      ]
     },
     "metadata": {
      "needs_background": "light"
     },
     "output_type": "display_data"
    }
   ],
   "source": [
    "xvalues={}\n",
    "yvalues = {}\n",
    "w_poly['rivers']=np.poly1d(np.polyfit(N_plot[rivers_2014], vd_plot[rivers_2014], 2))\n",
    "fit_values = w_poly['rivers'][2]*N_plot[rivers_2014]**2+w_poly['rivers'][1]*N_plot[rivers_2014]+w_poly['rivers'][0]                                                          \n",
    "rmse['rivers']=np.sqrt(np.sum((vd_plot[rivers_2014]-fit_values)**2)/len(vd_plot[rivers_2014]))\n",
    "xvalues['rivers']=np.arange(N_plot[rivers_2014][0],N_plot[rivers_2014][-2]+.01, 0.01)\n",
    "yvalues['rivers']=w_poly['rivers'][2]*xvalues['rivers']**2+w_poly['rivers'][1]*xvalues['rivers']+w_poly['rivers'][0] \n",
    "xvalues['wwtp']=np.arange(N_plot[wwtp_2014][0]-.04,N_plot[wwtp_2014][-2]+.1, 0.01)\n",
    "yvalues['wwtp'] =w_poly['wwtp'][1]*xvalues['wwtp']+w_poly['wwtp'][0] \n",
    "\n",
    "fig, ax = plt.subplots(nrows=1, ncols=1, figsize=(5, 5),\n",
    "       gridspec_kw={\n",
    "           'width_ratios': [1],\n",
    "           'height_ratios': [1],\n",
    "       'wspace': 0.25,\n",
    "       'hspace': 0.15})\n",
    "\n",
    "ax.scatter(N_plot[rivers],vd_plot[rivers],color='teal',label='River scenarios')\n",
    "ax.scatter(N_plot[wwtp],vd_plot[wwtp],color='purple',label='WWTP scenarios')\n",
    "ax.scatter(N_plot[base],vd_plot[base],color='orange',label='2014 Conditions')\n",
    "plt.plot(xvalues['rivers'],yvalues['rivers'], color='teal')\n",
    "plt.plot(xvalues['wwtp'],yvalues['wwtp'], color='purple')\n",
    "\n",
    "# x = np.array([.9,1,1.1])\n",
    "#plt.plot(x, 14.06516795*x + -13.07638237,'k')\n",
    "fig.text(.15,0.825,f\"y={w_poly['rivers'][2]:2.1f}x$^2${w_poly['rivers'][1]:2.1f}x+{w_poly['rivers'][0]:2.1f} (RMSE: {rmse['rivers']:.2f})\",color='teal')\n",
    "fig.text(.15,0.775,f\"y={w_poly['wwtp'][1]:2.1f}x+{w_poly['wwtp'][0]:2.1f} (RMSE: {rmse['wwtp']:.2f})\",color='purple')\n",
    "ax.legend(bbox_to_anchor=(1,1),loc='upper left')\n",
    "ax.set_xlabel('normalized nitrogen loading')\n",
    "if region == \"ALL_REGIONS\":\n",
    "    ax.set_ylabel(f'normalized volume days (across all regions)')\n",
    "else:\n",
    "    ax.set_ylabel(f'normalized volume days ({region})')\n",
    "\n",
    "    \n",
    "plt.savefig(f'/mmfs1/gscratch/ssmc/USRS/PSI/Rachael/projects/KingCounty/graphics/line_fits/whidbey_nitrogen_volumedays_QuadRiverFit_{region}.png', bbox_inches='tight', format='png', dpi=1000)"
   ]
  },
  {
   "cell_type": "code",
   "execution_count": 29,
   "id": "4082e8d4-f87e-40b3-87ec-270e7b0aaf07",
   "metadata": {},
   "outputs": [
    {
     "data": {
      "text/html": [
       "<div>\n",
       "<style scoped>\n",
       "    .dataframe tbody tr th:only-of-type {\n",
       "        vertical-align: middle;\n",
       "    }\n",
       "\n",
       "    .dataframe tbody tr th {\n",
       "        vertical-align: top;\n",
       "    }\n",
       "\n",
       "    .dataframe thead th {\n",
       "        text-align: right;\n",
       "    }\n",
       "</style>\n",
       "<table border=\"1\" class=\"dataframe\">\n",
       "  <thead>\n",
       "    <tr style=\"text-align: right;\">\n",
       "      <th></th>\n",
       "      <th>volume days</th>\n",
       "      <th>nitrogen</th>\n",
       "    </tr>\n",
       "  </thead>\n",
       "  <tbody>\n",
       "    <tr>\n",
       "      <th>3b: No Whidbey WWTPs</th>\n",
       "      <td>0.366458</td>\n",
       "      <td>0.976573</td>\n",
       "    </tr>\n",
       "    <tr>\n",
       "      <th>3f: No Whidbey Rivers</th>\n",
       "      <td>0.000000</td>\n",
       "      <td>0.876536</td>\n",
       "    </tr>\n",
       "    <tr>\n",
       "      <th>3c: No Small WWTPs &lt; 100 TN Kg/day</th>\n",
       "      <td>0.978926</td>\n",
       "      <td>0.999269</td>\n",
       "    </tr>\n",
       "    <tr>\n",
       "      <th>3d: No Medium WWTPs 100 to 1000 TN Kg/day</th>\n",
       "      <td>0.690851</td>\n",
       "      <td>0.991520</td>\n",
       "    </tr>\n",
       "    <tr>\n",
       "      <th>3e: No Everett North &amp; South WWTPs</th>\n",
       "      <td>0.585763</td>\n",
       "      <td>0.985782</td>\n",
       "    </tr>\n",
       "    <tr>\n",
       "      <th>3h: No Everett North (River)</th>\n",
       "      <td>0.740346</td>\n",
       "      <td>0.992954</td>\n",
       "    </tr>\n",
       "    <tr>\n",
       "      <th>3i: No Everett South (Deep)</th>\n",
       "      <td>0.799136</td>\n",
       "      <td>0.992827</td>\n",
       "    </tr>\n",
       "    <tr>\n",
       "      <th>3g: 2x 2014 River Load</th>\n",
       "      <td>10.085005</td>\n",
       "      <td>1.123464</td>\n",
       "    </tr>\n",
       "    <tr>\n",
       "      <th>2014 conditions</th>\n",
       "      <td>1.000000</td>\n",
       "      <td>1.000000</td>\n",
       "    </tr>\n",
       "  </tbody>\n",
       "</table>\n",
       "</div>"
      ],
      "text/plain": [
       "                                           volume days  nitrogen\n",
       "3b: No Whidbey WWTPs                          0.366458  0.976573\n",
       "3f: No Whidbey Rivers                         0.000000  0.876536\n",
       "3c: No Small WWTPs < 100 TN Kg/day            0.978926  0.999269\n",
       "3d: No Medium WWTPs 100 to 1000 TN Kg/day     0.690851  0.991520\n",
       "3e: No Everett North & South WWTPs            0.585763  0.985782\n",
       "3h: No Everett North (River)                  0.740346  0.992954\n",
       "3i: No Everett South (Deep)                   0.799136  0.992827\n",
       "3g: 2x 2014 River Load                       10.085005  1.123464\n",
       "2014 conditions                               1.000000  1.000000"
      ]
     },
     "execution_count": 29,
     "metadata": {},
     "output_type": "execute_result"
    }
   ],
   "source": [
    "pandas.DataFrame({'volume days':vd_plot, \"nitrogen\":N_plot}, index=[*whidbey_vd_norm])"
   ]
  },
  {
   "cell_type": "code",
   "execution_count": null,
   "id": "e852fa36-848d-42e5-adaa-82b4e9498815",
   "metadata": {},
   "outputs": [],
   "source": []
  },
  {
   "cell_type": "markdown",
   "id": "eb5cf932-cf80-4303-b381-2e4773dbdf68",
   "metadata": {},
   "source": [
    "# plot all line fits "
   ]
  },
  {
   "cell_type": "code",
   "execution_count": 30,
   "id": "5f907e80-e8ee-4a34-a8b7-10159140f724",
   "metadata": {},
   "outputs": [
    {
     "data": {
      "image/png": "[encoded data removed]",
      "text/plain": [
       "<Figure size 432x288 with 1 Axes>"
      ]
     },
     "metadata": {
      "needs_background": "light"
     },
     "output_type": "display_data"
    }
   ],
   "source": [
    "x = np.array([.9,1,1.1])\n",
    "#plt.plot(x, 14.06516795*x + -13.07638237,'k')\n",
    "\n",
    "plt.plot(x, s_poly['wwtp'](x), color='purple', ls=\"--\",label='SOG wwtp')\n",
    "plt.plot(x, s_poly['rivers'](x), color='teal',  ls=\"--\", label='SOG rivers')\n",
    "plt.plot(x, w_poly['wwtp'](x), 'purple', label='Whidbey wwtp')\n",
    "plt.plot(x, w_poly['rivers'](x), 'teal',  label='Whidbey rivers')\n",
    "plt.xlabel('normalized nitrogen loading')\n",
    "if region == 'ALL_REGIONS':\n",
    "    plt.ylabel(f'normalized volume days ({region})')\n",
    "else:\n",
    "    plt.ylabel('normalized volume days (localized)')\n",
    "plt.legend(bbox_to_anchor=(1,1),loc=\"upper left\")\n",
    "plt.savefig(f'/mmfs1/gscratch/ssmc/USRS/PSI/Rachael/projects/KingCounty/graphics/line_fits/Combined_nitrogen_volumedays_fit_localized.png', bbox_inches='tight', format='png', dpi=1000)"
   ]
  },
  {
   "cell_type": "markdown",
   "id": "b57279e1-300b-4059-84e1-804ad10c6739",
   "metadata": {},
   "source": [
    "# Combine both"
   ]
  },
  {
   "cell_type": "code",
   "execution_count": 31,
   "id": "8498404a-2ed2-41f2-ba27-a02377df1e85",
   "metadata": {},
   "outputs": [],
   "source": [
    "# rivers = [False,True,False,False,True,False,False,True,False,False,False,False, False, True, True, False]\n",
    "# wwtp = [True,False,True,True,False,False, True,False,True,True,True,True, True, False, False, False]\n",
    "# base = [False,False,False,False,False,True, False,False,False,False,False,False, False, False, False, True] \n",
    "\n",
    "# rivers_2014 = [False,True,False,False,True,False,False,True,False,False,False,False, False, True, True, True]\n",
    "# wwtp_2014 = [True,False,True,True,False,False, True,False,True,True,True,True, True, False, False, True]\n",
    "\n",
    "# combined \n",
    "rivers = [False,True,False,False,True,False, False,True,False,False,False,False, False, True,  False]\n",
    "wwtp = [True,False,True,True,False,False, True,False,True,True,True,True, True, False, False]\n",
    "base = [False,False,False,False,False,True, False,False,False,False,False,False, False, False, True]\n",
    "rivers_2014 = [False,True,False,False,True, True, False,True,False,False,False,False, False, True,  True]\n",
    "wwtp_2014 =   [True,False,True,True,False, True, True,False,True,True,True,True, True, False,  True]\n",
    "\n",
    "# # sog\n",
    "# rivers = [False,True,False,False,True,False]\n",
    "# wwtp = [True,False,True,True,False,False]\n",
    "# base = [False,False,False,False,False,True]\n",
    "# rivers_2014 = [False,True,False,False,True,True]\n",
    "# wwtp_2014 = [True,False,True,True,False,True]\n",
    "\n",
    "# # whidbey\n",
    "# wwtp = [True,False,True,True,True,True, True, False, False]\n",
    "# wwtp_2014 = [True,False,True,True,True,True, True, False,  True] #include 2014\n",
    "# rivers = [False,True,False,False,False,False, False, True,  False]\n",
    "# rivers_2014 = [False,True,False,False,False,False, False, True,  True] #include 2014\n",
    "# base = [False,False,False,False,False,False, False, False, True] "
   ]
  },
  {
   "cell_type": "code",
   "execution_count": 32,
   "id": "10c3ad5f-0b0e-4918-bb48-702e8aec08cc",
   "metadata": {},
   "outputs": [
    {
     "data": {
      "text/plain": [
       "15"
      ]
     },
     "execution_count": 32,
     "metadata": {},
     "output_type": "execute_result"
    }
   ],
   "source": [
    "len(nitrogen)"
   ]
  },
  {
   "cell_type": "code",
   "execution_count": 33,
   "id": "b07132b9-56ac-44c3-a518-4d7405bb4570",
   "metadata": {},
   "outputs": [
    {
     "data": {
      "text/plain": [
       "15"
      ]
     },
     "execution_count": 33,
     "metadata": {},
     "output_type": "execute_result"
    }
   ],
   "source": [
    "len(rivers_2014)"
   ]
  },
  {
   "cell_type": "code",
   "execution_count": 34,
   "id": "0046da0d-4bb0-4d1f-a2b8-4f60220c690e",
   "metadata": {},
   "outputs": [
    {
     "data": {
      "text/plain": [
       "array([0.99049259, 0.95341696, 0.99784867, 0.99264392, 1.04658304,\n",
       "       1.        , 0.        , 0.        , 0.        , 0.        ,\n",
       "       0.        , 0.        , 0.        , 0.        , 0.        ])"
      ]
     },
     "execution_count": 34,
     "metadata": {},
     "output_type": "execute_result"
    }
   ],
   "source": [
    "nitrogen"
   ]
  },
  {
   "cell_type": "code",
   "execution_count": 35,
   "id": "0be7ca0c-e875-4819-9d20-a6bbb92f79f7",
   "metadata": {},
   "outputs": [
    {
     "name": "stdout",
     "output_type": "stream",
     "text": [
      "0 3b: No Whidbey WWTPs\n",
      "1 3f: No Whidbey Rivers\n",
      "2 3c: No Small WWTPs < 100 TN Kg/day \n",
      "3 3d: No Medium WWTPs 100 to 1000 TN Kg/day\n",
      "4 3e: No Everett North & South WWTPs\n",
      "5 3h: No Everett North (River)\n",
      "6 3i: No Everett South (Deep)\n",
      "7 3g: 2x 2014 River Load\n",
      "8 2014 conditions\n"
     ]
    }
   ],
   "source": [
    "n_sog = 6\n",
    "for idx,run in enumerate([*whidbey_vd_norm]):\n",
    "    print(idx,run)\n",
    "    if run=='2014 conditions':\n",
    "        nitrogen[idx+n_sog]=percent_nitrogen['3a']\n",
    "    else:\n",
    "        nitrogen[idx+n_sog]=percent_nitrogen[tag_map[run_tag[idx]]]\n",
    "    volume_days[idx+n_sog]=whidbey_vd_norm[run]"
   ]
  },
  {
   "cell_type": "code",
   "execution_count": 36,
   "id": "a7bc6e77-5fc0-464e-95c5-afa1a41655cf",
   "metadata": {},
   "outputs": [
    {
     "data": {
      "text/plain": [
       "array([0.99049259, 0.95341696, 0.99784867, 0.99264392, 1.04658304,\n",
       "       1.        , 0.97657283, 0.87653612, 0.99926852, 0.99152002,\n",
       "       0.98578167, 0.99295448, 0.99282719, 1.12346388, 1.        ])"
      ]
     },
     "execution_count": 36,
     "metadata": {},
     "output_type": "execute_result"
    }
   ],
   "source": [
    "nitrogen"
   ]
  },
  {
   "cell_type": "code",
   "execution_count": 37,
   "id": "fd645529-9699-4344-a939-7e32b8148f83",
   "metadata": {},
   "outputs": [
    {
     "data": {
      "text/plain": [
       "15"
      ]
     },
     "execution_count": 37,
     "metadata": {},
     "output_type": "execute_result"
    }
   ],
   "source": [
    "len(wwtp_2014)"
   ]
  },
  {
   "cell_type": "code",
   "execution_count": 38,
   "id": "4d549f52-559a-4c2c-88ba-fc030e5de20b",
   "metadata": {},
   "outputs": [
    {
     "data": {
      "text/plain": [
       "0.16830376216255957"
      ]
     },
     "execution_count": 38,
     "metadata": {},
     "output_type": "execute_result"
    }
   ],
   "source": [
    "poly_fit = {}\n",
    "#rivers\n",
    "poly_fit['rivers'] = np.poly1d(np.polyfit(nitrogen[rivers_2014], volume_days[rivers_2014], 2))\n",
    "river_line=np.poly1d(np.polyfit(nitrogen[rivers_2014], volume_days[rivers_2014], 1))\n",
    "\n",
    "#river-linear\n",
    "fit_values = poly_fit['rivers'][1]*nitrogen[rivers_2014]+poly_fit['rivers'][0]                                                          \n",
    "rmse['rivers_linear']=np.sqrt(np.sum((volume_days[rivers_2014]-fit_values)**2)/len(volume_days[rivers_2014]))\n",
    "rmse['rivers_linear']\n",
    "#river-quad\n",
    "fit_values = poly_fit['rivers'][2]*nitrogen[rivers_2014]**2+poly_fit['rivers'][1]*nitrogen[rivers_2014]+poly_fit['rivers'][0]                                                       \n",
    "rmse['rivers_quad']=np.sqrt(np.sum((volume_days[rivers_2014]-fit_values)**2)/len(volume_days[rivers_2014]))\n",
    "rmse['rivers_quad']\n",
    "\n",
    "#wwtp\n",
    "poly_fit['wwtp'] = np.poly1d(np.polyfit(nitrogen[wwtp_2014], volume_days[wwtp_2014], 1))\n",
    "fit_values = poly_fit['wwtp'][1]*nitrogen[wwtp_2014]+poly_fit['wwtp'][0]                                                          \n",
    "rmse['wwtp']=np.sqrt(np.sum((volume_days[wwtp_2014]-fit_values)**2)/len(volume_days[wwtp_2014]))\n",
    "rmse['wwtp']"
   ]
  },
  {
   "cell_type": "code",
   "execution_count": 39,
   "id": "6021f6c0-de93-468e-8829-0ce371b564ec",
   "metadata": {},
   "outputs": [
    {
     "data": {
      "image/png": "[encoded data removed]",
      "text/plain": [
       "<Figure size 360x360 with 1 Axes>"
      ]
     },
     "metadata": {
      "needs_background": "light"
     },
     "output_type": "display_data"
    }
   ],
   "source": [
    "fig, ax = plt.subplots(nrows=1, ncols=1, figsize=(5, 5),\n",
    "       gridspec_kw={\n",
    "           'width_ratios': [1],\n",
    "           'height_ratios': [1],\n",
    "       'wspace': 0.25,\n",
    "       'hspace': 0.15})\n",
    "\n",
    "ax.scatter(nitrogen[rivers],volume_days[rivers],color='teal',label='River scenarios')\n",
    "ax.scatter(nitrogen[wwtp],volume_days[wwtp],color='purple',label='WWTP scenarios')\n",
    "ax.scatter(nitrogen[base],volume_days[base],color='orange',label='2014 Conditions')\n",
    "plt.plot(np.unique(nitrogen[rivers_2014]), np.poly1d(np.polyfit(nitrogen[rivers_2014], volume_days[rivers_2014], 2))(np.unique(nitrogen[rivers_2014])), color='teal')\n",
    "plt.plot(np.unique(nitrogen[rivers_2014]), river_line(np.unique(nitrogen[rivers_2014])),'--',color='teal')\n",
    "plt.plot(np.unique(nitrogen[wwtp_2014]), np.poly1d(np.polyfit(nitrogen[wwtp_2014], volume_days[wwtp_2014], 1))(np.unique(nitrogen[wwtp_2014])), color='purple')\n",
    "\n",
    "# x = np.array([.9,1,1.1])\n",
    "#plt.plot(x, 14.06516795*x + -13.07638237,'k')\n",
    "fig.text(.92,0.7,f\"y={poly_fit['wwtp'][1]:2.1f}x+{poly_fit['wwtp'][0]:2.1f} (RMSE: {rmse['wwtp']:.2f})\",color='purple')\n",
    "fig.text(.92,0.65,f\"y={poly_fit['rivers'][2]:2.2f}x^2+{poly_fit['rivers'][1]:2.1f}x+{poly_fit['rivers'][0]:2.1f} (RMSE: {rmse['rivers_quad']:.2f})\",color='teal')\n",
    "fig.text(.92,0.6,f\"y={river_line[1]:2.1f}x+{river_line[0]:2.1f} (RMSE: {rmse['rivers']:.2f})\",color='teal')\n",
    "\n",
    "ax.legend(bbox_to_anchor=(1,1),loc='upper left')\n",
    "plt.xlabel('normalized nitrogen loading')\n",
    "if region == 'ALL_REGIONS':\n",
    "    ax.set_ylabel(f'normalized volume days ({region})')\n",
    "    output_file = f'/mmfs1/gscratch/ssmc/USRS/PSI/Rachael/projects/KingCounty/graphics/line_fits/SOGWidbey_nitrogen_volumedays_fit_{region}.png'\n",
    "else:\n",
    "    ax.set_ylabel('normalized volume days (localized)')\n",
    "    output_file = f'/mmfs1/gscratch/ssmc/USRS/PSI/Rachael/projects/KingCounty/graphics/line_fits/SOGWidbey_nitrogen_volumedays_fit_localized.png'\n",
    "plt.savefig(output_file, bbox_inches='tight', format='png', dpi=1000)"
   ]
  },
  {
   "cell_type": "code",
   "execution_count": null,
   "id": "199b13e2-0870-4614-8ccd-f960ffe0bd2b",
   "metadata": {},
   "outputs": [],
   "source": []
  }
 ],
 "metadata": {
  "kernelspec": {
   "display_name": "Python 3 (ipykernel)",
   "language": "python",
   "name": "python3"
  },
  "language_info": {
   "codemirror_mode": {
    "name": "ipython",
    "version": 3
   },
   "file_extension": ".py",
   "mimetype": "text/x-python",
   "name": "python",
   "nbconvert_exporter": "python",
   "pygments_lexer": "ipython3",
   "version": "3.10.4"
  }
 },
 "nbformat": 4,
 "nbformat_minor": 5
}
