{
 "cells": [
  {
   "cell_type": "markdown",
   "id": "d955d10a-ab07-4403-b9df-c1a5c774bd64",
   "metadata": {
    "tags": []
   },
   "source": [
    "---\n",
    "# Estimate closest SSM node to a lat/lon pair\n",
    "\n",
    "---\n"
   ]
  },
  {
   "cell_type": "code",
   "execution_count": 60,
   "id": "165ae2ed-342c-4d34-bc59-f6708758dcbe",
   "metadata": {},
   "outputs": [],
   "source": [
    "import sys\n",
    "sys.path.insert(1, '../scripts/')\n",
    "import numpy as np\n",
    "import geopandas as gpd\n",
    "from pathlib import Path\n",
    "from math import radians\n",
    "import matplotlib.pyplot as plt\n",
    "from shapely.geometry import Point\n",
    "from ssm_utils import estimate_nearest_node"
   ]
  },
  {
   "cell_type": "code",
   "execution_count": 61,
   "id": "e5ac4163-c008-4f4c-98db-5af20aed0995",
   "metadata": {},
   "outputs": [],
   "source": [
    "from pyproj import Transformer"
   ]
  },
  {
   "cell_type": "markdown",
   "id": "923f61a6-ecf8-4dad-8f57-834adc4a006e",
   "metadata": {},
   "source": [
    "### identify lat/lon location to evaluate"
   ]
  },
  {
   "cell_type": "code",
   "execution_count": 62,
   "id": "0ac282de-b7b0-488f-bab2-69bc3b24b35d",
   "metadata": {},
   "outputs": [],
   "source": [
    "# BellinghamBay outfall buoy (NOAA Station 46118)\n",
    "ilat=48.724\n",
    "ilon=-122.57"
   ]
  },
  {
   "cell_type": "markdown",
   "id": "7249686a-e173-4af2-9e52-e97ce182c8b4",
   "metadata": {},
   "source": [
    "### project lat/lon location onto a projection with units of meters"
   ]
  },
  {
   "cell_type": "code",
   "execution_count": 63,
   "id": "9d55b0b3-5f26-457f-9c96-b40a6dc8bf6e",
   "metadata": {},
   "outputs": [],
   "source": [
    "# Kevin's shapefile\n",
    "root_dir = Path(\n",
    "    '/mmfs1/gscratch/ssmc/USRS/PSI/Rachael/projects/KingCounty/KingCounty-Rachael/'\n",
    ")\n",
    "#shapefile_path = root_dir/'kevin_shapefiles/SSMGrid2_060922/SSMGrid2_060922.shp'\n",
    "shapefile_path = root_dir/'kevin_shapefiles/SSMGrid2_062822/SSMGrid2_062822.shp'"
   ]
  },
  {
   "cell_type": "code",
   "execution_count": 64,
   "id": "becd0516-5ded-4b1d-a0aa-faeb79398568",
   "metadata": {},
   "outputs": [],
   "source": [
    "gdf = gpd.read_file(shapefile_path)"
   ]
  },
  {
   "cell_type": "code",
   "execution_count": 65,
   "id": "a412026d-eaf0-4cfa-8528-321b7943403a",
   "metadata": {},
   "outputs": [
    {
     "data": {
      "text/html": [
       "<div>\n",
       "<style scoped>\n",
       "    .dataframe tbody tr th:only-of-type {\n",
       "        vertical-align: middle;\n",
       "    }\n",
       "\n",
       "    .dataframe tbody tr th {\n",
       "        vertical-align: top;\n",
       "    }\n",
       "\n",
       "    .dataframe thead th {\n",
       "        text-align: right;\n",
       "    }\n",
       "</style>\n",
       "<table border=\"1\" class=\"dataframe\">\n",
       "  <thead>\n",
       "    <tr style=\"text-align: right;\">\n",
       "      <th></th>\n",
       "      <th>node_id</th>\n",
       "      <th>Basin</th>\n",
       "      <th>uncategori</th>\n",
       "      <th>x</th>\n",
       "      <th>y</th>\n",
       "      <th>x_shp</th>\n",
       "      <th>y_shp</th>\n",
       "      <th>lat</th>\n",
       "      <th>lon</th>\n",
       "      <th>depth</th>\n",
       "      <th>included_i</th>\n",
       "      <th>DO_std</th>\n",
       "      <th>volume</th>\n",
       "      <th>area</th>\n",
       "      <th>Shape_Leng</th>\n",
       "      <th>Shape_Area</th>\n",
       "      <th>geometry</th>\n",
       "    </tr>\n",
       "  </thead>\n",
       "  <tbody>\n",
       "    <tr>\n",
       "      <th>0</th>\n",
       "      <td>1249</td>\n",
       "      <td>SJF_Admiralty</td>\n",
       "      <td>None</td>\n",
       "      <td>380473.98</td>\n",
       "      <td>5365288.5</td>\n",
       "      <td>380500.860294</td>\n",
       "      <td>5.365280e+06</td>\n",
       "      <td>48.429395</td>\n",
       "      <td>-124.615801</td>\n",
       "      <td>160.628998</td>\n",
       "      <td>1</td>\n",
       "      <td>7</td>\n",
       "      <td>1.824350e+09</td>\n",
       "      <td>11357538.53</td>\n",
       "      <td>13249.778795</td>\n",
       "      <td>1.135754e+07</td>\n",
       "      <td>POLYGON ((378570.860 5364434.875, 378213.530 5...</td>\n",
       "    </tr>\n",
       "  </tbody>\n",
       "</table>\n",
       "</div>"
      ],
      "text/plain": [
       "   node_id          Basin uncategori          x          y          x_shp  \\\n",
       "0     1249  SJF_Admiralty       None  380473.98  5365288.5  380500.860294   \n",
       "\n",
       "          y_shp        lat         lon       depth  included_i  DO_std  \\\n",
       "0  5.365280e+06  48.429395 -124.615801  160.628998           1       7   \n",
       "\n",
       "         volume         area    Shape_Leng    Shape_Area  \\\n",
       "0  1.824350e+09  11357538.53  13249.778795  1.135754e+07   \n",
       "\n",
       "                                            geometry  \n",
       "0  POLYGON ((378570.860 5364434.875, 378213.530 5...  "
      ]
     },
     "execution_count": 65,
     "metadata": {},
     "output_type": "execute_result"
    }
   ],
   "source": [
    "gdf.head(1)"
   ]
  },
  {
   "cell_type": "markdown",
   "id": "61ecd1e4-9987-49d2-8887-f2a8214f84ee",
   "metadata": {},
   "source": [
    "#### get shapefile projection and map lat/lon point to projection"
   ]
  },
  {
   "cell_type": "code",
   "execution_count": 66,
   "id": "c52574d5-8a13-49bf-af9f-fe78c1b4a2db",
   "metadata": {},
   "outputs": [
    {
     "data": {
      "text/plain": [
       "32610"
      ]
     },
     "execution_count": 66,
     "metadata": {},
     "output_type": "execute_result"
    }
   ],
   "source": [
    "shapefile_EPSG = gdf.crs.to_epsg()\n",
    "shapefile_EPSG"
   ]
  },
  {
   "cell_type": "markdown",
   "id": "584b127d-af90-4f68-aee3-df56b74f621f",
   "metadata": {},
   "source": [
    "### plotting location lat/lon to shapefile projection"
   ]
  },
  {
   "cell_type": "code",
   "execution_count": 67,
   "id": "c0102d90-bc4f-406d-b155-6342e4fb2975",
   "metadata": {},
   "outputs": [],
   "source": [
    "transformer = Transformer.from_crs('WGS84',f'EPSG:{shapefile_EPSG}')\n",
    "#transformer = Transformer.from_crs('WGS84',f'EPSG:32610')\n",
    "station_loc_x, station_loc_y=transformer.transform(ilat,ilon) "
   ]
  },
  {
   "cell_type": "markdown",
   "id": "b8712b07-aedb-4935-9e6a-e37ccb1bc3f0",
   "metadata": {},
   "source": [
    "### model grid lat/lon to shapefile projection"
   ]
  },
  {
   "cell_type": "code",
   "execution_count": 68,
   "id": "db0af108-fa8e-417a-a76c-e38c05d6ebd9",
   "metadata": {},
   "outputs": [],
   "source": [
    "ssm_x,ssm_y=transformer.transform(gdf.lat,gdf.lon) "
   ]
  },
  {
   "cell_type": "markdown",
   "id": "55c658b7-b4b9-46d5-aa91-a7fc5c88efb4",
   "metadata": {},
   "source": [
    "### Evaluate max difference between transformed lat/lon and provided x-,y-"
   ]
  },
  {
   "cell_type": "code",
   "execution_count": 69,
   "id": "48336e00-3efc-4610-9796-f784b4e32b93",
   "metadata": {},
   "outputs": [
    {
     "data": {
      "text/plain": [
       "0.003832331334706396"
      ]
     },
     "execution_count": 69,
     "metadata": {},
     "output_type": "execute_result"
    }
   ],
   "source": [
    "max(abs(ssm_x-gdf.x))"
   ]
  },
  {
   "cell_type": "code",
   "execution_count": 70,
   "id": "04ccf2c0-c7fd-46ce-8d5b-8186404cf576",
   "metadata": {},
   "outputs": [
    {
     "data": {
      "text/plain": [
       "0.000744297169148922"
      ]
     },
     "execution_count": 70,
     "metadata": {},
     "output_type": "execute_result"
    }
   ],
   "source": [
    "max(abs(ssm_y-gdf.y))"
   ]
  },
  {
   "cell_type": "markdown",
   "id": "dc7d2eb7-d67e-4928-bef7-8f16270b52b4",
   "metadata": {},
   "source": [
    "###### That's small enough for me! "
   ]
  },
  {
   "cell_type": "markdown",
   "id": "c25adeb5-9225-4dac-9ee2-ff3a87215b27",
   "metadata": {},
   "source": [
    "### Apply pythagorean theorem to find nearest node"
   ]
  },
  {
   "cell_type": "code",
   "execution_count": 71,
   "id": "b6847ae9-5bca-4a9d-92a7-6946d445a387",
   "metadata": {},
   "outputs": [],
   "source": [
    "[n_nodes,n_attrs]=gdf.shape\n",
    "distance=(np.ones((n_nodes))*station_loc_x - ssm_x)**2 + \\\n",
    "         (np.ones((n_nodes))*station_loc_y - ssm_y)**2\n",
    "          \n",
    "# distance=(np.ones((16012,2))*station_loc_xy[:,0]-(np.ones((2,16012))*node_info['x'][:].values).T)**2+(np.ones((16012,2))*station_loc_xy[:,1]-(np.ones((2,16012))*node_info['y'][:].values).T)**2"
   ]
  },
  {
   "cell_type": "code",
   "execution_count": 72,
   "id": "4c5e6acd-fa82-4ee3-b8ad-a6f386009d7f",
   "metadata": {},
   "outputs": [
    {
     "data": {
      "text/plain": [
       "81395.62837201153"
      ]
     },
     "execution_count": 72,
     "metadata": {},
     "output_type": "execute_result"
    }
   ],
   "source": [
    "np.nanmin(distance)"
   ]
  },
  {
   "cell_type": "code",
   "execution_count": 73,
   "id": "048414c0-b4e0-4bff-8699-e974eb75f0ef",
   "metadata": {},
   "outputs": [],
   "source": [
    "#find the closest node index (find the minimum distance between the interested locations and node locations)\n",
    "closest_node_index=(distance==np.nanmin(distance))"
   ]
  },
  {
   "cell_type": "code",
   "execution_count": 74,
   "id": "44db46ba-e51a-4f9e-8813-85a67b989f4a",
   "metadata": {},
   "outputs": [
    {
     "name": "stdout",
     "output_type": "stream",
     "text": [
      "6367\n"
     ]
    }
   ],
   "source": [
    "node_id=gdf.node_id[closest_node_index].item()\n",
    "print(node_id)"
   ]
  },
  {
   "cell_type": "code",
   "execution_count": 75,
   "id": "d4354c67-d857-4760-a64c-1aff6d238f82",
   "metadata": {},
   "outputs": [
    {
     "name": "stdout",
     "output_type": "stream",
     "text": [
      "1455\n"
     ]
    }
   ],
   "source": [
    "index=gdf.index[closest_node_index].item()\n",
    "print(index)"
   ]
  },
  {
   "cell_type": "code",
   "execution_count": 76,
   "id": "27d6efbe-e6a3-4252-818a-d564ce0e8bf3",
   "metadata": {},
   "outputs": [
    {
     "data": {
      "text/plain": [
       "1455    6367\n",
       "Name: node_id, dtype: int64"
      ]
     },
     "execution_count": 76,
     "metadata": {},
     "output_type": "execute_result"
    }
   ],
   "source": [
    "gdf.node_id[closest_node_index]"
   ]
  },
  {
   "cell_type": "code",
   "execution_count": 77,
   "id": "6ab67b0a-e809-4dcd-85bc-838751463d10",
   "metadata": {},
   "outputs": [
    {
     "data": {
      "text/html": [
       "<div>\n",
       "<style scoped>\n",
       "    .dataframe tbody tr th:only-of-type {\n",
       "        vertical-align: middle;\n",
       "    }\n",
       "\n",
       "    .dataframe tbody tr th {\n",
       "        vertical-align: top;\n",
       "    }\n",
       "\n",
       "    .dataframe thead th {\n",
       "        text-align: right;\n",
       "    }\n",
       "</style>\n",
       "<table border=\"1\" class=\"dataframe\">\n",
       "  <thead>\n",
       "    <tr style=\"text-align: right;\">\n",
       "      <th></th>\n",
       "      <th>node_id</th>\n",
       "      <th>Basin</th>\n",
       "      <th>uncategori</th>\n",
       "      <th>x</th>\n",
       "      <th>y</th>\n",
       "      <th>x_shp</th>\n",
       "      <th>y_shp</th>\n",
       "      <th>lat</th>\n",
       "      <th>lon</th>\n",
       "      <th>depth</th>\n",
       "      <th>included_i</th>\n",
       "      <th>DO_std</th>\n",
       "      <th>volume</th>\n",
       "      <th>area</th>\n",
       "      <th>Shape_Leng</th>\n",
       "      <th>Shape_Area</th>\n",
       "      <th>geometry</th>\n",
       "    </tr>\n",
       "  </thead>\n",
       "  <tbody>\n",
       "    <tr>\n",
       "      <th>1455</th>\n",
       "      <td>6367</td>\n",
       "      <td>SOG_Bays</td>\n",
       "      <td>None</td>\n",
       "      <td>531651.81</td>\n",
       "      <td>5397148.1</td>\n",
       "      <td>531662.461145</td>\n",
       "      <td>5.397147e+06</td>\n",
       "      <td>48.726553</td>\n",
       "      <td>-122.569609</td>\n",
       "      <td>11.86</td>\n",
       "      <td>1</td>\n",
       "      <td>6</td>\n",
       "      <td>40221884.54</td>\n",
       "      <td>3391389.928</td>\n",
       "      <td>7196.201856</td>\n",
       "      <td>3.391390e+06</td>\n",
       "      <td>POLYGON ((532321.968 5396362.171, 532026.061 5...</td>\n",
       "    </tr>\n",
       "  </tbody>\n",
       "</table>\n",
       "</div>"
      ],
      "text/plain": [
       "      node_id     Basin uncategori          x          y          x_shp  \\\n",
       "1455     6367  SOG_Bays       None  531651.81  5397148.1  531662.461145   \n",
       "\n",
       "             y_shp        lat         lon  depth  included_i  DO_std  \\\n",
       "1455  5.397147e+06  48.726553 -122.569609  11.86           1       6   \n",
       "\n",
       "           volume         area   Shape_Leng    Shape_Area  \\\n",
       "1455  40221884.54  3391389.928  7196.201856  3.391390e+06   \n",
       "\n",
       "                                               geometry  \n",
       "1455  POLYGON ((532321.968 5396362.171, 532026.061 5...  "
      ]
     },
     "execution_count": 77,
     "metadata": {},
     "output_type": "execute_result"
    }
   ],
   "source": [
    "gdf_nearest=gdf.loc[gdf.node_id==node_id]\n",
    "gdf_nearest"
   ]
  },
  {
   "cell_type": "code",
   "execution_count": 78,
   "id": "4c6c6904-83e7-434f-9caa-649c66926b8f",
   "metadata": {},
   "outputs": [
    {
     "name": "stderr",
     "output_type": "stream",
     "text": [
      "/mmfs1/gscratch/ssmc/USRS/PSI/Rachael/.conda/envs/klone_jupyter/lib/python3.10/site-packages/geopandas/plotting.py:644: UserWarning: Only specify one of 'column' or 'color'. Using 'color'.\n",
      "  warnings.warn(\n",
      "/tmp/ipykernel_49601/2367208346.py:13: UserWarning: FixedFormatter should only be used together with FixedLocator\n",
      "  axs.set_xticklabels(xlabels,rotation=45)\n"
     ]
    },
    {
     "data": {
      "text/plain": [
       "[Text(520000.0, 0, '300000'),\n",
       " Text(522500.0, 0, '350000'),\n",
       " Text(525000.0, 0, '400000'),\n",
       " Text(527500.0, 0, '450000'),\n",
       " Text(530000.0, 0, '500000'),\n",
       " Text(532500.0, 0, '550000'),\n",
       " Text(535000.0, 0, '600000'),\n",
       " Text(537500.0, 0, ''),\n",
       " Text(540000.0, 0, '')]"
      ]
     },
     "execution_count": 78,
     "metadata": {},
     "output_type": "execute_result"
    },
    {
     "data": {
      "image/png": "[encoded data removed]",
      "text/plain": [
       "<Figure size 576x432 with 2 Axes>"
      ]
     },
     "metadata": {
      "needs_background": "light"
     },
     "output_type": "display_data"
    }
   ],
   "source": [
    "ssm_x_pt,ssm_y_pt = ssm_x[closest_node_index], ssm_y[closest_node_index]\n",
    "ssmloc = [Point(xy) for xy in zip(ssm_x,ssm_y)]\n",
    "fig, axs = plt.subplots(1,1, figsize = (8,6))\n",
    "gdf.plot('depth', ax=axs, legend=True)\n",
    "# Plot polygon of resulting location\n",
    "gdf_nearest.plot('node_id',ax=axs,color='red',legend=False)\n",
    "# Plot point using shapefile projection\n",
    "axs.plot(station_loc_x,station_loc_y, 'xw')\n",
    "# Zoom into Bbay so we can actualy see overlap\n",
    "axs.set_ylim(5.375e6,5.405e6)\n",
    "axs.set_xlim(5.2e5,5.4e5)\n",
    "xlabels=axs.get_xticklabels()\n",
    "axs.set_xticklabels(xlabels,rotation=45)"
   ]
  },
  {
   "cell_type": "markdown",
   "id": "79455338-c099-49d6-b8fd-051fa8c0bd4b",
   "metadata": {},
   "source": [
    "## Take a stab at creating a function "
   ]
  },
  {
   "cell_type": "code",
   "execution_count": 79,
   "id": "a51e2b96-2734-48f1-86a6-cefc458f3807",
   "metadata": {},
   "outputs": [],
   "source": [
    "def find_closest_node(lats,lons,shapefile):\n",
    "    \"\"\"\n",
    "    INPUTS:\n",
    "    - lats: single value or vector of values \n",
    "    - lons: single value or vector of values\n",
    "    - shapefile: path and .shp file name, combined\n",
    "    OUTPUTS:\n",
    "    - node_id: SSM node corresponding to specified lat/lon pair(s), and same length as input \n",
    "    - index: dataframe row index for nodes.  Same length as input. \n",
    "    - station_x, station_y: projected lat/lon station locations (for graphing purposes)\n",
    "    \"\"\"\n",
    "    # load shapefile\n",
    "    gdf = gpd.read_file(shapefile)\n",
    "    # get shapefile projection information\n",
    "    shapefile_EPSG = gdf.crs.to_epsg()\n",
    "    # create transformation from WGS84 to shapefile projection\n",
    "    transformer = Transformer.from_crs('WGS84',f'EPSG:{shapefile_EPSG}')\n",
    "    # transform lat(s) and lon(s) to shapefile projection (in meters)\n",
    "    stations_y, stations_x=transformer.transform(lats, lons) \n",
    "    # create vector of SSM model lats and lons projected to shapefile projection (in meters)\n",
    "    ssm_y, ssm_x=transformer.transform(gdf.lat, gdf.lon) \n",
    "    # calculate distance(s) between lat/lon location(s) and model nodes\n",
    "    [n_nodes,n_attrs]=gdf.shape\n",
    "    index=[]\n",
    "    node_id=[]\n",
    "    try: # for array of station locations\n",
    "        # find nearest node index and ID\n",
    "        for idx in range(0,len(stations_y)):\n",
    "            distance=(np.ones((n_nodes))*stations_x[idx] - ssm_x)**2 + \\\n",
    "                     (np.ones((n_nodes))*stations_y[idx] - ssm_y)**2  \n",
    "            #create boolean vector with True for node with the closest node index (find the minimum distance between the interested locations and node locations)           \n",
    "            closest_node_index=(distance==np.nanmin(distance))\n",
    "            # get index where True\n",
    "            index.append(np.where(closest_node_index)[0].item())\n",
    "            # identify nearest SSM node ID(s) to lat/lon locations \n",
    "            node_id.append(gdf.node_id[closest_node_index].item())\n",
    "            \n",
    "    except: # for single station location\n",
    "        distance=(np.ones((n_nodes))*stations_x - ssm_x)**2 + \\\n",
    "                  (np.ones((n_nodes))*stations_y - ssm_y)**2 \n",
    "        #create boolean vector with True for node with the closest node index (find the minimum distance between the interested locations and node locations)\n",
    "        closest_node_index=(distance==np.nanmin(distance))\n",
    "        # get index where True\n",
    "        index.append(np.where(closest_node_index)[0].item())\n",
    "        # identify nearest SSM node ID(s) to lat/lon locations \n",
    "        node_id.append(gdf.node_id[closest_node_index].item())\n",
    "    return node_id,index,stations_x, stations_y"
   ]
  },
  {
   "cell_type": "markdown",
   "id": "a42031cc-4959-4540-9644-2064a90dec44",
   "metadata": {
    "tags": []
   },
   "source": [
    "## Now let's try with many points\n",
    "- BBay outfall buoy, NOAA Station 46118 (48.724, -122.57)\n",
    "- Ecology low DO location in BBay...as my guestimate on location (48.767422,-122.575792)\n",
    "- Birch Bay WWTP outfall...as my guestimate on location (48.898880, -122.781905) and/or \n",
    "  (48.895273,-122.805067) for location ~2,000 ft off Point Whitehorn\n",
    "- Cherry Point aquatic reserve (48.868451, -122.780400)\n",
    "- Eastsound (48.684406, -122.898953)"
   ]
  },
  {
   "cell_type": "code",
   "execution_count": 80,
   "id": "fe2c986f-f50d-46e0-be9d-78a3bb31d823",
   "metadata": {},
   "outputs": [],
   "source": [
    "station_id=[\n",
    "    'NOAA Station 46118', \n",
    "    'BHAM-Bay Low DO', \n",
    "    'Birch Bay', \n",
    "    'Birch Bay (Point Whitehorn)',\n",
    "    'Cherry Point', \n",
    "    'Eastsound']\n",
    "station_lat=np.array([48.724, 48.767422, 48.898880, 48.895273, 48.868451, 48.684406])\n",
    "station_lon=np.array([-122.57, -122.575792, -122.781905, -122.805067, -122.780400, -122.898953])"
   ]
  },
  {
   "cell_type": "code",
   "execution_count": 81,
   "id": "bd3f2a2a-ab7a-4242-8e23-6dc3f3c2c77c",
   "metadata": {},
   "outputs": [],
   "source": [
    "node_id, df_index, st_x, st_y = find_closest_node(station_lat, station_lon, shapefile_path)"
   ]
  },
  {
   "cell_type": "code",
   "execution_count": 82,
   "id": "3c88857c-1b66-4bd7-ac7e-44d32ca12d89",
   "metadata": {},
   "outputs": [
    {
     "data": {
      "text/plain": [
       "[6367, 6567, 5845, 5844, 5615, 5212]"
      ]
     },
     "execution_count": 82,
     "metadata": {},
     "output_type": "execute_result"
    }
   ],
   "source": [
    "node_id"
   ]
  },
  {
   "cell_type": "code",
   "execution_count": 83,
   "id": "2eade2ac-5ec3-444a-8e43-4e1f3e1cc521",
   "metadata": {},
   "outputs": [
    {
     "data": {
      "text/plain": [
       "[1455, 1545, 1256, 1255, 1166, 976]"
      ]
     },
     "execution_count": 83,
     "metadata": {},
     "output_type": "execute_result"
    }
   ],
   "source": [
    "df_index"
   ]
  },
  {
   "cell_type": "code",
   "execution_count": 84,
   "id": "1157b256-60c5-487f-8c4f-9f638f66931c",
   "metadata": {},
   "outputs": [
    {
     "data": {
      "text/plain": [
       "6"
      ]
     },
     "execution_count": 84,
     "metadata": {},
     "output_type": "execute_result"
    }
   ],
   "source": [
    "len(ssm_pt)"
   ]
  },
  {
   "cell_type": "markdown",
   "id": "a3fb9cb6-d2c6-46cb-a699-17640bdb149c",
   "metadata": {},
   "source": [
    "## Plot up the results!"
   ]
  },
  {
   "cell_type": "code",
   "execution_count": 85,
   "id": "f80b5bb9-c17d-4a63-98df-228dba939651",
   "metadata": {},
   "outputs": [
    {
     "name": "stderr",
     "output_type": "stream",
     "text": [
      "/mmfs1/gscratch/ssmc/USRS/PSI/Rachael/.conda/envs/klone_jupyter/lib/python3.10/site-packages/geopandas/plotting.py:644: UserWarning: Only specify one of 'column' or 'color'. Using 'color'.\n",
      "  warnings.warn(\n",
      "/tmp/ipykernel_49601/440955641.py:15: UserWarning: FixedFormatter should only be used together with FixedLocator\n",
      "  axs.set_xticklabels(xlabels,rotation=45)\n"
     ]
    },
    {
     "data": {
      "text/plain": [
       "[Text(500000.0, 0, '300000'),\n",
       " Text(505000.0, 0, '350000'),\n",
       " Text(510000.0, 0, '400000'),\n",
       " Text(515000.0, 0, '450000'),\n",
       " Text(520000.0, 0, '500000'),\n",
       " Text(525000.0, 0, '550000'),\n",
       " Text(530000.0, 0, '600000'),\n",
       " Text(535000.0, 0, ''),\n",
       " Text(540000.0, 0, '')]"
      ]
     },
     "execution_count": 85,
     "metadata": {},
     "output_type": "execute_result"
    },
    {
     "data": {
      "image/png": "[encoded data removed]",
      "text/plain": [
       "<Figure size 576x432 with 2 Axes>"
      ]
     },
     "metadata": {
      "needs_background": "light"
     },
     "output_type": "display_data"
    }
   ],
   "source": [
    "# sub-sample geodataframe with just the selected nodes\n",
    "gdf_nearest=gdf.loc[gdf.node_id.isin(node_id)]\n",
    "\n",
    "fig, axs = plt.subplots(1,1, figsize = (8,6))\n",
    "gdf.plot('depth', ax=axs, legend=True)\n",
    "# Plot polygon of resulting location\n",
    "gdf_nearest.plot('node_id',ax=axs,color='red',legend=False)\n",
    "# Plot point using shapefile projection\n",
    "for xy in zip(st_x,st_y):\n",
    "    axs.plot(xy[1], xy[0], 'xw')\n",
    "# Zoom into Bbay so we can actualy see overlap\n",
    "axs.set_ylim(5.37e6,5.42e6)\n",
    "axs.set_xlim(5e5,5.4e5)\n",
    "xlabels=axs.get_xticklabels()\n",
    "axs.set_xticklabels(xlabels,rotation=45)"
   ]
  },
  {
   "cell_type": "markdown",
   "id": "bebd9618-4e71-48d5-ac4f-f8a0b17d4076",
   "metadata": {},
   "source": [
    "## Everything below this point is development \"notes\""
   ]
  },
  {
   "cell_type": "code",
   "execution_count": 14,
   "id": "73385340-8739-4011-a0fc-fce1607ddc6c",
   "metadata": {},
   "outputs": [
    {
     "name": "stdout",
     "output_type": "stream",
     "text": [
      "0\n"
     ]
    },
    {
     "name": "stderr",
     "output_type": "stream",
     "text": [
      "/mmfs1/gscratch/ssmc/USRS/PSI/Rachael/.conda/envs/klone_jupyter/lib/python3.10/site-packages/geopandas/base.py:31: UserWarning: The indices of the two GeoSeries are different.\n",
      "  warn(\"The indices of the two GeoSeries are different.\")\n"
     ]
    }
   ],
   "source": [
    "# Kevin's shapefile\n",
    "root_dir = Path(\n",
    "    '/mmfs1/gscratch/ssmc/USRS/PSI/Rachael/projects/KingCounty/KingCounty-Rachael/'\n",
    ")\n",
    "shapefile_path = root_dir/'kevin_shapefiles/SSMGrid2_060922/SSMGrid2_060922.shp'\n",
    "\n",
    "    \n",
    "nearest_node = estimate_nearest_node(shapefile_path,ilat,ilon)\n"
   ]
  },
  {
   "cell_type": "code",
   "execution_count": 15,
   "id": "f190cbaa-0d1d-4a20-adff-c00e6b802459",
   "metadata": {},
   "outputs": [
    {
     "ename": "AttributeError",
     "evalue": "'str' object has no attribute 'distance'",
     "output_type": "error",
     "traceback": [
      "\u001b[0;31m---------------------------------------------------------------------------\u001b[0m",
      "\u001b[0;31mAttributeError\u001b[0m                            Traceback (most recent call last)",
      "Input \u001b[0;32mIn [15]\u001b[0m, in \u001b[0;36m<cell line: 12>\u001b[0;34m()\u001b[0m\n\u001b[1;32m      9\u001b[0m geo_df_iloc \u001b[38;5;241m=\u001b[39m geo_df_iloc\u001b[38;5;241m.\u001b[39mto_crs(crs \u001b[38;5;241m=\u001b[39m gdf\u001b[38;5;241m.\u001b[39mcrs)\n\u001b[1;32m     11\u001b[0m \u001b[38;5;66;03m# find nearest polygon to point\u001b[39;00m\n\u001b[0;32m---> 12\u001b[0m polygon_index \u001b[38;5;241m=\u001b[39m [poly\u001b[38;5;241m.\u001b[39mdistance(geo_df_iloc) \u001b[38;5;28;01mfor\u001b[39;00m poly \u001b[38;5;129;01min\u001b[39;00m gdf]\n\u001b[1;32m     13\u001b[0m gdf\u001b[38;5;241m.\u001b[39mloc[polygon_index]\n",
      "Input \u001b[0;32mIn [15]\u001b[0m, in \u001b[0;36m<listcomp>\u001b[0;34m(.0)\u001b[0m\n\u001b[1;32m      9\u001b[0m geo_df_iloc \u001b[38;5;241m=\u001b[39m geo_df_iloc\u001b[38;5;241m.\u001b[39mto_crs(crs \u001b[38;5;241m=\u001b[39m gdf\u001b[38;5;241m.\u001b[39mcrs)\n\u001b[1;32m     11\u001b[0m \u001b[38;5;66;03m# find nearest polygon to point\u001b[39;00m\n\u001b[0;32m---> 12\u001b[0m polygon_index \u001b[38;5;241m=\u001b[39m [\u001b[43mpoly\u001b[49m\u001b[38;5;241;43m.\u001b[39;49m\u001b[43mdistance\u001b[49m(geo_df_iloc) \u001b[38;5;28;01mfor\u001b[39;00m poly \u001b[38;5;129;01min\u001b[39;00m gdf]\n\u001b[1;32m     13\u001b[0m gdf\u001b[38;5;241m.\u001b[39mloc[polygon_index]\n",
      "\u001b[0;31mAttributeError\u001b[0m: 'str' object has no attribute 'distance'"
     ]
    }
   ],
   "source": [
    "from shapely.geometry import Point\n",
    "from pyproj import CRS\n",
    "# load shapefil\n",
    "gdf = gpd.read_file(shapefile_path)\n",
    "# project lat/lon to shapefile coordinate\n",
    "iloc = [Point(xy) for xy in zip([ilon],[ilat])]\n",
    "crs = CRS('epsg:6318')\n",
    "geo_df_iloc = gpd.GeoDataFrame(geometry = iloc, crs = crs)\n",
    "geo_df_iloc = geo_df_iloc.to_crs(crs = gdf.crs)\n",
    "\n",
    "# find nearest polygon to point\n",
    "polygon_index = [poly.distance(geo_df_iloc) for poly in gdf]\n",
    "gdf.loc[polygon_index]"
   ]
  },
  {
   "cell_type": "code",
   "execution_count": 24,
   "id": "4a5800d5-fd29-46ff-bd69-58ab50ec6de4",
   "metadata": {},
   "outputs": [
    {
     "data": {
      "text/plain": [
       "0    POINT (-13644429.987 6228159.068)\n",
       "Name: geometry, dtype: geometry"
      ]
     },
     "execution_count": 24,
     "metadata": {},
     "output_type": "execute_result"
    }
   ],
   "source": [
    "geo_df_iloc['geometry']"
   ]
  },
  {
   "cell_type": "code",
   "execution_count": 13,
   "id": "c9e79eb2-8457-4291-8020-267710871baa",
   "metadata": {},
   "outputs": [
    {
     "data": {
      "text/html": [
       "<div>\n",
       "<style scoped>\n",
       "    .dataframe tbody tr th:only-of-type {\n",
       "        vertical-align: middle;\n",
       "    }\n",
       "\n",
       "    .dataframe tbody tr th {\n",
       "        vertical-align: top;\n",
       "    }\n",
       "\n",
       "    .dataframe thead th {\n",
       "        text-align: right;\n",
       "    }\n",
       "</style>\n",
       "<table border=\"1\" class=\"dataframe\">\n",
       "  <thead>\n",
       "    <tr style=\"text-align: right;\">\n",
       "      <th></th>\n",
       "      <th>node_id</th>\n",
       "      <th>Basin</th>\n",
       "      <th>uncategori</th>\n",
       "      <th>x</th>\n",
       "      <th>y</th>\n",
       "      <th>lat</th>\n",
       "      <th>lon</th>\n",
       "      <th>depth</th>\n",
       "      <th>included_i</th>\n",
       "      <th>DO_std</th>\n",
       "      <th>volume</th>\n",
       "      <th>area</th>\n",
       "      <th>Shape_Leng</th>\n",
       "      <th>Shape_Area</th>\n",
       "      <th>geometry</th>\n",
       "    </tr>\n",
       "  </thead>\n",
       "  <tbody>\n",
       "    <tr>\n",
       "      <th>0</th>\n",
       "      <td>1249</td>\n",
       "      <td>SJF_Admiralty</td>\n",
       "      <td>None</td>\n",
       "      <td>380473.98</td>\n",
       "      <td>5365288.5</td>\n",
       "      <td>48.429395</td>\n",
       "      <td>-124.615801</td>\n",
       "      <td>160.628998</td>\n",
       "      <td>1</td>\n",
       "      <td>7</td>\n",
       "      <td>1.824350e+09</td>\n",
       "      <td>1.135754e+07</td>\n",
       "      <td>19963.958367</td>\n",
       "      <td>2.578675e+07</td>\n",
       "      <td>POLYGON ((-13875002.725 6177241.606, -13875563...</td>\n",
       "    </tr>\n",
       "    <tr>\n",
       "      <th>1</th>\n",
       "      <td>1336</td>\n",
       "      <td>SJF_Admiralty</td>\n",
       "      <td>None</td>\n",
       "      <td>381900.00</td>\n",
       "      <td>5361920.0</td>\n",
       "      <td>48.399371</td>\n",
       "      <td>-124.595583</td>\n",
       "      <td>128.695007</td>\n",
       "      <td>1</td>\n",
       "      <td>7</td>\n",
       "      <td>1.030327e+09</td>\n",
       "      <td>8.005960e+06</td>\n",
       "      <td>16094.802435</td>\n",
       "      <td>1.815623e+07</td>\n",
       "      <td>POLYGON ((-13871902.847 6172073.657, -13872526...</td>\n",
       "    </tr>\n",
       "  </tbody>\n",
       "</table>\n",
       "</div>"
      ],
      "text/plain": [
       "   node_id          Basin uncategori          x          y        lat  \\\n",
       "0     1249  SJF_Admiralty       None  380473.98  5365288.5  48.429395   \n",
       "1     1336  SJF_Admiralty       None  381900.00  5361920.0  48.399371   \n",
       "\n",
       "          lon       depth  included_i  DO_std        volume          area  \\\n",
       "0 -124.615801  160.628998           1       7  1.824350e+09  1.135754e+07   \n",
       "1 -124.595583  128.695007           1       7  1.030327e+09  8.005960e+06   \n",
       "\n",
       "     Shape_Leng    Shape_Area  \\\n",
       "0  19963.958367  2.578675e+07   \n",
       "1  16094.802435  1.815623e+07   \n",
       "\n",
       "                                            geometry  \n",
       "0  POLYGON ((-13875002.725 6177241.606, -13875563...  \n",
       "1  POLYGON ((-13871902.847 6172073.657, -13872526...  "
      ]
     },
     "execution_count": 13,
     "metadata": {},
     "output_type": "execute_result"
    }
   ],
   "source": [
    "gdf.head(2)"
   ]
  },
  {
   "cell_type": "code",
   "execution_count": 19,
   "id": "734073f9-2676-477b-92ed-e64b898ce0ac",
   "metadata": {},
   "outputs": [
    {
     "name": "stderr",
     "output_type": "stream",
     "text": [
      "/mmfs1/gscratch/ssmc/USRS/PSI/Rachael/.conda/envs/klone_jupyter/lib/python3.10/site-packages/geopandas/base.py:31: UserWarning: The indices of the two GeoSeries are different.\n",
      "  warn(\"The indices of the two GeoSeries are different.\")\n"
     ]
    },
    {
     "data": {
      "text/plain": [
       "0       229844.438898\n",
       "1                 NaN\n",
       "2                 NaN\n",
       "3                 NaN\n",
       "4                 NaN\n",
       "            ...      \n",
       "7489              NaN\n",
       "7490              NaN\n",
       "7491              NaN\n",
       "7492              NaN\n",
       "7493              NaN\n",
       "Length: 7494, dtype: float64"
      ]
     },
     "execution_count": 19,
     "metadata": {},
     "output_type": "execute_result"
    }
   ],
   "source": [
    "geo_df_iloc.distance(gdf)"
   ]
  },
  {
   "cell_type": "code",
   "execution_count": 15,
   "id": "cc488643-0842-41b5-a260-17fb02b80913",
   "metadata": {},
   "outputs": [
    {
     "ename": "AttributeError",
     "evalue": "'GeoDataFrame' object has no attribute '_geom'",
     "output_type": "error",
     "traceback": [
      "\u001b[0;31m---------------------------------------------------------------------------\u001b[0m",
      "\u001b[0;31mAttributeError\u001b[0m                            Traceback (most recent call last)",
      "Input \u001b[0;32mIn [15]\u001b[0m, in \u001b[0;36m<cell line: 1>\u001b[0;34m()\u001b[0m\n\u001b[0;32m----> 1\u001b[0m [poly\u001b[38;5;241m.\u001b[39mdistance(geo_df_iloc) \u001b[38;5;28;01mfor\u001b[39;00m poly \u001b[38;5;129;01min\u001b[39;00m gdf[\u001b[38;5;124m'\u001b[39m\u001b[38;5;124mgeometry\u001b[39m\u001b[38;5;124m'\u001b[39m]]\n",
      "Input \u001b[0;32mIn [15]\u001b[0m, in \u001b[0;36m<listcomp>\u001b[0;34m(.0)\u001b[0m\n\u001b[0;32m----> 1\u001b[0m [\u001b[43mpoly\u001b[49m\u001b[38;5;241;43m.\u001b[39;49m\u001b[43mdistance\u001b[49m\u001b[43m(\u001b[49m\u001b[43mgeo_df_iloc\u001b[49m\u001b[43m)\u001b[49m \u001b[38;5;28;01mfor\u001b[39;00m poly \u001b[38;5;129;01min\u001b[39;00m gdf[\u001b[38;5;124m'\u001b[39m\u001b[38;5;124mgeometry\u001b[39m\u001b[38;5;124m'\u001b[39m]]\n",
      "File \u001b[0;32m~/.conda/envs/klone_jupyter/lib/python3.10/site-packages/shapely/geometry/base.py:440\u001b[0m, in \u001b[0;36mBaseGeometry.distance\u001b[0;34m(self, other)\u001b[0m\n\u001b[1;32m    438\u001b[0m \u001b[38;5;28;01mdef\u001b[39;00m \u001b[38;5;21mdistance\u001b[39m(\u001b[38;5;28mself\u001b[39m, other):\n\u001b[1;32m    439\u001b[0m     \u001b[38;5;124;03m\"\"\"Unitless distance to other geometry (float)\"\"\"\u001b[39;00m\n\u001b[0;32m--> 440\u001b[0m     \u001b[38;5;28;01mreturn\u001b[39;00m \u001b[38;5;28;43mself\u001b[39;49m\u001b[38;5;241;43m.\u001b[39;49m\u001b[43mimpl\u001b[49m\u001b[43m[\u001b[49m\u001b[38;5;124;43m'\u001b[39;49m\u001b[38;5;124;43mdistance\u001b[39;49m\u001b[38;5;124;43m'\u001b[39;49m\u001b[43m]\u001b[49m\u001b[43m(\u001b[49m\u001b[38;5;28;43mself\u001b[39;49m\u001b[43m,\u001b[49m\u001b[43m \u001b[49m\u001b[43mother\u001b[49m\u001b[43m)\u001b[49m\n",
      "File \u001b[0;32m~/.conda/envs/klone_jupyter/lib/python3.10/site-packages/shapely/topology.py:48\u001b[0m, in \u001b[0;36mBinaryRealProperty.__call__\u001b[0;34m(self, this, other)\u001b[0m\n\u001b[1;32m     46\u001b[0m \u001b[38;5;28;01mdef\u001b[39;00m \u001b[38;5;21m__call__\u001b[39m(\u001b[38;5;28mself\u001b[39m, this, other):\n\u001b[1;32m     47\u001b[0m     \u001b[38;5;28mself\u001b[39m\u001b[38;5;241m.\u001b[39m_validate(this)\n\u001b[0;32m---> 48\u001b[0m     \u001b[38;5;28;43mself\u001b[39;49m\u001b[38;5;241;43m.\u001b[39;49m\u001b[43m_validate\u001b[49m\u001b[43m(\u001b[49m\u001b[43mother\u001b[49m\u001b[43m,\u001b[49m\u001b[43m \u001b[49m\u001b[43mstop_prepared\u001b[49m\u001b[38;5;241;43m=\u001b[39;49m\u001b[38;5;28;43;01mTrue\u001b[39;49;00m\u001b[43m)\u001b[49m\n\u001b[1;32m     49\u001b[0m     d \u001b[38;5;241m=\u001b[39m c_double()\n\u001b[1;32m     50\u001b[0m     retval \u001b[38;5;241m=\u001b[39m \u001b[38;5;28mself\u001b[39m\u001b[38;5;241m.\u001b[39mfn(this\u001b[38;5;241m.\u001b[39m_geom, other\u001b[38;5;241m.\u001b[39m_geom, byref(d))\n",
      "File \u001b[0;32m~/.conda/envs/klone_jupyter/lib/python3.10/site-packages/shapely/topology.py:18\u001b[0m, in \u001b[0;36mValidating._validate\u001b[0;34m(self, ob, stop_prepared)\u001b[0m\n\u001b[1;32m     17\u001b[0m \u001b[38;5;28;01mdef\u001b[39;00m \u001b[38;5;21m_validate\u001b[39m(\u001b[38;5;28mself\u001b[39m, ob, stop_prepared\u001b[38;5;241m=\u001b[39m\u001b[38;5;28;01mFalse\u001b[39;00m):\n\u001b[0;32m---> 18\u001b[0m     \u001b[38;5;28;01mif\u001b[39;00m ob \u001b[38;5;129;01mis\u001b[39;00m \u001b[38;5;28;01mNone\u001b[39;00m \u001b[38;5;129;01mor\u001b[39;00m \u001b[43mob\u001b[49m\u001b[38;5;241;43m.\u001b[39;49m\u001b[43m_geom\u001b[49m \u001b[38;5;129;01mis\u001b[39;00m \u001b[38;5;28;01mNone\u001b[39;00m:\n\u001b[1;32m     19\u001b[0m         \u001b[38;5;28;01mraise\u001b[39;00m InvalidGeometryError(\u001b[38;5;124m\"\u001b[39m\u001b[38;5;124mNull geometry supports no operations\u001b[39m\u001b[38;5;124m\"\u001b[39m)\n\u001b[1;32m     20\u001b[0m     \u001b[38;5;28;01mif\u001b[39;00m stop_prepared \u001b[38;5;129;01mand\u001b[39;00m \u001b[38;5;28mhasattr\u001b[39m(ob, \u001b[38;5;124m'\u001b[39m\u001b[38;5;124mprepared\u001b[39m\u001b[38;5;124m'\u001b[39m):\n",
      "File \u001b[0;32m~/.conda/envs/klone_jupyter/lib/python3.10/site-packages/pandas/core/generic.py:5575\u001b[0m, in \u001b[0;36mNDFrame.__getattr__\u001b[0;34m(self, name)\u001b[0m\n\u001b[1;32m   5568\u001b[0m \u001b[38;5;28;01mif\u001b[39;00m (\n\u001b[1;32m   5569\u001b[0m     name \u001b[38;5;129;01mnot\u001b[39;00m \u001b[38;5;129;01min\u001b[39;00m \u001b[38;5;28mself\u001b[39m\u001b[38;5;241m.\u001b[39m_internal_names_set\n\u001b[1;32m   5570\u001b[0m     \u001b[38;5;129;01mand\u001b[39;00m name \u001b[38;5;129;01mnot\u001b[39;00m \u001b[38;5;129;01min\u001b[39;00m \u001b[38;5;28mself\u001b[39m\u001b[38;5;241m.\u001b[39m_metadata\n\u001b[1;32m   5571\u001b[0m     \u001b[38;5;129;01mand\u001b[39;00m name \u001b[38;5;129;01mnot\u001b[39;00m \u001b[38;5;129;01min\u001b[39;00m \u001b[38;5;28mself\u001b[39m\u001b[38;5;241m.\u001b[39m_accessors\n\u001b[1;32m   5572\u001b[0m     \u001b[38;5;129;01mand\u001b[39;00m \u001b[38;5;28mself\u001b[39m\u001b[38;5;241m.\u001b[39m_info_axis\u001b[38;5;241m.\u001b[39m_can_hold_identifiers_and_holds_name(name)\n\u001b[1;32m   5573\u001b[0m ):\n\u001b[1;32m   5574\u001b[0m     \u001b[38;5;28;01mreturn\u001b[39;00m \u001b[38;5;28mself\u001b[39m[name]\n\u001b[0;32m-> 5575\u001b[0m \u001b[38;5;28;01mreturn\u001b[39;00m \u001b[38;5;28;43mobject\u001b[39;49m\u001b[38;5;241;43m.\u001b[39;49m\u001b[38;5;21;43m__getattribute__\u001b[39;49m\u001b[43m(\u001b[49m\u001b[38;5;28;43mself\u001b[39;49m\u001b[43m,\u001b[49m\u001b[43m \u001b[49m\u001b[43mname\u001b[49m\u001b[43m)\u001b[49m\n",
      "\u001b[0;31mAttributeError\u001b[0m: 'GeoDataFrame' object has no attribute '_geom'"
     ]
    }
   ],
   "source": [
    "[poly.distance(geo_df_iloc) for poly in gdf['geometry']]"
   ]
  },
  {
   "cell_type": "code",
   "execution_count": 8,
   "id": "4c9ea025-2c40-49d8-a23e-6021419198bf",
   "metadata": {},
   "outputs": [
    {
     "data": {
      "text/plain": [
       "0"
      ]
     },
     "execution_count": 8,
     "metadata": {},
     "output_type": "execute_result"
    }
   ],
   "source": [
    "polygon_index"
   ]
  },
  {
   "cell_type": "code",
   "execution_count": 7,
   "id": "35af28ba-1d68-4e48-8827-3847f308d2bb",
   "metadata": {},
   "outputs": [
    {
     "data": {
      "text/html": [
       "<div>\n",
       "<style scoped>\n",
       "    .dataframe tbody tr th:only-of-type {\n",
       "        vertical-align: middle;\n",
       "    }\n",
       "\n",
       "    .dataframe tbody tr th {\n",
       "        vertical-align: top;\n",
       "    }\n",
       "\n",
       "    .dataframe thead th {\n",
       "        text-align: right;\n",
       "    }\n",
       "</style>\n",
       "<table border=\"1\" class=\"dataframe\">\n",
       "  <thead>\n",
       "    <tr style=\"text-align: right;\">\n",
       "      <th></th>\n",
       "      <th>geometry</th>\n",
       "    </tr>\n",
       "  </thead>\n",
       "  <tbody>\n",
       "    <tr>\n",
       "      <th>0</th>\n",
       "      <td>POINT (-13644429.987 6228159.068)</td>\n",
       "    </tr>\n",
       "  </tbody>\n",
       "</table>\n",
       "</div>"
      ],
      "text/plain": [
       "                            geometry\n",
       "0  POINT (-13644429.987 6228159.068)"
      ]
     },
     "execution_count": 7,
     "metadata": {},
     "output_type": "execute_result"
    }
   ],
   "source": [
    "geo_df_iloc"
   ]
  },
  {
   "cell_type": "markdown",
   "id": "06b3dab3-b7b4-488b-9743-bc82cf175a51",
   "metadata": {},
   "source": [
    "## Load shapefiles"
   ]
  },
  {
   "cell_type": "code",
   "execution_count": 4,
   "id": "1d6aaa7f-42d2-4c1b-8d69-d08885f2bede",
   "metadata": {},
   "outputs": [
    {
     "data": {
      "text/html": [
       "<div>\n",
       "<style scoped>\n",
       "    .dataframe tbody tr th:only-of-type {\n",
       "        vertical-align: middle;\n",
       "    }\n",
       "\n",
       "    .dataframe tbody tr th {\n",
       "        vertical-align: top;\n",
       "    }\n",
       "\n",
       "    .dataframe thead th {\n",
       "        text-align: right;\n",
       "    }\n",
       "</style>\n",
       "<table border=\"1\" class=\"dataframe\">\n",
       "  <thead>\n",
       "    <tr style=\"text-align: right;\">\n",
       "      <th></th>\n",
       "      <th>node_id</th>\n",
       "      <th>Basin</th>\n",
       "      <th>uncategori</th>\n",
       "      <th>x</th>\n",
       "      <th>y</th>\n",
       "      <th>lat</th>\n",
       "      <th>lon</th>\n",
       "      <th>depth</th>\n",
       "      <th>included_i</th>\n",
       "      <th>DO_std</th>\n",
       "      <th>volume</th>\n",
       "      <th>area</th>\n",
       "      <th>Shape_Leng</th>\n",
       "      <th>Shape_Area</th>\n",
       "      <th>geometry</th>\n",
       "    </tr>\n",
       "  </thead>\n",
       "  <tbody>\n",
       "    <tr>\n",
       "      <th>0</th>\n",
       "      <td>1249</td>\n",
       "      <td>SJF_Admiralty</td>\n",
       "      <td>None</td>\n",
       "      <td>380473.98</td>\n",
       "      <td>5365288.5</td>\n",
       "      <td>48.429395</td>\n",
       "      <td>-124.615801</td>\n",
       "      <td>160.628998</td>\n",
       "      <td>1</td>\n",
       "      <td>7</td>\n",
       "      <td>1.824350e+09</td>\n",
       "      <td>1.135754e+07</td>\n",
       "      <td>19963.958367</td>\n",
       "      <td>2.578675e+07</td>\n",
       "      <td>POLYGON ((-13875002.725 6177241.606, -13875563...</td>\n",
       "    </tr>\n",
       "    <tr>\n",
       "      <th>1</th>\n",
       "      <td>1336</td>\n",
       "      <td>SJF_Admiralty</td>\n",
       "      <td>None</td>\n",
       "      <td>381900.00</td>\n",
       "      <td>5361920.0</td>\n",
       "      <td>48.399371</td>\n",
       "      <td>-124.595583</td>\n",
       "      <td>128.695007</td>\n",
       "      <td>1</td>\n",
       "      <td>7</td>\n",
       "      <td>1.030327e+09</td>\n",
       "      <td>8.005960e+06</td>\n",
       "      <td>16094.802435</td>\n",
       "      <td>1.815623e+07</td>\n",
       "      <td>POLYGON ((-13871902.847 6172073.657, -13872526...</td>\n",
       "    </tr>\n",
       "  </tbody>\n",
       "</table>\n",
       "</div>"
      ],
      "text/plain": [
       "   node_id          Basin uncategori          x          y        lat  \\\n",
       "0     1249  SJF_Admiralty       None  380473.98  5365288.5  48.429395   \n",
       "1     1336  SJF_Admiralty       None  381900.00  5361920.0  48.399371   \n",
       "\n",
       "          lon       depth  included_i  DO_std        volume          area  \\\n",
       "0 -124.615801  160.628998           1       7  1.824350e+09  1.135754e+07   \n",
       "1 -124.595583  128.695007           1       7  1.030327e+09  8.005960e+06   \n",
       "\n",
       "     Shape_Leng    Shape_Area  \\\n",
       "0  19963.958367  2.578675e+07   \n",
       "1  16094.802435  1.815623e+07   \n",
       "\n",
       "                                            geometry  \n",
       "0  POLYGON ((-13875002.725 6177241.606, -13875563...  \n",
       "1  POLYGON ((-13871902.847 6172073.657, -13872526...  "
      ]
     },
     "execution_count": 4,
     "metadata": {},
     "output_type": "execute_result"
    }
   ],
   "source": [
    "root_dir = Path(\n",
    "    '/mmfs1/gscratch/ssmc/USRS/PSI/Rachael/projects/KingCounty/KingCounty-Rachael/'\n",
    ")\n",
    "shapefile_path = root_dir/'kevin_shapefiles/SSMGrid2_060922/SSMGrid2_060922.shp'\n",
    "gdf = gpd.read_file(shapefile_path)\n",
    "gdf.head(2)"
   ]
  },
  {
   "cell_type": "code",
   "execution_count": 5,
   "id": "cde21a17-02bf-4eda-9a1c-c169f914957c",
   "metadata": {},
   "outputs": [
    {
     "data": {
      "text/plain": [
       "<Derived Projected CRS: EPSG:3857>\n",
       "Name: WGS 84 / Pseudo-Mercator\n",
       "Axis Info [cartesian]:\n",
       "- X[east]: Easting (metre)\n",
       "- Y[north]: Northing (metre)\n",
       "Area of Use:\n",
       "- name: World between 85.06°S and 85.06°N.\n",
       "- bounds: (-180.0, -85.06, 180.0, 85.06)\n",
       "Coordinate Operation:\n",
       "- name: Popular Visualisation Pseudo-Mercator\n",
       "- method: Popular Visualisation Pseudo Mercator\n",
       "Datum: World Geodetic System 1984 ensemble\n",
       "- Ellipsoid: WGS 84\n",
       "- Prime Meridian: Greenwich"
      ]
     },
     "execution_count": 5,
     "metadata": {},
     "output_type": "execute_result"
    }
   ],
   "source": [
    "gdf.crs"
   ]
  },
  {
   "cell_type": "code",
   "execution_count": 6,
   "id": "6d82ae71-302e-41a7-8ab6-30cfbc9c95b0",
   "metadata": {},
   "outputs": [
    {
     "data": {
      "text/html": [
       "<div>\n",
       "<style scoped>\n",
       "    .dataframe tbody tr th:only-of-type {\n",
       "        vertical-align: middle;\n",
       "    }\n",
       "\n",
       "    .dataframe tbody tr th {\n",
       "        vertical-align: top;\n",
       "    }\n",
       "\n",
       "    .dataframe thead th {\n",
       "        text-align: right;\n",
       "    }\n",
       "</style>\n",
       "<table border=\"1\" class=\"dataframe\">\n",
       "  <thead>\n",
       "    <tr style=\"text-align: right;\">\n",
       "      <th></th>\n",
       "      <th>node_id</th>\n",
       "      <th>Basin</th>\n",
       "      <th>uncategori</th>\n",
       "      <th>x</th>\n",
       "      <th>y</th>\n",
       "      <th>lat</th>\n",
       "      <th>lon</th>\n",
       "      <th>depth</th>\n",
       "      <th>included_i</th>\n",
       "      <th>DO_std</th>\n",
       "      <th>volume</th>\n",
       "      <th>area</th>\n",
       "      <th>Shape_Leng</th>\n",
       "      <th>Shape_Area</th>\n",
       "      <th>geometry</th>\n",
       "    </tr>\n",
       "  </thead>\n",
       "  <tbody>\n",
       "    <tr>\n",
       "      <th>0</th>\n",
       "      <td>1249</td>\n",
       "      <td>SJF_Admiralty</td>\n",
       "      <td>None</td>\n",
       "      <td>380473.98</td>\n",
       "      <td>5365288.5</td>\n",
       "      <td>48.429395</td>\n",
       "      <td>-124.615801</td>\n",
       "      <td>160.628998</td>\n",
       "      <td>1</td>\n",
       "      <td>7</td>\n",
       "      <td>1.824350e+09</td>\n",
       "      <td>11357538.53</td>\n",
       "      <td>19963.958367</td>\n",
       "      <td>2.578675e+07</td>\n",
       "      <td>POLYGON ((-13875002.725 6177241.606, -13875563...</td>\n",
       "    </tr>\n",
       "  </tbody>\n",
       "</table>\n",
       "</div>"
      ],
      "text/plain": [
       "   node_id          Basin uncategori          x          y        lat  \\\n",
       "0     1249  SJF_Admiralty       None  380473.98  5365288.5  48.429395   \n",
       "\n",
       "          lon       depth  included_i  DO_std        volume         area  \\\n",
       "0 -124.615801  160.628998           1       7  1.824350e+09  11357538.53   \n",
       "\n",
       "     Shape_Leng    Shape_Area  \\\n",
       "0  19963.958367  2.578675e+07   \n",
       "\n",
       "                                            geometry  \n",
       "0  POLYGON ((-13875002.725 6177241.606, -13875563...  "
      ]
     },
     "execution_count": 6,
     "metadata": {},
     "output_type": "execute_result"
    }
   ],
   "source": [
    "gdf_pt = gdf.loc[gdf['node_id']==nearest_node]\n",
    "gdf_pt"
   ]
  },
  {
   "cell_type": "code",
   "execution_count": 16,
   "id": "24da44b5-57a5-438a-8abb-1a1901dc7c30",
   "metadata": {},
   "outputs": [
    {
     "name": "stdout",
     "output_type": "stream",
     "text": [
      "1249\n",
      "0        True\n",
      "1       False\n",
      "2       False\n",
      "3       False\n",
      "4       False\n",
      "        ...  \n",
      "7489    False\n",
      "7490    False\n",
      "7491    False\n",
      "7492    False\n",
      "7493    False\n",
      "Name: node_id, Length: 7494, dtype: bool\n"
     ]
    }
   ],
   "source": [
    "print(nearest_node)\n",
    "print(gdf['node_id']==nearest_node)"
   ]
  },
  {
   "cell_type": "code",
   "execution_count": 15,
   "id": "653c8ec5-0a1d-4332-97d9-7a98fbaf937d",
   "metadata": {},
   "outputs": [
    {
     "name": "stdout",
     "output_type": "stream",
     "text": [
      "0    48.429395\n",
      "Name: lat, dtype: float64 0   -124.615801\n",
      "Name: lon, dtype: float64\n"
     ]
    }
   ],
   "source": [
    "ssmlon,ssmlat = gdf['lat'][gdf['node_id']==nearest_node], gdf['lon'][gdf['node_id']==nearest_node]\n",
    "print(ssmlon,ssmlat)\n"
   ]
  },
  {
   "cell_type": "code",
   "execution_count": 9,
   "id": "d3592e29-9eae-4464-89fd-a5255dac4289",
   "metadata": {},
   "outputs": [],
   "source": [
    "from shapely.geometry import Point\n",
    "from pyproj import CRS\n",
    "ssmlon,ssmlat = gdf['lat'][gdf['node_id']==nearest_node], gdf['lon'][gdf['node_id']==nearest_node]\n",
    "ssmloc = [Point(xy) for xy in zip(ssmlon,ssmlat)]\n",
    "iloc = [Point(xy) for xy in zip([ilon],[ilat])]\n",
    "crs = CRS('epsg:6318')\n",
    "geo_df_ssmloc = gpd.GeoDataFrame(geometry = ssmloc, crs = crs)\n",
    "geo_df_iloc = gpd.GeoDataFrame(geometry = iloc, crs = crs)\n"
   ]
  },
  {
   "cell_type": "code",
   "execution_count": 10,
   "id": "1eeb8097-1698-4271-ac09-1eb224b07028",
   "metadata": {},
   "outputs": [],
   "source": [
    "geo_df_ssmloc=geo_df_ssmloc.to_crs(crs = gdf.crs)\n",
    "geo_df_iloc=geo_df_iloc.to_crs(crs = gdf.crs)\n",
    "gdf=gdf.set_crs(crs=gdf.crs)"
   ]
  },
  {
   "cell_type": "code",
   "execution_count": 13,
   "id": "c54df409-c6f1-40b5-9fff-3feb5229a8f8",
   "metadata": {},
   "outputs": [
    {
     "data": {
      "text/plain": [
       "<AxesSubplot:>"
      ]
     },
     "execution_count": 13,
     "metadata": {},
     "output_type": "execute_result"
    },
    {
     "data": {
      "image/png": "[encoded data removed]",
      "text/plain": [
       "<Figure size 576x432 with 2 Axes>"
      ]
     },
     "metadata": {
      "needs_background": "light"
     },
     "output_type": "display_data"
    }
   ],
   "source": [
    "import matplotlib.pyplot as plt\n",
    "gdf_pt = gdf.loc[gdf['node_id']==nearest_node]\n",
    "fig, axs = plt.subplots(1,1, figsize = (8,6))\n",
    "gdf.plot('depth', ax=axs, legend=True)\n",
    "# plot the marker\n",
    "geo_df_ssmloc.plot(ax = axs, markersize = 20, color = 'red',marker = '*',label = 'SSM', zorder=3)\n",
    "#geo_df_iloc.plot(ax = axs, markersize = 10, color = 'green',marker = 'o',label = 'plot location', zorder=3)"
   ]
  },
  {
   "cell_type": "code",
   "execution_count": null,
   "id": "dfb1bc5e-9273-469e-aef5-317cdde21006",
   "metadata": {},
   "outputs": [],
   "source": [
    "node = np.array(gdf['node_id'])\n",
    "ssmlat,ssmlon = gdf['lat'].values, gdf['lon'].values\n",
    "ilat = 46.235\n",
    "ilon = -123.872\n",
    "dlat = np.radians(ssmlat - ilat)\n",
    "dlon = np.radians(ssmlon - ilon)"
   ]
  },
  {
   "cell_type": "markdown",
   "id": "7627964d-6d68-40cf-aa1b-4d4991ec774e",
   "metadata": {},
   "source": [
    "### Haversine"
   ]
  },
  {
   "cell_type": "code",
   "execution_count": 11,
   "id": "c5d8a401-8f3f-47f3-922c-c9072eabd47b",
   "metadata": {},
   "outputs": [],
   "source": [
    "r = 6367 # approx. radius of earth in km\n",
    "d = (np.sin(dlat/2)**2) + np.cos(ilat)*np.cos(ssmlat)*(np.sin(dlon/2))**2\n",
    "dist = 2*r*np.arcsin(np.sqrt(d))"
   ]
  },
  {
   "cell_type": "code",
   "execution_count": 12,
   "id": "95afc375-eac2-44fd-8dd1-cd7161bc730a",
   "metadata": {},
   "outputs": [],
   "source": [
    "nearest_node = node[dist == min(dist)].item()"
   ]
  },
  {
   "cell_type": "code",
   "execution_count": 13,
   "id": "599f897c-9bff-469e-beaf-33bb052da6cc",
   "metadata": {},
   "outputs": [
    {
     "name": "stdout",
     "output_type": "stream",
     "text": [
      "[47.09745529] [-123.0779051]\n"
     ]
    }
   ],
   "source": [
    "print(ssmlat[node==nearest_node], ssmlon[node==nearest_node])"
   ]
  },
  {
   "cell_type": "code",
   "execution_count": 14,
   "id": "bfd6a5f9-556a-41f7-8fc3-2ff1a08e03e9",
   "metadata": {},
   "outputs": [
    {
     "data": {
      "text/plain": [
       "94.87008189999997"
      ]
     },
     "execution_count": 14,
     "metadata": {},
     "output_type": "execute_result"
    }
   ],
   "source": [
    "110*(47.09745529-46.235)"
   ]
  },
  {
   "cell_type": "code",
   "execution_count": 15,
   "id": "4cfc344c-e6c6-4f53-b614-9030f0a2d08f",
   "metadata": {},
   "outputs": [
    {
     "data": {
      "text/plain": [
       "118.70875148011876"
      ]
     },
     "execution_count": 15,
     "metadata": {},
     "output_type": "execute_result"
    }
   ],
   "source": [
    "min(dist)"
   ]
  },
  {
   "cell_type": "code",
   "execution_count": null,
   "id": "91afc653-7dc2-40ca-a7a6-0b9414e4c5a1",
   "metadata": {},
   "outputs": [],
   "source": []
  }
 ],
 "metadata": {
  "kernelspec": {
   "display_name": "Python 3 (ipykernel)",
   "language": "python",
   "name": "python3"
  },
  "language_info": {
   "codemirror_mode": {
    "name": "ipython",
    "version": 3
   },
   "file_extension": ".py",
   "mimetype": "text/x-python",
   "name": "python",
   "nbconvert_exporter": "python",
   "pygments_lexer": "ipython3",
   "version": "3.10.4"
  }
 },
 "nbformat": 4,
 "nbformat_minor": 5
}
