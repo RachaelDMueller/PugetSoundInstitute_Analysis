{
 "cells": [
  {
   "cell_type": "code",
   "execution_count": 1,
   "id": "b9673ef8-cee0-4cb2-9de4-26a4b98091bd",
   "metadata": {},
   "outputs": [],
   "source": [
    "import xarray\n",
    "import numpy\n",
    "import pandas\n",
    "import pathlib\n",
    "import time\n",
    "import geopandas as gpd\n",
    "import matplotlib.pyplot as plt"
   ]
  },
  {
   "cell_type": "code",
   "execution_count": 2,
   "id": "e5fd5a9f-af6c-4c28-b0d6-f027716f015c",
   "metadata": {},
   "outputs": [],
   "source": [
    "shapefile_path = pathlib.Path(\n",
    "    '/mmfs1/gscratch/ssmc/USRS/PSI/Rachael/projects/KingCounty/KingCounty-Rachael/kevin_shapefiles'\n",
    ")/'SSMGrid2_tce.shp'"
   ]
  },
  {
   "cell_type": "code",
   "execution_count": 3,
   "id": "fa7b368a-91ab-4204-9783-4c16c2f966bd",
   "metadata": {},
   "outputs": [],
   "source": [
    "gdf_k = gpd.read_file(shapefile_path)"
   ]
  },
  {
   "cell_type": "code",
   "execution_count": 4,
   "id": "60201c4a-7d63-4c81-b79b-dc10327a6fbf",
   "metadata": {},
   "outputs": [
    {
     "data": {
      "text/html": [
       "<div>\n",
       "<style scoped>\n",
       "    .dataframe tbody tr th:only-of-type {\n",
       "        vertical-align: middle;\n",
       "    }\n",
       "\n",
       "    .dataframe tbody tr th {\n",
       "        vertical-align: top;\n",
       "    }\n",
       "\n",
       "    .dataframe thead th {\n",
       "        text-align: right;\n",
       "    }\n",
       "</style>\n",
       "<table border=\"1\" class=\"dataframe\">\n",
       "  <thead>\n",
       "    <tr style=\"text-align: right;\">\n",
       "      <th></th>\n",
       "      <th>tce</th>\n",
       "      <th>CenterX</th>\n",
       "      <th>CenterY</th>\n",
       "      <th>CenterLat</th>\n",
       "      <th>CenterLong</th>\n",
       "      <th>AREA</th>\n",
       "      <th>Area_m2</th>\n",
       "      <th>Shape__Are</th>\n",
       "      <th>Shape__Len</th>\n",
       "      <th>Area_km2</th>\n",
       "      <th>Basin</th>\n",
       "      <th>geometry</th>\n",
       "    </tr>\n",
       "  </thead>\n",
       "  <tbody>\n",
       "    <tr>\n",
       "      <th>0</th>\n",
       "      <td>1249</td>\n",
       "      <td>380345.880222</td>\n",
       "      <td>5.365085e+06</td>\n",
       "      <td>48.427542</td>\n",
       "      <td>-124.617474</td>\n",
       "      <td>1.135754e+07</td>\n",
       "      <td>1.135754e+07</td>\n",
       "      <td>2.578675e+07</td>\n",
       "      <td>19963.958367</td>\n",
       "      <td>25.786751</td>\n",
       "      <td>SJF_Admiralty</td>\n",
       "      <td>POLYGON ((-13875002.725 6177241.606, -13875563...</td>\n",
       "    </tr>\n",
       "  </tbody>\n",
       "</table>\n",
       "</div>"
      ],
      "text/plain": [
       "    tce        CenterX       CenterY  CenterLat  CenterLong          AREA  \\\n",
       "0  1249  380345.880222  5.365085e+06  48.427542 -124.617474  1.135754e+07   \n",
       "\n",
       "        Area_m2    Shape__Are    Shape__Len   Area_km2          Basin  \\\n",
       "0  1.135754e+07  2.578675e+07  19963.958367  25.786751  SJF_Admiralty   \n",
       "\n",
       "                                            geometry  \n",
       "0  POLYGON ((-13875002.725 6177241.606, -13875563...  "
      ]
     },
     "execution_count": 4,
     "metadata": {},
     "output_type": "execute_result"
    }
   ],
   "source": [
    "gdf_k.head(1)"
   ]
  },
  {
   "cell_type": "code",
   "execution_count": null,
   "id": "9dcc7369-793f-4962-bfe9-abd7cbe2f526",
   "metadata": {},
   "outputs": [],
   "source": []
  }
 ],
 "metadata": {
  "kernelspec": {
   "display_name": "Python 3 (ipykernel)",
   "language": "python",
   "name": "python3"
  },
  "language_info": {
   "codemirror_mode": {
    "name": "ipython",
    "version": 3
   },
   "file_extension": ".py",
   "mimetype": "text/x-python",
   "name": "python",
   "nbconvert_exporter": "python",
   "pygments_lexer": "ipython3",
   "version": "3.10.4"
  }
 },
 "nbformat": 4,
 "nbformat_minor": 5
}
