{
 "cells": [
  {
   "cell_type": "markdown",
   "id": "8d51638a-d1d5-4040-92b8-035812845886",
   "metadata": {},
   "source": [
    "# Create spreadsheet(s) for:\n",
    "- Number of impaired days\n",
    "- Percent volume of Baseline - Scenario < 0.2 mg/l\n",
    "- Percent volume per run of DO < 2 mg/l\n",
    "- Percent volume per run of DO < 5 mg/l"
   ]
  },
  {
   "cell_type": "code",
   "execution_count": null,
   "id": "d78a8952-e9a7-4b9a-90b2-a97aa5c05f7a",
   "metadata": {},
   "outputs": [],
   "source": [
    "## need to re-run batch script to include reference DO"
   ]
  },
  {
   "cell_type": "code",
   "execution_count": null,
   "id": "96fe21a7-1c5f-4661-bcba-1d536ecbcb6c",
   "metadata": {},
   "outputs": [],
   "source": [
    "np_operator='min'\n",
    "model_var='DOXG'\n",
    "processed_netcdf_dir = pathlib.Path(ssm['paths']['processed_output'])/model_var\n",
    "# get list of run sub-directories in processed netcdf directory\n",
    "dir_list = os.listdir(processed_netcdf_dir)"
   ]
  },
  {
   "cell_type": "code",
   "execution_count": null,
   "id": "f0afefa8-8024-40e6-a21b-558398c2b5c6",
   "metadata": {},
   "outputs": [],
   "source": [
    "MinBottomDO_full={}\n",
    "for run_dir in dir_list:\n",
    "    try: \n",
    "        run_file=processed_netcdf_dir/run_dir/'bottom'/f'daily_{np_operator}_{model_var}_bottom.nc'\n",
    "        with xarray.open_dataset(run_file) as ds:\n",
    "            print([*ds])\n",
    "            MinBottomDO_full[run_dir]=ds[f'{model_var}_daily_{np_operator}_bottom']\n",
    "            print(MinBottomDO_full[run_dir].shape)\n",
    "    except FileNotFoundError:\n",
    "        print(f'File Not Found: {run_file}')\n",
    "        # create empty placeholder for now\n",
    "        MinBottomDO_full[run_dir]=np.ones((361, 16012))*9999"
   ]
  },
  {
   "cell_type": "code",
   "execution_count": null,
   "id": "983fde93-7beb-45d6-bcd4-f4d82d880690",
   "metadata": {},
   "outputs": [],
   "source": [
    "nnodes = len(DO_thresh)\n",
    "ndays=361 # first 5-days are consisdered spin-up and have been removed\n",
    "ImpairedDays={}\n",
    "# create array of DO_threshold values to determine number of days of noncompliance\n",
    "DO_thresh2D = np.ones((nnodes,ndays))*np.array(DO_thresh).reshape(nnodes,1)\n",
    "# (7494,361) x (7494,1) => element-wise multiplication "
   ]
  },
  {
   "cell_type": "code",
   "execution_count": null,
   "id": "44a23461-2fc7-4548-830a-60a83e47cd8a",
   "metadata": {},
   "outputs": [],
   "source": [
    "Impaired={}\n",
    "for run_type in dir_list:\n",
    "    print(run_type)\n",
    "    Impaired[run_type] = MinBottDO[run_type]<=DO_thresh2D.transpose() #361x7494 (nodes x time)\n",
    "    ImpairedDays[run_type]=Impaired[run_type].sum(axis=0) #7494 (nodes)"
   ]
  },
  {
   "cell_type": "code",
   "execution_count": null,
   "id": "e122ccc6-0e26-4047-9390-89aed5b514b4",
   "metadata": {},
   "outputs": [],
   "source": [
    "TotalImpaired={}\n",
    "basins = gdf[['node_id','Basin']].groupby('Basin').count().index.to_list()\n",
    "for run_type in dir_list:\n",
    "    TotalImpaired[run_type]={}\n",
    "    for basin in basins:\n",
    "        TotalImpaired[run_type][basin]=np.array(ImpairedDays[run_type])[\n",
    "            (gdf['Basin']==basin) &\n",
    "            (gdf['included_i']==1)\n",
    "        ].sum()"
   ]
  },
  {
   "cell_type": "code",
   "execution_count": null,
   "id": "1c7c1f6f-3009-4ccd-b163-8846a8119346",
   "metadata": {},
   "outputs": [],
   "source": [
    "# Total number of Impaired days by basin and run\n",
    "TotalImpaired_df=pandas.DataFrame(TotalImpaired)\n",
    "TotalImpaired_df=TotalImpaired_df.rename(columns=ssm['run_information']['run_tag'])\n",
    "TotalImpaired_df = TotalImpaired_df.reindex(columns=['Baseline','Reference','1b','1c','1d','1e','2a','2b'])\n",
    "\n"
   ]
  },
  {
   "cell_type": "code",
   "execution_count": null,
   "id": "ac0789fc-3b76-4364-ac82-f58aeaee0a96",
   "metadata": {},
   "outputs": [],
   "source": [
    "import openpyxl\n",
    "excel_output_path = ssm['paths']['processed_output']\n",
    "with pandas.ExcelWriter(pathlib.Path(excel_output_path)/'ImpairedDays.xlsx', mode='w') as writer:  \n",
    "    TotalImpaired_df.to_excel(writer, sheet_name='Total_Impaired_Days')"
   ]
  }
 ],
 "metadata": {
  "kernelspec": {
   "display_name": "Python 3 (ipykernel)",
   "language": "python",
   "name": "python3"
  },
  "language_info": {
   "codemirror_mode": {
    "name": "ipython",
    "version": 3
   },
   "file_extension": ".py",
   "mimetype": "text/x-python",
   "name": "python",
   "nbconvert_exporter": "python",
   "pygments_lexer": "ipython3",
   "version": "3.9.7"
  }
 },
 "nbformat": 4,
 "nbformat_minor": 5
}
