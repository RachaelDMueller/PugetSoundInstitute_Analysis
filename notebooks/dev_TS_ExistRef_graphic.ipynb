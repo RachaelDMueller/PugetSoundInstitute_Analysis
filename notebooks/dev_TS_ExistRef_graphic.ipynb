{
 "cells": [
  {
   "cell_type": "markdown",
   "id": "6db0668f-a8e6-4c5b-b882-c1298d5bb509",
   "metadata": {},
   "source": [
    "# Station time series plot\n",
    "Dev note: Consider using dictionary for lat/lon locations, e.g.\n",
    "```\n",
    "BBAY_TS_loc = {\n",
    "    'NOAA_46118':[48.724, -122.576]\n",
    "}\n",
    "```"
   ]
  },
  {
   "cell_type": "code",
   "execution_count": 1,
   "id": "fe27d1a7-fdbf-4cd4-8999-4c2ab0f41ff6",
   "metadata": {},
   "outputs": [],
   "source": [
    "import sys\n",
    "sys.path.insert(1, '../scripts/')\n",
    "import xarray\n",
    "import yaml\n",
    "import numpy as np\n",
    "import pandas\n",
    "import pathlib\n",
    "import time\n",
    "import geopandas as gpd\n",
    "import matplotlib.pyplot as plt\n",
    "import matplotlib as mpl\n",
    "# load functions from my scripts file \"ssm_utils\"\n",
    "from ssm_utils import get_nearest_node, reshape_fvcom, calc_fvcom_stat, extract_fvcom_level"
   ]
  },
  {
   "cell_type": "markdown",
   "id": "d35b19f2-3e39-42da-a466-cc39e913c076",
   "metadata": {},
   "source": [
    "### Define path to save derived netcdf files"
   ]
  },
  {
   "cell_type": "code",
   "execution_count": 2,
   "id": "1f32dc34-533f-4420-9ada-f1c7f5ab0f42",
   "metadata": {},
   "outputs": [],
   "source": [
    "output_dir = pathlib.Path('/mmfs1/gscratch/ssmc/USRS/PSI/Rachael/projects/KingCounty/data')\n",
    "graphics_directory = pathlib.Path('/mmfs1/gscratch/ssmc/USRS/PSI/Rachael/projects/KingCounty/graphics')"
   ]
  },
  {
   "cell_type": "markdown",
   "id": "a8989c4d-5892-46a0-9836-abb39940adf4",
   "metadata": {},
   "source": [
    "###  Define graphic style.  \n",
    "These specifications will eventually go into a style file that is imported and these specifications will be removed from the code (so that there is just one file to modify for global changes to graphics style)"
   ]
  },
  {
   "cell_type": "code",
   "execution_count": 3,
   "id": "47ef082c-80a1-44d6-8c98-50c6a95c3903",
   "metadata": {
    "tags": []
   },
   "outputs": [],
   "source": [
    "mpl.rc('font', size=11)\n",
    "# some of the following may be repetetive but can also be set relative to the font value above \n",
    "#    (eg \"xx-small, x-small,small, medium, large, x-large, xx-large, larger, or smaller\"; see link above for details)\n",
    "mpl.rc('xtick', labelsize=12)\n",
    "mpl.rc('ytick', labelsize=12)\n",
    "mpl.rc('legend', fontsize=12)\n",
    "mpl.rc('axes', titlesize=16)\n",
    "mpl.rc('axes', labelsize=12)\n",
    "mpl.rc('figure', titlesize=16)\n",
    "mpl.rc('text', usetex=False)\n",
    "mpl.rc('font', family='sans-serif', weight='normal', style='normal')"
   ]
  },
  {
   "cell_type": "markdown",
   "id": "fa1e5495-c4af-4c51-b563-0f8e544a5cab",
   "metadata": {},
   "source": [
    "### Get run information from .yaml file and load shapefile\n",
    "- The yaml file stores information on shapefile location, model output location, model run names, and graphing specifications for model runs.  Using a yaml file to store this information means that we only need to update one file if/as things change (e.g. new model runs become available)\n",
    "\n",
    "- The shapefile has information on the Dissolved Oxygen standard (`DO_std`), which is the value to use to show toxic threshold"
   ]
  },
  {
   "cell_type": "code",
   "execution_count": 4,
   "id": "b898ee8a-f87c-480a-abfd-ebd4c58c842f",
   "metadata": {},
   "outputs": [
    {
     "data": {
      "text/html": [
       "<div>\n",
       "<style scoped>\n",
       "    .dataframe tbody tr th:only-of-type {\n",
       "        vertical-align: middle;\n",
       "    }\n",
       "\n",
       "    .dataframe tbody tr th {\n",
       "        vertical-align: top;\n",
       "    }\n",
       "\n",
       "    .dataframe thead th {\n",
       "        text-align: right;\n",
       "    }\n",
       "</style>\n",
       "<table border=\"1\" class=\"dataframe\">\n",
       "  <thead>\n",
       "    <tr style=\"text-align: right;\">\n",
       "      <th></th>\n",
       "      <th>node_id</th>\n",
       "      <th>Basin</th>\n",
       "      <th>uncategori</th>\n",
       "      <th>x</th>\n",
       "      <th>y</th>\n",
       "      <th>x_shp</th>\n",
       "      <th>y_shp</th>\n",
       "      <th>lat</th>\n",
       "      <th>lon</th>\n",
       "      <th>depth</th>\n",
       "      <th>included_i</th>\n",
       "      <th>DO_std</th>\n",
       "      <th>volume</th>\n",
       "      <th>area</th>\n",
       "      <th>Shape_Leng</th>\n",
       "      <th>Shape_Area</th>\n",
       "      <th>geometry</th>\n",
       "    </tr>\n",
       "  </thead>\n",
       "  <tbody>\n",
       "    <tr>\n",
       "      <th>0</th>\n",
       "      <td>1249</td>\n",
       "      <td>SJF_Admiralty</td>\n",
       "      <td>None</td>\n",
       "      <td>380473.98</td>\n",
       "      <td>5365288.5</td>\n",
       "      <td>380500.860294</td>\n",
       "      <td>5.365280e+06</td>\n",
       "      <td>48.429395</td>\n",
       "      <td>-124.615801</td>\n",
       "      <td>160.628998</td>\n",
       "      <td>1</td>\n",
       "      <td>7</td>\n",
       "      <td>1.824350e+09</td>\n",
       "      <td>11357538.53</td>\n",
       "      <td>13249.778795</td>\n",
       "      <td>1.135754e+07</td>\n",
       "      <td>POLYGON ((378570.860 5364434.875, 378213.530 5...</td>\n",
       "    </tr>\n",
       "  </tbody>\n",
       "</table>\n",
       "</div>"
      ],
      "text/plain": [
       "   node_id          Basin uncategori          x          y          x_shp  \\\n",
       "0     1249  SJF_Admiralty       None  380473.98  5365288.5  380500.860294   \n",
       "\n",
       "          y_shp        lat         lon       depth  included_i  DO_std  \\\n",
       "0  5.365280e+06  48.429395 -124.615801  160.628998           1       7   \n",
       "\n",
       "         volume         area    Shape_Leng    Shape_Area  \\\n",
       "0  1.824350e+09  11357538.53  13249.778795  1.135754e+07   \n",
       "\n",
       "                                            geometry  \n",
       "0  POLYGON ((378570.860 5364434.875, 378213.530 5...  "
      ]
     },
     "execution_count": 4,
     "metadata": {},
     "output_type": "execute_result"
    }
   ],
   "source": [
    "with open('../etc/SSM_config.yaml', 'r') as file:\n",
    "    ssm = yaml.safe_load(file)\n",
    "# get shapefile path    \n",
    "shp = ssm['shapefile_path']\n",
    "# load shapefile into geopandas dataframe\n",
    "gdf = gpd.read_file(shp)\n",
    "gdf.head(1)"
   ]
  },
  {
   "cell_type": "markdown",
   "id": "12cf8b24-b595-4407-ac3b-ccaa9d621175",
   "metadata": {},
   "source": [
    "### Define station locations for creating timeseries"
   ]
  },
  {
   "cell_type": "code",
   "execution_count": 16,
   "id": "2facdf90-c7d4-4488-a799-a227b24b0a27",
   "metadata": {},
   "outputs": [],
   "source": [
    "station_id=[\n",
    "    'NOAA Station 46118', \n",
    "    'BHAM-Bay Low DO', \n",
    "    'Birch Bay', \n",
    "    'Birch Bay (Point Whitehorn)',\n",
    "    'Cherry Point', \n",
    "    'Eastsound']\n",
    "station_lat=np.array([48.724, 48.767422, 48.898880, 48.895273, 48.868451, 48.684406])\n",
    "station_lon=np.array([-122.57, -122.575792, -122.781905, -122.805067, -122.780400, -122.898953])"
   ]
  },
  {
   "cell_type": "markdown",
   "id": "098918b8-c32f-451d-ad41-ffa94d1ecbb9",
   "metadata": {},
   "source": [
    "### Get nodes corresponding to station locations"
   ]
  },
  {
   "cell_type": "code",
   "execution_count": 17,
   "id": "8b968254-9f72-4fa3-9bee-9cbbe5c6929d",
   "metadata": {},
   "outputs": [],
   "source": [
    "node_id, df_index, st_x, st_y = get_nearest_node(\n",
    "    ssm['shapefile_path'], station_lat, station_lon\n",
    ")\n",
    "\n",
    "# change BHAM-Bay Low DO to 6369 and add Quarter Master (13549)\n",
    "node_id[1]=6369\n",
    "df_index[1]=gdf.loc[gdf.node_id==6369].index.values.item()\n",
    "\n",
    "node_id.append(13549)\n",
    "station_id.append('Quarter Master')\n",
    "df_index.append(gdf.loc[gdf.node_id==13549].index.values.item())"
   ]
  },
  {
   "cell_type": "markdown",
   "id": "a4ccbcde-04e5-4f90-940e-047e77aa4ca4",
   "metadata": {},
   "source": [
    "### Load, process, and save model results to derived netcdf product\n",
    "In this setup, I specify deviation and baseline runs based on a tag name (e.g. 'existing')\n",
    "so that I can change the runs that are being compared and pass different tag names into a function that allows for multiple applications.  For this example, I choose the `deviation` and `baseline` runs "
   ]
  },
  {
   "cell_type": "code",
   "execution_count": 38,
   "id": "f5fb51db-7e71-43c2-ab47-9204800040bf",
   "metadata": {},
   "outputs": [
    {
     "name": "stdout",
     "output_type": "stream",
     "text": [
      "/mmfs1/gscratch/ssmc/USRS/PSI/Adi/BS_WQM/2014_SSM4_WQ_exist_orig/hotstart/outputs/s_hy_base000_pnnl007_nodes.nc\n",
      "8760 160120\n",
      "365 160120\n",
      "/mmfs1/gscratch/ssmc/USRS/PSI/Adi/BS_WQM/2014_SSM4_WQ_ref_orig/hotstart/outputs/s_hy_base000_pnnl007_nodes.nc\n",
      "8760 160120\n",
      "365 160120\n",
      "CPU times: user 4.72 s, sys: 32.6 s, total: 37.3 s\n",
      "Wall time: 2min 4s\n"
     ]
    }
   ],
   "source": [
    "%%time\n",
    "# deviation_index = ssm['run_index']['deviation']\n",
    "# baseline_index = ssm['run_index']['baseline']\n",
    "# # input netcdf filename\n",
    "# deviation_path=pathlib.Path(ssm['output_paths'][deviation_index])/'s_hy_base000_pnnl007_nodes.nc'\n",
    "# baseline_path=pathlib.Path(ssm['output_paths'][baseline_index])/'s_hy_base000_pnnl007_nodes.nc'\n",
    "\n",
    "# specify variable to plot\n",
    "graphic_var = 'DO'\n",
    "# get correspoding model variable name, Var_10, for \"DO\"\n",
    "ssm_var_name = ssm['var_name'][graphic_var] \n",
    "# create a dictionary for timeseries values\n",
    "dailyDO_tmin_zmin={}\n",
    "dailyDO_tmin_bottom={} \n",
    "# loop through comparison cases and get timeseries from model output\n",
    "for run_type in ['deviation','baseline']:\n",
    "    # input netcdf filename\n",
    "    index = ssm['run_index'][run_type]\n",
    "    path=pathlib.Path(\n",
    "        ssm['output_paths'][index])/'s_hy_base000_pnnl007_nodes.nc'\n",
    "    print(path.as_posix())\n",
    "    dailyDO_tmin_zmin[run_type]={}\n",
    "    # load variable into xarray and calculate daily min.\n",
    "    with xarray.open_dataset(path) as ds:\n",
    "        dailyDO = reshape_fvcom(\n",
    "            ds[ssm_var_name][:,:].data, \n",
    "            'days'\n",
    "        ) #return (365x24xnodes)\n",
    "    # calculate daily minimum\n",
    "    dailyDO_tmin = calc_fvcom_stat(dailyDO, 'min', axis=1)\n",
    "    # reshape to levels\n",
    "    dailyDO_tmin_rshp = reshape_fvcom(dailyDO_tmin, 'levels')\n",
    "    # store time series of minimum across depth levels & save to file\n",
    "    dailyDO_tmin_zmin[run_type] = calc_fvcom_stat(dailyDO_tmin_rshp, 'min', axis=2)\n",
    "    xr_minDO=xarray.DataArray(dailyDO_tmin_zmin[run_type], name='DailyMinDO')\n",
    "    xr_minDO.to_netcdf(output_dir/f'dailyDO_tmin_zmin_{run_type}.nc')\n",
    "    \n",
    "    # store time series of daily min bottom DO & save to file\n",
    "    dailyDO_tmin_bottom[run_type] = dailyDO_tmin_rshp[:,:,-1]\n",
    "    xr_minbotDO=xarray.DataArray(dailyDO_tmin_bottom[run_type], name='DailyMinBottomDO')\n",
    "    xr_minbotDO.to_netcdf(output_dir/f'dailyDO_tmin_bottom_{run_type}.nc')\n",
    "    "
   ]
  },
  {
   "cell_type": "code",
   "execution_count": 40,
   "id": "d0c1e0cf-caf5-4182-b1c2-77d73e604d33",
   "metadata": {},
   "outputs": [
    {
     "data": {
      "text/plain": [
       "(365, 16012)"
      ]
     },
     "execution_count": 40,
     "metadata": {},
     "output_type": "execute_result"
    }
   ],
   "source": [
    "dailyDO_tmin_bottom[run_type].shape"
   ]
  },
  {
   "cell_type": "code",
   "execution_count": 35,
   "id": "eb5b125a-3b8a-4c21-8135-de4348265769",
   "metadata": {},
   "outputs": [
    {
     "data": {
      "text/plain": [
       "(365, 16012, 10)"
      ]
     },
     "execution_count": 35,
     "metadata": {},
     "output_type": "execute_result"
    }
   ],
   "source": [
    "from mpl_toolkits.axes_grid1 import make_axes_locatable\n",
    "gdf[run_type] = dailyDO_tmin_bottom[run_type] \n",
    "fig, axs = plt.subplots(1,1, figsize = (8,6))\n",
    "# create `cax` for the colorbar\n",
    "divider = make_axes_locatable(axs)\n",
    "cax = divider.append_axes(\"right\", size=\"5%\", pad=0.1)\n",
    "gdf.plot('DOlt5', ax=axs, cax=cax, legend=True,vmin=1, vmax=150)\n",
    "cax.set_ylabel(f'Days with DO < {threshold}[mg/l]',fontsize=14)\n",
    "axs.set(yticklabels='', xticklabels='')\n",
    "#axs.set_title(f'min DO (day={time_index})\\nall levels', fontsize=fs_t)\n",
    "plt.savefig(gdir/f'SOGNB_minDO_lt{threshold}.jpeg',dpi=150)\n",
    "plt.show()"
   ]
  },
  {
   "cell_type": "markdown",
   "id": "d512ca2e-e56a-4193-b144-1b550b51e607",
   "metadata": {},
   "source": [
    "### Load and plot derived information\n",
    "- need shapefile (gdf) and derived netcdfs (create function for creating derived netcdfs)\n",
    "- df_index (get_nearest_node)"
   ]
  },
  {
   "cell_type": "code",
   "execution_count": null,
   "id": "8fd5903f-d08d-4b89-977f-3b919a4438b5",
   "metadata": {},
   "outputs": [],
   "source": [
    "%%time\n",
    "ts={}\n",
    "idx=0\n",
    "# loop through comparison cases and get timeseries from model output\n",
    "for run_type in ['deviation','baseline']:\n",
    "    print(run_type)\n",
    "    ts[run_type]={}\n",
    "    with xarray.open_dataset(output_dir/f'dailyDO_tmin_zmin_{run_type}.nc') as ds:\n",
    "        # get timeseries at selected node ID\n",
    "        for idx,node_index in enumerate(df_index):\n",
    "            ts[run_type][station_id[idx]]=ds['DailyMinDO'][:,node_index]"
   ]
  },
  {
   "cell_type": "code",
   "execution_count": null,
   "id": "a7934ec8-7724-4df7-b49b-1d92ceb68cef",
   "metadata": {},
   "outputs": [],
   "source": [
    "[*ts[run_type]]"
   ]
  },
  {
   "cell_type": "code",
   "execution_count": null,
   "id": "3c0609bc-45a6-4eb4-aced-bc52cdc49818",
   "metadata": {},
   "outputs": [],
   "source": [
    "# create date vector\n",
    "dti = pandas.date_range(\"2014-01-01\", periods=365, freq=\"D\")\n",
    "dti"
   ]
  },
  {
   "cell_type": "code",
   "execution_count": null,
   "id": "5c57e4f7-a80d-437b-a273-2283ea062067",
   "metadata": {},
   "outputs": [],
   "source": [
    "for idx,loc in enumerate(ts[run_type]): \n",
    "    fig, axs = plt.subplots(1,1, figsize = (8,6)) \n",
    "    print(f\"DO standard for node {gdf['node_id'][df_index[idx]]} is {gdf['DO_std'][df_index[idx]]}\")\n",
    "    for run_type in ['deviation','baseline']:\n",
    "        axs.plot(dti, \n",
    "                 ts[run_type][loc], \n",
    "                 color=ssm['line_colors'][run_type],\n",
    "                 label=run_type\n",
    "                )\n",
    "    axs.plot(dti, \n",
    "             gdf['DO_std'][df_index[idx]]*np.ones(len(ts[run_type][loc])), \n",
    "             'k', label='DO standard'\n",
    "            )    \n",
    "    axs.set_ylim(2,9)\n",
    "    axs.set_ylabel('Minimum Daily DO [mg/l]')\n",
    "    axs.set_xlabel('Time [days in 2014]')\n",
    "    leg=axs.legend(\n",
    "        bbox_to_anchor=(1.32,1),\n",
    "        loc='upper right'\n",
    "    )\n",
    "    for text in leg.get_texts():\n",
    "        text.set_ha('left')\n",
    "    max_diff=max(abs(ts['deviation'][loc]-ts['baseline'][loc]))\n",
    "    axs.annotate(f\"{loc} \\nNode {gdf['node_id'][df_index[idx]]}\\n Max. abs. diff: {max_diff.item():4.2e}\", \n",
    "                 xy=(1, 1), xytext=(-15, -15), fontsize=12,\n",
    "                 xycoords='axes fraction', \n",
    "                 textcoords='offset points',    \n",
    "                 horizontalalignment='right', \n",
    "                 verticalalignment='top',\n",
    "                 backgroundcolor='white')"
   ]
  },
  {
   "cell_type": "markdown",
   "id": "d24bd5b0-554f-4cb5-bb1e-2597dbd69678",
   "metadata": {},
   "source": [
    "### Plot locations"
   ]
  },
  {
   "cell_type": "code",
   "execution_count": null,
   "id": "d635a357-98b8-4df9-9b85-77e5ab516ce6",
   "metadata": {},
   "outputs": [],
   "source": [
    "node_id"
   ]
  },
  {
   "cell_type": "code",
   "execution_count": null,
   "id": "f6579b7f-7ef6-4a23-97ea-3519b8043293",
   "metadata": {},
   "outputs": [],
   "source": [
    "for idx,loc in enumerate(ts[run_type]):\n",
    "    # sub-sample geodataframe with just the selected nodes\n",
    "    gdf_nearest=gdf.loc[gdf.node_id==node_id[idx]]\n",
    "\n",
    "    fig, axs = plt.subplots(1,1, figsize = (8,6))\n",
    "    gdf.plot('depth', ax=axs, legend=True)\n",
    "    # Plot polygon of resulting location\n",
    "    gdf_nearest.plot(ax=axs,color='red',legend=True,label='Time series location')\n",
    "    # Zoom into Bbay so we can actualy see overlap\n",
    "    axs.set_ylim(5.37e6,5.42e6)\n",
    "    axs.set_xlim(5e5,5.4e5)\n",
    "    #xlabels=axs.get_xticklabels()\n",
    "    axs.set_xticklabels('')\n",
    "    axs.set_yticklabels('')\n",
    "    axs.text(5.01e5,5.386e6,\"Orcas Is.\")\n",
    "    axs.text(5.3e5,5.405e6,\"Nooksack R.\")\n",
    "    axs.text(5.18e5,5.415e6,\"Pt. Whitehorn\")\n",
    "    # axs.legend(\n",
    "    #     bbox_to_anchor=(1,1),\n",
    "    #     loc='upper left'\n",
    "    # )\n",
    "    #plt.legend()"
   ]
  },
  {
   "cell_type": "markdown",
   "id": "52639181-f8f3-47be-8865-224659315267",
   "metadata": {},
   "source": [
    "### Extract deviation and baseline time series using the node_id(s) for desired location(s)"
   ]
  },
  {
   "cell_type": "code",
   "execution_count": null,
   "id": "b9e5c006-8c3e-4592-bf32-d6ec99c69830",
   "metadata": {},
   "outputs": [],
   "source": [
    "\n",
    "\n",
    "for idx,loc in enumerate(ts[run_type]):\n",
    "    fig, axs = plt.subplots(1,2, figsize = (32,8),\n",
    "          gridspec_kw={\n",
    "              'width_ratios': [0.3,0.7, ],\n",
    "              'wspace':0.05\n",
    "          })\n",
    "    #~~~ Location map ~~~\n",
    "    gdf.plot('depth', ax=axs[0], legend=True)\n",
    "    # Plot polygon of resulting location\n",
    "    # sub-sample geodataframe with just the selected nodes\n",
    "    gdf_nearest=gdf.loc[gdf.node_id==node_id[idx]]\n",
    "    gdf_nearest.plot(ax=axs[0],color='red',legend=True,label='Time series location')\n",
    "    # Zoom into Bbay so we can actualy see overlap\n",
    "    axs[0].set_ylim(5.37e6,5.42e6)\n",
    "    axs[0].set_xlim(5e5,5.4e5)\n",
    "    #xlabels=axs.get_xticklabels()\n",
    "    axs[0].set_xticklabels('')\n",
    "    axs[0].set_yticklabels('')\n",
    "    axs[0].text(5.01e5,5.386e6,\"Orcas Is.\")\n",
    "    axs[0].text(5.3e5,5.405e6,\"Nooksack R.\")\n",
    "    axs[0].text(5.18e5,5.415e6,\"Pt. Whitehorn\")\n",
    "    \n",
    "    #~~~ Time series ~~~\n",
    "    print(f\"DO standard for node {gdf['node_id'][df_index[idx]]} is {gdf['DO_std'][df_index[idx]]}\")\n",
    "    for run_type in ['deviation','baseline']:\n",
    "        axs[1].plot(dti, \n",
    "                 ts[run_type][loc], \n",
    "                 color=ssm['line_colors'][run_type],\n",
    "                 label=run_type\n",
    "                )\n",
    "    axs[1].plot(dti, \n",
    "             gdf['DO_std'][df_index[idx]]*np.ones(len(ts[run_type][loc])), \n",
    "             'k', label='DO standard'\n",
    "            )    \n",
    "    axs[1].set_ylim(2,9)\n",
    "    axs[1].set_ylabel('Minimum Daily DO [mg/l]')\n",
    "    axs[1].set_xlabel('Time [days in 2014]')\n",
    "    leg=axs[1].legend(\n",
    "        bbox_to_anchor=(1.12,1),\n",
    "        loc='upper right'\n",
    "    )\n",
    "    for text in leg.get_texts():\n",
    "        text.set_ha('left')\n",
    "    max_diff=max(abs(ts['deviation'][loc]-ts['baseline'][loc]))\n",
    "    axs[1].annotate(f\"{loc} \\nNode {gdf['node_id'][df_index[idx]]}\\n Max. abs. diff: {max_diff.item():4.2e}\", \n",
    "                 xy=(1, 1), xytext=(-15, -15), fontsize=12,\n",
    "                 xycoords='axes fraction', \n",
    "                 textcoords='offset points',    \n",
    "                 horizontalalignment='right', \n",
    "                 verticalalignment='top',\n",
    "                 backgroundcolor='white')\n",
    "    plt.savefig(graphics_directory/\n",
    "                f\"minDO_comparison_node{gdf['node_id'][df_index[idx]]}\")"
   ]
  },
  {
   "cell_type": "code",
   "execution_count": null,
   "id": "71a2c3fb-352c-4830-9f02-c6f4cb4165cb",
   "metadata": {},
   "outputs": [],
   "source": [
    "\n",
    "cax.set_ylabel(f'Days with DO < {threshold}[mg/l]',fontsize=14)\n",
    "axs.set(yticklabels='', xticklabels='')\n",
    "#axs.set_title(f'min DO (day={time_index})\\nall levels', fontsize=fs_t)\n",
    "#plt.savefig(gdir/f'SOGNB_minDO_lt{threshold}.jpeg',dpi=150)\n",
    "plt.show()"
   ]
  },
  {
   "cell_type": "markdown",
   "id": "49cf91d0-66f9-4e4f-8d05-a350b3e9f7a9",
   "metadata": {},
   "source": [
    "## Everything below this point is just for baseline from previous developement takes"
   ]
  },
  {
   "cell_type": "code",
   "execution_count": null,
   "id": "3a0aaa0f-0c56-4256-ad9e-1e6e1a7d8b12",
   "metadata": {},
   "outputs": [],
   "source": [
    "# Kevin's shapefile\n",
    "shapefile_path = pathlib.Path(\n",
    "    '/mmfs1/gscratch/ssmc/USRS/PSI/Rachael/projects/KingCounty/KingCounty-Rachael/kevin_shapefiles'\n",
    ")/'SSMGrid2_tce.shp'\n",
    "gdf_k = gpd.read_file(shapefile_path)\n",
    "gdf_k = gdf_k.loc[:, ('tce','Basin','geometry')]\n",
    "gdf_k=gdf_k.rename(columns={'tce':'node_id'})\n",
    "# Extract SOG_Bays from Kevin's shapefile \n",
    "gdf_SOG_Nbays = gdf_k.loc[gdf_k['Basin']=='SOG_Bays']\n",
    "gdf = gdf_SOG_Nbays.copy()\n",
    "gdf_k.head(2)"
   ]
  },
  {
   "cell_type": "code",
   "execution_count": null,
   "id": "c92c6423-2e82-496d-a299-5a806504ecb9",
   "metadata": {},
   "outputs": [],
   "source": [
    "dailyDO_tmin_zmin_SOG = dailyDO_tmin_zmin[gdf['node_id']-1]\n",
    "\n",
    "dailyDO_tmin_zmin_SOG.shape"
   ]
  },
  {
   "cell_type": "code",
   "execution_count": null,
   "id": "6abf710b-946d-4ae4-9a70-4891d0e380ee",
   "metadata": {},
   "outputs": [],
   "source": [
    "from mpl_toolkits.axes_grid1 import make_axes_locatable\n",
    "gdir = pathlib.Path(\n",
    "    '/mmfs1/gscratch/ssmc/USRS/PSI/Rachael/projects/CWA/CleanWaterAlliance/dev/minDO/')\n",
    "fs_t=14\n",
    "fs_a=12\n",
    "cax={}\n",
    "gdf['minDO'] = dailyDO_tmin_zmin_SOG   \n",
    "fig, axs = plt.subplots(1,1, figsize = (8,6))\n",
    "# create `cax` for the colorbar\n",
    "divider = make_axes_locatable(axs)\n",
    "cax = divider.append_axes(\"right\", size=\"5%\", pad=0.1)\n",
    "gdf.plot('DOlt5', ax=axs, cax=cax, legend=True,vmin=1, vmax=150)\n",
    "cax.set_ylabel(f'Days with DO < {threshold}[mg/l]',fontsize=14)\n",
    "axs.set(yticklabels='', xticklabels='')\n",
    "#axs.set_title(f'min DO (day={time_index})\\nall levels', fontsize=fs_t)\n",
    "#plt.savefig(gdir/f'SOGNB_minDO_lt{threshold}.jpeg',dpi=150)\n",
    "plt.show()"
   ]
  }
 ],
 "metadata": {
  "kernelspec": {
   "display_name": "Python 3 (ipykernel)",
   "language": "python",
   "name": "python3"
  },
  "language_info": {
   "codemirror_mode": {
    "name": "ipython",
    "version": 3
   },
   "file_extension": ".py",
   "mimetype": "text/x-python",
   "name": "python",
   "nbconvert_exporter": "python",
   "pygments_lexer": "ipython3",
   "version": "3.10.4"
  }
 },
 "nbformat": 4,
 "nbformat_minor": 5
}
