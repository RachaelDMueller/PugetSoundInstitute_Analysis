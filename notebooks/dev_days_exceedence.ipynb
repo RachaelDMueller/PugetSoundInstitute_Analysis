{
 "cells": [
  {
   "cell_type": "markdown",
   "id": "4e44fb7f-e6e4-431f-9bf6-e69a57605256",
   "metadata": {},
   "source": [
    "# Days exceedence by basin"
   ]
  },
  {
   "cell_type": "code",
   "execution_count": 1,
   "id": "c1574044-10c2-4f95-a34e-78f18a873af2",
   "metadata": {},
   "outputs": [],
   "source": [
    "import sys\n",
    "sys.path.insert(1, '../scripts/')\n",
    "import xarray\n",
    "import yaml\n",
    "import numpy as np\n",
    "import pandas\n",
    "import pathlib\n",
    "import time\n",
    "import geopandas as gpd\n",
    "import matplotlib.pyplot as plt\n",
    "import matplotlib as mpl\n",
    "# load functions from my scripts file \"ssm_utils\"\n",
    "from ssm_utils import get_nearest_node, reshape_fvcom3D, calc_fvcom_stat, extract_fvcom_level"
   ]
  },
  {
   "cell_type": "markdown",
   "id": "56a00614-8d38-424f-91af-7f3ac6012c3e",
   "metadata": {},
   "source": [
    "# Updated method using KC results"
   ]
  },
  {
   "cell_type": "code",
   "execution_count": 2,
   "id": "9a151485-ba7e-476c-b40f-194ed8eed0fd",
   "metadata": {
    "tags": []
   },
   "outputs": [],
   "source": [
    "processed_netcdf_dir = pathlib.Path(\n",
    "    '/mmfs1/gscratch/ssmc/USRS/PSI/Rachael/projects/KingCounty/data/slurm_array/DOXG'\n",
    ") "
   ]
  },
  {
   "cell_type": "code",
   "execution_count": 3,
   "id": "d88dbfa9-943a-4ee6-88d4-22143f46ef3d",
   "metadata": {},
   "outputs": [],
   "source": [
    "import os\n",
    "dir_list = os.listdir(processed_netcdf_dir)"
   ]
  },
  {
   "cell_type": "markdown",
   "id": "f4857a11-ef7a-4fd8-90db-9c8f5859cf07",
   "metadata": {},
   "source": [
    "# Load all bottom DO values into dictionary"
   ]
  },
  {
   "cell_type": "code",
   "execution_count": 4,
   "id": "89e2157e-363a-47e1-8ed3-c49a4aae01af",
   "metadata": {},
   "outputs": [
    {
     "name": "stdout",
     "output_type": "stream",
     "text": [
      "File Not Found: /mmfs1/gscratch/ssmc/USRS/PSI/Rachael/projects/KingCounty/data/slurm_array/DOXG/1c_all_sog_riv_off/bottom/dailyDO_24hrmin_bottom.nc\n",
      "File Not Found: /mmfs1/gscratch/ssmc/USRS/PSI/Rachael/projects/KingCounty/data/slurm_array/DOXG/2b_sog_river_2times/bottom/dailyDO_24hrmin_bottom.nc\n",
      "['DOXG24hrMinBott']\n",
      "(366, 16012)\n",
      "['DOXG24hrMinBott']\n",
      "(366, 16012)\n",
      "File Not Found: /mmfs1/gscratch/ssmc/USRS/PSI/Rachael/projects/KingCounty/data/slurm_array/DOXG/1d_small_sog_wwtp_off/bottom/dailyDO_24hrmin_bottom.nc\n",
      "File Not Found: /mmfs1/gscratch/ssmc/USRS/PSI/Rachael/projects/KingCounty/data/slurm_array/DOXG/1e_med_sog_wwtp_off/bottom/dailyDO_24hrmin_bottom.nc\n",
      "['DOXG24hrMinBott']\n",
      "(366, 16012)\n"
     ]
    }
   ],
   "source": [
    "MinBottomDO={}\n",
    "for run_dir in dir_list:\n",
    "    try: \n",
    "        run_file=processed_netcdf_dir/run_dir/'bottom'/'dailyDO_24hrmin_bottom.nc'\n",
    "        with xarray.open_dataset(run_file) as ds:\n",
    "            print([*ds])\n",
    "            MinBottomDO[run_dir]=ds.DOXG24hrMinBott\n",
    "            print(MinBottomDO[run_dir].shape)\n",
    "    except FileNotFoundError:\n",
    "        print(f'File Not Found: {run_file}')\n",
    "        # create empty placeholder for now\n",
    "        MinBottomDO[run_dir]=np.ones((366, 16012))*9999"
   ]
  },
  {
   "cell_type": "markdown",
   "id": "fc58ce45-084a-4ee1-b2fa-14631a968f69",
   "metadata": {},
   "source": [
    "## Load DO threshold information"
   ]
  },
  {
   "cell_type": "code",
   "execution_count": 5,
   "id": "f361be91-e63a-4aef-85e5-547f6751ebda",
   "metadata": {},
   "outputs": [
    {
     "data": {
      "text/plain": [
       "(7494,)"
      ]
     },
     "execution_count": 5,
     "metadata": {},
     "output_type": "execute_result"
    }
   ],
   "source": [
    "with open('../etc/SSM_config.yaml', 'r') as file:\n",
    "    ssm = yaml.safe_load(file)\n",
    "# get shapefile path    \n",
    "shp = ssm['shapefile_path']\n",
    "# load shapefile into geopandas dataframe\n",
    "gdf = gpd.read_file(shp)\n",
    "DO_thresh = gdf['DO_std']\n",
    "DO_thresh.shape"
   ]
  },
  {
   "cell_type": "code",
   "execution_count": 6,
   "id": "5935eaaa-dd8e-4dd9-8e9f-36c2474c9eb5",
   "metadata": {},
   "outputs": [],
   "source": [
    "## Sub-sample basin footprint"
   ]
  },
  {
   "cell_type": "code",
   "execution_count": 7,
   "id": "82144345-1b5e-4886-9a22-41498d599311",
   "metadata": {},
   "outputs": [
    {
     "name": "stdout",
     "output_type": "stream",
     "text": [
      "1c_all_sog_riv_off min value: 9999.0\n",
      "2b_sog_river_2times min value: 9999.0\n",
      "wqm_baseline min value: 2.358590108997305e-06\n",
      "2a_sog_river_0.5times min value: 2.3590901037096046e-06\n",
      "1d_small_sog_wwtp_off min value: 9999.0\n",
      "1e_med_sog_wwtp_off min value: 9999.0\n",
      "1b_all_sog_wwtp_off min value: 2.358699930482544e-06\n",
      "CPU times: user 2.1 s, sys: 25.4 s, total: 27.5 s\n",
      "Wall time: 27.6 s\n"
     ]
    }
   ],
   "source": [
    "%%time\n",
    "MinBottDO_basins={}\n",
    "for run_tag in dir_list:\n",
    "    MinBottDO_basins[run_tag]=MinBottomDO[run_tag][:,gdf['node_id']-1]\n",
    "    if np.min(MinBottDO_basins[run_tag])==9999:\n",
    "        print(f'{run_tag} min value: {np.min(MinBottDO_basins[run_tag])}')\n",
    "    else:\n",
    "        print(f'{run_tag} min value: {np.min(MinBottDO_basins[run_tag].values)}')\n",
    "    "
   ]
  },
  {
   "cell_type": "markdown",
   "id": "aab4a197-b1b5-4821-8459-f812f3846c1d",
   "metadata": {},
   "source": [
    "## Create boolean where MinDO < threshold"
   ]
  },
  {
   "cell_type": "code",
   "execution_count": 8,
   "id": "f8c79f09-e447-4eca-ad4b-c59565c61782",
   "metadata": {},
   "outputs": [],
   "source": [
    "nodataruns=[\n",
    "    '1c_all_sog_riv_off',\n",
    "    '2b_sog_river_2times',\n",
    "    '1d_small_sog_wwtp_off',\n",
    "    '1e_med_sog_wwtp_off'\n",
    "]"
   ]
  },
  {
   "cell_type": "code",
   "execution_count": 9,
   "id": "f5fcf987-8795-4fb9-ba63-ba55ccac2317",
   "metadata": {},
   "outputs": [
    {
     "name": "stdout",
     "output_type": "stream",
     "text": [
      "wqm_baseline\n",
      "2a_sog_river_0.5times\n",
      "1b_all_sog_wwtp_off\n"
     ]
    }
   ],
   "source": [
    "nnodes = len(DO_thresh)\n",
    "ndays=366\n",
    "AnoxicDays={}\n",
    "# create array of DO_threshold values to determine number of days of noncompliance\n",
    "DO_thresh2D = np.ones((nnodes,ndays))*np.array(DO_thresh).reshape(nnodes,1)\n",
    "# (7494,365) x (7494,1) => element-wise multiplication\n",
    "for run_type in dir_list:\n",
    "    if run_type not in nodataruns:\n",
    "        print(run_type)\n",
    "        Anoxic = MinBottDO_basins[run_type].transpose()<=DO_thresh2D\n",
    "        AnoxicDays[run_type]=Anoxic.sum(axis=1)"
   ]
  },
  {
   "cell_type": "markdown",
   "id": "d2269f71-ac1e-4520-98cb-527edbf42dd7",
   "metadata": {},
   "source": [
    "## Create pandas dataframe with Anoxic days by basin"
   ]
  },
  {
   "cell_type": "code",
   "execution_count": 10,
   "id": "d9272a95-2307-44f1-bb63-3eb682baaeb4",
   "metadata": {},
   "outputs": [],
   "source": [
    "TotalAnoxic={}\n",
    "basins = gdf[['node_id','Basin']].groupby('Basin').count().index.to_list()\n",
    "for run_type in dir_list:\n",
    "    if run_type not in nodataruns:\n",
    "        TotalAnoxic[run_type]={}\n",
    "        for basin in basins:\n",
    "            TotalAnoxic[run_type][basin]=np.array(AnoxicDays[run_type])[gdf['Basin']==basin].sum()"
   ]
  },
  {
   "cell_type": "code",
   "execution_count": 11,
   "id": "a97ed4a7-748f-4cf9-8a8d-4b8e949ae3eb",
   "metadata": {},
   "outputs": [
    {
     "data": {
      "text/html": [
       "<div>\n",
       "<style scoped>\n",
       "    .dataframe tbody tr th:only-of-type {\n",
       "        vertical-align: middle;\n",
       "    }\n",
       "\n",
       "    .dataframe tbody tr th {\n",
       "        vertical-align: top;\n",
       "    }\n",
       "\n",
       "    .dataframe thead th {\n",
       "        text-align: right;\n",
       "    }\n",
       "</style>\n",
       "<table border=\"1\" class=\"dataframe\">\n",
       "  <thead>\n",
       "    <tr style=\"text-align: right;\">\n",
       "      <th></th>\n",
       "      <th>wqm_baseline</th>\n",
       "      <th>2a_sog_river_0.5times</th>\n",
       "      <th>1b_all_sog_wwtp_off</th>\n",
       "    </tr>\n",
       "  </thead>\n",
       "  <tbody>\n",
       "    <tr>\n",
       "      <th>Hood_Canal</th>\n",
       "      <td>162388</td>\n",
       "      <td>162389</td>\n",
       "      <td>162385</td>\n",
       "    </tr>\n",
       "    <tr>\n",
       "      <th>Main_Basin</th>\n",
       "      <td>201416</td>\n",
       "      <td>201396</td>\n",
       "      <td>201407</td>\n",
       "    </tr>\n",
       "    <tr>\n",
       "      <th>SJF_Admiralty</th>\n",
       "      <td>276530</td>\n",
       "      <td>276532</td>\n",
       "      <td>276529</td>\n",
       "    </tr>\n",
       "    <tr>\n",
       "      <th>SOG_Bays</th>\n",
       "      <td>163319</td>\n",
       "      <td>163082</td>\n",
       "      <td>163222</td>\n",
       "    </tr>\n",
       "    <tr>\n",
       "      <th>South_Sound</th>\n",
       "      <td>183009</td>\n",
       "      <td>182968</td>\n",
       "      <td>182993</td>\n",
       "    </tr>\n",
       "    <tr>\n",
       "      <th>Whidbey_Basin</th>\n",
       "      <td>152093</td>\n",
       "      <td>152052</td>\n",
       "      <td>152076</td>\n",
       "    </tr>\n",
       "  </tbody>\n",
       "</table>\n",
       "</div>"
      ],
      "text/plain": [
       "               wqm_baseline  2a_sog_river_0.5times  1b_all_sog_wwtp_off\n",
       "Hood_Canal           162388                 162389               162385\n",
       "Main_Basin           201416                 201396               201407\n",
       "SJF_Admiralty        276530                 276532               276529\n",
       "SOG_Bays             163319                 163082               163222\n",
       "South_Sound          183009                 182968               182993\n",
       "Whidbey_Basin        152093                 152052               152076"
      ]
     },
     "execution_count": 11,
     "metadata": {},
     "output_type": "execute_result"
    }
   ],
   "source": [
    "TotalAnoxic_df=pandas.DataFrame(TotalAnoxic)\n",
    "TotalAnoxic_df"
   ]
  },
  {
   "cell_type": "markdown",
   "id": "b47d685d-f366-4dd9-ae8a-8e160ad13cb2",
   "metadata": {},
   "source": [
    "## Create a dataframe showing percent change in days below threshold"
   ]
  },
  {
   "cell_type": "code",
   "execution_count": 12,
   "id": "5ad7e541-b54b-4b9f-ac5a-32961db55381",
   "metadata": {},
   "outputs": [
    {
     "data": {
      "text/html": [
       "<div>\n",
       "<style scoped>\n",
       "    .dataframe tbody tr th:only-of-type {\n",
       "        vertical-align: middle;\n",
       "    }\n",
       "\n",
       "    .dataframe tbody tr th {\n",
       "        vertical-align: top;\n",
       "    }\n",
       "\n",
       "    .dataframe thead th {\n",
       "        text-align: right;\n",
       "    }\n",
       "</style>\n",
       "<table border=\"1\" class=\"dataframe\">\n",
       "  <thead>\n",
       "    <tr style=\"text-align: right;\">\n",
       "      <th></th>\n",
       "      <th>Baseline</th>\n",
       "      <th>2a[% change]</th>\n",
       "      <th>1b[% change]</th>\n",
       "    </tr>\n",
       "  </thead>\n",
       "  <tbody>\n",
       "    <tr>\n",
       "      <th>Hood_Canal</th>\n",
       "      <td>162388</td>\n",
       "      <td>0.000616</td>\n",
       "      <td>-0.001847</td>\n",
       "    </tr>\n",
       "    <tr>\n",
       "      <th>Main_Basin</th>\n",
       "      <td>201416</td>\n",
       "      <td>-0.009930</td>\n",
       "      <td>-0.004468</td>\n",
       "    </tr>\n",
       "    <tr>\n",
       "      <th>SJF_Admiralty</th>\n",
       "      <td>276530</td>\n",
       "      <td>0.000723</td>\n",
       "      <td>-0.000362</td>\n",
       "    </tr>\n",
       "    <tr>\n",
       "      <th>SOG_Bays</th>\n",
       "      <td>163319</td>\n",
       "      <td>-0.145115</td>\n",
       "      <td>-0.059393</td>\n",
       "    </tr>\n",
       "    <tr>\n",
       "      <th>South_Sound</th>\n",
       "      <td>183009</td>\n",
       "      <td>-0.022403</td>\n",
       "      <td>-0.008743</td>\n",
       "    </tr>\n",
       "    <tr>\n",
       "      <th>Whidbey_Basin</th>\n",
       "      <td>152093</td>\n",
       "      <td>-0.026957</td>\n",
       "      <td>-0.011177</td>\n",
       "    </tr>\n",
       "  </tbody>\n",
       "</table>\n",
       "</div>"
      ],
      "text/plain": [
       "               Baseline  2a[% change]  1b[% change]\n",
       "Hood_Canal       162388      0.000616     -0.001847\n",
       "Main_Basin       201416     -0.009930     -0.004468\n",
       "SJF_Admiralty    276530      0.000723     -0.000362\n",
       "SOG_Bays         163319     -0.145115     -0.059393\n",
       "South_Sound      183009     -0.022403     -0.008743\n",
       "Whidbey_Basin    152093     -0.026957     -0.011177"
      ]
     },
     "execution_count": 12,
     "metadata": {},
     "output_type": "execute_result"
    }
   ],
   "source": [
    "PercentChangeAnoxic = pandas.DataFrame().reindex_like(TotalAnoxic_df)\n",
    "PercentChangeAnoxic['wqm_baseline']=TotalAnoxic_df['wqm_baseline']\n",
    "PercentChangeAnoxic['2a_sog_river_0.5times']=100*(\n",
    "    (TotalAnoxic_df['2a_sog_river_0.5times']-TotalAnoxic_df['wqm_baseline'])/TotalAnoxic_df['wqm_baseline']\n",
    ")\n",
    "PercentChangeAnoxic['1b_all_sog_wwtp_off']=100*(\n",
    "    (TotalAnoxic_df['1b_all_sog_wwtp_off']-TotalAnoxic_df['wqm_baseline'])/TotalAnoxic_df['wqm_baseline']\n",
    ")\n",
    "PercentChangeAnoxic=PercentChangeAnoxic.rename(columns={'wqm_baseline':'Baseline','2a_sog_river_0.5times':'2a[% change]','1b_all_sog_wwtp_off':'1b[% change]'})\n",
    "PercentChangeAnoxic"
   ]
  },
  {
   "cell_type": "markdown",
   "id": "558947ee-48db-4369-b28c-35a1f399ff55",
   "metadata": {},
   "source": [
    "# Method using 2014 output below"
   ]
  },
  {
   "cell_type": "code",
   "execution_count": 13,
   "id": "82a888c5-d02a-4c74-b791-277af1e63123",
   "metadata": {},
   "outputs": [],
   "source": [
    "output_dir = pathlib.Path('/mmfs1/gscratch/ssmc/USRS/PSI/Rachael/projects/KingCounty/data')\n",
    "graphics_directory = pathlib.Path('/mmfs1/gscratch/ssmc/USRS/PSI/Rachael/projects/KingCounty/graphics')"
   ]
  },
  {
   "cell_type": "markdown",
   "id": "f76667ae-e24b-4071-a5e8-e219802db5d1",
   "metadata": {},
   "source": [
    "# Load netcdf of min daily DO on bottom level\n",
    "These netcdf were output from `dev_TS_ExistRef_graphic.ipynb`"
   ]
  },
  {
   "cell_type": "code",
   "execution_count": 16,
   "id": "fec331bb-a68d-4e82-b524-b0aa839f436f",
   "metadata": {},
   "outputs": [
    {
     "name": "stdout",
     "output_type": "stream",
     "text": [
      "deviation\n",
      "baseline\n",
      "CPU times: user 10.4 ms, sys: 6.28 ms, total: 16.6 ms\n",
      "Wall time: 105 ms\n"
     ]
    }
   ],
   "source": [
    "%%time\n",
    "MinDO={}\n",
    "idx=0\n",
    "# loop through comparison cases and get timeseries from model output\n",
    "for run_type in ['deviation','baseline']:\n",
    "    print(run_type)\n",
    "    xr=xarray.open_dataset(\n",
    "        output_dir/f'dailyDO_tmin_bottom_{run_type}.nc'\n",
    "    )\n",
    "    MinDO[run_type]=xr.DailyMinBottomDO"
   ]
  },
  {
   "cell_type": "code",
   "execution_count": 17,
   "id": "de9247cf-3740-45ac-9fea-5669826b6fc0",
   "metadata": {},
   "outputs": [
    {
     "data": {
      "text/plain": [
       "(365, 16012)"
      ]
     },
     "execution_count": 17,
     "metadata": {},
     "output_type": "execute_result"
    }
   ],
   "source": [
    "MinDO[run_type].shape"
   ]
  },
  {
   "cell_type": "markdown",
   "id": "a72a2d96-f961-430d-97ca-94607de10443",
   "metadata": {},
   "source": [
    "# Load DO threshold information"
   ]
  },
  {
   "cell_type": "code",
   "execution_count": 18,
   "id": "05b6ad8b-57dc-414e-a058-b04f6e67bc90",
   "metadata": {},
   "outputs": [
    {
     "data": {
      "text/html": [
       "<div>\n",
       "<style scoped>\n",
       "    .dataframe tbody tr th:only-of-type {\n",
       "        vertical-align: middle;\n",
       "    }\n",
       "\n",
       "    .dataframe tbody tr th {\n",
       "        vertical-align: top;\n",
       "    }\n",
       "\n",
       "    .dataframe thead th {\n",
       "        text-align: right;\n",
       "    }\n",
       "</style>\n",
       "<table border=\"1\" class=\"dataframe\">\n",
       "  <thead>\n",
       "    <tr style=\"text-align: right;\">\n",
       "      <th></th>\n",
       "      <th>node_id</th>\n",
       "      <th>Basin</th>\n",
       "      <th>uncategori</th>\n",
       "      <th>x</th>\n",
       "      <th>y</th>\n",
       "      <th>x_shp</th>\n",
       "      <th>y_shp</th>\n",
       "      <th>lat</th>\n",
       "      <th>lon</th>\n",
       "      <th>depth</th>\n",
       "      <th>included_i</th>\n",
       "      <th>DO_std</th>\n",
       "      <th>volume</th>\n",
       "      <th>area</th>\n",
       "      <th>Shape_Leng</th>\n",
       "      <th>Shape_Area</th>\n",
       "      <th>geometry</th>\n",
       "    </tr>\n",
       "  </thead>\n",
       "  <tbody>\n",
       "    <tr>\n",
       "      <th>0</th>\n",
       "      <td>1249</td>\n",
       "      <td>SJF_Admiralty</td>\n",
       "      <td>None</td>\n",
       "      <td>380473.98</td>\n",
       "      <td>5365288.5</td>\n",
       "      <td>380500.860294</td>\n",
       "      <td>5.365280e+06</td>\n",
       "      <td>48.429395</td>\n",
       "      <td>-124.615801</td>\n",
       "      <td>160.628998</td>\n",
       "      <td>1</td>\n",
       "      <td>7</td>\n",
       "      <td>1.824350e+09</td>\n",
       "      <td>11357538.53</td>\n",
       "      <td>13249.778795</td>\n",
       "      <td>1.135754e+07</td>\n",
       "      <td>POLYGON ((378570.860 5364434.875, 378213.530 5...</td>\n",
       "    </tr>\n",
       "  </tbody>\n",
       "</table>\n",
       "</div>"
      ],
      "text/plain": [
       "   node_id          Basin uncategori          x          y          x_shp  \\\n",
       "0     1249  SJF_Admiralty       None  380473.98  5365288.5  380500.860294   \n",
       "\n",
       "          y_shp        lat         lon       depth  included_i  DO_std  \\\n",
       "0  5.365280e+06  48.429395 -124.615801  160.628998           1       7   \n",
       "\n",
       "         volume         area    Shape_Leng    Shape_Area  \\\n",
       "0  1.824350e+09  11357538.53  13249.778795  1.135754e+07   \n",
       "\n",
       "                                            geometry  \n",
       "0  POLYGON ((378570.860 5364434.875, 378213.530 5...  "
      ]
     },
     "execution_count": 18,
     "metadata": {},
     "output_type": "execute_result"
    }
   ],
   "source": [
    "with open('../etc/SSM_config.yaml', 'r') as file:\n",
    "    ssm = yaml.safe_load(file)\n",
    "# get shapefile path    \n",
    "shp = ssm['shapefile_path']\n",
    "# load shapefile into geopandas dataframe\n",
    "gdf = gpd.read_file(shp)\n",
    "gdf.head(1)"
   ]
  },
  {
   "cell_type": "code",
   "execution_count": 19,
   "id": "534639a3-e9be-4bd7-9435-be5f0a555844",
   "metadata": {},
   "outputs": [
    {
     "data": {
      "text/plain": [
       "(7494,)"
      ]
     },
     "execution_count": 19,
     "metadata": {},
     "output_type": "execute_result"
    }
   ],
   "source": [
    "DO_thresh = gdf['DO_std']\n",
    "DO_thresh.shape"
   ]
  },
  {
   "cell_type": "markdown",
   "id": "d23528fa-1ca5-48cd-8464-d78fdd591b8c",
   "metadata": {},
   "source": [
    "# Sub-sample model output with shapefile nodes\n",
    "Assumption: array index = node_id -1\n",
    "Why?  node_id = [1,16012], array index = [0,16012)"
   ]
  },
  {
   "cell_type": "code",
   "execution_count": 20,
   "id": "4e30b45d-ad49-436d-a4b3-dc905d328803",
   "metadata": {},
   "outputs": [
    {
     "data": {
      "text/plain": [
       "(365, 16012)"
      ]
     },
     "execution_count": 20,
     "metadata": {},
     "output_type": "execute_result"
    }
   ],
   "source": [
    "MinDO[run_type].shape"
   ]
  },
  {
   "cell_type": "code",
   "execution_count": 21,
   "id": "0f786000-5a66-4093-9c3f-6470e2a592ef",
   "metadata": {},
   "outputs": [
    {
     "name": "stdout",
     "output_type": "stream",
     "text": [
      "CPU times: user 2.02 ms, sys: 101 µs, total: 2.12 ms\n",
      "Wall time: 2.15 ms\n"
     ]
    }
   ],
   "source": [
    "%%time\n",
    "MinDO_basins={}\n",
    "for run_type in ['deviation','baseline']:\n",
    "    run_type\n",
    "    MinDO_basins[run_type]=MinDO[run_type][:,gdf['node_id']-1]"
   ]
  },
  {
   "cell_type": "code",
   "execution_count": 22,
   "id": "2279adab-0544-4a5a-9452-bdde759b3dc0",
   "metadata": {},
   "outputs": [
    {
     "data": {
      "text/plain": [
       "(365, 7494)"
      ]
     },
     "execution_count": 22,
     "metadata": {},
     "output_type": "execute_result"
    }
   ],
   "source": [
    "MinDO_basins[run_type].shape"
   ]
  },
  {
   "cell_type": "markdown",
   "id": "c85cc476-3d88-425b-b69f-009f1a1b6a2e",
   "metadata": {},
   "source": [
    "# Create boolean where MinDO < threshold"
   ]
  },
  {
   "cell_type": "code",
   "execution_count": 23,
   "id": "98952e76-cedf-422b-b932-3f02bd0a8da5",
   "metadata": {},
   "outputs": [],
   "source": [
    "nnodes = len(DO_thresh)\n",
    "ndays=365\n",
    "AnoxicDays={}\n",
    "# create array of DO_threshold values to determine number of days of noncompliance\n",
    "DO_thresh2D = np.ones((nnodes,ndays))*np.array(DO_thresh).reshape(nnodes,1)\n",
    "# (7494,365) x (7494,1) => element-wise multiplication\n",
    "for run_type in ['deviation','baseline']:\n",
    "    run_type\n",
    "    Anoxic = MinDO_basins[run_type].transpose()<=DO_thresh2D\n",
    "    AnoxicDays[run_type]=Anoxic.sum(axis=1)"
   ]
  },
  {
   "cell_type": "code",
   "execution_count": 24,
   "id": "0cdfbeea-e194-43d2-baed-c5dbee2781ac",
   "metadata": {},
   "outputs": [
    {
     "data": {
      "text/html": [
       "<div><svg style=\"position: absolute; width: 0; height: 0; overflow: hidden\">\n",
       "<defs>\n",
       "<symbol id=\"icon-database\" viewBox=\"0 0 32 32\">\n",
       "<path d=\"M16 0c-8.837 0-16 2.239-16 5v4c0 2.761 7.163 5 16 5s16-2.239 16-5v-4c0-2.761-7.163-5-16-5z\"></path>\n",
       "<path d=\"M16 17c-8.837 0-16-2.239-16-5v6c0 2.761 7.163 5 16 5s16-2.239 16-5v-6c0 2.761-7.163 5-16 5z\"></path>\n",
       "<path d=\"M16 26c-8.837 0-16-2.239-16-5v6c0 2.761 7.163 5 16 5s16-2.239 16-5v-6c0 2.761-7.163 5-16 5z\"></path>\n",
       "</symbol>\n",
       "<symbol id=\"icon-file-text2\" viewBox=\"0 0 32 32\">\n",
       "<path d=\"M28.681 7.159c-0.694-0.947-1.662-2.053-2.724-3.116s-2.169-2.030-3.116-2.724c-1.612-1.182-2.393-1.319-2.841-1.319h-15.5c-1.378 0-2.5 1.121-2.5 2.5v27c0 1.378 1.122 2.5 2.5 2.5h23c1.378 0 2.5-1.122 2.5-2.5v-19.5c0-0.448-0.137-1.23-1.319-2.841zM24.543 5.457c0.959 0.959 1.712 1.825 2.268 2.543h-4.811v-4.811c0.718 0.556 1.584 1.309 2.543 2.268zM28 29.5c0 0.271-0.229 0.5-0.5 0.5h-23c-0.271 0-0.5-0.229-0.5-0.5v-27c0-0.271 0.229-0.5 0.5-0.5 0 0 15.499-0 15.5 0v7c0 0.552 0.448 1 1 1h7v19.5z\"></path>\n",
       "<path d=\"M23 26h-14c-0.552 0-1-0.448-1-1s0.448-1 1-1h14c0.552 0 1 0.448 1 1s-0.448 1-1 1z\"></path>\n",
       "<path d=\"M23 22h-14c-0.552 0-1-0.448-1-1s0.448-1 1-1h14c0.552 0 1 0.448 1 1s-0.448 1-1 1z\"></path>\n",
       "<path d=\"M23 18h-14c-0.552 0-1-0.448-1-1s0.448-1 1-1h14c0.552 0 1 0.448 1 1s-0.448 1-1 1z\"></path>\n",
       "</symbol>\n",
       "</defs>\n",
       "</svg>\n",
       "<style>/* CSS stylesheet for displaying xarray objects in jupyterlab.\n",
       " *\n",
       " */\n",
       "\n",
       ":root {\n",
       "  --xr-font-color0: var(--jp-content-font-color0, rgba(0, 0, 0, 1));\n",
       "  --xr-font-color2: var(--jp-content-font-color2, rgba(0, 0, 0, 0.54));\n",
       "  --xr-font-color3: var(--jp-content-font-color3, rgba(0, 0, 0, 0.38));\n",
       "  --xr-border-color: var(--jp-border-color2, #e0e0e0);\n",
       "  --xr-disabled-color: var(--jp-layout-color3, #bdbdbd);\n",
       "  --xr-background-color: var(--jp-layout-color0, white);\n",
       "  --xr-background-color-row-even: var(--jp-layout-color1, white);\n",
       "  --xr-background-color-row-odd: var(--jp-layout-color2, #eeeeee);\n",
       "}\n",
       "\n",
       "html[theme=dark],\n",
       "body.vscode-dark {\n",
       "  --xr-font-color0: rgba(255, 255, 255, 1);\n",
       "  --xr-font-color2: rgba(255, 255, 255, 0.54);\n",
       "  --xr-font-color3: rgba(255, 255, 255, 0.38);\n",
       "  --xr-border-color: #1F1F1F;\n",
       "  --xr-disabled-color: #515151;\n",
       "  --xr-background-color: #111111;\n",
       "  --xr-background-color-row-even: #111111;\n",
       "  --xr-background-color-row-odd: #313131;\n",
       "}\n",
       "\n",
       ".xr-wrap {\n",
       "  display: block !important;\n",
       "  min-width: 300px;\n",
       "  max-width: 700px;\n",
       "}\n",
       "\n",
       ".xr-text-repr-fallback {\n",
       "  /* fallback to plain text repr when CSS is not injected (untrusted notebook) */\n",
       "  display: none;\n",
       "}\n",
       "\n",
       ".xr-header {\n",
       "  padding-top: 6px;\n",
       "  padding-bottom: 6px;\n",
       "  margin-bottom: 4px;\n",
       "  border-bottom: solid 1px var(--xr-border-color);\n",
       "}\n",
       "\n",
       ".xr-header > div,\n",
       ".xr-header > ul {\n",
       "  display: inline;\n",
       "  margin-top: 0;\n",
       "  margin-bottom: 0;\n",
       "}\n",
       "\n",
       ".xr-obj-type,\n",
       ".xr-array-name {\n",
       "  margin-left: 2px;\n",
       "  margin-right: 10px;\n",
       "}\n",
       "\n",
       ".xr-obj-type {\n",
       "  color: var(--xr-font-color2);\n",
       "}\n",
       "\n",
       ".xr-sections {\n",
       "  padding-left: 0 !important;\n",
       "  display: grid;\n",
       "  grid-template-columns: 150px auto auto 1fr 20px 20px;\n",
       "}\n",
       "\n",
       ".xr-section-item {\n",
       "  display: contents;\n",
       "}\n",
       "\n",
       ".xr-section-item input {\n",
       "  display: none;\n",
       "}\n",
       "\n",
       ".xr-section-item input + label {\n",
       "  color: var(--xr-disabled-color);\n",
       "}\n",
       "\n",
       ".xr-section-item input:enabled + label {\n",
       "  cursor: pointer;\n",
       "  color: var(--xr-font-color2);\n",
       "}\n",
       "\n",
       ".xr-section-item input:enabled + label:hover {\n",
       "  color: var(--xr-font-color0);\n",
       "}\n",
       "\n",
       ".xr-section-summary {\n",
       "  grid-column: 1;\n",
       "  color: var(--xr-font-color2);\n",
       "  font-weight: 500;\n",
       "}\n",
       "\n",
       ".xr-section-summary > span {\n",
       "  display: inline-block;\n",
       "  padding-left: 0.5em;\n",
       "}\n",
       "\n",
       ".xr-section-summary-in:disabled + label {\n",
       "  color: var(--xr-font-color2);\n",
       "}\n",
       "\n",
       ".xr-section-summary-in + label:before {\n",
       "  display: inline-block;\n",
       "  content: '►';\n",
       "  font-size: 11px;\n",
       "  width: 15px;\n",
       "  text-align: center;\n",
       "}\n",
       "\n",
       ".xr-section-summary-in:disabled + label:before {\n",
       "  color: var(--xr-disabled-color);\n",
       "}\n",
       "\n",
       ".xr-section-summary-in:checked + label:before {\n",
       "  content: '▼';\n",
       "}\n",
       "\n",
       ".xr-section-summary-in:checked + label > span {\n",
       "  display: none;\n",
       "}\n",
       "\n",
       ".xr-section-summary,\n",
       ".xr-section-inline-details {\n",
       "  padding-top: 4px;\n",
       "  padding-bottom: 4px;\n",
       "}\n",
       "\n",
       ".xr-section-inline-details {\n",
       "  grid-column: 2 / -1;\n",
       "}\n",
       "\n",
       ".xr-section-details {\n",
       "  display: none;\n",
       "  grid-column: 1 / -1;\n",
       "  margin-bottom: 5px;\n",
       "}\n",
       "\n",
       ".xr-section-summary-in:checked ~ .xr-section-details {\n",
       "  display: contents;\n",
       "}\n",
       "\n",
       ".xr-array-wrap {\n",
       "  grid-column: 1 / -1;\n",
       "  display: grid;\n",
       "  grid-template-columns: 20px auto;\n",
       "}\n",
       "\n",
       ".xr-array-wrap > label {\n",
       "  grid-column: 1;\n",
       "  vertical-align: top;\n",
       "}\n",
       "\n",
       ".xr-preview {\n",
       "  color: var(--xr-font-color3);\n",
       "}\n",
       "\n",
       ".xr-array-preview,\n",
       ".xr-array-data {\n",
       "  padding: 0 5px !important;\n",
       "  grid-column: 2;\n",
       "}\n",
       "\n",
       ".xr-array-data,\n",
       ".xr-array-in:checked ~ .xr-array-preview {\n",
       "  display: none;\n",
       "}\n",
       "\n",
       ".xr-array-in:checked ~ .xr-array-data,\n",
       ".xr-array-preview {\n",
       "  display: inline-block;\n",
       "}\n",
       "\n",
       ".xr-dim-list {\n",
       "  display: inline-block !important;\n",
       "  list-style: none;\n",
       "  padding: 0 !important;\n",
       "  margin: 0;\n",
       "}\n",
       "\n",
       ".xr-dim-list li {\n",
       "  display: inline-block;\n",
       "  padding: 0;\n",
       "  margin: 0;\n",
       "}\n",
       "\n",
       ".xr-dim-list:before {\n",
       "  content: '(';\n",
       "}\n",
       "\n",
       ".xr-dim-list:after {\n",
       "  content: ')';\n",
       "}\n",
       "\n",
       ".xr-dim-list li:not(:last-child):after {\n",
       "  content: ',';\n",
       "  padding-right: 5px;\n",
       "}\n",
       "\n",
       ".xr-has-index {\n",
       "  font-weight: bold;\n",
       "}\n",
       "\n",
       ".xr-var-list,\n",
       ".xr-var-item {\n",
       "  display: contents;\n",
       "}\n",
       "\n",
       ".xr-var-item > div,\n",
       ".xr-var-item label,\n",
       ".xr-var-item > .xr-var-name span {\n",
       "  background-color: var(--xr-background-color-row-even);\n",
       "  margin-bottom: 0;\n",
       "}\n",
       "\n",
       ".xr-var-item > .xr-var-name:hover span {\n",
       "  padding-right: 5px;\n",
       "}\n",
       "\n",
       ".xr-var-list > li:nth-child(odd) > div,\n",
       ".xr-var-list > li:nth-child(odd) > label,\n",
       ".xr-var-list > li:nth-child(odd) > .xr-var-name span {\n",
       "  background-color: var(--xr-background-color-row-odd);\n",
       "}\n",
       "\n",
       ".xr-var-name {\n",
       "  grid-column: 1;\n",
       "}\n",
       "\n",
       ".xr-var-dims {\n",
       "  grid-column: 2;\n",
       "}\n",
       "\n",
       ".xr-var-dtype {\n",
       "  grid-column: 3;\n",
       "  text-align: right;\n",
       "  color: var(--xr-font-color2);\n",
       "}\n",
       "\n",
       ".xr-var-preview {\n",
       "  grid-column: 4;\n",
       "}\n",
       "\n",
       ".xr-var-name,\n",
       ".xr-var-dims,\n",
       ".xr-var-dtype,\n",
       ".xr-preview,\n",
       ".xr-attrs dt {\n",
       "  white-space: nowrap;\n",
       "  overflow: hidden;\n",
       "  text-overflow: ellipsis;\n",
       "  padding-right: 10px;\n",
       "}\n",
       "\n",
       ".xr-var-name:hover,\n",
       ".xr-var-dims:hover,\n",
       ".xr-var-dtype:hover,\n",
       ".xr-attrs dt:hover {\n",
       "  overflow: visible;\n",
       "  width: auto;\n",
       "  z-index: 1;\n",
       "}\n",
       "\n",
       ".xr-var-attrs,\n",
       ".xr-var-data {\n",
       "  display: none;\n",
       "  background-color: var(--xr-background-color) !important;\n",
       "  padding-bottom: 5px !important;\n",
       "}\n",
       "\n",
       ".xr-var-attrs-in:checked ~ .xr-var-attrs,\n",
       ".xr-var-data-in:checked ~ .xr-var-data {\n",
       "  display: block;\n",
       "}\n",
       "\n",
       ".xr-var-data > table {\n",
       "  float: right;\n",
       "}\n",
       "\n",
       ".xr-var-name span,\n",
       ".xr-var-data,\n",
       ".xr-attrs {\n",
       "  padding-left: 25px !important;\n",
       "}\n",
       "\n",
       ".xr-attrs,\n",
       ".xr-var-attrs,\n",
       ".xr-var-data {\n",
       "  grid-column: 1 / -1;\n",
       "}\n",
       "\n",
       "dl.xr-attrs {\n",
       "  padding: 0;\n",
       "  margin: 0;\n",
       "  display: grid;\n",
       "  grid-template-columns: 125px auto;\n",
       "}\n",
       "\n",
       ".xr-attrs dt,\n",
       ".xr-attrs dd {\n",
       "  padding: 0;\n",
       "  margin: 0;\n",
       "  float: left;\n",
       "  padding-right: 10px;\n",
       "  width: auto;\n",
       "}\n",
       "\n",
       ".xr-attrs dt {\n",
       "  font-weight: normal;\n",
       "  grid-column: 1;\n",
       "}\n",
       "\n",
       ".xr-attrs dt:hover span {\n",
       "  display: inline-block;\n",
       "  background: var(--xr-background-color);\n",
       "  padding-right: 10px;\n",
       "}\n",
       "\n",
       ".xr-attrs dd {\n",
       "  grid-column: 2;\n",
       "  white-space: pre-wrap;\n",
       "  word-break: break-all;\n",
       "}\n",
       "\n",
       ".xr-icon-database,\n",
       ".xr-icon-file-text2 {\n",
       "  display: inline-block;\n",
       "  vertical-align: middle;\n",
       "  width: 1em;\n",
       "  height: 1.5em !important;\n",
       "  stroke-width: 0;\n",
       "  stroke: currentColor;\n",
       "  fill: currentColor;\n",
       "}\n",
       "</style><pre class='xr-text-repr-fallback'>&lt;xarray.DataArray &#x27;DailyMinBottomDO&#x27; ()&gt;\n",
       "array(162.)</pre><div class='xr-wrap' style='display:none'><div class='xr-header'><div class='xr-obj-type'>xarray.DataArray</div><div class='xr-array-name'>'DailyMinBottomDO'</div></div><ul class='xr-sections'><li class='xr-section-item'><div class='xr-array-wrap'><input id='section-d8438dfd-7fec-444a-b3ba-281cdb6e32d8' class='xr-array-in' type='checkbox' checked><label for='section-d8438dfd-7fec-444a-b3ba-281cdb6e32d8' title='Show/hide data repr'><svg class='icon xr-icon-database'><use xlink:href='#icon-database'></use></svg></label><div class='xr-array-preview xr-preview'><span>162.0</span></div><div class='xr-array-data'><pre>array(162.)</pre></div></div></li><li class='xr-section-item'><input id='section-38c1030f-fd28-412a-8572-0dc9f4b5997a' class='xr-section-summary-in' type='checkbox' disabled ><label for='section-38c1030f-fd28-412a-8572-0dc9f4b5997a' class='xr-section-summary'  title='Expand/collapse section'>Coordinates: <span>(0)</span></label><div class='xr-section-inline-details'></div><div class='xr-section-details'><ul class='xr-var-list'></ul></div></li><li class='xr-section-item'><input id='section-1ef0a890-a3e2-4d1c-be87-f18cc11190e4' class='xr-section-summary-in' type='checkbox' disabled ><label for='section-1ef0a890-a3e2-4d1c-be87-f18cc11190e4' class='xr-section-summary'  title='Expand/collapse section'>Attributes: <span>(0)</span></label><div class='xr-section-inline-details'></div><div class='xr-section-details'><dl class='xr-attrs'></dl></div></li></ul></div></div>"
      ],
      "text/plain": [
       "<xarray.DataArray 'DailyMinBottomDO' ()>\n",
       "array(162.)"
      ]
     },
     "execution_count": 24,
     "metadata": {},
     "output_type": "execute_result"
    }
   ],
   "source": [
    "AnoxicDays[run_type].median()"
   ]
  },
  {
   "cell_type": "markdown",
   "id": "263b961a-4fa3-496b-8f0b-e41ec7efa338",
   "metadata": {},
   "source": [
    "# Create pandas dataframe with Anoxic days by basin"
   ]
  },
  {
   "cell_type": "code",
   "execution_count": 25,
   "id": "da3e1392-83d6-4c93-95b9-6a687a9309f2",
   "metadata": {},
   "outputs": [
    {
     "data": {
      "text/plain": [
       "['Hood_Canal',\n",
       " 'Main_Basin',\n",
       " 'SJF_Admiralty',\n",
       " 'SOG_Bays',\n",
       " 'South_Sound',\n",
       " 'Whidbey_Basin']"
      ]
     },
     "execution_count": 25,
     "metadata": {},
     "output_type": "execute_result"
    }
   ],
   "source": [
    "gdf[['node_id','Basin']].groupby('Basin').count().index.to_list()"
   ]
  },
  {
   "cell_type": "code",
   "execution_count": 26,
   "id": "91d23bfc-de8e-4b05-9964-7241e1763597",
   "metadata": {},
   "outputs": [],
   "source": [
    "TotalAnoxic={}\n",
    "basins = gdf[['node_id','Basin']].groupby('Basin').count().index.to_list()\n",
    "for run_type in ['deviation','baseline']:\n",
    "    TotalAnoxic[run_type]={}\n",
    "    for basin in basins:\n",
    "        TotalAnoxic[run_type][basin]=np.array(AnoxicDays[run_type])[gdf['Basin']==basin].sum()"
   ]
  },
  {
   "cell_type": "code",
   "execution_count": 27,
   "id": "b7073d71-2665-4f5f-a4b7-9c0c948d4b8f",
   "metadata": {},
   "outputs": [
    {
     "data": {
      "text/html": [
       "<div>\n",
       "<style scoped>\n",
       "    .dataframe tbody tr th:only-of-type {\n",
       "        vertical-align: middle;\n",
       "    }\n",
       "\n",
       "    .dataframe tbody tr th {\n",
       "        vertical-align: top;\n",
       "    }\n",
       "\n",
       "    .dataframe thead th {\n",
       "        text-align: right;\n",
       "    }\n",
       "</style>\n",
       "<table border=\"1\" class=\"dataframe\">\n",
       "  <thead>\n",
       "    <tr style=\"text-align: right;\">\n",
       "      <th></th>\n",
       "      <th>deviation</th>\n",
       "      <th>baseline</th>\n",
       "    </tr>\n",
       "  </thead>\n",
       "  <tbody>\n",
       "    <tr>\n",
       "      <th>Hood_Canal</th>\n",
       "      <td>222270</td>\n",
       "      <td>220923</td>\n",
       "    </tr>\n",
       "    <tr>\n",
       "      <th>Main_Basin</th>\n",
       "      <td>215083</td>\n",
       "      <td>203937</td>\n",
       "    </tr>\n",
       "    <tr>\n",
       "      <th>SJF_Admiralty</th>\n",
       "      <td>320815</td>\n",
       "      <td>320257</td>\n",
       "    </tr>\n",
       "    <tr>\n",
       "      <th>SOG_Bays</th>\n",
       "      <td>199846</td>\n",
       "      <td>199058</td>\n",
       "    </tr>\n",
       "    <tr>\n",
       "      <th>South_Sound</th>\n",
       "      <td>185479</td>\n",
       "      <td>173016</td>\n",
       "    </tr>\n",
       "    <tr>\n",
       "      <th>Whidbey_Basin</th>\n",
       "      <td>157313</td>\n",
       "      <td>147070</td>\n",
       "    </tr>\n",
       "  </tbody>\n",
       "</table>\n",
       "</div>"
      ],
      "text/plain": [
       "               deviation  baseline\n",
       "Hood_Canal        222270    220923\n",
       "Main_Basin        215083    203937\n",
       "SJF_Admiralty     320815    320257\n",
       "SOG_Bays          199846    199058\n",
       "South_Sound       185479    173016\n",
       "Whidbey_Basin     157313    147070"
      ]
     },
     "execution_count": 27,
     "metadata": {},
     "output_type": "execute_result"
    }
   ],
   "source": [
    "pandas.DataFrame(TotalAnoxic)"
   ]
  },
  {
   "cell_type": "markdown",
   "id": "c4f1d00d-86e4-471a-81e8-a6e449c5ab20",
   "metadata": {},
   "source": [
    "#### The above is total days where bottom DO < threshold, by basin, with \"deviation\" reflecting \"existing\" and \"baseline\" as \"reference\""
   ]
  },
  {
   "cell_type": "markdown",
   "id": "77f3095b-3ca0-4c4c-834b-0978d2f654a1",
   "metadata": {},
   "source": [
    "# Calculate volume days exceedence"
   ]
  },
  {
   "cell_type": "code",
   "execution_count": 28,
   "id": "dbc5985a-92c3-451b-8021-2bc80ba70ba1",
   "metadata": {},
   "outputs": [
    {
     "ename": "KeyError",
     "evalue": "'var_name'",
     "output_type": "error",
     "traceback": [
      "\u001b[0;31m---------------------------------------------------------------------------\u001b[0m",
      "\u001b[0;31mKeyError\u001b[0m                                  Traceback (most recent call last)",
      "File \u001b[0;32m<timed exec>:4\u001b[0m, in \u001b[0;36m<module>\u001b[0;34m\u001b[0m\n",
      "\u001b[0;31mKeyError\u001b[0m: 'var_name'"
     ]
    }
   ],
   "source": [
    "%%time\n",
    "# specify variable to plot\n",
    "graphic_var = 'DO'\n",
    "# get correspoding model variable name, Var_10, for \"DO\"\n",
    "ssm_var_name = ssm['var_name'][graphic_var]\n",
    "\n",
    "for run_type in ['deviation','baseline']:\n",
    "    # input netcdf filename\n",
    "    index = ssm['run_index'][run_type]\n",
    "    path=pathlib.Path(\n",
    "        ssm['output_paths'][index])/'s_hy_base000_pnnl007_nodes.nc'\n",
    "    print(path.as_posix())\n",
    "    # load variable into xarray and calculate daily min.\n",
    "    with xarray.open_dataset(path) as ds:\n",
    "        dailyDO = reshape_fvcom(\n",
    "            ds[ssm_var_name][:,:].data, \n",
    "            'days'\n",
    "        ) #return (365x24xnodes)\n",
    "    # calculate daily minimum (365 x nodes)\n",
    "    dailyDO_tmin = calc_fvcom_stat(dailyDO, 'min', axis=1)\n",
    "    # reshape to levels\n",
    "    dailyDO_tmin_rshp = reshape_fvcom(dailyDO_tmin, 'levels')\n",
    "    # save to file\n",
    "    xr_minDO=xarray.DataArray(dailyDO_tmin_rshp, name='DailyMinDO')\n",
    "    xr_minDO.to_netcdf(output_dir/f'dailyDO_24hr_min_{run_type}.nc')"
   ]
  },
  {
   "cell_type": "code",
   "execution_count": 29,
   "id": "e9678049-a83c-4cb6-ba14-b58e5c76aa40",
   "metadata": {},
   "outputs": [
    {
     "name": "stdout",
     "output_type": "stream",
     "text": [
      "CPU times: user 7.63 ms, sys: 7.16 ms, total: 14.8 ms\n",
      "Wall time: 100 ms\n"
     ]
    }
   ],
   "source": [
    "%%time\n",
    "minDailyDO={}\n",
    "for run_type in ['deviation','baseline']:\n",
    "    netcdf_in = output_dir/f'dailyDO_24hr_min_{run_type}.nc'\n",
    "    minDailyDO[run_type]=xarray.open_dataset(netcdf_in)"
   ]
  },
  {
   "cell_type": "code",
   "execution_count": 30,
   "id": "bd79e8bc-6793-41bd-b204-0e161a1a1293",
   "metadata": {},
   "outputs": [
    {
     "data": {
      "text/plain": [
       "(365, 16012, 10)"
      ]
     },
     "execution_count": 30,
     "metadata": {},
     "output_type": "execute_result"
    }
   ],
   "source": [
    "minDailyDO[run_type].DailyMinDO.shape"
   ]
  },
  {
   "cell_type": "markdown",
   "id": "f57d7c5b-7281-45db-824d-ee8d25f7f777",
   "metadata": {},
   "source": [
    "## Use `gdf[node_id]-1` to get array indices "
   ]
  },
  {
   "cell_type": "code",
   "execution_count": null,
   "id": "b75b322e-94d7-4846-b323-00118c2c4ad7",
   "metadata": {},
   "outputs": [],
   "source": [
    "%%time\n",
    "minDailyDO_shp={}\n",
    "for run_type in ['deviation','baseline']:\n",
    "    minDailyDO_shp[run_type]=minDailyDO[run_type].DailyMinDO[:,gdf['node_id']-1,:]"
   ]
  },
  {
   "cell_type": "code",
   "execution_count": null,
   "id": "a80c13ba-dc57-448b-9f4d-d3f22114b1bd",
   "metadata": {},
   "outputs": [],
   "source": [
    "minDailyDO_shp[run_type].shape"
   ]
  },
  {
   "cell_type": "code",
   "execution_count": null,
   "id": "7dae8e1f-97fd-4a81-a52a-1bb00a90b7e7",
   "metadata": {},
   "outputs": [],
   "source": [
    "minDailyDO_shp[run_type]"
   ]
  },
  {
   "cell_type": "code",
   "execution_count": null,
   "id": "3842dc00-2275-499d-a288-a27256369976",
   "metadata": {},
   "outputs": [],
   "source": [
    "minDailyDO_shp[run_type].transpose('dim_1','dim_0','dim_2').shape"
   ]
  },
  {
   "cell_type": "markdown",
   "id": "6599dc6b-f6f7-4bde-bba9-ff3a09aff383",
   "metadata": {},
   "source": [
    "## Calculate days exceedence for all layers"
   ]
  },
  {
   "cell_type": "code",
   "execution_count": null,
   "id": "24b09778-2a9c-4721-9cd5-e56d87572fbd",
   "metadata": {},
   "outputs": [],
   "source": [
    "DO_thresh = gdf['DO_std']\n",
    "DO_thresh3D = np.ones((nnodes,ndays,10))*np.array(DO_thresh).reshape(nnodes,1,1)"
   ]
  },
  {
   "cell_type": "code",
   "execution_count": null,
   "id": "be93d307-713d-4592-a831-84d430aa49be",
   "metadata": {},
   "outputs": [],
   "source": [
    "DO_thresh3D.shape"
   ]
  },
  {
   "cell_type": "code",
   "execution_count": null,
   "id": "9985d3d9-3ee0-4cf4-99a6-4e7910e0338a",
   "metadata": {},
   "outputs": [],
   "source": [
    "DO_data = (DO_thresh3D>0)\n",
    "DO_data.shape"
   ]
  },
  {
   "cell_type": "code",
   "execution_count": null,
   "id": "a3f6b958-22fe-42ae-8a6e-7167b5e74bf9",
   "metadata": {},
   "outputs": [],
   "source": [
    "DO_data = (DO_thresh3D>0)\n",
    "for depth in range(0,10):\n",
    "    plt.plot(DO_thresh3D[:,1,depth][DO_data[:,1,depth]],'*')"
   ]
  },
  {
   "cell_type": "code",
   "execution_count": null,
   "id": "e5dda402-872f-4cde-a346-9540297ab32e",
   "metadata": {},
   "outputs": [],
   "source": [
    "minDailyDO_shp[run_type].shape"
   ]
  },
  {
   "cell_type": "code",
   "execution_count": null,
   "id": "4b6ee94f-f1b2-4774-8f6c-10e74fbdf74e",
   "metadata": {},
   "outputs": [],
   "source": [
    "DO_thresh3D=DO_thresh3D.reshape(365,7494,10)"
   ]
  },
  {
   "cell_type": "code",
   "execution_count": null,
   "id": "5e88a8de-f52a-49c2-83d4-57d619d8a491",
   "metadata": {},
   "outputs": [],
   "source": [
    "DO_thresh3D.shape"
   ]
  },
  {
   "cell_type": "code",
   "execution_count": null,
   "id": "1efb7760-0737-4276-ad2a-a9033b870280",
   "metadata": {},
   "outputs": [],
   "source": [
    "%%time\n",
    "nnodes = len(DO_thresh)\n",
    "ndays=365\n",
    "AnoxicDays={}\n",
    "# create array of DO_threshold values to determine number of days of noncompliance\n",
    "DO_thresh3D = np.ones((nnodes,ndays,10))*np.array(DO_thresh).reshape(nnodes,1,1)# (7494,365) x (7494,1) => element-wise multiplication\n",
    "DO_thresh3D=DO_thresh3D.reshape(365,7494,10)\n",
    "for run_type in ['deviation','baseline']:\n",
    "    print(run_type)\n",
    "    Anoxic = minDailyDO_shp[run_type]<=DO_thresh3D\n",
    "    AnoxicDays[run_type]=Anoxic.sum(axis=0)"
   ]
  },
  {
   "cell_type": "markdown",
   "id": "9eea5a85-1da5-4bff-b8d2-a9bc4b25c5b8",
   "metadata": {
    "tags": []
   },
   "source": [
    "### Take the max boolean value across depth (i.e. 1 if there is(are) an anoxic level(s)) "
   ]
  },
  {
   "cell_type": "code",
   "execution_count": null,
   "id": "a12ac955-476e-44ef-8be9-46a733187d3e",
   "metadata": {},
   "outputs": [],
   "source": [
    "np.sum(ssm['siglev_diff'])"
   ]
  },
  {
   "cell_type": "code",
   "execution_count": null,
   "id": "4c7b1eaf-840f-4e75-ab14-fc23416806e6",
   "metadata": {},
   "outputs": [],
   "source": [
    "lyr_volume_np=(np.ones((10,7494))*gdf['volume'].values).T*ssm['siglev_diff']/100"
   ]
  },
  {
   "cell_type": "code",
   "execution_count": null,
   "id": "2879e911-432c-448f-a610-cf260328414f",
   "metadata": {},
   "outputs": [],
   "source": [
    "lyr_volume_time_np=np.ones((365,7494,10))*lyr_volume_np"
   ]
  },
  {
   "cell_type": "code",
   "execution_count": null,
   "id": "aa93d5de-79b8-4b00-ac72-be9b02735897",
   "metadata": {},
   "outputs": [],
   "source": [
    "lyr_volume_time_np.shape"
   ]
  },
  {
   "cell_type": "code",
   "execution_count": null,
   "id": "d42b39a6-1ff3-48b4-b69a-a939a699dacf",
   "metadata": {},
   "outputs": [],
   "source": [
    "%%time\n",
    "nnodes = len(DO_thresh)\n",
    "ndays=365\n",
    "AnoxicVolDays={}\n",
    "# create array of DO_threshold values to determine number of days of noncompliance\n",
    "DO_thresh3D = np.ones((nnodes,ndays,10))*np.array(DO_thresh).reshape(nnodes,1,1)# (7494,365) x (7494,1) => element-wise multiplication\n",
    "DO_thresh3D=DO_thresh3D.reshape(365,7494,10)\n",
    "for run_type in ['deviation','baseline']:\n",
    "    print(run_type)\n",
    "    Anoxic = np.squeeze([minDailyDO_shp[run_type]<=DO_thresh3D]*lyr_volume_time_np)\n",
    "    AnoxicVolDays[run_type]=Anoxic.sum(axis=0).sum(axis=1)"
   ]
  },
  {
   "cell_type": "code",
   "execution_count": null,
   "id": "b2a64530-636d-4694-b83f-7995bc4db6b2",
   "metadata": {},
   "outputs": [],
   "source": [
    "AnoxicVolDays[run_type].shape"
   ]
  },
  {
   "cell_type": "code",
   "execution_count": null,
   "id": "7bb16f7f-6781-4657-aed5-a86ccb364099",
   "metadata": {},
   "outputs": [],
   "source": [
    "TotalVolAnoxicDays={}\n",
    "basins = gdf[['node_id','Basin']].groupby('Basin').count().index.to_list()\n",
    "for run_type in ['deviation','baseline']:\n",
    "    TotalVolAnoxicDays[run_type]={}\n",
    "    for basin in basins:\n",
    "        TotalVolAnoxicDays[run_type][basin]=np.array(AnoxicVolDays[run_type])[gdf['Basin']==basin].sum()"
   ]
  },
  {
   "cell_type": "code",
   "execution_count": null,
   "id": "c18febfe-ed25-4078-b019-7da271acb6d5",
   "metadata": {},
   "outputs": [],
   "source": [
    "pandas.DataFrame(TotalVolAnoxicDays).rename(columns={'deviation':'existing','baseline':'reference'})"
   ]
  },
  {
   "cell_type": "markdown",
   "id": "917b9560-3566-4ee5-8cda-d05819dbeae0",
   "metadata": {},
   "source": [
    "###  Total volume [m^3] of depth levels with DO < DO_std in 2014"
   ]
  },
  {
   "cell_type": "code",
   "execution_count": null,
   "id": "fbe90deb-2570-4533-a7e7-ca9137b613d3",
   "metadata": {},
   "outputs": [],
   "source": [
    "np.array(AnoxicDays[run_type])[test].sum()"
   ]
  },
  {
   "cell_type": "code",
   "execution_count": null,
   "id": "3fc103c0-5d65-43d4-b942-3c923f31a59d",
   "metadata": {},
   "outputs": [],
   "source": [
    "np.array(AnoxicDays[run_type])[gdf['Basin']==basin].shape"
   ]
  }
 ],
 "metadata": {
  "kernelspec": {
   "display_name": "Python 3 (ipykernel)",
   "language": "python",
   "name": "python3"
  },
  "language_info": {
   "codemirror_mode": {
    "name": "ipython",
    "version": 3
   },
   "file_extension": ".py",
   "mimetype": "text/x-python",
   "name": "python",
   "nbconvert_exporter": "python",
   "pygments_lexer": "ipython3",
   "version": "3.10.4"
  }
 },
 "nbformat": 4,
 "nbformat_minor": 5
}
