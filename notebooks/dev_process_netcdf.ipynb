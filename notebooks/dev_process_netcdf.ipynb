{
 "cells": [
  {
   "cell_type": "code",
   "execution_count": 2,
   "id": "00e96983-9003-4df8-b4ce-7e949e8bc32d",
   "metadata": {},
   "outputs": [],
   "source": [
    "import sys\n",
    "import os\n",
    "sys.path.insert(1, '../scripts/')\n",
    "import xarray\n",
    "import yaml\n",
    "import numpy as np\n",
    "import pandas\n",
    "import pathlib\n",
    "import time\n",
    "import geopandas as gpd\n",
    "import matplotlib.pyplot as plt\n",
    "import matplotlib as mpl\n",
    "# load functions from my scripts file \"ssm_utils\"\n",
    "from ssm_utils import get_nearest_node, reshape_fvcom3D, calc_fvcom_stat, extract_fvcom_level"
   ]
  },
  {
   "cell_type": "code",
   "execution_count": 3,
   "id": "c47a50ed-f9f5-4f99-8e96-875501027a59",
   "metadata": {},
   "outputs": [],
   "source": [
    "output_base = pathlib.Path('/mmfs1/gscratch/ssmc/USRS/PSI/Rachael/projects/KingCounty/data')\n",
    "graphics_directory = pathlib.Path('/mmfs1/gscratch/ssmc/USRS/PSI/Rachael/projects/KingCounty/graphics')\n",
    "\n",
    "model_var = 'DOXG'\n",
    "output_dir = output_base/model_var"
   ]
  },
  {
   "cell_type": "code",
   "execution_count": 4,
   "id": "1321f83f-4214-4a41-9448-137fd85946cf",
   "metadata": {},
   "outputs": [],
   "source": [
    "# create output directories if they don't exist for (1) all depths\n",
    "if os.path.exists(output_dir)==False:\n",
    "    print(f'creating: {output_dir}')\n",
    "    os.makedirs(output_dir)\n",
    "# bottom depth only\n",
    "if os.path.exists(output_dir/'bottom')==False:\n",
    "    print(f'creating: {output_dir}/bottom')\n",
    "    os.makedirs(output_dir/'bottom')"
   ]
  },
  {
   "cell_type": "code",
   "execution_count": 5,
   "id": "f54b6e29-cd89-431c-b883-1a0bf6696429",
   "metadata": {},
   "outputs": [
    {
     "data": {
      "text/html": [
       "<div>\n",
       "<style scoped>\n",
       "    .dataframe tbody tr th:only-of-type {\n",
       "        vertical-align: middle;\n",
       "    }\n",
       "\n",
       "    .dataframe tbody tr th {\n",
       "        vertical-align: top;\n",
       "    }\n",
       "\n",
       "    .dataframe thead th {\n",
       "        text-align: right;\n",
       "    }\n",
       "</style>\n",
       "<table border=\"1\" class=\"dataframe\">\n",
       "  <thead>\n",
       "    <tr style=\"text-align: right;\">\n",
       "      <th></th>\n",
       "      <th>node_id</th>\n",
       "      <th>Basin</th>\n",
       "      <th>uncategori</th>\n",
       "      <th>x</th>\n",
       "      <th>y</th>\n",
       "      <th>x_shp</th>\n",
       "      <th>y_shp</th>\n",
       "      <th>lat</th>\n",
       "      <th>lon</th>\n",
       "      <th>depth</th>\n",
       "      <th>included_i</th>\n",
       "      <th>DO_std</th>\n",
       "      <th>volume</th>\n",
       "      <th>area</th>\n",
       "      <th>Shape_Leng</th>\n",
       "      <th>Shape_Area</th>\n",
       "      <th>geometry</th>\n",
       "    </tr>\n",
       "  </thead>\n",
       "  <tbody>\n",
       "    <tr>\n",
       "      <th>0</th>\n",
       "      <td>1249</td>\n",
       "      <td>SJF_Admiralty</td>\n",
       "      <td>None</td>\n",
       "      <td>380473.98</td>\n",
       "      <td>5365288.5</td>\n",
       "      <td>380500.860294</td>\n",
       "      <td>5.365280e+06</td>\n",
       "      <td>48.429395</td>\n",
       "      <td>-124.615801</td>\n",
       "      <td>160.628998</td>\n",
       "      <td>1</td>\n",
       "      <td>7</td>\n",
       "      <td>1.824350e+09</td>\n",
       "      <td>11357538.53</td>\n",
       "      <td>13249.778795</td>\n",
       "      <td>1.135754e+07</td>\n",
       "      <td>POLYGON ((378570.860 5364434.875, 378213.530 5...</td>\n",
       "    </tr>\n",
       "  </tbody>\n",
       "</table>\n",
       "</div>"
      ],
      "text/plain": [
       "   node_id          Basin uncategori          x          y          x_shp  \\\n",
       "0     1249  SJF_Admiralty       None  380473.98  5365288.5  380500.860294   \n",
       "\n",
       "          y_shp        lat         lon       depth  included_i  DO_std  \\\n",
       "0  5.365280e+06  48.429395 -124.615801  160.628998           1       7   \n",
       "\n",
       "         volume         area    Shape_Leng    Shape_Area  \\\n",
       "0  1.824350e+09  11357538.53  13249.778795  1.135754e+07   \n",
       "\n",
       "                                            geometry  \n",
       "0  POLYGON ((378570.860 5364434.875, 378213.530 5...  "
      ]
     },
     "execution_count": 5,
     "metadata": {},
     "output_type": "execute_result"
    }
   ],
   "source": [
    "with open('../etc/SSM_config.yaml', 'r') as file:\n",
    "    ssm = yaml.safe_load(file)\n",
    "# get shapefile path    \n",
    "shp = ssm['shapefile_path']\n",
    "# load shapefile into geopandas dataframe\n",
    "gdf = gpd.read_file(shp)\n",
    "gdf.head(1)"
   ]
  },
  {
   "cell_type": "code",
   "execution_count": 8,
   "id": "e78e3406-60c7-4e8c-a056-8f618f6c7f4a",
   "metadata": {},
   "outputs": [
    {
     "data": {
      "text/plain": [
       "['/mmfs1/gscratch/ssmc/USRS/PSI/Sukyong/kingcounty/wqm_baseline/ssm_output.nc',\n",
       " '/mmfs1/gscratch/ssmc/USRS/PSI/Sukyong/kingcounty/1b_all_sog_wwtp_off/ssm_output.nc',\n",
       " '/mmfs1/gscratch/ssmc/USRS/PSI/Sukyong/kingcounty/1c_all_sog_riv_off/ssm_output.nc',\n",
       " '/mmfs1/gscratch/ssmc/USRS/PSI/Sukyong/kingcounty/1d_small_sog_wwtp_off/ssm_output.nc',\n",
       " '/mmfs1/gscratch/ssmc/USRS/PSI/Sukyong/kingcounty/1e_med_sog_wwtp_off/ssm_output.nc',\n",
       " '/mmfs1/gscratch/ssmc/USRS/PSI/Sukyong/kingcounty/2a_sog_river_0.5times/ssm_output.nc',\n",
       " '/mmfs1/gscratch/ssmc/USRS/PSI/Sukyong/kingcounty/2b_sog_river_2times/ssm_output.nc']"
      ]
     },
     "execution_count": 8,
     "metadata": {},
     "output_type": "execute_result"
    }
   ],
   "source": [
    "ssm['output_paths']"
   ]
  },
  {
   "cell_type": "code",
   "execution_count": 6,
   "id": "93a30044-0ddd-4623-9f68-01269a68cbf3",
   "metadata": {},
   "outputs": [
    {
     "data": {
      "text/plain": [
       "['0p5x_SOGNB_RiverLoading',\n",
       " '2p0x_SOGNB_RiverLoading',\n",
       " 'Baseline',\n",
       " 'No_SOGNB_RiverLoading',\n",
       " 'No_SOGNB_WWTP',\n",
       " 'No_gt100_WWTP',\n",
       " 'No_lt100_WWTP']"
      ]
     },
     "execution_count": 6,
     "metadata": {},
     "output_type": "execute_result"
    }
   ],
   "source": [
    "[*ssm['run_tag']]"
   ]
  },
  {
   "cell_type": "code",
   "execution_count": null,
   "id": "b3521307-5b18-4e13-a5e7-ea0c41b878e9",
   "metadata": {},
   "outputs": [
    {
     "name": "stdout",
     "output_type": "stream",
     "text": [
      "/mmfs1/gscratch/ssmc/USRS/PSI/Sukyong/kingcounty/wqm_baseline/ssm_output.nc\n"
     ]
    }
   ],
   "source": [
    "%%time\n",
    "# loop through comparison cases and get timeseries from model output\n",
    "#for index,run_type in enumerate(ssm['run_tag']):\n",
    "for index,run_type in enumerate([*ssm['run_tag']][3]):\n",
    "    # input netcdf filename\n",
    "    path=pathlib.Path(\n",
    "        ssm['output_paths'][index]\n",
    "    )\n",
    "    print(path.as_posix())\n",
    "    # load variable into xarray and calculate daily min.\n",
    "    ds = xarray.open_dataset(path).load()\n",
    "    dailyDO = reshape_fvcom3D(\n",
    "        ds[model_var]\n",
    "    )\n",
    "    ds.close()\n",
    "    # calculate daily minimum\n",
    "    dailyDO_tmin = calc_fvcom_stat(dailyDO, 'min', axis=1)\n",
    "    # store time series of minimum across depth levels & save to file\n",
    "    xr_minDO=xarray.DataArray(dailyDO_tmin) \n",
    "    xr_minDO.to_netcdf(output_dir/f'dailyDO_24hrmin_{run_type}.nc')\n",
    "    \n",
    "    # store time series of daily min bottom DO & save to file\n",
    "    dailyDO_tmin_bottom = dailyDO_tmin[:,-1,:]\n",
    "    xr_minbotDO=xarray.DataArray(dailyDO_tmin_bottom)\n",
    "    xr_minbotDO.to_netcdf(output_dir/'bottom'/f'dailyDO_24hrmin_bottom_{run_type}.nc')"
   ]
  },
  {
   "cell_type": "code",
   "execution_count": null,
   "id": "a720f935-2007-4c7a-8151-9191c20b6e00",
   "metadata": {},
   "outputs": [],
   "source": [
    "8784/24"
   ]
  },
  {
   "cell_type": "code",
   "execution_count": null,
   "id": "654b5766-053b-45f8-a831-51531466a327",
   "metadata": {},
   "outputs": [],
   "source": []
  }
 ],
 "metadata": {
  "kernelspec": {
   "display_name": "Python 3 (ipykernel)",
   "language": "python",
   "name": "python3"
  },
  "language_info": {
   "codemirror_mode": {
    "name": "ipython",
    "version": 3
   },
   "file_extension": ".py",
   "mimetype": "text/x-python",
   "name": "python",
   "nbconvert_exporter": "python",
   "pygments_lexer": "ipython3",
   "version": "3.10.4"
  }
 },
 "nbformat": 4,
 "nbformat_minor": 5
}
