{
 "cells": [
  {
   "cell_type": "markdown",
   "id": "a8641cfa-cf23-42e7-ac53-dbcf05766e09",
   "metadata": {},
   "source": [
    "# develop graphics/movies for `SODTM1S`, `JNH4`, and `JNO3`"
   ]
  },
  {
   "cell_type": "code",
   "execution_count": 1,
   "id": "4bc51e2f-defa-462c-8381-31ba79b0b4c5",
   "metadata": {},
   "outputs": [],
   "source": [
    "from matplotlib import pyplot as plt\n",
    "import matplotlib as mpl\n",
    "from matplotlib.offsetbox import AnchoredText\n",
    "from matplotlib.ticker import MaxNLocator\n",
    "import pandas \n",
    "import numpy as np\n",
    "import pathlib\n",
    "import yaml\n",
    "import sys\n",
    "import xarray\n",
    "import numpy\n",
    "import geopandas as gpd\n",
    "import contextily as cx \n",
    "from datetime import date\n",
    "import matplotlib.pyplot as plt\n",
    "\n",
    "\n",
    "sys.path.insert(1, '../../py_scripts/')\n",
    "from ssm_utils import reshape_fvcom, calc_fvcom_stat\n",
    "\n",
    "with open('../../etc/SSM_config_whidbey.yaml', 'r') as file:\n",
    "    ssm = yaml.safe_load(file)"
   ]
  },
  {
   "cell_type": "markdown",
   "id": "41032aa0-958a-4494-abf1-40b629ef1c28",
   "metadata": {},
   "source": [
    "## Load spreadsheet with station data and SSM nodes"
   ]
  },
  {
   "cell_type": "code",
   "execution_count": 2,
   "id": "2b18406f-01cb-4854-8748-b6bf8055f394",
   "metadata": {},
   "outputs": [
    {
     "data": {
      "text/plain": [
       "['Latitude ',\n",
       " 'Longitude ',\n",
       " 'Station',\n",
       " 'Node ID',\n",
       " 'MovedOutside of Masked',\n",
       " 'PSI DatabaseLocationName',\n",
       " 'Region',\n",
       " 'DO',\n",
       " 'DO_SE',\n",
       " 'DIC',\n",
       " 'DIC_SE',\n",
       " 'NH4',\n",
       " 'NH4_SE',\n",
       " 'NO3_',\n",
       " 'NO3_SE',\n",
       " 'Si',\n",
       " 'Si_SE',\n",
       " 'PO43',\n",
       " 'PO43_SE',\n",
       " 'Denit_DIN']"
      ]
     },
     "execution_count": 2,
     "metadata": {},
     "output_type": "execute_result"
    }
   ],
   "source": [
    "sta_dir = pathlib.Path(\"/mmfs1/gscratch/ssmc/USRS/PSI/Rachael/projects/KingCounty/data/sediments\")\n",
    "sta_file = sta_dir/\"Rigby_measured_import20221016.xlsx\"\n",
    "sediment_f = pandas.read_excel(\n",
    "    sta_file,\n",
    "    skiprows=3,\n",
    "    sheet_name=\"NodeIDExport\",\n",
    ")\n",
    "[*sediment_f]"
   ]
  },
  {
   "cell_type": "code",
   "execution_count": 3,
   "id": "b7701434-ae27-4e14-9043-627270153085",
   "metadata": {},
   "outputs": [
    {
     "data": {
      "text/html": [
       "<div>\n",
       "<style scoped>\n",
       "    .dataframe tbody tr th:only-of-type {\n",
       "        vertical-align: middle;\n",
       "    }\n",
       "\n",
       "    .dataframe tbody tr th {\n",
       "        vertical-align: top;\n",
       "    }\n",
       "\n",
       "    .dataframe thead th {\n",
       "        text-align: right;\n",
       "    }\n",
       "</style>\n",
       "<table border=\"1\" class=\"dataframe\">\n",
       "  <thead>\n",
       "    <tr style=\"text-align: right;\">\n",
       "      <th></th>\n",
       "      <th>Station</th>\n",
       "    </tr>\n",
       "    <tr>\n",
       "      <th>Region</th>\n",
       "      <th></th>\n",
       "    </tr>\n",
       "  </thead>\n",
       "  <tbody>\n",
       "    <tr>\n",
       "      <th>Hood</th>\n",
       "      <td>3</td>\n",
       "    </tr>\n",
       "    <tr>\n",
       "      <th>Hood Canal</th>\n",
       "      <td>3</td>\n",
       "    </tr>\n",
       "    <tr>\n",
       "      <th>Main</th>\n",
       "      <td>11</td>\n",
       "    </tr>\n",
       "    <tr>\n",
       "      <th>Main Basin</th>\n",
       "      <td>1</td>\n",
       "    </tr>\n",
       "    <tr>\n",
       "      <th>SJFandAdmiralty</th>\n",
       "      <td>2</td>\n",
       "    </tr>\n",
       "    <tr>\n",
       "      <th>SOG_Bellinghham</th>\n",
       "      <td>5</td>\n",
       "    </tr>\n",
       "    <tr>\n",
       "      <th>South_Sound</th>\n",
       "      <td>8</td>\n",
       "    </tr>\n",
       "    <tr>\n",
       "      <th>Strait of Georgia/Northern Bay</th>\n",
       "      <td>1</td>\n",
       "    </tr>\n",
       "    <tr>\n",
       "      <th>Whidbey</th>\n",
       "      <td>8</td>\n",
       "    </tr>\n",
       "  </tbody>\n",
       "</table>\n",
       "</div>"
      ],
      "text/plain": [
       "                                Station\n",
       "Region                                 \n",
       "Hood                                  3\n",
       "Hood Canal                            3\n",
       "Main                                 11\n",
       "Main Basin                            1\n",
       "SJFandAdmiralty                       2\n",
       "SOG_Bellinghham                       5\n",
       "South_Sound                           8\n",
       "Strait of Georgia/Northern Bay        1\n",
       "Whidbey                               8"
      ]
     },
     "execution_count": 3,
     "metadata": {},
     "output_type": "execute_result"
    }
   ],
   "source": [
    "# group by \"Region\"\n",
    "sediment_f[['Station','Region']].groupby(\"Region\").count()"
   ]
  },
  {
   "cell_type": "code",
   "execution_count": 4,
   "id": "94023ad4-ccb7-4df8-8cf4-aa823788a768",
   "metadata": {},
   "outputs": [
    {
     "data": {
      "text/plain": [
       "6"
      ]
     },
     "execution_count": 4,
     "metadata": {},
     "output_type": "execute_result"
    }
   ],
   "source": [
    "sediment_f[['Station','Region']].groupby(\"Region\").count().Station[\"SOG_Bellinghham\"] + sediment_f[['Station','Region']].groupby(\"Region\").count().Station[\"Strait of Georgia/Northern Bay\"]"
   ]
  },
  {
   "cell_type": "code",
   "execution_count": 5,
   "id": "3879c557-06b7-4aa0-a9a3-70adb46d9fac",
   "metadata": {},
   "outputs": [
    {
     "name": "stdout",
     "output_type": "stream",
     "text": [
      "4 6261 0\n",
      "13 8010 1\n",
      "19 9725 0\n",
      "21 9396 0\n",
      "29 9136 0\n",
      "34 11883 0\n",
      "38 11967 0\n",
      "49 15583 0\n",
      "52 14854 0\n",
      "191 10633 0\n",
      "209 7796 0\n",
      "222 9780 0\n",
      "252 15325 0\n",
      "265 14392 0\n",
      "281 13265 0\n",
      "305R 14049 0\n",
      "40005 3225 1\n",
      "40006 9789 0\n",
      "40007 8407 0\n",
      "40008 14268 0\n",
      "40009 5846 0\n",
      "40010 11500 0\n",
      "40011 8827 0\n",
      "40013 4725 0\n",
      "40015 9836 0\n",
      "40016 15234 0\n",
      "40017 5956 0\n",
      "40018 13094 0\n",
      "40019 8394 0\n",
      "40020 9309 0\n",
      "40021 8488 0\n",
      "40022 10005 0\n",
      "40025 4496 1\n",
      "40028 15860 0\n",
      "40029 6048 0\n",
      "40030 11793 0\n",
      "40032 15687 0\n",
      "40037 8762 0\n",
      "40038 9214 0\n",
      "BLL009 6160 0\n",
      "HCB003 10633 0\n",
      "Dabob_1977_110m 10275 1\n"
     ]
    }
   ],
   "source": [
    "for idx in range(len(sediment_f['Node ID'])):\n",
    "    print(sediment_f['Station'][idx],sediment_f['Node ID'][idx], sediment_f['MovedOutside of Masked'][idx])"
   ]
  },
  {
   "cell_type": "markdown",
   "id": "16c9c727-c845-4c3e-bc91-aa3906cc1556",
   "metadata": {},
   "source": [
    "## Load processed netcdf"
   ]
  },
  {
   "cell_type": "code",
   "execution_count": 7,
   "id": "4adca8f9-001b-4d62-b9d4-5c887fd25534",
   "metadata": {},
   "outputs": [
    {
     "data": {
      "text/plain": [
       "['h',\n",
       " 'zeta',\n",
       " 'NH4',\n",
       " 'NO3',\n",
       " 'netPP',\n",
       " 'JPON1',\n",
       " 'JPON2',\n",
       " 'JPON3',\n",
       " 'SODTM1S',\n",
       " 'JNH4',\n",
       " 'JNO3',\n",
       " 'sed_NH41',\n",
       " 'sed_NH42',\n",
       " 'sed_NO31',\n",
       " 'sed_NO32',\n",
       " 'sed_CPON1',\n",
       " 'sed_CPON2',\n",
       " 'sed_CPON3']"
      ]
     },
     "execution_count": 7,
     "metadata": {},
     "output_type": "execute_result"
    }
   ],
   "source": [
    "sed_dir=pathlib.Path(\"/mmfs1/gscratch/ssmc/USRS/PSI/Rachael/projects/KingCounty/SalishSeaModel/NPP_workshop/\")\n",
    "base = \"ssm_output_sediments_WQM.nc\"\n",
    "ref = \"ssm_output_sediments_WQM_REF.nc\"\n",
    "xr_base = xarray.open_dataset(sed_dir/base, engine='netcdf4')\n",
    "[*xr_base]"
   ]
  },
  {
   "cell_type": "code",
   "execution_count": 8,
   "id": "0326d6d2-67c2-4dbb-b288-aa6d84de16a8",
   "metadata": {},
   "outputs": [
    {
     "data": {
      "text/plain": [
       "(8784, 16012)"
      ]
     },
     "execution_count": 8,
     "metadata": {},
     "output_type": "execute_result"
    }
   ],
   "source": [
    "xr_base['JNO3'][:,:].shape"
   ]
  },
  {
   "cell_type": "code",
   "execution_count": 9,
   "id": "1cee1c61-cae4-4f48-820a-64ab2ca0f761",
   "metadata": {},
   "outputs": [],
   "source": [
    "fvcom_reshaped = numpy.reshape(\n",
    "    xr_base['JNO3'][:,:].data, (366,24,16012)\n",
    ")"
   ]
  },
  {
   "cell_type": "code",
   "execution_count": 10,
   "id": "c9d6731f-ac6f-43e2-ab4c-542bd141a842",
   "metadata": {},
   "outputs": [
    {
     "name": "stdout",
     "output_type": "stream",
     "text": [
      "8784 1 16012\n",
      "8784 16012\n"
     ]
    },
    {
     "ename": "TypeError",
     "evalue": "FVCOM array must reflect a 365-day run with a time dimension of 8760",
     "output_type": "error",
     "traceback": [
      "\u001b[0;31m---------------------------------------------------------------------------\u001b[0m",
      "\u001b[0;31mTypeError\u001b[0m                                 Traceback (most recent call last)",
      "Input \u001b[0;32mIn [10]\u001b[0m, in \u001b[0;36m<cell line: 3>\u001b[0;34m()\u001b[0m\n\u001b[1;32m      2\u001b[0m daily_stat \u001b[38;5;241m=\u001b[39m {}\n\u001b[1;32m      3\u001b[0m \u001b[38;5;28;01mfor\u001b[39;00m var \u001b[38;5;129;01min\u001b[39;00m [\u001b[38;5;124m'\u001b[39m\u001b[38;5;124mSODTM1S\u001b[39m\u001b[38;5;124m'\u001b[39m, \u001b[38;5;124m'\u001b[39m\u001b[38;5;124mJNH4\u001b[39m\u001b[38;5;124m'\u001b[39m, \u001b[38;5;124m'\u001b[39m\u001b[38;5;124mJNO3\u001b[39m\u001b[38;5;124m'\u001b[39m]:\n\u001b[0;32m----> 4\u001b[0m     daily \u001b[38;5;241m=\u001b[39m \u001b[43mreshape_fvcom\u001b[49m\u001b[43m(\u001b[49m\n\u001b[1;32m      5\u001b[0m \u001b[43m        \u001b[49m\u001b[43mxr_base\u001b[49m\u001b[43m[\u001b[49m\u001b[43mvar\u001b[49m\u001b[43m]\u001b[49m\u001b[43m,\u001b[49m\u001b[38;5;124;43m'\u001b[39;49m\u001b[38;5;124;43mdays\u001b[39;49m\u001b[38;5;124;43m'\u001b[39;49m\n\u001b[1;32m      6\u001b[0m \u001b[43m    \u001b[49m\u001b[43m)\u001b[49m\n\u001b[1;32m      7\u001b[0m     \u001b[38;5;66;03m# calculate daily minimum\u001b[39;00m\n\u001b[1;32m      8\u001b[0m     daily_tmp \u001b[38;5;241m=\u001b[39m calc_fvcom_stat(daily, np_operator, axis\u001b[38;5;241m=\u001b[39m\u001b[38;5;241m1\u001b[39m)\n",
      "File \u001b[0;32m~/projects/KingCounty/SalishSeaModel-analysis/notebooks/workshops/../../py_scripts/ssm_utils.py:155\u001b[0m, in \u001b[0;36mreshape_fvcom\u001b[0;34m(fvcom_timeIJK, reshape_type)\u001b[0m\n\u001b[1;32m    153\u001b[0m \u001b[38;5;28;01mif\u001b[39;00m reshape_type \u001b[38;5;241m==\u001b[39m \u001b[38;5;124m'\u001b[39m\u001b[38;5;124mdays\u001b[39m\u001b[38;5;124m'\u001b[39m:\n\u001b[1;32m    154\u001b[0m     \u001b[38;5;28;01mif\u001b[39;00m (ti \u001b[38;5;241m!=\u001b[39m \u001b[38;5;241m8760\u001b[39m):\n\u001b[0;32m--> 155\u001b[0m         \u001b[38;5;28;01mraise\u001b[39;00m \u001b[38;5;167;01mTypeError\u001b[39;00m(\n\u001b[1;32m    156\u001b[0m             \u001b[38;5;124m\"\u001b[39m\u001b[38;5;124mFVCOM array must reflect a 365-day run with a time dimension of 8760\u001b[39m\u001b[38;5;124m\"\u001b[39m\n\u001b[1;32m    157\u001b[0m         )\n\u001b[1;32m    158\u001b[0m     fvcom_reshaped \u001b[38;5;241m=\u001b[39m numpy\u001b[38;5;241m.\u001b[39mreshape(\n\u001b[1;32m    159\u001b[0m         fvcom_timeIJK[:,:]\u001b[38;5;241m.\u001b[39mdata, (\u001b[38;5;241m365\u001b[39m,\u001b[38;5;241m24\u001b[39m,ni)\n\u001b[1;32m    160\u001b[0m     )\n\u001b[1;32m    161\u001b[0m \u001b[38;5;28;01melif\u001b[39;00m reshape_type \u001b[38;5;241m==\u001b[39m \u001b[38;5;124m'\u001b[39m\u001b[38;5;124mlevels\u001b[39m\u001b[38;5;124m'\u001b[39m:\n",
      "\u001b[0;31mTypeError\u001b[0m: FVCOM array must reflect a 365-day run with a time dimension of 8760"
     ]
    }
   ],
   "source": [
    "np_operator=\"mean\"\n",
    "daily_stat = {}\n",
    "for var in ['SODTM1S', 'JNH4', 'JNO3']:\n",
    "    daily = reshape_fvcom(\n",
    "        xr_base[var],'days'\n",
    "    )\n",
    "    # calculate daily minimum\n",
    "    daily_tmp = calc_fvcom_stat(daily, np_operator, axis=1)\n",
    "    # remove spin-up days\n",
    "    daily_stat[var] = np.delete(\n",
    "        daily_tmp,range(0,ssm['run_information']['spin_up_days']),0)\n",
    " \n",
    "# print out min, max, median for graphics\n",
    "for var in ['SODTM1S', 'JNH4', 'JNO3']:\n",
    "    print(var,\": \",daily_stat[var].min(),daily_stat[var].max(),daily_stat[var].mean())"
   ]
  },
  {
   "cell_type": "markdown",
   "id": "19d6fab9-c314-42bc-b6bf-ad4f02540f67",
   "metadata": {},
   "source": [
    "## I'm not sure what changed to make this not work now.  I would need to debug it.  "
   ]
  },
  {
   "cell_type": "markdown",
   "id": "66fba419-3b01-4462-9432-b371a2fbb725",
   "metadata": {},
   "source": [
    "# Create timeseries for Rigby stations and save to spreadsheets"
   ]
  },
  {
   "cell_type": "code",
   "execution_count": 12,
   "id": "b9d4e83f-bd87-42bd-8a96-2cfde5c3925b",
   "metadata": {},
   "outputs": [
    {
     "ename": "IndexError",
     "evalue": "index 6261 is out of bounds for axis 1 with size 1",
     "output_type": "error",
     "traceback": [
      "\u001b[0;31m---------------------------------------------------------------------------\u001b[0m",
      "\u001b[0;31mIndexError\u001b[0m                                Traceback (most recent call last)",
      "Input \u001b[0;32mIn [12]\u001b[0m, in \u001b[0;36m<cell line: 29>\u001b[0;34m()\u001b[0m\n\u001b[1;32m     31\u001b[0m ts[var][\u001b[38;5;124m'\u001b[39m\u001b[38;5;124mdate\u001b[39m\u001b[38;5;124m'\u001b[39m]\u001b[38;5;241m=\u001b[39mnp\u001b[38;5;241m.\u001b[39marange(\n\u001b[1;32m     32\u001b[0m     np\u001b[38;5;241m.\u001b[39mdatetime64(\u001b[38;5;124m'\u001b[39m\u001b[38;5;124m2014-01-05\u001b[39m\u001b[38;5;124m'\u001b[39m), np\u001b[38;5;241m.\u001b[39mdatetime64(\u001b[38;5;124m'\u001b[39m\u001b[38;5;124m2015-01-01\u001b[39m\u001b[38;5;124m'\u001b[39m)\n\u001b[1;32m     33\u001b[0m )\n\u001b[1;32m     34\u001b[0m \u001b[38;5;28;01mfor\u001b[39;00m idx_sta,node_index \u001b[38;5;129;01min\u001b[39;00m \u001b[38;5;28menumerate\u001b[39m(sediment_f[\u001b[38;5;124m'\u001b[39m\u001b[38;5;124mNode ID\u001b[39m\u001b[38;5;124m'\u001b[39m]):\n\u001b[0;32m---> 35\u001b[0m     ts[var][\u001b[38;5;124mf\u001b[39m\u001b[38;5;124m\"\u001b[39m\u001b[38;5;124mStation \u001b[39m\u001b[38;5;132;01m{\u001b[39;00msediment_f[\u001b[38;5;124m'\u001b[39m\u001b[38;5;124mStation\u001b[39m\u001b[38;5;124m'\u001b[39m][idx_sta]\u001b[38;5;132;01m}\u001b[39;00m\u001b[38;5;124m\"\u001b[39m]\u001b[38;5;241m=\u001b[39m\u001b[43mdaily_stat\u001b[49m\u001b[43m[\u001b[49m\u001b[43mvar\u001b[49m\u001b[43m]\u001b[49m\u001b[43m[\u001b[49m\u001b[43m:\u001b[49m\u001b[43m,\u001b[49m\u001b[43mnode_index\u001b[49m\u001b[43m]\u001b[49m\n\u001b[1;32m     37\u001b[0m \u001b[38;5;66;03m# Convert to dataframe and organize information\u001b[39;00m\n\u001b[1;32m     38\u001b[0m ts_df[var] \u001b[38;5;241m=\u001b[39m pandas\u001b[38;5;241m.\u001b[39mDataFrame(ts[var])\n",
      "\u001b[0;31mIndexError\u001b[0m: index 6261 is out of bounds for axis 1 with size 1"
     ]
    }
   ],
   "source": [
    "processed_netcdf_dir = pathlib.Path(ssm['paths']['processed_output'])\n",
    "output_directory = processed_netcdf_dir/'sediments'\n",
    "\n",
    "# make README \n",
    "created_by = 'Rachael D. Mueller'\n",
    "created_at = 'Puget Sound Institute'\n",
    "created_from = 'Model results produced by Su Kyong Yun at the Salish Sea Modeling Center'\n",
    "created_on = date.today().strftime(\"%B %d, %Y\")\n",
    "this_file = sys.path[0]+'dev_plot_sedimentFluxes.ipynb'\n",
    "contact = 'Rachael D Mueller (rdmseas@uw.edu)'\n",
    "header = {\n",
    "    ' ':[created_by, created_at, created_on, this_file,\n",
    "        contact, created_from]\n",
    "}\n",
    "header_df = pandas.DataFrame(header, index=[\n",
    "    'Created by',\n",
    "    'Created at',\n",
    "    'Created on',\n",
    "    'Created with',\n",
    "    'Contact',\n",
    "    'Modeling by'])\n",
    "\n",
    "\n",
    "# get time series based on geopandas dataframe index value\n",
    "run='base'\n",
    "ts={}\n",
    "ts_df={}\n",
    "monthly_mean_df={}\n",
    "for var in ['SODTM1S', 'JNH4', 'JNO3']:\n",
    "    ts[var]={}\n",
    "    ts[var]['date']=np.arange(\n",
    "        np.datetime64('2014-01-05'), np.datetime64('2015-01-01')\n",
    "    )\n",
    "    for idx_sta,node_index in enumerate(sediment_f['Node ID']):\n",
    "        ts[var][f\"Station {sediment_f['Station'][idx_sta]}\"]=daily_stat[var][:,node_index]\n",
    "    \n",
    "    # Convert to dataframe and organize information\n",
    "    ts_df[var] = pandas.DataFrame(ts[var])\n",
    "    \n",
    "    # calculate the monthly mean\n",
    "    monthly_mean_df[var] = ts_df[var].groupby(pandas.PeriodIndex(pandas.to_datetime(ts[var]['date']), freq=\"M\"))[[*ts_df[var]]].mean()\n",
    "    \n",
    "    # Save to output to \n",
    "    with pandas.ExcelWriter(\n",
    "        output_directory/f'base_{var}_Ridgby2019_locations_TS.xlsx', mode='w') as writer:  \n",
    "        ts_df[var].to_excel(writer, sheet_name='Baseline Timeseries')\n",
    "        header_df.to_excel(writer, sheet_name='README')    \n",
    "        \n",
    "    # Save to output to \n",
    "    with pandas.ExcelWriter(\n",
    "        output_directory/f'base_{var}_Ridgby2019_locations_monthlyMean.xlsx', mode='w') as writer:  \n",
    "        monthly_mean_df[var].to_excel(writer, sheet_name='Baseline Monthly Means')\n",
    "        header_df.to_excel(writer, sheet_name='README')   "
   ]
  },
  {
   "cell_type": "code",
   "execution_count": null,
   "id": "53e5f9d1-ec29-496b-87ae-f0d08fc402e1",
   "metadata": {},
   "outputs": [],
   "source": [
    "# # Convert numpy.datetime64 array to DateTime using `pandas.to_datetime` then average station data by month\n",
    "# monthly_mean = ts_df.groupby(pandas.PeriodIndex(pandas.to_datetime(ts[var]['date']), freq=\"M\"))[[*ts_df]].mean()"
   ]
  },
  {
   "cell_type": "markdown",
   "id": "bcb2551d-e9fd-4a03-abf7-ca2d4994b1f0",
   "metadata": {},
   "source": [
    "# Get stations for regions"
   ]
  },
  {
   "cell_type": "code",
   "execution_count": 13,
   "id": "fc3921b8-48e7-4ee5-9e42-6398ecc29f18",
   "metadata": {},
   "outputs": [
    {
     "data": {
      "text/plain": [
       "0       49\n",
       "1       52\n",
       "2      252\n",
       "3      265\n",
       "4    40008\n",
       "5    40016\n",
       "6    40028\n",
       "7    40032\n",
       "Name: Station, dtype: object"
      ]
     },
     "execution_count": 13,
     "metadata": {},
     "output_type": "execute_result"
    }
   ],
   "source": [
    "# create list of stations for Bellingham Bay\n",
    "Bbay_stations_f = sediment_f['Station'].loc[\n",
    "    (sediment_f['Region']==\"SOG_Bellinghham\") |\n",
    "    (sediment_f['Region']==\"Strait of Georgia/Northern Bay\")\n",
    "].reset_index()\n",
    "\n",
    "SSound_stations_f = sediment_f['Station'].loc[\n",
    "    (sediment_f['Region']==\"South_Sound\")\n",
    "].reset_index()\n",
    "SSound_stations_f['Station']"
   ]
  },
  {
   "cell_type": "markdown",
   "id": "c72ec5a8-d7f5-4758-8992-0210f34762f2",
   "metadata": {},
   "source": [
    "# Load the Rigby data"
   ]
  },
  {
   "cell_type": "code",
   "execution_count": 14,
   "id": "cb55ad7b-6d00-4bc9-b214-fc368213f6b9",
   "metadata": {},
   "outputs": [],
   "source": [
    "sta_file = sta_dir/\"Rigby_measured_import20221014.xlsx\"\n",
    "rigby = pandas.read_excel(\n",
    "    sta_file,\n",
    "    sheet_name=\"NodeIDExport\",\n",
    "    skiprows=3,\n",
    "    usecols=\"C,H,I,N,O,P,Q\",\n",
    ")"
   ]
  },
  {
   "cell_type": "code",
   "execution_count": 15,
   "id": "5d7023df-91e6-40a9-8f9f-ff4dbe30fc0e",
   "metadata": {},
   "outputs": [
    {
     "data": {
      "text/plain": [
       "0.53088"
      ]
     },
     "execution_count": 15,
     "metadata": {},
     "output_type": "execute_result"
    }
   ],
   "source": [
    "sta_num=4\n",
    "rigby.loc[rigby[\"Station\"]==sta_num][\"SOD\"][0]"
   ]
  },
  {
   "cell_type": "code",
   "execution_count": 16,
   "id": "ba522aee-2b2d-448d-9eb3-a67cbe8e6b9f",
   "metadata": {},
   "outputs": [
    {
     "name": "stdout",
     "output_type": "stream",
     "text": [
      "SODTM1S\n"
     ]
    },
    {
     "ename": "KeyError",
     "evalue": "'SODTM1S'",
     "output_type": "error",
     "traceback": [
      "\u001b[0;31m---------------------------------------------------------------------------\u001b[0m",
      "\u001b[0;31mKeyError\u001b[0m                                  Traceback (most recent call last)",
      "Input \u001b[0;32mIn [16]\u001b[0m, in \u001b[0;36m<cell line: 1>\u001b[0;34m()\u001b[0m\n\u001b[1;32m      1\u001b[0m \u001b[38;5;28;01mfor\u001b[39;00m var \u001b[38;5;129;01min\u001b[39;00m [\u001b[38;5;124m'\u001b[39m\u001b[38;5;124mSODTM1S\u001b[39m\u001b[38;5;124m'\u001b[39m, \u001b[38;5;124m'\u001b[39m\u001b[38;5;124mJNH4\u001b[39m\u001b[38;5;124m'\u001b[39m, \u001b[38;5;124m'\u001b[39m\u001b[38;5;124mJNO3\u001b[39m\u001b[38;5;124m'\u001b[39m]:\n\u001b[1;32m      2\u001b[0m     \u001b[38;5;28mprint\u001b[39m(var)\n\u001b[0;32m----> 3\u001b[0m     monthly_mean \u001b[38;5;241m=\u001b[39m \u001b[43mts_df\u001b[49m\u001b[43m[\u001b[49m\u001b[43mvar\u001b[49m\u001b[43m]\u001b[49m\u001b[38;5;241m.\u001b[39mgroupby(pandas\u001b[38;5;241m.\u001b[39mPeriodIndex(pandas\u001b[38;5;241m.\u001b[39mto_datetime(ts[var][\u001b[38;5;124m'\u001b[39m\u001b[38;5;124mdate\u001b[39m\u001b[38;5;124m'\u001b[39m]), freq\u001b[38;5;241m=\u001b[39m\u001b[38;5;124m\"\u001b[39m\u001b[38;5;124mM\u001b[39m\u001b[38;5;124m\"\u001b[39m))[[\u001b[38;5;241m*\u001b[39mts_df[var]]]\u001b[38;5;241m.\u001b[39mmean()\n\u001b[1;32m      5\u001b[0m     fig, ax \u001b[38;5;241m=\u001b[39m plt\u001b[38;5;241m.\u001b[39msubplots(nrows\u001b[38;5;241m=\u001b[39m\u001b[38;5;241m4\u001b[39m, ncols\u001b[38;5;241m=\u001b[39m\u001b[38;5;241m1\u001b[39m, figsize\u001b[38;5;241m=\u001b[39m(\u001b[38;5;241m8\u001b[39m, \u001b[38;5;241m10\u001b[39m),\n\u001b[1;32m      6\u001b[0m                        gridspec_kw\u001b[38;5;241m=\u001b[39m{\n\u001b[1;32m      7\u001b[0m                        \u001b[38;5;124m'\u001b[39m\u001b[38;5;124mwidth_ratios\u001b[39m\u001b[38;5;124m'\u001b[39m: [\u001b[38;5;241m.8\u001b[39m],\n\u001b[1;32m      8\u001b[0m                        \u001b[38;5;124m'\u001b[39m\u001b[38;5;124mheight_ratios\u001b[39m\u001b[38;5;124m'\u001b[39m: [\u001b[38;5;241m1\u001b[39m,\u001b[38;5;241m1\u001b[39m,\u001b[38;5;241m1\u001b[39m,\u001b[38;5;241m1\u001b[39m],\n\u001b[1;32m      9\u001b[0m                    \u001b[38;5;124m'\u001b[39m\u001b[38;5;124mwspace\u001b[39m\u001b[38;5;124m'\u001b[39m: \u001b[38;5;241m0.25\u001b[39m,\n\u001b[1;32m     10\u001b[0m                    \u001b[38;5;124m'\u001b[39m\u001b[38;5;124mhspace\u001b[39m\u001b[38;5;124m'\u001b[39m: \u001b[38;5;241m0.15\u001b[39m})\n\u001b[1;32m     11\u001b[0m     \u001b[38;5;28;01mfor\u001b[39;00m ya,station \u001b[38;5;129;01min\u001b[39;00m \u001b[38;5;28menumerate\u001b[39m(SSound_stations_f[\u001b[38;5;124m'\u001b[39m\u001b[38;5;124mStation\u001b[39m\u001b[38;5;124m'\u001b[39m][\u001b[38;5;241m0\u001b[39m:\u001b[38;5;241m4\u001b[39m]):\n\u001b[1;32m     12\u001b[0m         \u001b[38;5;66;03m# create a list of values\u001b[39;00m\n",
      "\u001b[0;31mKeyError\u001b[0m: 'SODTM1S'"
     ]
    }
   ],
   "source": [
    "for var in ['SODTM1S', 'JNH4', 'JNO3']:\n",
    "    print(var)\n",
    "    monthly_mean = ts_df[var].groupby(pandas.PeriodIndex(pandas.to_datetime(ts[var]['date']), freq=\"M\"))[[*ts_df[var]]].mean()\n",
    "\n",
    "    fig, ax = plt.subplots(nrows=4, ncols=1, figsize=(8, 10),\n",
    "                       gridspec_kw={\n",
    "                       'width_ratios': [.8],\n",
    "                       'height_ratios': [1,1,1,1],\n",
    "                   'wspace': 0.25,\n",
    "                   'hspace': 0.15})\n",
    "    for ya,station in enumerate(SSound_stations_f['Station'][0:4]):\n",
    "        # create a list of values\n",
    "        mean_vals = [value for value in monthly_mean[f\"Station {station}\"][:][:]]\n",
    "\n",
    "        # plot results\n",
    "        ax[ya].plot(\n",
    "            mean_vals,\n",
    "            \"s\",\n",
    "            color='black',\n",
    "            label='2014 conditions'\n",
    "        )\n",
    "        # # data only for May\n",
    "        ax[ya].plot(\n",
    "            4,\n",
    "            rigby.loc[rigby[\"Station\"]==station][rigby_dict[var]].item(),\n",
    "            color='grey',\n",
    "            marker=\"o\",\n",
    "            lw=2,\n",
    "            label=f'Rigby (2019)')\n",
    "        ax[ya].errorbar(\n",
    "            4,\n",
    "            rigby.loc[rigby[\"Station\"]==station][rigby_dict[var]].item(),\n",
    "            color='grey',\n",
    "            yerr=rigby.loc[rigby[\"Station\"]==station][f\"{rigby_dict[var]}_SE\"].item(),\n",
    "        )\n",
    "        \n",
    "        \n",
    "\n",
    "        #     use_index=True,\n",
    "        #     kind=\"line\",\n",
    "        #     color='grey',\n",
    "        #     style='--',\n",
    "        #     lw=2,\n",
    "        #     label=f'Scenario'\n",
    "        # )\n",
    "        ax[ya].grid(axis='y', color='grey',ls='dotted')\n",
    "        anchored_text = AnchoredText(\n",
    "            f'Station {station}',\n",
    "            loc='upper left',\n",
    "            frameon=True,\n",
    "            prop=dict(fontweight=\"normal\",color=\"black\")\n",
    "        )\n",
    "        ax[ya].add_artist(anchored_text)\n",
    "        # set the ylim to the maximum between scenario and baseline\n",
    "        # y_max = max(np.max(tsdf[station][region]), np.max(ts_base_df[region]))\n",
    "        # ax[ya].set_ylim(-2e-2*y_max, y_max)\n",
    "        ax[ya].set_xlim(-1, 12)\n",
    "        ax[ya].set_xticks([0,1,2,3,4,5,6,7,8,9,10,11])\n",
    "        ax[ya].set_xticklabels([1,2,3,4,5,6,7,8,9,10,11,12])\n",
    "        if (ya!=3):\n",
    "            ax[ya].set_xticklabels('')\n",
    "    fig.text(0.0, 0.5,\n",
    "             f'Monthly mean {title_dict[var]} fluxes [g/m2/day] at Rigby (2019) stations',\n",
    "             va='center', rotation='vertical'\n",
    "            )\n",
    "    fig.text(0.425, 0.9,\n",
    "             region.upper(),\n",
    "             va='center',\n",
    "             fontsize=16\n",
    "        )\n",
    "    ax[0].legend(bbox_to_anchor=(1, 1), loc='upper left')\n",
    "    ax[3].set_xlabel('Months in 2014')\n",
    "\n",
    "    output_file = output_directory/f'base_{var}_Rigby2019_SSound_A_monthlyMean.png'\n",
    "    print(f'saving {output_file}')\n",
    "    plt.savefig(output_file, bbox_inches='tight', format='png')\n",
    "    plt.show() #clear figure and memory"
   ]
  },
  {
   "cell_type": "code",
   "execution_count": 17,
   "id": "88db76ea-80ea-4cc2-a3f0-b6807223bdef",
   "metadata": {},
   "outputs": [
    {
     "name": "stdout",
     "output_type": "stream",
     "text": [
      "SODTM1S\n"
     ]
    },
    {
     "ename": "KeyError",
     "evalue": "'SODTM1S'",
     "output_type": "error",
     "traceback": [
      "\u001b[0;31m---------------------------------------------------------------------------\u001b[0m",
      "\u001b[0;31mKeyError\u001b[0m                                  Traceback (most recent call last)",
      "Input \u001b[0;32mIn [17]\u001b[0m, in \u001b[0;36m<cell line: 12>\u001b[0;34m()\u001b[0m\n\u001b[1;32m     12\u001b[0m \u001b[38;5;28;01mfor\u001b[39;00m var \u001b[38;5;129;01min\u001b[39;00m [\u001b[38;5;124m'\u001b[39m\u001b[38;5;124mSODTM1S\u001b[39m\u001b[38;5;124m'\u001b[39m, \u001b[38;5;124m'\u001b[39m\u001b[38;5;124mJNH4\u001b[39m\u001b[38;5;124m'\u001b[39m, \u001b[38;5;124m'\u001b[39m\u001b[38;5;124mJNO3\u001b[39m\u001b[38;5;124m'\u001b[39m]:\n\u001b[1;32m     13\u001b[0m     \u001b[38;5;28mprint\u001b[39m(var)\n\u001b[0;32m---> 14\u001b[0m     monthly_mean \u001b[38;5;241m=\u001b[39m \u001b[43mts_df\u001b[49m\u001b[43m[\u001b[49m\u001b[43mvar\u001b[49m\u001b[43m]\u001b[49m\u001b[38;5;241m.\u001b[39mgroupby(pandas\u001b[38;5;241m.\u001b[39mPeriodIndex(pandas\u001b[38;5;241m.\u001b[39mto_datetime(ts[var][\u001b[38;5;124m'\u001b[39m\u001b[38;5;124mdate\u001b[39m\u001b[38;5;124m'\u001b[39m]), freq\u001b[38;5;241m=\u001b[39m\u001b[38;5;124m\"\u001b[39m\u001b[38;5;124mM\u001b[39m\u001b[38;5;124m\"\u001b[39m))[[\u001b[38;5;241m*\u001b[39mts_df[var]]]\u001b[38;5;241m.\u001b[39mmean()\n\u001b[1;32m     16\u001b[0m     fig, ax \u001b[38;5;241m=\u001b[39m plt\u001b[38;5;241m.\u001b[39msubplots(nrows\u001b[38;5;241m=\u001b[39m\u001b[38;5;241m4\u001b[39m, ncols\u001b[38;5;241m=\u001b[39m\u001b[38;5;241m1\u001b[39m, figsize\u001b[38;5;241m=\u001b[39m(\u001b[38;5;241m8\u001b[39m, \u001b[38;5;241m10\u001b[39m),\n\u001b[1;32m     17\u001b[0m                        gridspec_kw\u001b[38;5;241m=\u001b[39m{\n\u001b[1;32m     18\u001b[0m                        \u001b[38;5;124m'\u001b[39m\u001b[38;5;124mwidth_ratios\u001b[39m\u001b[38;5;124m'\u001b[39m: [\u001b[38;5;241m.8\u001b[39m],\n\u001b[1;32m     19\u001b[0m                        \u001b[38;5;124m'\u001b[39m\u001b[38;5;124mheight_ratios\u001b[39m\u001b[38;5;124m'\u001b[39m: [\u001b[38;5;241m1\u001b[39m,\u001b[38;5;241m1\u001b[39m,\u001b[38;5;241m1\u001b[39m,\u001b[38;5;241m1\u001b[39m],\n\u001b[1;32m     20\u001b[0m                    \u001b[38;5;124m'\u001b[39m\u001b[38;5;124mwspace\u001b[39m\u001b[38;5;124m'\u001b[39m: \u001b[38;5;241m0.25\u001b[39m,\n\u001b[1;32m     21\u001b[0m                    \u001b[38;5;124m'\u001b[39m\u001b[38;5;124mhspace\u001b[39m\u001b[38;5;124m'\u001b[39m: \u001b[38;5;241m0.15\u001b[39m})\n\u001b[1;32m     22\u001b[0m     \u001b[38;5;28;01mfor\u001b[39;00m ya,station \u001b[38;5;129;01min\u001b[39;00m \u001b[38;5;28menumerate\u001b[39m(SSound_stations_f[\u001b[38;5;124m'\u001b[39m\u001b[38;5;124mStation\u001b[39m\u001b[38;5;124m'\u001b[39m][\u001b[38;5;241m0\u001b[39m:\u001b[38;5;241m4\u001b[39m]):\n\u001b[1;32m     23\u001b[0m         \u001b[38;5;66;03m# create a list of values\u001b[39;00m\n",
      "\u001b[0;31mKeyError\u001b[0m: 'SODTM1S'"
     ]
    }
   ],
   "source": [
    "region=\"South Sound\"\n",
    "title_dict={\n",
    "    \"JNO3\": \"NO$_3$\",\n",
    "    \"JNH4\": \"NH$_4$\",\n",
    "    \"SODTM1S\": \"O$_2$\"\n",
    "}\n",
    "rigby_dict={\n",
    "    \"JNO3\": \"NO3\",\n",
    "    \"JNH4\": \"NH4\",\n",
    "    \"SODTM1S\": \"SOD\"\n",
    "}\n",
    "for var in ['SODTM1S', 'JNH4', 'JNO3']:\n",
    "    print(var)\n",
    "    monthly_mean = ts_df[var].groupby(pandas.PeriodIndex(pandas.to_datetime(ts[var]['date']), freq=\"M\"))[[*ts_df[var]]].mean()\n",
    "\n",
    "    fig, ax = plt.subplots(nrows=4, ncols=1, figsize=(8, 10),\n",
    "                       gridspec_kw={\n",
    "                       'width_ratios': [.8],\n",
    "                       'height_ratios': [1,1,1,1],\n",
    "                   'wspace': 0.25,\n",
    "                   'hspace': 0.15})\n",
    "    for ya,station in enumerate(SSound_stations_f['Station'][0:4]):\n",
    "        # create a list of values\n",
    "        mean_vals = [value for value in monthly_mean[f\"Station {station}\"][:][:]]\n",
    "\n",
    "        # plot results\n",
    "        ax[ya].plot(\n",
    "            mean_vals,\n",
    "            \"s\",\n",
    "            color='black',\n",
    "            label='2014 conditions'\n",
    "        )\n",
    "        \n",
    "        ax[ya].grid(axis='y', color='grey',ls='dotted')\n",
    "        anchored_text = AnchoredText(\n",
    "            f'Station {station}',\n",
    "            loc='upper left',\n",
    "            frameon=True,\n",
    "            prop=dict(fontweight=\"normal\",color=\"black\")\n",
    "        )\n",
    "        ax[ya].add_artist(anchored_text)\n",
    "        # set the ylim to the maximum between scenario and baseline\n",
    "        # y_max = max(np.max(tsdf[station][region]), np.max(ts_base_df[region]))\n",
    "        # ax[ya].set_ylim(-2e-2*y_max, y_max)\n",
    "        ax[ya].set_xlim(-1, 12)\n",
    "        ax[ya].set_xticks([0,1,2,3,4,5,6,7,8,9,10,11])\n",
    "        ax[ya].set_xticklabels([1,2,3,4,5,6,7,8,9,10,11,12])\n",
    "        if (ya!=3):\n",
    "            ax[ya].set_xticklabels('')\n",
    "    fig.text(0.0, 0.5,\n",
    "             f'Monthly mean {title_dict[var]} fluxes [g/m2/day] at Rigby (2019) stations',\n",
    "             va='center', rotation='vertical'\n",
    "            )\n",
    "    fig.text(0.425, 0.9,\n",
    "             region.upper(),\n",
    "             va='center',\n",
    "             fontsize=16\n",
    "        )\n",
    "    ax[0].legend(bbox_to_anchor=(1, 1), loc='upper left')\n",
    "    ax[3].set_xlabel('Months in 2014')\n",
    "\n",
    "    output_file = output_directory/f'base_{var}_Ridgby2019_SSound_A_monthlyMean_nodata.png'\n",
    "    print(f'saving {output_file}')\n",
    "    plt.savefig(output_file, bbox_inches='tight', format='png')\n",
    "    plt.show() #clear figure and memory"
   ]
  },
  {
   "cell_type": "code",
   "execution_count": null,
   "id": "0978b392-b448-4cbc-bacf-02eb61c94df8",
   "metadata": {},
   "outputs": [],
   "source": [
    "region=\"South Sound\"\n",
    "for var in ['SODTM1S', 'JNH4', 'JNO3']:\n",
    "\n",
    "    fig, ax = plt.subplots(nrows=4, ncols=1, figsize=(8, 10),\n",
    "                       gridspec_kw={\n",
    "                       'width_ratios': [.8],\n",
    "                       'height_ratios': [1,1,1,1],\n",
    "                   'wspace': 0.25,\n",
    "                   'hspace': 0.15})\n",
    "    for ya,station in enumerate(SSound_stations_f['Station'][4:9]):\n",
    "        # create a list of values\n",
    "        mean_vals = [value for value in monthly_mean[f\"Station {station}\"][:][:]]\n",
    "\n",
    "        # plot results\n",
    "        ax[ya].plot(\n",
    "            mean_vals,\n",
    "            \"s\",\n",
    "            color='black',\n",
    "            label='2014 conditions'\n",
    "        )\n",
    "        # data only for May\n",
    "        ax[ya].plot(\n",
    "            4,\n",
    "            rigby.loc[rigby[\"Station\"]==station][rigby_dict[var]].item(),\n",
    "            color='grey',\n",
    "            marker=\"o\",\n",
    "            lw=2,\n",
    "            label=f'Rigby (2019)')\n",
    "        ax[ya].errorbar(\n",
    "            4,\n",
    "            rigby.loc[rigby[\"Station\"]==station][rigby_dict[var]].item(),\n",
    "            color='grey',\n",
    "            yerr=rigby.loc[rigby[\"Station\"]==station][f\"{rigby_dict[var]}_SE\"].item(),\n",
    "        )\n",
    "        \n",
    "        ax[ya].grid(axis='y', color='grey',ls='dotted')\n",
    "        anchored_text = AnchoredText(\n",
    "            f'Station {station}',\n",
    "            loc='upper left',\n",
    "            frameon=True,\n",
    "            prop=dict(fontweight=\"normal\",color=\"black\")\n",
    "        )\n",
    "        ax[ya].add_artist(anchored_text)\n",
    "        # set the ylim to the maximum between scenario and baseline\n",
    "        # y_max = max(np.max(tsdf[station][region]), np.max(ts_base_df[region]))\n",
    "        # ax[ya].set_ylim(-2e-2*y_max, y_max)\n",
    "        ax[ya].set_xlim(-1, 12)\n",
    "        ax[ya].set_xticks([0,1,2,3,4,5,6,7,8,9,10,11])\n",
    "        ax[ya].set_xticklabels([1,2,3,4,5,6,7,8,9,10,11,12])\n",
    "        if (ya!=3):\n",
    "            ax[ya].set_xticklabels('')\n",
    "    fig.text(0.0, 0.5,\n",
    "             f'Monthly mean {title_dict[var]} fluxes [g/m2/day] at Rigby (2019) stations',\n",
    "             va='center', rotation='vertical'\n",
    "            )\n",
    "    fig.text(0.425, 0.9,\n",
    "             region.upper(),\n",
    "             va='center',\n",
    "             fontsize=16\n",
    "        )\n",
    "    ax[0].legend(bbox_to_anchor=(1, 1), loc='upper left')\n",
    "    ax[3].set_xlabel('Months in 2014')\n",
    "\n",
    "    output_file = output_directory/f'base_{var}_Rigby2019_SSound_B_monthlyMean.png'\n",
    "    print(f'saving {output_file}')\n",
    "    plt.savefig(output_file, bbox_inches='tight', format='png')\n",
    "    plt.show() #clear figure and memory"
   ]
  },
  {
   "cell_type": "code",
   "execution_count": null,
   "id": "25545c24-9951-44ca-adf2-411f9f71f7d9",
   "metadata": {},
   "outputs": [],
   "source": [
    "region=\"South Sound\"\n",
    "for var in ['SODTM1S', 'JNH4', 'JNO3']:\n",
    "\n",
    "    fig, ax = plt.subplots(nrows=4, ncols=1, figsize=(8, 10),\n",
    "                       gridspec_kw={\n",
    "                       'width_ratios': [.8],\n",
    "                       'height_ratios': [1,1,1,1],\n",
    "                   'wspace': 0.25,\n",
    "                   'hspace': 0.15})\n",
    "    for ya,station in enumerate(SSound_stations_f['Station'][4:9]):\n",
    "        # create a list of values\n",
    "        mean_vals = [value for value in monthly_mean[f\"Station {station}\"][:][:]]\n",
    "\n",
    "        # plot results\n",
    "        ax[ya].plot(\n",
    "            mean_vals,\n",
    "            \"s\",\n",
    "            color='black',\n",
    "            label='2014 conditions'\n",
    "        )\n",
    "        # data only for May\n",
    "#         ax[ya].plot(\n",
    "#             4,\n",
    "#             rigby.loc[rigby[\"Station\"]==station][rigby_dict[var]].item(),\n",
    "#             color='grey',\n",
    "#             marker=\"o\",\n",
    "#             lw=2,\n",
    "#             label=f'Rigby (2019)')\n",
    "#         ax[ya].errorbar(\n",
    "#             4,\n",
    "#             rigby.loc[rigby[\"Station\"]==station][rigby_dict[var]].item(),\n",
    "#             color='grey',\n",
    "#             yerr=rigby.loc[rigby[\"Station\"]==station][f\"{rigby_dict[var]}_SE\"].item(),\n",
    "#         )\n",
    "        \n",
    "        ax[ya].grid(axis='y', color='grey',ls='dotted')\n",
    "        anchored_text = AnchoredText(\n",
    "            f'Station {station}',\n",
    "            loc='upper left',\n",
    "            frameon=True,\n",
    "            prop=dict(fontweight=\"normal\",color=\"black\")\n",
    "        )\n",
    "        ax[ya].add_artist(anchored_text)\n",
    "        # set the ylim to the maximum between scenario and baseline\n",
    "        # y_max = max(np.max(tsdf[station][region]), np.max(ts_base_df[region]))\n",
    "        # ax[ya].set_ylim(-2e-2*y_max, y_max)\n",
    "        ax[ya].set_xlim(-1, 12)\n",
    "        ax[ya].set_xticks([0,1,2,3,4,5,6,7,8,9,10,11])\n",
    "        ax[ya].set_xticklabels([1,2,3,4,5,6,7,8,9,10,11,12])\n",
    "        if (ya!=3):\n",
    "            ax[ya].set_xticklabels('')\n",
    "    fig.text(0.0, 0.5,\n",
    "             f'Monthly mean {title_dict[var]} fluxes [g/m2/day] at Rigby (2019) stations',\n",
    "             va='center', rotation='vertical'\n",
    "            )\n",
    "    fig.text(0.425, 0.9,\n",
    "             region.upper(),\n",
    "             va='center',\n",
    "             fontsize=16\n",
    "        )\n",
    "    ax[0].legend(bbox_to_anchor=(1, 1), loc='upper left')\n",
    "    ax[3].set_xlabel('Months in 2014')\n",
    "\n",
    "    output_file = output_directory/f'base_{var}_Rigby2019_SSound_B_monthlyMean_nodata.png'\n",
    "    print(f'saving {output_file}')\n",
    "    plt.savefig(output_file, bbox_inches='tight', format='png')\n",
    "    plt.show() #clear figure and memory"
   ]
  },
  {
   "cell_type": "markdown",
   "id": "6c745b71-5be8-4f20-9780-b4843fb38578",
   "metadata": {},
   "source": [
    "# Load full-domain shapefile"
   ]
  },
  {
   "cell_type": "code",
   "execution_count": null,
   "id": "730ea132-29b8-4dd8-b700-540a41592993",
   "metadata": {},
   "outputs": [],
   "source": [
    "# get shapefile path    \n",
    "shp_dir = pathlib.Path(\n",
    "    \"/mmfs1/gscratch/ssmc/USRS/PSI/Rachael/projects/KingCounty/SalishSeaModel-grid/shapefiles/SSMGrid2_tce_ecy_node_info_v2_10102022\"\n",
    ")\n",
    "# load shapefile into geopandas dataframe\n",
    "gdf = gpd.read_file(\n",
    "    shp_dir/\"SSMGrid2_tce_ecy_node_info_v2_10102022.shp\"\n",
    ")\n",
    "gdf=gdf.rename(columns={'region_inf':'Regions'})\n",
    "[*gdf]"
   ]
  },
  {
   "cell_type": "code",
   "execution_count": null,
   "id": "8084e28d-cd77-4f5f-b875-30cf4ea87e46",
   "metadata": {},
   "outputs": [],
   "source": [
    "gdf.shape"
   ]
  },
  {
   "cell_type": "markdown",
   "id": "4c5e1477-0c88-4dc5-aae4-213bc612f8be",
   "metadata": {},
   "source": [
    "# Add sediment fluxes to geodataframe"
   ]
  },
  {
   "cell_type": "code",
   "execution_count": null,
   "id": "000e1c5a-85da-4f60-9c3a-f39977d45e2b",
   "metadata": {},
   "outputs": [],
   "source": [
    "day=0\n",
    "for var in ['SODTM1S', 'JNH4', 'JNO3']:\n",
    "    gdf[var]=daily_stat[var][day,:]"
   ]
  },
  {
   "cell_type": "markdown",
   "id": "5742a8e9-a36b-4bc2-b193-ded7fe68a69c",
   "metadata": {},
   "source": [
    "# Plot sediment fluxes"
   ]
  },
  {
   "cell_type": "code",
   "execution_count": null,
   "id": "b0f1c416-2578-415d-ba37-b143d0708bf2",
   "metadata": {},
   "outputs": [],
   "source": [
    "mpl.rc('font', size=10)\n",
    "# some of the following may be repetetive but can also be set relative to the font value above \n",
    "#    (eg \"xx-small, x-small,small, medium, large, x-large, xx-large, larger, or smaller\"; see link above for details)\n",
    "mpl.rc('legend', fontsize=10)\n",
    "mpl.rc('axes', titlesize=14)\n",
    "mpl.rc('axes', labelsize=10)\n",
    "mpl.rc('figure', titlesize=10)\n",
    "mpl.rc('font', family='sans-serif', weight='normal', style='normal')\n",
    "\n",
    "fig, axs = plt.subplots(1, figsize = (8,8))\n",
    "gdf.plot('SODTM1S',\n",
    "        ax=axs,\n",
    "        legend=True,\n",
    "        cmap='OrRd',\n",
    "        label='Sediment Oxygen Demand [g/m2/day]', alpha = 0.8)\n",
    "\n",
    "# remove x-, y-labels\n",
    "#axs.set_xticklabels('')\n",
    "#axs.set_yticklabels('')\n",
    "# set legend to lower left corner (instead of default upper-right, which overlaps SOGNB)\n",
    "legend = axs.get_legend()\n",
    "# legend._loc = 3 # lower-left\n",
    "# legend.set_title('Sediment Oxygen Demand [g/m2/day]')\n",
    "# # get all the legend labels\n",
    "# legend_labels = axs.get_legend().get_texts()\n",
    "# Change legend label format from 0.00, 2.00 to 0-2\n",
    "# get and format all bounds\n",
    "    \n",
    "\n",
    "# Add land topography\n",
    "cx.add_basemap(axs, \n",
    "    crs=gdf.crs,\n",
    "    source=cx.providers.Stamen.TerrainBackground, \n",
    "    alpha=1\n",
    ")\n",
    "\n",
    "# cx.add_basemap(\n",
    "#     axs,\n",
    "#     crs=gdf.crs,\n",
    "#     source=cx.providers.Stamen.TerrainLabels, \n",
    "#     zoom=10)\n",
    "axs.set_title(f'Mean Daily Sediment Oxygen Demand\\nDay {day} of 2014')"
   ]
  },
  {
   "cell_type": "markdown",
   "id": "fe13e3cf-2c70-4f1e-99a1-677983ceac67",
   "metadata": {},
   "source": [
    "# Make time series"
   ]
  },
  {
   "cell_type": "code",
   "execution_count": null,
   "id": "f48c7a4c-8628-495f-bbc0-0e2a27219472",
   "metadata": {},
   "outputs": [],
   "source": [
    "sta_name=[\"Carr inlet\"]\n",
    "sta_node = [14392]\n",
    "df_index=[]\n",
    "idx = 0\n",
    "df_index.append(gdf.loc[gdf.node_id==sta_node[idx]].index.values.item())"
   ]
  },
  {
   "cell_type": "code",
   "execution_count": null,
   "id": "d27897a1-ccd8-488b-8140-390b990babaa",
   "metadata": {},
   "outputs": [],
   "source": [
    "var='SODTM1S'\n",
    "daily_stat[var].shape"
   ]
  },
  {
   "cell_type": "code",
   "execution_count": null,
   "id": "f7a26774-e615-4ca9-9108-676822acf56f",
   "metadata": {},
   "outputs": [],
   "source": [
    "plt.plot(ts[var][sta_name[idx_sta]])\n",
    "plt.xlabel('days in 2014')\n",
    "plt.ylabel('Sediment Oxygen Demand [g/m2/day]')\n",
    "plt.title(sta_name[idx_sta])"
   ]
  },
  {
   "cell_type": "code",
   "execution_count": null,
   "id": "87475b40-0596-419d-91f7-26adbe90d84d",
   "metadata": {},
   "outputs": [],
   "source": [
    "idx=0\n",
    "fig, axs = plt.subplots(1,1, figsize = (32,8),\n",
    "      gridspec_kw={\n",
    "          'width_ratios': [1],\n",
    "          'wspace':0.09\n",
    "      })\n",
    "#~~~ Location map ~~~\n",
    "gdf.plot('depth', ax=axs, legend=True)\n",
    "# Plot polygon of resulting location\n",
    "# sub-sample geodataframe with just the selected nodes\n",
    "gdf_nearest=gdf.loc[gdf.node_id==sta_node[idx]]\n",
    "gdf_nearest.plot(ax=axs,color='red',legend=True,\n",
    "                 label='Time series location')\n",
    "axs.set_ylim(5.9e6,6.1e6)\n",
    "axs.set_xlim(-1.375e7,-1.355e7)"
   ]
  },
  {
   "cell_type": "code",
   "execution_count": null,
   "id": "1aceb3a5-820f-4fb3-97c3-5801f6afab93",
   "metadata": {},
   "outputs": [],
   "source": []
  }
 ],
 "metadata": {
  "kernelspec": {
   "display_name": "Python 3 (ipykernel)",
   "language": "python",
   "name": "python3"
  },
  "language_info": {
   "codemirror_mode": {
    "name": "ipython",
    "version": 3
   },
   "file_extension": ".py",
   "mimetype": "text/x-python",
   "name": "python",
   "nbconvert_exporter": "python",
   "pygments_lexer": "ipython3",
   "version": "3.10.4"
  }
 },
 "nbformat": 4,
 "nbformat_minor": 5
}
