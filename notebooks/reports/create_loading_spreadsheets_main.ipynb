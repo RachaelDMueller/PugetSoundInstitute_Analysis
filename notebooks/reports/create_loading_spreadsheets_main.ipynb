{
 "cells": [
  {
   "cell_type": "markdown",
   "id": "f06d7d06-e7f6-448b-a8c0-4ce9497ab647",
   "metadata": {},
   "source": [
    "# Quantify nutrient loading inputs\n",
    "`create_scenario_pnt_wq_v3_090622.py` is \"Python script for creating the river and point source scenario loading `ssm_pnt_wq.dat` input files\""
   ]
  },
  {
   "cell_type": "code",
   "execution_count": 1,
   "id": "3d33e826-67ef-420a-bc2b-913abdc3dfd4",
   "metadata": {},
   "outputs": [],
   "source": [
    "import sys\n",
    "import os\n",
    "import yaml\n",
    "import numpy as np\n",
    "#import pandas\n",
    "from io import StringIO\n",
    "import pandas as pd\n",
    "import pathlib\n",
    "import time\n",
    "from datetime import date\n",
    "import geopandas as gpd\n",
    "import matplotlib.pyplot as plt\n",
    "from matplotlib.offsetbox import AnchoredText\n",
    "from matplotlib.ticker import MaxNLocator\n",
    "import matplotlib as mpl"
   ]
  },
  {
   "cell_type": "markdown",
   "id": "560ca9b5-74c2-47b1-9585-8f4782f45193",
   "metadata": {},
   "source": [
    "### Define file paths"
   ]
  },
  {
   "cell_type": "code",
   "execution_count": 2,
   "id": "d554df3e-10a7-4ec3-b60c-d4aef22f8aa3",
   "metadata": {},
   "outputs": [
    {
     "name": "stdout",
     "output_type": "stream",
     "text": [
      "/mmfs1/gscratch/ssmc/USRS/PSI/Rachael/projects/KingCounty/SalishSeaModel/4b/hotstart/inputs/ssm_pnt_wq.dat\n",
      "/mmfs1/gscratch/ssmc/USRS/PSI/Rachael/projects/KingCounty/SalishSeaModel/4c/hotstart/inputs/ssm_pnt_wq.dat\n",
      "/mmfs1/gscratch/ssmc/USRS/PSI/Sukyong/kingcounty/4x_inputs/ssm_pnt_wq_4c.dat\n",
      "/mmfs1/gscratch/ssmc/USRS/PSI/Sukyong/kingcounty/4x_inputs/ssm_pnt_wq_4d.dat\n",
      "/mmfs1/gscratch/ssmc/USRS/PSI/Sukyong/kingcounty/4x_inputs/ssm_pnt_wq_4e.dat\n",
      "/mmfs1/gscratch/ssmc/USRS/PSI/Sukyong/kingcounty/4x_inputs/ssm_pnt_wq_4f.dat\n",
      "/mmfs1/gscratch/ssmc/USRS/PSI/Sukyong/kingcounty/4x_inputs/ssm_pnt_wq_4g.dat\n",
      "/mmfs1/gscratch/ssmc/USRS/PSI/Sukyong/kingcounty/4x_inputs/ssm_pnt_wq_4h.dat\n",
      "/mmfs1/gscratch/ssmc/USRS/PSI/Sukyong/kingcounty/4x_inputs/ssm_pnt_wq_4i.dat\n",
      "/mmfs1/gscratch/ssmc/USRS/PSI/Sukyong/kingcounty/4x_inputs/ssm_pnt_wq_4j.dat\n",
      "/mmfs1/gscratch/ssmc/USRS/PSI/Rachael/projects/KingCounty/SalishSeaModel/4k/hotstart/inputs/ssm_pnt_wq.dat\n",
      "/mmfs1/gscratch/ssmc/USRS/PSI/Sukyong/kingcounty/4x_inputs/ssm_pnt_wq_4l.dat\n",
      "/mmfs1/gscratch/ssmc/USRS/PSI/Sukyong/kingcounty/WQM/WQM/hotstart/inputs/ssm_pnt_wq.dat\n",
      "/mmfs1/gscratch/ssmc/USRS/PSI/Sukyong/kingcounty/WQM_REF/WQM_REF/hotstart/inputs/ssm_pnt_wq.dat\n"
     ]
    }
   ],
   "source": [
    "# Get paths from configuration file\n",
    "case = 'main'\n",
    "with open(f'../../etc/SSM_config_{case}.yaml', 'r') as file:\n",
    "    ssm = yaml.safe_load(file)\n",
    "# loading_dir = pathlib.Path(\"/mmfs1/gscratch/ssmc/USRS/PSI/Rachael/projects/KingCounty/SalishSeaModel/run_scenarios/input_setting\")\n",
    "runs = [*ssm['paths']['nutrient_loading_inputs']]\n",
    "loading_files = {}\n",
    "for run in runs:\n",
    "    print(ssm['paths']['nutrient_loading_inputs'][run])"
   ]
  },
  {
   "cell_type": "markdown",
   "id": "805c745a-4cad-4c84-bd8d-dbf8ca0e8142",
   "metadata": {},
   "source": [
    "### Create list of source names"
   ]
  },
  {
   "cell_type": "code",
   "execution_count": 3,
   "id": "5edf920e-adad-4ab9-8c21-d40c8be45549",
   "metadata": {},
   "outputs": [],
   "source": [
    "in_dir = pathlib.Path('/mmfs1/gscratch/ssmc/USRS/PSI/Rachael/projects/KingCounty/SalishSeaModel-spreadsheets')\n",
    "source_locations = pd.read_excel(in_dir/'ssm_pnt_wq_station_info.xlsx',index_col='Unnamed: 0')\n",
    "source_names=source_locations.index.tolist()"
   ]
  },
  {
   "cell_type": "markdown",
   "id": "a6680ff4-840c-420e-bd8c-45474a6a3855",
   "metadata": {
    "tags": []
   },
   "source": [
    "### Load loading inputs\n",
    "This code comes from Ben Roberts.  I got the same results with my method but like Ben's better because it covers all variables. See [ssm_read_pnt_wq.ipynb](https://github.com/bedaro/ssm-analysis/blob/main/input_files/ssm_read_pnt_wq.ipynb)\n",
    "\n",
    "From Ben Roberts:\n",
    "```\n",
    "The discharges are in m3/s, and cover a 24-hour period (technically the model linearly interpolates between them but that doesn't change the final result). The units for most constituents are mg/l and for the nitrogen constituents it's mg-N/l == g-N/m^3.\n",
    "\n",
    "So when I load the NetCDF into a dataset named 'ds' and do this:\n",
    "(ds['discharge'][:,0] * (ds['nh4'][:,0] + ds['no32'][:,0]) * 24 * 3600).sum()\n",
    "```"
   ]
  },
  {
   "cell_type": "code",
   "execution_count": 4,
   "id": "1a4d820b-6b41-49b6-9c72-830c76352014",
   "metadata": {},
   "outputs": [
    {
     "name": "stdout",
     "output_type": "stream",
     "text": [
      "/mmfs1/gscratch/ssmc/USRS/PSI/Rachael/projects/KingCounty/SalishSeaModel/4b/hotstart/inputs/ssm_pnt_wq.dat\n",
      "/mmfs1/gscratch/ssmc/USRS/PSI/Rachael/projects/KingCounty/SalishSeaModel/4c/hotstart/inputs/ssm_pnt_wq.dat\n",
      "/mmfs1/gscratch/ssmc/USRS/PSI/Sukyong/kingcounty/4x_inputs/ssm_pnt_wq_4c.dat\n",
      "/mmfs1/gscratch/ssmc/USRS/PSI/Sukyong/kingcounty/4x_inputs/ssm_pnt_wq_4d.dat\n",
      "/mmfs1/gscratch/ssmc/USRS/PSI/Sukyong/kingcounty/4x_inputs/ssm_pnt_wq_4e.dat\n",
      "/mmfs1/gscratch/ssmc/USRS/PSI/Sukyong/kingcounty/4x_inputs/ssm_pnt_wq_4f.dat\n",
      "/mmfs1/gscratch/ssmc/USRS/PSI/Sukyong/kingcounty/4x_inputs/ssm_pnt_wq_4g.dat\n",
      "/mmfs1/gscratch/ssmc/USRS/PSI/Sukyong/kingcounty/4x_inputs/ssm_pnt_wq_4h.dat\n",
      "/mmfs1/gscratch/ssmc/USRS/PSI/Sukyong/kingcounty/4x_inputs/ssm_pnt_wq_4i.dat\n",
      "/mmfs1/gscratch/ssmc/USRS/PSI/Sukyong/kingcounty/4x_inputs/ssm_pnt_wq_4j.dat\n",
      "/mmfs1/gscratch/ssmc/USRS/PSI/Rachael/projects/KingCounty/SalishSeaModel/4k/hotstart/inputs/ssm_pnt_wq.dat\n",
      "/mmfs1/gscratch/ssmc/USRS/PSI/Sukyong/kingcounty/4x_inputs/ssm_pnt_wq_4l.dat\n",
      "/mmfs1/gscratch/ssmc/USRS/PSI/Sukyong/kingcounty/WQM/WQM/hotstart/inputs/ssm_pnt_wq.dat\n",
      "/mmfs1/gscratch/ssmc/USRS/PSI/Sukyong/kingcounty/WQM_REF/WQM_REF/hotstart/inputs/ssm_pnt_wq.dat\n"
     ]
    }
   ],
   "source": [
    "inputs = {}\n",
    "for run in runs:\n",
    "    print(ssm['paths']['nutrient_loading_inputs'][run])\n",
    "    with open(ssm['paths']['nutrient_loading_inputs'][run]) as f:\n",
    "        # The parsing logic here is is derived from the linkage instructions for the\n",
    "        # model and direct examination of the source code\n",
    "\n",
    "        # The first line does not contain important information and is treated only like\n",
    "        # a filetype magic\n",
    "        next(f)\n",
    "\n",
    "        # The total number of discharge nodes\n",
    "        num_qs = int(next(f))\n",
    "        # All the node numbers with discharges\n",
    "        #nodes = np.loadtxt([next(f) for l in range(num_qs)], comments='!', dtype=int)\n",
    "        node_raw = StringIO('\\n'.join([next(f) for l in range(num_qs)]))\n",
    "        node_df = pd.read_csv(node_raw, sep='\\s+!\\s+', names=('Node','Comment'),\n",
    "                              dtype={'Node':np.int64,'Comment':object}, engine='python')\n",
    "        node_df.set_index('Node', inplace=True)\n",
    "        nodes = node_df.index.to_numpy()\n",
    "        # Depth distribution fractions into each node. Skipping the first (node count) column\n",
    "        vqdist = np.loadtxt([next(f) for l in range(num_qs)])[:,1:]\n",
    "\n",
    "        num_times = int(next(f))\n",
    "\n",
    "        # Initialize storage arrays\n",
    "        times = np.zeros(num_times)\n",
    "        qs = np.zeros((num_times, num_qs))\n",
    "        # State variables in the order they are present in the file. These are also going\n",
    "        # to be the NetCDF variable names\n",
    "        statevars = ('discharge', 'temp', 'salt', 'tss',  'alg1', 'alg2', 'alg3', 'zoo1',\n",
    "                                  'zoo2', 'ldoc', 'rdoc', 'lpoc', 'rpoc', 'nh4',  'no32',\n",
    "                                  'urea', 'ldon', 'rdon', 'lpon', 'rpon', 'po4',  'ldop',\n",
    "                                  'rdop', 'lpop', 'rpop', 'pip',  'cod',  'doxg', 'psi',\n",
    "                                  'dsi',  'alg1p','alg2p','alg3p','dic',  'talk')\n",
    "        inputs[run] = {}\n",
    "        for v in statevars:\n",
    "            inputs[run][v] = np.zeros((num_times, num_qs))\n",
    "\n",
    "        for t in range(num_times):\n",
    "            times[t] = float(next(f))\n",
    "            for v in statevars:\n",
    "                inputs[run][v][t,:] = np.loadtxt([next(f)])"
   ]
  },
  {
   "cell_type": "markdown",
   "id": "fdb76785-bb93-4eb1-80d6-37f56918624d",
   "metadata": {},
   "source": [
    "# Sum all loading over year  \n",
    "Sum of loading over year for Agate East, node 15634, is 4926 kg/year"
   ]
  },
  {
   "cell_type": "code",
   "execution_count": 5,
   "id": "aa4ba682-3749-43cc-aeb2-15e3fda5e4f7",
   "metadata": {},
   "outputs": [],
   "source": [
    "total_nitrogen={}\n",
    "total_annual_nitrogen={}\n",
    "loading={}\n",
    "for run in runs:\n",
    "    loading[run] = (inputs[run]['discharge'] * (inputs[run]['nh4'] + inputs[run]['no32']) * 24 * 3600)/1000 #m3/s*mg/l -> kg/day\n",
    "    total_nitrogen[run]=loading[run].sum(axis=0) # annual loading over 366 days (g/year)\n",
    "    total_annual_nitrogen[run] = total_nitrogen[run].sum() # g/year -> kg/year"
   ]
  },
  {
   "cell_type": "code",
   "execution_count": 6,
   "id": "9e5cb14e-8304-4f6f-9a59-4f238b0c33c0",
   "metadata": {},
   "outputs": [
    {
     "data": {
      "text/plain": [
       "{'4b': 48670058.243652865,\n",
       " '4c': 48387094.200455144,\n",
       " '4csk': 48761554.61073668,\n",
       " '4d': 50769443.08377285,\n",
       " '4e': 50088208.59292388,\n",
       " '4f': 48426781.38713348,\n",
       " '4g': 50507064.88591747,\n",
       " '4h': 49264607.08221187,\n",
       " '4i': 51386274.38888708,\n",
       " '4j': 51023607.6689114,\n",
       " '4k': 51582397.030571625,\n",
       " '4l': 52082127.50625226,\n",
       " 'wqm_baseline': 51748970.95235588,\n",
       " 'wqm_reference': 34182950.28326734}"
      ]
     },
     "execution_count": 6,
     "metadata": {},
     "output_type": "execute_result"
    }
   ],
   "source": [
    "total_annual_nitrogen"
   ]
  },
  {
   "cell_type": "code",
   "execution_count": 7,
   "id": "5023c4fd-10be-4216-bdd9-9e0e6bea7d6b",
   "metadata": {},
   "outputs": [
    {
     "data": {
      "text/plain": [
       "{'4b': 48670058.243652865,\n",
       " '4c': 48387094.200455144,\n",
       " '4csk': 48761554.61073668,\n",
       " '4d': 50769443.08377285,\n",
       " '4e': 50088208.59292388,\n",
       " '4f': 48426781.38713348,\n",
       " '4g': 50507064.88591747,\n",
       " '4h': 49264607.08221187,\n",
       " '4i': 51386274.38888708,\n",
       " '4j': 51023607.6689114,\n",
       " '4k': 51582397.030571625,\n",
       " '4l': 52082127.50625226,\n",
       " 'wqm_baseline': 51748970.95235588,\n",
       " 'wqm_reference': 34182950.28326734}"
      ]
     },
     "execution_count": 7,
     "metadata": {},
     "output_type": "execute_result"
    }
   ],
   "source": [
    "total_annual_nitrogen"
   ]
  },
  {
   "cell_type": "markdown",
   "id": "0babd84a-a89b-417f-b4ad-c41a52d8b27e",
   "metadata": {},
   "source": [
    "## Create dataframes to write to excel"
   ]
  },
  {
   "cell_type": "code",
   "execution_count": 8,
   "id": "c1e14695-e7b1-4a3d-82ca-c129735c1ceb",
   "metadata": {},
   "outputs": [],
   "source": [
    "total_nitrogen_df = pd.DataFrame(total_nitrogen, index=source_names) # scenario total\n",
    "total_annual_nitrogen_df = pd.DataFrame(total_annual_nitrogen,index=['total loading']) # source total (by scenario)"
   ]
  },
  {
   "cell_type": "code",
   "execution_count": 9,
   "id": "c361ba4b-2e97-447c-a865-59017579641e",
   "metadata": {},
   "outputs": [
    {
     "data": {
      "text/html": [
       "<div>\n",
       "<style scoped>\n",
       "    .dataframe tbody tr th:only-of-type {\n",
       "        vertical-align: middle;\n",
       "    }\n",
       "\n",
       "    .dataframe tbody tr th {\n",
       "        vertical-align: top;\n",
       "    }\n",
       "\n",
       "    .dataframe thead th {\n",
       "        text-align: right;\n",
       "    }\n",
       "</style>\n",
       "<table border=\"1\" class=\"dataframe\">\n",
       "  <thead>\n",
       "    <tr style=\"text-align: right;\">\n",
       "      <th></th>\n",
       "      <th>4b</th>\n",
       "      <th>4c</th>\n",
       "      <th>4csk</th>\n",
       "      <th>4d</th>\n",
       "      <th>4e</th>\n",
       "      <th>4f</th>\n",
       "      <th>4g</th>\n",
       "      <th>4h</th>\n",
       "      <th>4i</th>\n",
       "      <th>4j</th>\n",
       "      <th>4k</th>\n",
       "      <th>4l</th>\n",
       "      <th>wqm_baseline</th>\n",
       "      <th>wqm_reference</th>\n",
       "    </tr>\n",
       "  </thead>\n",
       "  <tbody>\n",
       "    <tr>\n",
       "      <th>total loading</th>\n",
       "      <td>4.867006e+07</td>\n",
       "      <td>4.838709e+07</td>\n",
       "      <td>4.876155e+07</td>\n",
       "      <td>5.076944e+07</td>\n",
       "      <td>5.008821e+07</td>\n",
       "      <td>4.842678e+07</td>\n",
       "      <td>5.050706e+07</td>\n",
       "      <td>4.926461e+07</td>\n",
       "      <td>5.138627e+07</td>\n",
       "      <td>5.102361e+07</td>\n",
       "      <td>5.158240e+07</td>\n",
       "      <td>5.208213e+07</td>\n",
       "      <td>5.174897e+07</td>\n",
       "      <td>3.418295e+07</td>\n",
       "    </tr>\n",
       "  </tbody>\n",
       "</table>\n",
       "</div>"
      ],
      "text/plain": [
       "                         4b            4c          4csk            4d  \\\n",
       "total loading  4.867006e+07  4.838709e+07  4.876155e+07  5.076944e+07   \n",
       "\n",
       "                         4e            4f            4g            4h  \\\n",
       "total loading  5.008821e+07  4.842678e+07  5.050706e+07  4.926461e+07   \n",
       "\n",
       "                         4i            4j            4k            4l  \\\n",
       "total loading  5.138627e+07  5.102361e+07  5.158240e+07  5.208213e+07   \n",
       "\n",
       "               wqm_baseline  wqm_reference  \n",
       "total loading  5.174897e+07   3.418295e+07  "
      ]
     },
     "execution_count": 9,
     "metadata": {},
     "output_type": "execute_result"
    }
   ],
   "source": [
    "total_annual_nitrogen_df"
   ]
  },
  {
   "cell_type": "code",
   "execution_count": 10,
   "id": "9db00dbb-085e-4b66-96c9-af9822068a11",
   "metadata": {},
   "outputs": [
    {
     "data": {
      "text/html": [
       "<div>\n",
       "<style scoped>\n",
       "    .dataframe tbody tr th:only-of-type {\n",
       "        vertical-align: middle;\n",
       "    }\n",
       "\n",
       "    .dataframe tbody tr th {\n",
       "        vertical-align: top;\n",
       "    }\n",
       "\n",
       "    .dataframe thead th {\n",
       "        text-align: right;\n",
       "    }\n",
       "</style>\n",
       "<table border=\"1\" class=\"dataframe\">\n",
       "  <thead>\n",
       "    <tr style=\"text-align: right;\">\n",
       "      <th></th>\n",
       "      <th>4b</th>\n",
       "      <th>4c</th>\n",
       "      <th>4csk</th>\n",
       "      <th>4d</th>\n",
       "      <th>4e</th>\n",
       "      <th>4f</th>\n",
       "      <th>4g</th>\n",
       "      <th>4h</th>\n",
       "      <th>4i</th>\n",
       "      <th>4j</th>\n",
       "      <th>4k</th>\n",
       "      <th>4l</th>\n",
       "      <th>wqm_baseline</th>\n",
       "      <th>wqm_reference</th>\n",
       "    </tr>\n",
       "  </thead>\n",
       "  <tbody>\n",
       "    <tr>\n",
       "      <th>Agate East</th>\n",
       "      <td>4925.721161</td>\n",
       "      <td>4925.721161</td>\n",
       "      <td>4925.721161</td>\n",
       "      <td>4925.721161</td>\n",
       "      <td>4925.721161</td>\n",
       "      <td>4925.721161</td>\n",
       "      <td>4925.721161</td>\n",
       "      <td>4925.721161</td>\n",
       "      <td>4925.721161</td>\n",
       "      <td>4925.721161</td>\n",
       "      <td>4925.721161</td>\n",
       "      <td>4925.721161</td>\n",
       "      <td>4925.721161</td>\n",
       "      <td>2076.954837</td>\n",
       "    </tr>\n",
       "    <tr>\n",
       "      <th>Agate West</th>\n",
       "      <td>936.577889</td>\n",
       "      <td>936.577889</td>\n",
       "      <td>936.577889</td>\n",
       "      <td>936.577889</td>\n",
       "      <td>936.577889</td>\n",
       "      <td>936.577889</td>\n",
       "      <td>936.577889</td>\n",
       "      <td>936.577889</td>\n",
       "      <td>936.577889</td>\n",
       "      <td>936.577889</td>\n",
       "      <td>936.577889</td>\n",
       "      <td>936.577889</td>\n",
       "      <td>936.577889</td>\n",
       "      <td>383.285032</td>\n",
       "    </tr>\n",
       "    <tr>\n",
       "      <th>Anderson east</th>\n",
       "      <td>3446.356783</td>\n",
       "      <td>3446.356783</td>\n",
       "      <td>3446.356783</td>\n",
       "      <td>3446.356783</td>\n",
       "      <td>3446.356783</td>\n",
       "      <td>3446.356783</td>\n",
       "      <td>3446.356783</td>\n",
       "      <td>3446.356783</td>\n",
       "      <td>3446.356783</td>\n",
       "      <td>3446.356783</td>\n",
       "      <td>3446.356783</td>\n",
       "      <td>3446.356783</td>\n",
       "      <td>3446.356783</td>\n",
       "      <td>500.055386</td>\n",
       "    </tr>\n",
       "  </tbody>\n",
       "</table>\n",
       "</div>"
      ],
      "text/plain": [
       "                          4b           4c         4csk           4d  \\\n",
       "  Agate East     4925.721161  4925.721161  4925.721161  4925.721161   \n",
       "  Agate West      936.577889   936.577889   936.577889   936.577889   \n",
       "  Anderson east  3446.356783  3446.356783  3446.356783  3446.356783   \n",
       "\n",
       "                          4e           4f           4g           4h  \\\n",
       "  Agate East     4925.721161  4925.721161  4925.721161  4925.721161   \n",
       "  Agate West      936.577889   936.577889   936.577889   936.577889   \n",
       "  Anderson east  3446.356783  3446.356783  3446.356783  3446.356783   \n",
       "\n",
       "                          4i           4j           4k           4l  \\\n",
       "  Agate East     4925.721161  4925.721161  4925.721161  4925.721161   \n",
       "  Agate West      936.577889   936.577889   936.577889   936.577889   \n",
       "  Anderson east  3446.356783  3446.356783  3446.356783  3446.356783   \n",
       "\n",
       "                 wqm_baseline  wqm_reference  \n",
       "  Agate East      4925.721161    2076.954837  \n",
       "  Agate West       936.577889     383.285032  \n",
       "  Anderson east   3446.356783     500.055386  "
      ]
     },
     "execution_count": 10,
     "metadata": {},
     "output_type": "execute_result"
    }
   ],
   "source": [
    "total_nitrogen_df.head(3)"
   ]
  },
  {
   "cell_type": "markdown",
   "id": "ef50b564-2bf9-44d7-a606-efe3484adb4c",
   "metadata": {},
   "source": [
    "# Create excel spreadsheet of total nitrogen loading per run"
   ]
  },
  {
   "cell_type": "code",
   "execution_count": 11,
   "id": "63bbab46-577c-4109-b134-9d9e558d707c",
   "metadata": {},
   "outputs": [
    {
     "data": {
      "text/plain": [
       "['4b',\n",
       " '4c',\n",
       " '4d',\n",
       " '4e',\n",
       " '4f',\n",
       " '4g',\n",
       " '4h',\n",
       " '4i',\n",
       " '4j',\n",
       " '4k',\n",
       " '4l',\n",
       " 'wqm_baseline',\n",
       " 'wqm_reference']"
      ]
     },
     "execution_count": 11,
     "metadata": {},
     "output_type": "execute_result"
    }
   ],
   "source": [
    "[*ssm['run_information']['run_tag'][case]]"
   ]
  },
  {
   "cell_type": "code",
   "execution_count": 12,
   "id": "bd61c177-4867-43ee-b066-250a3c1e302e",
   "metadata": {},
   "outputs": [
    {
     "data": {
      "text/plain": [
       "([<matplotlib.axis.XTick at 0x14b7df165810>,\n",
       "  <matplotlib.axis.XTick at 0x14b7df1659f0>,\n",
       "  <matplotlib.axis.XTick at 0x14b7b1682a70>,\n",
       "  <matplotlib.axis.XTick at 0x14b7b10e0a00>,\n",
       "  <matplotlib.axis.XTick at 0x14b7b10e1150>,\n",
       "  <matplotlib.axis.XTick at 0x14b7b10e18a0>,\n",
       "  <matplotlib.axis.XTick at 0x14b7b10e1600>,\n",
       "  <matplotlib.axis.XTick at 0x14b7b10e1ed0>,\n",
       "  <matplotlib.axis.XTick at 0x14b7b10e2620>,\n",
       "  <matplotlib.axis.XTick at 0x14b7b10e2d70>,\n",
       "  <matplotlib.axis.XTick at 0x14b7b10e34c0>,\n",
       "  <matplotlib.axis.XTick at 0x14b7b10e3c10>,\n",
       "  <matplotlib.axis.XTick at 0x14b7b10e3be0>],\n",
       " [Text(0, 0, 'M.tp1'),\n",
       "  Text(1, 0, 'M.tp2'),\n",
       "  Text(2, 0, 'M.tp3'),\n",
       "  Text(3, 0, 'M.tp4'),\n",
       "  Text(4, 0, 'M.tp5'),\n",
       "  Text(5, 0, 'M.tp6'),\n",
       "  Text(6, 0, 'M.tp7'),\n",
       "  Text(7, 0, 'M.tp8'),\n",
       "  Text(8, 0, 'M.tp9'),\n",
       "  Text(9, 0, 'M.r1'),\n",
       "  Text(10, 0, 'M.r2'),\n",
       "  Text(11, 0, '2014 Conditions'),\n",
       "  Text(12, 0, 'Reference')])"
      ]
     },
     "execution_count": 12,
     "metadata": {},
     "output_type": "execute_result"
    },
    {
     "name": "stderr",
     "output_type": "stream",
     "text": [
      "findfont: Font family ['arial'] not found. Falling back to DejaVu Sans.\n",
      "findfont: Font family ['arial'] not found. Falling back to DejaVu Sans.\n"
     ]
    },
    {
     "data": {
      "image/png": "[encoded data removed]",
      "text/plain": [
       "<Figure size 432x288 with 1 Axes>"
      ]
     },
     "metadata": {
      "needs_background": "light"
     },
     "output_type": "display_data"
    }
   ],
   "source": [
    "labels = [ssm['run_information']['run_tag'][case][key] for key in [*ssm['run_information']['run_tag'][case]]]\n",
    "# labels[0]='base'\n",
    "# labels[1]='ref'\n",
    "plt.plot([total_annual_nitrogen[key]/total_annual_nitrogen['wqm_baseline'] for key in [*ssm['run_information']['run_tag'][case]]],'.')\n",
    "plt.title('Normalized total annual nitrogen loading')\n",
    "plt.ylabel('Normalized Nitrogen Loading [kg/year]')\n",
    "plt.xticks(np.arange(0,13),labels,rotation=90)"
   ]
  },
  {
   "cell_type": "markdown",
   "id": "faa945af-e78f-4c78-b30b-aa2e13c2016b",
   "metadata": {},
   "source": [
    "# Plot normalized loading values and regressions"
   ]
  },
  {
   "cell_type": "code",
   "execution_count": 13,
   "id": "766e5f35-1455-41a4-9a94-a0a74e8ac3bf",
   "metadata": {},
   "outputs": [],
   "source": [
    "river_runs = ssm['run_information'][f'{case.capitalize()}_rivers']\n",
    "wwtp_runs = ssm['run_information'][f'{case.capitalize()}_WWTPs']\n",
    "#remove reference b/c we don't calculate volume days noncompliance for reference case\n",
    "# river_runs.pop('wqm_reference')\n",
    "# wwtp_runs.pop('wqm_reference')\n",
    "# wwtp_runs.pop('Wtp7')"
   ]
  },
  {
   "cell_type": "code",
   "execution_count": 14,
   "id": "e446a657-ea06-47ad-a854-94fc87927c20",
   "metadata": {},
   "outputs": [
    {
     "data": {
      "text/plain": [
       "['4b',\n",
       " '4c',\n",
       " '4d',\n",
       " '4e',\n",
       " '4f',\n",
       " '4g',\n",
       " '4h',\n",
       " '4i',\n",
       " '4j',\n",
       " 'wqm_baseline',\n",
       " 'wqm_reference']"
      ]
     },
     "execution_count": 14,
     "metadata": {},
     "output_type": "execute_result"
    }
   ],
   "source": [
    "[*wwtp_runs]"
   ]
  },
  {
   "cell_type": "markdown",
   "id": "1a14eab1-d0f0-4d65-8d91-8b9e7aaa5bfc",
   "metadata": {},
   "source": [
    "## Create lists of runs for coloring plot markers"
   ]
  },
  {
   "cell_type": "code",
   "execution_count": 15,
   "id": "41203302-96cc-48f2-8bd4-f55c36069055",
   "metadata": {},
   "outputs": [
    {
     "data": {
      "text/plain": [
       "['M.tp1',\n",
       " 'M.tp2',\n",
       " 'M.tp3',\n",
       " 'M.tp4',\n",
       " 'M.tp5',\n",
       " 'M.tp6',\n",
       " 'M.tp7',\n",
       " 'M.tp8',\n",
       " 'M.tp9',\n",
       " '2014 Conditions']"
      ]
     },
     "execution_count": 15,
     "metadata": {},
     "output_type": "execute_result"
    }
   ],
   "source": [
    "runs_renamed={}\n",
    "runs_renamed['rivers']=[ssm['run_information']['run_tag'][case][key] for key in [*river_runs]]\n",
    "runs_renamed['wwtp']=[ssm['run_information']['run_tag'][case][key] for key in [*wwtp_runs]]\n",
    "runs_renamed['base']=['2014 Conditions']\n",
    "runs_renamed['wwtp'].remove('Reference')\n",
    "runs_renamed['rivers'].remove('Reference')\n",
    "runs_renamed['wwtp']"
   ]
  },
  {
   "cell_type": "code",
   "execution_count": 16,
   "id": "4d9b6197-dace-4ac5-8199-09b30c24aab3",
   "metadata": {},
   "outputs": [
    {
     "data": {
      "text/plain": [
       "['M.r1', 'M.r2', '2014 Conditions']"
      ]
     },
     "execution_count": 16,
     "metadata": {},
     "output_type": "execute_result"
    }
   ],
   "source": [
    "runs_renamed['rivers']"
   ]
  },
  {
   "cell_type": "markdown",
   "id": "18b515de-4e36-4dcf-b0b4-683308519ad6",
   "metadata": {},
   "source": [
    "## Create normalized volume days values"
   ]
  },
  {
   "cell_type": "code",
   "execution_count": 17,
   "id": "eaf1c773-4dde-4c49-ae4d-a2b76766d301",
   "metadata": {},
   "outputs": [
    {
     "data": {
      "text/plain": [
       "{'M.tp1': 0.6967048939388976,\n",
       " 'M.tp2': 0.6734610612588956,\n",
       " 'M.tp3': 0.8904488335584921,\n",
       " 'M.tp4': 0.8514458988123282,\n",
       " 'M.tp5': 0.7438158681847652,\n",
       " 'M.tp6': 0.8434229827766562,\n",
       " 'M.tp7': 0.7252522356356752,\n",
       " 'M.tp8': 0.9724513219723077,\n",
       " 'M.tp9': 0.9389049342990282,\n",
       " 'M.r1': 0.9595784366089076,\n",
       " 'M.r2': 1.1213025662971008,\n",
       " '2014 Conditions': 1.0}"
      ]
     },
     "execution_count": 17,
     "metadata": {},
     "output_type": "execute_result"
    }
   ],
   "source": [
    "region = 'Main' # 'ALL_REGIONS' # \n",
    "\n",
    "nc_input = pd.read_excel(f'/mmfs1/gscratch/ssmc/USRS/PSI/Rachael/projects/KingCounty/data/{case}/spreadsheets/{case}_wc_noncompliant_m0p25.xlsx',\n",
    "                           sheet_name='Volume_Days',\n",
    "                          index_col=\"Unnamed: 0\")\n",
    "\n",
    "vol_day_norm={}\n",
    "for run in [*nc_input]:\n",
    "    vol_day_norm[run] = nc_input[run][region]/nc_input['2014 Conditions'][region]\n",
    "vol_day_norm"
   ]
  },
  {
   "cell_type": "markdown",
   "id": "03bbc0ec-89ac-49e6-8f17-59630f10718e",
   "metadata": {},
   "source": [
    "## Create normalized loading values"
   ]
  },
  {
   "cell_type": "code",
   "execution_count": 18,
   "id": "3702b2a5-89c5-4820-be8d-ac67d494d45b",
   "metadata": {},
   "outputs": [
    {
     "data": {
      "text/plain": [
       "{'M.tp1': 0.9405029191491036,\n",
       " 'M.tp2': 0.9350349062014018,\n",
       " 'M.tp3': 0.9810715488529259,\n",
       " 'M.tp4': 0.9679073355688362,\n",
       " 'M.tp5': 0.9358018236095735,\n",
       " 'M.tp6': 0.9760013379284044,\n",
       " 'M.tp7': 0.9519920140550948,\n",
       " 'M.tp8': 0.992991231385012,\n",
       " 'M.tp9': 0.9859830394673489,\n",
       " 'M.r1': 0.9967811162479422,\n",
       " 'M.r2': 1.0064379358229774,\n",
       " '2014 Conditions': 1.0,\n",
       " 'Reference': 0.6605532371791281}"
      ]
     },
     "execution_count": 18,
     "metadata": {},
     "output_type": "execute_result"
    }
   ],
   "source": [
    "normalized_loading = {}\n",
    "for run in [*ssm['run_information']['run_tag'][case]]:\n",
    "    # use mapping from Hyak to report names (ssm['run_information']['run_tag']['whidbey']) \n",
    "    # to get key-values with report names\n",
    "    normalized_loading[ssm['run_information']['run_tag'][case][run]] = total_annual_nitrogen[run]/total_annual_nitrogen['wqm_baseline'] \n",
    "normalized_loading\n"
   ]
  },
  {
   "cell_type": "code",
   "execution_count": 19,
   "id": "be626d39-0e34-4526-9dbf-16e020b802dc",
   "metadata": {},
   "outputs": [],
   "source": [
    "N_plot={}\n",
    "vd_plot={}\n",
    "for group in ['rivers','wwtp','base']:\n",
    "    N_plot[group] = np.array([normalized_loading[run] for run in runs_renamed[group]])\n",
    "    vd_plot[group] = np.array([vol_day_norm[run] for run in runs_renamed[group]])"
   ]
  },
  {
   "cell_type": "code",
   "execution_count": 20,
   "id": "3fe88b1c-029f-40f5-a2d4-1f9a02ffc0b4",
   "metadata": {},
   "outputs": [
    {
     "data": {
      "text/plain": [
       "array([0.99678112, 1.00643794, 1.        ])"
      ]
     },
     "execution_count": 20,
     "metadata": {},
     "output_type": "execute_result"
    }
   ],
   "source": [
    "N_plot['rivers']"
   ]
  },
  {
   "cell_type": "code",
   "execution_count": 30,
   "id": "9f8a5210-70f7-43e0-82f0-efb207605ccc",
   "metadata": {},
   "outputs": [
    {
     "data": {
      "image/png": "[encoded data removed]",
      "text/plain": [
       "<Figure size 360x360 with 1 Axes>"
      ]
     },
     "metadata": {
      "needs_background": "light"
     },
     "output_type": "display_data"
    }
   ],
   "source": [
    "fig, ax = plt.subplots(nrows=1, ncols=1, figsize=(5, 5),\n",
    "       gridspec_kw={\n",
    "           'width_ratios': [1],\n",
    "           'height_ratios': [1],\n",
    "       'wspace': 0.25,\n",
    "       'hspace': 0.15})\n",
    "ax.scatter(N_plot['rivers'],vd_plot['rivers'],color='teal',label='River scenarios')\n",
    "ax.scatter(N_plot['wwtp'],vd_plot['wwtp'],color='purple',label='WWTP scenarios')\n",
    "ax.scatter(N_plot['base'],vd_plot['base'],color='orange',label='2014 Conditions')\n",
    "# add run labels to graphic\n",
    "#[ax.text(x=N_plot['wwtp'][idx+1], y=vd_plot['wwtp'][idx+1]-.07, s=run_name) for idx,run_name in enumerate(runs_renamed['wwtp'][1:-1])]\n",
    "[ax.text(x=N_plot['wwtp'][idx], y=vd_plot['wwtp'][idx]-.04, s=runs_renamed['wwtp'][idx]) for idx in [0,1,2,5,8]]\n",
    "#ax.text(x=N_plot['wwtp'][0]+0.002, y=vd_plot['wwtp'][0]-0.01, s=\"M_tp1\")\n",
    "ax.text(x=N_plot['wwtp'][7]-0.01, y=vd_plot['wwtp'][7]+0.02, s=\"M.tp8\")\n",
    "ax.text(x=N_plot['wwtp'][6]-0.01, y=vd_plot['wwtp'][6]+0.02, s=\"M.tp7\")\n",
    "ax.text(x=N_plot['wwtp'][4]-0.01, y=vd_plot['wwtp'][4]+0.02, s=\"M.tp5\")\n",
    "ax.text(x=N_plot['wwtp'][3]-0.01, y=vd_plot['wwtp'][3]+0.02, s=\"M.tp4\")\n",
    "[ax.text(x=N_plot['rivers'][idx]+.0025, y=vd_plot['rivers'][idx]-0.01, s=run_name) for idx,run_name in enumerate(runs_renamed['rivers'])]\n",
    "\n",
    "ax.set_xlim(0.925,1.02)\n",
    "ax.set_ylim(0.4,1.3)\n",
    "# plt.plot(np.unique(N_plot[rivers_2014]), np.poly1d(np.polyfit(N_plot[rivers_2014], vd_plot[rivers_2014], 1))(np.unique(N_plot[rivers_2014])), color='teal')\n",
    "# plt.plot(np.unique(N_plot[wwtp_2014]), np.poly1d(np.polyfit(N_plot[wwtp_2014], vd_plot[wwtp_2014], 1))(np.unique(N_plot[wwtp_2014])), color='purple')\n",
    "# x = np.array([.9,1,1.1])\n",
    "#plt.plot(x, 14.06516795*x + -13.07638237,'k')\n",
    "# fig.text(.15,0.825,f\"y={w_poly['rivers'][1]:2.1f}x+{w_poly['rivers'][0]:2.1f} (RMSE: {rmse['rivers']:.2f})\",color='teal')\n",
    "# fig.text(.15,0.775,f\"y={w_poly['wwtp'][1]:2.1f}x+{w_poly['wwtp'][0]:2.1f} (RMSE: {rmse['wwtp']:.2f})\",color='purple')\n",
    "ax.legend(bbox_to_anchor=(0,1),loc='upper left')\n",
    "ax.set_xlabel('normalized nitrogen loading')\n",
    "if region == \"ALL_REGIONS\":\n",
    "    ax.set_ylabel(f'normalized volume days (across all regions)')\n",
    "else:\n",
    "    ax.set_ylabel(f'normalized volume days ({region})')\n",
    "plt.savefig(f'/mmfs1/gscratch/ssmc/USRS/PSI/Rachael/projects/KingCounty/graphics/main/noncompliance/{case}_nitrogen_volumedays_fit_{region}_no line.png', bbox_inches='tight', format='png', dpi=1000)"
   ]
  },
  {
   "cell_type": "code",
   "execution_count": 25,
   "id": "7c6f1613-8176-46d9-acf9-799b05c34dfd",
   "metadata": {},
   "outputs": [
    {
     "data": {
      "text/plain": [
       "['M_tp1',\n",
       " 'M_tp2',\n",
       " 'M_tp3',\n",
       " 'M_tp4',\n",
       " 'M_tp5',\n",
       " 'M_tp6',\n",
       " 'M_tp7',\n",
       " 'M_tp8',\n",
       " 'M_tp9',\n",
       " '2014 Conditions']"
      ]
     },
     "execution_count": 25,
     "metadata": {},
     "output_type": "execute_result"
    }
   ],
   "source": [
    "runs_renamed['wwtp']"
   ]
  },
  {
   "cell_type": "markdown",
   "id": "e2271989-dbc6-4915-852f-aef31bf9d4c9",
   "metadata": {},
   "source": [
    "## Calculate line fits and RMSE"
   ]
  },
  {
   "cell_type": "code",
   "execution_count": null,
   "id": "bae4d054-fad2-4faa-8b30-c7ecec4cc972",
   "metadata": {},
   "outputs": [],
   "source": [
    "w_poly={}\n",
    "rmse={}\n",
    "xvalues={}\n",
    "yvalues={}\n",
    "\n",
    "# fit_values = w_poly['rivers'][2]*N_plot[rivers_2014]**2+w_poly['rivers'][1]*N_plot[rivers_2014]+w_poly['rivers'][0]                                                          \n",
    "# rmse['rivers']=np.sqrt(np.sum((vd_plot[rivers_2014]-fit_values)**2)/len(vd_plot[rivers_2014]))\n",
    "\n",
    "# line for WWTPs\n",
    "w_poly['wwtp']=np.poly1d(np.polyfit(N_plot['wwtp'], vd_plot['wwtp'], 1))\n",
    "fit_values = w_poly['wwtp'][1]*N_plot['wwtp']+w_poly['wwtp'][0]                                                          \n",
    "rmse['wwtp']=np.sqrt(np.sum((vd_plot['wwtp']-fit_values)**2)/len(vd_plot['wwtp']))\n",
    "print('rmse wwtps: ', rmse['wwtp'])\n",
    "\n",
    "# polynnomial for rivers\n",
    "w_poly['rivers']=np.poly1d(np.polyfit(N_plot['rivers'], vd_plot['rivers'], 3))\n",
    "fit_values = w_poly['rivers'][3]*N_plot['rivers']**3+w_poly['rivers'][2]*N_plot['rivers']**2+w_poly['rivers'][1]*N_plot['rivers']+w_poly['rivers'][0] \n",
    "rmse['rivers']=np.sqrt(np.sum((vd_plot['rivers']-fit_values)**2)/len(vd_plot['rivers']))\n",
    "xvalues['rivers']=np.arange(N_plot['rivers'][0],N_plot['rivers'][-2]+.01, 0.01)\n",
    "yvalues['rivers']=w_poly['rivers'][3]*xvalues['rivers']**3+w_poly['rivers'][2]*xvalues['rivers']**2+w_poly['rivers'][1]*xvalues['rivers']+w_poly['rivers'][0] \n",
    "print('rmse rivers: ', rmse['rivers'])"
   ]
  },
  {
   "cell_type": "markdown",
   "id": "69ed54ba-b897-424c-8d5b-1c86675ca7fc",
   "metadata": {},
   "source": [
    "## Create 2-panel graphic"
   ]
  },
  {
   "cell_type": "code",
   "execution_count": null,
   "id": "80301120-2a49-4ff7-b75d-15e4b7a3b1a4",
   "metadata": {},
   "outputs": [],
   "source": [
    "fig, ax = plt.subplots(nrows=1, ncols=2, figsize=(10, 5),\n",
    "       gridspec_kw={\n",
    "           'width_ratios': [1,1],\n",
    "           'height_ratios': [1],\n",
    "       'wspace': 0.25,\n",
    "       'hspace': 0.15})\n",
    "# plot up wwtp scenarios \n",
    "ax[0].scatter(N_plot['wwtp'],vd_plot['wwtp'],color='purple',label='WWTP scenarios')\n",
    "ax[0].scatter(N_plot['base'],vd_plot['base'],color='orange',label='2014 Conditions')\n",
    "# ax[0].plot(np.unique(N_plot['wwtp']), np.poly1d(np.polyfit(N_plot['wwtp'], vd_plot['wwtp'], 1))(np.unique(N_plot['wwtp'])), color='purple')\n",
    "# # add text for line fit\n",
    "# fig.text(.135,0.75,f\"y={w_poly['wwtp'][1]:2.0f}x+{w_poly['wwtp'][0]:2.0f} (RMSE: {rmse['wwtp']:.2f})\",color='purple')\n",
    "# add run labels to graphic\n",
    "[ax[0].text(x=N_plot['wwtp'][idx]+.001, y=vd_plot['wwtp'][idx]-.02, s=run_name) for idx,run_name in enumerate(runs_renamed['wwtp'])]\n",
    "# legends and labels\n",
    "ax[0].legend(loc='upper left')#bbox_to_anchor=(1,1),loc='upper left')\n",
    "ax[0].set_xlabel('normalized nitrogen loading')\n",
    "ax[0].set_xlim(0.925,1.01)\n",
    "ax[0].set_ylim(0,1.1)\n",
    "ax[0].set_title('WWTP scenarios')\n",
    "if region == \"ALL_REGIONS\":\n",
    "    ax[0].set_ylabel(f'normalized volume days (across all regions)')\n",
    "else:\n",
    "    ax[0].set_ylabel(f'normalized volume days ({region.lower()})')\n",
    "    \n",
    "# plot river scenarios\n",
    "ax[1].scatter(N_plot['rivers'],vd_plot['rivers'],color='teal',label='River scenarios')\n",
    "ax[1].scatter(N_plot['base'],vd_plot['base'],color='orange',label='2014 Conditions')\n",
    "ax[1].plot(np.unique(N_plot['rivers']), np.poly1d(np.polyfit(N_plot['rivers'], vd_plot['rivers'], 3))(np.unique(N_plot['rivers'])), color='teal')\n",
    "# add text for line fit\n",
    "fig.text(.565,0.71,f\"y={w_poly['rivers'][3]:2.0f}x$^3$+{w_poly['rivers'][2]:2.0f}x$^2$+{w_poly['rivers'][1]:2.0f}x+{w_poly['rivers'][0]:2.0f}\\n(RMSE: {rmse['wwtp']:.2f})\",color='teal')\n",
    "# add run labels to graphic\n",
    "[ax[1].text(x=N_plot['rivers'][idx]+.005, y=vd_plot['rivers'][idx]-.25, s=run_name) for idx,run_name in enumerate(runs_renamed['rivers'])]\n",
    "#legends and labels\n",
    "ax[1].legend(loc='upper left')#bbox_to_anchor=(1,1),loc='upper left')\n",
    "ax[1].set_xlabel('normalized nitrogen loading')\n",
    "ax[1].set_xlim(0.85, 1.16)\n",
    "#ax[1].set_xlim(0.85,1.15)\n",
    "#ax[1].set_ylim(0,11)\n",
    "ax[1].set_title('River scenarios')\n",
    "# if region == \"ALL_REGIONS\":\n",
    "#     ax[1].set_ylabel(f'normalized volume days (across all regions)')\n",
    "# else:\n",
    "#     ax[1].set_ylabel(f'normalized volume days ({region.lower()})')\n",
    "\n",
    "plt.savefig(f'/mmfs1/gscratch/ssmc/USRS/PSI/Rachael/projects/KingCounty/graphics/line_fits/{case}_nitrogen_volumedays_fit_{region}_2panel.png', bbox_inches='tight', format='png', dpi=1000)"
   ]
  },
  {
   "cell_type": "markdown",
   "id": "7c6a0249-cda4-453d-ac86-5b3af1f69677",
   "metadata": {},
   "source": [
    "# Create a 2-panel graphic with exponential fit"
   ]
  },
  {
   "cell_type": "code",
   "execution_count": null,
   "id": "775fa33d-a2bf-4898-8f48-c50e2aafc319",
   "metadata": {},
   "outputs": [],
   "source": [
    "fig, ax = plt.subplots(nrows=1, ncols=2, figsize=(10, 5),\n",
    "       gridspec_kw={\n",
    "           'width_ratios': [1,1],\n",
    "           'height_ratios': [1],\n",
    "       'wspace': 0.25,\n",
    "       'hspace': 0.15})\n",
    "# plot up wwtp scenarios \n",
    "ax[0].scatter(N_plot['wwtp'],vd_plot['wwtp'],color='purple',label='WWTP scenarios')\n",
    "ax[0].scatter(N_plot['base'],vd_plot['base'],color='orange',label='2014 Conditions')\n",
    "ax[0].plot(\n",
    "    np.unique(N_plot['wwtp']), \n",
    "    np.poly1d(np.polyfit(N_plot['wwtp'], vd_plot['wwtp'], 1))(np.unique(N_plot['wwtp'])), \n",
    "    color='purple'\n",
    ")\n",
    "# add text for line fit\n",
    "fig.text(.135,0.75,f\"y={w_poly['wwtp'][1]:2.0f}x+{w_poly['wwtp'][0]:2.0f} (RMSE: {rmse['wwtp']:.2f})\",color='purple')\n",
    "# add run labels to graphic\n",
    "[ax[0].text(x=N_plot['wwtp'][idx]+.001, y=vd_plot['wwtp'][idx]-.02, s=run_name) for idx,run_name in enumerate(runs_renamed['wwtp'])]\n",
    "# legends and labels\n",
    "ax[0].legend(loc='upper left')#bbox_to_anchor=(1,1),loc='upper left')\n",
    "ax[0].set_xlabel('normalized nitrogen loading')\n",
    "ax[0].set_xlim(0.97,1.01)\n",
    "if region != \"Whidbey\":\n",
    "    ax[0].set_ylim(0.5,1.1)\n",
    "ax[0].set_title('WWTP scenarios')\n",
    "if region == \"ALL_REGIONS\":\n",
    "    ax[0].set_ylabel(f'normalized volume days (across all regions)')\n",
    "else:\n",
    "    ax[0].set_ylabel(f'normalized volume days ({region.lower()})')\n",
    "    \n",
    "# plot river scenarios\n",
    "ax[1].scatter(N_plot['rivers'],vd_plot['rivers'],color='teal',label='River scenarios')\n",
    "ax[1].scatter(N_plot['base'],vd_plot['base'],color='orange',label='2014 Conditions')\n",
    "\n",
    "# Create exponential fit\n",
    "C = np.polyfit(N_plot['rivers'][[0,2,3]], np.log(vd_plot['rivers'][[0,2,3]]), 1)\n",
    "xpoints = np.arange(0.85,1.15,0.01)\n",
    "river_fit = (\n",
    "    np.exp(C[1])* \n",
    "    np.exp(C[0]*xpoints)\n",
    ")\n",
    "ax[1].plot(xpoints,river_fit, \n",
    "    color='teal'\n",
    ")\n",
    "fit_values = np.exp(C[1])*np.exp(C[0]*N_plot['rivers'])\n",
    "rmse['rivers']=np.sqrt(np.sum((vd_plot['rivers']-fit_values)**2)/len(vd_plot['rivers']))\n",
    "# add text for line fit\n",
    "fig.text(.565,0.75,f\"y={np.exp(C[1]):.02e}e^({C[0]:.02f}x) (RMSE: {rmse['rivers']:.2f})\",color='teal')\n",
    "# add run labels to graphic\n",
    "[ax[1].text(x=N_plot['rivers'][idx]+.005, y=vd_plot['rivers'][idx]-.25, s=run_name) for idx,run_name in enumerate(runs_renamed['rivers'])]\n",
    "#legends and labels\n",
    "ax[1].legend(loc='upper left')#bbox_to_anchor=(1,1),loc='upper left')\n",
    "ax[1].set_xlabel('normalized nitrogen loading')\n",
    "ax[1].set_xlim(0.85, 1.16)\n",
    "ax[1].set_title('River scenarios')\n",
    "plt.savefig(f'/mmfs1/gscratch/ssmc/USRS/PSI/Rachael/projects/KingCounty/graphics/line_fits/{case}_nitrogen_volumedays_fit_{region}_2panel_exp.png', bbox_inches='tight', format='png', dpi=1000)"
   ]
  },
  {
   "cell_type": "code",
   "execution_count": null,
   "id": "8dab3d8e-14b4-4983-8604-4941c060fa2f",
   "metadata": {},
   "outputs": [],
   "source": [
    "fig, ax = plt.subplots(nrows=1, ncols=1, figsize=(5, 5),\n",
    "       gridspec_kw={\n",
    "           'width_ratios': [1],\n",
    "           'height_ratios': [1],\n",
    "       'wspace': 0.25,\n",
    "       'hspace': 0.15})\n",
    "ax.scatter(N_plot['rivers'],vd_plot['rivers'],color='teal',label='River scenarios')\n",
    "#ax.scatter(N_plot['wwtp'],vd_plot['wwtp'],color='purple',label='WWTP scenarios')\n",
    "ax.scatter(N_plot['base'],vd_plot['base'],color='orange',label='2014 Conditions')\n",
    "# plt.plot(np.unique(N_plot[rivers_2014]), np.poly1d(np.polyfit(N_plot[rivers_2014], vd_plot[rivers_2014], 1))(np.unique(N_plot[rivers_2014])), color='teal')\n",
    "# plt.plot(np.unique(N_plot[wwtp_2014]), np.poly1d(np.polyfit(N_plot[wwtp_2014], vd_plot[wwtp_2014], 1))(np.unique(N_plot[wwtp_2014])), color='purple')\n",
    "# x = np.array([.9,1,1.1])\n",
    "#plt.plot(x, 14.06516795*x + -13.07638237,'k')\n",
    "# fig.text(.15,0.825,f\"y={w_poly['rivers'][1]:2.1f}x+{w_poly['rivers'][0]:2.1f} (RMSE: {rmse['rivers']:.2f})\",color='teal')\n",
    "# fig.text(.15,0.775,f\"y={w_poly['wwtp'][1]:2.1f}x+{w_poly['wwtp'][0]:2.1f} (RMSE: {rmse['wwtp']:.2f})\",color='purple')\n",
    "ax.legend(loc='upper left')#bbox_to_anchor=(1,1),loc='upper left')\n",
    "ax.set_xlabel('normalized nitrogen loading')\n",
    "ax.set_xlim(0.85,1.15)\n",
    "ax.set_title('River scenarios')\n",
    "# add run labels to graphic\n",
    "[plt.text(x=N_plot['rivers'][idx]+.005, y=vd_plot['rivers'][idx]-.1, s=run_name) for idx,run_name in enumerate(runs_renamed['rivers'])]\n",
    "if region == \"ALL_REGIONS\":\n",
    "    ax.set_ylabel(f'normalized volume days (across all regions)')\n",
    "else:\n",
    "    ax.set_ylabel(f'normalized volume days ({region})')"
   ]
  },
  {
   "cell_type": "markdown",
   "id": "6d7e58fa-e09e-425a-a3ba-9dc52af4bd88",
   "metadata": {},
   "source": [
    "# My original method below (before adapting Ben's)"
   ]
  },
  {
   "cell_type": "code",
   "execution_count": null,
   "id": "297ccb80-5a9f-4ff5-9472-22ef19227078",
   "metadata": {},
   "outputs": [],
   "source": [
    "loading = {}\n",
    "for run in runs:\n",
    "    with open(loading_files[run], 'r') as file:\n",
    "        print(f'loading {loading_files[run].name}')\n",
    "        #loading[run]=pandas.read_csv(file,skiprows=261, nrows=258, delimiter=' ')\n",
    "        loading[run] = pandas.read_csv(file, skiprows=522, delimiter=' ', header=None)#, names=source_names)\n",
    "        # the row starts with a space so the first column is no-data.  \n",
    "        # remove the no-data column\n",
    "        loading[run]=loading[run].drop([0], axis=1)\n",
    "        # create a dictionary with keys being column names and values being the nutrient loading source name\n",
    "        name_mapper = {[*loading[run]][i]: source_names[i] for i in range(len([*loading[run]]))}\n",
    "        # rename columns to source names\n",
    "        loading[run]=loading[run].rename(columns = name_mapper)"
   ]
  },
  {
   "cell_type": "code",
   "execution_count": null,
   "id": "1e1fa0f3-9f9d-4baa-8f5a-1059840e1c37",
   "metadata": {},
   "outputs": [],
   "source": []
  }
 ],
 "metadata": {
  "kernelspec": {
   "display_name": "Python 3 (ipykernel)",
   "language": "python",
   "name": "python3"
  },
  "language_info": {
   "codemirror_mode": {
    "name": "ipython",
    "version": 3
   },
   "file_extension": ".py",
   "mimetype": "text/x-python",
   "name": "python",
   "nbconvert_exporter": "python",
   "pygments_lexer": "ipython3",
   "version": "3.10.4"
  }
 },
 "nbformat": 4,
 "nbformat_minor": 5
}
