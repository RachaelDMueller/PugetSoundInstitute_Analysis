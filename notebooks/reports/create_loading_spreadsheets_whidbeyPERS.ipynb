{
 "cells": [
  {
   "cell_type": "markdown",
   "id": "f06d7d06-e7f6-448b-a8c0-4ce9497ab647",
   "metadata": {},
   "source": [
    "# Quantify nutrient loading inputs\n",
    "`create_scenario_pnt_wq_v3_090622.py` is \"Python script for creating the river and point source scenario loading `ssm_pnt_wq.dat` input files\""
   ]
  },
  {
   "cell_type": "code",
   "execution_count": 1,
   "id": "3d33e826-67ef-420a-bc2b-913abdc3dfd4",
   "metadata": {},
   "outputs": [],
   "source": [
    "import sys\n",
    "import os\n",
    "import yaml\n",
    "import numpy as np\n",
    "#import pandas\n",
    "from io import StringIO\n",
    "import pandas as pd\n",
    "import pathlib\n",
    "import time\n",
    "from datetime import date\n",
    "import geopandas as gpd\n",
    "import matplotlib.pyplot as plt\n",
    "from matplotlib.offsetbox import AnchoredText\n",
    "from matplotlib.ticker import MaxNLocator\n",
    "import matplotlib as mpl"
   ]
  },
  {
   "cell_type": "markdown",
   "id": "560ca9b5-74c2-47b1-9585-8f4782f45193",
   "metadata": {},
   "source": [
    "### Define file paths"
   ]
  },
  {
   "cell_type": "code",
   "execution_count": 44,
   "id": "d554df3e-10a7-4ec3-b60c-d4aef22f8aa3",
   "metadata": {},
   "outputs": [
    {
     "name": "stdout",
     "output_type": "stream",
     "text": [
      "/mmfs1/gscratch/ssmc/USRS/PSI/Sukyong/kingcounty/WQM/WQM/hotstart/inputs/ssm_pnt_wq.dat\n",
      "/mmfs1/gscratch/ssmc/USRS/PSI/Sukyong/kingcounty/WQM_REF/WQM_REF/hotstart/inputs/ssm_pnt_wq.dat\n",
      "/mmfs1/gscratch/ssmc/USRS/PSI/Sukyong/kingcounty/3c/inputs/ssm_pnt_wq.dat\n",
      "/mmfs1/gscratch/ssmc/USRS/PSI/Rachael/projects/KingCounty/SalishSeaModel/3l/hotstart/inputs/ssm_pnt_wq.dat\n",
      "/mmfs1/gscratch/ssmc/USRS/PSI/Sukyong/kingcounty/3m/inputs/ssm_pnt_wq.dat\n",
      "/mmfs1/gscratch/ssmc/USRS/PSI/Rachael/projects/KingCounty/SalishSeaModel/3n/hotstart/inputs/ssm_pnt_wq.dat\n",
      "/mmfs1/gscratch/ssmc/USRS/PSI/Rachael/projects/KingCounty/SalishSeaModel/3o/hotstart/inputs/ssm_pnt_wq.dat\n"
     ]
    }
   ],
   "source": [
    "# Get paths from configuration file\n",
    "case = 'whidbeypers'\n",
    "with open(f'../../etc/SSM_config_{case}.yaml', 'r') as file:\n",
    "    ssm = yaml.safe_load(file)\n",
    "# loading_dir = pathlib.Path(\"/mmfs1/gscratch/ssmc/USRS/PSI/Rachael/projects/KingCounty/SalishSeaModel/run_scenarios/input_setting\")\n",
    "runs = [*ssm['paths']['nutrient_loading_inputs']]\n",
    "loading_files = {}\n",
    "for run in runs:\n",
    "    print(ssm['paths']['nutrient_loading_inputs'][run])#loading_files[run] = loading_dir/f\"ssm_pnt_wq_{run}.dat\""
   ]
  },
  {
   "cell_type": "code",
   "execution_count": 45,
   "id": "180a680f-1cbe-4690-9657-6f47433ff1ee",
   "metadata": {},
   "outputs": [
    {
     "data": {
      "text/plain": [
       "['wqm_baseline', 'wqm_reference', '3c', '3l', '3m', '3n', '3o']"
      ]
     },
     "execution_count": 45,
     "metadata": {},
     "output_type": "execute_result"
    }
   ],
   "source": [
    "runs = [*ssm['paths']['nutrient_loading_inputs']]\n",
    "runs"
   ]
  },
  {
   "cell_type": "code",
   "execution_count": 46,
   "id": "1d06355e-7619-490e-8797-8ee584b68161",
   "metadata": {},
   "outputs": [],
   "source": [
    "# # directory for Su Kyong's runs\n",
    "# root_output = '/mmfs1/gscratch/ssmc/USRS/PSI/Sukyong/kingcounty/'\n",
    "\n",
    "# # directory for Rachael's runs\n",
    "# root_output_rdm = (\n",
    "#     \"/mmfs1/gscratch/ssmc/USRS/PSI/Rachael/projects/KingCounty/SalishSeaModel/\"\n",
    "# )\n",
    "\n",
    "# ssm['paths']['nutrient_loading_inputs']={\n",
    "#     'wqm_baseline':root_output+'WQM/WQM/hotstart/inputs/ssm_pnt_wq.dat',\n",
    "#     'wqm_reference':root_output+'WQM_REF/WQM_REF/hotstart/inputs/ssm_pnt_wq.dat',\n",
    "#     '3l':root_output_rdm+'3l/hotstart/inputs/ssm_pnt_wq.dat',\n",
    "#     '3m':root_output+'3m/inputs/ssm_pnt_wq.dat',\n",
    "#     '3n':root_output_rdm+'3n/coldstart/inputs/ssm_pnt_wq.dat',\n",
    "#     '3o':root_output_rdm+'3o/coldstart/inputs/ssm_pnt_wq.dat',\n",
    "# }"
   ]
  },
  {
   "cell_type": "markdown",
   "id": "805c745a-4cad-4c84-bd8d-dbf8ca0e8142",
   "metadata": {},
   "source": [
    "### Create list of source names"
   ]
  },
  {
   "cell_type": "code",
   "execution_count": 47,
   "id": "5edf920e-adad-4ab9-8c21-d40c8be45549",
   "metadata": {},
   "outputs": [],
   "source": [
    "in_dir = pathlib.Path('/mmfs1/gscratch/ssmc/USRS/PSI/Rachael/projects/KingCounty/spreadsheets')\n",
    "source_locations = pd.read_excel(in_dir/'ssm_pnt_wq_station_info.xlsx',index_col='Unnamed: 0')\n",
    "source_names=source_locations.index.tolist()"
   ]
  },
  {
   "cell_type": "markdown",
   "id": "a6680ff4-840c-420e-bd8c-45474a6a3855",
   "metadata": {},
   "source": [
    "### Load loading inputs\n",
    "This code comes from Ben Roberts.  I got the same results with my method but like Ben's better because it covers all variables. See [ssm_read_pnt_wq.ipynb](https://github.com/bedaro/ssm-analysis/blob/main/input_files/ssm_read_pnt_wq.ipynb)\n",
    "\n",
    "From Ben Roberts:\n",
    "```\n",
    "The discharges are in m3/s, and cover a 24-hour period (technically the model linearly interpolates between them but that doesn't change the final result). The units for most constituents are mg/l and for the nitrogen constituents it's mg-N/l == g-N/m^3.\n",
    "\n",
    "So when I load the NetCDF into a dataset named 'ds' and do this:\n",
    "(ds['discharge'][:,0] * (ds['nh4'][:,0] + ds['no32'][:,0]) * 24 * 3600).sum()\n",
    "```"
   ]
  },
  {
   "cell_type": "code",
   "execution_count": 48,
   "id": "1a4d820b-6b41-49b6-9c72-830c76352014",
   "metadata": {},
   "outputs": [],
   "source": [
    "inputs = {}\n",
    "for run in runs:\n",
    "    with open(ssm['paths']['nutrient_loading_inputs'][run]) as f:\n",
    "        # The parsing logic here is is derived from the linkage instructions for the\n",
    "        # model and direct examination of the source code\n",
    "\n",
    "        # The first line does not contain important information and is treated only like\n",
    "        # a filetype magic\n",
    "        next(f)\n",
    "\n",
    "        # The total number of discharge nodes\n",
    "        num_qs = int(next(f))\n",
    "        # All the node numbers with discharges\n",
    "        #nodes = np.loadtxt([next(f) for l in range(num_qs)], comments='!', dtype=int)\n",
    "        node_raw = StringIO('\\n'.join([next(f) for l in range(num_qs)]))\n",
    "        node_df = pd.read_csv(node_raw, sep='\\s+!\\s+', names=('Node','Comment'),\n",
    "                              dtype={'Node':np.int64,'Comment':object}, engine='python')\n",
    "        node_df.set_index('Node', inplace=True)\n",
    "        nodes = node_df.index.to_numpy()\n",
    "        # Depth distribution fractions into each node. Skipping the first (node count) column\n",
    "        vqdist = np.loadtxt([next(f) for l in range(num_qs)])[:,1:]\n",
    "\n",
    "        num_times = int(next(f))\n",
    "\n",
    "        # Initialize storage arrays\n",
    "        times = np.zeros(num_times)\n",
    "        qs = np.zeros((num_times, num_qs))\n",
    "        # State variables in the order they are present in the file. These are also going\n",
    "        # to be the NetCDF variable names\n",
    "        statevars = ('discharge', 'temp', 'salt', 'tss',  'alg1', 'alg2', 'alg3', 'zoo1',\n",
    "                                  'zoo2', 'ldoc', 'rdoc', 'lpoc', 'rpoc', 'nh4',  'no32',\n",
    "                                  'urea', 'ldon', 'rdon', 'lpon', 'rpon', 'po4',  'ldop',\n",
    "                                  'rdop', 'lpop', 'rpop', 'pip',  'cod',  'doxg', 'psi',\n",
    "                                  'dsi',  'alg1p','alg2p','alg3p','dic',  'talk')\n",
    "        inputs[run] = {}\n",
    "        for v in statevars:\n",
    "            inputs[run][v] = np.zeros((num_times, num_qs))\n",
    "\n",
    "        for t in range(num_times):\n",
    "            times[t] = float(next(f))\n",
    "            for v in statevars:\n",
    "                inputs[run][v][t,:] = np.loadtxt([next(f)])"
   ]
  },
  {
   "cell_type": "markdown",
   "id": "fdb76785-bb93-4eb1-80d6-37f56918624d",
   "metadata": {},
   "source": [
    "# Sum all loading over year  \n",
    "Sum of loading over year for Agate East, node 15634, is 4926 kg/year"
   ]
  },
  {
   "cell_type": "code",
   "execution_count": 49,
   "id": "aa4ba682-3749-43cc-aeb2-15e3fda5e4f7",
   "metadata": {},
   "outputs": [],
   "source": [
    "total_nitrogen={}\n",
    "total_annual_nitrogen={}\n",
    "loading={}\n",
    "for run in runs:\n",
    "    loading[run] = (inputs[run]['discharge'] * (inputs[run]['nh4'] + inputs[run]['no32']) * 24 * 3600)/1000 #m3/s*mg/l -> kg/day\n",
    "    total_nitrogen[run]=loading[run].sum(axis=0) # annual loading over 366 days (g/year)\n",
    "    total_annual_nitrogen[run] = total_nitrogen[run].sum() # g/year -> kg/year"
   ]
  },
  {
   "cell_type": "code",
   "execution_count": 50,
   "id": "389b946c-b2ba-4fca-a464-938a1795fd0a",
   "metadata": {},
   "outputs": [
    {
     "data": {
      "text/plain": [
       "{'wqm_baseline': 51748970.95235588,\n",
       " 'wqm_reference': 34182950.28326734,\n",
       " '3c': 45359842.21098727,\n",
       " '3l': 50739039.79951296,\n",
       " '3m': 58138095.43265276,\n",
       " '3n': 50456840.87141059,\n",
       " '3o': 51102889.800261796}"
      ]
     },
     "execution_count": 50,
     "metadata": {},
     "output_type": "execute_result"
    }
   ],
   "source": [
    "total_annual_nitrogen"
   ]
  },
  {
   "cell_type": "markdown",
   "id": "0babd84a-a89b-417f-b4ad-c41a52d8b27e",
   "metadata": {},
   "source": [
    "## Create dataframes to write to excel"
   ]
  },
  {
   "cell_type": "code",
   "execution_count": 51,
   "id": "c1e14695-e7b1-4a3d-82ca-c129735c1ceb",
   "metadata": {},
   "outputs": [],
   "source": [
    "total_nitrogen_df = pd.DataFrame(total_nitrogen, index=source_names) # scenario total\n",
    "total_annual_nitrogen_df = pd.DataFrame(total_annual_nitrogen,index=['total loading']) # source total (by scenario)"
   ]
  },
  {
   "cell_type": "code",
   "execution_count": 52,
   "id": "c361ba4b-2e97-447c-a865-59017579641e",
   "metadata": {},
   "outputs": [
    {
     "data": {
      "text/html": [
       "<div>\n",
       "<style scoped>\n",
       "    .dataframe tbody tr th:only-of-type {\n",
       "        vertical-align: middle;\n",
       "    }\n",
       "\n",
       "    .dataframe tbody tr th {\n",
       "        vertical-align: top;\n",
       "    }\n",
       "\n",
       "    .dataframe thead th {\n",
       "        text-align: right;\n",
       "    }\n",
       "</style>\n",
       "<table border=\"1\" class=\"dataframe\">\n",
       "  <thead>\n",
       "    <tr style=\"text-align: right;\">\n",
       "      <th></th>\n",
       "      <th>wqm_baseline</th>\n",
       "      <th>wqm_reference</th>\n",
       "      <th>3c</th>\n",
       "      <th>3l</th>\n",
       "      <th>3m</th>\n",
       "      <th>3n</th>\n",
       "      <th>3o</th>\n",
       "    </tr>\n",
       "  </thead>\n",
       "  <tbody>\n",
       "    <tr>\n",
       "      <th>total loading</th>\n",
       "      <td>5.174897e+07</td>\n",
       "      <td>3.418295e+07</td>\n",
       "      <td>4.535984e+07</td>\n",
       "      <td>5.073904e+07</td>\n",
       "      <td>5.813810e+07</td>\n",
       "      <td>5.045684e+07</td>\n",
       "      <td>5.110289e+07</td>\n",
       "    </tr>\n",
       "  </tbody>\n",
       "</table>\n",
       "</div>"
      ],
      "text/plain": [
       "               wqm_baseline  wqm_reference            3c            3l  \\\n",
       "total loading  5.174897e+07   3.418295e+07  4.535984e+07  5.073904e+07   \n",
       "\n",
       "                         3m            3n            3o  \n",
       "total loading  5.813810e+07  5.045684e+07  5.110289e+07  "
      ]
     },
     "execution_count": 52,
     "metadata": {},
     "output_type": "execute_result"
    }
   ],
   "source": [
    "total_annual_nitrogen_df"
   ]
  },
  {
   "cell_type": "code",
   "execution_count": 53,
   "id": "9db00dbb-085e-4b66-96c9-af9822068a11",
   "metadata": {},
   "outputs": [
    {
     "data": {
      "text/html": [
       "<div>\n",
       "<style scoped>\n",
       "    .dataframe tbody tr th:only-of-type {\n",
       "        vertical-align: middle;\n",
       "    }\n",
       "\n",
       "    .dataframe tbody tr th {\n",
       "        vertical-align: top;\n",
       "    }\n",
       "\n",
       "    .dataframe thead th {\n",
       "        text-align: right;\n",
       "    }\n",
       "</style>\n",
       "<table border=\"1\" class=\"dataframe\">\n",
       "  <thead>\n",
       "    <tr style=\"text-align: right;\">\n",
       "      <th></th>\n",
       "      <th>wqm_baseline</th>\n",
       "      <th>wqm_reference</th>\n",
       "      <th>3c</th>\n",
       "      <th>3l</th>\n",
       "      <th>3m</th>\n",
       "      <th>3n</th>\n",
       "      <th>3o</th>\n",
       "    </tr>\n",
       "  </thead>\n",
       "  <tbody>\n",
       "    <tr>\n",
       "      <th>Agate East</th>\n",
       "      <td>4925.721161</td>\n",
       "      <td>2076.954837</td>\n",
       "      <td>4925.721161</td>\n",
       "      <td>4925.721161</td>\n",
       "      <td>4925.721161</td>\n",
       "      <td>4925.721161</td>\n",
       "      <td>4925.721161</td>\n",
       "    </tr>\n",
       "    <tr>\n",
       "      <th>Agate West</th>\n",
       "      <td>936.577889</td>\n",
       "      <td>383.285032</td>\n",
       "      <td>936.577889</td>\n",
       "      <td>936.577889</td>\n",
       "      <td>936.577889</td>\n",
       "      <td>936.577889</td>\n",
       "      <td>936.577889</td>\n",
       "    </tr>\n",
       "    <tr>\n",
       "      <th>Anderson east</th>\n",
       "      <td>3446.356783</td>\n",
       "      <td>500.055386</td>\n",
       "      <td>3446.356783</td>\n",
       "      <td>3446.356783</td>\n",
       "      <td>3446.356783</td>\n",
       "      <td>3446.356783</td>\n",
       "      <td>3446.356783</td>\n",
       "    </tr>\n",
       "  </tbody>\n",
       "</table>\n",
       "</div>"
      ],
      "text/plain": [
       "                 wqm_baseline  wqm_reference           3c           3l  \\\n",
       "  Agate East      4925.721161    2076.954837  4925.721161  4925.721161   \n",
       "  Agate West       936.577889     383.285032   936.577889   936.577889   \n",
       "  Anderson east   3446.356783     500.055386  3446.356783  3446.356783   \n",
       "\n",
       "                          3m           3n           3o  \n",
       "  Agate East     4925.721161  4925.721161  4925.721161  \n",
       "  Agate West      936.577889   936.577889   936.577889  \n",
       "  Anderson east  3446.356783  3446.356783  3446.356783  "
      ]
     },
     "execution_count": 53,
     "metadata": {},
     "output_type": "execute_result"
    }
   ],
   "source": [
    "total_nitrogen_df.head(3)"
   ]
  },
  {
   "cell_type": "markdown",
   "id": "ef50b564-2bf9-44d7-a606-efe3484adb4c",
   "metadata": {},
   "source": [
    "# Create excel spreadsheet of total nitrogen loading per run"
   ]
  },
  {
   "cell_type": "code",
   "execution_count": 54,
   "id": "93baeb1f-0177-496d-a061-95ed7f4abd9b",
   "metadata": {},
   "outputs": [],
   "source": [
    "# make README \n",
    "this_file = '=HYPERLINK(\"https://github.com/UWModeling/SalishSeaModel-analysis/blob/main/notebooks/reports/QuantifyLoading.ipynb\")'\n",
    "run_description = '=HYPERLINK(\"https://github.com/RachaelDMueller/KingCounty-Rachael/blob/main/docs/supporting/KingCounty_Model_Runs.xlsx\",\"KingCounty_Model_Runs.xlsx\")'\n",
    "units='kg/year'\n",
    "created_by = 'Rachael D. Mueller'\n",
    "created_at = 'Puget Sound Institute'\n",
    "created_from = 'Model results produced by Su Kyong Yun (PNNL) and Rachael Mueller (PSI)'\n",
    "created_on = date.today().strftime(\"%B %d, %Y\")\n",
    "contact = 'Rachael D Mueller (rdmseas@uw.edu)'\n",
    "header = {\n",
    "    ' ':[created_by, created_at, created_on, this_file, \n",
    "        contact, created_from, \n",
    "        run_description, units]\n",
    "}\n",
    "header_df = pd.DataFrame(header, index=[\n",
    "    'Created by',\n",
    "    'Created at',                           \n",
    "    'Created on',\n",
    "    'Created with',\n",
    "    'Contacts',\n",
    "    'Modeling by',\n",
    "    'Model Run Overview',\n",
    "    'Units'])\n",
    "\n",
    "# Save to output to \n",
    "excel_output_path = pathlib.Path(ssm['paths']['processed_output'])/case/'spreadsheets'\n",
    "with pd.ExcelWriter(excel_output_path/f'{case}_total_nitrogen_loading.xlsx', mode='w') as writer:\n",
    "    total_annual_nitrogen_df.to_excel(writer, sheet_name='scenario_total')\n",
    "    total_nitrogen_df.to_excel(writer, sheet_name='source_total')\n",
    "    header_df.to_excel(writer, sheet_name='README')"
   ]
  },
  {
   "cell_type": "code",
   "execution_count": 55,
   "id": "bd61c177-4867-43ee-b066-250a3c1e302e",
   "metadata": {},
   "outputs": [
    {
     "data": {
      "text/plain": [
       "([<matplotlib.axis.XTick at 0x15159e0a1ed0>,\n",
       "  <matplotlib.axis.XTick at 0x15159e0a34c0>,\n",
       "  <matplotlib.axis.XTick at 0x15159dfddfc0>,\n",
       "  <matplotlib.axis.XTick at 0x15159e3848e0>,\n",
       "  <matplotlib.axis.XTick at 0x15159e386020>,\n",
       "  <matplotlib.axis.XTick at 0x15159e384280>,\n",
       "  <matplotlib.axis.XTick at 0x15159e384a90>],\n",
       " [Text(0, 0, '2014 Conditions'),\n",
       "  Text(1, 0, 'Reference'),\n",
       "  Text(2, 0, 'Wr1'),\n",
       "  Text(3, 0, 'Wr2'),\n",
       "  Text(4, 0, 'Wr3'),\n",
       "  Text(5, 0, 'Wr4'),\n",
       "  Text(6, 0, 'Wr5')])"
      ]
     },
     "execution_count": 55,
     "metadata": {},
     "output_type": "execute_result"
    },
    {
     "data": {
      "image/png": "[encoded data removed]",
      "text/plain": [
       "<Figure size 432x288 with 1 Axes>"
      ]
     },
     "metadata": {
      "needs_background": "light"
     },
     "output_type": "display_data"
    }
   ],
   "source": [
    "labels = [ssm['run_information']['run_tag'][case][key] for key in [*total_annual_nitrogen]]\n",
    "# labels[0]='base'\n",
    "# labels[1]='ref'\n",
    "plt.plot([total_annual_nitrogen[key]/total_annual_nitrogen['wqm_baseline'] for key in [*total_annual_nitrogen]],'.')\n",
    "plt.title('Normalized total annual nitrogen loading')\n",
    "plt.ylabel('kg/year]')\n",
    "plt.xticks(np.arange(0,len(labels)),labels,rotation=90)"
   ]
  },
  {
   "cell_type": "code",
   "execution_count": 56,
   "id": "75848c18-0426-43e9-bf1c-fb2257995f9a",
   "metadata": {},
   "outputs": [
    {
     "data": {
      "text/plain": [
       "{'wqm_baseline': 51748970.95235588,\n",
       " 'wqm_reference': 34182950.28326734,\n",
       " '3c': 45359842.21098727,\n",
       " '3l': 50739039.79951296,\n",
       " '3m': 58138095.43265276,\n",
       " '3n': 50456840.87141059,\n",
       " '3o': 51102889.800261796}"
      ]
     },
     "execution_count": 56,
     "metadata": {},
     "output_type": "execute_result"
    }
   ],
   "source": [
    "total_annual_nitrogen"
   ]
  },
  {
   "cell_type": "markdown",
   "id": "faa945af-e78f-4c78-b30b-aa2e13c2016b",
   "metadata": {},
   "source": [
    "# Plot normalized loading values and regressions"
   ]
  },
  {
   "cell_type": "code",
   "execution_count": 57,
   "id": "766e5f35-1455-41a4-9a94-a0a74e8ac3bf",
   "metadata": {},
   "outputs": [],
   "source": [
    "river_runs = ssm['run_information']['whidbeypers_rivers']\n",
    "#wwtp_runs = ssm['run_information']['whidbeypers_WWTPs']\n",
    "#remove reference b/c we don't calculate volume days noncompliance for reference case\n",
    "# river_runs.pop('wqm_reference')\n",
    "# wwtp_runs.pop('wqm_reference')\n",
    "# wwtp_runs.pop('Wtp7')"
   ]
  },
  {
   "cell_type": "code",
   "execution_count": 58,
   "id": "eb872ab1-db0a-4495-bf98-8501010393c7",
   "metadata": {},
   "outputs": [
    {
     "data": {
      "text/plain": [
       "{'wqm_baseline': '2014 conditions',\n",
       " 'wqm_reference': 'Reference conditions',\n",
       " '3c': 'Wr1',\n",
       " '3l': 'Wr2',\n",
       " '3m': 'Wr3',\n",
       " '3n': 'Wr4',\n",
       " '3o': 'Wr5'}"
      ]
     },
     "execution_count": 58,
     "metadata": {},
     "output_type": "execute_result"
    }
   ],
   "source": [
    "river_runs"
   ]
  },
  {
   "cell_type": "markdown",
   "id": "1a14eab1-d0f0-4d65-8d91-8b9e7aaa5bfc",
   "metadata": {},
   "source": [
    "## Create lists of runs for coloring plot markers"
   ]
  },
  {
   "cell_type": "code",
   "execution_count": 59,
   "id": "41203302-96cc-48f2-8bd4-f55c36069055",
   "metadata": {},
   "outputs": [
    {
     "data": {
      "text/plain": [
       "['2014 Conditions', 'Wr1', 'Wr2', 'Wr3', 'Wr4', 'Wr5']"
      ]
     },
     "execution_count": 59,
     "metadata": {},
     "output_type": "execute_result"
    }
   ],
   "source": [
    "runs_renamed={}\n",
    "runs_renamed['rivers']=[ssm['run_information']['run_tag'][case][key] for key in [*river_runs]]\n",
    "runs_renamed['base']=['2014 Conditions']\n",
    "# Wtp7 needs to be re-done.   Removing from graphic\n",
    "runs_renamed['rivers'].remove('Reference')\n",
    "runs_renamed['rivers']"
   ]
  },
  {
   "cell_type": "markdown",
   "id": "18b515de-4e36-4dcf-b0b4-683308519ad6",
   "metadata": {},
   "source": [
    "## Create normalized volume days values"
   ]
  },
  {
   "cell_type": "code",
   "execution_count": 83,
   "id": "eaf1c773-4dde-4c49-ae4d-a2b76766d301",
   "metadata": {},
   "outputs": [
    {
     "data": {
      "text/plain": [
       "{'2014 Conditions': 1.0,\n",
       " 'Wr1': 0.028883478058174487,\n",
       " 'Wr2': 0.7852548079536077,\n",
       " 'Wr3': 5.149649311438766,\n",
       " 'Wr4': 0.022534141673607833,\n",
       " 'Wr5': 0.028505346777720247}"
      ]
     },
     "execution_count": 83,
     "metadata": {},
     "output_type": "execute_result"
    }
   ],
   "source": [
    "region = 'ALL_REGIONS' # 'Whidbey' # \n",
    "\n",
    "nc_input = pd.read_excel(f'/mmfs1/gscratch/ssmc/USRS/PSI/Rachael/projects/KingCounty/data/{case}/spreadsheets/{case}_wc_noncompliant_m0p25.xlsx',\n",
    "                           sheet_name='Volume_Days',\n",
    "                          index_col=\"Unnamed: 0\")\n",
    "\n",
    "vol_day_norm={}\n",
    "for run in [*nc_input]:\n",
    "    vol_day_norm[run] = nc_input[run][region]/nc_input['2014 Conditions'][region]\n",
    "vol_day_norm"
   ]
  },
  {
   "cell_type": "markdown",
   "id": "03bbc0ec-89ac-49e6-8f17-59630f10718e",
   "metadata": {},
   "source": [
    "## Create normalized loading values"
   ]
  },
  {
   "cell_type": "code",
   "execution_count": 84,
   "id": "9bba2d8e-f436-499e-9502-8663c21ee408",
   "metadata": {},
   "outputs": [
    {
     "data": {
      "text/plain": [
       "['wqm_baseline', 'wqm_reference', '3c', '3l', '3m', '3n', '3o']"
      ]
     },
     "execution_count": 84,
     "metadata": {},
     "output_type": "execute_result"
    }
   ],
   "source": [
    "[*total_annual_nitrogen]"
   ]
  },
  {
   "cell_type": "code",
   "execution_count": 85,
   "id": "3702b2a5-89c5-4820-be8d-ac67d494d45b",
   "metadata": {},
   "outputs": [
    {
     "name": "stdout",
     "output_type": "stream",
     "text": [
      "2014 Conditions\n",
      "Reference\n",
      "Wr1\n",
      "Wr2\n",
      "Wr3\n",
      "Wr4\n",
      "Wr5\n"
     ]
    },
    {
     "data": {
      "text/plain": [
       "{'2014 Conditions': 1.0,\n",
       " 'Reference': 0.6605532371791281,\n",
       " 'Wr1': 0.8765361199694012,\n",
       " 'Wr2': 0.9804840340927217,\n",
       " 'Wr3': 1.123463797689411,\n",
       " 'Wr4': 0.9750308062717823,\n",
       " 'Wr5': 0.9875150917940202}"
      ]
     },
     "execution_count": 85,
     "metadata": {},
     "output_type": "execute_result"
    }
   ],
   "source": [
    "normalized_loading = {}\n",
    "for run in [*total_annual_nitrogen]:\n",
    "    # use mapping from Hyak to report names (ssm['run_information']['run_tag']['whidbey']) \n",
    "    # to get key-values with report names\n",
    "    print(ssm['run_information']['run_tag'][case][run])\n",
    "    normalized_loading[ssm['run_information']['run_tag'][case][run]] = total_annual_nitrogen[run]/total_annual_nitrogen['wqm_baseline'] \n",
    "normalized_loading\n"
   ]
  },
  {
   "cell_type": "code",
   "execution_count": 86,
   "id": "be626d39-0e34-4526-9dbf-16e020b802dc",
   "metadata": {},
   "outputs": [],
   "source": [
    "N_plot={}\n",
    "vd_plot={}\n",
    "for group in ['rivers','base']:\n",
    "    N_plot[group] = np.array([normalized_loading[run] for run in runs_renamed[group]])\n",
    "    vd_plot[group] = np.array([vol_day_norm[run] for run in runs_renamed[group]])"
   ]
  },
  {
   "cell_type": "code",
   "execution_count": 87,
   "id": "3fe88b1c-029f-40f5-a2d4-1f9a02ffc0b4",
   "metadata": {},
   "outputs": [
    {
     "data": {
      "text/plain": [
       "array([1.        , 0.87653612, 0.98048403, 1.1234638 , 0.97503081,\n",
       "       0.98751509])"
      ]
     },
     "execution_count": 87,
     "metadata": {},
     "output_type": "execute_result"
    }
   ],
   "source": [
    "N_plot['rivers']"
   ]
  },
  {
   "cell_type": "code",
   "execution_count": 88,
   "id": "9f8a5210-70f7-43e0-82f0-efb207605ccc",
   "metadata": {},
   "outputs": [
    {
     "data": {
      "image/png": "[encoded data removed]",
      "text/plain": [
       "<Figure size 360x360 with 1 Axes>"
      ]
     },
     "metadata": {
      "needs_background": "light"
     },
     "output_type": "display_data"
    }
   ],
   "source": [
    "fig, ax = plt.subplots(nrows=1, ncols=1, figsize=(5, 5),\n",
    "       gridspec_kw={\n",
    "           'width_ratios': [1],\n",
    "           'height_ratios': [1],\n",
    "       'wspace': 0.25,\n",
    "       'hspace': 0.15})\n",
    "ax.scatter(N_plot['rivers'],vd_plot['rivers'],color='teal',label='River scenarios')\n",
    "ax.scatter(N_plot['base'],vd_plot['base'],color='orange',label='2014 Conditions')\n",
    "# add run labels to graphic\n",
    "[ax.text(x=N_plot['rivers'][idx]+.005, y=vd_plot['rivers'][idx]-.25, s=run_name) for idx,run_name in enumerate(['2014 Conditions', 'Wr1', 'Wr2', 'Wr3'])]\n",
    "ax.text(x=N_plot['rivers'][5]-.035, y=vd_plot['rivers'][5]-.25, s='Wr4')\n",
    "ax.text(x=N_plot['rivers'][5]+.005, y=vd_plot['rivers'][5]-.25, s='Wr5')\n",
    "\n",
    "# plt.plot(np.unique(N_plot[rivers_2014]), np.poly1d(np.polyfit(N_plot[rivers_2014], vd_plot[rivers_2014], 1))(np.unique(N_plot[rivers_2014])), color='teal')\n",
    "# plt.plot(np.unique(N_plot[wwtp_2014]), np.poly1d(np.polyfit(N_plot[wwtp_2014], vd_plot[wwtp_2014], 1))(np.unique(N_plot[wwtp_2014])), color='purple')\n",
    "# x = np.array([.9,1,1.1])\n",
    "#plt.plot(x, 14.06516795*x + -13.07638237,'k')\n",
    "# fig.text(.15,0.825,f\"y={w_poly['rivers'][1]:2.1f}x+{w_poly['rivers'][0]:2.1f} (RMSE: {rmse['rivers']:.2f})\",color='teal')\n",
    "# fig.text(.15,0.775,f\"y={w_poly['wwtp'][1]:2.1f}x+{w_poly['wwtp'][0]:2.1f} (RMSE: {rmse['wwtp']:.2f})\",color='purple')\n",
    "ax.legend(bbox_to_anchor=(0,1),loc='upper left')\n",
    "ax.set_xlabel('normalized nitrogen loading')\n",
    "if region == \"ALL_REGIONS\":\n",
    "    ax.set_ylabel(f'normalized volume days (across all regions)')\n",
    "else:\n",
    "    ax.set_ylabel(f'normalized volume days ({region})')\n",
    "plt.savefig(f'/mmfs1/gscratch/ssmc/USRS/PSI/Rachael/projects/KingCounty/graphics/line_fits/whidbeypers_nitrogen_volumedays_fit_{region}.png', bbox_inches='tight', format='png', dpi=1000)"
   ]
  },
  {
   "cell_type": "markdown",
   "id": "e2271989-dbc6-4915-852f-aef31bf9d4c9",
   "metadata": {},
   "source": [
    "## Calculate line fits and RMSE"
   ]
  },
  {
   "cell_type": "code",
   "execution_count": 21,
   "id": "bae4d054-fad2-4faa-8b30-c7ecec4cc972",
   "metadata": {},
   "outputs": [
    {
     "name": "stdout",
     "output_type": "stream",
     "text": [
      "rmse wwtps:  0.016489417830139644\n",
      "rmse rivers:  4.3161690267511403e-13\n"
     ]
    }
   ],
   "source": [
    "w_poly={}\n",
    "rmse={}\n",
    "xvalues={}\n",
    "yvalues={}\n",
    "\n",
    "# fit_values = w_poly['rivers'][2]*N_plot[rivers_2014]**2+w_poly['rivers'][1]*N_plot[rivers_2014]+w_poly['rivers'][0]                                                          \n",
    "# rmse['rivers']=np.sqrt(np.sum((vd_plot[rivers_2014]-fit_values)**2)/len(vd_plot[rivers_2014]))\n",
    "\n",
    "# line for WWTPs\n",
    "w_poly['wwtp']=np.poly1d(np.polyfit(N_plot['wwtp'], vd_plot['wwtp'], 1))\n",
    "fit_values = w_poly['wwtp'][1]*N_plot['wwtp']+w_poly['wwtp'][0]                                                          \n",
    "rmse['wwtp']=np.sqrt(np.sum((vd_plot['wwtp']-fit_values)**2)/len(vd_plot['wwtp']))\n",
    "print('rmse wwtps: ', rmse['wwtp'])\n",
    "\n",
    "# polynnomial for rivers\n",
    "w_poly['rivers']=np.poly1d(np.polyfit(N_plot['rivers'], vd_plot['rivers'], 3))\n",
    "fit_values = w_poly['rivers'][3]*N_plot['rivers']**3+w_poly['rivers'][2]*N_plot['rivers']**2+w_poly['rivers'][1]*N_plot['rivers']+w_poly['rivers'][0] \n",
    "rmse['rivers']=np.sqrt(np.sum((vd_plot['rivers']-fit_values)**2)/len(vd_plot['rivers']))\n",
    "xvalues['rivers']=np.arange(N_plot['rivers'][0],N_plot['rivers'][-2]+.01, 0.01)\n",
    "yvalues['rivers']=w_poly['rivers'][3]*xvalues['rivers']**3+w_poly['rivers'][2]*xvalues['rivers']**2+w_poly['rivers'][1]*xvalues['rivers']+w_poly['rivers'][0] \n",
    "print('rmse rivers: ', rmse['rivers'])"
   ]
  }
 ],
 "metadata": {
  "kernelspec": {
   "display_name": "Python 3 (ipykernel)",
   "language": "python",
   "name": "python3"
  },
  "language_info": {
   "codemirror_mode": {
    "name": "ipython",
    "version": 3
   },
   "file_extension": ".py",
   "mimetype": "text/x-python",
   "name": "python",
   "nbconvert_exporter": "python",
   "pygments_lexer": "ipython3",
   "version": "3.10.4"
  }
 },
 "nbformat": 4,
 "nbformat_minor": 5
}
