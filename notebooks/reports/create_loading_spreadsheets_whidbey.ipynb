{
 "cells": [
  {
   "cell_type": "markdown",
   "id": "f06d7d06-e7f6-448b-a8c0-4ce9497ab647",
   "metadata": {},
   "source": [
    "# Quantify nutrient loading inputs\n",
    "`create_scenario_pnt_wq_v3_090622.py` is \"Python script for creating the river and point source scenario loading `ssm_pnt_wq.dat` input files\""
   ]
  },
  {
   "cell_type": "code",
   "execution_count": 1,
   "id": "3d33e826-67ef-420a-bc2b-913abdc3dfd4",
   "metadata": {},
   "outputs": [],
   "source": [
    "import sys\n",
    "import os\n",
    "import yaml\n",
    "import numpy as np\n",
    "#import pandas\n",
    "from io import StringIO\n",
    "import pandas as pd\n",
    "import pathlib\n",
    "import time\n",
    "from datetime import date\n",
    "import geopandas as gpd\n",
    "import matplotlib.pyplot as plt\n",
    "from matplotlib.offsetbox import AnchoredText\n",
    "from matplotlib.ticker import MaxNLocator\n",
    "import matplotlib as mpl"
   ]
  },
  {
   "cell_type": "markdown",
   "id": "560ca9b5-74c2-47b1-9585-8f4782f45193",
   "metadata": {},
   "source": [
    "### Define file paths"
   ]
  },
  {
   "cell_type": "code",
   "execution_count": 2,
   "id": "d554df3e-10a7-4ec3-b60c-d4aef22f8aa3",
   "metadata": {},
   "outputs": [
    {
     "name": "stdout",
     "output_type": "stream",
     "text": [
      "/mmfs1/gscratch/ssmc/USRS/PSI/Sukyong/kingcounty/WQM/WQM/hotstart/inputs/ssm_pnt_wq.dat\n",
      "/mmfs1/gscratch/ssmc/USRS/PSI/Sukyong/kingcounty/WQM_REF/WQM_REF/hotstart/inputs/ssm_pnt_wq.dat\n",
      "/mmfs1/gscratch/ssmc/USRS/PSI/Sukyong/kingcounty/3b/inputs/ssm_pnt_wq.dat\n",
      "/mmfs1/gscratch/ssmc/USRS/PSI/Sukyong/kingcounty/3e/inputs/ssm_pnt_wq.dat\n",
      "/mmfs1/gscratch/ssmc/USRS/PSI/Sukyong/kingcounty/3f/inputs/ssm_pnt_wq.dat\n",
      "/mmfs1/gscratch/ssmc/USRS/PSI/Sukyong/kingcounty/3g/inputs/ssm_pnt_wq.dat\n",
      "/mmfs1/gscratch/ssmc/USRS/PSI/Sukyong/kingcounty/3h/inputs/ssm_pnt_wq.dat\n",
      "/mmfs1/gscratch/ssmc/USRS/PSI/Sukyong/kingcounty/3i/inputs/ssm_pnt_wq.dat\n",
      "/mmfs1/gscratch/ssmc/USRS/PSI/Rachael/projects/KingCounty/SalishSeaModel/3j/hotstart/inputs/ssm_pnt_wq.dat\n",
      "/mmfs1/gscratch/ssmc/USRS/PSI/Sukyong/kingcounty/3c/inputs/ssm_pnt_wq.dat\n",
      "/mmfs1/gscratch/ssmc/USRS/PSI/Rachael/projects/KingCounty/SalishSeaModel/3l/hotstart/inputs/ssm_pnt_wq.dat\n",
      "/mmfs1/gscratch/ssmc/USRS/PSI/Sukyong/kingcounty/3m/inputs/ssm_pnt_wq.dat\n"
     ]
    }
   ],
   "source": [
    "# Get paths from configuration file\n",
    "case = 'whidbey'\n",
    "with open(f'../../etc/SSM_config_{case}.yaml', 'r') as file:\n",
    "    ssm = yaml.safe_load(file)\n",
    "# loading_dir = pathlib.Path(\"/mmfs1/gscratch/ssmc/USRS/PSI/Rachael/projects/KingCounty/SalishSeaModel/run_scenarios/input_setting\")\n",
    "runs = [*ssm['paths']['nutrient_loading_inputs']]\n",
    "loading_files = {}\n",
    "for run in runs:\n",
    "    print(ssm['paths']['nutrient_loading_inputs'][run])#loading_files[run] = loading_dir/f\"ssm_pnt_wq_{run}.dat\""
   ]
  },
  {
   "cell_type": "code",
   "execution_count": 3,
   "id": "180a680f-1cbe-4690-9657-6f47433ff1ee",
   "metadata": {},
   "outputs": [
    {
     "data": {
      "text/plain": [
       "['wqm_baseline',\n",
       " 'wqm_reference',\n",
       " '3b',\n",
       " '3e',\n",
       " '3f',\n",
       " '3g',\n",
       " '3h',\n",
       " '3i',\n",
       " '3j',\n",
       " '3c',\n",
       " '3l',\n",
       " '3m',\n",
       " '3k']"
      ]
     },
     "execution_count": 3,
     "metadata": {},
     "output_type": "execute_result"
    }
   ],
   "source": [
    "ssm['paths']['nutrient_loading_inputs']['3j']='/mmfs1/gscratch/ssmc/USRS/PSI/Rachael/projects/KingCounty/SalishSeaModel/run_scenarios/input_setting/ssm_pnt_wq_3j.dat'\n",
    "ssm['paths']['nutrient_loading_inputs']['3k']='/mmfs1/gscratch/ssmc/USRS/PSI/Rachael/projects/KingCounty/SalishSeaModel/run_scenarios/input_setting/ssm_pnt_wq_3k.dat'\n",
    "runs = [*ssm['paths']['nutrient_loading_inputs']]\n",
    "runs"
   ]
  },
  {
   "cell_type": "markdown",
   "id": "805c745a-4cad-4c84-bd8d-dbf8ca0e8142",
   "metadata": {},
   "source": [
    "### Create list of source names"
   ]
  },
  {
   "cell_type": "code",
   "execution_count": 4,
   "id": "5edf920e-adad-4ab9-8c21-d40c8be45549",
   "metadata": {},
   "outputs": [],
   "source": [
    "in_dir = pathlib.Path('/mmfs1/gscratch/ssmc/USRS/PSI/Rachael/projects/KingCounty/SalishSeaModel-spreadsheets')\n",
    "source_locations = pd.read_excel(in_dir/'ssm_pnt_wq_station_info.xlsx',index_col='Unnamed: 0')\n",
    "source_names=source_locations.index.tolist()"
   ]
  },
  {
   "cell_type": "markdown",
   "id": "a6680ff4-840c-420e-bd8c-45474a6a3855",
   "metadata": {},
   "source": [
    "### Load loading inputs\n",
    "This code comes from Ben Roberts.  I got the same results with my method but like Ben's better because it covers all variables. See [ssm_read_pnt_wq.ipynb](https://github.com/bedaro/ssm-analysis/blob/main/input_files/ssm_read_pnt_wq.ipynb)\n",
    "\n",
    "From Ben Roberts:\n",
    "```\n",
    "The discharges are in m3/s, and cover a 24-hour period (technically the model linearly interpolates between them but that doesn't change the final result). The units for most constituents are mg/l and for the nitrogen constituents it's mg-N/l == g-N/m^3.\n",
    "\n",
    "So when I load the NetCDF into a dataset named 'ds' and do this:\n",
    "(ds['discharge'][:,0] * (ds['nh4'][:,0] + ds['no32'][:,0]) * 24 * 3600).sum()\n",
    "```"
   ]
  },
  {
   "cell_type": "code",
   "execution_count": 5,
   "id": "1a4d820b-6b41-49b6-9c72-830c76352014",
   "metadata": {},
   "outputs": [],
   "source": [
    "inputs = {}\n",
    "for run in runs:\n",
    "    with open(ssm['paths']['nutrient_loading_inputs'][run]) as f:\n",
    "        # The parsing logic here is is derived from the linkage instructions for the\n",
    "        # model and direct examination of the source code\n",
    "\n",
    "        # The first line does not contain important information and is treated only like\n",
    "        # a filetype magic\n",
    "        next(f)\n",
    "\n",
    "        # The total number of discharge nodes\n",
    "        num_qs = int(next(f))\n",
    "        # All the node numbers with discharges\n",
    "        #nodes = np.loadtxt([next(f) for l in range(num_qs)], comments='!', dtype=int)\n",
    "        node_raw = StringIO('\\n'.join([next(f) for l in range(num_qs)]))\n",
    "        node_df = pd.read_csv(node_raw, sep='\\s+!\\s+', names=('Node','Comment'),\n",
    "                              dtype={'Node':np.int64,'Comment':object}, engine='python')\n",
    "        node_df.set_index('Node', inplace=True)\n",
    "        nodes = node_df.index.to_numpy()\n",
    "        # Depth distribution fractions into each node. Skipping the first (node count) column\n",
    "        vqdist = np.loadtxt([next(f) for l in range(num_qs)])[:,1:]\n",
    "\n",
    "        num_times = int(next(f))\n",
    "\n",
    "        # Initialize storage arrays\n",
    "        times = np.zeros(num_times)\n",
    "        qs = np.zeros((num_times, num_qs))\n",
    "        # State variables in the order they are present in the file. These are also going\n",
    "        # to be the NetCDF variable names\n",
    "        statevars = ('discharge', 'temp', 'salt', 'tss',  'alg1', 'alg2', 'alg3', 'zoo1',\n",
    "                                  'zoo2', 'ldoc', 'rdoc', 'lpoc', 'rpoc', 'nh4',  'no32',\n",
    "                                  'urea', 'ldon', 'rdon', 'lpon', 'rpon', 'po4',  'ldop',\n",
    "                                  'rdop', 'lpop', 'rpop', 'pip',  'cod',  'doxg', 'psi',\n",
    "                                  'dsi',  'alg1p','alg2p','alg3p','dic',  'talk')\n",
    "        inputs[run] = {}\n",
    "        for v in statevars:\n",
    "            inputs[run][v] = np.zeros((num_times, num_qs))\n",
    "\n",
    "        for t in range(num_times):\n",
    "            times[t] = float(next(f))\n",
    "            for v in statevars:\n",
    "                inputs[run][v][t,:] = np.loadtxt([next(f)])"
   ]
  },
  {
   "cell_type": "markdown",
   "id": "fdb76785-bb93-4eb1-80d6-37f56918624d",
   "metadata": {},
   "source": [
    "# Sum all loading over year  \n",
    "Sum of loading over year for Agate East, node 15634, is 4926 kg/year"
   ]
  },
  {
   "cell_type": "code",
   "execution_count": 6,
   "id": "aa4ba682-3749-43cc-aeb2-15e3fda5e4f7",
   "metadata": {},
   "outputs": [],
   "source": [
    "total_nitrogen={}\n",
    "total_annual_nitrogen={}\n",
    "loading={}\n",
    "for run in runs:\n",
    "    loading[run] = (inputs[run]['discharge'] * (inputs[run]['nh4'] + inputs[run]['no32']) * 24 * 3600)/1000 #m3/s*mg/l -> kg/day\n",
    "    total_nitrogen[run]=loading[run].sum(axis=0) # annual loading over 366 days (g/year)\n",
    "    total_annual_nitrogen[run] = total_nitrogen[run].sum() # g/year -> kg/year"
   ]
  },
  {
   "cell_type": "code",
   "execution_count": 7,
   "id": "9e5cb14e-8304-4f6f-9a59-4f238b0c33c0",
   "metadata": {},
   "outputs": [
    {
     "data": {
      "text/plain": [
       "{'wqm_baseline': 51748970.95235588,\n",
       " 'wqm_reference': 34182950.28326734,\n",
       " '3b': 50536639.020824924,\n",
       " '3e': 51711117.47875005,\n",
       " '3f': 51310140.5532341,\n",
       " '3g': 51013186.90394756,\n",
       " '3h': 51384372.397241,\n",
       " '3i': 51377785.45906244,\n",
       " '3j': 51729091.85001668,\n",
       " '3c': 45359842.21098727,\n",
       " '3l': 50739039.79951296,\n",
       " '3m': 58138095.43265276,\n",
       " '3k': 51746679.30670628}"
      ]
     },
     "execution_count": 7,
     "metadata": {},
     "output_type": "execute_result"
    }
   ],
   "source": [
    "total_annual_nitrogen"
   ]
  },
  {
   "cell_type": "code",
   "execution_count": 8,
   "id": "5023c4fd-10be-4216-bdd9-9e0e6bea7d6b",
   "metadata": {},
   "outputs": [
    {
     "data": {
      "text/plain": [
       "{'wqm_baseline': 51748970.95235588,\n",
       " 'wqm_reference': 34182950.28326734,\n",
       " '3b': 50536639.020824924,\n",
       " '3e': 51711117.47875005,\n",
       " '3f': 51310140.5532341,\n",
       " '3g': 51013186.90394756,\n",
       " '3h': 51384372.397241,\n",
       " '3i': 51377785.45906244,\n",
       " '3j': 51729091.85001668,\n",
       " '3c': 45359842.21098727,\n",
       " '3l': 50739039.79951296,\n",
       " '3m': 58138095.43265276,\n",
       " '3k': 51746679.30670628}"
      ]
     },
     "execution_count": 8,
     "metadata": {},
     "output_type": "execute_result"
    }
   ],
   "source": [
    "total_annual_nitrogen"
   ]
  },
  {
   "cell_type": "markdown",
   "id": "0babd84a-a89b-417f-b4ad-c41a52d8b27e",
   "metadata": {},
   "source": [
    "## Create dataframes to write to excel"
   ]
  },
  {
   "cell_type": "code",
   "execution_count": 9,
   "id": "c1e14695-e7b1-4a3d-82ca-c129735c1ceb",
   "metadata": {},
   "outputs": [],
   "source": [
    "total_nitrogen_df = pd.DataFrame(total_nitrogen, index=source_names) # scenario total\n",
    "total_annual_nitrogen_df = pd.DataFrame(total_annual_nitrogen,index=['total loading']) # source total (by scenario)"
   ]
  },
  {
   "cell_type": "code",
   "execution_count": 10,
   "id": "c361ba4b-2e97-447c-a865-59017579641e",
   "metadata": {},
   "outputs": [
    {
     "data": {
      "text/html": [
       "<div>\n",
       "<style scoped>\n",
       "    .dataframe tbody tr th:only-of-type {\n",
       "        vertical-align: middle;\n",
       "    }\n",
       "\n",
       "    .dataframe tbody tr th {\n",
       "        vertical-align: top;\n",
       "    }\n",
       "\n",
       "    .dataframe thead th {\n",
       "        text-align: right;\n",
       "    }\n",
       "</style>\n",
       "<table border=\"1\" class=\"dataframe\">\n",
       "  <thead>\n",
       "    <tr style=\"text-align: right;\">\n",
       "      <th></th>\n",
       "      <th>wqm_baseline</th>\n",
       "      <th>wqm_reference</th>\n",
       "      <th>3b</th>\n",
       "      <th>3e</th>\n",
       "      <th>3f</th>\n",
       "      <th>3g</th>\n",
       "      <th>3h</th>\n",
       "      <th>3i</th>\n",
       "      <th>3j</th>\n",
       "      <th>3c</th>\n",
       "      <th>3l</th>\n",
       "      <th>3m</th>\n",
       "      <th>3k</th>\n",
       "    </tr>\n",
       "  </thead>\n",
       "  <tbody>\n",
       "    <tr>\n",
       "      <th>total loading</th>\n",
       "      <td>5.174897e+07</td>\n",
       "      <td>3.418295e+07</td>\n",
       "      <td>5.053664e+07</td>\n",
       "      <td>5.171112e+07</td>\n",
       "      <td>5.131014e+07</td>\n",
       "      <td>5.101319e+07</td>\n",
       "      <td>5.138437e+07</td>\n",
       "      <td>5.137779e+07</td>\n",
       "      <td>5.172909e+07</td>\n",
       "      <td>4.535984e+07</td>\n",
       "      <td>5.073904e+07</td>\n",
       "      <td>5.813810e+07</td>\n",
       "      <td>5.174668e+07</td>\n",
       "    </tr>\n",
       "  </tbody>\n",
       "</table>\n",
       "</div>"
      ],
      "text/plain": [
       "               wqm_baseline  wqm_reference            3b            3e  \\\n",
       "total loading  5.174897e+07   3.418295e+07  5.053664e+07  5.171112e+07   \n",
       "\n",
       "                         3f            3g            3h            3i  \\\n",
       "total loading  5.131014e+07  5.101319e+07  5.138437e+07  5.137779e+07   \n",
       "\n",
       "                         3j            3c            3l            3m  \\\n",
       "total loading  5.172909e+07  4.535984e+07  5.073904e+07  5.813810e+07   \n",
       "\n",
       "                         3k  \n",
       "total loading  5.174668e+07  "
      ]
     },
     "execution_count": 10,
     "metadata": {},
     "output_type": "execute_result"
    }
   ],
   "source": [
    "total_annual_nitrogen_df"
   ]
  },
  {
   "cell_type": "code",
   "execution_count": 11,
   "id": "9db00dbb-085e-4b66-96c9-af9822068a11",
   "metadata": {},
   "outputs": [
    {
     "data": {
      "text/html": [
       "<div>\n",
       "<style scoped>\n",
       "    .dataframe tbody tr th:only-of-type {\n",
       "        vertical-align: middle;\n",
       "    }\n",
       "\n",
       "    .dataframe tbody tr th {\n",
       "        vertical-align: top;\n",
       "    }\n",
       "\n",
       "    .dataframe thead th {\n",
       "        text-align: right;\n",
       "    }\n",
       "</style>\n",
       "<table border=\"1\" class=\"dataframe\">\n",
       "  <thead>\n",
       "    <tr style=\"text-align: right;\">\n",
       "      <th></th>\n",
       "      <th>wqm_baseline</th>\n",
       "      <th>wqm_reference</th>\n",
       "      <th>3b</th>\n",
       "      <th>3e</th>\n",
       "      <th>3f</th>\n",
       "      <th>3g</th>\n",
       "      <th>3h</th>\n",
       "      <th>3i</th>\n",
       "      <th>3j</th>\n",
       "      <th>3c</th>\n",
       "      <th>3l</th>\n",
       "      <th>3m</th>\n",
       "      <th>3k</th>\n",
       "    </tr>\n",
       "  </thead>\n",
       "  <tbody>\n",
       "    <tr>\n",
       "      <th>Agate East</th>\n",
       "      <td>4925.721161</td>\n",
       "      <td>2076.954837</td>\n",
       "      <td>4925.721161</td>\n",
       "      <td>4925.721161</td>\n",
       "      <td>4925.721161</td>\n",
       "      <td>4925.721161</td>\n",
       "      <td>4925.721161</td>\n",
       "      <td>4925.721161</td>\n",
       "      <td>4925.721161</td>\n",
       "      <td>4925.721161</td>\n",
       "      <td>4925.721161</td>\n",
       "      <td>4925.721161</td>\n",
       "      <td>4925.721161</td>\n",
       "    </tr>\n",
       "    <tr>\n",
       "      <th>Agate West</th>\n",
       "      <td>936.577889</td>\n",
       "      <td>383.285032</td>\n",
       "      <td>936.577889</td>\n",
       "      <td>936.577889</td>\n",
       "      <td>936.577889</td>\n",
       "      <td>936.577889</td>\n",
       "      <td>936.577889</td>\n",
       "      <td>936.577889</td>\n",
       "      <td>936.577889</td>\n",
       "      <td>936.577889</td>\n",
       "      <td>936.577889</td>\n",
       "      <td>936.577889</td>\n",
       "      <td>936.577889</td>\n",
       "    </tr>\n",
       "    <tr>\n",
       "      <th>Anderson east</th>\n",
       "      <td>3446.356783</td>\n",
       "      <td>500.055386</td>\n",
       "      <td>3446.356783</td>\n",
       "      <td>3446.356783</td>\n",
       "      <td>3446.356783</td>\n",
       "      <td>3446.356783</td>\n",
       "      <td>3446.356783</td>\n",
       "      <td>3446.356783</td>\n",
       "      <td>3446.356783</td>\n",
       "      <td>3446.356783</td>\n",
       "      <td>3446.356783</td>\n",
       "      <td>3446.356783</td>\n",
       "      <td>3446.356783</td>\n",
       "    </tr>\n",
       "  </tbody>\n",
       "</table>\n",
       "</div>"
      ],
      "text/plain": [
       "                 wqm_baseline  wqm_reference           3b           3e  \\\n",
       "  Agate East      4925.721161    2076.954837  4925.721161  4925.721161   \n",
       "  Agate West       936.577889     383.285032   936.577889   936.577889   \n",
       "  Anderson east   3446.356783     500.055386  3446.356783  3446.356783   \n",
       "\n",
       "                          3f           3g           3h           3i  \\\n",
       "  Agate East     4925.721161  4925.721161  4925.721161  4925.721161   \n",
       "  Agate West      936.577889   936.577889   936.577889   936.577889   \n",
       "  Anderson east  3446.356783  3446.356783  3446.356783  3446.356783   \n",
       "\n",
       "                          3j           3c           3l           3m  \\\n",
       "  Agate East     4925.721161  4925.721161  4925.721161  4925.721161   \n",
       "  Agate West      936.577889   936.577889   936.577889   936.577889   \n",
       "  Anderson east  3446.356783  3446.356783  3446.356783  3446.356783   \n",
       "\n",
       "                          3k  \n",
       "  Agate East     4925.721161  \n",
       "  Agate West      936.577889  \n",
       "  Anderson east  3446.356783  "
      ]
     },
     "execution_count": 11,
     "metadata": {},
     "output_type": "execute_result"
    }
   ],
   "source": [
    "total_nitrogen_df.head(3)"
   ]
  },
  {
   "cell_type": "markdown",
   "id": "ef50b564-2bf9-44d7-a606-efe3484adb4c",
   "metadata": {},
   "source": [
    "# Create excel spreadsheet of total nitrogen loading per run"
   ]
  },
  {
   "cell_type": "code",
   "execution_count": 12,
   "id": "93baeb1f-0177-496d-a061-95ed7f4abd9b",
   "metadata": {},
   "outputs": [],
   "source": [
    "# make README \n",
    "this_file = '=HYPERLINK(\"https://github.com/UWModeling/SalishSeaModel-analysis/blob/main/notebooks/reports/QuantifyLoading.ipynb\")'\n",
    "run_description = '=HYPERLINK(\"https://github.com/RachaelDMueller/KingCounty-Rachael/blob/main/docs/supporting/KingCounty_Model_Runs.xlsx\",\"KingCounty_Model_Runs.xlsx\")'\n",
    "units='kg/year'\n",
    "created_by = 'Rachael D. Mueller'\n",
    "created_at = 'Puget Sound Institute'\n",
    "created_from = 'Model results produced by Su Kyong Yun (PNNL) and Rachael Mueller (PSI)'\n",
    "created_on = date.today().strftime(\"%B %d, %Y\")\n",
    "contact = 'Rachael D Mueller (rdmseas@uw.edu)'\n",
    "header = {\n",
    "    ' ':[created_by, created_at, created_on, this_file, \n",
    "        contact, created_from, \n",
    "        run_description, units]\n",
    "}\n",
    "header_df = pd.DataFrame(header, index=[\n",
    "    'Created by',\n",
    "    'Created at',                           \n",
    "    'Created on',\n",
    "    'Created with',\n",
    "    'Contacts',\n",
    "    'Modeling by',\n",
    "    'Model Run Overview',\n",
    "    'Units'])\n",
    "\n",
    "# Save to output to \n",
    "excel_output_path = pathlib.Path(ssm['paths']['processed_output'])/case/'spreadsheets'\n",
    "with pd.ExcelWriter(excel_output_path/f'{case}_total_nitrogen_loading.xlsx', mode='w') as writer:\n",
    "    total_annual_nitrogen_df.to_excel(writer, sheet_name='scenario_total')\n",
    "    total_nitrogen_df.to_excel(writer, sheet_name='source_total')\n",
    "    header_df.to_excel(writer, sheet_name='README')"
   ]
  },
  {
   "cell_type": "code",
   "execution_count": 13,
   "id": "bd61c177-4867-43ee-b066-250a3c1e302e",
   "metadata": {},
   "outputs": [
    {
     "ename": "KeyError",
     "evalue": "'3k'",
     "output_type": "error",
     "traceback": [
      "\u001b[0;31m---------------------------------------------------------------------------\u001b[0m",
      "\u001b[0;31mKeyError\u001b[0m                                  Traceback (most recent call last)",
      "Input \u001b[0;32mIn [13]\u001b[0m, in \u001b[0;36m<cell line: 1>\u001b[0;34m()\u001b[0m\n\u001b[0;32m----> 1\u001b[0m labels \u001b[38;5;241m=\u001b[39m [ssm[\u001b[38;5;124m'\u001b[39m\u001b[38;5;124mrun_information\u001b[39m\u001b[38;5;124m'\u001b[39m][\u001b[38;5;124m'\u001b[39m\u001b[38;5;124mrun_tag\u001b[39m\u001b[38;5;124m'\u001b[39m][\u001b[38;5;124m'\u001b[39m\u001b[38;5;124mwhidbey\u001b[39m\u001b[38;5;124m'\u001b[39m][key] \u001b[38;5;28;01mfor\u001b[39;00m key \u001b[38;5;129;01min\u001b[39;00m [\u001b[38;5;241m*\u001b[39mtotal_annual_nitrogen]]\n\u001b[1;32m      2\u001b[0m \u001b[38;5;66;03m# labels[0]='base'\u001b[39;00m\n\u001b[1;32m      3\u001b[0m \u001b[38;5;66;03m# labels[1]='ref'\u001b[39;00m\n\u001b[1;32m      4\u001b[0m plt\u001b[38;5;241m.\u001b[39mplot([total_annual_nitrogen[key]\u001b[38;5;241m/\u001b[39mtotal_annual_nitrogen[\u001b[38;5;124m'\u001b[39m\u001b[38;5;124mwqm_baseline\u001b[39m\u001b[38;5;124m'\u001b[39m] \u001b[38;5;28;01mfor\u001b[39;00m key \u001b[38;5;129;01min\u001b[39;00m [\u001b[38;5;241m*\u001b[39mtotal_annual_nitrogen]],\u001b[38;5;124m'\u001b[39m\u001b[38;5;124m.\u001b[39m\u001b[38;5;124m'\u001b[39m)\n",
      "Input \u001b[0;32mIn [13]\u001b[0m, in \u001b[0;36m<listcomp>\u001b[0;34m(.0)\u001b[0m\n\u001b[0;32m----> 1\u001b[0m labels \u001b[38;5;241m=\u001b[39m [\u001b[43mssm\u001b[49m\u001b[43m[\u001b[49m\u001b[38;5;124;43m'\u001b[39;49m\u001b[38;5;124;43mrun_information\u001b[39;49m\u001b[38;5;124;43m'\u001b[39;49m\u001b[43m]\u001b[49m\u001b[43m[\u001b[49m\u001b[38;5;124;43m'\u001b[39;49m\u001b[38;5;124;43mrun_tag\u001b[39;49m\u001b[38;5;124;43m'\u001b[39;49m\u001b[43m]\u001b[49m\u001b[43m[\u001b[49m\u001b[38;5;124;43m'\u001b[39;49m\u001b[38;5;124;43mwhidbey\u001b[39;49m\u001b[38;5;124;43m'\u001b[39;49m\u001b[43m]\u001b[49m\u001b[43m[\u001b[49m\u001b[43mkey\u001b[49m\u001b[43m]\u001b[49m \u001b[38;5;28;01mfor\u001b[39;00m key \u001b[38;5;129;01min\u001b[39;00m [\u001b[38;5;241m*\u001b[39mtotal_annual_nitrogen]]\n\u001b[1;32m      2\u001b[0m \u001b[38;5;66;03m# labels[0]='base'\u001b[39;00m\n\u001b[1;32m      3\u001b[0m \u001b[38;5;66;03m# labels[1]='ref'\u001b[39;00m\n\u001b[1;32m      4\u001b[0m plt\u001b[38;5;241m.\u001b[39mplot([total_annual_nitrogen[key]\u001b[38;5;241m/\u001b[39mtotal_annual_nitrogen[\u001b[38;5;124m'\u001b[39m\u001b[38;5;124mwqm_baseline\u001b[39m\u001b[38;5;124m'\u001b[39m] \u001b[38;5;28;01mfor\u001b[39;00m key \u001b[38;5;129;01min\u001b[39;00m [\u001b[38;5;241m*\u001b[39mtotal_annual_nitrogen]],\u001b[38;5;124m'\u001b[39m\u001b[38;5;124m.\u001b[39m\u001b[38;5;124m'\u001b[39m)\n",
      "\u001b[0;31mKeyError\u001b[0m: '3k'"
     ]
    }
   ],
   "source": [
    "labels = [ssm['run_information']['run_tag']['whidbey'][key] for key in [*total_annual_nitrogen]]\n",
    "# labels[0]='base'\n",
    "# labels[1]='ref'\n",
    "plt.plot([total_annual_nitrogen[key]/total_annual_nitrogen['wqm_baseline'] for key in [*total_annual_nitrogen]],'.')\n",
    "plt.title('Normalized total annual nitrogen loading')\n",
    "plt.ylabel('kg/year]')\n",
    "plt.xticks(np.arange(0,12),labels,rotation=90)"
   ]
  },
  {
   "cell_type": "markdown",
   "id": "faa945af-e78f-4c78-b30b-aa2e13c2016b",
   "metadata": {},
   "source": [
    "# Plot normalized loading values and regressions"
   ]
  },
  {
   "cell_type": "code",
   "execution_count": 12,
   "id": "766e5f35-1455-41a4-9a94-a0a74e8ac3bf",
   "metadata": {},
   "outputs": [],
   "source": [
    "river_runs = ssm['run_information']['Whidbey_rivers']\n",
    "wwtp_runs = ssm['run_information']['Whidbey_WWTPs']\n",
    "#remove reference b/c we don't calculate volume days noncompliance for reference case\n",
    "# river_runs.pop('wqm_reference')\n",
    "# wwtp_runs.pop('wqm_reference')\n",
    "# wwtp_runs.pop('Wtp7')"
   ]
  },
  {
   "cell_type": "code",
   "execution_count": 13,
   "id": "e446a657-ea06-47ad-a854-94fc87927c20",
   "metadata": {},
   "outputs": [
    {
     "data": {
      "text/plain": [
       "['wqm_baseline', 'wqm_reference', '3b', '3e', '3f', '3g', '3h', '3i', '3j']"
      ]
     },
     "execution_count": 13,
     "metadata": {},
     "output_type": "execute_result"
    }
   ],
   "source": [
    "[*wwtp_runs]"
   ]
  },
  {
   "cell_type": "markdown",
   "id": "1a14eab1-d0f0-4d65-8d91-8b9e7aaa5bfc",
   "metadata": {},
   "source": [
    "## Create lists of runs for coloring plot markers"
   ]
  },
  {
   "cell_type": "code",
   "execution_count": 14,
   "id": "41203302-96cc-48f2-8bd4-f55c36069055",
   "metadata": {},
   "outputs": [
    {
     "data": {
      "text/plain": [
       "['2014 Conditions', 'Wtp1', 'Wtp2', 'Wtp3', 'Wtp4', 'Wtp5', 'Wtp6']"
      ]
     },
     "execution_count": 14,
     "metadata": {},
     "output_type": "execute_result"
    }
   ],
   "source": [
    "runs_renamed={}\n",
    "runs_renamed['rivers']=[ssm['run_information']['run_tag']['whidbey'][key] for key in [*river_runs]]\n",
    "runs_renamed['wwtp']=[ssm['run_information']['run_tag']['whidbey'][key] for key in [*wwtp_runs]]\n",
    "runs_renamed['base']=['2014 Conditions']\n",
    "# Wtp7 needs to be re-done.   Removing from graphic\n",
    "runs_renamed['wwtp'].remove('Wtp7')\n",
    "runs_renamed['wwtp'].remove('Reference')\n",
    "runs_renamed['rivers'].remove('Reference')\n",
    "runs_renamed['wwtp']"
   ]
  },
  {
   "cell_type": "code",
   "execution_count": 15,
   "id": "4d9b6197-dace-4ac5-8199-09b30c24aab3",
   "metadata": {},
   "outputs": [
    {
     "data": {
      "text/plain": [
       "['2014 Conditions', 'Wr1', 'Wr2', 'Wr3']"
      ]
     },
     "execution_count": 15,
     "metadata": {},
     "output_type": "execute_result"
    }
   ],
   "source": [
    "runs_renamed['rivers']"
   ]
  },
  {
   "cell_type": "markdown",
   "id": "18b515de-4e36-4dcf-b0b4-683308519ad6",
   "metadata": {},
   "source": [
    "## Create normalized volume days values"
   ]
  },
  {
   "cell_type": "code",
   "execution_count": 16,
   "id": "eaf1c773-4dde-4c49-ae4d-a2b76766d301",
   "metadata": {},
   "outputs": [
    {
     "data": {
      "text/plain": [
       "{'2014 Conditions': 1.0,\n",
       " 'Wtp1': 0.6715025960385523,\n",
       " 'Wtp2': 0.9901701010059237,\n",
       " 'Wtp3': 0.8482532387273433,\n",
       " 'Wtp4': 0.786135191181453,\n",
       " 'Wtp5': 0.862071811635803,\n",
       " 'Wtp6': 0.9043317644073674,\n",
       " 'Wr1': 0.028883478058174487,\n",
       " 'Wr2': 0.7852548079536077,\n",
       " 'Wr3': 5.149649311438766}"
      ]
     },
     "execution_count": 16,
     "metadata": {},
     "output_type": "execute_result"
    }
   ],
   "source": [
    "region = 'ALL_REGIONS' # 'Whidbey' # \n",
    "\n",
    "whidbey_nc = pd.read_excel('/mmfs1/gscratch/ssmc/USRS/PSI/Rachael/projects/KingCounty/data/whidbey/spreadsheets/whidbey_wc_noncompliant_m0p25.xlsx',\n",
    "                           sheet_name='Volume_Days',\n",
    "                          index_col=\"Unnamed: 0\")\n",
    "whidbey_vd_norm={}\n",
    "for run in [*whidbey_nc]:\n",
    "    whidbey_vd_norm[run] = whidbey_nc[run][region]/whidbey_nc['2014 Conditions'][region]\n",
    "whidbey_vd_norm"
   ]
  },
  {
   "cell_type": "markdown",
   "id": "03bbc0ec-89ac-49e6-8f17-59630f10718e",
   "metadata": {},
   "source": [
    "## Create normalized loading values"
   ]
  },
  {
   "cell_type": "code",
   "execution_count": 17,
   "id": "3702b2a5-89c5-4820-be8d-ac67d494d45b",
   "metadata": {},
   "outputs": [
    {
     "data": {
      "text/plain": [
       "{'2014 Conditions': 1.0,\n",
       " 'Reference': 0.6605532371791281,\n",
       " 'Wtp1': 0.9765728301602921,\n",
       " 'Wtp2': 0.999268517365482,\n",
       " 'Wtp3': 0.9915200168999342,\n",
       " 'Wtp4': 0.9857816680241673,\n",
       " 'Wtp5': 0.9929544771923956,\n",
       " 'Wtp6': 0.9928271908317717,\n",
       " 'Wr1': 0.8765361199694012,\n",
       " 'Wr2': 0.9804840340927217,\n",
       " 'Wr3': 1.123463797689411}"
      ]
     },
     "execution_count": 17,
     "metadata": {},
     "output_type": "execute_result"
    }
   ],
   "source": [
    "normalized_loading = {}\n",
    "for run in [*total_annual_nitrogen]:\n",
    "    # use mapping from Hyak to report names (ssm['run_information']['run_tag']['whidbey']) \n",
    "    # to get key-values with report names\n",
    "    normalized_loading[ssm['run_information']['run_tag']['whidbey'][run]] = total_annual_nitrogen[run]/total_annual_nitrogen['wqm_baseline'] \n",
    "normalized_loading.pop('Wtp7')\n",
    "normalized_loading\n"
   ]
  },
  {
   "cell_type": "code",
   "execution_count": 18,
   "id": "be626d39-0e34-4526-9dbf-16e020b802dc",
   "metadata": {},
   "outputs": [],
   "source": [
    "N_plot={}\n",
    "vd_plot={}\n",
    "for group in ['rivers','wwtp','base']:\n",
    "    N_plot[group] = np.array([normalized_loading[run] for run in runs_renamed[group]])\n",
    "    vd_plot[group] = np.array([whidbey_vd_norm[run] for run in runs_renamed[group]])"
   ]
  },
  {
   "cell_type": "code",
   "execution_count": 19,
   "id": "3fe88b1c-029f-40f5-a2d4-1f9a02ffc0b4",
   "metadata": {},
   "outputs": [
    {
     "data": {
      "text/plain": [
       "array([1.        , 0.87653612, 0.98048403, 1.1234638 ])"
      ]
     },
     "execution_count": 19,
     "metadata": {},
     "output_type": "execute_result"
    }
   ],
   "source": [
    "N_plot['rivers']"
   ]
  },
  {
   "cell_type": "code",
   "execution_count": 20,
   "id": "9f8a5210-70f7-43e0-82f0-efb207605ccc",
   "metadata": {},
   "outputs": [
    {
     "name": "stderr",
     "output_type": "stream",
     "text": [
      "findfont: Font family ['arial'] not found. Falling back to DejaVu Sans.\n"
     ]
    },
    {
     "data": {
      "image/png": "[encoded data removed]",
      "text/plain": [
       "<Figure size 360x360 with 1 Axes>"
      ]
     },
     "metadata": {
      "needs_background": "light"
     },
     "output_type": "display_data"
    }
   ],
   "source": [
    "fig, ax = plt.subplots(nrows=1, ncols=1, figsize=(5, 5),\n",
    "       gridspec_kw={\n",
    "           'width_ratios': [1],\n",
    "           'height_ratios': [1],\n",
    "       'wspace': 0.25,\n",
    "       'hspace': 0.15})\n",
    "ax.scatter(N_plot['rivers'],vd_plot['rivers'],color='teal',label='River scenarios')\n",
    "ax.scatter(N_plot['wwtp'],vd_plot['wwtp'],color='purple',label='WWTP scenarios')\n",
    "ax.scatter(N_plot['base'],vd_plot['base'],color='orange',label='2014 Conditions')\n",
    "# plt.plot(np.unique(N_plot[rivers_2014]), np.poly1d(np.polyfit(N_plot[rivers_2014], vd_plot[rivers_2014], 1))(np.unique(N_plot[rivers_2014])), color='teal')\n",
    "# plt.plot(np.unique(N_plot[wwtp_2014]), np.poly1d(np.polyfit(N_plot[wwtp_2014], vd_plot[wwtp_2014], 1))(np.unique(N_plot[wwtp_2014])), color='purple')\n",
    "# x = np.array([.9,1,1.1])\n",
    "#plt.plot(x, 14.06516795*x + -13.07638237,'k')\n",
    "# fig.text(.15,0.825,f\"y={w_poly['rivers'][1]:2.1f}x+{w_poly['rivers'][0]:2.1f} (RMSE: {rmse['rivers']:.2f})\",color='teal')\n",
    "# fig.text(.15,0.775,f\"y={w_poly['wwtp'][1]:2.1f}x+{w_poly['wwtp'][0]:2.1f} (RMSE: {rmse['wwtp']:.2f})\",color='purple')\n",
    "ax.legend(bbox_to_anchor=(1,1),loc='upper left')\n",
    "ax.set_xlabel('normalized nitrogen loading')\n",
    "if region == \"ALL_REGIONS\":\n",
    "    ax.set_ylabel(f'normalized volume days (across all regions)')\n",
    "else:\n",
    "    ax.set_ylabel(f'normalized volume days ({region})')"
   ]
  },
  {
   "cell_type": "markdown",
   "id": "e2271989-dbc6-4915-852f-aef31bf9d4c9",
   "metadata": {},
   "source": [
    "## Calculate line fits and RMSE"
   ]
  },
  {
   "cell_type": "code",
   "execution_count": 21,
   "id": "bae4d054-fad2-4faa-8b30-c7ecec4cc972",
   "metadata": {},
   "outputs": [
    {
     "name": "stdout",
     "output_type": "stream",
     "text": [
      "rmse wwtps:  0.016489417830139644\n",
      "rmse rivers:  4.3161690267511403e-13\n"
     ]
    }
   ],
   "source": [
    "w_poly={}\n",
    "rmse={}\n",
    "xvalues={}\n",
    "yvalues={}\n",
    "\n",
    "# fit_values = w_poly['rivers'][2]*N_plot[rivers_2014]**2+w_poly['rivers'][1]*N_plot[rivers_2014]+w_poly['rivers'][0]                                                          \n",
    "# rmse['rivers']=np.sqrt(np.sum((vd_plot[rivers_2014]-fit_values)**2)/len(vd_plot[rivers_2014]))\n",
    "\n",
    "# line for WWTPs\n",
    "w_poly['wwtp']=np.poly1d(np.polyfit(N_plot['wwtp'], vd_plot['wwtp'], 1))\n",
    "fit_values = w_poly['wwtp'][1]*N_plot['wwtp']+w_poly['wwtp'][0]                                                          \n",
    "rmse['wwtp']=np.sqrt(np.sum((vd_plot['wwtp']-fit_values)**2)/len(vd_plot['wwtp']))\n",
    "print('rmse wwtps: ', rmse['wwtp'])\n",
    "\n",
    "# polynnomial for rivers\n",
    "w_poly['rivers']=np.poly1d(np.polyfit(N_plot['rivers'], vd_plot['rivers'], 3))\n",
    "fit_values = w_poly['rivers'][3]*N_plot['rivers']**3+w_poly['rivers'][2]*N_plot['rivers']**2+w_poly['rivers'][1]*N_plot['rivers']+w_poly['rivers'][0] \n",
    "rmse['rivers']=np.sqrt(np.sum((vd_plot['rivers']-fit_values)**2)/len(vd_plot['rivers']))\n",
    "xvalues['rivers']=np.arange(N_plot['rivers'][0],N_plot['rivers'][-2]+.01, 0.01)\n",
    "yvalues['rivers']=w_poly['rivers'][3]*xvalues['rivers']**3+w_poly['rivers'][2]*xvalues['rivers']**2+w_poly['rivers'][1]*xvalues['rivers']+w_poly['rivers'][0] \n",
    "print('rmse rivers: ', rmse['rivers'])"
   ]
  },
  {
   "cell_type": "markdown",
   "id": "69ed54ba-b897-424c-8d5b-1c86675ca7fc",
   "metadata": {},
   "source": [
    "## Create 2-panel graphic"
   ]
  },
  {
   "cell_type": "code",
   "execution_count": 22,
   "id": "80301120-2a49-4ff7-b75d-15e4b7a3b1a4",
   "metadata": {},
   "outputs": [
    {
     "data": {
      "image/png": "[encoded data removed]",
      "text/plain": [
       "<Figure size 720x360 with 2 Axes>"
      ]
     },
     "metadata": {
      "needs_background": "light"
     },
     "output_type": "display_data"
    }
   ],
   "source": [
    "fig, ax = plt.subplots(nrows=1, ncols=2, figsize=(10, 5),\n",
    "       gridspec_kw={\n",
    "           'width_ratios': [1,1],\n",
    "           'height_ratios': [1],\n",
    "       'wspace': 0.25,\n",
    "       'hspace': 0.15})\n",
    "# plot up wwtp scenarios \n",
    "ax[0].scatter(N_plot['wwtp'],vd_plot['wwtp'],color='purple',label='WWTP scenarios')\n",
    "ax[0].scatter(N_plot['base'],vd_plot['base'],color='orange',label='2014 Conditions')\n",
    "ax[0].plot(np.unique(N_plot['wwtp']), np.poly1d(np.polyfit(N_plot['wwtp'], vd_plot['wwtp'], 1))(np.unique(N_plot['wwtp'])), color='purple')\n",
    "# add text for line fit\n",
    "fig.text(.135,0.75,f\"y={w_poly['wwtp'][1]:2.0f}x+{w_poly['wwtp'][0]:2.0f} (RMSE: {rmse['wwtp']:.2f})\",color='purple')\n",
    "# add run labels to graphic\n",
    "[ax[0].text(x=N_plot['wwtp'][idx]+.001, y=vd_plot['wwtp'][idx]-.02, s=run_name) for idx,run_name in enumerate(runs_renamed['wwtp'])]\n",
    "# legends and labels\n",
    "ax[0].legend(loc='upper left')#bbox_to_anchor=(1,1),loc='upper left')\n",
    "ax[0].set_xlabel('normalized nitrogen loading')\n",
    "ax[0].set_xlim(0.97,1.01)\n",
    "ax[0].set_ylim(0,1.1)\n",
    "ax[0].set_title('WWTP scenarios')\n",
    "if region == \"ALL_REGIONS\":\n",
    "    ax[0].set_ylabel(f'normalized volume days (across all regions)')\n",
    "else:\n",
    "    ax[0].set_ylabel(f'normalized volume days ({region.lower()})')\n",
    "    \n",
    "# plot river scenarios\n",
    "ax[1].scatter(N_plot['rivers'],vd_plot['rivers'],color='teal',label='River scenarios')\n",
    "ax[1].scatter(N_plot['base'],vd_plot['base'],color='orange',label='2014 Conditions')\n",
    "ax[1].plot(np.unique(N_plot['rivers']), np.poly1d(np.polyfit(N_plot['rivers'], vd_plot['rivers'], 3))(np.unique(N_plot['rivers'])), color='teal')\n",
    "# add text for line fit\n",
    "fig.text(.565,0.71,f\"y={w_poly['rivers'][3]:2.0f}x$^3$+{w_poly['rivers'][2]:2.0f}x$^2$+{w_poly['rivers'][1]:2.0f}x+{w_poly['rivers'][0]:2.0f}\\n(RMSE: {rmse['wwtp']:.2f})\",color='teal')\n",
    "# add run labels to graphic\n",
    "[ax[1].text(x=N_plot['rivers'][idx]+.005, y=vd_plot['rivers'][idx]-.25, s=run_name) for idx,run_name in enumerate(runs_renamed['rivers'])]\n",
    "#legends and labels\n",
    "ax[1].legend(loc='upper left')#bbox_to_anchor=(1,1),loc='upper left')\n",
    "ax[1].set_xlabel('normalized nitrogen loading')\n",
    "ax[1].set_xlim(0.85, 1.16)\n",
    "#ax[1].set_xlim(0.85,1.15)\n",
    "#ax[1].set_ylim(0,11)\n",
    "ax[1].set_title('River scenarios')\n",
    "# if region == \"ALL_REGIONS\":\n",
    "#     ax[1].set_ylabel(f'normalized volume days (across all regions)')\n",
    "# else:\n",
    "#     ax[1].set_ylabel(f'normalized volume days ({region.lower()})')\n",
    "\n",
    "plt.savefig(f'/mmfs1/gscratch/ssmc/USRS/PSI/Rachael/projects/KingCounty/graphics/line_fits/whidbey_nitrogen_volumedays_fit_{region}_2panel.png', bbox_inches='tight', format='png', dpi=1000)"
   ]
  },
  {
   "cell_type": "markdown",
   "id": "7c6a0249-cda4-453d-ac86-5b3af1f69677",
   "metadata": {},
   "source": [
    "# Create a 2-panel graphic with exponential fit"
   ]
  },
  {
   "cell_type": "code",
   "execution_count": 26,
   "id": "775fa33d-a2bf-4898-8f48-c50e2aafc319",
   "metadata": {},
   "outputs": [
    {
     "data": {
      "image/png": "[encoded data removed]",
      "text/plain": [
       "<Figure size 720x360 with 2 Axes>"
      ]
     },
     "metadata": {
      "needs_background": "light"
     },
     "output_type": "display_data"
    }
   ],
   "source": [
    "fig, ax = plt.subplots(nrows=1, ncols=2, figsize=(10, 5),\n",
    "       gridspec_kw={\n",
    "           'width_ratios': [1,1],\n",
    "           'height_ratios': [1],\n",
    "       'wspace': 0.25,\n",
    "       'hspace': 0.15})\n",
    "# plot up wwtp scenarios \n",
    "ax[0].scatter(N_plot['wwtp'],vd_plot['wwtp'],color='purple',label='WWTP scenarios')\n",
    "ax[0].scatter(N_plot['base'],vd_plot['base'],color='orange',label='2014 Conditions')\n",
    "ax[0].plot(\n",
    "    np.unique(N_plot['wwtp']), \n",
    "    np.poly1d(np.polyfit(N_plot['wwtp'], vd_plot['wwtp'], 1))(np.unique(N_plot['wwtp'])), \n",
    "    color='purple'\n",
    ")\n",
    "# add text for line fit\n",
    "fig.text(.135,0.75,f\"y={w_poly['wwtp'][1]:2.0f}x+{w_poly['wwtp'][0]:2.0f} (RMSE: {rmse['wwtp']:.2f})\",color='purple')\n",
    "# add run labels to graphic\n",
    "[ax[0].text(x=N_plot['wwtp'][idx]+.001, y=vd_plot['wwtp'][idx]-.02, s=run_name) for idx,run_name in enumerate(runs_renamed['wwtp'])]\n",
    "# legends and labels\n",
    "ax[0].legend(loc='upper left')#bbox_to_anchor=(1,1),loc='upper left')\n",
    "ax[0].set_xlabel('normalized nitrogen loading')\n",
    "ax[0].set_xlim(0.97,1.01)\n",
    "if region != \"Whidbey\":\n",
    "    ax[0].set_ylim(0.5,1.1)\n",
    "ax[0].set_title('WWTP scenarios')\n",
    "if region == \"ALL_REGIONS\":\n",
    "    ax[0].set_ylabel(f'normalized volume days (across all regions)')\n",
    "else:\n",
    "    ax[0].set_ylabel(f'normalized volume days ({region.lower()})')\n",
    "    \n",
    "# plot river scenarios\n",
    "ax[1].scatter(N_plot['rivers'],vd_plot['rivers'],color='teal',label='River scenarios')\n",
    "ax[1].scatter(N_plot['base'],vd_plot['base'],color='orange',label='2014 Conditions')\n",
    "\n",
    "# Create exponential fit\n",
    "C = np.polyfit(N_plot['rivers'][[0,2,3]], np.log(vd_plot['rivers'][[0,2,3]]), 1)\n",
    "xpoints = np.arange(0.85,1.15,0.01)\n",
    "river_fit = (\n",
    "    np.exp(C[1])* \n",
    "    np.exp(C[0]*xpoints)\n",
    ")\n",
    "ax[1].plot(xpoints,river_fit, \n",
    "    color='teal'\n",
    ")\n",
    "fit_values = np.exp(C[1])*np.exp(C[0]*N_plot['rivers'])\n",
    "rmse['rivers']=np.sqrt(np.sum((vd_plot['rivers']-fit_values)**2)/len(vd_plot['rivers']))\n",
    "# add text for line fit\n",
    "fig.text(.565,0.75,f\"y={np.exp(C[1]):.02e}e^({C[0]:.02f}x) (RMSE: {rmse['rivers']:.2f})\",color='teal')\n",
    "# add run labels to graphic\n",
    "[ax[1].text(x=N_plot['rivers'][idx]+.005, y=vd_plot['rivers'][idx]-.25, s=run_name) for idx,run_name in enumerate(runs_renamed['rivers'])]\n",
    "#legends and labels\n",
    "ax[1].legend(loc='upper left')#bbox_to_anchor=(1,1),loc='upper left')\n",
    "ax[1].set_xlabel('normalized nitrogen loading')\n",
    "ax[1].set_xlim(0.85, 1.16)\n",
    "ax[1].set_title('River scenarios')\n",
    "plt.savefig(f'/mmfs1/gscratch/ssmc/USRS/PSI/Rachael/projects/KingCounty/graphics/line_fits/whidbey_nitrogen_volumedays_fit_{region}_2panel_exp.png', bbox_inches='tight', format='png', dpi=1000)"
   ]
  },
  {
   "cell_type": "code",
   "execution_count": 24,
   "id": "8dab3d8e-14b4-4983-8604-4941c060fa2f",
   "metadata": {},
   "outputs": [
    {
     "data": {
      "image/png": "[encoded data removed]",
      "text/plain": [
       "<Figure size 360x360 with 1 Axes>"
      ]
     },
     "metadata": {
      "needs_background": "light"
     },
     "output_type": "display_data"
    }
   ],
   "source": [
    "fig, ax = plt.subplots(nrows=1, ncols=1, figsize=(5, 5),\n",
    "       gridspec_kw={\n",
    "           'width_ratios': [1],\n",
    "           'height_ratios': [1],\n",
    "       'wspace': 0.25,\n",
    "       'hspace': 0.15})\n",
    "ax.scatter(N_plot['rivers'],vd_plot['rivers'],color='teal',label='River scenarios')\n",
    "#ax.scatter(N_plot['wwtp'],vd_plot['wwtp'],color='purple',label='WWTP scenarios')\n",
    "ax.scatter(N_plot['base'],vd_plot['base'],color='orange',label='2014 Conditions')\n",
    "# plt.plot(np.unique(N_plot[rivers_2014]), np.poly1d(np.polyfit(N_plot[rivers_2014], vd_plot[rivers_2014], 1))(np.unique(N_plot[rivers_2014])), color='teal')\n",
    "# plt.plot(np.unique(N_plot[wwtp_2014]), np.poly1d(np.polyfit(N_plot[wwtp_2014], vd_plot[wwtp_2014], 1))(np.unique(N_plot[wwtp_2014])), color='purple')\n",
    "# x = np.array([.9,1,1.1])\n",
    "#plt.plot(x, 14.06516795*x + -13.07638237,'k')\n",
    "# fig.text(.15,0.825,f\"y={w_poly['rivers'][1]:2.1f}x+{w_poly['rivers'][0]:2.1f} (RMSE: {rmse['rivers']:.2f})\",color='teal')\n",
    "# fig.text(.15,0.775,f\"y={w_poly['wwtp'][1]:2.1f}x+{w_poly['wwtp'][0]:2.1f} (RMSE: {rmse['wwtp']:.2f})\",color='purple')\n",
    "ax.legend(loc='upper left')#bbox_to_anchor=(1,1),loc='upper left')\n",
    "ax.set_xlabel('normalized nitrogen loading')\n",
    "ax.set_xlim(0.85,1.15)\n",
    "ax.set_title('River scenarios')\n",
    "# add run labels to graphic\n",
    "[plt.text(x=N_plot['rivers'][idx]+.005, y=vd_plot['rivers'][idx]-.1, s=run_name) for idx,run_name in enumerate(runs_renamed['rivers'])]\n",
    "if region == \"ALL_REGIONS\":\n",
    "    ax.set_ylabel(f'normalized volume days (across all regions)')\n",
    "else:\n",
    "    ax.set_ylabel(f'normalized volume days ({region})')"
   ]
  },
  {
   "cell_type": "markdown",
   "id": "6d7e58fa-e09e-425a-a3ba-9dc52af4bd88",
   "metadata": {},
   "source": [
    "# My original method below (before adapting Ben's)"
   ]
  },
  {
   "cell_type": "code",
   "execution_count": 25,
   "id": "297ccb80-5a9f-4ff5-9472-22ef19227078",
   "metadata": {},
   "outputs": [
    {
     "ename": "KeyError",
     "evalue": "'wqm_baseline'",
     "output_type": "error",
     "traceback": [
      "\u001b[0;31m---------------------------------------------------------------------------\u001b[0m",
      "\u001b[0;31mKeyError\u001b[0m                                  Traceback (most recent call last)",
      "Input \u001b[0;32mIn [25]\u001b[0m, in \u001b[0;36m<cell line: 2>\u001b[0;34m()\u001b[0m\n\u001b[1;32m      1\u001b[0m loading \u001b[38;5;241m=\u001b[39m {}\n\u001b[1;32m      2\u001b[0m \u001b[38;5;28;01mfor\u001b[39;00m run \u001b[38;5;129;01min\u001b[39;00m runs:\n\u001b[0;32m----> 3\u001b[0m     \u001b[38;5;28;01mwith\u001b[39;00m \u001b[38;5;28mopen\u001b[39m(\u001b[43mloading_files\u001b[49m\u001b[43m[\u001b[49m\u001b[43mrun\u001b[49m\u001b[43m]\u001b[49m, \u001b[38;5;124m'\u001b[39m\u001b[38;5;124mr\u001b[39m\u001b[38;5;124m'\u001b[39m) \u001b[38;5;28;01mas\u001b[39;00m file:\n\u001b[1;32m      4\u001b[0m         \u001b[38;5;28mprint\u001b[39m(\u001b[38;5;124mf\u001b[39m\u001b[38;5;124m'\u001b[39m\u001b[38;5;124mloading \u001b[39m\u001b[38;5;132;01m{\u001b[39;00mloading_files[run]\u001b[38;5;241m.\u001b[39mname\u001b[38;5;132;01m}\u001b[39;00m\u001b[38;5;124m'\u001b[39m)\n\u001b[1;32m      5\u001b[0m         \u001b[38;5;66;03m#loading[run]=pandas.read_csv(file,skiprows=261, nrows=258, delimiter=' ')\u001b[39;00m\n",
      "\u001b[0;31mKeyError\u001b[0m: 'wqm_baseline'"
     ]
    }
   ],
   "source": [
    "loading = {}\n",
    "for run in runs:\n",
    "    with open(loading_files[run], 'r') as file:\n",
    "        print(f'loading {loading_files[run].name}')\n",
    "        #loading[run]=pandas.read_csv(file,skiprows=261, nrows=258, delimiter=' ')\n",
    "        loading[run] = pandas.read_csv(file, skiprows=522, delimiter=' ', header=None)#, names=source_names)\n",
    "        # the row starts with a space so the first column is no-data.  \n",
    "        # remove the no-data column\n",
    "        loading[run]=loading[run].drop([0], axis=1)\n",
    "        # create a dictionary with keys being column names and values being the nutrient loading source name\n",
    "        name_mapper = {[*loading[run]][i]: source_names[i] for i in range(len([*loading[run]]))}\n",
    "        # rename columns to source names\n",
    "        loading[run]=loading[run].rename(columns = name_mapper)"
   ]
  },
  {
   "cell_type": "code",
   "execution_count": null,
   "id": "1e1fa0f3-9f9d-4baa-8f5a-1059840e1c37",
   "metadata": {},
   "outputs": [],
   "source": []
  }
 ],
 "metadata": {
  "kernelspec": {
   "display_name": "Python 3 (ipykernel)",
   "language": "python",
   "name": "python3"
  },
  "language_info": {
   "codemirror_mode": {
    "name": "ipython",
    "version": 3
   },
   "file_extension": ".py",
   "mimetype": "text/x-python",
   "name": "python",
   "nbconvert_exporter": "python",
   "pygments_lexer": "ipython3",
   "version": "3.10.4"
  }
 },
 "nbformat": 4,
 "nbformat_minor": 5
}
