{
 "cells": [
  {
   "cell_type": "code",
   "execution_count": 1,
   "id": "cfd00350-ab7f-4504-b3d5-ea057f1b6354",
   "metadata": {},
   "outputs": [],
   "source": [
    "import sys\n",
    "import os\n",
    "import yaml\n",
    "import numpy as np\n",
    "#import pandas\n",
    "from io import StringIO\n",
    "import pandas as pd\n",
    "import pathlib\n",
    "import time\n",
    "from datetime import date\n",
    "import geopandas as gpd\n",
    "import matplotlib.pyplot as plt\n",
    "from matplotlib.offsetbox import AnchoredText\n",
    "from matplotlib.ticker import MaxNLocator\n",
    "import matplotlib as mpl"
   ]
  },
  {
   "cell_type": "code",
   "execution_count": 7,
   "id": "5a3bd207-802f-4336-8ff0-357dcc651076",
   "metadata": {},
   "outputs": [
    {
     "name": "stdout",
     "output_type": "stream",
     "text": [
      "/mmfs1/gscratch/ssmc/USRS/PSI/Sukyong/kingcounty/WQM/WQM/hotstart/inputs/ssm_pnt_wq.dat\n",
      "/mmfs1/gscratch/ssmc/USRS/PSI/Sukyong/kingcounty/WQM_REF/WQM_REF/hotstart/inputs/ssm_pnt_wq.dat\n",
      "/mmfs1/gscratch/ssmc/USRS/PSI/Sukyong/kingcounty/3b/inputs/ssm_pnt_wq.dat\n",
      "/mmfs1/gscratch/ssmc/USRS/PSI/Sukyong/kingcounty/3e/inputs/ssm_pnt_wq.dat\n",
      "/mmfs1/gscratch/ssmc/USRS/PSI/Sukyong/kingcounty/3f/inputs/ssm_pnt_wq.dat\n",
      "/mmfs1/gscratch/ssmc/USRS/PSI/Sukyong/kingcounty/3g/inputs/ssm_pnt_wq.dat\n",
      "/mmfs1/gscratch/ssmc/USRS/PSI/Sukyong/kingcounty/3h/inputs/ssm_pnt_wq.dat\n",
      "/mmfs1/gscratch/ssmc/USRS/PSI/Sukyong/kingcounty/3i/inputs/ssm_pnt_wq.dat\n",
      "/mmfs1/gscratch/ssmc/USRS/PSI/Rachael/projects/KingCounty/SalishSeaModel/3j/hotstart/inputs/ssm_pnt_wq.dat\n",
      "/mmfs1/gscratch/ssmc/USRS/PSI/Rachael/projects/KingCounty/SalishSeaModel/3k/hotstart/inputs/ssm_pnt_wq.dat\n",
      "/mmfs1/gscratch/ssmc/USRS/PSI/Sukyong/kingcounty/3c/inputs/ssm_pnt_wq.dat\n",
      "/mmfs1/gscratch/ssmc/USRS/PSI/Rachael/projects/KingCounty/SalishSeaModel/3l/hotstart/inputs/ssm_pnt_wq.dat\n",
      "/mmfs1/gscratch/ssmc/USRS/PSI/Sukyong/kingcounty/3m/inputs/ssm_pnt_wq.dat\n",
      "/mmfs1/gscratch/ssmc/USRS/PSI/Rachael/projects/KingCounty/SalishSeaModel/4b/coldstart/inputs/ssm_pnt_wq.dat\n",
      "/mmfs1/gscratch/ssmc/USRS/PSI/Rachael/projects/KingCounty/SalishSeaModel/4c/coldstart/inputs/ssm_pnt_wq.dat\n"
     ]
    }
   ],
   "source": [
    "# Get paths from configuration file\n",
    "case = 'whidbey'\n",
    "with open(f'../../etc/SSM_config_{case}.yaml', 'r') as file:\n",
    "    ssm = yaml.safe_load(file)\n",
    "# loading_dir = pathlib.Path(\"/mmfs1/gscratch/ssmc/USRS/PSI/Rachael/projects/KingCounty/SalishSeaModel/run_scenarios/input_setting\")\n",
    "runs = [*ssm['paths']['nutrient_loading_inputs']]\n",
    "loading_files = {}\n",
    "# ssm['paths']['nutrient_loading_inputs']['3j']='/mmfs1/gscratch/ssmc/USRS/PSI/Rachael/projects/KingCounty/SalishSeaModel/3j/coldstart/inputs/ssm_pnt_wq.dat'\n",
    "# ssm['paths']['nutrient_loading_inputs']['3k']='/mmfs1/gscratch/ssmc/USRS/PSI/Rachael/projects/KingCounty/SalishSeaModel/3k/coldstart/inputs/ssm_pnt_wq.dat'\n",
    "ssm['paths']['nutrient_loading_inputs']['4b']='/mmfs1/gscratch/ssmc/USRS/PSI/Rachael/projects/KingCounty/SalishSeaModel/4b/coldstart/inputs/ssm_pnt_wq.dat'\n",
    "ssm['paths']['nutrient_loading_inputs']['4c']='/mmfs1/gscratch/ssmc/USRS/PSI/Rachael/projects/KingCounty/SalishSeaModel/4c/coldstart/inputs/ssm_pnt_wq.dat'\n",
    "runs = [*ssm['paths']['nutrient_loading_inputs']]\n",
    "for run in runs:\n",
    "    print(ssm['paths']['nutrient_loading_inputs'][run])"
   ]
  },
  {
   "cell_type": "markdown",
   "id": "8aae3115-31d1-49db-9812-0993c992c036",
   "metadata": {},
   "source": [
    "# plot the output from debug statements in my script"
   ]
  },
  {
   "cell_type": "code",
   "execution_count": 4,
   "id": "40f9a137-d7a5-4f62-a088-a072dadc7068",
   "metadata": {},
   "outputs": [
    {
     "data": {
      "text/plain": [
       "['nh4_new',\n",
       " 'no3_new',\n",
       " 'nh4_of100',\n",
       " 'no3no2_of100',\n",
       " 'nh4_North',\n",
       " 'no3no2_North']"
      ]
     },
     "execution_count": 4,
     "metadata": {},
     "output_type": "execute_result"
    }
   ],
   "source": [
    "dbdf = pd.read_excel('/mmfs1/gscratch/ssmc/USRS/PSI/Rachael/projects/KingCounty/SalishSeaModel/run_scenarios/input_setting/debug.xlsx')\n",
    "dbdf=dbdf.drop(columns=['Unnamed: 0'])\n",
    "[*dbdf]"
   ]
  },
  {
   "cell_type": "code",
   "execution_count": 36,
   "id": "d2730d71-db56-4b50-a3fa-061c4e0151ff",
   "metadata": {},
   "outputs": [],
   "source": [
    "dbdf['nh4_combo']=dbdf['nh4_of100']+ dbdf['nh4_North']\n",
    "dbdf['no3no2_combo']=dbdf['no3no2_of100']+ dbdf['no3no2_North']"
   ]
  },
  {
   "cell_type": "code",
   "execution_count": 3,
   "id": "962de4fd-1bbf-488e-9edd-b8eaad3b91ac",
   "metadata": {},
   "outputs": [],
   "source": [
    "# dbdf[['nh4_new','nh4_of100','nh4_North','nh4_combo']].plot()\n",
    "# dbdf[['no3_new','no3no2_of100','no3no2_North','no3no2_combo']].plot()"
   ]
  },
  {
   "cell_type": "markdown",
   "id": "a23c8777-2c25-4c01-b022-27e17db74723",
   "metadata": {},
   "source": [
    "### The red line is the combination of Everett North and South values. It covers the blue line, which is the value from the input file, during the summer....showing that the input file script is working properly"
   ]
  },
  {
   "cell_type": "code",
   "execution_count": 48,
   "id": "72d1812c-b4d6-4157-b653-162ab8c6477a",
   "metadata": {},
   "outputs": [],
   "source": [
    "in_dir = pathlib.Path('/mmfs1/gscratch/ssmc/USRS/PSI/Rachael/projects/KingCounty/SalishSeaModel-spreadsheets')\n",
    "source_locations = pd.read_excel(in_dir/'ssm_pnt_wq_station_info.xlsx',index_col='Unnamed: 0')\n",
    "source_names=source_locations.index.tolist()"
   ]
  },
  {
   "cell_type": "code",
   "execution_count": 49,
   "id": "d4a990ae-8680-4a11-83b2-1cd21d5fc5a1",
   "metadata": {},
   "outputs": [],
   "source": [
    "inputs = {}\n",
    "for run in runs:\n",
    "    with open(ssm['paths']['nutrient_loading_inputs'][run]) as f:\n",
    "        # The parsing logic here is is derived from the linkage instructions for the\n",
    "        # model and direct examination of the source code\n",
    "\n",
    "        # The first line does not contain important information and is treated only like\n",
    "        # a filetype magic\n",
    "        next(f)\n",
    "\n",
    "        # The total number of discharge nodes\n",
    "        num_qs = int(next(f))\n",
    "        # All the node numbers with discharges\n",
    "        #nodes = np.loadtxt([next(f) for l in range(num_qs)], comments='!', dtype=int)\n",
    "        node_raw = StringIO('\\n'.join([next(f) for l in range(num_qs)]))\n",
    "        node_df = pd.read_csv(node_raw, sep='\\s+!\\s+', names=('Node','Comment'),\n",
    "                              dtype={'Node':np.int64,'Comment':object}, engine='python')\n",
    "        node_df.set_index('Node', inplace=True)\n",
    "        nodes = node_df.index.to_numpy()\n",
    "        # Depth distribution fractions into each node. Skipping the first (node count) column\n",
    "        vqdist = np.loadtxt([next(f) for l in range(num_qs)])[:,1:]\n",
    "\n",
    "        num_times = int(next(f))\n",
    "\n",
    "        # Initialize storage arrays\n",
    "        times = np.zeros(num_times)\n",
    "        qs = np.zeros((num_times, num_qs))\n",
    "        # State variables in the order they are present in the file. These are also going\n",
    "        # to be the NetCDF variable names\n",
    "        statevars = ('discharge', 'temp', 'salt', 'tss',  'alg1', 'alg2', 'alg3', 'zoo1',\n",
    "                                  'zoo2', 'ldoc', 'rdoc', 'lpoc', 'rpoc', 'nh4',  'no32',\n",
    "                                  'urea', 'ldon', 'rdon', 'lpon', 'rpon', 'po4',  'ldop',\n",
    "                                  'rdop', 'lpop', 'rpop', 'pip',  'cod',  'doxg', 'psi',\n",
    "                                  'dsi',  'alg1p','alg2p','alg3p','dic',  'talk')\n",
    "        inputs[run] = {}\n",
    "        for v in statevars:\n",
    "            inputs[run][v] = np.zeros((num_times, num_qs))\n",
    "\n",
    "        for t in range(num_times):\n",
    "            times[t] = float(next(f))\n",
    "            for v in statevars:\n",
    "                inputs[run][v][t,:] = np.loadtxt([next(f)])"
   ]
  },
  {
   "cell_type": "code",
   "execution_count": 50,
   "id": "e9239b95-9e91-403c-97c1-cc810b45c8ff",
   "metadata": {},
   "outputs": [],
   "source": [
    "total_nitrogen={}\n",
    "total_annual_nitrogen={}\n",
    "loading={}\n",
    "for run in runs:\n",
    "    loading[run] = (inputs[run]['discharge'] * (inputs[run]['nh4'] + inputs[run]['no32']) * 24 * 3600)/1000 #m3/s*mg/l -> kg/day\n",
    "    total_nitrogen[run]=loading[run].sum(axis=0) # annual loading over 366 days (g/year)\n",
    "    total_annual_nitrogen[run] = total_nitrogen[run].sum() # g/year -> kg/year"
   ]
  },
  {
   "cell_type": "code",
   "execution_count": 51,
   "id": "7b128b9f-acda-4706-a545-9472bdb856f2",
   "metadata": {},
   "outputs": [],
   "source": [
    "locations = ['  Everett Snohomish', '  OF100']"
   ]
  },
  {
   "cell_type": "code",
   "execution_count": 52,
   "id": "66caf4d2-6be2-4aac-8b6a-dee899dbe3e6",
   "metadata": {},
   "outputs": [
    {
     "name": "stdout",
     "output_type": "stream",
     "text": [
      "idices:  201 212\n"
     ]
    }
   ],
   "source": [
    "print('idices: ', source_names.index(locations[0]),source_names.index(locations[1]))"
   ]
  },
  {
   "cell_type": "code",
   "execution_count": 63,
   "id": "83f72c0e-3325-49d0-9f05-4b2e9c37e99c",
   "metadata": {},
   "outputs": [
    {
     "data": {
      "image/png": "[encoded data removed]",
      "text/plain": [
       "<Figure size 864x360 with 2 Axes>"
      ]
     },
     "metadata": {
      "needs_background": "light"
     },
     "output_type": "display_data"
    }
   ],
   "source": [
    "run_id = \"3j\"\n",
    "# create date vector\n",
    "dti = pd.date_range(\"2014-01-01\", periods=366, freq=\"d\")\n",
    "dti[-1]\n",
    "mpl.rc('font', size = 12, family='sans-serif', weight='normal', style='normal')\n",
    "fig,ax=plt.subplots(1,2, figsize=(12,5),\n",
    "   gridspec_kw={\n",
    "   'width_ratios': [1,1],\n",
    "   'height_ratios': [1], \n",
    "   'wspace': 0.2,\n",
    "   'hspace': 0.5}\n",
    ")\n",
    "for idx in [0,1]:\n",
    "    ax[idx].plot(dti,loading[\"wqm_baseline\"][:,[source_names.index(locations[idx])]], color='grey', label=\"2014\")\n",
    "    ax[idx].plot(dti,loading[run_id][:,[source_names.index(locations[idx])]], label=run_id)\n",
    "    ax[idx].set_title(locations[idx])\n",
    "    ax[idx].set_xlim(np.datetime64('2014-01-01'), np.datetime64('2014-12-31'))\n",
    "    # set x-ticklabels to the first day of the month\n",
    "    ax[idx].xaxis.set_major_locator(mpl.dates.MonthLocator())\n",
    "    ax[idx].xaxis.set_major_formatter(mpl.dates.DateFormatter('%m'))\n",
    "# take the difference of Everett Snohomish and add it to OF100\n",
    "delta_north = loading[\"wqm_baseline\"][:,[source_names.index(locations[0])]]-loading[run_id][:,[source_names.index(locations[0])]]\n",
    "ax[1].plot(dti,loading[\"wqm_baseline\"][:,[source_names.index(locations[1])]]+delta_north,'.', color='orange',label='2014 (Everett Snohomish loading) + \\n 2014 (OF100 loading)')\n",
    "ax[0].legend()\n",
    "ax[1].legend(bbox_to_anchor=(1,1),loc=\"upper left\")\n",
    "ax[0].set_xlabel('months')\n",
    "ax[1].set_xlabel('months')\n",
    "ax[0].set_ylabel('nutrient loading [kg/day]')\n",
    "plt.savefig(pathlib.Path(ssm['paths']['graphics'])/f'ssm_pnt_wq_{run_id}_loadings.png',\n",
    "                        bbox_inches='tight',format='png')\n"
   ]
  },
  {
   "cell_type": "code",
   "execution_count": 32,
   "id": "72b5e26a-1022-4339-ac1d-36ebc7f9051b",
   "metadata": {},
   "outputs": [
    {
     "data": {
      "text/plain": [
       "'/mmfs1/gscratch/ssmc/USRS/PSI/Rachael/projects/KingCounty/graphics/'"
      ]
     },
     "execution_count": 32,
     "metadata": {},
     "output_type": "execute_result"
    }
   ],
   "source": [
    "ssm['paths']['graphics']"
   ]
  },
  {
   "cell_type": "code",
   "execution_count": 30,
   "id": "16d20430-3de0-42b7-bbd9-22f0341b6afb",
   "metadata": {},
   "outputs": [],
   "source": [
    "in_dir = pathlib.Path('/mmfs1/gscratch/ssmc/USRS/PSI/Rachael/projects/KingCounty/SalishSeaModel/run_scenarios/input_setting')"
   ]
  },
  {
   "cell_type": "code",
   "execution_count": 31,
   "id": "36c0c66e-9006-42be-a29b-97df11f624bf",
   "metadata": {},
   "outputs": [],
   "source": [
    "scenario_setting=pd.read_excel(in_dir/'run_strategy.xlsx',index_col=0,sheet_name='3j')"
   ]
  },
  {
   "cell_type": "code",
   "execution_count": 6,
   "id": "d27342d9-95b0-4239-8b5c-c2fa2e03cb53",
   "metadata": {},
   "outputs": [
    {
     "data": {
      "text/plain": [
       "Unnamed: 1                         Agate East  Agate West  Anderson east  Ander...\n",
       "type                             RiverRiverRiverRiverRiverRiverRiverRiverRiverR...\n",
       "node_id                                                                    2901526\n",
       "Lat                                                                   12370.385375\n",
       "Lon                                                                   -31802.22129\n",
       "Depth [km]                                                                9.989324\n",
       "layer_distribute                 Surface3Surface3Surface3Surface3Surface3Surfac...\n",
       "Region                             South_Sound  South_Sound  South_Sound  South...\n",
       "country                            United States  United States  United States ...\n",
       "NH4[kg/year]                                                       25354056.180308\n",
       "NO3NO2[kg/year]                                                    26759513.324702\n",
       "N-load [kg/year] (Baseline)                                        52113569.508102\n",
       "N-load [kg/year] (Reference)                                       34184122.824063\n",
       "Anthropogenic                                                      17929446.684696\n",
       "Unnamed: 15                                                               95.72736\n",
       "N-load % Difference                                                      -161.2822\n",
       "Anthropogenic.1                                                                0.0\n",
       "flow_yearly_sum [m3]                                                2554706.410854\n",
       "flow_yearly_mean [m3]                                                   6980.07216\n",
       "NO3NO2-yearly_avg_conc [mg/L]                                              718.647\n",
       "NH4-yearly_avg_conc [mg/L]                                                1022.626\n",
       "Average Annual TIN (mg/L)                                                 1741.274\n",
       "calculated yearly N-loading                                        52772838.487116\n",
       "percent loading diff                                                         -5.95\n",
       "3j                                                                             258\n",
       "dtype: object"
      ]
     },
     "execution_count": 6,
     "metadata": {},
     "output_type": "execute_result"
    }
   ],
   "source": [
    "scenario_setting.sum()"
   ]
  },
  {
   "cell_type": "code",
   "execution_count": 32,
   "id": "e8986ab9-a027-4cca-bd29-c986385d9640",
   "metadata": {},
   "outputs": [
    {
     "data": {
      "text/plain": [
       "Unnamed: 1                         Agate East  Agate West  Anderson east  Ander...\n",
       "type                             RiverRiverRiverRiverRiverRiverRiverRiverRiverR...\n",
       "node_id                                                                    2901526\n",
       "Lat                                                                   12370.385375\n",
       "Lon                                                                   -31802.22129\n",
       "Depth [km]                                                                9.989324\n",
       "layer_distribute                 Surface3Surface3Surface3Surface3Surface3Surfac...\n",
       "Region                             South_Sound  South_Sound  South_Sound  South...\n",
       "country                            United States  United States  United States ...\n",
       "NH4[kg/year]                                                       25014665.038308\n",
       "NO3NO2[kg/year]                                                    26734305.911622\n",
       "N-load [kg/year] (Baseline)                                        51748970.953002\n",
       "N-load [kg/year] (Reference)                                       34182950.285637\n",
       "Anthropogenic                                                      17566020.667996\n",
       "Unnamed: 15                                                               95.72736\n",
       "N-load % Difference                                                      -160.2822\n",
       "Anthropogenic.1                                                                0.0\n",
       "flow_yearly_sum [m3]                                                2554518.237654\n",
       "flow_yearly_mean [m3]                                                  6979.558026\n",
       "NO3NO2-yearly_avg_conc [mg/L]                                              716.403\n",
       "NH4-yearly_avg_conc [mg/L]                                                1002.194\n",
       "Average Annual TIN (mg/L)                                                 1718.598\n",
       "calculated yearly N-loading                                        52405176.017116\n",
       "percent loading diff                                                         -5.95\n",
       "1a                                                                             259\n",
       "1b                                                                             244\n",
       "1c                                                                             250\n",
       "1d                                                                             245\n",
       "1e                                                                             258\n",
       "2a                                                                           254.5\n",
       "2b                                                                             268\n",
       "3a                                                                             259\n",
       "3b                                                                             243\n",
       "3c                                                                             252\n",
       "3e                                                                             249\n",
       "3f                                                                             254\n",
       "3g                                                                             257\n",
       "3h                                                                             258\n",
       "3i                                                                             258\n",
       "3l                                                                           255.5\n",
       "3m                                                                             266\n",
       "4a                                                                             259\n",
       "4b                                                                             0.0\n",
       "4c                                                                          250.85\n",
       "4d                                                                          258.55\n",
       "4e                                                                           258.5\n",
       "4f                                                                             258\n",
       "4g                                                                           258.5\n",
       "4h                                                                             258\n",
       "4i                                                                           258.5\n",
       "4j                                                                             258\n",
       "4k                                                                           258.0\n",
       "4l                                                                             261\n",
       "dtype: object"
      ]
     },
     "execution_count": 32,
     "metadata": {},
     "output_type": "execute_result"
    }
   ],
   "source": [
    "scenario_setting_orig=pd.read_excel(in_dir/'run_strategy.xlsx',index_col=0)\n",
    "scenario_setting_orig.sum()"
   ]
  },
  {
   "cell_type": "code",
   "execution_count": 14,
   "id": "0618741e-a4a3-4a01-9c5e-e2e091c534d4",
   "metadata": {},
   "outputs": [
    {
     "data": {
      "text/html": [
       "<div>\n",
       "<style scoped>\n",
       "    .dataframe tbody tr th:only-of-type {\n",
       "        vertical-align: middle;\n",
       "    }\n",
       "\n",
       "    .dataframe tbody tr th {\n",
       "        vertical-align: top;\n",
       "    }\n",
       "\n",
       "    .dataframe thead th {\n",
       "        text-align: right;\n",
       "    }\n",
       "</style>\n",
       "<table border=\"1\" class=\"dataframe\">\n",
       "  <thead>\n",
       "    <tr style=\"text-align: right;\">\n",
       "      <th></th>\n",
       "      <th>Unnamed: 1</th>\n",
       "      <th>type</th>\n",
       "      <th>node_id</th>\n",
       "      <th>Lat</th>\n",
       "      <th>Lon</th>\n",
       "      <th>Depth [km]</th>\n",
       "      <th>layer_distribute</th>\n",
       "      <th>Region</th>\n",
       "      <th>country</th>\n",
       "      <th>NH4[kg/year]</th>\n",
       "      <th>...</th>\n",
       "      <th>N-load % Difference</th>\n",
       "      <th>Anthropogenic.1</th>\n",
       "      <th>flow_yearly_sum [m3]</th>\n",
       "      <th>flow_yearly_mean [m3]</th>\n",
       "      <th>NO3NO2-yearly_avg_conc [mg/L]</th>\n",
       "      <th>NH4-yearly_avg_conc [mg/L]</th>\n",
       "      <th>Average Annual TIN (mg/L)</th>\n",
       "      <th>calculated yearly N-loading</th>\n",
       "      <th>percent loading diff</th>\n",
       "      <th>3j</th>\n",
       "    </tr>\n",
       "  </thead>\n",
       "  <tbody>\n",
       "    <tr>\n",
       "      <th>201</th>\n",
       "      <td>Everett Snohomish</td>\n",
       "      <td>Point Source</td>\n",
       "      <td>12179</td>\n",
       "      <td>48.004747</td>\n",
       "      <td>-122.1769</td>\n",
       "      <td>0.00592</td>\n",
       "      <td>Layer 10</td>\n",
       "      <td>Whidbey</td>\n",
       "      <td>United States</td>\n",
       "      <td>339391.142</td>\n",
       "      <td>...</td>\n",
       "      <td>-1.0</td>\n",
       "      <td>NaN</td>\n",
       "      <td>188.1732</td>\n",
       "      <td>0.514134</td>\n",
       "      <td>2.244</td>\n",
       "      <td>20.432</td>\n",
       "      <td>22.676</td>\n",
       "      <td>367662.47</td>\n",
       "      <td>0.01</td>\n",
       "      <td>0</td>\n",
       "    </tr>\n",
       "  </tbody>\n",
       "</table>\n",
       "<p>1 rows × 25 columns</p>\n",
       "</div>"
      ],
      "text/plain": [
       "              Unnamed: 1          type  node_id        Lat       Lon  \\\n",
       "201    Everett Snohomish  Point Source    12179  48.004747 -122.1769   \n",
       "\n",
       "     Depth [km] layer_distribute     Region          country  NH4[kg/year]  \\\n",
       "201     0.00592         Layer 10    Whidbey    United States    339391.142   \n",
       "\n",
       "     ...  N-load % Difference  Anthropogenic.1  flow_yearly_sum [m3]  \\\n",
       "201  ...                 -1.0              NaN              188.1732   \n",
       "\n",
       "     flow_yearly_mean [m3]  NO3NO2-yearly_avg_conc [mg/L]  \\\n",
       "201               0.514134                          2.244   \n",
       "\n",
       "     NH4-yearly_avg_conc [mg/L]  Average Annual TIN (mg/L)  \\\n",
       "201                      20.432                     22.676   \n",
       "\n",
       "     calculated yearly N-loading  percent loading diff  3j  \n",
       "201                    367662.47                  0.01   0  \n",
       "\n",
       "[1 rows x 25 columns]"
      ]
     },
     "execution_count": 14,
     "metadata": {},
     "output_type": "execute_result"
    }
   ],
   "source": [
    "scenario_setting.loc[scenario_setting['Unnamed: 1']=='  Everett Snohomish']"
   ]
  },
  {
   "cell_type": "code",
   "execution_count": 16,
   "id": "a97e0243-95b9-4bba-aaf6-46e713d4d3d2",
   "metadata": {},
   "outputs": [
    {
     "data": {
      "text/html": [
       "<div>\n",
       "<style scoped>\n",
       "    .dataframe tbody tr th:only-of-type {\n",
       "        vertical-align: middle;\n",
       "    }\n",
       "\n",
       "    .dataframe tbody tr th {\n",
       "        vertical-align: top;\n",
       "    }\n",
       "\n",
       "    .dataframe thead th {\n",
       "        text-align: right;\n",
       "    }\n",
       "</style>\n",
       "<table border=\"1\" class=\"dataframe\">\n",
       "  <thead>\n",
       "    <tr style=\"text-align: right;\">\n",
       "      <th></th>\n",
       "      <th>Unnamed: 1</th>\n",
       "      <th>type</th>\n",
       "      <th>node_id</th>\n",
       "      <th>Lat</th>\n",
       "      <th>Lon</th>\n",
       "      <th>Depth [km]</th>\n",
       "      <th>layer_distribute</th>\n",
       "      <th>Region</th>\n",
       "      <th>country</th>\n",
       "      <th>NH4[kg/year]</th>\n",
       "      <th>...</th>\n",
       "      <th>4c</th>\n",
       "      <th>4d</th>\n",
       "      <th>4e</th>\n",
       "      <th>4f</th>\n",
       "      <th>4g</th>\n",
       "      <th>4h</th>\n",
       "      <th>4i</th>\n",
       "      <th>4j</th>\n",
       "      <th>4k</th>\n",
       "      <th>4l</th>\n",
       "    </tr>\n",
       "  </thead>\n",
       "  <tbody>\n",
       "    <tr>\n",
       "      <th>201</th>\n",
       "      <td>Everett Snohomish</td>\n",
       "      <td>Point Source</td>\n",
       "      <td>12179</td>\n",
       "      <td>48.004747</td>\n",
       "      <td>-122.1769</td>\n",
       "      <td>0.00592</td>\n",
       "      <td>Layer 10</td>\n",
       "      <td>Whidbey</td>\n",
       "      <td>United States</td>\n",
       "      <td>339391.142</td>\n",
       "      <td>...</td>\n",
       "      <td>1.0</td>\n",
       "      <td>1.0</td>\n",
       "      <td>1.0</td>\n",
       "      <td>1</td>\n",
       "      <td>1.0</td>\n",
       "      <td>1</td>\n",
       "      <td>1.0</td>\n",
       "      <td>1</td>\n",
       "      <td>1.0</td>\n",
       "      <td>1</td>\n",
       "    </tr>\n",
       "  </tbody>\n",
       "</table>\n",
       "<p>1 rows × 53 columns</p>\n",
       "</div>"
      ],
      "text/plain": [
       "              Unnamed: 1          type  node_id        Lat       Lon  \\\n",
       "201    Everett Snohomish  Point Source    12179  48.004747 -122.1769   \n",
       "\n",
       "     Depth [km] layer_distribute     Region          country  NH4[kg/year]  \\\n",
       "201     0.00592         Layer 10    Whidbey    United States    339391.142   \n",
       "\n",
       "     ...   4c   4d   4e  4f   4g  4h   4i  4j   4k  4l  \n",
       "201  ...  1.0  1.0  1.0   1  1.0   1  1.0   1  1.0   1  \n",
       "\n",
       "[1 rows x 53 columns]"
      ]
     },
     "execution_count": 16,
     "metadata": {},
     "output_type": "execute_result"
    }
   ],
   "source": [
    "scenario_setting_orig.loc[scenario_setting_orig['Unnamed: 1']=='  Everett Snohomish']"
   ]
  },
  {
   "cell_type": "code",
   "execution_count": 15,
   "id": "e794015d-3096-4004-bf7c-dc2f86860294",
   "metadata": {},
   "outputs": [
    {
     "data": {
      "text/html": [
       "<div>\n",
       "<style scoped>\n",
       "    .dataframe tbody tr th:only-of-type {\n",
       "        vertical-align: middle;\n",
       "    }\n",
       "\n",
       "    .dataframe tbody tr th {\n",
       "        vertical-align: top;\n",
       "    }\n",
       "\n",
       "    .dataframe thead th {\n",
       "        text-align: right;\n",
       "    }\n",
       "</style>\n",
       "<table border=\"1\" class=\"dataframe\">\n",
       "  <thead>\n",
       "    <tr style=\"text-align: right;\">\n",
       "      <th></th>\n",
       "      <th>Unnamed: 1</th>\n",
       "      <th>type</th>\n",
       "      <th>node_id</th>\n",
       "      <th>Lat</th>\n",
       "      <th>Lon</th>\n",
       "      <th>Depth [km]</th>\n",
       "      <th>layer_distribute</th>\n",
       "      <th>Region</th>\n",
       "      <th>country</th>\n",
       "      <th>NH4[kg/year]</th>\n",
       "      <th>...</th>\n",
       "      <th>N-load % Difference</th>\n",
       "      <th>Anthropogenic.1</th>\n",
       "      <th>flow_yearly_sum [m3]</th>\n",
       "      <th>flow_yearly_mean [m3]</th>\n",
       "      <th>NO3NO2-yearly_avg_conc [mg/L]</th>\n",
       "      <th>NH4-yearly_avg_conc [mg/L]</th>\n",
       "      <th>Average Annual TIN (mg/L)</th>\n",
       "      <th>calculated yearly N-loading</th>\n",
       "      <th>percent loading diff</th>\n",
       "      <th>3j</th>\n",
       "    </tr>\n",
       "  </thead>\n",
       "  <tbody>\n",
       "    <tr>\n",
       "      <th>212</th>\n",
       "      <td>OF100</td>\n",
       "      <td>Point Source</td>\n",
       "      <td>9143</td>\n",
       "      <td>47.968343</td>\n",
       "      <td>-122.24931</td>\n",
       "      <td>0.076072</td>\n",
       "      <td>Layer 10</td>\n",
       "      <td>Whidbey</td>\n",
       "      <td>United States</td>\n",
       "      <td>599358.6167</td>\n",
       "      <td>...</td>\n",
       "      <td>-2.0</td>\n",
       "      <td>0.0</td>\n",
       "      <td>370.0271</td>\n",
       "      <td>1.011003</td>\n",
       "      <td>9.755</td>\n",
       "      <td>36.273</td>\n",
       "      <td>46.028</td>\n",
       "      <td>733576.3753</td>\n",
       "      <td>-0.01</td>\n",
       "      <td>1</td>\n",
       "    </tr>\n",
       "  </tbody>\n",
       "</table>\n",
       "<p>1 rows × 25 columns</p>\n",
       "</div>"
      ],
      "text/plain": [
       "    Unnamed: 1          type  node_id        Lat        Lon  Depth [km]  \\\n",
       "212      OF100  Point Source     9143  47.968343 -122.24931    0.076072   \n",
       "\n",
       "    layer_distribute     Region          country  NH4[kg/year]  ...  \\\n",
       "212         Layer 10    Whidbey    United States   599358.6167  ...   \n",
       "\n",
       "     N-load % Difference  Anthropogenic.1  flow_yearly_sum [m3]  \\\n",
       "212                 -2.0              0.0              370.0271   \n",
       "\n",
       "     flow_yearly_mean [m3]  NO3NO2-yearly_avg_conc [mg/L]  \\\n",
       "212               1.011003                          9.755   \n",
       "\n",
       "     NH4-yearly_avg_conc [mg/L]  Average Annual TIN (mg/L)  \\\n",
       "212                      36.273                     46.028   \n",
       "\n",
       "     calculated yearly N-loading  percent loading diff  3j  \n",
       "212                  733576.3753                 -0.01   1  \n",
       "\n",
       "[1 rows x 25 columns]"
      ]
     },
     "execution_count": 15,
     "metadata": {},
     "output_type": "execute_result"
    }
   ],
   "source": [
    "scenario_setting.loc[scenario_setting['Unnamed: 1']=='  OF100']"
   ]
  },
  {
   "cell_type": "code",
   "execution_count": 20,
   "id": "e86acb06-d3e2-426f-8680-e094f67510bc",
   "metadata": {},
   "outputs": [
    {
     "data": {
      "text/plain": [
       "212   -2.244\n",
       "Name: NO3NO2-yearly_avg_conc [mg/L], dtype: float64"
      ]
     },
     "execution_count": 20,
     "metadata": {},
     "output_type": "execute_result"
    }
   ],
   "source": [
    "scenario_setting_orig.loc[scenario_setting_orig['Unnamed: 1']=='  OF100']['NO3NO2-yearly_avg_conc [mg/L]'] - scenario_setting.loc[scenario_setting['Unnamed: 1']=='  OF100']['NO3NO2-yearly_avg_conc [mg/L]'] "
   ]
  },
  {
   "cell_type": "code",
   "execution_count": 22,
   "id": "3225356b-fb1f-4e09-a73b-6703818cb6ba",
   "metadata": {},
   "outputs": [
    {
     "data": {
      "text/plain": [
       "212    7.511\n",
       "Name: NO3NO2-yearly_avg_conc [mg/L], dtype: float64"
      ]
     },
     "execution_count": 23,
     "metadata": {},
     "output_type": "execute_result"
    }
   ],
   "source": [
    "scenario_setting_orig.loc[scenario_setting_orig['Unnamed: 1']=='  OF100']['NO3NO2-yearly_avg_conc [mg/L]]"
   ]
  },
  {
   "cell_type": "code",
   "execution_count": 33,
   "id": "c1457398-8a8d-4416-9ae9-81053e7d9e8e",
   "metadata": {},
   "outputs": [
    {
     "data": {
      "text/plain": [
       "[212   -339391.142\n",
       " Name: NH4[kg/year], dtype: float64,\n",
       " 212   -25207.41308\n",
       " Name: NO3NO2[kg/year], dtype: float64,\n",
       " 212    0.0\n",
       " Name: N-load [kg/year] (Baseline), dtype: float64,\n",
       " 212    0.0\n",
       " Name: N-load [kg/year] (Reference), dtype: float64,\n",
       " 212    1.0\n",
       " Name: N-load % Difference, dtype: float64,\n",
       " 212   NaN\n",
       " Name: Anthropogenic.1, dtype: float64,\n",
       " 212    0.0\n",
       " Name: flow_yearly_sum [m3], dtype: float64,\n",
       " 212    0.0\n",
       " Name: flow_yearly_mean [m3], dtype: float64,\n",
       " 212   -2.244\n",
       " Name: NO3NO2-yearly_avg_conc [mg/L], dtype: float64,\n",
       " 212   -20.432\n",
       " Name: NH4-yearly_avg_conc [mg/L], dtype: float64,\n",
       " 212   -22.676\n",
       " Name: Average Annual TIN (mg/L), dtype: float64,\n",
       " 212   -367662.47\n",
       " Name: calculated yearly N-loading, dtype: float64]"
      ]
     },
     "execution_count": 33,
     "metadata": {},
     "output_type": "execute_result"
    }
   ],
   "source": [
    "[scenario_setting_orig.loc[scenario_setting_orig['Unnamed: 1']=='  OF100'][var] - scenario_setting.loc[scenario_setting['Unnamed: 1']=='  OF100'][var] for var in var_list]"
   ]
  },
  {
   "cell_type": "code",
   "execution_count": 26,
   "id": "cd719ef6-1405-47a7-a77e-077bf4ef042a",
   "metadata": {},
   "outputs": [
    {
     "data": {
      "text/plain": [
       "['Unnamed: 1',\n",
       " 'type',\n",
       " 'node_id',\n",
       " 'Lat',\n",
       " 'Lon',\n",
       " 'Depth [km]',\n",
       " 'layer_distribute',\n",
       " 'Region',\n",
       " 'country',\n",
       " 'NH4[kg/year]',\n",
       " 'NO3NO2[kg/year]',\n",
       " 'N-load [kg/year] (Baseline)',\n",
       " 'N-load [kg/year] (Reference)',\n",
       " 'Anthropogenic',\n",
       " 'Unnamed: 15',\n",
       " 'N-load % Difference',\n",
       " 'Anthropogenic.1',\n",
       " 'flow_yearly_sum [m3]',\n",
       " 'flow_yearly_mean [m3]',\n",
       " 'NO3NO2-yearly_avg_conc [mg/L]',\n",
       " 'NH4-yearly_avg_conc [mg/L]',\n",
       " 'Average Annual TIN (mg/L)',\n",
       " 'calculated yearly N-loading',\n",
       " 'percent loading diff',\n",
       " '1a',\n",
       " '1b',\n",
       " '1c',\n",
       " '1d',\n",
       " '1e',\n",
       " '2a',\n",
       " '2b',\n",
       " '3a',\n",
       " '3b',\n",
       " '3c',\n",
       " '3e',\n",
       " '3f',\n",
       " '3g',\n",
       " '3h',\n",
       " '3i',\n",
       " '3l',\n",
       " '3m',\n",
       " '4a',\n",
       " '4b',\n",
       " '4c',\n",
       " '4d',\n",
       " '4e',\n",
       " '4f',\n",
       " '4g',\n",
       " '4h',\n",
       " '4i',\n",
       " '4j',\n",
       " '4k',\n",
       " '4l']"
      ]
     },
     "execution_count": 26,
     "metadata": {},
     "output_type": "execute_result"
    }
   ],
   "source": [
    "[*scenario_setting_orig.loc[scenario_setting_orig['Unnamed: 1']=='  OF100']]"
   ]
  },
  {
   "cell_type": "code",
   "execution_count": 27,
   "id": "1b8e3267-e16b-42f6-8931-4ee0986e99e1",
   "metadata": {},
   "outputs": [],
   "source": [
    "var_list = [\n",
    "'NH4[kg/year]',\n",
    " 'NO3NO2[kg/year]',\n",
    " 'N-load [kg/year] (Baseline)',\n",
    " 'N-load [kg/year] (Reference)',\n",
    " 'N-load % Difference',\n",
    " 'Anthropogenic.1',\n",
    " 'flow_yearly_sum [m3]',\n",
    " 'flow_yearly_mean [m3]',\n",
    " 'NO3NO2-yearly_avg_conc [mg/L]',\n",
    " 'NH4-yearly_avg_conc [mg/L]',\n",
    " 'Average Annual TIN (mg/L)',\n",
    " 'calculated yearly N-loading']"
   ]
  },
  {
   "cell_type": "code",
   "execution_count": null,
   "id": "14ec030d-8ffc-4641-9053-2226c49b01bb",
   "metadata": {},
   "outputs": [],
   "source": []
  }
 ],
 "metadata": {
  "kernelspec": {
   "display_name": "Python 3 (ipykernel)",
   "language": "python",
   "name": "python3"
  },
  "language_info": {
   "codemirror_mode": {
    "name": "ipython",
    "version": 3
   },
   "file_extension": ".py",
   "mimetype": "text/x-python",
   "name": "python",
   "nbconvert_exporter": "python",
   "pygments_lexer": "ipython3",
   "version": "3.10.4"
  }
 },
 "nbformat": 4,
 "nbformat_minor": 5
}
