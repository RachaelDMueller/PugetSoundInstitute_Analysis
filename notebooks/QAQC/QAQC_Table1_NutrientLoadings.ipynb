{
 "cells": [
  {
   "cell_type": "code",
   "execution_count": 1,
   "id": "d3b378e2-e65d-4e03-b48e-1cea1e4a909d",
   "metadata": {},
   "outputs": [],
   "source": [
    "import sys\n",
    "import os\n",
    "import yaml\n",
    "import numpy as np\n",
    "import pandas\n",
    "import pathlib\n",
    "import time\n",
    "from datetime import date\n",
    "import geopandas as gpd\n",
    "import matplotlib.pyplot as plt\n",
    "from matplotlib.offsetbox import AnchoredText\n",
    "from matplotlib.ticker import MaxNLocator\n",
    "import matplotlib as mpl"
   ]
  },
  {
   "cell_type": "code",
   "execution_count": 2,
   "id": "05facac8-d0ff-4eb5-9773-5765a7eada78",
   "metadata": {},
   "outputs": [],
   "source": [
    "case = 'whidbey'\n",
    "with open(f'../../etc/SSM_config_{case}.yaml', 'r') as file:\n",
    "    ssm = yaml.safe_load(file)"
   ]
  },
  {
   "cell_type": "code",
   "execution_count": 3,
   "id": "1a4cb85a-44b4-47b0-a2fd-7e29b4f6378d",
   "metadata": {},
   "outputs": [],
   "source": [
    "#in_dir = pathlib.Path('/mmfs1/gscratch/ssmc/USRS/PSI/Rachael/projects/KingCounty/spreadsheets')\n",
    "# Change in_dir to the location of spreadsheet used to run the model \n",
    "in_dir = pathlib.Path('/mmfs1/gscratch/ssmc/USRS/PSI/Rachael/projects/KingCounty/SalishSeaModel-spreadsheets')\n",
    "\n",
    "no3_f = in_dir/'NO3NO2_load_timeseries.xlsx'\n",
    "nh4_f = in_dir/'NH4_load_timeseries.xlsx'\n",
    "flow_f= in_dir/'flow_timeseries.xlsx'"
   ]
  },
  {
   "cell_type": "markdown",
   "id": "1a647754-e72c-4d4c-9aab-eec944f2de88",
   "metadata": {},
   "source": [
    "## Create lists of all rivers and WWTPs included in this modeling study"
   ]
  },
  {
   "cell_type": "code",
   "execution_count": 4,
   "id": "9118ffa7-3875-45ba-91e9-83f66b0c3b22",
   "metadata": {},
   "outputs": [],
   "source": [
    "# import excel with information on all rivers and wwtps included in modeling study\n",
    "# information: type (\" River\" or \" Point Source\"), node_id, layer_distribute, basin, country, NH4[kg/year], NO3NO2[kg/year], N-load\n",
    "source_locations = pandas.read_excel(in_dir/'ssm_pnt_wq_station_info.xlsx',index_col='Unnamed: 0')\n",
    "river_locations = source_locations[source_locations['type']==' River']\n",
    "wwtp_locations = source_locations[source_locations['type']==' Point Source']\n",
    "# list of all river and wwtps included in model \n",
    "all_rivers_list = river_locations.index.to_list()\n",
    "all_wwtps_list = wwtp_locations.index.to_list()"
   ]
  },
  {
   "cell_type": "code",
   "execution_count": 5,
   "id": "444b806c-7b2e-4b0f-ba4a-62be99445cf2",
   "metadata": {},
   "outputs": [
    {
     "name": "stdout",
     "output_type": "stream",
     "text": [
      "shape of original file:  (259, 8)\n",
      "shape of river sub-sample:  (160, 8)\n",
      "shape of point source sub-sample:  (99, 8)\n"
     ]
    }
   ],
   "source": [
    "print('shape of original file: ', source_locations.shape)\n",
    "print('shape of river sub-sample: ', river_locations.shape)\n",
    "print('shape of point source sub-sample: ', wwtp_locations.shape)"
   ]
  },
  {
   "cell_type": "markdown",
   "id": "7b1e464d-a084-4a7c-afbf-6665cab830f6",
   "metadata": {},
   "source": [
    "### River + Point Source = Total.  i.e. no sources missing `Point Source` designation"
   ]
  },
  {
   "cell_type": "code",
   "execution_count": 6,
   "id": "579985f4-50a9-4ea7-b2c3-15358a0e8ac4",
   "metadata": {},
   "outputs": [
    {
     "data": {
      "text/plain": [
       "['type',\n",
       " 'node_id',\n",
       " 'layer_distribute',\n",
       " 'basin',\n",
       " 'country',\n",
       " 'NH4[kg/year]',\n",
       " 'NO3NO2[kg/year]',\n",
       " 'N-load']"
      ]
     },
     "execution_count": 6,
     "metadata": {},
     "output_type": "execute_result"
    }
   ],
   "source": [
    "[*wwtp_locations]"
   ]
  },
  {
   "cell_type": "code",
   "execution_count": 7,
   "id": "a784a742-3f15-4d1b-afbc-4f4e33bfe31c",
   "metadata": {},
   "outputs": [
    {
     "data": {
      "text/plain": [
       "26237733.608877182"
      ]
     },
     "execution_count": 7,
     "metadata": {},
     "output_type": "execute_result"
    }
   ],
   "source": [
    "wwtp_locations['N-load'].sum()"
   ]
  },
  {
   "cell_type": "code",
   "execution_count": 8,
   "id": "e74f9181-4a83-4e72-bb05-019d0d20fbb3",
   "metadata": {},
   "outputs": [
    {
     "data": {
      "text/plain": [
       "26237733.60887719"
      ]
     },
     "execution_count": 8,
     "metadata": {},
     "output_type": "execute_result"
    }
   ],
   "source": [
    "wwtp_locations['NH4[kg/year]'].sum()+wwtp_locations['NO3NO2[kg/year]'].sum()"
   ]
  },
  {
   "cell_type": "markdown",
   "id": "9e681de7-08da-4b9d-a7e9-3f4eeb8c7a41",
   "metadata": {},
   "source": [
    "## Create a list of runs in spreadsheet"
   ]
  },
  {
   "cell_type": "code",
   "execution_count": 9,
   "id": "a1dfab0f-d261-4055-8f09-dbf9f1f93299",
   "metadata": {},
   "outputs": [],
   "source": [
    "run_list = []\n",
    "no3_xls = pandas.ExcelFile(no3_f)\n",
    "for sheet in no3_xls.sheet_names:\n",
    "    run_list.append(sheet)"
   ]
  },
  {
   "cell_type": "markdown",
   "id": "ed8ba29a-01aa-4b98-b4d5-a89e8d53ccc7",
   "metadata": {},
   "source": [
    "## Get discharge information"
   ]
  },
  {
   "cell_type": "code",
   "execution_count": 10,
   "id": "4d2cb7cf-f84d-4ebb-aed0-5b83a228ac87",
   "metadata": {},
   "outputs": [
    {
     "data": {
      "text/html": [
       "<div>\n",
       "<style scoped>\n",
       "    .dataframe tbody tr th:only-of-type {\n",
       "        vertical-align: middle;\n",
       "    }\n",
       "\n",
       "    .dataframe tbody tr th {\n",
       "        vertical-align: top;\n",
       "    }\n",
       "\n",
       "    .dataframe thead th {\n",
       "        text-align: right;\n",
       "    }\n",
       "</style>\n",
       "<table border=\"1\" class=\"dataframe\">\n",
       "  <thead>\n",
       "    <tr style=\"text-align: right;\">\n",
       "      <th></th>\n",
       "      <th>Unnamed: 0</th>\n",
       "      <th>Agate East</th>\n",
       "      <th>Agate West</th>\n",
       "      <th>Anderson east</th>\n",
       "      <th>Anderson west</th>\n",
       "      <th>Artondale</th>\n",
       "      <th>Burley Cr</th>\n",
       "      <th>Butler Cr</th>\n",
       "      <th>Campbell Cr</th>\n",
       "      <th>Chambers Cr</th>\n",
       "      <th>...</th>\n",
       "      <th>Annacis</th>\n",
       "      <th>Iona</th>\n",
       "      <th>Lions Gate</th>\n",
       "      <th>Lulu</th>\n",
       "      <th>NW Langley</th>\n",
       "      <th>Clover Point</th>\n",
       "      <th>Gulf Islands</th>\n",
       "      <th>Macaulay</th>\n",
       "      <th>Saanich</th>\n",
       "      <th>Cushman No 2</th>\n",
       "    </tr>\n",
       "  </thead>\n",
       "  <tbody>\n",
       "    <tr>\n",
       "      <th>0</th>\n",
       "      <td>Sum [m3/sec]</td>\n",
       "      <td>1.253321e+02</td>\n",
       "      <td>2.310934e+01</td>\n",
       "      <td>3.084355e+01</td>\n",
       "      <td>9.548360e+01</td>\n",
       "      <td>1.832070e+02</td>\n",
       "      <td>2.308032e+02</td>\n",
       "      <td>7.731925e+01</td>\n",
       "      <td>1.633365e+02</td>\n",
       "      <td>1.538491e+03</td>\n",
       "      <td>...</td>\n",
       "      <td>2.060626e+03</td>\n",
       "      <td>2.337042e+03</td>\n",
       "      <td>3.505959e+02</td>\n",
       "      <td>2.988054e+02</td>\n",
       "      <td>5.428610e+01</td>\n",
       "      <td>1.955901e+02</td>\n",
       "      <td>3.525915</td>\n",
       "      <td>1.955901e+02</td>\n",
       "      <td>3.997614e+01</td>\n",
       "      <td>6.977648e+03</td>\n",
       "    </tr>\n",
       "    <tr>\n",
       "      <th>1</th>\n",
       "      <td>Sum [m3/year]</td>\n",
       "      <td>1.082870e+07</td>\n",
       "      <td>1.996647e+06</td>\n",
       "      <td>2.664883e+06</td>\n",
       "      <td>8.249783e+06</td>\n",
       "      <td>1.582908e+07</td>\n",
       "      <td>1.994140e+07</td>\n",
       "      <td>6.680383e+06</td>\n",
       "      <td>1.411227e+07</td>\n",
       "      <td>1.329256e+08</td>\n",
       "      <td>...</td>\n",
       "      <td>1.780381e+08</td>\n",
       "      <td>2.019204e+08</td>\n",
       "      <td>3.029149e+07</td>\n",
       "      <td>2.581679e+07</td>\n",
       "      <td>4.690319e+06</td>\n",
       "      <td>1.689898e+07</td>\n",
       "      <td>304639.056000</td>\n",
       "      <td>1.689898e+07</td>\n",
       "      <td>3.453938e+06</td>\n",
       "      <td>6.028688e+08</td>\n",
       "    </tr>\n",
       "    <tr>\n",
       "      <th>2</th>\n",
       "      <td>Sum [MGY]</td>\n",
       "      <td>2.860942e+03</td>\n",
       "      <td>5.275141e+02</td>\n",
       "      <td>7.040620e+02</td>\n",
       "      <td>2.179593e+03</td>\n",
       "      <td>4.182044e+03</td>\n",
       "      <td>5.268517e+03</td>\n",
       "      <td>1.764957e+03</td>\n",
       "      <td>3.728463e+03</td>\n",
       "      <td>3.511895e+04</td>\n",
       "      <td>...</td>\n",
       "      <td>4.703766e+04</td>\n",
       "      <td>5.334738e+04</td>\n",
       "      <td>8.003011e+03</td>\n",
       "      <td>6.820795e+03</td>\n",
       "      <td>1.239182e+03</td>\n",
       "      <td>4.464712e+03</td>\n",
       "      <td>80.485639</td>\n",
       "      <td>4.464712e+03</td>\n",
       "      <td>9.125306e+02</td>\n",
       "      <td>1.592779e+05</td>\n",
       "    </tr>\n",
       "    <tr>\n",
       "      <th>3</th>\n",
       "      <td>MGD</td>\n",
       "      <td>7.838196e+00</td>\n",
       "      <td>1.445244e+00</td>\n",
       "      <td>1.928937e+00</td>\n",
       "      <td>5.971487e+00</td>\n",
       "      <td>1.145766e+01</td>\n",
       "      <td>1.443429e+01</td>\n",
       "      <td>4.835499e+00</td>\n",
       "      <td>1.021497e+01</td>\n",
       "      <td>9.621630e+01</td>\n",
       "      <td>...</td>\n",
       "      <td>1.288703e+02</td>\n",
       "      <td>1.461572e+02</td>\n",
       "      <td>2.192606e+01</td>\n",
       "      <td>1.868711e+01</td>\n",
       "      <td>3.395020e+00</td>\n",
       "      <td>1.223209e+01</td>\n",
       "      <td>0.220509</td>\n",
       "      <td>1.223209e+01</td>\n",
       "      <td>2.500084e+00</td>\n",
       "      <td>4.363779e+02</td>\n",
       "    </tr>\n",
       "  </tbody>\n",
       "</table>\n",
       "<p>4 rows × 260 columns</p>\n",
       "</div>"
      ],
      "text/plain": [
       "      Unnamed: 0    Agate East    Agate West    Anderson east  \\\n",
       "0   Sum [m3/sec]  1.253321e+02  2.310934e+01     3.084355e+01   \n",
       "1  Sum [m3/year]  1.082870e+07  1.996647e+06     2.664883e+06   \n",
       "2      Sum [MGY]  2.860942e+03  5.275141e+02     7.040620e+02   \n",
       "3            MGD  7.838196e+00  1.445244e+00     1.928937e+00   \n",
       "\n",
       "     Anderson west     Artondale     Burley Cr     Butler Cr    Campbell Cr  \\\n",
       "0     9.548360e+01  1.832070e+02  2.308032e+02  7.731925e+01   1.633365e+02   \n",
       "1     8.249783e+06  1.582908e+07  1.994140e+07  6.680383e+06   1.411227e+07   \n",
       "2     2.179593e+03  4.182044e+03  5.268517e+03  1.764957e+03   3.728463e+03   \n",
       "3     5.971487e+00  1.145766e+01  1.443429e+01  4.835499e+00   1.021497e+01   \n",
       "\n",
       "     Chambers Cr  ...       Annacis          Iona    Lions Gate          Lulu  \\\n",
       "0   1.538491e+03  ...  2.060626e+03  2.337042e+03  3.505959e+02  2.988054e+02   \n",
       "1   1.329256e+08  ...  1.780381e+08  2.019204e+08  3.029149e+07  2.581679e+07   \n",
       "2   3.511895e+04  ...  4.703766e+04  5.334738e+04  8.003011e+03  6.820795e+03   \n",
       "3   9.621630e+01  ...  1.288703e+02  1.461572e+02  2.192606e+01  1.868711e+01   \n",
       "\n",
       "     NW Langley    Clover Point    Gulf Islands      Macaulay       Saanich  \\\n",
       "0  5.428610e+01    1.955901e+02        3.525915  1.955901e+02  3.997614e+01   \n",
       "1  4.690319e+06    1.689898e+07   304639.056000  1.689898e+07  3.453938e+06   \n",
       "2  1.239182e+03    4.464712e+03       80.485639  4.464712e+03  9.125306e+02   \n",
       "3  3.395020e+00    1.223209e+01        0.220509  1.223209e+01  2.500084e+00   \n",
       "\n",
       "     Cushman No 2  \n",
       "0    6.977648e+03  \n",
       "1    6.028688e+08  \n",
       "2    1.592779e+05  \n",
       "3    4.363779e+02  \n",
       "\n",
       "[4 rows x 260 columns]"
      ]
     },
     "execution_count": 10,
     "metadata": {},
     "output_type": "execute_result"
    }
   ],
   "source": [
    "flow_df = pandas.read_excel(flow_f, sheet_name = \"Sheet1\")\n",
    "flow_df"
   ]
  },
  {
   "cell_type": "code",
   "execution_count": 11,
   "id": "e4a3bd19-4d1a-4f07-ac6f-cfaea8a7bde0",
   "metadata": {},
   "outputs": [
    {
     "data": {
      "text/plain": [
       "0    1.253321e+02\n",
       "1    1.082870e+07\n",
       "2    2.860942e+03\n",
       "3    7.838196e+00\n",
       "Name:   Agate East, dtype: float64"
      ]
     },
     "execution_count": 11,
     "metadata": {},
     "output_type": "execute_result"
    }
   ],
   "source": [
    "flow_df['  Agate East']"
   ]
  },
  {
   "cell_type": "code",
   "execution_count": 12,
   "id": "8a302b2e-301a-4113-9bea-f53e6844d330",
   "metadata": {},
   "outputs": [
    {
     "data": {
      "text/html": [
       "<div>\n",
       "<style scoped>\n",
       "    .dataframe tbody tr th:only-of-type {\n",
       "        vertical-align: middle;\n",
       "    }\n",
       "\n",
       "    .dataframe tbody tr th {\n",
       "        vertical-align: top;\n",
       "    }\n",
       "\n",
       "    .dataframe thead th {\n",
       "        text-align: right;\n",
       "    }\n",
       "</style>\n",
       "<table border=\"1\" class=\"dataframe\">\n",
       "  <thead>\n",
       "    <tr style=\"text-align: right;\">\n",
       "      <th></th>\n",
       "      <th>Annual Total Flow (MG/year)</th>\n",
       "    </tr>\n",
       "  </thead>\n",
       "  <tbody>\n",
       "    <tr>\n",
       "      <th>Coupeville</th>\n",
       "      <td>64.422249</td>\n",
       "    </tr>\n",
       "    <tr>\n",
       "      <th>Everett Snohomish</th>\n",
       "      <td>4283.165000</td>\n",
       "    </tr>\n",
       "    <tr>\n",
       "      <th>La Conner</th>\n",
       "      <td>109.709181</td>\n",
       "    </tr>\n",
       "    <tr>\n",
       "      <th>Lake Stevens 002</th>\n",
       "      <td>952.199788</td>\n",
       "    </tr>\n",
       "    <tr>\n",
       "      <th>Langley</th>\n",
       "      <td>25.153464</td>\n",
       "    </tr>\n",
       "    <tr>\n",
       "      <th>Marysville</th>\n",
       "      <td>1137.967904</td>\n",
       "    </tr>\n",
       "    <tr>\n",
       "      <th>Mt Vernon</th>\n",
       "      <td>1489.577185</td>\n",
       "    </tr>\n",
       "    <tr>\n",
       "      <th>Mukilteo</th>\n",
       "      <td>426.791208</td>\n",
       "    </tr>\n",
       "    <tr>\n",
       "      <th>Oak Harbor Lagoon</th>\n",
       "      <td>662.843746</td>\n",
       "    </tr>\n",
       "    <tr>\n",
       "      <th>OF100</th>\n",
       "      <td>4141.558450</td>\n",
       "    </tr>\n",
       "    <tr>\n",
       "      <th>Penn Cove</th>\n",
       "      <td>12.015910</td>\n",
       "    </tr>\n",
       "    <tr>\n",
       "      <th>Skagit County 2 Big Lake</th>\n",
       "      <td>54.957380</td>\n",
       "    </tr>\n",
       "    <tr>\n",
       "      <th>Snohomish</th>\n",
       "      <td>517.012625</td>\n",
       "    </tr>\n",
       "    <tr>\n",
       "      <th>Stanwood</th>\n",
       "      <td>208.523092</td>\n",
       "    </tr>\n",
       "    <tr>\n",
       "      <th>Swinomish</th>\n",
       "      <td>65.804896</td>\n",
       "    </tr>\n",
       "    <tr>\n",
       "      <th>Tulalip</th>\n",
       "      <td>83.896111</td>\n",
       "    </tr>\n",
       "    <tr>\n",
       "      <th>Warm Beach Campground</th>\n",
       "      <td>6.502387</td>\n",
       "    </tr>\n",
       "  </tbody>\n",
       "</table>\n",
       "</div>"
      ],
      "text/plain": [
       "                            Annual Total Flow (MG/year)\n",
       "  Coupeville                                  64.422249\n",
       "  Everett Snohomish                         4283.165000\n",
       "  La Conner                                  109.709181\n",
       "  Lake Stevens 002                           952.199788\n",
       "  Langley                                     25.153464\n",
       "  Marysville                                1137.967904\n",
       "  Mt Vernon                                 1489.577185\n",
       "  Mukilteo                                   426.791208\n",
       "  Oak Harbor Lagoon                          662.843746\n",
       "  OF100                                     4141.558450\n",
       "  Penn Cove                                   12.015910\n",
       "  Skagit County 2 Big Lake                    54.957380\n",
       "  Snohomish                                  517.012625\n",
       "  Stanwood                                   208.523092\n",
       "  Swinomish                                   65.804896\n",
       "  Tulalip                                     83.896111\n",
       "  Warm Beach Campground                        6.502387"
      ]
     },
     "execution_count": 12,
     "metadata": {},
     "output_type": "execute_result"
    }
   ],
   "source": [
    "# WWTP: create a dataframe with Annual total flow\n",
    "wwtp_flow=[]\n",
    "for wwtp in [*ssm['WWTP_names']]:\n",
    "    wwtp_flow.append(flow_df[wwtp][2]) \n",
    "wwtp_flow_df = pandas.DataFrame({'Annual Total Flow (MG/year)':wwtp_flow}, index=ssm['WWTP_names'])\n",
    "wwtp_flow_df"
   ]
  },
  {
   "cell_type": "code",
   "execution_count": 13,
   "id": "8e80170b-1b00-4ec9-bc7e-484d7612719c",
   "metadata": {},
   "outputs": [
    {
     "data": {
      "text/html": [
       "<div>\n",
       "<style scoped>\n",
       "    .dataframe tbody tr th:only-of-type {\n",
       "        vertical-align: middle;\n",
       "    }\n",
       "\n",
       "    .dataframe tbody tr th {\n",
       "        vertical-align: top;\n",
       "    }\n",
       "\n",
       "    .dataframe thead th {\n",
       "        text-align: right;\n",
       "    }\n",
       "</style>\n",
       "<table border=\"1\" class=\"dataframe\">\n",
       "  <thead>\n",
       "    <tr style=\"text-align: right;\">\n",
       "      <th></th>\n",
       "      <th>Annual Total Flow (MG/year)</th>\n",
       "    </tr>\n",
       "  </thead>\n",
       "  <tbody>\n",
       "    <tr>\n",
       "      <th>Skagit R_1</th>\n",
       "      <td>2.786952e+06</td>\n",
       "    </tr>\n",
       "    <tr>\n",
       "      <th>Skagit R_2</th>\n",
       "      <td>2.786952e+06</td>\n",
       "    </tr>\n",
       "    <tr>\n",
       "      <th>Snohomish R_1</th>\n",
       "      <td>1.483102e+06</td>\n",
       "    </tr>\n",
       "    <tr>\n",
       "      <th>Snohomish R_2</th>\n",
       "      <td>1.483102e+06</td>\n",
       "    </tr>\n",
       "    <tr>\n",
       "      <th>Stillaguamish R_1</th>\n",
       "      <td>6.218220e+05</td>\n",
       "    </tr>\n",
       "    <tr>\n",
       "      <th>Stillaguamish R_2</th>\n",
       "      <td>6.218220e+05</td>\n",
       "    </tr>\n",
       "    <tr>\n",
       "      <th>Whidbey east</th>\n",
       "      <td>2.769104e+04</td>\n",
       "    </tr>\n",
       "  </tbody>\n",
       "</table>\n",
       "</div>"
      ],
      "text/plain": [
       "                     Annual Total Flow (MG/year)\n",
       "  Skagit R_1                        2.786952e+06\n",
       "  Skagit R_2                        2.786952e+06\n",
       "  Snohomish R_1                     1.483102e+06\n",
       "  Snohomish R_2                     1.483102e+06\n",
       "  Stillaguamish R_1                 6.218220e+05\n",
       "  Stillaguamish R_2                 6.218220e+05\n",
       "  Whidbey east                      2.769104e+04"
      ]
     },
     "execution_count": 13,
     "metadata": {},
     "output_type": "execute_result"
    }
   ],
   "source": [
    "# Rivers: create a dataframe with Annual total flow\n",
    "river_flow=[]\n",
    "for river in [*ssm['river_names']]:\n",
    "    river_flow.append(flow_df[river][2]) \n",
    "river_flow_df = pandas.DataFrame({'Annual Total Flow (MG/year)':river_flow}, index=ssm['river_names'])\n",
    "river_flow_df\n"
   ]
  },
  {
   "cell_type": "markdown",
   "id": "4f81f67d-f157-45f2-9be1-ab8ee139cd78",
   "metadata": {},
   "source": [
    "## Loop through all runs and combine NO3 and NH4 loadings\n",
    "\n",
    "THIS IS SLOW!!!  \n",
    "\n",
    "Future upgrade: Put this in a separate notebook and save the output so that I can just read the output in"
   ]
  },
  {
   "cell_type": "code",
   "execution_count": 14,
   "id": "7b955dd6-057a-4ac4-827a-ce48572045e8",
   "metadata": {},
   "outputs": [
    {
     "name": "stdout",
     "output_type": "stream",
     "text": [
      "ref\n",
      "exist\n",
      "1b\n",
      "1c\n",
      "1d\n",
      "1e\n",
      "2a\n",
      "2b\n",
      "3b\n",
      "3c\n",
      "3e\n",
      "3f\n",
      "3g\n",
      "3h\n",
      "3i\n",
      "3l\n",
      "3m\n",
      "4c\n",
      "4d\n",
      "4e\n",
      "4f\n",
      "4g\n",
      "4h\n",
      "4i\n",
      "4j\n",
      "4k\n",
      "4l\n"
     ]
    }
   ],
   "source": [
    "no3={}\n",
    "nh4={}\n",
    "nitrogen = {}\n",
    "for run in run_list:\n",
    "    run_tag = run.split('_')[-1]\n",
    "    print(run_tag)\n",
    "    no3[run_tag]=pandas.read_excel(no3_f, sheet_name = run, index_col='Unnamed: 0').sum()\n",
    "    nh4[run_tag]=pandas.read_excel(nh4_f, sheet_name = run, index_col='Unnamed: 0').sum()\n",
    "    nitrogen[run_tag] = no3[run_tag] + nh4[run_tag]"
   ]
  },
  {
   "cell_type": "code",
   "execution_count": 44,
   "id": "e909c5ac-cc01-4229-94b8-75705fae7be5",
   "metadata": {},
   "outputs": [
    {
     "data": {
      "text/plain": [
       "3"
      ]
     },
     "execution_count": 44,
     "metadata": {},
     "output_type": "execute_result"
    }
   ],
   "source": [
    "pandas.options.display.max_columns = None\n",
    "sum(nitrogen['exist'][all_wwtps_list]==0)"
   ]
  },
  {
   "cell_type": "code",
   "execution_count": 52,
   "id": "569561b2-6597-4e69-9a41-e4745dfa1d90",
   "metadata": {},
   "outputs": [
    {
     "data": {
      "text/plain": [
       "259"
      ]
     },
     "execution_count": 52,
     "metadata": {},
     "output_type": "execute_result"
    }
   ],
   "source": [
    "len(nitrogen['exist'][all_rivers_list])+len(nitrogen['exist'][all_wwtps_list])"
   ]
  },
  {
   "cell_type": "code",
   "execution_count": null,
   "id": "a3ac094c-f0cb-44a7-a731-b3b0f837eb3c",
   "metadata": {},
   "outputs": [],
   "source": [
    "len((nitrogen['exist']))"
   ]
  },
  {
   "cell_type": "markdown",
   "id": "d40ee4b8-c5fa-488a-af8a-7dc058f94be0",
   "metadata": {},
   "source": [
    "## Place values in a dataframe"
   ]
  },
  {
   "cell_type": "code",
   "execution_count": 15,
   "id": "18998e29-d2d8-4e60-9ab3-19747de1da60",
   "metadata": {},
   "outputs": [
    {
     "data": {
      "text/html": [
       "<div>\n",
       "<style scoped>\n",
       "    .dataframe tbody tr th:only-of-type {\n",
       "        vertical-align: middle;\n",
       "    }\n",
       "\n",
       "    .dataframe tbody tr th {\n",
       "        vertical-align: top;\n",
       "    }\n",
       "\n",
       "    .dataframe thead th {\n",
       "        text-align: right;\n",
       "    }\n",
       "</style>\n",
       "<table border=\"1\" class=\"dataframe\">\n",
       "  <thead>\n",
       "    <tr style=\"text-align: right;\">\n",
       "      <th></th>\n",
       "      <th>ref</th>\n",
       "      <th>exist</th>\n",
       "      <th>1b</th>\n",
       "      <th>1c</th>\n",
       "      <th>1d</th>\n",
       "      <th>1e</th>\n",
       "      <th>2a</th>\n",
       "      <th>2b</th>\n",
       "      <th>3b</th>\n",
       "      <th>3c</th>\n",
       "      <th>...</th>\n",
       "      <th>4c</th>\n",
       "      <th>4d</th>\n",
       "      <th>4e</th>\n",
       "      <th>4f</th>\n",
       "      <th>4g</th>\n",
       "      <th>4h</th>\n",
       "      <th>4i</th>\n",
       "      <th>4j</th>\n",
       "      <th>4k</th>\n",
       "      <th>4l</th>\n",
       "    </tr>\n",
       "  </thead>\n",
       "  <tbody>\n",
       "    <tr>\n",
       "      <th>Agate East</th>\n",
       "      <td>2.076955e+03</td>\n",
       "      <td>4.925721e+03</td>\n",
       "      <td>4.925721e+03</td>\n",
       "      <td>4.925721e+03</td>\n",
       "      <td>4.925721e+03</td>\n",
       "      <td>4.925721e+03</td>\n",
       "      <td>4.925721e+03</td>\n",
       "      <td>4.925721e+03</td>\n",
       "      <td>4.925721e+03</td>\n",
       "      <td>4.925721e+03</td>\n",
       "      <td>...</td>\n",
       "      <td>4.925721e+03</td>\n",
       "      <td>4.925721e+03</td>\n",
       "      <td>4.925721e+03</td>\n",
       "      <td>4.925721e+03</td>\n",
       "      <td>4.925721e+03</td>\n",
       "      <td>4.925721e+03</td>\n",
       "      <td>4.925721e+03</td>\n",
       "      <td>4.925721e+03</td>\n",
       "      <td>4.925721e+03</td>\n",
       "      <td>4.925721e+03</td>\n",
       "    </tr>\n",
       "    <tr>\n",
       "      <th>Agate West</th>\n",
       "      <td>3.832850e+02</td>\n",
       "      <td>9.365779e+02</td>\n",
       "      <td>9.365779e+02</td>\n",
       "      <td>9.365779e+02</td>\n",
       "      <td>9.365779e+02</td>\n",
       "      <td>9.365779e+02</td>\n",
       "      <td>9.365779e+02</td>\n",
       "      <td>9.365779e+02</td>\n",
       "      <td>9.365779e+02</td>\n",
       "      <td>9.365779e+02</td>\n",
       "      <td>...</td>\n",
       "      <td>9.365779e+02</td>\n",
       "      <td>9.365779e+02</td>\n",
       "      <td>9.365779e+02</td>\n",
       "      <td>9.365779e+02</td>\n",
       "      <td>9.365779e+02</td>\n",
       "      <td>9.365779e+02</td>\n",
       "      <td>9.365779e+02</td>\n",
       "      <td>9.365779e+02</td>\n",
       "      <td>9.365779e+02</td>\n",
       "      <td>9.365779e+02</td>\n",
       "    </tr>\n",
       "    <tr>\n",
       "      <th>Anderson east</th>\n",
       "      <td>5.000554e+02</td>\n",
       "      <td>3.446357e+03</td>\n",
       "      <td>3.446357e+03</td>\n",
       "      <td>3.446357e+03</td>\n",
       "      <td>3.446357e+03</td>\n",
       "      <td>3.446357e+03</td>\n",
       "      <td>3.446357e+03</td>\n",
       "      <td>3.446357e+03</td>\n",
       "      <td>3.446357e+03</td>\n",
       "      <td>3.446357e+03</td>\n",
       "      <td>...</td>\n",
       "      <td>3.446357e+03</td>\n",
       "      <td>3.446357e+03</td>\n",
       "      <td>3.446357e+03</td>\n",
       "      <td>3.446357e+03</td>\n",
       "      <td>3.446357e+03</td>\n",
       "      <td>3.446357e+03</td>\n",
       "      <td>3.446357e+03</td>\n",
       "      <td>3.446357e+03</td>\n",
       "      <td>3.446357e+03</td>\n",
       "      <td>3.446357e+03</td>\n",
       "    </tr>\n",
       "    <tr>\n",
       "      <th>Anderson west</th>\n",
       "      <td>1.548021e+03</td>\n",
       "      <td>1.064476e+04</td>\n",
       "      <td>1.064476e+04</td>\n",
       "      <td>1.064476e+04</td>\n",
       "      <td>1.064476e+04</td>\n",
       "      <td>1.064476e+04</td>\n",
       "      <td>1.064476e+04</td>\n",
       "      <td>1.064476e+04</td>\n",
       "      <td>1.064476e+04</td>\n",
       "      <td>1.064476e+04</td>\n",
       "      <td>...</td>\n",
       "      <td>1.064476e+04</td>\n",
       "      <td>1.064476e+04</td>\n",
       "      <td>1.064476e+04</td>\n",
       "      <td>1.064476e+04</td>\n",
       "      <td>1.064476e+04</td>\n",
       "      <td>1.064476e+04</td>\n",
       "      <td>1.064476e+04</td>\n",
       "      <td>1.064476e+04</td>\n",
       "      <td>1.064476e+04</td>\n",
       "      <td>1.064476e+04</td>\n",
       "    </tr>\n",
       "    <tr>\n",
       "      <th>Artondale</th>\n",
       "      <td>2.938509e+03</td>\n",
       "      <td>1.110986e+04</td>\n",
       "      <td>1.110986e+04</td>\n",
       "      <td>1.110986e+04</td>\n",
       "      <td>1.110986e+04</td>\n",
       "      <td>1.110986e+04</td>\n",
       "      <td>1.110986e+04</td>\n",
       "      <td>1.110986e+04</td>\n",
       "      <td>1.110986e+04</td>\n",
       "      <td>1.110986e+04</td>\n",
       "      <td>...</td>\n",
       "      <td>1.110986e+04</td>\n",
       "      <td>1.110986e+04</td>\n",
       "      <td>1.110986e+04</td>\n",
       "      <td>1.110986e+04</td>\n",
       "      <td>1.110986e+04</td>\n",
       "      <td>1.110986e+04</td>\n",
       "      <td>1.110986e+04</td>\n",
       "      <td>1.110986e+04</td>\n",
       "      <td>1.110986e+04</td>\n",
       "      <td>1.110986e+04</td>\n",
       "    </tr>\n",
       "    <tr>\n",
       "      <th>...</th>\n",
       "      <td>...</td>\n",
       "      <td>...</td>\n",
       "      <td>...</td>\n",
       "      <td>...</td>\n",
       "      <td>...</td>\n",
       "      <td>...</td>\n",
       "      <td>...</td>\n",
       "      <td>...</td>\n",
       "      <td>...</td>\n",
       "      <td>...</td>\n",
       "      <td>...</td>\n",
       "      <td>...</td>\n",
       "      <td>...</td>\n",
       "      <td>...</td>\n",
       "      <td>...</td>\n",
       "      <td>...</td>\n",
       "      <td>...</td>\n",
       "      <td>...</td>\n",
       "      <td>...</td>\n",
       "      <td>...</td>\n",
       "      <td>...</td>\n",
       "    </tr>\n",
       "    <tr>\n",
       "      <th>Clover Point</th>\n",
       "      <td>3.247000e+06</td>\n",
       "      <td>3.247000e+06</td>\n",
       "      <td>3.247000e+06</td>\n",
       "      <td>3.247000e+06</td>\n",
       "      <td>3.247000e+06</td>\n",
       "      <td>3.247000e+06</td>\n",
       "      <td>3.247000e+06</td>\n",
       "      <td>3.247000e+06</td>\n",
       "      <td>3.247000e+06</td>\n",
       "      <td>3.247000e+06</td>\n",
       "      <td>...</td>\n",
       "      <td>3.247000e+06</td>\n",
       "      <td>3.247000e+06</td>\n",
       "      <td>3.247000e+06</td>\n",
       "      <td>3.247000e+06</td>\n",
       "      <td>3.247000e+06</td>\n",
       "      <td>3.247000e+06</td>\n",
       "      <td>3.247000e+06</td>\n",
       "      <td>3.247000e+06</td>\n",
       "      <td>3.247000e+06</td>\n",
       "      <td>3.247000e+06</td>\n",
       "    </tr>\n",
       "    <tr>\n",
       "      <th>Gulf Islands</th>\n",
       "      <td>2.701324e+03</td>\n",
       "      <td>2.701324e+03</td>\n",
       "      <td>2.701324e+03</td>\n",
       "      <td>2.701324e+03</td>\n",
       "      <td>2.701324e+03</td>\n",
       "      <td>2.701324e+03</td>\n",
       "      <td>2.701324e+03</td>\n",
       "      <td>2.701324e+03</td>\n",
       "      <td>2.701324e+03</td>\n",
       "      <td>2.701324e+03</td>\n",
       "      <td>...</td>\n",
       "      <td>2.701324e+03</td>\n",
       "      <td>2.701324e+03</td>\n",
       "      <td>2.701324e+03</td>\n",
       "      <td>2.701324e+03</td>\n",
       "      <td>2.701324e+03</td>\n",
       "      <td>2.701324e+03</td>\n",
       "      <td>2.701324e+03</td>\n",
       "      <td>2.701324e+03</td>\n",
       "      <td>2.701324e+03</td>\n",
       "      <td>2.701324e+03</td>\n",
       "    </tr>\n",
       "    <tr>\n",
       "      <th>Macaulay</th>\n",
       "      <td>6.670328e+05</td>\n",
       "      <td>6.670328e+05</td>\n",
       "      <td>6.670328e+05</td>\n",
       "      <td>6.670328e+05</td>\n",
       "      <td>6.670328e+05</td>\n",
       "      <td>6.670328e+05</td>\n",
       "      <td>6.670328e+05</td>\n",
       "      <td>6.670328e+05</td>\n",
       "      <td>6.670328e+05</td>\n",
       "      <td>6.670328e+05</td>\n",
       "      <td>...</td>\n",
       "      <td>6.670328e+05</td>\n",
       "      <td>6.670328e+05</td>\n",
       "      <td>6.670328e+05</td>\n",
       "      <td>6.670328e+05</td>\n",
       "      <td>6.670328e+05</td>\n",
       "      <td>6.670328e+05</td>\n",
       "      <td>6.670328e+05</td>\n",
       "      <td>6.670328e+05</td>\n",
       "      <td>6.670328e+05</td>\n",
       "      <td>6.670328e+05</td>\n",
       "    </tr>\n",
       "    <tr>\n",
       "      <th>Saanich</th>\n",
       "      <td>4.863181e+04</td>\n",
       "      <td>4.863181e+04</td>\n",
       "      <td>4.863181e+04</td>\n",
       "      <td>4.863181e+04</td>\n",
       "      <td>4.863181e+04</td>\n",
       "      <td>4.863181e+04</td>\n",
       "      <td>4.863181e+04</td>\n",
       "      <td>4.863181e+04</td>\n",
       "      <td>4.863181e+04</td>\n",
       "      <td>4.863181e+04</td>\n",
       "      <td>...</td>\n",
       "      <td>4.863181e+04</td>\n",
       "      <td>4.863181e+04</td>\n",
       "      <td>4.863181e+04</td>\n",
       "      <td>4.863181e+04</td>\n",
       "      <td>4.863181e+04</td>\n",
       "      <td>4.863181e+04</td>\n",
       "      <td>4.863181e+04</td>\n",
       "      <td>4.863181e+04</td>\n",
       "      <td>4.863181e+04</td>\n",
       "      <td>4.863181e+04</td>\n",
       "    </tr>\n",
       "    <tr>\n",
       "      <th>Cushman No 2</th>\n",
       "      <td>3.972729e+04</td>\n",
       "      <td>3.972729e+04</td>\n",
       "      <td>3.972729e+04</td>\n",
       "      <td>3.972729e+04</td>\n",
       "      <td>3.972729e+04</td>\n",
       "      <td>3.972729e+04</td>\n",
       "      <td>3.972729e+04</td>\n",
       "      <td>3.972729e+04</td>\n",
       "      <td>3.972729e+04</td>\n",
       "      <td>3.972729e+04</td>\n",
       "      <td>...</td>\n",
       "      <td>3.972729e+04</td>\n",
       "      <td>3.972729e+04</td>\n",
       "      <td>3.972729e+04</td>\n",
       "      <td>3.972729e+04</td>\n",
       "      <td>3.972729e+04</td>\n",
       "      <td>3.972729e+04</td>\n",
       "      <td>3.972729e+04</td>\n",
       "      <td>3.972729e+04</td>\n",
       "      <td>3.972729e+04</td>\n",
       "      <td>3.972729e+04</td>\n",
       "    </tr>\n",
       "  </tbody>\n",
       "</table>\n",
       "<p>259 rows × 27 columns</p>\n",
       "</div>"
      ],
      "text/plain": [
       "                          ref         exist            1b            1c  \\\n",
       "  Agate East     2.076955e+03  4.925721e+03  4.925721e+03  4.925721e+03   \n",
       "  Agate West     3.832850e+02  9.365779e+02  9.365779e+02  9.365779e+02   \n",
       "  Anderson east  5.000554e+02  3.446357e+03  3.446357e+03  3.446357e+03   \n",
       "  Anderson west  1.548021e+03  1.064476e+04  1.064476e+04  1.064476e+04   \n",
       "  Artondale      2.938509e+03  1.110986e+04  1.110986e+04  1.110986e+04   \n",
       "...                       ...           ...           ...           ...   \n",
       "  Clover Point   3.247000e+06  3.247000e+06  3.247000e+06  3.247000e+06   \n",
       "  Gulf Islands   2.701324e+03  2.701324e+03  2.701324e+03  2.701324e+03   \n",
       "  Macaulay       6.670328e+05  6.670328e+05  6.670328e+05  6.670328e+05   \n",
       "  Saanich        4.863181e+04  4.863181e+04  4.863181e+04  4.863181e+04   \n",
       "  Cushman No 2   3.972729e+04  3.972729e+04  3.972729e+04  3.972729e+04   \n",
       "\n",
       "                           1d            1e            2a            2b  \\\n",
       "  Agate East     4.925721e+03  4.925721e+03  4.925721e+03  4.925721e+03   \n",
       "  Agate West     9.365779e+02  9.365779e+02  9.365779e+02  9.365779e+02   \n",
       "  Anderson east  3.446357e+03  3.446357e+03  3.446357e+03  3.446357e+03   \n",
       "  Anderson west  1.064476e+04  1.064476e+04  1.064476e+04  1.064476e+04   \n",
       "  Artondale      1.110986e+04  1.110986e+04  1.110986e+04  1.110986e+04   \n",
       "...                       ...           ...           ...           ...   \n",
       "  Clover Point   3.247000e+06  3.247000e+06  3.247000e+06  3.247000e+06   \n",
       "  Gulf Islands   2.701324e+03  2.701324e+03  2.701324e+03  2.701324e+03   \n",
       "  Macaulay       6.670328e+05  6.670328e+05  6.670328e+05  6.670328e+05   \n",
       "  Saanich        4.863181e+04  4.863181e+04  4.863181e+04  4.863181e+04   \n",
       "  Cushman No 2   3.972729e+04  3.972729e+04  3.972729e+04  3.972729e+04   \n",
       "\n",
       "                           3b            3c  ...            4c            4d  \\\n",
       "  Agate East     4.925721e+03  4.925721e+03  ...  4.925721e+03  4.925721e+03   \n",
       "  Agate West     9.365779e+02  9.365779e+02  ...  9.365779e+02  9.365779e+02   \n",
       "  Anderson east  3.446357e+03  3.446357e+03  ...  3.446357e+03  3.446357e+03   \n",
       "  Anderson west  1.064476e+04  1.064476e+04  ...  1.064476e+04  1.064476e+04   \n",
       "  Artondale      1.110986e+04  1.110986e+04  ...  1.110986e+04  1.110986e+04   \n",
       "...                       ...           ...  ...           ...           ...   \n",
       "  Clover Point   3.247000e+06  3.247000e+06  ...  3.247000e+06  3.247000e+06   \n",
       "  Gulf Islands   2.701324e+03  2.701324e+03  ...  2.701324e+03  2.701324e+03   \n",
       "  Macaulay       6.670328e+05  6.670328e+05  ...  6.670328e+05  6.670328e+05   \n",
       "  Saanich        4.863181e+04  4.863181e+04  ...  4.863181e+04  4.863181e+04   \n",
       "  Cushman No 2   3.972729e+04  3.972729e+04  ...  3.972729e+04  3.972729e+04   \n",
       "\n",
       "                           4e            4f            4g            4h  \\\n",
       "  Agate East     4.925721e+03  4.925721e+03  4.925721e+03  4.925721e+03   \n",
       "  Agate West     9.365779e+02  9.365779e+02  9.365779e+02  9.365779e+02   \n",
       "  Anderson east  3.446357e+03  3.446357e+03  3.446357e+03  3.446357e+03   \n",
       "  Anderson west  1.064476e+04  1.064476e+04  1.064476e+04  1.064476e+04   \n",
       "  Artondale      1.110986e+04  1.110986e+04  1.110986e+04  1.110986e+04   \n",
       "...                       ...           ...           ...           ...   \n",
       "  Clover Point   3.247000e+06  3.247000e+06  3.247000e+06  3.247000e+06   \n",
       "  Gulf Islands   2.701324e+03  2.701324e+03  2.701324e+03  2.701324e+03   \n",
       "  Macaulay       6.670328e+05  6.670328e+05  6.670328e+05  6.670328e+05   \n",
       "  Saanich        4.863181e+04  4.863181e+04  4.863181e+04  4.863181e+04   \n",
       "  Cushman No 2   3.972729e+04  3.972729e+04  3.972729e+04  3.972729e+04   \n",
       "\n",
       "                           4i            4j            4k            4l  \n",
       "  Agate East     4.925721e+03  4.925721e+03  4.925721e+03  4.925721e+03  \n",
       "  Agate West     9.365779e+02  9.365779e+02  9.365779e+02  9.365779e+02  \n",
       "  Anderson east  3.446357e+03  3.446357e+03  3.446357e+03  3.446357e+03  \n",
       "  Anderson west  1.064476e+04  1.064476e+04  1.064476e+04  1.064476e+04  \n",
       "  Artondale      1.110986e+04  1.110986e+04  1.110986e+04  1.110986e+04  \n",
       "...                       ...           ...           ...           ...  \n",
       "  Clover Point   3.247000e+06  3.247000e+06  3.247000e+06  3.247000e+06  \n",
       "  Gulf Islands   2.701324e+03  2.701324e+03  2.701324e+03  2.701324e+03  \n",
       "  Macaulay       6.670328e+05  6.670328e+05  6.670328e+05  6.670328e+05  \n",
       "  Saanich        4.863181e+04  4.863181e+04  4.863181e+04  4.863181e+04  \n",
       "  Cushman No 2   3.972729e+04  3.972729e+04  3.972729e+04  3.972729e+04  \n",
       "\n",
       "[259 rows x 27 columns]"
      ]
     },
     "execution_count": 15,
     "metadata": {},
     "output_type": "execute_result"
    }
   ],
   "source": [
    "nitrogen_df = pandas.DataFrame(nitrogen)\n",
    "nitrogen_df"
   ]
  },
  {
   "cell_type": "code",
   "execution_count": 35,
   "id": "284f7628-2259-4c7a-abaf-be53c4ef12c3",
   "metadata": {},
   "outputs": [
    {
     "data": {
      "text/plain": [
       "51748970.952355914"
      ]
     },
     "execution_count": 35,
     "metadata": {},
     "output_type": "execute_result"
    }
   ],
   "source": [
    "nitrogen_df[\"exist\"].sum()"
   ]
  },
  {
   "cell_type": "markdown",
   "id": "69011237-7b88-4b82-98cf-7d8bca3e3294",
   "metadata": {},
   "source": [
    "### Use list of WWTP in configuration file to create a boolean array for selecting values"
   ]
  },
  {
   "cell_type": "code",
   "execution_count": 16,
   "id": "9a4b40b2-1d86-4861-a380-935b2cf4b988",
   "metadata": {},
   "outputs": [
    {
     "data": {
      "text/plain": [
       "(99, 27)"
      ]
     },
     "execution_count": 16,
     "metadata": {},
     "output_type": "execute_result"
    }
   ],
   "source": [
    "# all_wwtp is a boolean array that shows True for row with WWTP in list\n",
    "all_wwtp= nitrogen_df.index.isin(all_wwtps_list)\n",
    "nitrogen_df[all_wwtp].shape"
   ]
  },
  {
   "cell_type": "code",
   "execution_count": 17,
   "id": "b73e91ee-2be1-435b-8ac9-69ab8eebaade",
   "metadata": {},
   "outputs": [
    {
     "data": {
      "text/plain": [
       "26214376.93179864"
      ]
     },
     "execution_count": 17,
     "metadata": {},
     "output_type": "execute_result"
    }
   ],
   "source": [
    "nitrogen_df[all_wwtp]['exist'].sum()"
   ]
  },
  {
   "cell_type": "markdown",
   "id": "b1941b57-e454-440b-907a-32d3ad21f3db",
   "metadata": {},
   "source": [
    "##### The above value is different than the value in the SOG_NB report"
   ]
  },
  {
   "cell_type": "markdown",
   "id": "0ee169d4-9d1d-4875-92e3-63b4769ba8fe",
   "metadata": {},
   "source": [
    "### Compare wwtp_locations with nitrogen_df"
   ]
  },
  {
   "cell_type": "code",
   "execution_count": 18,
   "id": "bacada39-8543-4e57-a833-82dca9e5af78",
   "metadata": {},
   "outputs": [
    {
     "data": {
      "text/plain": [
       "  Alderbrook               1.909048e+02\n",
       "  Alderwood                3.850402e+04\n",
       "  Anacortes                6.355037e+04\n",
       "  Annacis                  5.375840e+06\n",
       "  BP Cherry Point          2.497249e+03\n",
       "                               ...     \n",
       "  Vashon                   2.178897e+03\n",
       "  Warm Beach Campground    1.359896e+02\n",
       "  West Point               3.344947e+06\n",
       "  West Rock                4.949032e+03\n",
       "  Whidbey Naval Station    2.085820e+03\n",
       "Name: N-load, Length: 99, dtype: float64"
      ]
     },
     "execution_count": 18,
     "metadata": {},
     "output_type": "execute_result"
    }
   ],
   "source": [
    "wwtp_locations.sort_index(ascending=True)['N-load']"
   ]
  },
  {
   "cell_type": "code",
   "execution_count": 19,
   "id": "3dcadcec-bc07-45a0-93e8-d28b4186416e",
   "metadata": {},
   "outputs": [
    {
     "data": {
      "text/plain": [
       "  Alderbrook               1.909048e+02\n",
       "  Alderwood                3.850402e+04\n",
       "  Anacortes                6.355037e+04\n",
       "  Annacis                  5.375840e+06\n",
       "  BP Cherry Point          2.497249e+03\n",
       "                               ...     \n",
       "  Vashon                   2.178897e+03\n",
       "  Warm Beach Campground    1.359896e+02\n",
       "  West Point               3.344947e+06\n",
       "  West Rock                4.949032e+03\n",
       "  Whidbey Naval Station    2.085820e+03\n",
       "Name: exist, Length: 99, dtype: float64"
      ]
     },
     "execution_count": 19,
     "metadata": {},
     "output_type": "execute_result"
    }
   ],
   "source": [
    "nitrogen_df[all_wwtp].sort_index(ascending=True)['exist']"
   ]
  },
  {
   "cell_type": "markdown",
   "id": "3820dc8e-3cdd-4688-bf3a-1795bd3081b9",
   "metadata": {},
   "source": [
    "### Take difference of two information sources and find where differences occur"
   ]
  },
  {
   "cell_type": "code",
   "execution_count": 20,
   "id": "224e5f6b-eeec-4400-8e29-87328271c318",
   "metadata": {},
   "outputs": [
    {
     "data": {
      "text/plain": [
       "23356.677078544264"
      ]
     },
     "execution_count": 20,
     "metadata": {},
     "output_type": "execute_result"
    }
   ],
   "source": [
    "np.sum(wwtp_locations.sort_index(ascending=True)['N-load']-nitrogen_df[all_wwtp].sort_index(ascending=True)['exist'])"
   ]
  },
  {
   "cell_type": "code",
   "execution_count": 21,
   "id": "dc05de4c-dc7f-43dd-aa5c-fdb2a746d5a8",
   "metadata": {},
   "outputs": [
    {
     "data": {
      "text/plain": [
       "26237733.607"
      ]
     },
     "execution_count": 21,
     "metadata": {},
     "output_type": "execute_result"
    }
   ],
   "source": [
    "23356.677+26214376.93"
   ]
  },
  {
   "cell_type": "markdown",
   "id": "a12b6898-76d0-408d-967d-3647f1105285",
   "metadata": {},
   "source": [
    "### Yup!  This is the missing loading! "
   ]
  },
  {
   "cell_type": "code",
   "execution_count": 22,
   "id": "4c02134f-1449-413e-861e-513e71a26ed5",
   "metadata": {},
   "outputs": [
    {
     "data": {
      "text/plain": [
       "26"
      ]
     },
     "execution_count": 22,
     "metadata": {},
     "output_type": "execute_result"
    }
   ],
   "source": [
    "diff=wwtp_locations.sort_index(ascending=True)['N-load']-nitrogen_df[all_wwtp].sort_index(ascending=True)['exist']\n",
    "bool_diff=(diff>0)\n",
    "np.sum(bool_diff)"
   ]
  },
  {
   "cell_type": "code",
   "execution_count": 24,
   "id": "a1ac19cd-5cb6-44a3-8d0c-345e8ca59970",
   "metadata": {},
   "outputs": [
    {
     "data": {
      "text/plain": [
       "<AxesSubplot:>"
      ]
     },
     "execution_count": 24,
     "metadata": {},
     "output_type": "execute_result"
    },
    {
     "name": "stderr",
     "output_type": "stream",
     "text": [
      "findfont: Font family ['arial'] not found. Falling back to DejaVu Sans.\n"
     ]
    },
    {
     "data": {
      "image/png": "[encoded data removed]",
      "text/plain": [
       "<Figure size 432x288 with 1 Axes>"
      ]
     },
     "metadata": {
      "needs_background": "light"
     },
     "output_type": "display_data"
    }
   ],
   "source": [
    "diff.plot()"
   ]
  },
  {
   "cell_type": "code",
   "execution_count": 26,
   "id": "5cb38f5d-230c-4167-a501-8012dafce58a",
   "metadata": {},
   "outputs": [
    {
     "data": {
      "text/plain": [
       "4"
      ]
     },
     "execution_count": 26,
     "metadata": {},
     "output_type": "execute_result"
    }
   ],
   "source": [
    "bool_diff = (np.abs(diff)> 100)\n",
    "np.sum(bool_diff)"
   ]
  },
  {
   "cell_type": "markdown",
   "id": "7386a046-d274-45e5-8c34-1c0626986aa9",
   "metadata": {},
   "source": [
    "### Create list of the 4 WWTPs that have different loadings > 100 "
   ]
  },
  {
   "cell_type": "code",
   "execution_count": 27,
   "id": "acc43941-eb03-44bb-833a-1838829318fb",
   "metadata": {},
   "outputs": [
    {
     "name": "stderr",
     "output_type": "stream",
     "text": [
      "/tmp/ipykernel_66770/451149063.py:1: UserWarning: Boolean Series key will be reindexed to match DataFrame index.\n",
      "  WWTP_diff_list = nitrogen_df[all_wwtp][bool_diff].index.to_list()\n"
     ]
    }
   ],
   "source": [
    "WWTP_diff_list = nitrogen_df[all_wwtp][bool_diff].index.to_list()"
   ]
  },
  {
   "cell_type": "code",
   "execution_count": 28,
   "id": "6ba10c6b-e2cf-4b11-922f-5a5d926d68c5",
   "metadata": {},
   "outputs": [
    {
     "data": {
      "text/html": [
       "<div>\n",
       "<style scoped>\n",
       "    .dataframe tbody tr th:only-of-type {\n",
       "        vertical-align: middle;\n",
       "    }\n",
       "\n",
       "    .dataframe tbody tr th {\n",
       "        vertical-align: top;\n",
       "    }\n",
       "\n",
       "    .dataframe thead th {\n",
       "        text-align: right;\n",
       "    }\n",
       "</style>\n",
       "<table border=\"1\" class=\"dataframe\">\n",
       "  <thead>\n",
       "    <tr style=\"text-align: right;\">\n",
       "      <th></th>\n",
       "      <th>type</th>\n",
       "      <th>node_id</th>\n",
       "      <th>layer_distribute</th>\n",
       "      <th>basin</th>\n",
       "      <th>country</th>\n",
       "      <th>NH4[kg/year]</th>\n",
       "      <th>NO3NO2[kg/year]</th>\n",
       "      <th>N-load</th>\n",
       "    </tr>\n",
       "  </thead>\n",
       "  <tbody>\n",
       "    <tr>\n",
       "      <th>Gig Harbor</th>\n",
       "      <td>Point Source</td>\n",
       "      <td>13537</td>\n",
       "      <td>Layer 10</td>\n",
       "      <td>Puget_Main</td>\n",
       "      <td>United States</td>\n",
       "      <td>781.449978</td>\n",
       "      <td>6669.438459</td>\n",
       "      <td>7450.888438</td>\n",
       "    </tr>\n",
       "    <tr>\n",
       "      <th>Port Gamble</th>\n",
       "      <td>Point Source</td>\n",
       "      <td>7854</td>\n",
       "      <td>Layer 10</td>\n",
       "      <td>Hood_Canal</td>\n",
       "      <td>United States</td>\n",
       "      <td>14.645508</td>\n",
       "      <td>68.743308</td>\n",
       "      <td>83.388816</td>\n",
       "    </tr>\n",
       "    <tr>\n",
       "      <th>Port Townsend</th>\n",
       "      <td>Point Source</td>\n",
       "      <td>4477</td>\n",
       "      <td>Layer 10</td>\n",
       "      <td>Admiralty</td>\n",
       "      <td>United States</td>\n",
       "      <td>376.754522</td>\n",
       "      <td>6073.812074</td>\n",
       "      <td>6450.566596</td>\n",
       "    </tr>\n",
       "    <tr>\n",
       "      <th>Port Angeles</th>\n",
       "      <td>Point Source</td>\n",
       "      <td>3224</td>\n",
       "      <td>Layer 10</td>\n",
       "      <td>SJF</td>\n",
       "      <td>United States</td>\n",
       "      <td>35739.383155</td>\n",
       "      <td>27178.400077</td>\n",
       "      <td>62917.783233</td>\n",
       "    </tr>\n",
       "  </tbody>\n",
       "</table>\n",
       "</div>"
      ],
      "text/plain": [
       "                          type  node_id layer_distribute         basin  \\\n",
       "  Gig Harbor      Point Source    13537         Layer 10    Puget_Main   \n",
       "  Port Gamble     Point Source     7854         Layer 10    Hood_Canal   \n",
       "  Port Townsend   Point Source     4477         Layer 10     Admiralty   \n",
       "  Port Angeles    Point Source     3224         Layer 10           SJF   \n",
       "\n",
       "                         country  NH4[kg/year]  NO3NO2[kg/year]        N-load  \n",
       "  Gig Harbor       United States    781.449978      6669.438459   7450.888438  \n",
       "  Port Gamble      United States     14.645508        68.743308     83.388816  \n",
       "  Port Townsend    United States    376.754522      6073.812074   6450.566596  \n",
       "  Port Angeles     United States  35739.383155     27178.400077  62917.783233  "
      ]
     },
     "execution_count": 28,
     "metadata": {},
     "output_type": "execute_result"
    }
   ],
   "source": [
    "wwtp_locations[wwtp_locations.index.isin(WWTP_diff_list)]"
   ]
  },
  {
   "cell_type": "code",
   "execution_count": 30,
   "id": "c6c07bb6-be1d-48e9-811f-cd06ccdda430",
   "metadata": {},
   "outputs": [
    {
     "data": {
      "text/plain": [
       "  Gig Harbor       14491.382869\n",
       "  Port Gamble      23909.629995\n",
       "  Port Townsend     2578.203392\n",
       "  Port Angeles     12566.733747\n",
       "Name: exist, dtype: float64"
      ]
     },
     "execution_count": 30,
     "metadata": {},
     "output_type": "execute_result"
    }
   ],
   "source": [
    "nitrogen_df[nitrogen_df.index.isin(WWTP_diff_list)]['exist']"
   ]
  },
  {
   "cell_type": "code",
   "execution_count": 87,
   "id": "bed70e3f-e353-4b22-9135-aaed739920b6",
   "metadata": {},
   "outputs": [
    {
     "data": {
      "text/plain": [
       "sog_report_loading        76902.627082\n",
       "sog_report_NO3NO2         39990.393919\n",
       "sog_report_NH4            36912.233163\n",
       "whidbey_report_loading    53545.950003\n",
       "whidbey_report_NO3NO2     44877.433367\n",
       "whidbey_report_NH4         8668.516636\n",
       "difference                23356.677079\n",
       "dtype: float64"
      ]
     },
     "execution_count": 87,
     "metadata": {},
     "output_type": "execute_result"
    }
   ],
   "source": [
    "QAQC_difference={}\n",
    "# SOG report values\n",
    "QAQC_difference['sog_report_loading']=wwtp_locations[wwtp_locations.index.isin(WWTP_diff_list)]['N-load'].values\n",
    "QAQC_difference['sog_report_NO3NO2']=wwtp_locations[wwtp_locations.index.isin(WWTP_diff_list)]['NO3NO2[kg/year]'].values\n",
    "QAQC_difference['sog_report_NH4']=wwtp_locations[wwtp_locations.index.isin(WWTP_diff_list)]['NH4[kg/year]'].values\n",
    "# Whidbey report (my) values\n",
    "QAQC_difference['whidbey_report_loading']=nitrogen_df[nitrogen_df.index.isin(WWTP_diff_list)]['exist'].values\n",
    "# go back to the no3 and nh4 components in [14]\n",
    "QAQC_difference['whidbey_report_NO3NO2']= no3[\"exist\"][no3[\"exist\"].index.isin(WWTP_diff_list)].values\n",
    "QAQC_difference['whidbey_report_NH4']= nh4[\"exist\"][nh4[\"exist\"].index.isin(WWTP_diff_list)].values\n",
    "QAQC_difference_df = pandas.DataFrame(QAQC_difference, index = WWTP_diff_list)\n",
    "QAQC_difference_df['difference']=QAQC_difference_df['sog_report_loading']-QAQC_difference_df['whidbey_report_loading'] \n",
    "QAQC_difference_df.sum()"
   ]
  },
  {
   "cell_type": "code",
   "execution_count": 88,
   "id": "e463b914-b60b-417f-980a-b7823b2f676f",
   "metadata": {},
   "outputs": [
    {
     "data": {
      "text/html": [
       "<div>\n",
       "<style scoped>\n",
       "    .dataframe tbody tr th:only-of-type {\n",
       "        vertical-align: middle;\n",
       "    }\n",
       "\n",
       "    .dataframe tbody tr th {\n",
       "        vertical-align: top;\n",
       "    }\n",
       "\n",
       "    .dataframe thead th {\n",
       "        text-align: right;\n",
       "    }\n",
       "</style>\n",
       "<table border=\"1\" class=\"dataframe\">\n",
       "  <thead>\n",
       "    <tr style=\"text-align: right;\">\n",
       "      <th></th>\n",
       "      <th>sog_report_loading</th>\n",
       "      <th>sog_report_NO3NO2</th>\n",
       "      <th>sog_report_NH4</th>\n",
       "      <th>whidbey_report_loading</th>\n",
       "      <th>whidbey_report_NO3NO2</th>\n",
       "      <th>whidbey_report_NH4</th>\n",
       "      <th>difference</th>\n",
       "    </tr>\n",
       "  </thead>\n",
       "  <tbody>\n",
       "    <tr>\n",
       "      <th>Gig Harbor</th>\n",
       "      <td>7450.888438</td>\n",
       "      <td>6669.438459</td>\n",
       "      <td>781.449978</td>\n",
       "      <td>14491.382869</td>\n",
       "      <td>14173.821093</td>\n",
       "      <td>317.561776</td>\n",
       "      <td>-7040.494431</td>\n",
       "    </tr>\n",
       "    <tr>\n",
       "      <th>Port Gamble</th>\n",
       "      <td>83.388816</td>\n",
       "      <td>68.743308</td>\n",
       "      <td>14.645508</td>\n",
       "      <td>23909.629995</td>\n",
       "      <td>22379.150674</td>\n",
       "      <td>1530.479321</td>\n",
       "      <td>-23826.241180</td>\n",
       "    </tr>\n",
       "    <tr>\n",
       "      <th>Port Townsend</th>\n",
       "      <td>6450.566596</td>\n",
       "      <td>6073.812074</td>\n",
       "      <td>376.754522</td>\n",
       "      <td>2578.203392</td>\n",
       "      <td>1452.091546</td>\n",
       "      <td>1126.111846</td>\n",
       "      <td>3872.363204</td>\n",
       "    </tr>\n",
       "    <tr>\n",
       "      <th>Port Angeles</th>\n",
       "      <td>62917.783233</td>\n",
       "      <td>27178.400077</td>\n",
       "      <td>35739.383155</td>\n",
       "      <td>12566.733747</td>\n",
       "      <td>6872.370054</td>\n",
       "      <td>5694.363693</td>\n",
       "      <td>50351.049485</td>\n",
       "    </tr>\n",
       "  </tbody>\n",
       "</table>\n",
       "</div>"
      ],
      "text/plain": [
       "                 sog_report_loading  sog_report_NO3NO2  sog_report_NH4  \\\n",
       "  Gig Harbor            7450.888438        6669.438459      781.449978   \n",
       "  Port Gamble             83.388816          68.743308       14.645508   \n",
       "  Port Townsend         6450.566596        6073.812074      376.754522   \n",
       "  Port Angeles         62917.783233       27178.400077    35739.383155   \n",
       "\n",
       "                 whidbey_report_loading  whidbey_report_NO3NO2  \\\n",
       "  Gig Harbor               14491.382869           14173.821093   \n",
       "  Port Gamble              23909.629995           22379.150674   \n",
       "  Port Townsend             2578.203392            1452.091546   \n",
       "  Port Angeles             12566.733747            6872.370054   \n",
       "\n",
       "                 whidbey_report_NH4    difference  \n",
       "  Gig Harbor             317.561776  -7040.494431  \n",
       "  Port Gamble           1530.479321 -23826.241180  \n",
       "  Port Townsend         1126.111846   3872.363204  \n",
       "  Port Angeles          5694.363693  50351.049485  "
      ]
     },
     "execution_count": 88,
     "metadata": {},
     "output_type": "execute_result"
    }
   ],
   "source": [
    "QAQC_difference_df"
   ]
  },
  {
   "cell_type": "code",
   "execution_count": 86,
   "id": "24ef5a37-3887-4ae9-8198-376c9d282e77",
   "metadata": {},
   "outputs": [
    {
     "data": {
      "text/plain": [
       "array([ 7450.88843773,    83.38881571,  6450.56659584, 62917.78323254])"
      ]
     },
     "execution_count": 86,
     "metadata": {},
     "output_type": "execute_result"
    }
   ],
   "source": [
    "wwtp_locations[wwtp_locations.index.isin(WWTP_diff_list)]['N-load'].values"
   ]
  },
  {
   "cell_type": "markdown",
   "id": "f1931840-ce47-4d6b-b9c2-087b4314915b",
   "metadata": {},
   "source": [
    "### Load the values used in model runs that I wrote out in `create_scenario_pnt_wq_3k.py`"
   ]
  },
  {
   "cell_type": "code",
   "execution_count": 96,
   "id": "a0e09d4c-c172-45fe-b1ee-e140705f4e66",
   "metadata": {},
   "outputs": [],
   "source": [
    "ssm_load=pandas.read_excel('/mmfs1/gscratch/ssmc/USRS/PSI/Rachael/projects/KingCounty/SalishSeaModel/run_scenarios/input_setting/ssm_exist_load.xlsx', index_col=0)"
   ]
  },
  {
   "cell_type": "code",
   "execution_count": 97,
   "id": "e67326c8-ed07-48ca-9c0e-13848c93960a",
   "metadata": {},
   "outputs": [
    {
     "data": {
      "text/plain": [
       "['type',\n",
       " 'node_id',\n",
       " 'layer_distribute',\n",
       " 'basin',\n",
       " 'country',\n",
       " 'NH4[kg/year]',\n",
       " 'NO3NO2[kg/year]',\n",
       " 'N-load']"
      ]
     },
     "execution_count": 97,
     "metadata": {},
     "output_type": "execute_result"
    }
   ],
   "source": [
    "[*source_locations]"
   ]
  },
  {
   "cell_type": "code",
   "execution_count": 98,
   "id": "d22dbfef-43e1-4d2c-b8ad-2b8c853bd457",
   "metadata": {},
   "outputs": [
    {
     "data": {
      "text/html": [
       "<div>\n",
       "<style scoped>\n",
       "    .dataframe tbody tr th:only-of-type {\n",
       "        vertical-align: middle;\n",
       "    }\n",
       "\n",
       "    .dataframe tbody tr th {\n",
       "        vertical-align: top;\n",
       "    }\n",
       "\n",
       "    .dataframe thead th {\n",
       "        text-align: right;\n",
       "    }\n",
       "</style>\n",
       "<table border=\"1\" class=\"dataframe\">\n",
       "  <thead>\n",
       "    <tr style=\"text-align: right;\">\n",
       "      <th></th>\n",
       "      <th>sog_report_loading</th>\n",
       "      <th>sog_report_NO3NO2</th>\n",
       "      <th>sog_report_NH4</th>\n",
       "      <th>whidbey_report_loading</th>\n",
       "      <th>whidbey_report_NO3NO2</th>\n",
       "      <th>whidbey_report_NH4</th>\n",
       "      <th>difference</th>\n",
       "      <th>ssm_loading</th>\n",
       "    </tr>\n",
       "  </thead>\n",
       "  <tbody>\n",
       "    <tr>\n",
       "      <th>Gig Harbor</th>\n",
       "      <td>7450.888438</td>\n",
       "      <td>6669.438459</td>\n",
       "      <td>781.449978</td>\n",
       "      <td>14491.382869</td>\n",
       "      <td>14173.821093</td>\n",
       "      <td>317.561776</td>\n",
       "      <td>-7040.494431</td>\n",
       "      <td>7450.888438</td>\n",
       "    </tr>\n",
       "    <tr>\n",
       "      <th>Port Gamble</th>\n",
       "      <td>83.388816</td>\n",
       "      <td>68.743308</td>\n",
       "      <td>14.645508</td>\n",
       "      <td>23909.629995</td>\n",
       "      <td>22379.150674</td>\n",
       "      <td>1530.479321</td>\n",
       "      <td>-23826.241180</td>\n",
       "      <td>83.388816</td>\n",
       "    </tr>\n",
       "    <tr>\n",
       "      <th>Port Townsend</th>\n",
       "      <td>6450.566596</td>\n",
       "      <td>6073.812074</td>\n",
       "      <td>376.754522</td>\n",
       "      <td>2578.203392</td>\n",
       "      <td>1452.091546</td>\n",
       "      <td>1126.111846</td>\n",
       "      <td>3872.363204</td>\n",
       "      <td>6450.566596</td>\n",
       "    </tr>\n",
       "    <tr>\n",
       "      <th>Port Angeles</th>\n",
       "      <td>62917.783233</td>\n",
       "      <td>27178.400077</td>\n",
       "      <td>35739.383155</td>\n",
       "      <td>12566.733747</td>\n",
       "      <td>6872.370054</td>\n",
       "      <td>5694.363693</td>\n",
       "      <td>50351.049485</td>\n",
       "      <td>62917.783233</td>\n",
       "    </tr>\n",
       "  </tbody>\n",
       "</table>\n",
       "</div>"
      ],
      "text/plain": [
       "                 sog_report_loading  sog_report_NO3NO2  sog_report_NH4  \\\n",
       "  Gig Harbor            7450.888438        6669.438459      781.449978   \n",
       "  Port Gamble             83.388816          68.743308       14.645508   \n",
       "  Port Townsend         6450.566596        6073.812074      376.754522   \n",
       "  Port Angeles         62917.783233       27178.400077    35739.383155   \n",
       "\n",
       "                 whidbey_report_loading  whidbey_report_NO3NO2  \\\n",
       "  Gig Harbor               14491.382869           14173.821093   \n",
       "  Port Gamble              23909.629995           22379.150674   \n",
       "  Port Townsend             2578.203392            1452.091546   \n",
       "  Port Angeles             12566.733747            6872.370054   \n",
       "\n",
       "                 whidbey_report_NH4    difference   ssm_loading  \n",
       "  Gig Harbor             317.561776  -7040.494431   7450.888438  \n",
       "  Port Gamble           1530.479321 -23826.241180     83.388816  \n",
       "  Port Townsend         1126.111846   3872.363204   6450.566596  \n",
       "  Port Angeles          5694.363693  50351.049485  62917.783233  "
      ]
     },
     "execution_count": 98,
     "metadata": {},
     "output_type": "execute_result"
    }
   ],
   "source": [
    "#ssm_load.rename(index={np.arange(0,259).tolist():ssm['WWTP_names']})\n",
    "ssm_load=ssm_load.rename(index={np.arange(0,259)[i]: source_locations.index.to_list()[i] for i in range(len(np.arange(0,259)))})\n",
    "QAQC_difference_df['ssm_loading']=ssm_load.loc[\n",
    "    (ssm_load['ssm flow*(nh4+no3no2)'].index.isin(WWTP_diff_list)) & # This will grab WWTPs and Rivers labeled with same name\n",
    "    (source_locations['type']==' Point Source') # Only choose the WWTP locations\n",
    "]\n",
    "QAQC_difference_df"
   ]
  },
  {
   "cell_type": "markdown",
   "id": "11e2f946-83b6-4b14-b55e-80dcc8faa4b1",
   "metadata": {},
   "source": [
    "### Save to excel spreadsheet"
   ]
  },
  {
   "cell_type": "code",
   "execution_count": 102,
   "id": "c79f6085-21b9-4433-a996-fb824e4c293a",
   "metadata": {},
   "outputs": [],
   "source": [
    "with pandas.ExcelWriter('/mmfs1/gscratch/ssmc/USRS/PSI/Rachael/projects/KingCounty/SalishSeaModel-spreadsheets/QAQC/QAQC_loading.xlsx', mode = 'w') as writer:\n",
    "        pandas.DataFrame(QAQC_difference_df).to_excel(writer)"
   ]
  },
  {
   "cell_type": "code",
   "execution_count": 99,
   "id": "afe515e7-0514-47de-a754-67cf7ebb10d4",
   "metadata": {},
   "outputs": [
    {
     "data": {
      "text/html": [
       "<div>\n",
       "<style scoped>\n",
       "    .dataframe tbody tr th:only-of-type {\n",
       "        vertical-align: middle;\n",
       "    }\n",
       "\n",
       "    .dataframe tbody tr th {\n",
       "        vertical-align: top;\n",
       "    }\n",
       "\n",
       "    .dataframe thead th {\n",
       "        text-align: right;\n",
       "    }\n",
       "</style>\n",
       "<table border=\"1\" class=\"dataframe\">\n",
       "  <thead>\n",
       "    <tr style=\"text-align: right;\">\n",
       "      <th></th>\n",
       "      <th>ssm flow*(nh4+no3no2)</th>\n",
       "    </tr>\n",
       "  </thead>\n",
       "  <tbody>\n",
       "    <tr>\n",
       "      <th>Gig Harbor</th>\n",
       "      <td>14491.382869</td>\n",
       "    </tr>\n",
       "    <tr>\n",
       "      <th>Port Gamble</th>\n",
       "      <td>23909.629995</td>\n",
       "    </tr>\n",
       "    <tr>\n",
       "      <th>Port Townsend</th>\n",
       "      <td>2578.203392</td>\n",
       "    </tr>\n",
       "    <tr>\n",
       "      <th>Port Angeles</th>\n",
       "      <td>12566.733747</td>\n",
       "    </tr>\n",
       "    <tr>\n",
       "      <th>Gig Harbor</th>\n",
       "      <td>7450.888438</td>\n",
       "    </tr>\n",
       "    <tr>\n",
       "      <th>Port Gamble</th>\n",
       "      <td>83.388816</td>\n",
       "    </tr>\n",
       "    <tr>\n",
       "      <th>Port Townsend</th>\n",
       "      <td>6450.566596</td>\n",
       "    </tr>\n",
       "    <tr>\n",
       "      <th>Port Angeles</th>\n",
       "      <td>62917.783233</td>\n",
       "    </tr>\n",
       "  </tbody>\n",
       "</table>\n",
       "</div>"
      ],
      "text/plain": [
       "                 ssm flow*(nh4+no3no2)\n",
       "  Gig Harbor              14491.382869\n",
       "  Port Gamble             23909.629995\n",
       "  Port Townsend            2578.203392\n",
       "  Port Angeles            12566.733747\n",
       "  Gig Harbor               7450.888438\n",
       "  Port Gamble                83.388816\n",
       "  Port Townsend            6450.566596\n",
       "  Port Angeles            62917.783233"
      ]
     },
     "execution_count": 99,
     "metadata": {},
     "output_type": "execute_result"
    }
   ],
   "source": [
    "# All Rivers and WWTP sources with the names in list\n",
    "ssm_load.loc[\n",
    "    (ssm_load['ssm flow*(nh4+no3no2)'].index.isin(WWTP_diff_list))\n",
    "]"
   ]
  },
  {
   "cell_type": "code",
   "execution_count": 100,
   "id": "a0e89a46-dfea-496e-a0f7-4e1e7f3fb6ee",
   "metadata": {},
   "outputs": [
    {
     "data": {
      "text/html": [
       "<div>\n",
       "<style scoped>\n",
       "    .dataframe tbody tr th:only-of-type {\n",
       "        vertical-align: middle;\n",
       "    }\n",
       "\n",
       "    .dataframe tbody tr th {\n",
       "        vertical-align: top;\n",
       "    }\n",
       "\n",
       "    .dataframe thead th {\n",
       "        text-align: right;\n",
       "    }\n",
       "</style>\n",
       "<table border=\"1\" class=\"dataframe\">\n",
       "  <thead>\n",
       "    <tr style=\"text-align: right;\">\n",
       "      <th></th>\n",
       "      <th>ssm flow*(nh4+no3no2)</th>\n",
       "    </tr>\n",
       "  </thead>\n",
       "  <tbody>\n",
       "    <tr>\n",
       "      <th>Gig Harbor</th>\n",
       "      <td>14491.382869</td>\n",
       "    </tr>\n",
       "    <tr>\n",
       "      <th>Port Gamble</th>\n",
       "      <td>23909.629995</td>\n",
       "    </tr>\n",
       "    <tr>\n",
       "      <th>Port Townsend</th>\n",
       "      <td>2578.203392</td>\n",
       "    </tr>\n",
       "    <tr>\n",
       "      <th>Port Angeles</th>\n",
       "      <td>12566.733747</td>\n",
       "    </tr>\n",
       "    <tr>\n",
       "      <th>Gig Harbor</th>\n",
       "      <td>7450.888438</td>\n",
       "    </tr>\n",
       "    <tr>\n",
       "      <th>Port Gamble</th>\n",
       "      <td>83.388816</td>\n",
       "    </tr>\n",
       "    <tr>\n",
       "      <th>Port Townsend</th>\n",
       "      <td>6450.566596</td>\n",
       "    </tr>\n",
       "    <tr>\n",
       "      <th>Port Angeles</th>\n",
       "      <td>62917.783233</td>\n",
       "    </tr>\n",
       "  </tbody>\n",
       "</table>\n",
       "</div>"
      ],
      "text/plain": [
       "                 ssm flow*(nh4+no3no2)\n",
       "  Gig Harbor              14491.382869\n",
       "  Port Gamble             23909.629995\n",
       "  Port Townsend            2578.203392\n",
       "  Port Angeles            12566.733747\n",
       "  Gig Harbor               7450.888438\n",
       "  Port Gamble                83.388816\n",
       "  Port Townsend            6450.566596\n",
       "  Port Angeles            62917.783233"
      ]
     },
     "execution_count": 100,
     "metadata": {},
     "output_type": "execute_result"
    }
   ],
   "source": [
    "ssm_load[ssm_load.index.isin(WWTP_diff_list)]\n",
    "\n"
   ]
  },
  {
   "cell_type": "code",
   "execution_count": 13,
   "id": "0a081246-4fb1-4709-9f0c-25fd470e8349",
   "metadata": {},
   "outputs": [],
   "source": [
    "def Table1_loadings(case):\n",
    "\n",
    "    with open(f'../../etc/SSM_config_{case}.yaml','r') as file:\n",
    "        ssm = yaml.safe_load(file)\n",
    "\n",
    "    # Add up nitrogen in each scenario across wwtp and rivers in a given scenario\n",
    "    case_wwtp = nitrogen_df.index.isin(ssm['WWTP_names'])\n",
    "    case_river = nitrogen_df.index.isin(ssm['river_names'])\n",
    "    # Add up nitrogen in each scenario across ALL wwtp and rivers in model\n",
    "    all_wwtp= nitrogen_df.index.isin(all_wwtps_list)\n",
    "    all_river = nitrogen_df.index.isin(all_rivers_list)\n",
    "    # Calculate the total nitrogen for rivers and wwtps modified in a particular scenario\n",
    "    total_scenario_wwtp_nitrogen_df = nitrogen_df[case_wwtp]\n",
    "    total_scenario_river_nitrogen_df = nitrogen_df[case_river]\n",
    "    # Calculate the total nitrogen for all rivers and wwtps, for each scenario\n",
    "    total_wwtp_nitrogen_df = nitrogen_df[all_wwtp]\n",
    "    total_river_nitrogen_df = nitrogen_df[all_river]\n",
    "    # Add up loadings in each scenario across: local wwtps, local rivers, all wwtps, all rivers. \n",
    "    total_wwtp_loading_local={}\n",
    "    total_river_loading_local={}\n",
    "    total_wwtp_loading_all={}\n",
    "    total_river_loading_all={}\n",
    "    # run_tag=[]\n",
    "    # for idx,run in enumerate(run_list):\n",
    "    #     run_tag.append(run.split('_')[-1])\n",
    "    #     total_wwtp_loading_local[run_tag[idx]]=total_scenario_wwtp_nitrogen_df.sum()[idx]\n",
    "    #     total_river_loading_local[run_tag[idx]]=total_scenario_river_nitrogen_df.sum()[idx]\n",
    "    #     total_wwtp_loading_all[run_tag[idx]]=total_wwtp_nitrogen_df.sum()[idx]\n",
    "    #     total_river_loading_all[run_tag[idx]]=total_river_nitrogen_df.sum()[idx]\n",
    "    run_tags={}\n",
    "    run_tags[case]=[*ssm['run_information']['run_tag'][case]]\n",
    "    run_tags[case].remove('wqm_reference')\n",
    "    run_tags[case].remove('wqm_baseline')\n",
    "    run_tags[case].append('exist')\n",
    "    run_tags[case]\n",
    "    wwtp_loads={}\n",
    "    river_loads={}\n",
    "    wwtp_loads[case]={}\n",
    "    river_loads[case]={}\n",
    "    for idx,run_tag in enumerate(run_tags[case]):\n",
    "        run=run_tag.split('_')[0]\n",
    "        print(run_tag, run)\n",
    "        # total nitrogen loads, by source and scenario\n",
    "        wwtp_loads[case][run] = nitrogen_df[run][case_wwtp]\n",
    "        river_loads[case][run] = nitrogen_df[run][case_river]\n",
    "        # total nitrogen loads across local and all sources, by scenario\n",
    "        total_wwtp_loading_local[run]=total_scenario_wwtp_nitrogen_df[run].sum()\n",
    "        total_river_loading_local[run]=total_scenario_river_nitrogen_df[run].sum()\n",
    "        total_wwtp_loading_all[run]=total_wwtp_nitrogen_df[run].sum()\n",
    "        total_river_loading_all[run]=total_river_nitrogen_df[run].sum()\n",
    "\n",
    "    print('Creating WWTP and River loadings dataframe')\n",
    "    wwtp_load_df = pandas.DataFrame(wwtp_loads[case]).sort_values(by=['exist'], ascending=False)\n",
    "    river_load_df = pandas.DataFrame(river_loads[case]).sort_values(by=['exist'], ascending=False)\n",
    "\n",
    "    # Rivers: create a dataframe with Annual total flow\n",
    "    river_flow=[]\n",
    "    for river in [*ssm['river_names']]:\n",
    "        river_flow.append(flow_df[river][2]) \n",
    "    river_flow_df = pandas.DataFrame({'Annual Total Flow (MG/year)':river_flow}, index=ssm['river_names'])\n",
    "    river_load_df=river_load_df.join(river_flow_df) # Adds new column using index to match rows\n",
    "    \n",
    "    # WWTP: create a dataframe with Annual total flow\n",
    "    wwtp_flow=[]\n",
    "    for wwtp in [*ssm['WWTP_names']]:\n",
    "        wwtp_flow.append(flow_df[wwtp][2])\n",
    "    wwtp_flow_df = pandas.DataFrame({'Annual Total Flow (MG/year)':wwtp_flow}, index=ssm['WWTP_names'])\n",
    "    wwtp_load_df = wwtp_load_df.join(wwtp_flow_df)\n",
    "    \n",
    "    # Add the rows with total loading for local wwtps/rivers and all wwtps/rivers\n",
    "    wwtp_load_df=wwtp_load_df.append(pandas.DataFrame(total_wwtp_loading_local, index=['Total WWTPs (altered in this report)']))\n",
    "    river_load_df=river_load_df.append(pandas.DataFrame(total_river_loading_local, index=['Total Rivers (altered in this report)']))\n",
    "    wwtp_load_df=wwtp_load_df.append(pandas.DataFrame(total_wwtp_loading_all, index=['Total WWTPs (all in model domain) ']))\n",
    "    river_load_df=river_load_df.append(pandas.DataFrame(total_river_loading_all, index=['Total Rivers (all in model domain) ']))\n",
    "    \n",
    "    # make README \n",
    "    this_file = '=HYPERLINK(\"https://github.com/UWModeling/KingCounty-Rachael/blob/main/notebooks/reports/Table1_NutrientLoadings.ipynb\")'\n",
    "    run_description = '=HYPERLINK(\"https://github.com/RachaelDMueller/KingCounty-Rachael/blob/main/docs/supporting/KingCounty_Model_Runs.xlsx\",\"KingCounty_Model_Runs.xlsx (USING ORIGINAL RUN TAGS!!!)\")'\n",
    "\n",
    "    created_by = 'Rachael D. Mueller'\n",
    "    created_at = 'Puget Sound Institute'\n",
    "    created_from = 'Model results produced by Su Kyong Yun at the Salish Sea Modeling Center'\n",
    "    units='kg/year'\n",
    "    created_on = date.today().strftime(\"%B %d, %Y\")\n",
    "    contact = 'Rachael D Mueller (rdmseas@uw.edu)'\n",
    "    header = {\n",
    "        ' ':[created_by, created_at, created_on, this_file, \n",
    "            units, contact, created_from, \n",
    "            run_description]\n",
    "    }\n",
    "    header_df = pandas.DataFrame(header, index=[\n",
    "        'Created by',\n",
    "        'Created at',                           \n",
    "        'Created on',\n",
    "        'Created with',\n",
    "        'Units',\n",
    "        'Contacts',\n",
    "        'Modeling by',\n",
    "        'Model Run Overview'])\n",
    "\n",
    "    # Save to output to \n",
    "    excel_output_path = pathlib.Path('/mmfs1/gscratch/ssmc/USRS/PSI/Rachael/projects/KingCounty/reports')\n",
    "    print('*************************************************************')\n",
    "    print('Writing spreadsheet to: ',excel_output_path)\n",
    "    print('*************************************************************')\n",
    "    if os.path.exists(excel_output_path)==False:\n",
    "        print(f'creating: {excel_output_path}')\n",
    "        os.umask(0) #clears permissions\n",
    "        os.makedirs(excel_output_path, mode=0o777,exist_ok=True)\n",
    "    with pandas.ExcelWriter(\n",
    "        excel_output_path/f'Table1_NutrientLoadings_{case}.xlsx', mode='w') as writer:  \n",
    "        wwtp_load_df.to_excel(writer, sheet_name=f'WWTP ({case})')\n",
    "        river_load_df.to_excel(writer, sheet_name=f'Rivers ({case})')\n",
    "        header_df.to_excel(writer, sheet_name='README')\n",
    "    print(f'Number of WWTPs in this case: {len(total_scenario_wwtp_nitrogen_df)}')\n",
    "    print(f'Number of rivers in this case: {len(total_scenario_river_nitrogen_df)}')\n",
    "    print(f'Number of WWTPs in model: {len(total_wwtp_nitrogen_df)}')\n",
    "    print(f'Number of rivers in model: {len(total_river_nitrogen_df)}')"
   ]
  },
  {
   "cell_type": "code",
   "execution_count": 14,
   "id": "1338567d-42f6-4f15-a02e-d1a2630415b3",
   "metadata": {},
   "outputs": [
    {
     "name": "stdout",
     "output_type": "stream",
     "text": [
      "1b_all_sog_wwtp_off 1b\n",
      "1c_all_sog_riv_off 1c\n",
      "1d_small_sog_wwtp_off 1d\n",
      "1e_med_sog_wwtp_off 1e\n",
      "2a_sog_river_0.5times 2a\n",
      "2b_sog_river_2times 2b\n",
      "exist exist\n",
      "Creating WWTP and River loadings dataframe\n"
     ]
    },
    {
     "name": "stderr",
     "output_type": "stream",
     "text": [
      "/tmp/ipykernel_19430/2441274525.py:71: FutureWarning: The frame.append method is deprecated and will be removed from pandas in a future version. Use pandas.concat instead.\n",
      "  wwtp_load_df=wwtp_load_df.append(pandas.DataFrame(total_wwtp_loading_local, index=['Total WWTPs (altered in this report)']))\n",
      "/tmp/ipykernel_19430/2441274525.py:72: FutureWarning: The frame.append method is deprecated and will be removed from pandas in a future version. Use pandas.concat instead.\n",
      "  river_load_df=river_load_df.append(pandas.DataFrame(total_river_loading_local, index=['Total Rivers (altered in this report)']))\n",
      "/tmp/ipykernel_19430/2441274525.py:73: FutureWarning: The frame.append method is deprecated and will be removed from pandas in a future version. Use pandas.concat instead.\n",
      "  wwtp_load_df=wwtp_load_df.append(pandas.DataFrame(total_wwtp_loading_all, index=['Total WWTPs (all in model domain) ']))\n",
      "/tmp/ipykernel_19430/2441274525.py:74: FutureWarning: The frame.append method is deprecated and will be removed from pandas in a future version. Use pandas.concat instead.\n",
      "  river_load_df=river_load_df.append(pandas.DataFrame(total_river_loading_all, index=['Total Rivers (all in model domain) ']))\n"
     ]
    },
    {
     "name": "stdout",
     "output_type": "stream",
     "text": [
      "*************************************************************\n",
      "Writing spreadsheet to:  /mmfs1/gscratch/ssmc/USRS/PSI/Rachael/projects/KingCounty/reports\n",
      "*************************************************************\n",
      "Number of WWTPs in this case: 15\n",
      "Number of rivers in this case: 9\n",
      "Number of WWTPs in model: 99\n",
      "Number of rivers in model: 160\n",
      "3b 3b\n",
      "3c 3c\n",
      "3e 3e\n",
      "3f 3f\n",
      "3g 3g\n",
      "3h 3h\n",
      "3i 3i\n",
      "3l 3l\n",
      "3m 3m\n",
      "exist exist\n",
      "Creating WWTP and River loadings dataframe\n",
      "*************************************************************\n",
      "Writing spreadsheet to:  /mmfs1/gscratch/ssmc/USRS/PSI/Rachael/projects/KingCounty/reports\n",
      "*************************************************************\n"
     ]
    },
    {
     "name": "stderr",
     "output_type": "stream",
     "text": [
      "/tmp/ipykernel_19430/2441274525.py:71: FutureWarning: The frame.append method is deprecated and will be removed from pandas in a future version. Use pandas.concat instead.\n",
      "  wwtp_load_df=wwtp_load_df.append(pandas.DataFrame(total_wwtp_loading_local, index=['Total WWTPs (altered in this report)']))\n",
      "/tmp/ipykernel_19430/2441274525.py:72: FutureWarning: The frame.append method is deprecated and will be removed from pandas in a future version. Use pandas.concat instead.\n",
      "  river_load_df=river_load_df.append(pandas.DataFrame(total_river_loading_local, index=['Total Rivers (altered in this report)']))\n",
      "/tmp/ipykernel_19430/2441274525.py:73: FutureWarning: The frame.append method is deprecated and will be removed from pandas in a future version. Use pandas.concat instead.\n",
      "  wwtp_load_df=wwtp_load_df.append(pandas.DataFrame(total_wwtp_loading_all, index=['Total WWTPs (all in model domain) ']))\n",
      "/tmp/ipykernel_19430/2441274525.py:74: FutureWarning: The frame.append method is deprecated and will be removed from pandas in a future version. Use pandas.concat instead.\n",
      "  river_load_df=river_load_df.append(pandas.DataFrame(total_river_loading_all, index=['Total Rivers (all in model domain) ']))\n"
     ]
    },
    {
     "name": "stdout",
     "output_type": "stream",
     "text": [
      "Number of WWTPs in this case: 17\n",
      "Number of rivers in this case: 7\n",
      "Number of WWTPs in model: 99\n",
      "Number of rivers in model: 160\n"
     ]
    }
   ],
   "source": [
    "Table1_loadings('SOG_NB')\n",
    "Table1_loadings('whidbey')"
   ]
  },
  {
   "cell_type": "markdown",
   "id": "dd1789ed-1d5e-478a-adc6-9f39f612608b",
   "metadata": {},
   "source": [
    "# dev cells below"
   ]
  },
  {
   "cell_type": "code",
   "execution_count": 15,
   "id": "8860771a-627c-4c92-b615-3c9040cd328e",
   "metadata": {},
   "outputs": [],
   "source": [
    "run_tags={}"
   ]
  },
  {
   "cell_type": "code",
   "execution_count": 16,
   "id": "8081c643-a7e2-47fd-b6c6-7741012ef5ae",
   "metadata": {},
   "outputs": [],
   "source": [
    "case = 'whidbey'\n",
    "with open(f'../../etc/SSM_config_{case}.yaml','r') as file:\n",
    "    ssm = yaml.safe_load(file)"
   ]
  },
  {
   "cell_type": "code",
   "execution_count": 17,
   "id": "d5b23309-cfde-4ba0-83d5-58c27d23aaf1",
   "metadata": {},
   "outputs": [],
   "source": [
    "# Add up nitrogen in each scenario across wwtp and rivers in a given scenario\n",
    "case_wwtp = nitrogen_df.index.isin(ssm['WWTP_names'])\n",
    "case_river = nitrogen_df.index.isin(ssm['river_names'])\n",
    "# Add up nitrogen in each scenario across ALL wwtp and rivers in model\n",
    "all_wwtp= nitrogen_df.index.isin(all_wwtps_list)\n",
    "all_river = nitrogen_df.index.isin(all_rivers_list)"
   ]
  },
  {
   "cell_type": "code",
   "execution_count": 18,
   "id": "a81bf61b-fb07-4640-abc4-c1bae9b730ba",
   "metadata": {},
   "outputs": [],
   "source": [
    "# Calculate the total nitrogen for rivers and wwtps modified in a particular scenario\n",
    "total_scenario_wwtp_nitrogen_df = nitrogen_df[case_wwtp]\n",
    "total_scenario_river_nitrogen_df = nitrogen_df[case_river]\n",
    "# Calculate the total nitrogen for all rivers and wwtps, for each scenario\n",
    "total_wwtp_nitrogen_df = nitrogen_df[all_wwtp]\n",
    "total_river_nitrogen_df = nitrogen_df[all_river]"
   ]
  },
  {
   "cell_type": "code",
   "execution_count": 19,
   "id": "32abde6e-ae2a-49af-91d5-a7f9da40f996",
   "metadata": {},
   "outputs": [
    {
     "data": {
      "text/html": [
       "<div>\n",
       "<style scoped>\n",
       "    .dataframe tbody tr th:only-of-type {\n",
       "        vertical-align: middle;\n",
       "    }\n",
       "\n",
       "    .dataframe tbody tr th {\n",
       "        vertical-align: top;\n",
       "    }\n",
       "\n",
       "    .dataframe thead th {\n",
       "        text-align: right;\n",
       "    }\n",
       "</style>\n",
       "<table border=\"1\" class=\"dataframe\">\n",
       "  <thead>\n",
       "    <tr style=\"text-align: right;\">\n",
       "      <th></th>\n",
       "      <th>ref</th>\n",
       "      <th>exist</th>\n",
       "      <th>1b</th>\n",
       "      <th>1c</th>\n",
       "      <th>1d</th>\n",
       "      <th>1e</th>\n",
       "      <th>2a</th>\n",
       "      <th>2b</th>\n",
       "      <th>3b</th>\n",
       "      <th>3c</th>\n",
       "      <th>...</th>\n",
       "      <th>4c</th>\n",
       "      <th>4d</th>\n",
       "      <th>4e</th>\n",
       "      <th>4f</th>\n",
       "      <th>4g</th>\n",
       "      <th>4h</th>\n",
       "      <th>4i</th>\n",
       "      <th>4j</th>\n",
       "      <th>4k</th>\n",
       "      <th>4l</th>\n",
       "    </tr>\n",
       "  </thead>\n",
       "  <tbody>\n",
       "    <tr>\n",
       "      <th>Total Rivers (all in model domain)</th>\n",
       "      <td>1.999981e+07</td>\n",
       "      <td>2.551124e+07</td>\n",
       "      <td>2.551124e+07</td>\n",
       "      <td>2.310061e+07</td>\n",
       "      <td>2.551124e+07</td>\n",
       "      <td>2.551124e+07</td>\n",
       "      <td>2.430593e+07</td>\n",
       "      <td>2.792189e+07</td>\n",
       "      <td>2.551124e+07</td>\n",
       "      <td>1.912211e+07</td>\n",
       "      <td>...</td>\n",
       "      <td>2.551124e+07</td>\n",
       "      <td>2.551124e+07</td>\n",
       "      <td>2.551124e+07</td>\n",
       "      <td>2.551124e+07</td>\n",
       "      <td>2.551124e+07</td>\n",
       "      <td>2.551124e+07</td>\n",
       "      <td>2.551124e+07</td>\n",
       "      <td>2.551124e+07</td>\n",
       "      <td>2.534466e+07</td>\n",
       "      <td>2.584439e+07</td>\n",
       "    </tr>\n",
       "  </tbody>\n",
       "</table>\n",
       "<p>1 rows × 27 columns</p>\n",
       "</div>"
      ],
      "text/plain": [
       "                                              ref         exist            1b  \\\n",
       "Total Rivers (all in model domain)   1.999981e+07  2.551124e+07  2.551124e+07   \n",
       "\n",
       "                                               1c            1d            1e  \\\n",
       "Total Rivers (all in model domain)   2.310061e+07  2.551124e+07  2.551124e+07   \n",
       "\n",
       "                                               2a            2b            3b  \\\n",
       "Total Rivers (all in model domain)   2.430593e+07  2.792189e+07  2.551124e+07   \n",
       "\n",
       "                                               3c  ...            4c  \\\n",
       "Total Rivers (all in model domain)   1.912211e+07  ...  2.551124e+07   \n",
       "\n",
       "                                               4d            4e            4f  \\\n",
       "Total Rivers (all in model domain)   2.551124e+07  2.551124e+07  2.551124e+07   \n",
       "\n",
       "                                               4g            4h            4i  \\\n",
       "Total Rivers (all in model domain)   2.551124e+07  2.551124e+07  2.551124e+07   \n",
       "\n",
       "                                               4j            4k            4l  \n",
       "Total Rivers (all in model domain)   2.551124e+07  2.534466e+07  2.584439e+07  \n",
       "\n",
       "[1 rows x 27 columns]"
      ]
     },
     "execution_count": 19,
     "metadata": {},
     "output_type": "execute_result"
    }
   ],
   "source": [
    "# Add up loadings in each scenario across: local wwtps, local rivers, all wwtps, all rivers. \n",
    "total_wwtp_loading_local={}\n",
    "total_river_loading_local={}\n",
    "total_wwtp_loading_all={}\n",
    "total_river_loading_all={}\n",
    "run_tag=[]\n",
    "for idx,run in enumerate(run_list):\n",
    "    run_tag.append(run.split('_')[-1])\n",
    "    total_wwtp_loading_local[run_tag[idx]]=total_scenario_wwtp_nitrogen_df.sum()[idx]\n",
    "    total_river_loading_local[run_tag[idx]]=total_scenario_river_nitrogen_df.sum()[idx]\n",
    "    total_wwtp_loading_all[run_tag[idx]]=total_wwtp_nitrogen_df.sum()[idx]\n",
    "    total_river_loading_all[run_tag[idx]]=total_river_nitrogen_df.sum()[idx]\n",
    "test = pandas.DataFrame(total_wwtp_loading_local, index=['Total WWTPs (altered in this report)'])\n",
    "test = pandas.DataFrame(total_river_loading_local, index=['Total Rivers (altered in this report)'])\n",
    "test = pandas.DataFrame(total_wwtp_loading_all, index=['Total WWTPs (all in model domain) '])\n",
    "test = pandas.DataFrame(total_river_loading_all, index=['Total Rivers (all in model domain) '])\n",
    "test"
   ]
  },
  {
   "cell_type": "code",
   "execution_count": 20,
   "id": "52766586-d858-4bda-86a5-cce54dfa3c8f",
   "metadata": {},
   "outputs": [
    {
     "name": "stdout",
     "output_type": "stream",
     "text": [
      "Number of WWTPs in this case: 17\n",
      "Number of rivers in this case: 7\n",
      "Number of WWTPs in model: 99\n",
      "Number of rivers in model: 160\n"
     ]
    }
   ],
   "source": [
    "print(f'Number of WWTPs in this case: {len(total_scenario_wwtp_nitrogen_df)}')\n",
    "print(f'Number of rivers in this case: {len(total_scenario_river_nitrogen_df)}')\n",
    "print(f'Number of WWTPs in model: {len(total_wwtp_nitrogen_df)}')\n",
    "print(f'Number of rivers in model: {len(total_river_nitrogen_df)}')"
   ]
  },
  {
   "cell_type": "code",
   "execution_count": 21,
   "id": "15f6f9ac-d36c-4d5b-af36-4c771469ae71",
   "metadata": {},
   "outputs": [
    {
     "data": {
      "text/plain": [
       "['3b', '3c', '3e', '3f', '3g', '3h', '3i', '3l', '3m', 'exist']"
      ]
     },
     "execution_count": 21,
     "metadata": {},
     "output_type": "execute_result"
    }
   ],
   "source": [
    "run_tags[case]=[*ssm['run_information']['run_tag'][case]]\n",
    "run_tags[case].remove('wqm_reference')\n",
    "run_tags[case].remove('wqm_baseline')\n",
    "run_tags[case].append('exist')\n",
    "run_tags[case]"
   ]
  },
  {
   "cell_type": "markdown",
   "id": "d06121bf-4dbd-4db1-8606-6cb000f8e5a7",
   "metadata": {
    "tags": []
   },
   "source": [
    "# Create table of nutrient loading for each set of runs\n",
    "1. WWTPs\n",
    "     1. WWTP ordered from largest to smallest load in 2014\n",
    "     2. Total load of WWTPs altereed in the scenario\n",
    "     3. Total load of all WWTPs used in the scenario\n",
    "    \n",
    "    \n",
    "2. Rivers\n",
    "   1. Rivers ordered from largest to smallest load in 2014\n",
    "    2. Total load of Rivers altereed in the scenario\n",
    "    3. Total load of all Rivers used in the scenario"
   ]
  },
  {
   "cell_type": "markdown",
   "id": "6e262ce5-f478-474d-8670-c8c55fdccedc",
   "metadata": {},
   "source": [
    "#### Loop through all runs and get loadings"
   ]
  },
  {
   "cell_type": "code",
   "execution_count": 22,
   "id": "5342afcf-3369-40a8-b79e-65f4685a3337",
   "metadata": {},
   "outputs": [],
   "source": [
    "wwtp_loads={}\n",
    "river_loads={}\n",
    "wwtp_loads[case]={}\n",
    "river_loads[case]={}\n",
    "for run in run_tags[case]:\n",
    "    wwtp_loads[case][run] = nitrogen_df[run][case_wwtp]\n",
    "    river_loads[case][run] = nitrogen_df[run][case_river]"
   ]
  },
  {
   "cell_type": "code",
   "execution_count": 23,
   "id": "5968a350-f814-4bc7-8e01-bc20a1784769",
   "metadata": {},
   "outputs": [
    {
     "name": "stderr",
     "output_type": "stream",
     "text": [
      "/tmp/ipykernel_19430/489017650.py:5: FutureWarning: The frame.append method is deprecated and will be removed from pandas in a future version. Use pandas.concat instead.\n",
      "  wwtp_load_df=wwtp_load_df.append(pandas.DataFrame(total_wwtp_loading_local, index=['Total WWTPs (altered in this report)']))\n",
      "/tmp/ipykernel_19430/489017650.py:6: FutureWarning: The frame.append method is deprecated and will be removed from pandas in a future version. Use pandas.concat instead.\n",
      "  river_load_df=river_load_df.append(pandas.DataFrame(total_river_loading_local, index=['Total Rivers (altered in this report)']))\n",
      "/tmp/ipykernel_19430/489017650.py:7: FutureWarning: The frame.append method is deprecated and will be removed from pandas in a future version. Use pandas.concat instead.\n",
      "  wwtp_load_df=wwtp_load_df.append(pandas.DataFrame(total_wwtp_loading_all, index=['Total WWTPs (all in model domain) ']))\n",
      "/tmp/ipykernel_19430/489017650.py:8: FutureWarning: The frame.append method is deprecated and will be removed from pandas in a future version. Use pandas.concat instead.\n",
      "  river_load_df=river_load_df.append(pandas.DataFrame(total_river_loading_all, index=['Total Rivers (all in model domain) ']))\n"
     ]
    }
   ],
   "source": [
    "wwtp_load_df = pandas.DataFrame(wwtp_loads[case]).sort_values(by=['exist'], ascending=False)\n",
    "river_load_df = pandas.DataFrame(river_loads[case]).sort_values(by=['exist'], ascending=False)\n",
    "\n",
    "# Add the rows with total loading for local wwtps/rivers and all wwtps/rivers\n",
    "wwtp_load_df=wwtp_load_df.append(pandas.DataFrame(total_wwtp_loading_local, index=['Total WWTPs (altered in this report)']))\n",
    "river_load_df=river_load_df.append(pandas.DataFrame(total_river_loading_local, index=['Total Rivers (altered in this report)']))\n",
    "wwtp_load_df=wwtp_load_df.append(pandas.DataFrame(total_wwtp_loading_all, index=['Total WWTPs (all in model domain) ']))\n",
    "river_load_df=river_load_df.append(pandas.DataFrame(total_river_loading_all, index=['Total Rivers (all in model domain) ']))"
   ]
  },
  {
   "cell_type": "markdown",
   "id": "af5f82d7-20bc-4bdd-8e7a-499a85a3e1eb",
   "metadata": {},
   "source": [
    "# Save values to output Excel"
   ]
  },
  {
   "cell_type": "code",
   "execution_count": 24,
   "id": "efb20150-cc0c-4652-af4f-c5fddb4b3643",
   "metadata": {},
   "outputs": [
    {
     "name": "stdout",
     "output_type": "stream",
     "text": [
      "*************************************************************\n",
      "Writing spreadsheet to:  /mmfs1/gscratch/ssmc/USRS/PSI/Rachael/projects/KingCounty/data/whidbey/spreadsheets\n",
      "*************************************************************\n",
      "Number of WWTPs in this case: 17\n",
      "Number of rivers in this case: 7\n",
      "Number of WWTPs in model: 99\n",
      "Number of rivers in model: 160\n"
     ]
    }
   ],
   "source": [
    "# make README \n",
    "this_file = '=HYPERLINK(\"https://github.com/UWModeling/KingCounty-Rachael/blob/main/notebooks/reports/Table1_NutrientLoadings.ipynb\")'\n",
    "run_description = '=HYPERLINK(\"https://github.com/RachaelDMueller/KingCounty-Rachael/blob/main/docs/supporting/KingCounty_Model_Runs.xlsx\",\"KingCounty_Model_Runs.xlsx\") UPDATE?'\n",
    "\n",
    "created_by = 'Rachael D. Mueller'\n",
    "created_at = 'Puget Sound Institute'\n",
    "created_from = 'Model results produced by Su Kyong Yun at the Salish Sea Modeling Center'\n",
    "units='kg/year'\n",
    "created_on = date.today().strftime(\"%B %d, %Y\")\n",
    "contact = 'Rachael D Mueller (rdmseas@uw.edu)'\n",
    "header = {\n",
    "    ' ':[created_by, created_at, created_on, this_file, \n",
    "        contact, created_from, units,\n",
    "        run_description]\n",
    "}\n",
    "header_df = pandas.DataFrame(header, index=[\n",
    "    'Created by',\n",
    "    'Created at',                           \n",
    "    'Created on',\n",
    "    'Created with',\n",
    "    'Units',\n",
    "    'Contacts',\n",
    "    'Modeling by',\n",
    "    'Model Run Overview'])\n",
    "\n",
    "# Save to output to \n",
    "excel_output_path = pathlib.Path(ssm['paths']['processed_output'])/case/'spreadsheets'\n",
    "print('*************************************************************')\n",
    "print('Writing spreadsheet to: ',excel_output_path)\n",
    "print('*************************************************************')\n",
    "if os.path.exists(excel_output_path)==False:\n",
    "    print(f'creating: {excel_output_path}')\n",
    "    os.umask(0) #clears permissions\n",
    "    os.makedirs(excel_output_path, mode=0o777,exist_ok=True)\n",
    "with pandas.ExcelWriter(\n",
    "    excel_output_path/f'Table1_NutrientLoadings.xlsx', mode='w') as writer:  \n",
    "    wwtp_load_df.to_excel(writer, sheet_name=f'WWTP ({case})')\n",
    "    river_load_df.to_excel(writer, sheet_name=f'Rivers ({case})')\n",
    "    header_df.to_excel(writer, sheet_name='README')\n",
    "print(f'Number of WWTPs in this case: {len(total_scenario_wwtp_nitrogen_df)}')\n",
    "print(f'Number of rivers in this case: {len(total_scenario_river_nitrogen_df)}')\n",
    "print(f'Number of WWTPs in model: {len(total_wwtp_nitrogen_df)}')\n",
    "print(f'Number of rivers in model: {len(total_river_nitrogen_df)}')"
   ]
  },
  {
   "cell_type": "code",
   "execution_count": 25,
   "id": "f2b15779-830e-4c1a-b5a0-e790f55a473f",
   "metadata": {},
   "outputs": [
    {
     "data": {
      "text/plain": [
       "3b       2.500232e+07\n",
       "3c       2.863931e+07\n",
       "3e       2.852575e+07\n",
       "3f       2.732282e+07\n",
       "3g       2.643196e+07\n",
       "3h       2.754552e+07\n",
       "3i       2.752576e+07\n",
       "3l       2.863931e+07\n",
       "3m       2.863931e+07\n",
       "exist    2.863931e+07\n",
       "ref      1.420737e+07\n",
       "1b       2.693485e+07\n",
       "1c       2.742684e+07\n",
       "1d       2.731552e+07\n",
       "1e       2.704618e+07\n",
       "2a       2.742684e+07\n",
       "2b       2.742684e+07\n",
       "4c       2.443943e+07\n",
       "4d       2.644732e+07\n",
       "4e       2.576608e+07\n",
       "4f       2.410466e+07\n",
       "4g       2.618494e+07\n",
       "4h       2.494248e+07\n",
       "4i       2.706415e+07\n",
       "4j       2.670148e+07\n",
       "4k       2.742684e+07\n",
       "4l       2.742684e+07\n",
       "dtype: float64"
      ]
     },
     "execution_count": 25,
     "metadata": {},
     "output_type": "execute_result"
    }
   ],
   "source": [
    "wwtp_load_df.sum()"
   ]
  },
  {
   "cell_type": "markdown",
   "id": "b6f61ee5-58ac-41d7-890d-2bcf6cef81cd",
   "metadata": {},
   "source": [
    "# Create function to do this work"
   ]
  },
  {
   "cell_type": "code",
   "execution_count": 26,
   "id": "71b57077-f3f3-4e97-936b-aec4f0b70728",
   "metadata": {},
   "outputs": [
    {
     "name": "stdout",
     "output_type": "stream",
     "text": [
      "3b 3b\n",
      "3c 3c\n",
      "3e 3e\n",
      "3f 3f\n",
      "3g 3g\n",
      "3h 3h\n",
      "3i 3i\n",
      "3l 3l\n",
      "3m 3m\n",
      "exist exist\n",
      "Creating WWTP and River loadings dataframe\n",
      "*************************************************************\n",
      "Writing spreadsheet to:  /mmfs1/gscratch/ssmc/USRS/PSI/Rachael/projects/KingCounty/reports\n",
      "*************************************************************\n",
      "Number of WWTPs in this case: 17\n",
      "Number of rivers in this case: 7\n",
      "Number of WWTPs in model: 99\n",
      "Number of rivers in model: 160\n"
     ]
    },
    {
     "name": "stderr",
     "output_type": "stream",
     "text": [
      "/tmp/ipykernel_19430/2441274525.py:71: FutureWarning: The frame.append method is deprecated and will be removed from pandas in a future version. Use pandas.concat instead.\n",
      "  wwtp_load_df=wwtp_load_df.append(pandas.DataFrame(total_wwtp_loading_local, index=['Total WWTPs (altered in this report)']))\n",
      "/tmp/ipykernel_19430/2441274525.py:72: FutureWarning: The frame.append method is deprecated and will be removed from pandas in a future version. Use pandas.concat instead.\n",
      "  river_load_df=river_load_df.append(pandas.DataFrame(total_river_loading_local, index=['Total Rivers (altered in this report)']))\n",
      "/tmp/ipykernel_19430/2441274525.py:73: FutureWarning: The frame.append method is deprecated and will be removed from pandas in a future version. Use pandas.concat instead.\n",
      "  wwtp_load_df=wwtp_load_df.append(pandas.DataFrame(total_wwtp_loading_all, index=['Total WWTPs (all in model domain) ']))\n",
      "/tmp/ipykernel_19430/2441274525.py:74: FutureWarning: The frame.append method is deprecated and will be removed from pandas in a future version. Use pandas.concat instead.\n",
      "  river_load_df=river_load_df.append(pandas.DataFrame(total_river_loading_all, index=['Total Rivers (all in model domain) ']))\n"
     ]
    }
   ],
   "source": [
    "Table1_loadings('whidbey')"
   ]
  },
  {
   "cell_type": "code",
   "execution_count": 27,
   "id": "458cb12e-0831-41e2-9d40-c3162fa310a0",
   "metadata": {},
   "outputs": [
    {
     "name": "stdout",
     "output_type": "stream",
     "text": [
      "1b_all_sog_wwtp_off 1b\n",
      "1c_all_sog_riv_off 1c\n",
      "1d_small_sog_wwtp_off 1d\n",
      "1e_med_sog_wwtp_off 1e\n",
      "2a_sog_river_0.5times 2a\n",
      "2b_sog_river_2times 2b\n",
      "exist exist\n",
      "Creating WWTP and River loadings dataframe\n",
      "*************************************************************\n",
      "Writing spreadsheet to:  /mmfs1/gscratch/ssmc/USRS/PSI/Rachael/projects/KingCounty/reports\n",
      "*************************************************************\n",
      "Number of WWTPs in this case: 15\n",
      "Number of rivers in this case: 9\n",
      "Number of WWTPs in model: 99\n",
      "Number of rivers in model: 160\n"
     ]
    },
    {
     "name": "stderr",
     "output_type": "stream",
     "text": [
      "/tmp/ipykernel_19430/2441274525.py:71: FutureWarning: The frame.append method is deprecated and will be removed from pandas in a future version. Use pandas.concat instead.\n",
      "  wwtp_load_df=wwtp_load_df.append(pandas.DataFrame(total_wwtp_loading_local, index=['Total WWTPs (altered in this report)']))\n",
      "/tmp/ipykernel_19430/2441274525.py:72: FutureWarning: The frame.append method is deprecated and will be removed from pandas in a future version. Use pandas.concat instead.\n",
      "  river_load_df=river_load_df.append(pandas.DataFrame(total_river_loading_local, index=['Total Rivers (altered in this report)']))\n",
      "/tmp/ipykernel_19430/2441274525.py:73: FutureWarning: The frame.append method is deprecated and will be removed from pandas in a future version. Use pandas.concat instead.\n",
      "  wwtp_load_df=wwtp_load_df.append(pandas.DataFrame(total_wwtp_loading_all, index=['Total WWTPs (all in model domain) ']))\n",
      "/tmp/ipykernel_19430/2441274525.py:74: FutureWarning: The frame.append method is deprecated and will be removed from pandas in a future version. Use pandas.concat instead.\n",
      "  river_load_df=river_load_df.append(pandas.DataFrame(total_river_loading_all, index=['Total Rivers (all in model domain) ']))\n"
     ]
    }
   ],
   "source": [
    "Table1_loadings('SOG_NB')"
   ]
  },
  {
   "cell_type": "code",
   "execution_count": null,
   "id": "a45fce34-cf78-4760-a0d5-55e3ad70cae5",
   "metadata": {},
   "outputs": [],
   "source": []
  }
 ],
 "metadata": {
  "kernelspec": {
   "display_name": "Python 3 (ipykernel)",
   "language": "python",
   "name": "python3"
  },
  "language_info": {
   "codemirror_mode": {
    "name": "ipython",
    "version": 3
   },
   "file_extension": ".py",
   "mimetype": "text/x-python",
   "name": "python",
   "nbconvert_exporter": "python",
   "pygments_lexer": "ipython3",
   "version": "3.10.4"
  }
 },
 "nbformat": 4,
 "nbformat_minor": 5
}
