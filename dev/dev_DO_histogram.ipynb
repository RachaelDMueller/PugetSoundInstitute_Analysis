{
 "cells": [
  {
   "cell_type": "code",
   "execution_count": null,
   "metadata": {},
   "outputs": [],
   "source": [
    "import xarray\n",
    "import numpy\n",
    "import pandas\n",
    "import pathlib\n",
    "import time\n",
    "import geopandas as gpd\n",
    "import matplotlib.pyplot as plt"
   ]
  },
  {
   "cell_type": "code",
   "execution_count": null,
   "metadata": {},
   "outputs": [],
   "source": [
    "# Create a dictionary with all variable options (these can be expanded)\n",
    "variable_name_list=['DO','NH3','NO3','NPP','Temp','Salinity']\n",
    "parameter_ID_list=['Var_10','Var_14','Var_15','Var_17','Var_18','Var_19']\n",
    "model_output_name = {\n",
    "    variable_name_list[i]: parameter_ID_list[i] for i in range(len(variable_name_list))\n",
    "}\n",
    "\n",
    "# Define the variable that we want to plot\n",
    "variable_name = \"DO\" \n",
    "\n",
    "# Define directory for saving netcdf output\n",
    "output_directory = pathlib.Path('/mmfs1/gscratch/ssmc/USRS/PSI/Rachael/output/daily_min')\n",
    "graphics_directory= pathlib.Path(\n",
    "    '/mmfs1/gscratch/ssmc/USRS/PSI/Rachael/projects/CWA/graphics')\n",
    "\n",
    "\n",
    "# Define locations for different scenarios\n",
    "root_dir = pathlib.Path('/mmfs1/gscratch/ssmc/USRS/PSI/Adi/BS_WQM/')\n",
    "data_paths=numpy.array(\n",
    "    [root_dir/'2014_SSM4_WQ_exist_orig/hotstart/outputs',\n",
    "     root_dir/'2014_SSM4_WQ_ref_orig/hotstart/outputs'\n",
    "    ]\n",
    ")"
   ]
  },
  {
   "cell_type": "markdown",
   "metadata": {},
   "source": [
    "# Load model output from the Existing and Reference cases"
   ]
  },
  {
   "cell_type": "code",
   "execution_count": null,
   "metadata": {},
   "outputs": [],
   "source": [
    "si = 0 # choose first directory = Existing\n",
    "dailyDO_tmin_zmin={}\n",
    "variable_name = 'DO'\n",
    "for si in [0,1]:\n",
    "    scenario_name=str(data_paths[si]).split('/')[-3]\n",
    "    # output netcdf filename\n",
    "    output_file = output_directory/f'{scenario_name}_{variable_name}.nc'\n",
    "    # input netcdf filename\n",
    "    file_path=data_paths[si]/'s_hy_base000_pnnl007_nodes.nc'\n",
    "    # load variable into xarray and calculate daily min.\n",
    "    with xarray.open_dataset(file_path) as ds:\n",
    "        dailyDO = reshape_fvcom(\n",
    "            ds[model_output_name[variable_name]][:,:].data, \n",
    "            'days'\n",
    "        ) #return (365x24xnodes)\n",
    "        # calculate daily minimum\n",
    "        dailyDO_tmin = calc_fvcom_stat(dailyDO, 'min', axis=1)\n",
    "        # calculate daily minimum across 265 days\n",
    "        dailyDO_tmin = calc_fvcom_stat(dailyDO_tmin, 'min', axis=0)\n",
    "        # reshape to levels\n",
    "        dailyDO_tmin_rshp = reshape_fvcom(dailyDO_tmin, 'levels')\n",
    "        # calculate minimum across depth levels\n",
    "        dailyDO_tmin_zmin[si] = calc_fvcom_stat(dailyDO_tmin_rshp, 'min', axis=2)\n",
    "# dialy min DO difference Existing - Reference\n",
    "dailyDO_tmin_zmin[2] = dailyDO_tmin_zmin[0]-dailyDO_tmin_zmin[1]\n",
    "dailyDO_tmin_zmin[2].shape"
   ]
  },
  {
   "cell_type": "markdown",
   "metadata": {},
   "source": [
    "# Plot histograms of DO together with 5% and 95% quantiles"
   ]
  },
  {
   "cell_type": "code",
   "execution_count": 1,
   "metadata": {},
   "outputs": [],
   "source": [
    "hist_labels = ['Existing','Reference','Existing-Reference']\n",
    "hist_colors=['darkslategrey','darkblue','indigo']"
   ]
  },
  {
   "cell_type": "code",
   "execution_count": null,
   "metadata": {},
   "outputs": [],
   "source": [
    "for si in [0,1,2]:\n",
    "    plt.hist(dailyDO_tmin_zmin[si], \n",
    "             alpha=0.5, \n",
    "             label=hist_labels[si],\n",
    "             color=hist_colors[si]) # customized color parameter  \n",
    "plt.title('Minimum daily DO for all days in 2014')\n",
    "plt.legend(loc='upper right')\n",
    "plt.show()"
   ]
  },
  {
   "cell_type": "markdown",
   "metadata": {},
   "source": [
    "# Show histograms for all regions"
   ]
  },
  {
   "cell_type": "code",
   "execution_count": null,
   "metadata": {},
   "outputs": [],
   "source": [
    "# Kevin's shapefile\n",
    "shapefile_path = pathlib.Path(\n",
    "    '/mmfs1/gscratch/ssmc/USRS/PSI/Rachael/projects/CWA/CleanWaterAlliance/shapefiles'\n",
    ")/'SSMGrid2_tce.shp'\n",
    "gdf_k = gpd.read_file(shapefile_path)\n",
    "gdf_k = gdf_k.loc[:, ('tce','Basin','geometry')]\n",
    "gdf_k=gdf_k.rename(columns={'tce':'node_id'})\n",
    "basin_count=gdf_k[['node_id','Basin']].groupby('Basin').count().rename(columns={'node_id':'node count'})\n",
    "basin_count"
   ]
  },
  {
   "cell_type": "code",
   "execution_count": null,
   "metadata": {},
   "outputs": [],
   "source": [
    "# separate nodes by basin\n",
    "gdf = {}\n",
    "minDO={}\n",
    "for basin in [*basin_count]:\n",
    "    minDO[basin]={}\n",
    "    gdf[basin] = gdf_k.loc[gdf_k['Basin']==basin]\n",
    "    # use node_id to select locations\n",
    "    for si in [0,1,2]:\n",
    "        minDO[basin][si] = dailyDO_tmin_zmin[si][gdf['node_id']-1]"
   ]
  },
  {
   "cell_type": "code",
   "execution_count": null,
   "metadata": {},
   "outputs": [],
   "source": [
    "for basin in [*basin_count]:\n",
    "    fig, axs = plt.subplots(1,1, figsize = (6,8))\n",
    "    for si in [0,1]:\n",
    "        axs.hist(dailyDO_tmin_zmin[si], bins=[1,2,4,6,8,10,20]\n",
    "                 alpha=0.5, \n",
    "                 label=hist_labels[si],\n",
    "                 color=hist_colors[si]) # customized color parameter  \n",
    "    axs.set_title('Minimum daily DO for all days in 2014')\n",
    "    plt.legend(loc='upper right')\n",
    "    plt.show()"
   ]
  },
  {
   "cell_type": "code",
   "execution_count": null,
   "metadata": {},
   "outputs": [],
   "source": [
    "ax.hist(data, bins, orientation='horizontal')\n",
    "ax.set_ylim([-5, 5])\n",
    "plt.show()"
   ]
  }
 ],
 "metadata": {
  "kernelspec": {
   "display_name": "Python 3",
   "language": "python",
   "name": "python3"
  },
  "language_info": {
   "codemirror_mode": {
    "name": "ipython",
    "version": 3
   },
   "file_extension": ".py",
   "mimetype": "text/x-python",
   "name": "python",
   "nbconvert_exporter": "python",
   "pygments_lexer": "ipython3",
   "version": "3.9.1"
  }
 },
 "nbformat": 4,
 "nbformat_minor": 4
}
