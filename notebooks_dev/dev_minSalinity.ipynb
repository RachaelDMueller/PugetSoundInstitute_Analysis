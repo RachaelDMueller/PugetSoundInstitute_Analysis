{
 "cells": [
  {
   "cell_type": "code",
   "execution_count": 1,
   "id": "8712697f-9747-430e-8737-37b0777efd46",
   "metadata": {},
   "outputs": [],
   "source": [
    "import xarray\n",
    "import numpy\n",
    "import pandas\n",
    "import pathlib\n",
    "import time\n",
    "import geopandas as gpd\n",
    "import matplotlib.pyplot as plt"
   ]
  },
  {
   "cell_type": "code",
   "execution_count": 2,
   "id": "9858dce6-0a7f-4a32-9e7f-6dfb862d7d32",
   "metadata": {},
   "outputs": [],
   "source": [
    "def reshape_fvcom(fvcom_timeIJK, reshape_type):\n",
    "    \"\"\" Reorganize the 2D FVCOM output from 2-dimensions of (time,nodes)\n",
    "    to a format that allows for daily, yearly, or depth calculations. \n",
    "    \n",
    "    param float fvcom_timeIJK: FVCOM_v2.7ecy output array in dimension of 8760x160120.\n",
    "    param string reshape_type: ['days','levels','dayslevels']\n",
    "    return: Reorganized array\n",
    "    \"\"\"\n",
    "    ti,ni = fvcom_timeIJK.shape\n",
    "    print(ti,ni)\n",
    "    # Error handling\n",
    "    if reshape_type not in ['days','levels','dayslevels']:\n",
    "        raise ValueError(\n",
    "            \"options for reshape_type are: 'days','levels','dayslevels'\"\n",
    "        )\n",
    "    \n",
    "    # Reshaping\n",
    "    if reshape_type == 'days':\n",
    "        if (ti != 8760):\n",
    "            raise TypeError(\n",
    "                \"FVCOM array must have a time dimension of 8760\"\n",
    "            )\n",
    "        fvcom_reshaped = numpy.reshape(\n",
    "            fvcom_timeIJK[:,:].data, (365,24,ni)\n",
    "        )\n",
    "    elif reshape_type == 'levels':\n",
    "        if (ni != 160120):\n",
    "            raise TypeError(\n",
    "                \"FVCOM array must have a node dimension of 160120\"\n",
    "            )\n",
    "        fvcom_reshaped = numpy.reshape(\n",
    "            fvcom_timeIJK[:,:].data, (ti,16012,10)\n",
    "        )\n",
    "    elif reshape_type == 'dayslevels':\n",
    "        if (ti != 8760) or (ni != 160120):\n",
    "            raise TypeError(\n",
    "                \"FVCOM array size must be 8760 x 160120\"\n",
    "            )\n",
    "        fvcom_reshaped = numpy.reshape(\n",
    "            fvcom_timeIJK[:,:].data, (365,24,16012,10)\n",
    "        )\n",
    "        \n",
    "    return fvcom_reshaped\n",
    "\n",
    "def extract_fvcom_level(gdf, fvcom_timeIJK, LevelNum):\n",
    "    \"\"\" Extract model output at nodes by level. \n",
    "    \n",
    "    param dataframe gdf: geopandas dataframe of FVCOM nodes from 2D planar nodes\n",
    "        with dimensions of 16012.\n",
    "    param float fvcom_timeIJK: 3D-FVCOM output in dimensions of time x 160120.\n",
    "    param int LevelNum: Integer from 1 (surface) to 10 (bottom)\n",
    "    \n",
    "    return fvcom_nodeIDs: model output at level in dimension of time x 16012\n",
    "    \"\"\"\n",
    "    if LevelNum not in range(1,11):\n",
    "        raise ValueError(\"fvcom_LevelNum must be an integer value from 1-10\")\n",
    "\n",
    "    try:\n",
    "        node_ids = gdf['node_id'].to_numpy()\n",
    "    except:\n",
    "        raise AttributeError(\"missing 'node_id' column in dataframe\")\n",
    "        \n",
    "    ijk_index = node_ids * 10 - (11-LevelNum)\n",
    "    # get DO values at each level\n",
    "    fvcom_nodeIDs = fvcom_timeIJK[:,ijk_index]\n",
    "    # if ds['Var_10'] is passed in: \n",
    "    # fvcom_nodeIDs = fvcom_timeIJK[:,:].data[:,ijk_index]\n",
    "    \n",
    "    return fvcom_nodeIDs\n",
    "\n",
    "def calc_fvcom_stat(fvcom_output, stat_type, axis):\n",
    "    \"\"\" Perform numpy statistic (e.g. mean, min) on FVCOM_v2.7ecy model output \n",
    "        over specific \"axis.\" \n",
    "    \n",
    "    param float fvcom_output: FVCOM_v2.7ecy output array in dimensions of time x 160120.\n",
    "    param float stat_type: 'min','mean'.\n",
    "    param int axis: Integer from 0 to ndims(fvcom_output)\n",
    "    \n",
    "    return: stat of model output across specified axis (axs)\n",
    "    \"\"\"\n",
    "    fvcom_stat = getattr(numpy,stat_type)(fvcom_output,axis=axis)\n",
    "    \n",
    "    return fvcom_stat"
   ]
  },
  {
   "cell_type": "code",
   "execution_count": 3,
   "id": "3e6454c8-d119-4160-8ef6-ecbd4318dcf9",
   "metadata": {},
   "outputs": [],
   "source": [
    "# Create a dictionary with all variable options (these can be expanded)\n",
    "variable_name_list=['DO','NH3','NO3','NPP','Temp','Salinity']\n",
    "parameter_ID_list=['Var_10','Var_14','Var_15','Var_17','Var_18','Var_19']\n",
    "model_output_name = {\n",
    "    variable_name_list[i]: parameter_ID_list[i] for i in range(len(variable_name_list))\n",
    "}\n",
    "\n",
    "# Define the variable that we want to plot\n",
    "variable_name = \"DO\" \n",
    "\n",
    "# Define directory for saving netcdf output\n",
    "output_directory = pathlib.Path('/mmfs1/gscratch/ssmc/USRS/PSI/Rachael/output/daily_min')\n",
    "graphics_directory= pathlib.Path(\n",
    "    '/mmfs1/gscratch/ssmc/USRS/PSI/Rachael/projects/CWA/graphics')\n",
    "\n",
    "\n",
    "# Define locations for different scenarios\n",
    "root_dir = pathlib.Path('/mmfs1/gscratch/ssmc/USRS/PSI/Adi/BS_WQM/')\n",
    "data_paths=numpy.array(\n",
    "    [root_dir/'2014_SSM4_WQ_exist_orig/hotstart/outputs',\n",
    "     root_dir/'2014_SSM4_WQ_ref_orig/hotstart/outputs'\n",
    "    ]\n",
    ")"
   ]
  },
  {
   "cell_type": "code",
   "execution_count": 4,
   "id": "bfbc8bc6-7e00-4021-95e1-5e8759be4b72",
   "metadata": {},
   "outputs": [],
   "source": [
    "si = 0 # choose first directory = Existing\n",
    "variable_name = 'Salinity'"
   ]
  },
  {
   "cell_type": "code",
   "execution_count": 5,
   "id": "2e9c28c1-3deb-44f7-94ee-0187bbaee29c",
   "metadata": {},
   "outputs": [
    {
     "name": "stdout",
     "output_type": "stream",
     "text": [
      "8760 160120\n",
      "365 160120\n",
      "8760 160120\n",
      "365 160120\n"
     ]
    }
   ],
   "source": [
    "scenario_name=str(data_paths[si]).split('/')[-3]\n",
    "# output netcdf filename\n",
    "output_file = output_directory/f'{scenario_name}_{variable_name}.nc'\n",
    "# input netcdf filename\n",
    "file_path=data_paths[si]/'s_hy_base000_pnnl007_nodes.nc'\n",
    "# load variable into xarray and calculate daily min.\n",
    "with xarray.open_dataset(file_path) as ds:\n",
    "    daily = reshape_fvcom(\n",
    "        ds[model_output_name[variable_name]][:,:].data, \n",
    "        'days'\n",
    "    ) #return (365x24xnodes)\n",
    "    # calculate daily minimum\n",
    "    daily_tmin = calc_fvcom_stat(daily, 'min', axis=1)\n",
    "    # reshape to levels\n",
    "    daily_tmin_rshp = reshape_fvcom(daily_tmin, 'levels')\n",
    "    # calculate minimum across depth levels\n",
    "    daily_tmin_zmin = calc_fvcom_stat(daily_tmin_rshp, 'min', axis=2)\n",
    "    \n",
    "    dailyT = reshape_fvcom(\n",
    "        ds[model_output_name['Temp']][:,:].data, \n",
    "        'days'\n",
    "    ) #return (365x24xnodes)\n",
    "    # calculate daily minimum\n",
    "    dailyT_tavg = calc_fvcom_stat(dailyT, 'mean', axis=1)\n",
    "    # reshape to levels\n",
    "    dailyT_tavg_rshp = reshape_fvcom(dailyT_tavg, 'levels')"
   ]
  },
  {
   "cell_type": "code",
   "execution_count": 6,
   "id": "cef207c3-1396-42b9-a56f-9298920c2a0b",
   "metadata": {},
   "outputs": [
    {
     "data": {
      "text/plain": [
       "(365, 16012)"
      ]
     },
     "execution_count": 6,
     "metadata": {},
     "output_type": "execute_result"
    }
   ],
   "source": [
    "dailyT_tavg_rshp[:,:,0].shape"
   ]
  },
  {
   "cell_type": "code",
   "execution_count": 7,
   "id": "9a7f6843-d03b-4d95-af3c-9a6258fdb8a2",
   "metadata": {},
   "outputs": [
    {
     "data": {
      "text/plain": [
       "(365, 16012)"
      ]
     },
     "execution_count": 7,
     "metadata": {},
     "output_type": "execute_result"
    }
   ],
   "source": [
    "daily_tmin_zmin.shape"
   ]
  },
  {
   "cell_type": "code",
   "execution_count": 8,
   "id": "216c79de-ec79-4b8b-bea7-4c90ab74a333",
   "metadata": {},
   "outputs": [
    {
     "data": {
      "text/plain": [
       "(16012, 3)"
      ]
     },
     "execution_count": 8,
     "metadata": {},
     "output_type": "execute_result"
    }
   ],
   "source": [
    "# #Ben's shapefile\n",
    "shapefile_path = pathlib.Path(\n",
    "    '/mmfs1/gscratch/ssmc/USRS/PSI/Rachael/projects/KingCounty/ssm-analysis/gis'\n",
    ")/'ssm full grid.shp'\n",
    "gdf_b = gpd.read_file(shapefile_path)\n",
    "gdf_b.shape"
   ]
  },
  {
   "cell_type": "code",
   "execution_count": 9,
   "id": "52b6c2b8-a954-4c0f-b4e6-68a5ee976b3d",
   "metadata": {},
   "outputs": [
    {
     "data": {
      "text/html": [
       "<div>\n",
       "<style scoped>\n",
       "    .dataframe tbody tr th:only-of-type {\n",
       "        vertical-align: middle;\n",
       "    }\n",
       "\n",
       "    .dataframe tbody tr th {\n",
       "        vertical-align: top;\n",
       "    }\n",
       "\n",
       "    .dataframe thead th {\n",
       "        text-align: right;\n",
       "    }\n",
       "</style>\n",
       "<table border=\"1\" class=\"dataframe\">\n",
       "  <thead>\n",
       "    <tr style=\"text-align: right;\">\n",
       "      <th></th>\n",
       "      <th>node_id</th>\n",
       "      <th>depth</th>\n",
       "      <th>geometry</th>\n",
       "    </tr>\n",
       "  </thead>\n",
       "  <tbody>\n",
       "    <tr>\n",
       "      <th>0</th>\n",
       "      <td>1</td>\n",
       "      <td>102.7573</td>\n",
       "      <td>POLYGON ((413506.946 4920788.015, 413209.827 4...</td>\n",
       "    </tr>\n",
       "  </tbody>\n",
       "</table>\n",
       "</div>"
      ],
      "text/plain": [
       "   node_id     depth                                           geometry\n",
       "0        1  102.7573  POLYGON ((413506.946 4920788.015, 413209.827 4..."
      ]
     },
     "execution_count": 9,
     "metadata": {},
     "output_type": "execute_result"
    }
   ],
   "source": [
    "gdf_b.head(1)"
   ]
  },
  {
   "cell_type": "code",
   "execution_count": 10,
   "id": "253e26f7-1d1b-480d-aa66-8db640c0f629",
   "metadata": {},
   "outputs": [
    {
     "data": {
      "text/html": [
       "<div>\n",
       "<style scoped>\n",
       "    .dataframe tbody tr th:only-of-type {\n",
       "        vertical-align: middle;\n",
       "    }\n",
       "\n",
       "    .dataframe tbody tr th {\n",
       "        vertical-align: top;\n",
       "    }\n",
       "\n",
       "    .dataframe thead th {\n",
       "        text-align: right;\n",
       "    }\n",
       "</style>\n",
       "<table border=\"1\" class=\"dataframe\">\n",
       "  <thead>\n",
       "    <tr style=\"text-align: right;\">\n",
       "      <th></th>\n",
       "      <th>node count</th>\n",
       "    </tr>\n",
       "    <tr>\n",
       "      <th>Basin</th>\n",
       "      <th></th>\n",
       "    </tr>\n",
       "  </thead>\n",
       "  <tbody>\n",
       "    <tr>\n",
       "      <th>Hood Canal</th>\n",
       "      <td>726</td>\n",
       "    </tr>\n",
       "    <tr>\n",
       "      <th>Main Basin</th>\n",
       "      <td>1208</td>\n",
       "    </tr>\n",
       "    <tr>\n",
       "      <th>SJF_Admiralty</th>\n",
       "      <td>958</td>\n",
       "    </tr>\n",
       "    <tr>\n",
       "      <th>SOG_Bays</th>\n",
       "      <td>743</td>\n",
       "    </tr>\n",
       "    <tr>\n",
       "      <th>South Sound</th>\n",
       "      <td>1722</td>\n",
       "    </tr>\n",
       "    <tr>\n",
       "      <th>Whidbey_Basin</th>\n",
       "      <td>2067</td>\n",
       "    </tr>\n",
       "  </tbody>\n",
       "</table>\n",
       "</div>"
      ],
      "text/plain": [
       "               node count\n",
       "Basin                    \n",
       "Hood Canal            726\n",
       "Main Basin           1208\n",
       "SJF_Admiralty         958\n",
       "SOG_Bays              743\n",
       "South Sound          1722\n",
       "Whidbey_Basin        2067"
      ]
     },
     "execution_count": 10,
     "metadata": {},
     "output_type": "execute_result"
    }
   ],
   "source": [
    "# Kevin's shapefile\n",
    "shapefile_path = pathlib.Path(\n",
    "    '/mmfs1/gscratch/ssmc/USRS/PSI/Rachael/projects/KingCounty/KingCounty-Rachael/kevin_shapefiles'\n",
    ")/'SSMGrid2_tce.shp'\n",
    "gdf_k = gpd.read_file(shapefile_path)\n",
    "gdf_k = gdf_k.loc[:, ('tce','Basin','geometry')]\n",
    "gdf_k=gdf_k.rename(columns={'tce':'node_id'})\n",
    "basin_count=gdf_k[['node_id','Basin']].groupby('Basin').count().rename(columns={'node_id':'node count'})\n",
    "basin_count"
   ]
  },
  {
   "cell_type": "code",
   "execution_count": 11,
   "id": "286816c4-a7c8-4234-b5b1-66c0e79c8a2b",
   "metadata": {},
   "outputs": [
    {
     "data": {
      "text/plain": [
       "(7494, 3)"
      ]
     },
     "execution_count": 11,
     "metadata": {},
     "output_type": "execute_result"
    }
   ],
   "source": [
    "gdf_k.shape"
   ]
  },
  {
   "cell_type": "code",
   "execution_count": 12,
   "id": "00e2f702-21fa-4487-8c15-b63fc8fe639d",
   "metadata": {},
   "outputs": [
    {
     "data": {
      "text/plain": [
       "(7424, 3)"
      ]
     },
     "execution_count": 12,
     "metadata": {},
     "output_type": "execute_result"
    }
   ],
   "source": [
    "gdf_SS = gdf_k.loc[gdf_k['Basin'].isin(basin_count.index.to_list()) ]\n",
    "gdf_SS.shape"
   ]
  },
  {
   "cell_type": "code",
   "execution_count": 13,
   "id": "5f29b099-7603-4e1e-84b3-8e522ad7be11",
   "metadata": {},
   "outputs": [
    {
     "data": {
      "text/plain": [
       "(365, 7494)"
      ]
     },
     "execution_count": 13,
     "metadata": {},
     "output_type": "execute_result"
    }
   ],
   "source": [
    "daily_tmin_zmin_SS = daily_tmin_zmin[:,gdf_k['node_id']-1]\n",
    "daily_tmin_zmin_SS.shape"
   ]
  },
  {
   "cell_type": "code",
   "execution_count": 14,
   "id": "4329ae9e-910d-428b-a223-2a634910cea3",
   "metadata": {},
   "outputs": [
    {
     "data": {
      "text/plain": [
       "21.926424"
      ]
     },
     "execution_count": 14,
     "metadata": {},
     "output_type": "execute_result"
    }
   ],
   "source": [
    "numpy.max(dailyT_tavg_rshp[200,:,0])"
   ]
  },
  {
   "cell_type": "code",
   "execution_count": 15,
   "id": "8fce94c6-9fda-4ae3-ae50-9f5268d74537",
   "metadata": {},
   "outputs": [],
   "source": [
    "from datetime import datetime, date, timedelta\n",
    "\n",
    "# Initialize year\n",
    "year = \"2014\"\n",
    "  \n",
    "# Initializing start date\n",
    "strt_date = date(int(year), 1, 1)"
   ]
  },
  {
   "cell_type": "code",
   "execution_count": null,
   "id": "042ce9dc-dcd9-48d9-9382-5e6625bde5cb",
   "metadata": {},
   "outputs": [
    {
     "name": "stderr",
     "output_type": "stream",
     "text": [
      "findfont: Font family ['arial'] not found. Falling back to DejaVu Sans.\n",
      "findfont: Font family ['arial'] not found. Falling back to DejaVu Sans.\n",
      "/tmp/ipykernel_48099/1835338650.py:15: RuntimeWarning: More than 20 figures have been opened. Figures created through the pyplot interface (`matplotlib.pyplot.figure`) are retained until explicitly closed and may consume too much memory. (To control this warning, see the rcParam `figure.max_open_warning`).\n",
      "  fig, axs = plt.subplots(\n"
     ]
    }
   ],
   "source": [
    "from mpl_toolkits.axes_grid1.axes_divider import make_axes_locatable\n",
    "gdir = pathlib.Path(\n",
    "    '/mmfs1/gscratch/ssmc/USRS/PSI/Rachael/projects/KingCounty/KingCounty-Rachael/graphics/SS_SalinityTemp/')\n",
    "fs_t=14\n",
    "fs_a=12\n",
    "cax={}\n",
    "for day in range(0,365):\n",
    "    # Converting to date\n",
    "    date = strt_date + timedelta(days=int(day))\n",
    "    date_title = date.strftime(\"%d %B %Y\")\n",
    "    # Extract Salinity and Temp for day\n",
    "    gdf_b['Salinity']= daily_tmin_zmin[day,:]\n",
    "    gdf_b['Temp']= dailyT_tavg_rshp[day,:,0] # surface level = 0\n",
    "    # Plot results\n",
    "    fig, axs = plt.subplots(\n",
    "        1,2, figsize = (8,6),\n",
    "           gridspec_kw={\n",
    "           'width_ratios': [1, 1],\n",
    "           'height_ratios': [1],\n",
    "       'wspace': 0.5,\n",
    "       'hspace': 0})\n",
    "    # create `cax` for the colorbar\n",
    "    divider = make_axes_locatable(axs[0])\n",
    "    cax[0] = divider.append_axes(\"right\", size=\"5%\", pad=0.1)\n",
    "    gdf_b.plot('Salinity', ax=axs[0], cax=cax[0], legend=True,vmin=5, vmax=32)\n",
    "    cax[0].set_ylabel(f'Minimum daily salinity [g/kg]',fontsize=14)\n",
    "    axs[0].set(yticklabels='', xticklabels='')\n",
    "    axs[0].set(ylim=(5.2e6,5.6e6),xlim=(3.5e5,5.7e5))\n",
    "    axs[0].set_title(date_title, fontsize=fs_t)\n",
    "    \n",
    "    divider = make_axes_locatable(axs[1])\n",
    "    cax[1] = divider.append_axes(\"right\", size=\"5%\", pad=0.1)\n",
    "    gdf_b.plot('Temp', ax=axs[1], cax=cax[1], legend=True,vmin=4, vmax=16,\n",
    "              cmap='coolwarm')\n",
    "    cax[1].set_ylabel(f'Mean daily SST [deg C]',fontsize=14)\n",
    "    axs[1].set(yticklabels='', xticklabels='')\n",
    "    axs[1].set(ylim=(5.2e6,5.6e6),xlim=(3.5e5,5.7e5))\n",
    "    axs[1].set_title(date_title, fontsize=fs_t)\n",
    "    plt.savefig(gdir/f'{day:03d}.jpeg',dpi=150)"
   ]
  },
  {
   "cell_type": "code",
   "execution_count": null,
   "id": "904a382c-ab88-4f97-91d2-e83e0d3ad902",
   "metadata": {},
   "outputs": [],
   "source": []
  },
  {
   "cell_type": "code",
   "execution_count": null,
   "id": "5bc37128-aa88-49cb-a774-b5f5baf7d97d",
   "metadata": {},
   "outputs": [],
   "source": []
  },
  {
   "cell_type": "code",
   "execution_count": null,
   "id": "6794734f-a6b6-4378-a0ae-d2f2fbd1ac59",
   "metadata": {},
   "outputs": [],
   "source": []
  },
  {
   "cell_type": "code",
   "execution_count": null,
   "id": "a79e1167-2816-46cf-914c-7a867baed5f1",
   "metadata": {},
   "outputs": [],
   "source": []
  }
 ],
 "metadata": {
  "kernelspec": {
   "display_name": "Python 3 (ipykernel)",
   "language": "python",
   "name": "python3"
  },
  "language_info": {
   "codemirror_mode": {
    "name": "ipython",
    "version": 3
   },
   "file_extension": ".py",
   "mimetype": "text/x-python",
   "name": "python",
   "nbconvert_exporter": "python",
   "pygments_lexer": "ipython3",
   "version": "3.10.4"
  }
 },
 "nbformat": 4,
 "nbformat_minor": 5
}
