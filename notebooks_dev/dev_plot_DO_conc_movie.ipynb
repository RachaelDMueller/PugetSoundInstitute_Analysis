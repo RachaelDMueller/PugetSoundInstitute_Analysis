{
 "cells": [
  {
   "cell_type": "markdown",
   "id": "f549b3eb-0190-40b4-9a72-2742a8e8ba75",
   "metadata": {},
   "source": [
    "# Plot DO concentration"
   ]
  },
  {
   "cell_type": "code",
   "execution_count": 1,
   "id": "69e12742-b488-4fc5-a262-d981dd941a5b",
   "metadata": {},
   "outputs": [],
   "source": [
    "import sys\n",
    "import os\n",
    "sys.path.insert(1, '../scripts/')\n",
    "import xarray\n",
    "import openpyxl\n",
    "import contextily as cx \n",
    "import yaml\n",
    "import numpy as np\n",
    "import pandas\n",
    "import pathlib\n",
    "import time\n",
    "from datetime import date\n",
    "import geopandas as gpd\n",
    "import matplotlib.pyplot as plt\n",
    "import matplotlib as mpl\n",
    "# load functions from my scripts file \"ssm_utils\"\n",
    "from ssm_utils import get_nearest_node, reshape_fvcom, calc_fvcom_stat, extract_fvcom_level"
   ]
  },
  {
   "cell_type": "code",
   "execution_count": 2,
   "id": "fac33f23-483c-48af-8202-a98b3677e554",
   "metadata": {},
   "outputs": [
    {
     "data": {
      "text/plain": [
       "Timestamp('2014-01-11 00:00:00', freq='D')"
      ]
     },
     "execution_count": 2,
     "metadata": {},
     "output_type": "execute_result"
    }
   ],
   "source": [
    "dti = pandas.date_range(\"2014-01-01\", periods=367, freq=\"D\")\n",
    "model_day = dti[10]\n"
   ]
  },
  {
   "cell_type": "code",
   "execution_count": 23,
   "id": "fc3241a1-8046-414a-bea7-307f95bd4e5b",
   "metadata": {},
   "outputs": [
    {
     "name": "stdout",
     "output_type": "stream",
     "text": [
      "yes\n"
     ]
    }
   ],
   "source": [
    "if (model_day == pandas.Timestamp(date(2014,1,11))) or \\\n",
    "   (model_day == pandas.Timestamp(date(2014,1,10))):\n",
    "    print('yes')"
   ]
  },
  {
   "cell_type": "code",
   "execution_count": 2,
   "id": "0aeaf73d-6612-4302-b958-058087d268b9",
   "metadata": {},
   "outputs": [
    {
     "name": "stdout",
     "output_type": "stream",
     "text": [
      "['DOXG_daily_min']\n"
     ]
    }
   ],
   "source": [
    "root_dir=pathlib.Path(\"/mmfs1/gscratch/ssmc/USRS/PSI/Rachael/projects/KingCounty/data/SOG_NB/\")\n",
    "model_var = \"DOXG\"\n",
    "run = \"wqm_baseline\"\n",
    "\n",
    "run_file = root_dir/model_var/run/\"daily_min_DOXG.nc\"\n",
    "\n",
    "# Load config file\n",
    "with open('../etc/SSM_config.yaml', 'r') as file:\n",
    "    ssm = yaml.safe_load(file)\n",
    "    # get shapefile path    \n",
    "    shp = ssm['paths']['shapefile']\n",
    "    \n",
    "# Loast shapefile \n",
    "gdf = gpd.read_file(shp)\n",
    "gdf = gdf.rename(columns={'region_inf':'Regions'})\n",
    "regions = gdf[['node_id','Regions']].groupby(\n",
    "    'Regions').count().index.to_list()\n",
    "regions.remove('Other')\n",
    "\n",
    "# Load minimum DO results from scenario\n",
    "MinDO={}\n",
    "\n",
    "with xarray.open_dataset(run_file) as ds:\n",
    "    print([*ds])\n",
    "    MinDO_full=ds[f'DOXG_daily_min']\n",
    "    # Sub-sample nodes (from 16012 nodes to 7494)\n",
    "    MinDO=MinDO_full[:,:,gdf['node_id']-1]\n",
    "    # Take minimum across depth levels\n",
    "    MinDO_wc = MinDO.min(axis=1)"
   ]
  },
  {
   "cell_type": "code",
   "execution_count": 3,
   "id": "0c8961d7-1dd9-41c6-92c4-d51d01157c56",
   "metadata": {},
   "outputs": [
    {
     "data": {
      "text/plain": [
       "13.0"
      ]
     },
     "execution_count": 3,
     "metadata": {},
     "output_type": "execute_result"
    }
   ],
   "source": [
    "np.ceil(np.max(np.max(MinDO_wc))).item()"
   ]
  },
  {
   "cell_type": "markdown",
   "id": "88ee37b4-f399-4d11-b945-6a28ca18d1c6",
   "metadata": {},
   "source": [
    "### Plot results"
   ]
  },
  {
   "cell_type": "code",
   "execution_count": 4,
   "id": "10b94364-8d0f-42dc-905a-d69f45b5b277",
   "metadata": {},
   "outputs": [
    {
     "data": {
      "text/plain": [
       "13.0"
      ]
     },
     "execution_count": 4,
     "metadata": {},
     "output_type": "execute_result"
    }
   ],
   "source": [
    "np.ceil(MinDO_wc.max().item())"
   ]
  },
  {
   "cell_type": "code",
   "execution_count": 5,
   "id": "6e495912-18d1-46e2-a9f4-1e4aba01819c",
   "metadata": {},
   "outputs": [],
   "source": [
    "day=200\n",
    "# set all values over 7 to the maximum DO concentration\n",
    "max_idx=(MinDO_wc[day,:]>7)\n",
    "MinDO_wc[day,max_idx]=MinDO_wc.max().item()\n",
    "min_idx=(MinDO_wc[day,:]<2)\n",
    "MinDO_wc[day,min_idx]=0"
   ]
  },
  {
   "cell_type": "code",
   "execution_count": 6,
   "id": "2a6aec6b-7857-4253-bab7-a1c9c9a54ba9",
   "metadata": {},
   "outputs": [],
   "source": [
    "gdf['DO'] = MinDO_wc[day,:]"
   ]
  },
  {
   "cell_type": "code",
   "execution_count": 7,
   "id": "12f51aa3-2f6d-4166-931f-740a44e36dbc",
   "metadata": {},
   "outputs": [
    {
     "data": {
      "text/plain": [
       "['tce',\n",
       " 'node_id',\n",
       " 'x',\n",
       " 'y',\n",
       " 'lat',\n",
       " 'lon',\n",
       " 'DO_std',\n",
       " 'depth',\n",
       " 'km2',\n",
       " 'volume',\n",
       " 'basin_info',\n",
       " 'Regions',\n",
       " 'included_i',\n",
       " 'Shape_Leng',\n",
       " 'Shape_Area',\n",
       " 'geometry',\n",
       " 'DO']"
      ]
     },
     "execution_count": 7,
     "metadata": {},
     "output_type": "execute_result"
    }
   ],
   "source": [
    "[*gdf]"
   ]
  },
  {
   "cell_type": "code",
   "execution_count": 8,
   "id": "9d54bca4-e739-47aa-bddc-80f0429d02e7",
   "metadata": {},
   "outputs": [],
   "source": [
    "gdf=gdf[gdf['Regions']==\"Whidbey\"]"
   ]
  },
  {
   "cell_type": "code",
   "execution_count": 9,
   "id": "0b1f93d4-8d73-4005-bca2-9166ab46c7b7",
   "metadata": {},
   "outputs": [
    {
     "data": {
      "text/plain": [
       "(531, 17)"
      ]
     },
     "execution_count": 9,
     "metadata": {},
     "output_type": "execute_result"
    }
   ],
   "source": [
    "gdf.shape"
   ]
  },
  {
   "cell_type": "code",
   "execution_count": 29,
   "id": "22fe86a5-5863-4735-a3b3-f379680fde0c",
   "metadata": {},
   "outputs": [
    {
     "name": "stdout",
     "output_type": "stream",
     "text": [
      "0 2\n",
      "2 3\n",
      "3 4\n",
      "4 5\n",
      "5 6\n",
      "6 7\n",
      "7 12.11\n"
     ]
    },
    {
     "data": {
      "text/plain": [
       "Text(0.5, 1.0, 'Minimum Daily Dissolved Oxygen (DO)\\nDay 200 of 2014')"
      ]
     },
     "execution_count": 29,
     "metadata": {},
     "output_type": "execute_result"
    },
    {
     "data": {
      "image/png": "[encoded data removed]",
      "text/plain": [
       "<Figure size 576x576 with 1 Axes>"
      ]
     },
     "metadata": {
      "needs_background": "light"
     },
     "output_type": "display_data"
    }
   ],
   "source": [
    "mpl.rc('font', size=10)\n",
    "# some of the following may be repetetive but can also be set relative to the font value above \n",
    "#    (eg \"xx-small, x-small,small, medium, large, x-large, xx-large, larger, or smaller\"; see link above for details)\n",
    "mpl.rc('legend', fontsize=10)\n",
    "mpl.rc('axes', titlesize=14)\n",
    "mpl.rc('axes', labelsize=10)\n",
    "mpl.rc('figure', titlesize=10)\n",
    "mpl.rc('font', family='sans-serif', weight='normal', style='normal')\n",
    "\n",
    "fig, axs = plt.subplots(1, figsize = (8,8))\n",
    "gdf.plot(ax=axs,\n",
    "        column='DO',\n",
    "        scheme=\"User_Defined\", \n",
    "        legend=True, \n",
    "        classification_kwds=dict(bins=[2,3,4,5,6,7]),\n",
    "        cmap=mpl.colors.ListedColormap(\n",
    "            ['red','orange','navajowhite','beige','skyblue','royalblue','midnightblue'])\n",
    "        )\n",
    "# remove x-, y-labels\n",
    "#axs.set_xticklabels('')\n",
    "#axs.set_yticklabels('')\n",
    "axs.set_ylim(6.085e6,6.19e6)\n",
    "axs.set_xlim(-1.367e7,-1.36e7)\n",
    "# set legend to lower left corner (instead of default upper-right, which overlaps SOGNB)\n",
    "#axs.legend(loc='upper left', bbox_to_anchor=(1, 1))\n",
    "plt_legend = axs.get_legend()\n",
    "plt_legend.set_bbox_to_anchor=(1,1)\n",
    "plt_legend._loc = 3\n",
    "plt_legend.set_title('DO [mg/l]')\n",
    "# # get all the legend labels\n",
    "# legend_labels = axs.get_legend().get_texts()\n",
    "# Change legend label format from 0.00, 2.00 to 0-2\n",
    "# get and format all bounds\n",
    "bounds = []\n",
    "upper_bounds=[2,3,4,5,6,7,12.11]\n",
    "for index, upper_bound in enumerate(upper_bounds):\n",
    "    if index == 0:\n",
    "        lower_bound = 0\n",
    "    else:\n",
    "        lower_bound = upper_bounds[index-1]\n",
    "    print(lower_bound, upper_bound)\n",
    "    \n",
    "    # format the numerical legend here\n",
    "    bound = f'{lower_bound:.0f} - {upper_bound:.0f}'\n",
    "    bounds.append(bound)\n",
    "# get all the legend labels\n",
    "legend_labels = axs.get_legend().get_texts()\n",
    "\n",
    "# replace the legend labels\n",
    "for bound, legend_label in zip(bounds, legend_labels):\n",
    "    legend_label.set_text(bound)\n",
    "    \n",
    "# # replace the legend labels\n",
    "# for bound, legend_label in zip(bounds, legend_labels):\n",
    "#     legend_label.set_text(bound)\n",
    "# Add land topography\n",
    "# cx.add_basemap(axs, \n",
    "#     crs=gdf.crs,\n",
    "#     source=cx.providers.Stamen.TerrainBackground, \n",
    "#     alpha=1\n",
    "# )\n",
    "\n",
    "# cx.add_basemap(\n",
    "#     axs,\n",
    "#     crs=gdf.crs,\n",
    "#     source=cx.providers.Stamen.TerrainLabels, \n",
    "#     zoom=10)\n",
    "axs.set_title(f'Minimum Daily Dissolved Oxygen (DO)\\nDay {day} of 2014')"
   ]
  },
  {
   "cell_type": "code",
   "execution_count": 31,
   "id": "0fe7fb21-ab35-4f89-98ea-b636a5eda2ad",
   "metadata": {},
   "outputs": [
    {
     "name": "stderr",
     "output_type": "stream",
     "text": [
      "/mmfs1/gscratch/ssmc/USRS/PSI/Rachael/.conda/envs/klone_jupyter/lib/python3.10/site-packages/geopandas/io/file.py:362: FutureWarning: pandas.Int64Index is deprecated and will be removed from pandas in a future version. Use pandas.Index with the appropriate dtype instead.\n",
      "  pd.Int64Index,\n"
     ]
    }
   ],
   "source": [
    "gdf.to_file('/mmfs1/gscratch/ssmc/USRS/PSI/Rachael/projects/KingCounty/graphics/EOPS/DO_200.geojson', driver='GeoJSON')  "
   ]
  },
  {
   "cell_type": "code",
   "execution_count": 32,
   "id": "05560665-1f9f-4e2d-9974-b721eb821dda",
   "metadata": {},
   "outputs": [
    {
     "name": "stderr",
     "output_type": "stream",
     "text": [
      "/mmfs1/gscratch/ssmc/USRS/PSI/Rachael/.conda/envs/klone_jupyter/lib/python3.10/site-packages/geopandas/io/file.py:362: FutureWarning: pandas.Int64Index is deprecated and will be removed from pandas in a future version. Use pandas.Index with the appropriate dtype instead.\n",
      "  pd.Int64Index,\n"
     ]
    }
   ],
   "source": [
    "gdf.to_file('/mmfs1/gscratch/ssmc/USRS/PSI/Rachael/projects/KingCounty/graphics/EOPS/DO_200.shp')  "
   ]
  },
  {
   "cell_type": "code",
   "execution_count": 33,
   "id": "d931963d-3327-44b7-8c39-62f2ca4052d6",
   "metadata": {},
   "outputs": [
    {
     "data": {
      "text/plain": [
       "['tce',\n",
       " 'node_id',\n",
       " 'x',\n",
       " 'y',\n",
       " 'lat',\n",
       " 'lon',\n",
       " 'DO_std',\n",
       " 'depth',\n",
       " 'km2',\n",
       " 'volume',\n",
       " 'basin_info',\n",
       " 'Regions',\n",
       " 'included_i',\n",
       " 'Shape_Leng',\n",
       " 'Shape_Area',\n",
       " 'geometry',\n",
       " 'DO']"
      ]
     },
     "execution_count": 33,
     "metadata": {},
     "output_type": "execute_result"
    }
   ],
   "source": [
    "[*gdf]"
   ]
  },
  {
   "cell_type": "code",
   "execution_count": 36,
   "id": "abfd743b-4bce-4ddb-99d7-87944883fe89",
   "metadata": {},
   "outputs": [
    {
     "name": "stderr",
     "output_type": "stream",
     "text": [
      "/mmfs1/gscratch/ssmc/USRS/PSI/Rachael/.conda/envs/klone_jupyter/lib/python3.10/site-packages/geopandas/io/file.py:362: FutureWarning: pandas.Int64Index is deprecated and will be removed from pandas in a future version. Use pandas.Index with the appropriate dtype instead.\n",
      "  pd.Int64Index,\n",
      "/mmfs1/gscratch/ssmc/USRS/PSI/Rachael/.conda/envs/klone_jupyter/lib/python3.10/site-packages/geopandas/io/file.py:362: FutureWarning: pandas.Int64Index is deprecated and will be removed from pandas in a future version. Use pandas.Index with the appropriate dtype instead.\n",
      "  pd.Int64Index,\n"
     ]
    }
   ],
   "source": [
    "gdf_small = gdf[['DO','geometry', 'lat','lon']]\n",
    "gdf_small.to_file('/mmfs1/gscratch/ssmc/USRS/PSI/Rachael/projects/KingCounty/graphics/EOPS/DO_200_small.shp')\n",
    "gdf_small.to_file('/mmfs1/gscratch/ssmc/USRS/PSI/Rachael/projects/KingCounty/graphics/EOPS/DO_200_small.geojson', driver='GeoJSON')  "
   ]
  },
  {
   "cell_type": "code",
   "execution_count": null,
   "id": "ab85e320-3cc3-4d48-a38a-0f99a0362e91",
   "metadata": {},
   "outputs": [],
   "source": [
    "ssm['paths']['processed_output']"
   ]
  },
  {
   "cell_type": "code",
   "execution_count": null,
   "id": "bb3c3ee6-de1b-48ec-8491-4b791d280be7",
   "metadata": {},
   "outputs": [],
   "source": [
    "# get and format all bounds\n",
    "bounds = []\n",
    "upper_bounds=[2,3,4,5,6,7,12.11]\n",
    "for index, upper_bound in enumerate(upper_bounds):\n",
    "    if index == 0:\n",
    "        lower_bound = 0\n",
    "    else:\n",
    "        lower_bound = upper_bounds[index-1]\n",
    "    print(lower_bound, upper_bound)\n",
    "    \n",
    "    # format the numerical legend here\n",
    "    bound = f'{lower_bound:.0f} - {upper_bound:.0f}'\n",
    "    bounds.append(bound)\n",
    "\n",
    "# get all the legend labels\n",
    "legend_labels = axs.get_legend().get_texts()\n",
    "\n",
    "# replace the legend labels\n",
    "for bound, legend_label in zip(bounds, legend_labels):\n",
    "    legend_label.set_text(bound)"
   ]
  },
  {
   "cell_type": "code",
   "execution_count": null,
   "id": "2a13ee73-7e8d-4ea1-aae2-f9f059f7cd21",
   "metadata": {},
   "outputs": [],
   "source": []
  }
 ],
 "metadata": {
  "kernelspec": {
   "display_name": "Python 3 (ipykernel)",
   "language": "python",
   "name": "python3"
  },
  "language_info": {
   "codemirror_mode": {
    "name": "ipython",
    "version": 3
   },
   "file_extension": ".py",
   "mimetype": "text/x-python",
   "name": "python",
   "nbconvert_exporter": "python",
   "pygments_lexer": "ipython3",
   "version": "3.10.4"
  }
 },
 "nbformat": 4,
 "nbformat_minor": 5
}
