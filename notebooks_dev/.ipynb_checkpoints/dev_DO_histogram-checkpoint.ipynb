{
 "cells": [
  {
   "cell_type": "code",
   "execution_count": 2,
   "metadata": {},
   "outputs": [],
   "source": [
    "import xarray\n",
    "import numpy\n",
    "import pandas\n",
    "import pathlib\n",
    "import time\n",
    "import geopandas as gpd\n",
    "import matplotlib.pyplot as plt"
   ]
  },
  {
   "cell_type": "code",
   "execution_count": 3,
   "metadata": {},
   "outputs": [],
   "source": [
    "import matplotlib as mpl\n",
    "mpl.rc('font', size=11)\n",
    "# some of the following may be repetetive but can also be set relative to the font value above \n",
    "#    (eg \"xx-small, x-small,small, medium, large, x-large, xx-large, larger, or smaller\"; see link above for details)\n",
    "mpl.rc('xtick', labelsize=12)\n",
    "mpl.rc('ytick', labelsize=12)\n",
    "mpl.rc('legend', fontsize=12)\n",
    "mpl.rc('axes', titlesize=16)\n",
    "mpl.rc('axes', labelsize=12)\n",
    "mpl.rc('figure', titlesize=16)\n",
    "mpl.rc('text', usetex=False)\n",
    "mpl.rc('font', family='sans-serif', weight='normal', style='normal')"
   ]
  },
  {
   "cell_type": "code",
   "execution_count": 4,
   "metadata": {},
   "outputs": [],
   "source": [
    "# Create a dictionary with all variable options (these can be expanded)\n",
    "variable_name_list=['DO','NH3','NO3','NPP','Temp','Salinity']\n",
    "parameter_ID_list=['Var_10','Var_14','Var_15','Var_17','Var_18','Var_19']\n",
    "model_output_name = {\n",
    "    variable_name_list[i]: parameter_ID_list[i] for i in range(len(variable_name_list))\n",
    "}\n",
    "\n",
    "# Define the variable that we want to plot\n",
    "variable_name = \"DO\" \n",
    "\n",
    "# Define directory for saving netcdf output\n",
    "output_directory = pathlib.Path('/mmfs1/gscratch/ssmc/USRS/PSI/Rachael/output/daily_min')\n",
    "graphics_directory= pathlib.Path(\n",
    "    '/mmfs1/gscratch/ssmc/USRS/PSI/Rachael/projects/CWA/graphics')\n",
    "\n",
    "\n",
    "# Define locations for different scenarios\n",
    "root_dir = pathlib.Path('/mmfs1/gscratch/ssmc/USRS/PSI/Adi/BS_WQM/')\n",
    "data_paths=numpy.array(\n",
    "    [root_dir/'2014_SSM4_WQ_exist_orig/hotstart/outputs',\n",
    "     root_dir/'2014_SSM4_WQ_ref_orig/hotstart/outputs'\n",
    "    ]\n",
    ")"
   ]
  },
  {
   "cell_type": "markdown",
   "metadata": {},
   "source": [
    "# Functions"
   ]
  },
  {
   "cell_type": "code",
   "execution_count": 5,
   "metadata": {},
   "outputs": [],
   "source": [
    "def reshape_fvcom(fvcom_timeIJK, reshape_type):\n",
    "    \"\"\" Reorganize the 2D FVCOM output from 2-dimensions of (time,nodes)\n",
    "    to a format that allows for daily, yearly, or depth calculations. \n",
    "    \n",
    "    param float fvcom_timeIJK: FVCOM_v2.7ecy output array in dimension of 8760x160120.\n",
    "    param string reshape_type: ['days','levels','dayslevels']\n",
    "    return: Reorganized array\n",
    "    \"\"\"\n",
    "    ti,ni = fvcom_timeIJK.shape\n",
    "    print(ti,ni)\n",
    "    # Error handling\n",
    "    if reshape_type not in ['days','levels','dayslevels']:\n",
    "        raise ValueError(\n",
    "            \"options for reshape_type are: 'days','levels','dayslevels'\"\n",
    "        )\n",
    "    \n",
    "    # Reshaping\n",
    "    if reshape_type == 'days':\n",
    "        if (ti != 8760):\n",
    "            raise TypeError(\n",
    "                \"FVCOM array must have a time dimension of 8760\"\n",
    "            )\n",
    "        fvcom_reshaped = numpy.reshape(\n",
    "            fvcom_timeIJK[:,:].data, (365,24,ni)\n",
    "        )\n",
    "    elif reshape_type == 'levels':\n",
    "        if (ni != 160120):\n",
    "            raise TypeError(\n",
    "                \"FVCOM array must have a node dimension of 160120\"\n",
    "            )\n",
    "        fvcom_reshaped = numpy.reshape(\n",
    "            fvcom_timeIJK[:,:].data, (ti,16012,10)\n",
    "        )\n",
    "    elif reshape_type == 'dayslevels':\n",
    "        if (ti != 8760) or (ni != 160120):\n",
    "            raise TypeError(\n",
    "                \"FVCOM array size must be 8760 x 160120\"\n",
    "            )\n",
    "        fvcom_reshaped = numpy.reshape(\n",
    "            fvcom_timeIJK[:,:].data, (365,24,16012,10)\n",
    "        )\n",
    "        \n",
    "    return fvcom_reshaped\n",
    "\n",
    "def extract_fvcom_level(gdf, fvcom_timeIJK, LevelNum):\n",
    "    \"\"\" Extract model output at nodes by level. \n",
    "    \n",
    "    param dataframe gdf: geopandas dataframe of FVCOM nodes from 2D planar nodes\n",
    "        with dimensions of 16012.\n",
    "    param float fvcom_timeIJK: 3D-FVCOM output in dimensions of time x 160120.\n",
    "    param int LevelNum: Integer from 1 (surface) to 10 (bottom)\n",
    "    \n",
    "    return fvcom_nodeIDs: model output at level in dimension of time x 16012\n",
    "    \"\"\"\n",
    "    if LevelNum not in range(1,11):\n",
    "        raise ValueError(\"fvcom_LevelNum must be an integer value from 1-10\")\n",
    "\n",
    "    try:\n",
    "        node_ids = gdf['node_id'].to_numpy()\n",
    "    except:\n",
    "        raise AttributeError(\"missing 'node_id' column in dataframe\")\n",
    "        \n",
    "    ijk_index = node_ids * 10 - (11-LevelNum)\n",
    "    # get DO values at each level\n",
    "    fvcom_nodeIDs = fvcom_timeIJK[:,ijk_index]\n",
    "    # if ds['Var_10'] is passed in: \n",
    "    # fvcom_nodeIDs = fvcom_timeIJK[:,:].data[:,ijk_index]\n",
    "    \n",
    "    return fvcom_nodeIDs\n",
    "\n",
    "def calc_fvcom_stat(fvcom_output, stat_type, axis):\n",
    "    \"\"\" Perform numpy statistic (e.g. mean, min) on FVCOM_v2.7ecy model output \n",
    "        over specific \"axis.\" \n",
    "    \n",
    "    param float fvcom_output: FVCOM_v2.7ecy output array in dimensions of time x 160120.\n",
    "    param float stat_type: 'min','mean'.\n",
    "    param int axis: Integer from 0 to ndims(fvcom_output)\n",
    "    \n",
    "    return: stat of model output across specified axis (axs)\n",
    "    \"\"\"\n",
    "    fvcom_stat = getattr(numpy,stat_type)(fvcom_output,axis=axis)\n",
    "    \n",
    "    return fvcom_stat"
   ]
  },
  {
   "cell_type": "markdown",
   "metadata": {},
   "source": [
    "# Load model output from the Existing and Reference cases"
   ]
  },
  {
   "cell_type": "code",
   "execution_count": 9,
   "metadata": {},
   "outputs": [
    {
     "name": "stdout",
     "output_type": "stream",
     "text": [
      "8760 160120\n",
      "8760 160120\n"
     ]
    },
    {
     "data": {
      "text/plain": [
       "(16012,)"
      ]
     },
     "execution_count": 9,
     "metadata": {},
     "output_type": "execute_result"
    }
   ],
   "source": [
    "si = 0 # choose first directory = Existing\n",
    "dailyDO_tmin_zmin={}\n",
    "variable_name = 'DO'\n",
    "for si in [0,1]:\n",
    "    scenario_name=str(data_paths[si]).split('/')[-3]\n",
    "    # output netcdf filename\n",
    "    output_file = output_directory/f'{scenario_name}_{variable_name}.nc'\n",
    "    # input netcdf filename\n",
    "    file_path=data_paths[si]/'s_hy_base000_pnnl007_nodes.nc'\n",
    "    # load variable into xarray and calculate daily min.\n",
    "    with xarray.open_dataset(file_path) as ds:\n",
    "        dailyDO = reshape_fvcom(\n",
    "            ds[model_output_name[variable_name]][:,:].data, \n",
    "            'days'\n",
    "        ) #return (365x24xnodes)\n",
    "        # calculate daily minimum\n",
    "        dailyDO_tmin = calc_fvcom_stat(dailyDO, 'min', axis=1)\n",
    "        # calculate daily minimum across 265 days\n",
    "        dailyDO_tmin = calc_fvcom_stat(dailyDO_tmin, 'min', axis=0)\n",
    "        # reshape to levels\n",
    "        dailyDO_tmin_rshp = numpy.reshape(\n",
    "            dailyDO_tmin, (16012,10)\n",
    "        )\n",
    "        # calculate minimum across depth levels\n",
    "        dailyDO_tmin_zmin[si] = calc_fvcom_stat(dailyDO_tmin_rshp, 'min', axis=1)\n",
    "# dialy min DO difference Existing - Reference\n",
    "dailyDO_tmin_zmin[2] = dailyDO_tmin_zmin[0]-dailyDO_tmin_zmin[1]\n",
    "dailyDO_tmin_zmin[2].shape"
   ]
  },
  {
   "cell_type": "markdown",
   "metadata": {},
   "source": [
    "# Plot histograms of DO together with 5% and 95% quantiles"
   ]
  },
  {
   "cell_type": "code",
   "execution_count": 10,
   "metadata": {},
   "outputs": [],
   "source": [
    "hist_labels = ['Existing','Reference','Existing-Reference']\n",
    "hist_colors=['darkslategrey','darkblue','indigo']"
   ]
  },
  {
   "cell_type": "code",
   "execution_count": 16,
   "metadata": {},
   "outputs": [
    {
     "data": {
      "image/png": "[encoded data removed]",
      "text/plain": [
       "<Figure size 432x288 with 1 Axes>"
      ]
     },
     "metadata": {
      "needs_background": "light"
     },
     "output_type": "display_data"
    }
   ],
   "source": [
    "for si in [0,1]:\n",
    "    plt.hist(dailyDO_tmin_zmin[si], \n",
    "             bins=30,\n",
    "             alpha=0.5, \n",
    "             label=hist_labels[si],\n",
    "             color=hist_colors[si]) # customized color parameter  \n",
    "plt.title('Minimum daily DO for all days in 2014')\n",
    "plt.legend(loc='upper right')\n",
    "plt.show()"
   ]
  },
  {
   "cell_type": "markdown",
   "metadata": {},
   "source": [
    "# Show histograms for all regions"
   ]
  },
  {
   "cell_type": "code",
   "execution_count": 17,
   "metadata": {},
   "outputs": [
    {
     "data": {
      "text/html": [
       "<div>\n",
       "<style scoped>\n",
       "    .dataframe tbody tr th:only-of-type {\n",
       "        vertical-align: middle;\n",
       "    }\n",
       "\n",
       "    .dataframe tbody tr th {\n",
       "        vertical-align: top;\n",
       "    }\n",
       "\n",
       "    .dataframe thead th {\n",
       "        text-align: right;\n",
       "    }\n",
       "</style>\n",
       "<table border=\"1\" class=\"dataframe\">\n",
       "  <thead>\n",
       "    <tr style=\"text-align: right;\">\n",
       "      <th></th>\n",
       "      <th>node count</th>\n",
       "    </tr>\n",
       "    <tr>\n",
       "      <th>Basin</th>\n",
       "      <th></th>\n",
       "    </tr>\n",
       "  </thead>\n",
       "  <tbody>\n",
       "    <tr>\n",
       "      <th>Hood Canal</th>\n",
       "      <td>726</td>\n",
       "    </tr>\n",
       "    <tr>\n",
       "      <th>Main Basin</th>\n",
       "      <td>1208</td>\n",
       "    </tr>\n",
       "    <tr>\n",
       "      <th>SJF_Admiralty</th>\n",
       "      <td>958</td>\n",
       "    </tr>\n",
       "    <tr>\n",
       "      <th>SOG_Bays</th>\n",
       "      <td>743</td>\n",
       "    </tr>\n",
       "    <tr>\n",
       "      <th>South Sound</th>\n",
       "      <td>1722</td>\n",
       "    </tr>\n",
       "    <tr>\n",
       "      <th>Whidbey_Basin</th>\n",
       "      <td>2067</td>\n",
       "    </tr>\n",
       "  </tbody>\n",
       "</table>\n",
       "</div>"
      ],
      "text/plain": [
       "               node count\n",
       "Basin                    \n",
       "Hood Canal            726\n",
       "Main Basin           1208\n",
       "SJF_Admiralty         958\n",
       "SOG_Bays              743\n",
       "South Sound          1722\n",
       "Whidbey_Basin        2067"
      ]
     },
     "execution_count": 17,
     "metadata": {},
     "output_type": "execute_result"
    }
   ],
   "source": [
    "# Kevin's shapefile\n",
    "shapefile_path = pathlib.Path(\n",
    "    '/mmfs1/gscratch/ssmc/USRS/PSI/Rachael/projects/CWA/CleanWaterAlliance/shapefiles'\n",
    ")/'SSMGrid2_tce.shp'\n",
    "gdf_k = gpd.read_file(shapefile_path)\n",
    "gdf_k = gdf_k.loc[:, ('tce','Basin','geometry')]\n",
    "gdf_k=gdf_k.rename(columns={'tce':'node_id'})\n",
    "basin_count=gdf_k[['node_id','Basin']].groupby('Basin').count().rename(columns={'node_id':'node count'})\n",
    "basin_count"
   ]
  },
  {
   "cell_type": "code",
   "execution_count": 21,
   "metadata": {},
   "outputs": [
    {
     "data": {
      "text/plain": [
       "['Hood Canal',\n",
       " 'Main Basin',\n",
       " 'SJF_Admiralty',\n",
       " 'SOG_Bays',\n",
       " 'South Sound',\n",
       " 'Whidbey_Basin']"
      ]
     },
     "execution_count": 21,
     "metadata": {},
     "output_type": "execute_result"
    }
   ],
   "source": [
    "basin_count.index.to_list()"
   ]
  },
  {
   "cell_type": "code",
   "execution_count": 37,
   "metadata": {},
   "outputs": [],
   "source": [
    "# separate nodes by basin\n",
    "gdf = {}\n",
    "minDO={}\n",
    "for basin in basin_count.index.to_list():\n",
    "    minDO[basin]={}\n",
    "    gdf[basin] = gdf_k.loc[gdf_k['Basin']==basin]\n",
    "    # use node_id to select locations\n",
    "    for si in [0,1,2]:\n",
    "        minDO[basin][si] = dailyDO_tmin_zmin[si][gdf[basin]['node_id']-1]"
   ]
  },
  {
   "cell_type": "code",
   "execution_count": 42,
   "metadata": {},
   "outputs": [
    {
     "name": "stdout",
     "output_type": "stream",
     "text": [
      "0\n",
      "1\n",
      "2\n",
      "3\n",
      "4\n",
      "5\n"
     ]
    },
    {
     "data": {
      "image/png": "[encoded data removed]",
      "text/plain": [
       "<Figure size 1296x576 with 6 Axes>"
      ]
     },
     "metadata": {
      "needs_background": "light"
     },
     "output_type": "display_data"
    }
   ],
   "source": [
    "fig, axs = plt.subplots(1,6, figsize = (18,8))\n",
    "for idx,basin in enumerate(basin_count.index.to_list()):\n",
    "    print(idx)\n",
    "    for si in [0,1]:\n",
    "        axs[idx].hist(minDO[basin][si], \n",
    "                 bins=20,\n",
    "                 alpha=0.5, \n",
    "                 label=hist_labels[si],\n",
    "                 color=hist_colors[si]) # customized color parameter  \n",
    "    axs[idx].set_title(f'{basin}\\n2014 min daily DO')\n",
    "    axs[idx].set_xlim(0,10)\n",
    "    if idx>0:\n",
    "        axs[idx].set(yticklabels='')\n",
    "    else:\n",
    "        axs[idx].set_ylabel('node count')\n",
    "        axs[idx].set_xlabel('min DO [mg/l]')\n",
    "plt.legend(bbox_to_anchor=(1.04,1),loc='upper right')\n",
    "plt.show()"
   ]
  },
  {
   "cell_type": "code",
   "execution_count": 46,
   "metadata": {},
   "outputs": [
    {
     "name": "stdout",
     "output_type": "stream",
     "text": [
      "0\n",
      "1\n",
      "2\n",
      "3\n",
      "4\n",
      "5\n"
     ]
    },
    {
     "data": {
      "image/png": "[encoded data removed]",
      "text/plain": [
       "<Figure size 1296x576 with 6 Axes>"
      ]
     },
     "metadata": {
      "needs_background": "light"
     },
     "output_type": "display_data"
    }
   ],
   "source": [
    "fig, axs = plt.subplots(1,6, figsize = (18,8))\n",
    "si=2\n",
    "for idx,basin in enumerate(basin_count.index.to_list()):\n",
    "    print(idx)\n",
    "    axs[idx].hist(minDO[basin][si], \n",
    "             bins=20,\n",
    "             alpha=0.5, \n",
    "             label=hist_labels[si],\n",
    "             color=hist_colors[si]) # customized color parameter  \n",
    "    axs[idx].set_title(f'{basin}\\n2014 min daily DO')\n",
    "    axs[idx].set_xlim(-2,0)\n",
    "    if idx>0:\n",
    "        axs[idx].set(yticklabels='')\n",
    "    else:\n",
    "        axs[idx].set_ylabel('node count')\n",
    "        axs[idx].set_xlabel('Existing - Reference\\nmin DO [mg/l]')\n",
    "#plt.legend(bbox_to_anchor=(1.04,1),loc='upper right')\n",
    "plt.show()"
   ]
  },
  {
   "cell_type": "code",
   "execution_count": null,
   "metadata": {},
   "outputs": [],
   "source": []
  }
 ],
 "metadata": {
  "kernelspec": {
   "display_name": "Python 3 (ipykernel)",
   "language": "python",
   "name": "python3"
  },
  "language_info": {
   "codemirror_mode": {
    "name": "ipython",
    "version": 3
   },
   "file_extension": ".py",
   "mimetype": "text/x-python",
   "name": "python",
   "nbconvert_exporter": "python",
   "pygments_lexer": "ipython3",
   "version": "3.10.4"
  }
 },
 "nbformat": 4,
 "nbformat_minor": 4
}
