{
 "cells": [
  {
   "cell_type": "code",
   "execution_count": 7,
   "id": "2c540932-e0b6-4133-a845-052532b849a8",
   "metadata": {},
   "outputs": [],
   "source": [
    "import sys\n",
    "import os\n",
    "sys.path.insert(1, '../scripts/')\n",
    "from ssm_utils import calc_fvcom_stat, reshape_fvcom\n",
    "import numpy as np\n",
    "import xarray"
   ]
  },
  {
   "cell_type": "code",
   "execution_count": 8,
   "id": "f81b80a3-4899-4ea5-be89-895c8a1c68c3",
   "metadata": {},
   "outputs": [
    {
     "name": "stdout",
     "output_type": "stream",
     "text": [
      "8784 10 16012\n",
      "CPU times: user 1.61 s, sys: 5.22 s, total: 6.83 s\n",
      "Wall time: 2min 38s\n"
     ]
    },
    {
     "data": {
      "text/plain": [
       "(366, 24, 10, 16012)"
      ]
     },
     "execution_count": 8,
     "metadata": {},
     "output_type": "execute_result"
    }
   ],
   "source": [
    "%%time\n",
    "path='/mmfs1/gscratch/ssmc/USRS/PSI/Sukyong/kingcounty/wqm_baseline/ssm_output.nc'\n",
    "ds = xarray.open_dataset(path,engine='netcdf4')\n",
    "hourly_values = reshape_fvcom(\n",
    "    ds['NO3'],'days'\n",
    ")\n",
    "hourly_values.shape"
   ]
  },
  {
   "cell_type": "code",
   "execution_count": 22,
   "id": "f47ec709-4489-4950-93ff-709aa17b0060",
   "metadata": {},
   "outputs": [
    {
     "data": {
      "text/plain": [
       "(3, 3, 2)"
      ]
     },
     "execution_count": 22,
     "metadata": {},
     "output_type": "execute_result"
    }
   ],
   "source": [
    "a = np.array([[[1,2],[3,4], [4,5]], [[6,7],[8,9],[10,11]], [[60,70],[80,90],[100,110]]])\n",
    "a.shape"
   ]
  },
  {
   "cell_type": "code",
   "execution_count": null,
   "id": "4953c9ac-3238-4802-a4e6-9cd5af575fd8",
   "metadata": {},
   "outputs": [],
   "source": [
    "sfc={}\n",
    "bot={}\n",
    "wc={}\n",
    "for var in ['min','max','mean','median','range','median-mean']:\n",
    "    sfc[var]=[]\n",
    "    bot[var]=[]\n",
    "    wc[var]=[]\n",
    "\n",
    "for day in range(5,366):\n",
    "    for stat_type in ['min','max','mean','median']:\n",
    "        sfc[stat_type]=calc_fvcom_stat(\n",
    "            hourly_values[day,:,0,node_id-1], \n",
    "            stat_type, \n",
    "            axis=0):\n",
    "        bot[stat_type]=calc_fvcom_stat(\n",
    "            hourly_values[day,:,10,node_id-1], \n",
    "            stat_type, \n",
    "            axis=0):\n",
    "        wc[stat_type]=calc_fvcom_stat(\n",
    "            ds['NO3'][:,,node_id-1], \n",
    "            stat_type, \n",
    "            axis=0):\n",
    "    sfc['range']=sfc['max']-sfc['min']\n",
    "    sfc['median-mean']=sfc['median']-sfc['mean']\n",
    "    #surface\n",
    "    sfc_min=np.min(hourly_values[day,:,0,node_id-1])\n",
    "    sfc_max=np.max(hourly_values[day,:,0,node_id-1])\n",
    "    sfc_mean=np.mean(hourly_values[day,:,0,node_id-1])\n",
    "    sfc_median=np.median(hourly_values[day,:,0,node_id-1])\n",
    "    sfc_range = sfc_max - sfc_min\n",
    "    #bottom\n",
    "    bot_min=np.min(hourly_values[day,:,9,node_id-1])\n",
    "    bot_max=np.max(hourly_values[day,:,9,node_id-1])\n",
    "    bot_mean=np.mean(hourly_values[day,:,9,node_id-1])\n",
    "    bot_median=np.median(hourly_values[day,:,9,node_id-1])\n",
    "    bot_range = bot_max - bot_min\n",
    "    # water column\n",
    "    wc_min=np.min(np.min(hourly_values[day,:,:,node_id-1]))\n",
    "    wc_max=np.max(np.max(hourly_values[day,:,:,node_id-1]))\n",
    "    wc_mean=np.mean(np.mean(hourly_values[day,:,:,node_id-1]))\n",
    "    wc_median=np.median(np.median(hourly_values[day,:,:,node_id-1]))\n",
    "    #wc_mean=np.median(np.median(hourly_values[day,:,:,node_id-1]))\n",
    "    wc_range=wc_max-wc_min\n",
    "    # plot values \n",
    "    bot['range'].append(bot_range)\n",
    "    bot['max'].append(bot_max)\n",
    "    bot['median'].append(bot_median)\n",
    "    bot['mean'].append(bot_mean)\n",
    "    bot['median-max'].append(bot_median-bot_max)\n",
    "    sfc['range'].append(sfc_range)\n",
    "    sfc['max'].append(sfc_max)\n",
    "    sfc['median'].append(sfc_median)\n",
    "    sfc['mean'].append(sfc_mean)\n",
    "    sfc['median-max'].append(sfc_median-sfc_max)\n",
    "    wc['range'].append(wc_range)\n",
    "    wc['max'].append(wc_max)\n",
    "    wc['mean'].append(wc_mean)\n",
    "    "
   ]
  }
 ],
 "metadata": {
  "kernelspec": {
   "display_name": "Python 3 (ipykernel)",
   "language": "python",
   "name": "python3"
  },
  "language_info": {
   "codemirror_mode": {
    "name": "ipython",
    "version": 3
   },
   "file_extension": ".py",
   "mimetype": "text/x-python",
   "name": "python",
   "nbconvert_exporter": "python",
   "pygments_lexer": "ipython3",
   "version": "3.10.4"
  }
 },
 "nbformat": 4,
 "nbformat_minor": 5
}
