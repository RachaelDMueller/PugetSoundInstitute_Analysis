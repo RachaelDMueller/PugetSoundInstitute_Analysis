{
 "cells": [
  {
   "cell_type": "code",
   "execution_count": 1,
   "id": "a1462774-3c33-4efa-a478-aab308b6a732",
   "metadata": {},
   "outputs": [],
   "source": [
    "import sys\n",
    "import os\n",
    "import xarray\n",
    "import openpyxl\n",
    "import contextily as cx \n",
    "import yaml\n",
    "import numpy as np\n",
    "import pandas\n",
    "import pathlib\n",
    "import time\n",
    "import geopandas as gpd\n",
    "import matplotlib.pyplot as plt\n",
    "import matplotlib as mpl"
   ]
  },
  {
   "cell_type": "code",
   "execution_count": 2,
   "id": "4ae3dc19-feea-4c87-93e3-4da4e5c19797",
   "metadata": {},
   "outputs": [],
   "source": [
    "run_file=\"/mmfs1/gscratch/ssmc/USRS/PSI/Rachael/projects/KingCounty/data/whidbey/DOXG/wqm_baseline/daily_min_DOXG.nc\"\n",
    "case = 'whidbey'\n",
    "run_type = 'wqm_baseline'\n",
    "model_var = 'DOXG'"
   ]
  },
  {
   "cell_type": "code",
   "execution_count": 3,
   "id": "0780d341-db12-429e-a078-7efad91a1ea6",
   "metadata": {},
   "outputs": [
    {
     "data": {
      "text/plain": [
       "(4144,)"
      ]
     },
     "execution_count": 3,
     "metadata": {},
     "output_type": "execute_result"
    }
   ],
   "source": [
    "with open('../etc/SSM_config_whidbey.yaml', 'r') as file:\n",
    "    ssm = yaml.safe_load(file)\n",
    "# get shapefile path    \n",
    "shp = ssm['paths']['shapefile']\n",
    "# load shapefile into geopandas dataframe\n",
    "gdf = gpd.read_file(shp)\n",
    "DO_thresh = gdf['DO_std']\n",
    "DO_thresh.shape"
   ]
  },
  {
   "cell_type": "code",
   "execution_count": 4,
   "id": "7b08f8ab-b78d-480c-b720-387849f3575f",
   "metadata": {},
   "outputs": [
    {
     "name": "stdout",
     "output_type": "stream",
     "text": [
      "['DOXG_daily_min']\n",
      "(361, 10, 4144)\n"
     ]
    }
   ],
   "source": [
    "impairment=-0.25\n",
    "# Convert impairment to text string to use in file name\n",
    "impaired_txt = str(impairment)\n",
    "impaired_txt = impaired_txt.replace('.','p')\n",
    "impaired_txt = impaired_txt.replace('-','m')\n",
    "\n",
    "# Load minimum DO results from scenario\n",
    "MinDO_full={}\n",
    "MinDO={}\n",
    "try: \n",
    "    with xarray.open_dataset(run_file) as ds:\n",
    "        print([*ds])\n",
    "        MinDO_full[run_type]=ds[f'DOXG_daily_min']\n",
    "        # Sub-sample nodes (from 16012 nodes to 7494)\n",
    "        MinDO[run_type]=MinDO_full[run_type][:,:,gdf['node_id']-1]\n",
    "        print(MinDO[run_type].shape)\n",
    "except FileNotFoundError:\n",
    "    print(f'File Not Found: {run_file}')\n",
    "    \n",
    "# Load minimum DO results from reference case\n",
    "reference = ssm['run_information']['reference']\n",
    "base_dir = '/mmfs1/gscratch/ssmc/USRS/PSI/Rachael/projects/KingCounty/'\n",
    "reference_file = f'{base_dir}/data/{case}/DOXG/{reference}/daily_min_DOXG.nc'\n",
    "with xarray.open_dataset(reference_file) as ds:\n",
    "    MinDO_full[reference]=ds[f'DOXG_daily_min']\n",
    "    # Sub-sample nodes (from 16012 nodes to 7494)\n",
    "    MinDO[reference]=MinDO_full[reference][:,:,gdf['node_id']-1]"
   ]
  },
  {
   "cell_type": "code",
   "execution_count": 5,
   "id": "75dd8713-3ea8-41f2-87f6-40784b72438e",
   "metadata": {},
   "outputs": [
    {
     "data": {
      "text/plain": [
       "'wqm_reference'"
      ]
     },
     "execution_count": 5,
     "metadata": {},
     "output_type": "execute_result"
    }
   ],
   "source": [
    "reference"
   ]
  },
  {
   "cell_type": "code",
   "execution_count": 6,
   "id": "ea209ab7-cf3b-4d03-b179-0d32dd775805",
   "metadata": {},
   "outputs": [
    {
     "data": {
      "text/plain": [
       "{'graphics': '/mmfs1/gscratch/ssmc/USRS/PSI/Rachael/projects/KingCounty/graphics/',\n",
       " 'model_output': {'whidbey': ['/mmfs1/gscratch/ssmc/USRS/PSI/Sukyong/kingcounty/wqm_baseline/ssm_output.nc',\n",
       "   '/mmfs1/gscratch/ssmc/USRS/PSI/Sukyong/kingcounty/wqm_reference/ssm_output.nc',\n",
       "   '/mmfs1/gscratch/ssmc/USRS/PSI/Sukyong/kingcounty/3b/ssm_output.nc',\n",
       "   '/mmfs1/gscratch/ssmc/USRS/PSI/Sukyong/kingcounty/3c/ssm_output.nc',\n",
       "   '/mmfs1/gscratch/ssmc/USRS/PSI/Sukyong/kingcounty/3e/ssm_output.nc',\n",
       "   '/mmfs1/gscratch/ssmc/USRS/PSI/Sukyong/kingcounty/3f/ssm_output.nc',\n",
       "   '/mmfs1/gscratch/ssmc/USRS/PSI/Sukyong/kingcounty/3g/ssm_output.nc',\n",
       "   '/mmfs1/gscratch/ssmc/USRS/PSI/Sukyong/kingcounty/3h/ssm_output.nc',\n",
       "   '/mmfs1/gscratch/ssmc/USRS/PSI/Sukyong/kingcounty/3i/ssm_output.nc',\n",
       "   '/mmfs1/gscratch/ssmc/USRS/PSI/Sukyong/kingcounty/3l/ssm_output.nc',\n",
       "   '/mmfs1/gscratch/ssmc/USRS/PSI/Sukyong/kingcounty/3m/ssm_output.nc']},\n",
       " 'movies': '/mmfs1/gscratch/ssmc/USRS/PSI/Rachael/projects/KingCounty/movies/',\n",
       " 'processed_output': '/mmfs1/gscratch/ssmc/USRS/PSI/Rachael/projects/KingCounty/data/',\n",
       " 'shapefile': '/mmfs1/gscratch/ssmc/USRS/PSI/Rachael/projects/KingCounty/KingCounty-Rachael/kevin_shapefiles/SSMGrid2_09062022/SSMGrid2_tce_ecy_node_info_v2_09062022.shp'}"
      ]
     },
     "execution_count": 6,
     "metadata": {},
     "output_type": "execute_result"
    }
   ],
   "source": [
    "ssm['paths']"
   ]
  },
  {
   "cell_type": "code",
   "execution_count": 7,
   "id": "4117e241-9595-4651-92f3-2b61592b3595",
   "metadata": {},
   "outputs": [],
   "source": [
    "processed_netcdf_dir = pathlib.Path(ssm['paths']['graphics'])/case/model_var\n",
    "output_directory = processed_netcdf_dir/run_type/'movies'/'impairment_region'/impaired_txt"
   ]
  },
  {
   "cell_type": "code",
   "execution_count": 8,
   "id": "df7bd6b9-bab9-4191-bccd-d2a074e014c8",
   "metadata": {},
   "outputs": [
    {
     "data": {
      "text/plain": [
       "PosixPath('/mmfs1/gscratch/ssmc/USRS/PSI/Rachael/projects/KingCounty/graphics/whidbey/DOXG/wqm_baseline/movies/impairment_region/m0p25')"
      ]
     },
     "execution_count": 8,
     "metadata": {},
     "output_type": "execute_result"
    }
   ],
   "source": [
    "output_directory"
   ]
  },
  {
   "cell_type": "code",
   "execution_count": 28,
   "id": "d90291e1-4725-4cd1-9488-533d7f1c2a8a",
   "metadata": {},
   "outputs": [
    {
     "name": "stdout",
     "output_type": "stream",
     "text": [
      "Calculating difference for wqm_baseline\n"
     ]
    }
   ],
   "source": [
    "# Get number of days and nodes\n",
    "[ndays,nlevels,nnodes]=MinDO[run_type].shape\n",
    "\n",
    "# Calculate volume for volume days\n",
    "volume = np.asarray(gdf.volume)\n",
    "depth_fraction = np.array(ssm['siglev_diff'])/100\n",
    "volume2D = np.dot(volume.reshape(nnodes,1),depth_fraction.reshape(1,nlevels))\n",
    "volume3D = np.repeat(volume2D.transpose()[np.newaxis, :, :], 361, axis=0)\n",
    "\n",
    "# Initialize dictionaries\n",
    "DO_diff_lt_0p2={} # Boolean where DO<threshold\n",
    "DO_diff_lt_0p2_wc = {} # Boolean True where impaired at any level\n",
    "\n",
    "# Calculate impairment\n",
    "print(f'Calculating difference for {run_type}')\n",
    "# Create array of Dissolved Oxygen threshold values \n",
    "DO_diff = MinDO[run_type] - MinDO[reference]\n",
    "# Boolean where DO_diff < -0.2 (or impairment value)\n",
    "# 361x4144 (nodes x time) or 361x10x4144\n",
    "DO_diff_lt_0p2[run_type] = DO_diff<=impairment \n",
    "# Take max over depth level to flag node as impaired if impaired anywhere in \n",
    "# water column\n",
    "DO_diff_lt_0p2_wc[run_type]=DO_diff_lt_0p2[run_type].max(\n",
    "    axis=1, initial=0)"
   ]
  },
  {
   "cell_type": "code",
   "execution_count": null,
   "id": "e12b07f7-7a04-4a4d-a3f9-26bbdc12011f",
   "metadata": {},
   "outputs": [],
   "source": [
    "gdf[['region_inf','node_id']].groupby('region_inf').count()"
   ]
  },
  {
   "cell_type": "code",
   "execution_count": 10,
   "id": "d47236e6-ab03-4a14-8455-ad7f3cf7d97a",
   "metadata": {},
   "outputs": [],
   "source": [
    "dti = pandas.date_range(\"2014-01-01\", periods=366, freq=\"D\")\n"
   ]
  },
  {
   "cell_type": "code",
   "execution_count": 26,
   "id": "beb55981-1cc1-4da9-8406-fab39bd49b31",
   "metadata": {},
   "outputs": [
    {
     "data": {
      "text/plain": [
       "'01'"
      ]
     },
     "execution_count": 26,
     "metadata": {},
     "output_type": "execute_result"
    }
   ],
   "source": [
    "f'{dti[0].day:02d}'"
   ]
  },
  {
   "cell_type": "code",
   "execution_count": 27,
   "id": "23407a3c-2eb9-40c6-9d16-c6e83dd6c68d",
   "metadata": {},
   "outputs": [
    {
     "name": "stdout",
     "output_type": "stream",
     "text": [
      "January 01, 2014\n"
     ]
    }
   ],
   "source": [
    "print(f'{dti[0].month_name()} {dti[0].day:02d}, 2014')"
   ]
  },
  {
   "cell_type": "code",
   "execution_count": 1,
   "id": "bc9d6973-53b2-4e59-806a-334ef21d7f90",
   "metadata": {},
   "outputs": [
    {
     "ename": "NameError",
     "evalue": "name 'DO_diff_lt_0p2_wc' is not defined",
     "output_type": "error",
     "traceback": [
      "\u001b[0;31m---------------------------------------------------------------------------\u001b[0m",
      "\u001b[0;31mNameError\u001b[0m                                 Traceback (most recent call last)",
      "Input \u001b[0;32mIn [1]\u001b[0m, in \u001b[0;36m<cell line: 4>\u001b[0;34m()\u001b[0m\n\u001b[1;32m      1\u001b[0m \u001b[38;5;66;03m# Plot impairment for each day\u001b[39;00m\n\u001b[1;32m      2\u001b[0m \n\u001b[1;32m      3\u001b[0m \u001b[38;5;66;03m# create date vector\u001b[39;00m\n\u001b[1;32m      4\u001b[0m \u001b[38;5;28;01mfor\u001b[39;00m day \u001b[38;5;129;01min\u001b[39;00m [\u001b[38;5;241m0\u001b[39m,\u001b[38;5;241m260\u001b[39m]:\u001b[38;5;66;03m#(ndays):\u001b[39;00m\n\u001b[0;32m----> 7\u001b[0m     gdf[\u001b[38;5;124m'\u001b[39m\u001b[38;5;124mImpaired\u001b[39m\u001b[38;5;124m'\u001b[39m]\u001b[38;5;241m=\u001b[39m\u001b[43mDO_diff_lt_0p2_wc\u001b[49m[run_type][day,:]\n\u001b[1;32m      8\u001b[0m     gdf_impaired \u001b[38;5;241m=\u001b[39m gdf\u001b[38;5;241m.\u001b[39mloc[\n\u001b[1;32m      9\u001b[0m         ((gdf[\u001b[38;5;124m'\u001b[39m\u001b[38;5;124mincluded_i\u001b[39m\u001b[38;5;124m'\u001b[39m]\u001b[38;5;241m==\u001b[39m\u001b[38;5;241m1\u001b[39m) \u001b[38;5;241m&\u001b[39m \n\u001b[1;32m     10\u001b[0m         (gdf[\u001b[38;5;124m'\u001b[39m\u001b[38;5;124mImpaired\u001b[39m\u001b[38;5;124m'\u001b[39m]\u001b[38;5;241m==\u001b[39m\u001b[38;5;28;01mTrue\u001b[39;00m) \u001b[38;5;241m&\u001b[39m\n\u001b[1;32m     11\u001b[0m         (gdf[\u001b[38;5;124m'\u001b[39m\u001b[38;5;124mregion_inf\u001b[39m\u001b[38;5;124m'\u001b[39m]\u001b[38;5;241m==\u001b[39m\u001b[38;5;124m'\u001b[39m\u001b[38;5;124mWhidbey\u001b[39m\u001b[38;5;124m'\u001b[39m))\n\u001b[1;32m     12\u001b[0m     ]\n\u001b[1;32m     13\u001b[0m     gdf_good \u001b[38;5;241m=\u001b[39m gdf\u001b[38;5;241m.\u001b[39mloc[\n\u001b[1;32m     14\u001b[0m         ((gdf[\u001b[38;5;124m'\u001b[39m\u001b[38;5;124mincluded_i\u001b[39m\u001b[38;5;124m'\u001b[39m]\u001b[38;5;241m==\u001b[39m\u001b[38;5;241m1\u001b[39m) \u001b[38;5;241m&\u001b[39m \n\u001b[1;32m     15\u001b[0m         (gdf[\u001b[38;5;124m'\u001b[39m\u001b[38;5;124mImpaired\u001b[39m\u001b[38;5;124m'\u001b[39m]\u001b[38;5;241m==\u001b[39m\u001b[38;5;28;01mFalse\u001b[39;00m) \u001b[38;5;241m&\u001b[39m \n\u001b[1;32m     16\u001b[0m         (gdf[\u001b[38;5;124m'\u001b[39m\u001b[38;5;124mregion_inf\u001b[39m\u001b[38;5;124m'\u001b[39m]\u001b[38;5;241m==\u001b[39m\u001b[38;5;124m'\u001b[39m\u001b[38;5;124mWhidbey\u001b[39m\u001b[38;5;124m'\u001b[39m))\n\u001b[1;32m     17\u001b[0m     ]\n",
      "\u001b[0;31mNameError\u001b[0m: name 'DO_diff_lt_0p2_wc' is not defined"
     ]
    }
   ],
   "source": [
    "# Plot impairment for each day\n",
    "\n",
    "# create date vector\n",
    "for day in [0,260]:#(ndays):\n",
    "\n",
    "    \n",
    "    gdf['Impaired']=DO_diff_lt_0p2_wc[run_type][day,:]\n",
    "    gdf_impaired = gdf.loc[\n",
    "        ((gdf['included_i']==1) & \n",
    "        (gdf['Impaired']==True) &\n",
    "        (gdf['region_inf']=='Whidbey'))\n",
    "    ]\n",
    "    gdf_good = gdf.loc[\n",
    "        ((gdf['included_i']==1) & \n",
    "        (gdf['Impaired']==False) & \n",
    "        (gdf['region_inf']=='Whidbey'))\n",
    "    ]\n",
    "    fig, axs = plt.subplots(1,1, figsize = (8,8))\n",
    "    #~~~ Impaired (red) and Not Impaired (blue) nodes ~~~\n",
    "    gdf_good.plot(ax=axs,color='blue',legend=True,\n",
    "                     label='Not Impaired', alpha=0.3)\n",
    "    if gdf_impaired.empty == False: # plot if there are impaired values\n",
    "        gdf_impaired.plot(ax=axs,color='red',legend=True,\n",
    "                         label='Impaired ($\\Delta$DO<-0.2)')\n",
    "    #~~~ Location map ~~~\n",
    "    cx.add_basemap(axs, crs=gdf.crs, source=cx.providers.Stamen.TerrainBackground, alpha=1) \n",
    "    axs.set_title(f'Current Conditions\\n Impaired nodes for day {model_day} of 2014')\n",
    "    #axs.set_xticklabels('')\n",
    "    #axs.set_yticklabels('')\n",
    "    #output_file = output_directory/f'{case}_{run_tag}_all_impairment_wc_{model_day}.png'\n",
    "    #plt.savefig(output_file, bbox_inches='tight', format='png')\n",
    "    plt.show() #clear figure and memory\n"
   ]
  },
  {
   "cell_type": "markdown",
   "id": "d6e218af-34cc-4e3e-b076-77fadad0bc8a",
   "metadata": {},
   "source": [
    "\n",
    "https://stackoverflow.com/questions/56559520/change-background-map-for-contextily\n",
    "### Tile provider sources ###\n",
    "\n",
    "ST_TONER = 'http://tile.stamen.com/toner/tileZ/tileX/tileY.png'\n",
    "ST_TONER_HYBRID = 'http://tile.stamen.com/toner-hybrid/tileZ/tileX/tileY.png'\n",
    "ST_TONER_LABELS = 'http://tile.stamen.com/toner-labels/tileZ/tileX/tileY.png'\n",
    "ST_TONER_LINES = 'http://tile.stamen.com/toner-lines/tileZ/tileX/tileY.png'\n",
    "ST_TONER_BACKGROUND = 'http://tile.stamen.com/toner-background/tileZ/tileX/tileY.png'\n",
    "ST_TONER_LITE = 'http://tile.stamen.com/toner-lite/tileZ/tileX/tileY.png'\n",
    "\n",
    "ST_TERRAIN = 'http://tile.stamen.com/terrain/tileZ/tileX/tileY.png'\n",
    "ST_TERRAIN_LABELS = 'http://tile.stamen.com/terrain-labels/tileZ/tileX/tileY.png'\n",
    "ST_TERRAIN_LINES = 'http://tile.stamen.com/terrain-lines/tileZ/tileX/tileY.png'\n",
    "ST_TERRAIN_BACKGROUND = 'http://tile.stamen.com/terrain-background/tileZ/tileX/tileY.png'\n",
    "\n",
    "ST_WATERCOLOR = 'http://tile.stamen.com/watercolor/tileZ/tileX/tileY.png'\n",
    "\n",
    "# OpenStreetMap as an alternative\n",
    "OSM_A = 'http://a.tile.openstreetmap.org/tileZ/tileX/tileY.png'\n",
    "OSM_B = 'http://b.tile.openstreetmap.org/tileZ/tileX/tileY.png'\n",
    "OSM_C = 'http://c.tile.openstreetmap.org/tileZ/tileX/tileY.png'"
   ]
  },
  {
   "cell_type": "code",
   "execution_count": null,
   "id": "1ca26d5a-9383-44ef-9547-918d3eab545d",
   "metadata": {},
   "outputs": [],
   "source": [
    "cx.providers.OpenStreetMap.Mapnik.name."
   ]
  },
  {
   "cell_type": "code",
   "execution_count": null,
   "id": "7cbdf93f-5a45-4585-9083-f6f5ae7cf07d",
   "metadata": {},
   "outputs": [],
   "source": []
  }
 ],
 "metadata": {
  "kernelspec": {
   "display_name": "Python 3 (ipykernel)",
   "language": "python",
   "name": "python3"
  },
  "language_info": {
   "codemirror_mode": {
    "name": "ipython",
    "version": 3
   },
   "file_extension": ".py",
   "mimetype": "text/x-python",
   "name": "python",
   "nbconvert_exporter": "python",
   "pygments_lexer": "ipython3",
   "version": "3.10.4"
  }
 },
 "nbformat": 4,
 "nbformat_minor": 5
}
