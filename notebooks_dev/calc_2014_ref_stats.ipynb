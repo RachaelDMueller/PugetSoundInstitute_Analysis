{
 "cells": [
  {
   "cell_type": "code",
   "execution_count": 1,
   "id": "d8437550-9a59-45db-ac48-689eda2fdb50",
   "metadata": {},
   "outputs": [],
   "source": [
    "import sys\n",
    "import os\n",
    "import yaml\n",
    "import numpy as np\n",
    "import pandas\n",
    "import pathlib\n",
    "import time\n",
    "from datetime import date\n",
    "import geopandas as gpd\n",
    "import matplotlib.pyplot as plt\n",
    "from matplotlib.offsetbox import AnchoredText\n",
    "from matplotlib.ticker import MaxNLocator\n",
    "import matplotlib as mpl\n",
    "import cmocean as cm\n",
    "\n",
    "import xarray\n",
    "from matplotlib.offsetbox import AnchoredText\n",
    "sys.path.insert(1, '../scripts/')\n",
    "from ssm_utils import reshape_fvcom"
   ]
  },
  {
   "cell_type": "code",
   "execution_count": null,
   "id": "56ce1ba4-17b9-4ae2-b442-ab2a1e83daf5",
   "metadata": {},
   "outputs": [],
   "source": [
    "output_dir = pathlib.Path('/mmfs1/gscratch/ssmc/USRS/PSI/Rachael/projects/KingCounty/data')"
   ]
  },
  {
   "cell_type": "code",
   "execution_count": 2,
   "id": "cfdd4123-00b6-445e-b7f9-9fb36a9cf626",
   "metadata": {},
   "outputs": [],
   "source": [
    "with open('../etc/SSM_config_KingCounty.yaml', 'r') as file:\n",
    "    ssm = yaml.safe_load(file)\n",
    "    # get shapefile path    \n",
    "    shp = ssm['paths']['shapefile']\n",
    "\n",
    "\n",
    "mpl.rc('font', size=11)\n",
    "# some of the following may be repetetive but can also be set relative to the font value above \n",
    "#    (eg \"xx-small, x-small,small, medium, large, x-large, xx-large, larger, or smaller\"; see link above for details)\n",
    "mpl.rc('xtick', labelsize=12)\n",
    "mpl.rc('ytick', labelsize=12)\n",
    "mpl.rc('legend', fontsize=12)\n",
    "mpl.rc('axes', titlesize=16)\n",
    "mpl.rc('axes', labelsize=12)\n",
    "mpl.rc('figure', titlesize=16)\n",
    "mpl.rc('text', usetex=False)\n",
    "mpl.rc('font', family='sans-serif', weight='normal', style='normal')\n",
    "\n",
    "# Define dimension sizes and load shapefile\n",
    "gdf = gpd.read_file(shp)\n",
    "gdf = gdf.rename(columns={'region_inf':'Regions'})\n",
    "regions = gdf[['node_id','Regions']].groupby(\n",
    "    'Regions').count().index.to_list()\n",
    "regions.remove('Other')"
   ]
  },
  {
   "cell_type": "code",
   "execution_count": 3,
   "id": "6b465d5b-07ca-4e32-a7ec-2655a9da139c",
   "metadata": {},
   "outputs": [
    {
     "name": "stdout",
     "output_type": "stream",
     "text": [
      "CPU times: user 3 µs, sys: 0 ns, total: 3 µs\n",
      "Wall time: 4.53 µs\n"
     ]
    }
   ],
   "source": [
    "%%time\n",
    "\n",
    "node_id=6369 #Bbay low DO\n",
    "# use NO3 directory to get a list of subdirectories \n",
    "model_var=['NO3','NH4','salinity','temp','DOXG']\n",
    "\n",
    "paths=[\n",
    "    '/mmfs1/gscratch/ssmc/USRS/PSI/Sukyong/kingcounty/wqm_baseline/ssm_output.nc',\n",
    "    '/mmfs1/gscratch/ssmc/USRS/PSI/Sukyong/kingcounty/wqm_reference/ssm_output.nc'\n",
    "]\n",
    "case=[\n",
    "    'base',\n",
    "    'ref'\n",
    "]\n"
   ]
  },
  {
   "cell_type": "code",
   "execution_count": 4,
   "id": "0e3d0615-0df3-49f5-9d57-6cf20fef327c",
   "metadata": {},
   "outputs": [
    {
     "name": "stdout",
     "output_type": "stream",
     "text": [
      "CPU times: user 21.8 s, sys: 6.73 s, total: 28.5 s\n",
      "Wall time: 1min 51s\n"
     ]
    }
   ],
   "source": [
    "%%time\n",
    "daily_median={}\n",
    "daily_std={}\n",
    "daily_min={}\n",
    "daily_max={}\n",
    "for idx,path in enumerate(paths):\n",
    "    with xarray.open_dataset(path, engine='netcdf4') as ds:\n",
    "        daily_median[case[idx]]={}\n",
    "        daily_std[case[idx]]={}\n",
    "        daily_min[case[idx]]={}\n",
    "        daily_max[case[idx]]={}\n",
    "        for var in model_var:\n",
    "            if var in ['NO3','NH4','salinity','temp']:\n",
    "                daily = ds[var][:,0,:] # surface\n",
    "            else:\n",
    "                daily = ds[var][:,9,:] # bottom\n",
    "            daily_median[case[idx]][var]=np.median(daily,axis=0)\n",
    "            daily_std[case[idx]][var]=np.std(daily,axis=0)\n",
    "            daily_min[case[idx]][var]=np.min(daily,axis=0)\n",
    "            daily_max[case[idx]][var]=np.max(daily,axis=0)"
   ]
  },
  {
   "cell_type": "code",
   "execution_count": 5,
   "id": "ab5942d2-ccb5-4067-b4b7-f0857481a49e",
   "metadata": {},
   "outputs": [
    {
     "name": "stdout",
     "output_type": "stream",
     "text": [
      "CPU times: user 38 ms, sys: 21.1 ms, total: 59.1 ms\n",
      "Wall time: 1.31 s\n"
     ]
    }
   ],
   "source": [
    "%%time\n",
    "ds_r = xarray.open_dataset(paths[0], engine='netcdf4') \n",
    "ds_b = xarray.open_dataset(paths[1], engine='netcdf4') \n",
    "# ds_diff = ds_b-ds_r"
   ]
  },
  {
   "cell_type": "code",
   "execution_count": 8,
   "id": "7ec2c8cd-22bb-433b-86f8-cc0b9e15f1c5",
   "metadata": {},
   "outputs": [
    {
     "name": "stderr",
     "output_type": "stream",
     "text": [
      "/mmfs1/gscratch/ssmc/USRS/PSI/Rachael/.conda/envs/klone_jupyter/lib/python3.10/site-packages/numpy/lib/nanfunctions.py:1879: RuntimeWarning: Degrees of freedom <= 0 for slice.\n",
      "  var = nanvar(a, axis=axis, dtype=dtype, out=out, ddof=ddof,\n"
     ]
    },
    {
     "name": "stdout",
     "output_type": "stream",
     "text": [
      "CPU times: user 13.1 s, sys: 9.03 s, total: 22.1 s\n",
      "Wall time: 2min 30s\n"
     ]
    }
   ],
   "source": [
    "%%time\n",
    "daily_median_err={}\n",
    "daily_std_err={}\n",
    "daily_min_err={}\n",
    "daily_max_err={}\n",
    "for var in model_var:\n",
    "    if var in ['NO3','NH4','salinity','temp']:\n",
    "        daily = 100*(ds_b[var][:,0,:]-ds_r[var][:,0,:])/ds_r[var][:,0,:] # surface\n",
    "    else:\n",
    "        daily = 100*(ds_b[var][:,9,:]-ds_r[var][:,9,:])/ds_r[var][:,9,:] # bottom\n",
    "    daily_median_err[var]=np.median(daily,axis=0)\n",
    "    daily_std_err[var]=np.std(daily,axis=0)\n",
    "    daily_min_err[var]=np.min(daily,axis=0)\n",
    "    daily_max_err[var]=np.max(daily,axis=0)"
   ]
  },
  {
   "cell_type": "markdown",
   "id": "fa15e730-b941-42e9-8288-89b076a3654f",
   "metadata": {
    "tags": []
   },
   "source": [
    "# Create README tab for excel files"
   ]
  },
  {
   "cell_type": "code",
   "execution_count": 10,
   "id": "44f14cf4-20ac-4c6c-b69c-e0ff6c0612ec",
   "metadata": {},
   "outputs": [],
   "source": [
    "# make README \n",
    "this_file = '=HYPERLINK(\"https://github.com/RachaelDMueller/KingCounty-Rachael/blob/main/notebooks/calc_2014_ref_stats.py\",\"calc_2014_ref_stats.py\")'\n",
    "run_description = '=HYPERLINK(\"https://github.com/RachaelDMueller/KingCounty-Rachael/blob/main/docs/supporting/KingCounty_Model_Runs.xlsx\",\"KingCounty_Model_Runs.xlsx\")'\n",
    "parameter_notes=\"NO3, NH4, salinity, and temperature stats are calculated from surface level, hourly-output. DO stats are calculated from bottom level, hourly output\"\n",
    "err=\"The relative error, or percent change, was calculated as 100*(2014-ref)/ref\"\n",
    "created_by = 'Rachael D. Mueller'\n",
    "created_at = 'Puget Sound Institute'\n",
    "created_from = 'Model results produced by Su Kyong Yun at the Salish Sea Modeling Center'\n",
    "created_on = date.today().strftime(\"%B %d, %Y\")\n",
    "contact = 'Rachael D Mueller (rdmseas@uw.edu)'\n",
    "header = {\n",
    "    ' ':[created_by, created_at, created_on, this_file, \n",
    "        contact, created_from, \n",
    "        run_description, parameter_notes, err]\n",
    "}\n",
    "header_df = pandas.DataFrame(header, index=[\n",
    "    'Created by',\n",
    "    'Created at',                           \n",
    "    'Created on',\n",
    "    'Created with',\n",
    "    'Contact',\n",
    "    'Modeling by',\n",
    "    'Model Run Overview',\n",
    "    'Description',\n",
    "    'Relative Error'\n",
    "])"
   ]
  },
  {
   "cell_type": "markdown",
   "id": "e3670665-0556-4347-9a38-3b0e352e233d",
   "metadata": {},
   "source": [
    "# Save % change stats to excel"
   ]
  },
  {
   "cell_type": "code",
   "execution_count": 12,
   "id": "8546329c-8dd1-4293-9627-bce73546ce09",
   "metadata": {},
   "outputs": [],
   "source": [
    "median_df = pandas.DataFrame.from_dict(daily_median_err)\n",
    "std_df = pandas.DataFrame.from_dict(daily_std_err)\n",
    "min_df = pandas.DataFrame.from_dict(daily_min_err)\n",
    "max_df = pandas.DataFrame.from_dict(daily_max_err)\n",
    "\n",
    "# create a excel writer object\n",
    "with pandas.ExcelWriter(output_dir/\"2014_reference_percentChange_stats.xlsx\") as writer:\n",
    "    median_df.to_excel(writer, sheet_name='%change median', index=False)\n",
    "    std_df.to_excel(writer, sheet_name='%change std', index=False)\n",
    "    min_df.to_excel(writer, sheet_name='%change min', index=False)\n",
    "    max_df.to_excel(writer, sheet_name='%change max', index=False)\n",
    "    header_df.to_excel(writer, sheet_name='README', index=False)"
   ]
  },
  {
   "cell_type": "markdown",
   "id": "b5d631ea-af3b-47e7-8482-7e617032db6a",
   "metadata": {},
   "source": [
    "# Save 2014 stats to excel"
   ]
  },
  {
   "cell_type": "code",
   "execution_count": 13,
   "id": "8983ba7f-ae3b-4e55-82bd-164530031ad0",
   "metadata": {},
   "outputs": [],
   "source": [
    "median_df = pandas.DataFrame.from_dict(daily_median['base'])\n",
    "std_df = pandas.DataFrame.from_dict(daily_std['base'])\n",
    "min_df = pandas.DataFrame.from_dict(daily_min['base'])\n",
    "max_df = pandas.DataFrame.from_dict(daily_max['base'])\n",
    "# create a excel writer object\n",
    "with pandas.ExcelWriter(output_dir/\"2014_stats.xlsx\") as writer:\n",
    "    median_df.to_excel(writer, sheet_name='2014 median', index=False)\n",
    "    std_df.to_excel(writer, sheet_name='2014 std', index=False)\n",
    "    min_df.to_excel(writer, sheet_name='2014 min', index=False)\n",
    "    max_df.to_excel(writer, sheet_name='2014 max', index=False)\n",
    "    header_df.to_excel(writer, sheet_name='README', index=False)"
   ]
  },
  {
   "cell_type": "markdown",
   "id": "8c9a22ce-5aaa-40c4-93e4-5da2d9d0f0ee",
   "metadata": {},
   "source": [
    "# Save reference stats to excel"
   ]
  },
  {
   "cell_type": "code",
   "execution_count": 14,
   "id": "dbf5d9df-8deb-430c-a374-52bfef34d41b",
   "metadata": {},
   "outputs": [],
   "source": [
    "median_df = pandas.DataFrame.from_dict(daily_median['ref'])\n",
    "std_df = pandas.DataFrame.from_dict(daily_std['ref'])\n",
    "min_df = pandas.DataFrame.from_dict(daily_min['ref'])\n",
    "max_df = pandas.DataFrame.from_dict(daily_max['ref'])\n",
    "\n",
    "# create a excel writer object\n",
    "with pandas.ExcelWriter(output_dir/\"Reference_stats.xlsx\") as writer:\n",
    "    median_df.to_excel(writer, sheet_name='ref median', index=False)\n",
    "    std_df.to_excel(writer, sheet_name='ref std', index=False)\n",
    "    min_df.to_excel(writer, sheet_name='ref min', index=False)\n",
    "    max_df.to_excel(writer, sheet_name='ref max', index=False)\n",
    "    header_df.to_excel(writer, sheet_name='README', index=False)"
   ]
  },
  {
   "cell_type": "code",
   "execution_count": 15,
   "id": "e0121328-4603-425f-87fe-0f3da704ea4b",
   "metadata": {},
   "outputs": [
    {
     "name": "stdout",
     "output_type": "stream",
     "text": [
      "median\n",
      "min\n",
      "max\n",
      "std\n"
     ]
    }
   ],
   "source": [
    "stat={}\n",
    "for stat_type in ['median','min','max','std']:\n",
    "    print(stat_type)\n",
    "    stat[stat_type]={}\n",
    "    stat[stat_type]['2014'] = pandas.read_excel(\n",
    "        output_dir/'2014_stats.xlsx', sheet_name=f'2014 {stat_type}')\n",
    "    stat[stat_type]['ref'] = pandas.read_excel(\n",
    "        output_dir/'Reference_stats.xlsx', sheet_name=f'ref {stat_type}')\n",
    "    stat[stat_type]['diff'] = pandas.read_excel(\n",
    "        output_dir/'2014_minus_reference_stats.xlsx', sheet_name=f'2014-ref {stat_type}')\n",
    "    "
   ]
  },
  {
   "cell_type": "code",
   "execution_count": null,
   "id": "b96632e4-3fe0-4bc6-b7e0-46a1df8b20e7",
   "metadata": {},
   "outputs": [],
   "source": [
    "stat['median']['2014']"
   ]
  },
  {
   "cell_type": "markdown",
   "id": "379bf85a-e09c-4548-a140-838dbc69a20b",
   "metadata": {},
   "source": [
    "DataFrame.to_excel(excel_writer, sheet_name='Sheet1', na_rep='', float_format=None, columns=None, header=True, index=True, index_label=None, startrow=0, startcol=0, engine=None, merge_cells=True, encoding=_NoDefault.no_default, inf_rep='inf', verbose=_NoDefault.no_default, freeze_panes=None, storage_options=None)[source]"
   ]
  },
  {
   "cell_type": "markdown",
   "id": "bf5d41f6-ba05-4923-94ee-8e0e50b5c77f",
   "metadata": {},
   "source": [
    "# Plot results"
   ]
  },
  {
   "cell_type": "code",
   "execution_count": null,
   "id": "a01a05d7-ec07-4ecb-98ed-62281ee230ba",
   "metadata": {},
   "outputs": [],
   "source": [
    "shp='/mmfs1/gscratch/ssmc/USRS/PSI/Rachael/projects/KingCounty/SalishSeaModel-grid/shapefiles/SSMGrid2_tce_ecy_node_info_v2_10102022/SSMGrid2_tce_ecy_node_info_v2_10102022.shp'"
   ]
  },
  {
   "cell_type": "code",
   "execution_count": null,
   "id": "46f16764-cd54-4741-b2f1-c8a65be7504d",
   "metadata": {},
   "outputs": [],
   "source": [
    "# gdf = gpd.read_file(shp)\n",
    "# gdf.shape"
   ]
  },
  {
   "cell_type": "code",
   "execution_count": null,
   "id": "45bed4fd-c062-4ff4-bbf4-4bd880eacd2f",
   "metadata": {},
   "outputs": [],
   "source": [
    "# for var in model_var:\n",
    "#     gdf[f'{var}_median']=daily_median_diff[var]\n",
    "#     gdf[f'{var}_std']=daily_std_diff[var]\n",
    "#     gdf[f'{var}_min']=daily_min_diff[var]\n",
    "#     gdf[f'{var}_max']=daily_max_diff[var]\n",
    "#     for idx in [0,1]:\n",
    "#         gdf[f'{var}_median_{case[idx]}']=daily_median[case[idx]][var]\n",
    "#         gdf[f'{var}_std_{case[idx]}']=daily_std[case[idx]][var]\n",
    "#         gdf[f'{var}_min_{case[idx]}']=daily_min[case[idx]][var]\n",
    "#         gdf[f'{var}_max_{case[idx]}']=daily_max[case[idx]][var]"
   ]
  },
  {
   "cell_type": "code",
   "execution_count": null,
   "id": "6b29b7c7-c657-4beb-8de4-339125909694",
   "metadata": {},
   "outputs": [],
   "source": [
    "# from mpl_toolkits.axes_grid1.axes_divider import make_axes_locatable\n",
    "# cax={}\n",
    "# var='salinity'\n",
    "# run_type = case[0] #base case\n",
    "# stat = ['median','min','max','std']\n",
    "\n",
    "# fig, axs = plt.subplots(\n",
    "#     1,4, figsize = (8,6),\n",
    "#        gridspec_kw={\n",
    "#        'width_ratios': [1,1,1,1],\n",
    "#        'height_ratios': [1],\n",
    "#    'wspace': 0.5,\n",
    "#    'hspace': 0})\n",
    "# for idx in [0,1,2,3]:\n",
    "#     # create `cax` for the colorbar\n",
    "#     divider = make_axes_locatable(axs[idx])\n",
    "#     cax[idx] = divider.append_axes(\"right\", size=\"5%\", pad=0.1)\n",
    "\n",
    "#     # median\n",
    "#     gdf.plot(f'{var}_median_{run_type}', ax=axs[idx], cax=cax[idx], legend=True)\n",
    "#     cax[idx].set_title(f'{stat[idx]} surface {var}', fontsize=14, fontdict={ha:'center'})\n"
   ]
  },
  {
   "cell_type": "code",
   "execution_count": null,
   "id": "c6f5e78a-0278-48d3-875b-2d1f4fe8ba82",
   "metadata": {},
   "outputs": [],
   "source": []
  }
 ],
 "metadata": {
  "kernelspec": {
   "display_name": "Python 3 (ipykernel)",
   "language": "python",
   "name": "python3"
  },
  "language_info": {
   "codemirror_mode": {
    "name": "ipython",
    "version": 3
   },
   "file_extension": ".py",
   "mimetype": "text/x-python",
   "name": "python",
   "nbconvert_exporter": "python",
   "pygments_lexer": "ipython3",
   "version": "3.10.4"
  }
 },
 "nbformat": 4,
 "nbformat_minor": 5
}
