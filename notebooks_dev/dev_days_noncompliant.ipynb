{
 "cells": [
  {
   "cell_type": "markdown",
   "id": "8d51638a-d1d5-4040-92b8-035812845886",
   "metadata": {
    "tags": []
   },
   "source": [
    "# Create spreadsheet(s) for:\n",
    "- Number of impaired days (Current or Scenario - Reference < 0.2)\n",
    "- Percent volume of Baseline - Scenario < 0.2 mg/l\n",
    "- Percent volume per run of DO < 2 mg/l\n",
    "- Percent volume per run of DO < 5 mg/l\n",
    "Note: the `SSMGrid2_07222022` shapefile version does not have masked regions attributed "
   ]
  },
  {
   "cell_type": "code",
   "execution_count": 1,
   "id": "4f9edfee-f9c7-45ef-8324-aa8bade8ca6b",
   "metadata": {
    "tags": []
   },
   "outputs": [],
   "source": [
    "import sys\n",
    "import os\n",
    "sys.path.insert(1, '../scripts/')\n",
    "import xarray\n",
    "import openpyxl\n",
    "import contextily as cx \n",
    "import yaml\n",
    "import numpy as np\n",
    "import pandas\n",
    "import pathlib\n",
    "import time\n",
    "from datetime import date\n",
    "import geopandas as gpd\n",
    "import matplotlib.pyplot as plt\n",
    "import matplotlib as mpl\n",
    "# load functions from my scripts file \"ssm_utils\"\n",
    "from ssm_utils import get_nearest_node, reshape_fvcom, calc_fvcom_stat, extract_fvcom_level"
   ]
  },
  {
   "cell_type": "markdown",
   "id": "4ecfe463-e956-4e07-8aa6-0dfca68e8c28",
   "metadata": {
    "tags": []
   },
   "source": [
    "### Define study focus and analysis scope \n",
    "- scope: wc for water column or benthic for bottom-level"
   ]
  },
  {
   "cell_type": "code",
   "execution_count": 2,
   "id": "c2b23b52-73c8-4a9c-9333-a102b8a42cfd",
   "metadata": {},
   "outputs": [],
   "source": [
    "case = \"SOG_NB\"\n",
    "scope= \"wc\" # \"benthic\" or \"wc\""
   ]
  },
  {
   "cell_type": "markdown",
   "id": "55db5d54-d535-4e5d-aa9c-deb00a337e6e",
   "metadata": {},
   "source": [
    "### Load configuration file (yaml) and shapefile"
   ]
  },
  {
   "cell_type": "code",
   "execution_count": 3,
   "id": "913debec-7ca9-4e3e-87f0-7a74949c278f",
   "metadata": {},
   "outputs": [],
   "source": [
    "with open('../etc/SSM_config.yaml', 'r') as file:\n",
    "    ssm = yaml.safe_load(file)\n",
    "# get shapefile path    \n",
    "shp = ssm['paths']['shapefile']\n",
    "# load shapefile into geopandas dataframe\n",
    "gdf = gpd.read_file(shp)\n",
    "gdf=gdf.rename(columns={'region_inf':'Regions'})"
   ]
  },
  {
   "cell_type": "code",
   "execution_count": 4,
   "id": "18b9cbed-ae35-43d5-94fd-2ce9b0a40a9f",
   "metadata": {},
   "outputs": [
    {
     "name": "stdout",
     "output_type": "stream",
     "text": [
      "Water Column\n",
      "['DOXG_daily_min']\n",
      "(361, 10, 4144)\n",
      "['DOXG_daily_min']\n",
      "(361, 10, 4144)\n",
      "['DOXG_daily_min']\n",
      "(361, 10, 4144)\n",
      "['DOXG_daily_min']\n",
      "(361, 10, 4144)\n",
      "['DOXG_daily_min']\n",
      "(361, 10, 4144)\n",
      "['DOXG_daily_min']\n",
      "(361, 10, 4144)\n",
      "['DOXG_daily_min']\n",
      "(361, 10, 4144)\n",
      "['DOXG_daily_min']\n",
      "(361, 10, 4144)\n",
      "wqm_reference\n"
     ]
    }
   ],
   "source": [
    "# Initialize dictionaries\n",
    "MinDO_full={} # Min, daily DO over all nodes\n",
    "MinDO={} # Min, daily DO over all nodes in shapefile\n",
    "DO_diff_lt_0p2={} # Boolean where DO<threshold\n",
    "DO_diff_lt_0p2_days={} # Number of days where DOBelowThresh = True\n",
    "DaysImpaired={} # Sum of days across regions\n",
    "VolumeDaysImpaired={} # Percent of volume within region where DO<threshold\n",
    "PercentVolumeDaysImpaired={}\n",
    "\n",
    "# Define dimension sizes and load shapefile\n",
    "gdf = gpd.read_file(shp)\n",
    "gdf = gdf.rename(columns={'region_inf':'Regions'})\n",
    "regions = gdf[['node_id','Regions']].groupby(\n",
    "    'Regions').count().index.to_list()\n",
    "regions.remove('Other')\n",
    "\n",
    "# Get path for model output\n",
    "model_var='DOXG' \n",
    "processed_netcdf_dir = pathlib.Path(ssm['paths']['processed_output'])/case/model_var\n",
    "\n",
    "# Get list of run sub-directories in processed netcdf directory\n",
    "dir_list = os.listdir(processed_netcdf_dir)\n",
    "\n",
    "# Load all runs (including reference case)\n",
    "if scope=='benthic':\n",
    "    print(\"Benthic case\")\n",
    "    for run_dir in dir_list: \n",
    "        try: \n",
    "            run_file=processed_netcdf_dir/run_dir/'bottom'/f'daily_min_{model_var}_bottom.nc'\n",
    "            with xarray.open_dataset(run_file) as ds:\n",
    "                print([*ds])\n",
    "                MinDO_full[run_dir]=ds[f'{model_var}_daily_min_bottom']\n",
    "                # Sub-sample nodes (from 16012 nodes to 7494)\n",
    "                MinDO[run_dir]=MinDO_full[run_dir][:,gdf['node_id']-1]\n",
    "                print(MinDO[run_dir].shape)\n",
    "        except FileNotFoundError:\n",
    "            print(f'File Not Found: {run_file}')\n",
    "        if run_dir == dir_list[0]:\n",
    "            # Get number of days and nodes\n",
    "            [ndays,nnodes]=MinDO[run_dir].shape\n",
    "else: # water column (with 10 levels)\n",
    "    print(\"Water Column\")\n",
    "    for run_dir in dir_list:\n",
    "        try: \n",
    "            run_file=processed_netcdf_dir/run_dir/f'daily_min_{model_var}.nc'\n",
    "            with xarray.open_dataset(run_file) as ds:\n",
    "                print([*ds])\n",
    "                MinDO_full[run_dir]=ds[f'{model_var}_daily_min']\n",
    "                # Sub-sample nodes (from 16012 nodes to 7494)\n",
    "                MinDO[run_dir]=MinDO_full[run_dir][:,:,gdf['node_id']-1]\n",
    "                print(MinDO[run_dir].shape)\n",
    "        except FileNotFoundError:\n",
    "            print(f'File Not Found: {run_file}')\n",
    "        if run_dir == dir_list[0]:\n",
    "            # Get number of days and nodes\n",
    "            [ndays,nlevels,nnodes]=MinDO[run_dir].shape\n",
    "\n",
    "# Calculate volume for volume days\n",
    "if scope=='benthic':\n",
    "    volume = np.asarray(\n",
    "        gdf.volume*ssm['siglev_diff'][-1]/100) # just the bottom level\n",
    "else: # water column\n",
    "    volume = np.asarray(gdf.volume)\n",
    "    depth_fraction = np.array(ssm['siglev_diff'])/100\n",
    "    volume2D = np.dot(volume.reshape(nnodes,1),depth_fraction.reshape(1,nlevels))\n",
    "\n",
    "# Define reference run\n",
    "reference = ssm['run_information']['reference']\n",
    "print(reference)\n",
    "dir_list.remove(reference)"
   ]
  },
  {
   "cell_type": "code",
   "execution_count": 5,
   "id": "9ff0cdcb-4ecb-4963-8171-fdc794cb7f57",
   "metadata": {},
   "outputs": [
    {
     "name": "stdout",
     "output_type": "stream",
     "text": [
      "Calculating difference for 1c_all_sog_riv_off\n"
     ]
    }
   ],
   "source": [
    "impairment=-0.25\n",
    "\n",
    "# Loop through all non-reference runs and calculate impairment\n",
    "for run_type in dir_list[0:1]:\n",
    "    print(f'Calculating difference for {run_type}')\n",
    "    # Create array of Dissolved Oxygen threshold values \n",
    "    DO_diff = MinDO[run_type] - MinDO[reference]\n",
    "    # Boolean where DO_diff < -0.2 (or impairment value)\n",
    "    DO_diff_lt_0p2[run_type] = DO_diff<=impairment #361x4144 (nodes x time) or 361x10x4144\n",
    "    # Number of days where DO < threshold = True\n",
    "    if scope=='benthic':\n",
    "        DO_diff_lt_0p2_days[run_type]=DO_diff_lt_0p2[run_type].sum(\n",
    "            axis=0, initial=0) #4144 (nodes) or 10x4144\n",
    "        VolumeDays_all=volume*DO_diff_lt_0p2_days[run_type]\n",
    "    else: # water column: sum over days and take max value over depth\n",
    "        # First get a count of days impaired for each depth level\n",
    "        DO_diff_lt_0p2_days_wc=DO_diff_lt_0p2[run_type].sum(\n",
    "            axis=0, initial=0)\n",
    "        # Volume days: Use days impaired for each level  and element-wise \n",
    "        # multiplication of 10x4144 * 10x4144 matrices to get volume days by level\n",
    "        VolumeDays_wc=volume2D.transpose()*DO_diff_lt_0p2_days_wc\n",
    "        # Add across levels to get total VolumeDays per node\n",
    "        VolumeDays_all = VolumeDays_wc.sum(axis=0)\n",
    "\n",
    "    # Total number of days and percent volume days for each region\n",
    "    DaysImpaired[run_type]={}\n",
    "    VolumeDaysImpaired[run_type]={}\n",
    "    PercentVolumeDaysImpaired[run_type]={}\n",
    "    for region in regions:\n",
    "        # create boolean of indices where True selects nodes of \n",
    "        # specified Region \n",
    "        idx = ((gdf['Regions']==region) &\n",
    "            (gdf['included_i']==1))            \n",
    "        # Note: The max of True/False will be True and initial sets False to zero.\n",
    "        # The \"where\" keywork specifies to only use values where idx=True,\n",
    "        # which in this case I set to specify the region.\n",
    "        if scope=='benthic':\n",
    "            # Assign the maximum (True) of DO < threshold occurrence anywhere in region\n",
    "            # then sum values over time\n",
    "            DaysImpaired[run_type][region] = DO_diff_lt_0p2[run_type].max(\n",
    "                axis=1,where=idx,initial=0).sum().item()\n",
    "        else:\n",
    "            # Assign the maximum (True) of DO < threshold occurrence across depths \n",
    "            # such that 1-day of impairement is counted if there is one or more \n",
    "            # levels impaired\n",
    "            DOBelowThresh_daysnodes = DO_diff_lt_0p2[run_type].max(axis=1,initial=0)\n",
    "            # Assign the maximum (True) of DO < threshold occurrence \n",
    "            # anywhere in region then sum values over time\n",
    "            DaysImpaired[run_type][region] = DOBelowThresh_daysnodes.max(\n",
    "                axis=1,where=idx,initial=0).sum().item()\n",
    "\n",
    "        VolumeDaysImpaired[run_type][region]=np.array(VolumeDays_all)[\n",
    "            (gdf['Regions']==region) &\n",
    "            (gdf['included_i']==1)\n",
    "        ].sum()\n",
    "        # get regional volume\n",
    "        if scope=='benthic': # take fraction for bottom-level volume\n",
    "            RegionVolume = ssm['siglev_diff'][-1]/100*volume[\n",
    "                (gdf['Regions']==region) &\n",
    "                (gdf['included_i']==1)\n",
    "            ].sum()\n",
    "        else: # water column\n",
    "            RegionVolume = volume[\n",
    "                (gdf['Regions']==region) &\n",
    "                (gdf['included_i']==1)\n",
    "            ].sum()\n",
    "        PercentVolumeDaysImpaired[run_type][region]=100*(\n",
    "            VolumeDaysImpaired[run_type][region]/(RegionVolume*ndays)\n",
    "        )"
   ]
  },
  {
   "cell_type": "code",
   "execution_count": 15,
   "id": "ebc921a9-d50d-493c-a39d-d8ea6974bb92",
   "metadata": {},
   "outputs": [],
   "source": [
    "idx = (gdf['Regions']!='Other')"
   ]
  },
  {
   "cell_type": "code",
   "execution_count": 25,
   "id": "07a2b75d-a049-42b3-8f66-93522db4fd65",
   "metadata": {},
   "outputs": [
    {
     "data": {
      "text/plain": [
       "(4115,)"
      ]
     },
     "execution_count": 25,
     "metadata": {},
     "output_type": "execute_result"
    }
   ],
   "source": [
    "np.asarray(VolumeDays_all)[idx].shape"
   ]
  },
  {
   "cell_type": "code",
   "execution_count": 26,
   "id": "bfcc4ca5-9d0d-4ec8-8f7e-3ed407b67fbe",
   "metadata": {},
   "outputs": [
    {
     "data": {
      "text/plain": [
       "(4144,)"
      ]
     },
     "execution_count": 26,
     "metadata": {},
     "output_type": "execute_result"
    }
   ],
   "source": [
    "VolumeDays_all.shape"
   ]
  },
  {
   "cell_type": "code",
   "execution_count": 27,
   "id": "021e4626-1c43-45c8-9915-7c25dbcffb09",
   "metadata": {},
   "outputs": [
    {
     "data": {
      "text/plain": [
       "29"
      ]
     },
     "execution_count": 27,
     "metadata": {},
     "output_type": "execute_result"
    }
   ],
   "source": [
    "4144-4115"
   ]
  },
  {
   "cell_type": "code",
   "execution_count": 8,
   "id": "b5018372-315a-461a-97b6-10945c82e608",
   "metadata": {},
   "outputs": [
    {
     "data": {
      "text/plain": [
       "(361,)"
      ]
     },
     "execution_count": 8,
     "metadata": {},
     "output_type": "execute_result"
    }
   ],
   "source": [
    "DO_diff_lt_0p2[run_type].max(\n",
    "        axis=2,initial=0).max(axis=1,initial=0).shape"
   ]
  },
  {
   "cell_type": "code",
   "execution_count": null,
   "id": "acad55ac-55e0-439c-9f2c-3d4246edf2eb",
   "metadata": {},
   "outputs": [],
   "source": [
    "# Create totals across entire domain \n",
    "if scope=='benthic': #(361x4771): max over nodes and sum over time\n",
    "    DaysImpaired[run_type]['ALL_REGIONS'] = DO_diff_lt_0p2[run_type].max(\n",
    "        axis=1, initial=0).sum(axis=0,initial=0).item()\n",
    "else: #(361x10x4771): max over nodes and depth and sum over time\n",
    "    DaysImpaired[run_type]['ALL_REGIONS'] = DO_diff_lt_0p2[run_type].max(\n",
    "        axis=2,initial=0).max(axis=1,initial=0).sum(axis=0,initial=0).item()\n",
    "VolumeDaysImpaired[run_type]['ALL_REGIONS'] = VolumeDays_all.sum().item()\n",
    "PercentVolumeDaysImpaired[run_type]['ALL_REGIONS'] = 100*(\n",
    "    VolumeDays_all.sum().item()/(volume.sum().item()*ndays)\n",
    ")"
   ]
  },
  {
   "cell_type": "markdown",
   "id": "cc9535b2-7e40-4509-9cee-500e2e41b138",
   "metadata": {},
   "source": [
    "### Work out removing 'Other' nodes from volume"
   ]
  },
  {
   "cell_type": "markdown",
   "id": "b16f19ba-a2f0-44fc-9fc2-08656289325a",
   "metadata": {},
   "source": [
    "### Debug method for days impaired"
   ]
  },
  {
   "cell_type": "code",
   "execution_count": 17,
   "id": "52fabce3-f18c-4614-9e30-a61a9518c81d",
   "metadata": {},
   "outputs": [
    {
     "name": "stdout",
     "output_type": "stream",
     "text": [
      "['DOXG_daily_min']\n",
      "['DOXG_daily_min']\n"
     ]
    }
   ],
   "source": [
    "MinDO_full={}\n",
    "MinDO={}\n",
    "processed_netcdf_dir = pathlib.Path(ssm['paths']['processed_output'])/'DOXG'\n",
    "scenario= processed_netcdf_dir/'wqm_baseline'/f'daily_min_DOXG.nc'\n",
    "reference= processed_netcdf_dir/'wqm_reference'/f'daily_min_DOXG.nc'\n",
    "DO_thresh=-0.2\n",
    "with xarray.open_dataset(scenario) as ds:\n",
    "    print([*ds])\n",
    "    MinDO_full['wqm_baseline']=ds[f'DOXG_daily_min']\n",
    "    MinDO['wqm_baseline']=MinDO_full['wqm_baseline'][:,:,gdf['node_id']-1]\n",
    "with xarray.open_dataset(reference) as ds:\n",
    "    print([*ds])\n",
    "    MinDO_full['wqm_reference']=ds[f'DOXG_daily_min']\n",
    "    MinDO['wqm_reference']=MinDO_full['wqm_reference'][:,:,gdf['node_id']-1]"
   ]
  },
  {
   "cell_type": "code",
   "execution_count": 35,
   "id": "d4f68de0-1999-4ae9-bd55-0742e84d42b0",
   "metadata": {},
   "outputs": [],
   "source": [
    "[ndays,nlevels,nnodes]=MinDO['wqm_baseline'].shape"
   ]
  },
  {
   "cell_type": "code",
   "execution_count": 36,
   "id": "4f6ee681-5409-4287-9281-0856c46a8a4b",
   "metadata": {},
   "outputs": [],
   "source": [
    "volume = np.asarray(gdf.volume)\n",
    "depth_fraction = np.array(ssm['siglev_diff'])/100\n",
    "volume2D = np.dot(volume.reshape(nnodes,1),depth_fraction.reshape(1,nlevels))"
   ]
  },
  {
   "cell_type": "code",
   "execution_count": 37,
   "id": "fffda039-0eaa-480c-9b9d-aef316799048",
   "metadata": {},
   "outputs": [
    {
     "data": {
      "text/plain": [
       "(4144, 10)"
      ]
     },
     "execution_count": 37,
     "metadata": {},
     "output_type": "execute_result"
    }
   ],
   "source": [
    "volume2D.shape"
   ]
  },
  {
   "cell_type": "code",
   "execution_count": 18,
   "id": "7569da61-d771-4ba2-a096-7d8d94d34cd1",
   "metadata": {},
   "outputs": [],
   "source": [
    "DO_diff = MinDO['wqm_baseline'] - MinDO['wqm_reference']\n",
    "# Boolean where DO_diff<0.2\n",
    "DO_diff_lt_0p2 = DO_diff<=-0.2 #361x4144 (nodes x time) or 361x10x4144"
   ]
  },
  {
   "cell_type": "code",
   "execution_count": 19,
   "id": "2f371f3b-01d4-4ccc-b117-991b0fe7c45c",
   "metadata": {},
   "outputs": [
    {
     "data": {
      "text/plain": [
       "(361, 10, 4144)"
      ]
     },
     "execution_count": 19,
     "metadata": {},
     "output_type": "execute_result"
    }
   ],
   "source": [
    "DO_diff_lt_0p2.shape"
   ]
  },
  {
   "cell_type": "code",
   "execution_count": 21,
   "id": "54045c3e-7969-4a9f-a5a0-0c0445989e97",
   "metadata": {},
   "outputs": [],
   "source": [
    "# First get a count of days impaired for each depth level\n",
    "DO_diff_lt_0p2_days_wc=DO_diff_lt_0p2.sum(axis=0)\n",
    "# Take max over depth to get result similar to benthic case where\n",
    "# 1-day of impairement is counted if there is one or more levels impaired\n",
    "DO_diff_lt_0p2_days=DO_diff_lt_0p2.sum(axis=0).max(axis=0)\n"
   ]
  },
  {
   "cell_type": "code",
   "execution_count": 38,
   "id": "0e1fdea4-7da7-4e3d-bd57-9313384af4dc",
   "metadata": {},
   "outputs": [
    {
     "data": {
      "text/plain": [
       "(10, 4144)"
      ]
     },
     "execution_count": 38,
     "metadata": {},
     "output_type": "execute_result"
    }
   ],
   "source": [
    "DO_diff_lt_0p2_days_wc.shape"
   ]
  },
  {
   "cell_type": "code",
   "execution_count": 40,
   "id": "4781ff0e-ac6c-4f99-b5e4-6e7e09de0d4e",
   "metadata": {},
   "outputs": [],
   "source": [
    "# Volume days: Use days impaired for each level  and element-wise \n",
    "# multiplication of 10x4144 * 10x4144 matrices to get volume days by level\n",
    "VolumeDays_wc=volume2D.transpose()*DO_diff_lt_0p2_days_wc\n"
   ]
  },
  {
   "cell_type": "code",
   "execution_count": 41,
   "id": "3bff01d1-a588-4af9-bcba-76f4444555dd",
   "metadata": {},
   "outputs": [
    {
     "data": {
      "text/plain": [
       "(10, 4144)"
      ]
     },
     "execution_count": 41,
     "metadata": {},
     "output_type": "execute_result"
    }
   ],
   "source": [
    "VolumeDays_wc.shape"
   ]
  },
  {
   "cell_type": "code",
   "execution_count": 42,
   "id": "d6e6209a-b48e-4b94-8980-0f1a79d72b58",
   "metadata": {},
   "outputs": [],
   "source": [
    "# Add across levels to get total VolumeDays per node\n",
    "VolumeDays_all = VolumeDays_wc.sum(axis=0)"
   ]
  },
  {
   "cell_type": "code",
   "execution_count": 23,
   "id": "723d1dd4-c012-4238-9450-8df7e4b57fdb",
   "metadata": {},
   "outputs": [],
   "source": [
    "DOBelowThresh_daysnodes = DO_diff_lt_0p2.max(axis=1,initial=0)"
   ]
  },
  {
   "cell_type": "code",
   "execution_count": null,
   "id": "bc5901c2-aceb-476c-8514-3dac202b5d8a",
   "metadata": {},
   "outputs": [],
   "source": []
  },
  {
   "cell_type": "code",
   "execution_count": 24,
   "id": "b975d57b-cb17-40c9-b956-7bb44b095e19",
   "metadata": {},
   "outputs": [
    {
     "data": {
      "text/plain": [
       "(361, 4144)"
      ]
     },
     "execution_count": 24,
     "metadata": {},
     "output_type": "execute_result"
    }
   ],
   "source": [
    "DOBelowThresh_daysnodes.shape"
   ]
  },
  {
   "cell_type": "code",
   "execution_count": 25,
   "id": "a0b96219-318d-474e-9107-4b5cf3dea6aa",
   "metadata": {},
   "outputs": [],
   "source": [
    "idx = ((gdf['Regions']=='Hood') &\n",
    "       (gdf['included_i']==1))                     \n",
    "\n",
    "DaysImpaired = DOBelowThresh_daysnodes.max(\n",
    "    axis=1,where=idx,initial=0)\n",
    "  "
   ]
  },
  {
   "cell_type": "code",
   "execution_count": 26,
   "id": "0d3c8188-4824-409e-adc3-4229c29b2a0c",
   "metadata": {},
   "outputs": [
    {
     "data": {
      "text/plain": [
       "(361,)"
      ]
     },
     "execution_count": 26,
     "metadata": {},
     "output_type": "execute_result"
    }
   ],
   "source": [
    "DaysImpaired.shape"
   ]
  },
  {
   "cell_type": "code",
   "execution_count": 27,
   "id": "c1edf979-9683-4021-8ce7-25b232ec1919",
   "metadata": {},
   "outputs": [
    {
     "data": {
      "text/plain": [
       "[<matplotlib.lines.Line2D at 0x1544d982baf0>]"
      ]
     },
     "execution_count": 27,
     "metadata": {},
     "output_type": "execute_result"
    },
    {
     "name": "stderr",
     "output_type": "stream",
     "text": [
      "findfont: Font family ['arial'] not found. Falling back to DejaVu Sans.\n"
     ]
    },
    {
     "data": {
      "image/png": "[encoded data removed]",
      "text/plain": [
       "<Figure size 432x288 with 1 Axes>"
      ]
     },
     "metadata": {
      "needs_background": "light"
     },
     "output_type": "display_data"
    }
   ],
   "source": [
    "DaysImpaired.plot()"
   ]
  },
  {
   "cell_type": "code",
   "execution_count": 5,
   "id": "64abdfde-1363-4904-b89e-6fe1caa44077",
   "metadata": {},
   "outputs": [
    {
     "name": "stdout",
     "output_type": "stream",
     "text": [
      "Water Column\n",
      "['DOXG_daily_min']\n",
      "(361, 10, 4144)\n",
      "['DOXG_daily_min']\n",
      "(361, 10, 4144)\n",
      "['DOXG_daily_min']\n",
      "(361, 10, 4144)\n",
      "['DOXG_daily_min']\n",
      "(361, 10, 4144)\n",
      "['DOXG_daily_min']\n",
      "(361, 10, 4144)\n",
      "['DOXG_daily_min']\n",
      "(361, 10, 4144)\n",
      "['DOXG_daily_min']\n",
      "(361, 10, 4144)\n",
      "['DOXG_daily_min']\n",
      "(361, 10, 4144)\n",
      "wqm_reference\n",
      "Calculating difference for 1c_all_sog_riv_off\n"
     ]
    }
   ],
   "source": [
    "impairment=-0.2\n",
    "# Initialize dictionaries\n",
    "MinDO_full={} # Min, daily DO over all nodes\n",
    "MinDO={} # Min, daily DO over all nodes in shapefile\n",
    "DO_diff_lt_0p2={} # Boolean where DO<threshold\n",
    "DO_diff_lt_0p2_days={} # Number of days where DOBelowThresh = True\n",
    "DaysImpaired={} # Sum of days across regions\n",
    "VolumeDaysImpaired={} # Percent of volume within region where DO<threshold\n",
    "PercentVolumeDaysImpaired={}\n",
    "\n",
    "# Define dimension sizes and load shapefile\n",
    "gdf = gdf.rename(columns={'region_inf':'Regions'})\n",
    "regions = gdf[['node_id','Regions']].groupby(\n",
    "    'Regions').count().index.to_list()\n",
    "regions.remove('Other')\n",
    "\n",
    "# Get path for model output\n",
    "model_var='DOXG' \n",
    "processed_netcdf_dir = pathlib.Path(ssm['paths']['processed_output'])/model_var\n",
    "\n",
    "# Get list of run sub-directories in processed netcdf directory\n",
    "dir_list = os.listdir(processed_netcdf_dir)\n",
    "\n",
    "# Load all runs (including reference case)\n",
    "if scope=='benthic':\n",
    "    print(\"Benthic case\")\n",
    "    for run_dir in dir_list: \n",
    "        try: \n",
    "            run_file=processed_netcdf_dir/run_dir/'bottom'/f'daily_min_{model_var}_bottom.nc'\n",
    "            with xarray.open_dataset(run_file) as ds:\n",
    "                print([*ds])\n",
    "                MinDO_full[run_dir]=ds[f'{model_var}_daily_min_bottom']\n",
    "                # Sub-sample nodes (from 16012 nodes to 7494)\n",
    "                MinDO[run_dir]=MinDO_full[run_dir][:,gdf['node_id']-1]\n",
    "                print(MinDO[run_dir].shape)\n",
    "        except FileNotFoundError:\n",
    "            print(f'File Not Found: {run_file}')\n",
    "        if run_dir == dir_list[0]:\n",
    "            # Get number of days and nodes\n",
    "            [ndays,nnodes]=MinDO[run_dir].shape\n",
    "else: # water column (with 10 levels)\n",
    "    print(\"Water Column\")\n",
    "    for run_dir in dir_list:\n",
    "        try: \n",
    "            run_file=processed_netcdf_dir/run_dir/f'daily_min_{model_var}.nc'\n",
    "            with xarray.open_dataset(run_file) as ds:\n",
    "                print([*ds])\n",
    "                MinDO_full[run_dir]=ds[f'{model_var}_daily_min']\n",
    "                # Sub-sample nodes (from 16012 nodes to 7494)\n",
    "                MinDO[run_dir]=MinDO_full[run_dir][:,:,gdf['node_id']-1]\n",
    "                print(MinDO[run_dir].shape)\n",
    "        except FileNotFoundError:\n",
    "            print(f'File Not Found: {run_file}')\n",
    "        if run_dir == dir_list[0]:\n",
    "            # Get number of days and nodes\n",
    "            [ndays,nlevels,nnodes]=MinDO[run_dir].shape\n",
    "# Calculate volume for volume days\n",
    "if scope=='benthic':\n",
    "    volume = np.asarray(\n",
    "        gdf.volume*ssm['siglev_diff'][-1]/100) # just the bottom level\n",
    "else: # water column\n",
    "    volume = np.asarray(gdf.volume)\n",
    "    depth_fraction = np.array(ssm['siglev_diff'])/100\n",
    "    volume2D = np.dot(volume.reshape(nnodes,1),depth_fraction.reshape(1,nlevels))\n",
    "\n",
    "# Define reference run\n",
    "reference = ssm['run_information']['reference']\n",
    "print(reference)\n",
    "dir_list.remove(reference)\n",
    "\n",
    "# Loop through all non-reference runs and calculate impairment\n",
    "for run_type in dir_list[0:1]:\n",
    "    print(f'Calculating difference for {run_type}')\n",
    "    # Create array of Dissolved Oxygen threshold values \n",
    "    DO_diff = MinDO[run_type] - MinDO[reference]\n",
    "    # Boolean where DO_diff<-0.2\n",
    "    DO_diff_lt_0p2[run_type] = DO_diff<=impairment #361x4144 (nodes x time) or 361x10x4144\n",
    "    # Number of days where DO < threshold = True\n",
    "    if scope=='benthic':\n",
    "        DO_diff_lt_0p2_days[run_type]=DO_diff_lt_0p2[run_type].sum(axis=0) #4144 (nodes) or 10x4144\n",
    "        VolumeDays_all=volume*DO_diff_lt_0p2_days[run_type]\n",
    "    else: # water column: sum over days and take max value over depth\n",
    "        # First get a count of days impaired for each depth level\n",
    "        DO_diff_lt_0p2_days_wc=DO_diff_lt_0p2[run_type].sum(axis=0)\n",
    "        # Volume days: Use days impaired for each level  and element-wise \n",
    "        # multiplication of 10x4144 * 10x4144 matrices to get volume days by level\n",
    "        VolumeDays_wc=volume2D.transpose()*DO_diff_lt_0p2_days_wc\n",
    "        # Add across levels to get total VolumeDays per node\n",
    "        VolumeDays_all = VolumeDays_wc.sum(axis=0)\n",
    "\n",
    "    # Total number of days and percent volume days for each region\n",
    "    DaysImpaired[run_type]={}\n",
    "    VolumeDaysImpaired[run_type]={}\n",
    "    PercentVolumeDaysImpaired[run_type]={}\n",
    "    for region in regions:\n",
    "        # create boolean of indices where True selects nodes of \n",
    "        # specified Region \n",
    "        idx = ((gdf['Regions']==region) &\n",
    "            (gdf['included_i']==1))            \n",
    "        # Note: The max of True/False will be True and initial sets False to zero.\n",
    "        # The \"where\" keywork specifies to only use values where idx=True,\n",
    "        # which in this case I set to specify the region.\n",
    "        if scope=='benthic':\n",
    "            # Assign the maximum (True) of DO < threshold occurrence across region\n",
    "            DaysImpaired[run_type][region] = DO_diff_lt_0p2[run_type].max(\n",
    "                axis=1,where=idx,initial=0)\n",
    "        else:\n",
    "            # Assign the maximum (True) of DO < threshold occurrence across depths \n",
    "            # such that 1-day of impairement is counted if there is one or more \n",
    "            # levels impaired\n",
    "            DOBelowThresh_daysnodes = DO_diff_lt_0p2[run_type].max(axis=1,initial=0)\n",
    "            # Assign the maximum (True) of DO < threshold occurrence across region\n",
    "            DaysImpaired[run_type][region] = DOBelowThresh_daysnodes.max(\n",
    "                axis=1,where=idx,initial=0)"
   ]
  },
  {
   "cell_type": "code",
   "execution_count": 8,
   "id": "76dd521a-f824-4f22-b6fc-484f8e90522b",
   "metadata": {},
   "outputs": [
    {
     "data": {
      "text/plain": [
       "281"
      ]
     },
     "execution_count": 8,
     "metadata": {},
     "output_type": "execute_result"
    }
   ],
   "source": [
    "DO_diff_lt_0p2[run_type].max(axis=2).max(axis=1).sum(axis=0).item()"
   ]
  },
  {
   "cell_type": "code",
   "execution_count": 9,
   "id": "d5b68e3d-9d39-433c-8853-ef705b3fd71c",
   "metadata": {},
   "outputs": [
    {
     "data": {
      "text/plain": [
       "111.67020858720899"
      ]
     },
     "execution_count": 9,
     "metadata": {},
     "output_type": "execute_result"
    }
   ],
   "source": [
    "VolumeDays_all.sum().item()"
   ]
  },
  {
   "cell_type": "code",
   "execution_count": 13,
   "id": "dd6ae53f-68ea-42de-909d-4b524ffefec5",
   "metadata": {},
   "outputs": [
    {
     "data": {
      "text/plain": [
       "0.054894651696256375"
      ]
     },
     "execution_count": 13,
     "metadata": {},
     "output_type": "execute_result"
    }
   ],
   "source": [
    "100*(VolumeDays_all.sum().item()/(volume.sum().item()*ndays))"
   ]
  },
  {
   "cell_type": "code",
   "execution_count": null,
   "id": "21c4998e-60cf-469f-8ab8-30f6314ec1cb",
   "metadata": {},
   "outputs": [],
   "source": [
    "VolumeDaysImpaired[run_type]['TOTAL'] = \n",
    "PercentVolumeDaysImpaired[run_type]['TOTAL'] = 100*(\n",
    "    VolumeDays_all/(volume.sum()*ndays)\n",
    ")"
   ]
  },
  {
   "cell_type": "code",
   "execution_count": 70,
   "id": "1e8c0e72-a8c0-4fa8-ae51-3a11358813da",
   "metadata": {},
   "outputs": [
    {
     "data": {
      "text/plain": [
       "0"
      ]
     },
     "execution_count": 70,
     "metadata": {},
     "output_type": "execute_result"
    }
   ],
   "source": [
    "np.array(DO_diff_lt_0p2[run_type].sum(axis=0).sum(axis=0))[\n",
    "    (gdf['Regions']=='SFJAdmiralty') &\n",
    "    (gdf['included_i']==1)\n",
    "].sum()"
   ]
  },
  {
   "cell_type": "code",
   "execution_count": 75,
   "id": "a2446542-18fc-4491-aaba-4d7613a4e75f",
   "metadata": {},
   "outputs": [
    {
     "data": {
      "text/plain": [
       "519"
      ]
     },
     "execution_count": 75,
     "metadata": {},
     "output_type": "execute_result"
    }
   ],
   "source": [
    "np.array(DO_diff_lt_0p2[run_type].sum(axis=0).sum(axis=0))[\n",
    "    (gdf['Regions']=='Hood') &\n",
    "    (gdf['included_i']==1)\n",
    "].sum()"
   ]
  },
  {
   "cell_type": "code",
   "execution_count": 74,
   "id": "4501a121-5d10-4696-b9db-d58619824568",
   "metadata": {},
   "outputs": [
    {
     "data": {
      "text/plain": [
       "774"
      ]
     },
     "execution_count": 74,
     "metadata": {},
     "output_type": "execute_result"
    }
   ],
   "source": [
    "idx = [(gdf['Regions']=='SFJAdmiralty') &\n",
    "    (gdf['included_i']==1)\n",
    "]\n",
    "sum(sum(idx))"
   ]
  },
  {
   "cell_type": "code",
   "execution_count": 20,
   "id": "cf2953e9-0159-4361-9934-cef3a7d0b962",
   "metadata": {},
   "outputs": [
    {
     "data": {
      "text/plain": [
       "(361,)"
      ]
     },
     "execution_count": 20,
     "metadata": {},
     "output_type": "execute_result"
    }
   ],
   "source": [
    "DOBelowThresh_daysnodes.max( axis=1,where=idx,initial=0).shape"
   ]
  },
  {
   "cell_type": "code",
   "execution_count": 19,
   "id": "547acc15-c22a-4c53-9d25-c9629469123e",
   "metadata": {},
   "outputs": [
    {
     "data": {
      "text/plain": [
       "197"
      ]
     },
     "execution_count": 19,
     "metadata": {},
     "output_type": "execute_result"
    }
   ],
   "source": [
    "DOBelowThresh_daysnodes.max( axis=1,where=idx,initial=0).sum().item()"
   ]
  },
  {
   "cell_type": "code",
   "execution_count": 58,
   "id": "c1b7ee3b-c31e-4521-b101-b0b4e347eea7",
   "metadata": {},
   "outputs": [
    {
     "name": "stdout",
     "output_type": "stream",
     "text": [
      "Hood\n",
      "401\n",
      "Main\n",
      "893\n",
      "SFJAdmiralty\n",
      "774\n",
      "SOG_Bellinghham\n",
      "488\n",
      "SouthSound\n",
      "1028\n",
      "Whidbey\n",
      "531\n"
     ]
    }
   ],
   "source": [
    "# Total number of days and percent volume days for each region\n",
    "DaysImpaired[run_type]={}\n",
    "VolumeDaysImpaired[run_type]={}\n",
    "PercentVolumeDaysImpaired[run_type]={}\n",
    "for region in regions:\n",
    "    print(region)\n",
    "    # create boolean of indices where True selects nodes of \n",
    "    # specified Region \n",
    "    idx = ((gdf['Regions']==region) &\n",
    "        (gdf['included_i']==1))\n",
    "    print(idx.sum())\n",
    "    # Note: The max of True/False will be True and initial sets False to zero.\n",
    "    # The \"where\" keywork specifies to only use values where idx=True,\n",
    "    # which in this case I set to specify the region.\n",
    "    if scope=='benthic':\n",
    "        # Assign the maximum (True) of DO < threshold occurrence across region\n",
    "        DaysImpaired[run_type][region] = DO_diff_lt_0p2[run_type].max(\n",
    "            axis=1,where=idx,initial=0)\n",
    "    else:\n",
    "        # Assign the maximum (True) of DO < threshold occurrence across depths \n",
    "        # such that 1-day of impairement is counted if there is one or more \n",
    "        # levels impaired\n",
    "        DOBelowThresh_daysnodes = DO_diff_lt_0p2[run_type].max(axis=1,initial=0)\n",
    "        # Assign the maximum (True) of DO < threshold occurrence across region\n",
    "        # then sum values over time\n",
    "        DaysImpaired[run_type][region] = DOBelowThresh_daysnodes.max(\n",
    "            axis=1,where=idx,initial=0).sum().item()\n",
    "    VolumeDaysImpaired[run_type][region]=np.array(VolumeDays_all)[idx].sum()\n",
    "    # get regional volume\n",
    "    if scope=='benthic': # take fraction for bottom-level volume\n",
    "        RegionVolume = ssm['siglev_diff'][-1]/100*volume[\n",
    "            (gdf['Regions']==region) &\n",
    "            (gdf['included_i']==1)\n",
    "        ].sum()\n",
    "    else: # water column\n",
    "        RegionVolume = volume[idx].sum()\n",
    "    PercentVolumeDaysImpaired[run_type][region]=100*(\n",
    "        VolumeDaysImpaired[run_type][region]/(RegionVolume*ndays)\n",
    "    )"
   ]
  },
  {
   "cell_type": "code",
   "execution_count": 59,
   "id": "cdc87974-0992-4058-b997-0bf6144050b8",
   "metadata": {},
   "outputs": [
    {
     "data": {
      "text/plain": [
       "{'1c_all_sog_riv_off': {'Hood': 0.011998900355382074,\n",
       "  'Main': 0.012544775388797513,\n",
       "  'SFJAdmiralty': 0.0,\n",
       "  'SOG_Bellinghham': 0.001572557693992626,\n",
       "  'SouthSound': 1.2398924939362908,\n",
       "  'Whidbey': 0.5560846282065026}}"
      ]
     },
     "execution_count": 59,
     "metadata": {},
     "output_type": "execute_result"
    }
   ],
   "source": [
    "PercentVolumeDaysImpaired"
   ]
  },
  {
   "cell_type": "code",
   "execution_count": 32,
   "id": "f7edb010-a8c0-45e7-9dfa-9ee1dfc42bb4",
   "metadata": {},
   "outputs": [],
   "source": [
    "dot1=(volume2D.transpose()*DO_diff_lt_0p2_days_wc)\n"
   ]
  },
  {
   "cell_type": "code",
   "execution_count": 28,
   "id": "f8854b95-1ec7-4025-9874-798f9eef7d18",
   "metadata": {},
   "outputs": [
    {
     "name": "stdout",
     "output_type": "stream",
     "text": [
      "(10, 4144)\n",
      "(10, 4144)\n",
      "<xarray.DataArray 'DOXG_daily_min' (dim_2: 4144)>\n",
      "array([0.        , 0.        , 0.        , ..., 0.00165245, 0.00300226,\n",
      "       0.02488494])\n",
      "Dimensions without coordinates: dim_2\n"
     ]
    }
   ],
   "source": [
    "print(DO_diff_lt_0p2_days_wc.shape)\n",
    "print(VolumeDays_wc.shape)\n",
    "print(VolumeDays_all)"
   ]
  },
  {
   "cell_type": "code",
   "execution_count": 26,
   "id": "b40a6b9d-35ef-425a-bf77-efae1af6ed46",
   "metadata": {},
   "outputs": [
    {
     "data": {
      "text/html": [
       "<div><svg style=\"position: absolute; width: 0; height: 0; overflow: hidden\">\n",
       "<defs>\n",
       "<symbol id=\"icon-database\" viewBox=\"0 0 32 32\">\n",
       "<path d=\"M16 0c-8.837 0-16 2.239-16 5v4c0 2.761 7.163 5 16 5s16-2.239 16-5v-4c0-2.761-7.163-5-16-5z\"></path>\n",
       "<path d=\"M16 17c-8.837 0-16-2.239-16-5v6c0 2.761 7.163 5 16 5s16-2.239 16-5v-6c0 2.761-7.163 5-16 5z\"></path>\n",
       "<path d=\"M16 26c-8.837 0-16-2.239-16-5v6c0 2.761 7.163 5 16 5s16-2.239 16-5v-6c0 2.761-7.163 5-16 5z\"></path>\n",
       "</symbol>\n",
       "<symbol id=\"icon-file-text2\" viewBox=\"0 0 32 32\">\n",
       "<path d=\"M28.681 7.159c-0.694-0.947-1.662-2.053-2.724-3.116s-2.169-2.030-3.116-2.724c-1.612-1.182-2.393-1.319-2.841-1.319h-15.5c-1.378 0-2.5 1.121-2.5 2.5v27c0 1.378 1.122 2.5 2.5 2.5h23c1.378 0 2.5-1.122 2.5-2.5v-19.5c0-0.448-0.137-1.23-1.319-2.841zM24.543 5.457c0.959 0.959 1.712 1.825 2.268 2.543h-4.811v-4.811c0.718 0.556 1.584 1.309 2.543 2.268zM28 29.5c0 0.271-0.229 0.5-0.5 0.5h-23c-0.271 0-0.5-0.229-0.5-0.5v-27c0-0.271 0.229-0.5 0.5-0.5 0 0 15.499-0 15.5 0v7c0 0.552 0.448 1 1 1h7v19.5z\"></path>\n",
       "<path d=\"M23 26h-14c-0.552 0-1-0.448-1-1s0.448-1 1-1h14c0.552 0 1 0.448 1 1s-0.448 1-1 1z\"></path>\n",
       "<path d=\"M23 22h-14c-0.552 0-1-0.448-1-1s0.448-1 1-1h14c0.552 0 1 0.448 1 1s-0.448 1-1 1z\"></path>\n",
       "<path d=\"M23 18h-14c-0.552 0-1-0.448-1-1s0.448-1 1-1h14c0.552 0 1 0.448 1 1s-0.448 1-1 1z\"></path>\n",
       "</symbol>\n",
       "</defs>\n",
       "</svg>\n",
       "<style>/* CSS stylesheet for displaying xarray objects in jupyterlab.\n",
       " *\n",
       " */\n",
       "\n",
       ":root {\n",
       "  --xr-font-color0: var(--jp-content-font-color0, rgba(0, 0, 0, 1));\n",
       "  --xr-font-color2: var(--jp-content-font-color2, rgba(0, 0, 0, 0.54));\n",
       "  --xr-font-color3: var(--jp-content-font-color3, rgba(0, 0, 0, 0.38));\n",
       "  --xr-border-color: var(--jp-border-color2, #e0e0e0);\n",
       "  --xr-disabled-color: var(--jp-layout-color3, #bdbdbd);\n",
       "  --xr-background-color: var(--jp-layout-color0, white);\n",
       "  --xr-background-color-row-even: var(--jp-layout-color1, white);\n",
       "  --xr-background-color-row-odd: var(--jp-layout-color2, #eeeeee);\n",
       "}\n",
       "\n",
       "html[theme=dark],\n",
       "body.vscode-dark {\n",
       "  --xr-font-color0: rgba(255, 255, 255, 1);\n",
       "  --xr-font-color2: rgba(255, 255, 255, 0.54);\n",
       "  --xr-font-color3: rgba(255, 255, 255, 0.38);\n",
       "  --xr-border-color: #1F1F1F;\n",
       "  --xr-disabled-color: #515151;\n",
       "  --xr-background-color: #111111;\n",
       "  --xr-background-color-row-even: #111111;\n",
       "  --xr-background-color-row-odd: #313131;\n",
       "}\n",
       "\n",
       ".xr-wrap {\n",
       "  display: block !important;\n",
       "  min-width: 300px;\n",
       "  max-width: 700px;\n",
       "}\n",
       "\n",
       ".xr-text-repr-fallback {\n",
       "  /* fallback to plain text repr when CSS is not injected (untrusted notebook) */\n",
       "  display: none;\n",
       "}\n",
       "\n",
       ".xr-header {\n",
       "  padding-top: 6px;\n",
       "  padding-bottom: 6px;\n",
       "  margin-bottom: 4px;\n",
       "  border-bottom: solid 1px var(--xr-border-color);\n",
       "}\n",
       "\n",
       ".xr-header > div,\n",
       ".xr-header > ul {\n",
       "  display: inline;\n",
       "  margin-top: 0;\n",
       "  margin-bottom: 0;\n",
       "}\n",
       "\n",
       ".xr-obj-type,\n",
       ".xr-array-name {\n",
       "  margin-left: 2px;\n",
       "  margin-right: 10px;\n",
       "}\n",
       "\n",
       ".xr-obj-type {\n",
       "  color: var(--xr-font-color2);\n",
       "}\n",
       "\n",
       ".xr-sections {\n",
       "  padding-left: 0 !important;\n",
       "  display: grid;\n",
       "  grid-template-columns: 150px auto auto 1fr 20px 20px;\n",
       "}\n",
       "\n",
       ".xr-section-item {\n",
       "  display: contents;\n",
       "}\n",
       "\n",
       ".xr-section-item input {\n",
       "  display: none;\n",
       "}\n",
       "\n",
       ".xr-section-item input + label {\n",
       "  color: var(--xr-disabled-color);\n",
       "}\n",
       "\n",
       ".xr-section-item input:enabled + label {\n",
       "  cursor: pointer;\n",
       "  color: var(--xr-font-color2);\n",
       "}\n",
       "\n",
       ".xr-section-item input:enabled + label:hover {\n",
       "  color: var(--xr-font-color0);\n",
       "}\n",
       "\n",
       ".xr-section-summary {\n",
       "  grid-column: 1;\n",
       "  color: var(--xr-font-color2);\n",
       "  font-weight: 500;\n",
       "}\n",
       "\n",
       ".xr-section-summary > span {\n",
       "  display: inline-block;\n",
       "  padding-left: 0.5em;\n",
       "}\n",
       "\n",
       ".xr-section-summary-in:disabled + label {\n",
       "  color: var(--xr-font-color2);\n",
       "}\n",
       "\n",
       ".xr-section-summary-in + label:before {\n",
       "  display: inline-block;\n",
       "  content: '►';\n",
       "  font-size: 11px;\n",
       "  width: 15px;\n",
       "  text-align: center;\n",
       "}\n",
       "\n",
       ".xr-section-summary-in:disabled + label:before {\n",
       "  color: var(--xr-disabled-color);\n",
       "}\n",
       "\n",
       ".xr-section-summary-in:checked + label:before {\n",
       "  content: '▼';\n",
       "}\n",
       "\n",
       ".xr-section-summary-in:checked + label > span {\n",
       "  display: none;\n",
       "}\n",
       "\n",
       ".xr-section-summary,\n",
       ".xr-section-inline-details {\n",
       "  padding-top: 4px;\n",
       "  padding-bottom: 4px;\n",
       "}\n",
       "\n",
       ".xr-section-inline-details {\n",
       "  grid-column: 2 / -1;\n",
       "}\n",
       "\n",
       ".xr-section-details {\n",
       "  display: none;\n",
       "  grid-column: 1 / -1;\n",
       "  margin-bottom: 5px;\n",
       "}\n",
       "\n",
       ".xr-section-summary-in:checked ~ .xr-section-details {\n",
       "  display: contents;\n",
       "}\n",
       "\n",
       ".xr-array-wrap {\n",
       "  grid-column: 1 / -1;\n",
       "  display: grid;\n",
       "  grid-template-columns: 20px auto;\n",
       "}\n",
       "\n",
       ".xr-array-wrap > label {\n",
       "  grid-column: 1;\n",
       "  vertical-align: top;\n",
       "}\n",
       "\n",
       ".xr-preview {\n",
       "  color: var(--xr-font-color3);\n",
       "}\n",
       "\n",
       ".xr-array-preview,\n",
       ".xr-array-data {\n",
       "  padding: 0 5px !important;\n",
       "  grid-column: 2;\n",
       "}\n",
       "\n",
       ".xr-array-data,\n",
       ".xr-array-in:checked ~ .xr-array-preview {\n",
       "  display: none;\n",
       "}\n",
       "\n",
       ".xr-array-in:checked ~ .xr-array-data,\n",
       ".xr-array-preview {\n",
       "  display: inline-block;\n",
       "}\n",
       "\n",
       ".xr-dim-list {\n",
       "  display: inline-block !important;\n",
       "  list-style: none;\n",
       "  padding: 0 !important;\n",
       "  margin: 0;\n",
       "}\n",
       "\n",
       ".xr-dim-list li {\n",
       "  display: inline-block;\n",
       "  padding: 0;\n",
       "  margin: 0;\n",
       "}\n",
       "\n",
       ".xr-dim-list:before {\n",
       "  content: '(';\n",
       "}\n",
       "\n",
       ".xr-dim-list:after {\n",
       "  content: ')';\n",
       "}\n",
       "\n",
       ".xr-dim-list li:not(:last-child):after {\n",
       "  content: ',';\n",
       "  padding-right: 5px;\n",
       "}\n",
       "\n",
       ".xr-has-index {\n",
       "  font-weight: bold;\n",
       "}\n",
       "\n",
       ".xr-var-list,\n",
       ".xr-var-item {\n",
       "  display: contents;\n",
       "}\n",
       "\n",
       ".xr-var-item > div,\n",
       ".xr-var-item label,\n",
       ".xr-var-item > .xr-var-name span {\n",
       "  background-color: var(--xr-background-color-row-even);\n",
       "  margin-bottom: 0;\n",
       "}\n",
       "\n",
       ".xr-var-item > .xr-var-name:hover span {\n",
       "  padding-right: 5px;\n",
       "}\n",
       "\n",
       ".xr-var-list > li:nth-child(odd) > div,\n",
       ".xr-var-list > li:nth-child(odd) > label,\n",
       ".xr-var-list > li:nth-child(odd) > .xr-var-name span {\n",
       "  background-color: var(--xr-background-color-row-odd);\n",
       "}\n",
       "\n",
       ".xr-var-name {\n",
       "  grid-column: 1;\n",
       "}\n",
       "\n",
       ".xr-var-dims {\n",
       "  grid-column: 2;\n",
       "}\n",
       "\n",
       ".xr-var-dtype {\n",
       "  grid-column: 3;\n",
       "  text-align: right;\n",
       "  color: var(--xr-font-color2);\n",
       "}\n",
       "\n",
       ".xr-var-preview {\n",
       "  grid-column: 4;\n",
       "}\n",
       "\n",
       ".xr-var-name,\n",
       ".xr-var-dims,\n",
       ".xr-var-dtype,\n",
       ".xr-preview,\n",
       ".xr-attrs dt {\n",
       "  white-space: nowrap;\n",
       "  overflow: hidden;\n",
       "  text-overflow: ellipsis;\n",
       "  padding-right: 10px;\n",
       "}\n",
       "\n",
       ".xr-var-name:hover,\n",
       ".xr-var-dims:hover,\n",
       ".xr-var-dtype:hover,\n",
       ".xr-attrs dt:hover {\n",
       "  overflow: visible;\n",
       "  width: auto;\n",
       "  z-index: 1;\n",
       "}\n",
       "\n",
       ".xr-var-attrs,\n",
       ".xr-var-data {\n",
       "  display: none;\n",
       "  background-color: var(--xr-background-color) !important;\n",
       "  padding-bottom: 5px !important;\n",
       "}\n",
       "\n",
       ".xr-var-attrs-in:checked ~ .xr-var-attrs,\n",
       ".xr-var-data-in:checked ~ .xr-var-data {\n",
       "  display: block;\n",
       "}\n",
       "\n",
       ".xr-var-data > table {\n",
       "  float: right;\n",
       "}\n",
       "\n",
       ".xr-var-name span,\n",
       ".xr-var-data,\n",
       ".xr-attrs {\n",
       "  padding-left: 25px !important;\n",
       "}\n",
       "\n",
       ".xr-attrs,\n",
       ".xr-var-attrs,\n",
       ".xr-var-data {\n",
       "  grid-column: 1 / -1;\n",
       "}\n",
       "\n",
       "dl.xr-attrs {\n",
       "  padding: 0;\n",
       "  margin: 0;\n",
       "  display: grid;\n",
       "  grid-template-columns: 125px auto;\n",
       "}\n",
       "\n",
       ".xr-attrs dt,\n",
       ".xr-attrs dd {\n",
       "  padding: 0;\n",
       "  margin: 0;\n",
       "  float: left;\n",
       "  padding-right: 10px;\n",
       "  width: auto;\n",
       "}\n",
       "\n",
       ".xr-attrs dt {\n",
       "  font-weight: normal;\n",
       "  grid-column: 1;\n",
       "}\n",
       "\n",
       ".xr-attrs dt:hover span {\n",
       "  display: inline-block;\n",
       "  background: var(--xr-background-color);\n",
       "  padding-right: 10px;\n",
       "}\n",
       "\n",
       ".xr-attrs dd {\n",
       "  grid-column: 2;\n",
       "  white-space: pre-wrap;\n",
       "  word-break: break-all;\n",
       "}\n",
       "\n",
       ".xr-icon-database,\n",
       ".xr-icon-file-text2 {\n",
       "  display: inline-block;\n",
       "  vertical-align: middle;\n",
       "  width: 1em;\n",
       "  height: 1.5em !important;\n",
       "  stroke-width: 0;\n",
       "  stroke: currentColor;\n",
       "  fill: currentColor;\n",
       "}\n",
       "</style><pre class='xr-text-repr-fallback'>&lt;xarray.DataArray &#x27;DOXG_daily_min&#x27; (dim_2: 4144)&gt;\n",
       "array([0.        , 0.        , 0.        , ..., 0.00165245, 0.00300226,\n",
       "       0.02488494])\n",
       "Dimensions without coordinates: dim_2</pre><div class='xr-wrap' style='display:none'><div class='xr-header'><div class='xr-obj-type'>xarray.DataArray</div><div class='xr-array-name'>'DOXG_daily_min'</div><ul class='xr-dim-list'><li><span>dim_2</span>: 4144</li></ul></div><ul class='xr-sections'><li class='xr-section-item'><div class='xr-array-wrap'><input id='section-d640501e-095b-409e-9a92-b2b00ffec0e6' class='xr-array-in' type='checkbox' checked><label for='section-d640501e-095b-409e-9a92-b2b00ffec0e6' title='Show/hide data repr'><svg class='icon xr-icon-database'><use xlink:href='#icon-database'></use></svg></label><div class='xr-array-preview xr-preview'><span>0.0 0.0 0.0 0.0 0.0 ... 0.003616 0.003995 0.001652 0.003002 0.02488</span></div><div class='xr-array-data'><pre>array([0.        , 0.        , 0.        , ..., 0.00165245, 0.00300226,\n",
       "       0.02488494])</pre></div></div></li><li class='xr-section-item'><input id='section-8a9f8251-7709-4192-8870-9359558e0ca7' class='xr-section-summary-in' type='checkbox' disabled ><label for='section-8a9f8251-7709-4192-8870-9359558e0ca7' class='xr-section-summary'  title='Expand/collapse section'>Coordinates: <span>(0)</span></label><div class='xr-section-inline-details'></div><div class='xr-section-details'><ul class='xr-var-list'></ul></div></li><li class='xr-section-item'><input id='section-382e4615-007c-46dd-81b6-e0031c4c9097' class='xr-section-summary-in' type='checkbox' disabled ><label for='section-382e4615-007c-46dd-81b6-e0031c4c9097' class='xr-section-summary'  title='Expand/collapse section'>Attributes: <span>(0)</span></label><div class='xr-section-inline-details'></div><div class='xr-section-details'><dl class='xr-attrs'></dl></div></li></ul></div></div>"
      ],
      "text/plain": [
       "<xarray.DataArray 'DOXG_daily_min' (dim_2: 4144)>\n",
       "array([0.        , 0.        , 0.        , ..., 0.00165245, 0.00300226,\n",
       "       0.02488494])\n",
       "Dimensions without coordinates: dim_2"
      ]
     },
     "execution_count": 26,
     "metadata": {},
     "output_type": "execute_result"
    }
   ],
   "source": [
    "VolumeDays_all"
   ]
  },
  {
   "cell_type": "code",
   "execution_count": 23,
   "id": "83a5c0e4-2911-4935-bab7-db61730be7e2",
   "metadata": {},
   "outputs": [
    {
     "data": {
      "text/plain": [
       "46.821682910571"
      ]
     },
     "execution_count": 23,
     "metadata": {},
     "output_type": "execute_result"
    }
   ],
   "source": [
    "VolumeDaysImpaired[run_type][region]"
   ]
  },
  {
   "cell_type": "code",
   "execution_count": 24,
   "id": "65cf9e67-e477-496b-9e44-65d007c14706",
   "metadata": {},
   "outputs": [
    {
     "data": {
      "text/plain": [
       "8419.884408886"
      ]
     },
     "execution_count": 24,
     "metadata": {},
     "output_type": "execute_result"
    }
   ],
   "source": [
    "(RegionVolume*ndays)"
   ]
  },
  {
   "cell_type": "code",
   "execution_count": 25,
   "id": "5cb76bcd-a197-40cd-88cf-49255b15a775",
   "metadata": {},
   "outputs": [
    {
     "data": {
      "text/html": [
       "<div>\n",
       "<style scoped>\n",
       "    .dataframe tbody tr th:only-of-type {\n",
       "        vertical-align: middle;\n",
       "    }\n",
       "\n",
       "    .dataframe tbody tr th {\n",
       "        vertical-align: top;\n",
       "    }\n",
       "\n",
       "    .dataframe thead th {\n",
       "        text-align: right;\n",
       "    }\n",
       "</style>\n",
       "<table border=\"1\" class=\"dataframe\">\n",
       "  <thead>\n",
       "    <tr style=\"text-align: right;\">\n",
       "      <th></th>\n",
       "      <th>1c_all_sog_riv_off</th>\n",
       "    </tr>\n",
       "  </thead>\n",
       "  <tbody>\n",
       "    <tr>\n",
       "      <th>Hood</th>\n",
       "      <td>0.011999</td>\n",
       "    </tr>\n",
       "    <tr>\n",
       "      <th>Main</th>\n",
       "      <td>0.012545</td>\n",
       "    </tr>\n",
       "    <tr>\n",
       "      <th>SFJAdmiralty</th>\n",
       "      <td>0.000000</td>\n",
       "    </tr>\n",
       "    <tr>\n",
       "      <th>SOG_Bellinghham</th>\n",
       "      <td>0.001573</td>\n",
       "    </tr>\n",
       "    <tr>\n",
       "      <th>SouthSound</th>\n",
       "      <td>1.239892</td>\n",
       "    </tr>\n",
       "    <tr>\n",
       "      <th>Whidbey</th>\n",
       "      <td>0.556085</td>\n",
       "    </tr>\n",
       "  </tbody>\n",
       "</table>\n",
       "</div>"
      ],
      "text/plain": [
       "                 1c_all_sog_riv_off\n",
       "Hood                       0.011999\n",
       "Main                       0.012545\n",
       "SFJAdmiralty               0.000000\n",
       "SOG_Bellinghham            0.001573\n",
       "SouthSound                 1.239892\n",
       "Whidbey                    0.556085"
      ]
     },
     "execution_count": 25,
     "metadata": {},
     "output_type": "execute_result"
    }
   ],
   "source": [
    "pandas.DataFrame(PercentVolumeDaysImpaired)"
   ]
  },
  {
   "cell_type": "markdown",
   "id": "5a052b01-aba9-41c1-af2a-95743ecad142",
   "metadata": {},
   "source": [
    "### Hash out method for Days exceedence"
   ]
  },
  {
   "cell_type": "code",
   "execution_count": 4,
   "id": "6b505ec7-4361-4911-96dc-478cb374d448",
   "metadata": {},
   "outputs": [
    {
     "name": "stdout",
     "output_type": "stream",
     "text": [
      "['DOXG_daily_min']\n",
      "(361, 10, 4144)\n"
     ]
    }
   ],
   "source": [
    "processed_netcdf_dir = pathlib.Path(ssm['paths']['processed_output'])/'DOXG'\n",
    "wc_file = processed_netcdf_dir/'wqm_baseline'/f'daily_min_DOXG.nc'\n",
    "DO_thresh=5\n",
    "with xarray.open_dataset(wc_file) as ds:\n",
    "    print([*ds])\n",
    "    MinDO_wc=ds[f'DOXG_daily_min']\n",
    "    MinDO=MinDO_wc[:,:,gdf['node_id']-1]\n",
    "[ndays,nlevels,nnodes]=MinDO.shape\n",
    "#volume2D = np.dot(volume.reshape(4144,1),depth_fraction.reshape(1,10))\n",
    "DO_thresh3D = np.ones((nnodes,nlevels,ndays))*DO_thresh\n",
    "DOBelowThresh = MinDO<=DO_thresh3D.transpose()\n",
    "print(DOBelowThresh.shape)"
   ]
  },
  {
   "cell_type": "code",
   "execution_count": 5,
   "id": "742a1fb1-ede5-43e1-b695-5f3970baadf7",
   "metadata": {},
   "outputs": [
    {
     "name": "stderr",
     "output_type": "stream",
     "text": [
      "findfont: Font family ['arial'] not found. Falling back to DejaVu Sans.\n"
     ]
    },
    {
     "data": {
      "image/png": "[encoded data removed]",
      "text/plain": [
       "<Figure size 432x288 with 2 Axes>"
      ]
     },
     "metadata": {
      "needs_background": "light"
     },
     "output_type": "display_data"
    },
    {
     "data": {
      "image/png": "[encoded data removed]",
      "text/plain": [
       "<Figure size 432x288 with 2 Axes>"
      ]
     },
     "metadata": {
      "needs_background": "light"
     },
     "output_type": "display_data"
    },
    {
     "data": {
      "image/png": "[encoded data removed]",
      "text/plain": [
       "<Figure size 432x288 with 2 Axes>"
      ]
     },
     "metadata": {
      "needs_background": "light"
     },
     "output_type": "display_data"
    },
    {
     "data": {
      "image/png": "[encoded data removed]",
      "text/plain": [
       "<Figure size 432x288 with 2 Axes>"
      ]
     },
     "metadata": {
      "needs_background": "light"
     },
     "output_type": "display_data"
    },
    {
     "data": {
      "image/png": "[encoded data removed]",
      "text/plain": [
       "<Figure size 432x288 with 2 Axes>"
      ]
     },
     "metadata": {
      "needs_background": "light"
     },
     "output_type": "display_data"
    },
    {
     "data": {
      "image/png": "[encoded data removed]",
      "text/plain": [
       "<Figure size 432x288 with 2 Axes>"
      ]
     },
     "metadata": {
      "needs_background": "light"
     },
     "output_type": "display_data"
    }
   ],
   "source": [
    "regions = gdf[['node_id','Regions']].groupby('Regions').count().index.to_list()\n",
    "regions.remove('Other') # These will be removed in future iterations\n",
    "for region in regions:\n",
    "    # create boolean of indices where True selects nodes of \n",
    "    # specified Region \n",
    "    idx = ((gdf['Regions']==region) &\n",
    "        (gdf['included_i']==1))\n",
    "    # Assign the maximum (True) of DO < threshold occurrence across depths\n",
    "    # Note: The max of True/False will be True and initial sets False to zero.\n",
    "    # The \"where\" keywork specifies to only use values where idx=True,\n",
    "    # which in this case I set to specify the region.\n",
    "    DOBelowThresh_days = DOBelowThresh.max(axis=1,initial=0)\n",
    "    # Assign the maximum (True) of DO < threshold occurrence across region\n",
    "    DOBelowThresh_days_byregion = DOBelowThresh_days.max(axis=1,where=idx,initial=0)\n",
    "    # Adds the maximum (True) of DO < threshold occurrence across region\n",
    "    DOBelowThresh_nodedays_byregion = DOBelowThresh_days.sum(axis=1,where=idx,initial=0)\n",
    "\n",
    "    # plot results\n",
    "    fig, ax1 = plt.subplots()\n",
    "    ax2 = ax1.twinx()\n",
    "    ax1.plot(DOBelowThresh_nodedays_byregion, 'g-')\n",
    "    ax2.plot(DOBelowThresh_days_byregion, 'b-')\n",
    "\n",
    "    ax1.set_xlabel('days')\n",
    "    ax1.set_ylabel(f'sum of nodes < 5 in {region}', color='g')\n",
    "    ax2.set_ylabel(f'occurance of nodes <5 in {region}', color='b')\n",
    "\n",
    "    plt.show()"
   ]
  },
  {
   "cell_type": "markdown",
   "id": "7eabfaa0-2776-4012-b087-e1a8b282ef3e",
   "metadata": {
    "tags": []
   },
   "source": [
    "# Below threshold   \n",
    "Two options:\n",
    "1. Use DO standard\n",
    "2. Use given number (e.g. 2 mg/l or 5 mg/l)"
   ]
  },
  {
   "cell_type": "code",
   "execution_count": 6,
   "id": "d1f29d9c-5595-4808-a516-43e3c6c65308",
   "metadata": {},
   "outputs": [
    {
     "data": {
      "text/plain": [
       "['wqm_reference',\n",
       " '1c_all_sog_riv_off',\n",
       " '2b_sog_river_2times',\n",
       " 'wqm_baseline',\n",
       " '2a_sog_river_0.5times',\n",
       " '1d_small_sog_wwtp_off',\n",
       " '1e_med_sog_wwtp_off',\n",
       " '1b_all_sog_wwtp_off']"
      ]
     },
     "execution_count": 6,
     "metadata": {},
     "output_type": "execute_result"
    }
   ],
   "source": [
    "processed_netcdf_dir = pathlib.Path(ssm['paths']['processed_output'])/'DOXG'\n",
    "dir_list = os.listdir(processed_netcdf_dir)\n",
    "dir_list"
   ]
  },
  {
   "cell_type": "code",
   "execution_count": 7,
   "id": "30200ca5-1668-4a88-a424-49fe15546d84",
   "metadata": {},
   "outputs": [],
   "source": [
    "def calc_below_threshold(DO_thresh, shp, scope):\n",
    "    \"\"\" \n",
    "    DO_thresh [1D or int]: DO_std or integer value\n",
    "    shp [path]: shapefile path\n",
    "    dir_list [list]: List of directory names for model output\n",
    "    scope [string]: \"benthic\" or \"wc\" (for water column)\n",
    "    \"\"\"\n",
    "    # Initialize dictionaries\n",
    "    MinDO={}\n",
    "    DOXGBelowThresh={} # Boolean where DOXG<threshold\n",
    "    DOXGBelowThreshDays={} # Number of days where DOXGBelowThresh = True\n",
    "    DaysDOXGBelowThresh={} # Sum of days across regions\n",
    "    VolumeDays={} # Percent of volume within region where DO<threshold\n",
    "    PercentVolumeDays={}\n",
    "    \n",
    "    # Define dimension sizes and load shapefile\n",
    "    gdf = gpd.read_file(shp)\n",
    "    gdf=gdf.rename(columns={'region_inf':'Regions'})\n",
    "    regions = gdf[['node_id','Regions']].groupby('Regions').count().index.to_list()\n",
    "    regions.remove('Other') # These will be removed in future iterations\n",
    "    if DO_thresh=='DO_standard':\n",
    "        DO_thresh=gdf['DO_std']\n",
    "    \n",
    "    # Get path for model output\n",
    "    model_var='DOXG' \n",
    "    processed_netcdf_dir = pathlib.Path(ssm['paths']['processed_output'])/model_var\n",
    "    \n",
    "    # Get list of run sub-directories in processed netcdf directory\n",
    "    dir_list = os.listdir(processed_netcdf_dir)\n",
    "    \n",
    "    # Load all runs   \n",
    "    if scope=='benthic':\n",
    "        for run_dir in dir_list:\n",
    "            try: \n",
    "                run_file=processed_netcdf_dir/run_dir/'bottom'/f'daily_min_{model_var}_bottom.nc'\n",
    "                with xarray.open_dataset(run_file) as ds:\n",
    "                    print([*ds])\n",
    "                    MinDO_full=ds[f'{model_var}_daily_min_bottom']\n",
    "                    # Sub-sample nodes (from 16012 nodes to 7494)\n",
    "                    MinDO[run_dir]=MinDO_full[:,gdf['node_id']-1]\n",
    "                    print(MinDO[run_dir].shape)\n",
    "            except FileNotFoundError:\n",
    "                print(f'File Not Found: {run_file}')\n",
    "            if run_dir == dir_list[0]:\n",
    "                # Get number of days and nodes\n",
    "                [ndays,nnodes]=MinDO[run_dir].shape\n",
    "    else: # water column (with 10 levels)\n",
    "        for run_dir in dir_list:\n",
    "            try: \n",
    "                run_file=processed_netcdf_dir/run_dir/f'daily_min_{model_var}.nc'\n",
    "                with xarray.open_dataset(run_file) as ds:\n",
    "                    print([*ds])\n",
    "                    MinDO_full=ds[f'{model_var}_daily_min']\n",
    "                    # Sub-sample nodes (from 16012 nodes to 7494)\n",
    "                    MinDO[run_dir]=MinDO_full[:,:,gdf['node_id']-1]\n",
    "                    print(MinDO[run_dir].shape)\n",
    "            except FileNotFoundError:\n",
    "                print(f'File Not Found: {run_file}')\n",
    "            if run_dir == dir_list[0]:\n",
    "                # Get number of days and nodes\n",
    "                [ndays,nlevels,nnodes]=MinDO[run_dir].shape\n",
    "                \n",
    "    # Create array of Dissolved Oxygen threshold values\n",
    "    if type(DO_thresh)==int:\n",
    "        if scope=='benthic':\n",
    "            DO_thresh2D = np.ones((nnodes,ndays))*DO_thresh\n",
    "        else:\n",
    "            DO_thresh3D = np.ones((nnodes,nlevels,ndays))*DO_thresh\n",
    "    else:\n",
    "        if scope=='benthic':\n",
    "            # create array of DO_threshold values \n",
    "            DO_thresh2D = np.ones((nnodes,ndays))*np.array(DO_thresh).reshape(nnodes,1)\n",
    "            # (7494,361) x (7494,1) => element-wise multiplication\n",
    "        else:\n",
    "            print(f'DO_thresh3D with DO_thresh={DO_thresh}')\n",
    "            DO_thresh3D = np.ones((nnodes,nlevels,ndays))*np.array(DO_thresh).reshape(nnodes,1,1)\n",
    "\n",
    "    # Calculate volume for volume days\n",
    "    if scope=='benthic':\n",
    "        volume = np.asarray(gdf.volume*ssm['siglev_diff'][-1]/100) # just the bottom level\n",
    "    else: # water column\n",
    "        volume = np.asarray(gdf.volume)\n",
    "        depth_fraction = np.array(ssm['siglev_diff'])/100\n",
    "        volume2D = np.dot(volume.reshape(nnodes,1),depth_fraction.reshape(1,nlevels))   \n",
    "        \n",
    "    # Determine DOXGBelowThresh days\n",
    "    for run_type in dir_list:\n",
    "        print(run_type)\n",
    "        # Boolean where DOXG<threshold\n",
    "        if scope=='benthic':\n",
    "            DOXGBelowThresh[run_type] = MinDO[run_type]<=DO_thresh2D.transpose() #361x4144 (nodes x time)\n",
    "            # Number of days where DOXGBelowThresh = True\n",
    "###            DOXGBelowThreshDays[run_type]=DOXGBelowThresh[run_type].sum(axis=0) #4144 (nodes)\n",
    "            # Volume days\n",
    "            VolumeDays_all=volume*DOXGBelowThreshDays[run_type]\n",
    "        else:\n",
    "            DOXGBelowThresh[run_type] = MinDO[run_type]<=DO_thresh3D.transpose() #361x10x4144 (nodes x time)\n",
    "            # First get a count of days below threshold for each depth level\n",
    "            DOXGBelowThreshDays_wc=DOXGBelowThresh[run_type].sum(axis=0) #10x4144 (nodes)\n",
    "            # Take max over depth to get result similar to benthic case where\n",
    "            # 1-day of impairement is counted if there is one or more levels less than threshold\n",
    "###            #DOXGBelowThreshDays[run_type]=DOXGBelowThresh[run_type].sum(axis=0).max(axis=0)\n",
    "            # Volume days: Use days impaired for each level  and element-wise \n",
    "            # multiplication of 10x4144 * 10x4144 matrices to get volume days by level \n",
    "            VolumeDays_wc=volume*DOXGBelowThreshDays_wc\n",
    "            # Add across levels to get total VolumeDays per node\n",
    "            VolumeDays_all = VolumeDays_wc.sum(axis=0)\n",
    "     \n",
    "        # Total number of days and percent volume days for each region\n",
    "        DaysDOXGBelowThresh[run_type]={}\n",
    "        VolumeDays[run_type]={}\n",
    "        PercentVolumeDays[run_type]={}\n",
    "        for region in regions:\n",
    "###            DaysDOXGBelowThresh[run_type][region]=np.array(DOXGBelowThreshDays[run_type])[\n",
    "###                (gdf['Regions']==region) &\n",
    "###                (gdf['included_i']==1)\n",
    "###            ].sum()\n",
    "            # create boolean of indices where True selects nodes of \n",
    "            # specified Region \n",
    "            idx = ((gdf['Regions']==region) &\n",
    "                (gdf['included_i']==1))            \n",
    "            # Note: The max of True/False will be True and initial sets False to zero.\n",
    "            # The \"where\" keywork specifies to only use values where idx=True,\n",
    "            # which in this case I set to specify the region.\n",
    "            if scope=='benthic':\n",
    "                # Assign the maximum (True) of DO < threshold occurrence across region\n",
    "                DaysDOXGBelowThresh[run_type][region] = DOBelowThresh.max(\n",
    "                    axis=1,where=idx,initial=0)\n",
    "            else:\n",
    "                # Assign the maximum (True) of DO < threshold occurrence across depths\n",
    "                DOBelowThresh_daysnodes = DOBelowThresh.max(axis=1,initial=0)\n",
    "                # Assign the maximum (True) of DO < threshold occurrence across region\n",
    "                DaysDOXGBelowThresh[run_type][region] = DOBelowThresh_daysnodes.max(\n",
    "                    axis=1,where=idx,initial=0)\n",
    "            VolumeDays[run_type][region]=np.array(VolumeDays_all)[\n",
    "                (gdf['Regions']==region) &\n",
    "                (gdf['included_i']==1)\n",
    "            ].sum()\n",
    "            # get regional volume\n",
    "            if scope=='benthic': # take fraction for bottom-level volume\n",
    "                RegionVolume = ssm['siglev_diff'][-1]/100*volume[\n",
    "                    (gdf['Regions']==region) &\n",
    "                    (gdf['included_i']==1)\n",
    "                ].sum()\n",
    "            else: # water column\n",
    "                RegionVolume = volume[\n",
    "                    (gdf['Regions']==region) &\n",
    "                    (gdf['included_i']==1)\n",
    "                ].sum()\n",
    "            PercentVolumeDays[run_type][region]=100*(\n",
    "                VolumeDays[run_type][region]/(RegionVolume*ndays)\n",
    "            )\n",
    "     \n",
    "        # Add sum across all region to the dataframe\n",
    "        DaysDOXGBelowThresh[run_type]['TOTAL'] = np.array(\n",
    "            [DaysDOXGBelowThresh[run_type][region] for region in [*DaysDOXGBelowThresh[run_type]]]\n",
    "        ).sum()\n",
    "        VolumeDays[run_type]['TOTAL'] = np.array(\n",
    "            [VolumeDays[run_type][region] for region in [*VolumeDays[run_type]]]\n",
    "        ).sum()\n",
    "        PercentVolumeDays[run_type]['TOTAL'] = np.array(\n",
    "            [PercentVolumeDays[run_type][region] for region in [*PercentVolumeDays[run_type]]]\n",
    "        ).sum()\n",
    "    # Convert to dataframe and organize information\n",
    "    DaysDOXGBelowThresh_df = pandas.DataFrame(DaysDOXGBelowThresh)\n",
    "    DaysDOXGBelowThresh_df = DaysDOXGBelowThresh_df.rename(columns=ssm['run_information']['run_tag'])\n",
    "    DaysDOXGBelowThresh_df = DaysDOXGBelowThresh_df.reindex(columns=['Present Day','Reference','1b','1c','1d','1e','2a','2b'])\n",
    "    # Percent of volume over the year in each region where DOXG change < threshold\n",
    "    VolumeDays_df = pandas.DataFrame(VolumeDays)\n",
    "    VolumeDays_df = VolumeDays_df.rename(columns=ssm['run_information']['run_tag'])\n",
    "    VolumeDays_df = VolumeDays_df.reindex(columns=['Present Day','Reference','1b','1c','1d','1e','2a','2b'])\n",
    "    # Percent of cumulative volume over the year in eash region where DOXG change < threshold\n",
    "    PercentVolumeDays_df = pandas.DataFrame(PercentVolumeDays)\n",
    "    PercentVolumeDays_df = PercentVolumeDays_df.rename(columns=ssm['run_information']['run_tag'])\n",
    "    PercentVolumeDays_df = PercentVolumeDays_df.reindex(columns=['Present Day','Reference','1b','1c','1d','1e','2a','2b'])\n",
    "    return DaysDOXGBelowThresh_df,VolumeDays_df,PercentVolumeDays_df"
   ]
  },
  {
   "cell_type": "code",
   "execution_count": 8,
   "id": "95d8c27f-3d79-4707-ab67-27d92a849316",
   "metadata": {},
   "outputs": [
    {
     "name": "stdout",
     "output_type": "stream",
     "text": [
      "['DOXG_daily_min']\n",
      "(361, 10, 4144)\n",
      "['DOXG_daily_min']\n",
      "(361, 10, 4144)\n",
      "['DOXG_daily_min']\n",
      "(361, 10, 4144)\n",
      "['DOXG_daily_min']\n",
      "(361, 10, 4144)\n",
      "['DOXG_daily_min']\n",
      "(361, 10, 4144)\n",
      "['DOXG_daily_min']\n",
      "(361, 10, 4144)\n",
      "['DOXG_daily_min']\n",
      "(361, 10, 4144)\n",
      "['DOXG_daily_min']\n",
      "(361, 10, 4144)\n",
      "wqm_reference\n",
      "1c_all_sog_riv_off\n",
      "2b_sog_river_2times\n",
      "wqm_baseline\n",
      "2a_sog_river_0.5times\n",
      "1d_small_sog_wwtp_off\n",
      "1e_med_sog_wwtp_off\n",
      "1b_all_sog_wwtp_off\n",
      "CPU times: user 22.7 s, sys: 12min 8s, total: 12min 30s\n",
      "Wall time: 12min 38s\n"
     ]
    },
    {
     "data": {
      "text/html": [
       "<div>\n",
       "<style scoped>\n",
       "    .dataframe tbody tr th:only-of-type {\n",
       "        vertical-align: middle;\n",
       "    }\n",
       "\n",
       "    .dataframe tbody tr th {\n",
       "        vertical-align: top;\n",
       "    }\n",
       "\n",
       "    .dataframe thead th {\n",
       "        text-align: right;\n",
       "    }\n",
       "</style>\n",
       "<table border=\"1\" class=\"dataframe\">\n",
       "  <thead>\n",
       "    <tr style=\"text-align: right;\">\n",
       "      <th></th>\n",
       "      <th>Present Day</th>\n",
       "      <th>Reference</th>\n",
       "      <th>1b</th>\n",
       "      <th>1c</th>\n",
       "      <th>1d</th>\n",
       "      <th>1e</th>\n",
       "      <th>2a</th>\n",
       "      <th>2b</th>\n",
       "    </tr>\n",
       "  </thead>\n",
       "  <tbody>\n",
       "    <tr>\n",
       "      <th>Hood</th>\n",
       "      <td>462.068315</td>\n",
       "      <td>458.192754</td>\n",
       "      <td>462.057220</td>\n",
       "      <td>462.038869</td>\n",
       "      <td>462.065614</td>\n",
       "      <td>462.060520</td>\n",
       "      <td>462.056920</td>\n",
       "      <td>462.089085</td>\n",
       "    </tr>\n",
       "    <tr>\n",
       "      <th>Main</th>\n",
       "      <td>439.286866</td>\n",
       "      <td>430.428173</td>\n",
       "      <td>439.264454</td>\n",
       "      <td>439.205089</td>\n",
       "      <td>439.281938</td>\n",
       "      <td>439.267711</td>\n",
       "      <td>439.242669</td>\n",
       "      <td>439.348856</td>\n",
       "    </tr>\n",
       "    <tr>\n",
       "      <th>SFJAdmiralty</th>\n",
       "      <td>730.566877</td>\n",
       "      <td>730.160349</td>\n",
       "      <td>730.558332</td>\n",
       "      <td>730.568212</td>\n",
       "      <td>730.565565</td>\n",
       "      <td>730.558538</td>\n",
       "      <td>730.568304</td>\n",
       "      <td>730.556543</td>\n",
       "    </tr>\n",
       "    <tr>\n",
       "      <th>SOG_Bellinghham</th>\n",
       "      <td>578.980438</td>\n",
       "      <td>578.257091</td>\n",
       "      <td>578.953275</td>\n",
       "      <td>578.999940</td>\n",
       "      <td>578.976525</td>\n",
       "      <td>578.955574</td>\n",
       "      <td>578.995686</td>\n",
       "      <td>578.962479</td>\n",
       "    </tr>\n",
       "    <tr>\n",
       "      <th>SouthSound</th>\n",
       "      <td>254.849501</td>\n",
       "      <td>242.191342</td>\n",
       "      <td>254.825536</td>\n",
       "      <td>254.742800</td>\n",
       "      <td>254.845664</td>\n",
       "      <td>254.832794</td>\n",
       "      <td>254.794006</td>\n",
       "      <td>254.953263</td>\n",
       "    </tr>\n",
       "    <tr>\n",
       "      <th>Whidbey</th>\n",
       "      <td>268.512106</td>\n",
       "      <td>254.127153</td>\n",
       "      <td>268.493849</td>\n",
       "      <td>268.334569</td>\n",
       "      <td>268.509394</td>\n",
       "      <td>268.501091</td>\n",
       "      <td>268.440990</td>\n",
       "      <td>268.671375</td>\n",
       "    </tr>\n",
       "    <tr>\n",
       "      <th>TOTAL</th>\n",
       "      <td>2734.264103</td>\n",
       "      <td>2693.356862</td>\n",
       "      <td>2734.152667</td>\n",
       "      <td>2733.889479</td>\n",
       "      <td>2734.244701</td>\n",
       "      <td>2734.176228</td>\n",
       "      <td>2734.098575</td>\n",
       "      <td>2734.581601</td>\n",
       "    </tr>\n",
       "  </tbody>\n",
       "</table>\n",
       "</div>"
      ],
      "text/plain": [
       "                 Present Day    Reference           1b           1c  \\\n",
       "Hood              462.068315   458.192754   462.057220   462.038869   \n",
       "Main              439.286866   430.428173   439.264454   439.205089   \n",
       "SFJAdmiralty      730.566877   730.160349   730.558332   730.568212   \n",
       "SOG_Bellinghham   578.980438   578.257091   578.953275   578.999940   \n",
       "SouthSound        254.849501   242.191342   254.825536   254.742800   \n",
       "Whidbey           268.512106   254.127153   268.493849   268.334569   \n",
       "TOTAL            2734.264103  2693.356862  2734.152667  2733.889479   \n",
       "\n",
       "                          1d           1e           2a           2b  \n",
       "Hood              462.065614   462.060520   462.056920   462.089085  \n",
       "Main              439.281938   439.267711   439.242669   439.348856  \n",
       "SFJAdmiralty      730.565565   730.558538   730.568304   730.556543  \n",
       "SOG_Bellinghham   578.976525   578.955574   578.995686   578.962479  \n",
       "SouthSound        254.845664   254.832794   254.794006   254.953263  \n",
       "Whidbey           268.509394   268.501091   268.440990   268.671375  \n",
       "TOTAL            2734.244701  2734.176228  2734.098575  2734.581601  "
      ]
     },
     "execution_count": 8,
     "metadata": {},
     "output_type": "execute_result"
    }
   ],
   "source": [
    "%%time\n",
    "H={} #DOXG below threshold\n",
    "VD={} #volume days\n",
    "PVD={} # percent volume days\n",
    "H['DO_std'],VD['DO_std'], PVD['DO_std']=calc_below_threshold(\n",
    "    'DO_standard', shp, scope)\n",
    "PVD['DO_std']"
   ]
  },
  {
   "cell_type": "code",
   "execution_count": 9,
   "id": "782d3d24-12d5-4f36-8338-df2dd0770384",
   "metadata": {},
   "outputs": [
    {
     "name": "stdout",
     "output_type": "stream",
     "text": [
      "['DOXG_daily_min']\n",
      "(361, 10, 4144)\n",
      "['DOXG_daily_min']\n",
      "(361, 10, 4144)\n",
      "['DOXG_daily_min']\n",
      "(361, 10, 4144)\n",
      "['DOXG_daily_min']\n",
      "(361, 10, 4144)\n",
      "['DOXG_daily_min']\n",
      "(361, 10, 4144)\n",
      "['DOXG_daily_min']\n",
      "(361, 10, 4144)\n",
      "['DOXG_daily_min']\n",
      "(361, 10, 4144)\n",
      "['DOXG_daily_min']\n",
      "(361, 10, 4144)\n",
      "wqm_reference\n",
      "1c_all_sog_riv_off\n",
      "2b_sog_river_2times\n",
      "wqm_baseline\n",
      "2a_sog_river_0.5times\n",
      "1d_small_sog_wwtp_off\n",
      "1e_med_sog_wwtp_off\n",
      "1b_all_sog_wwtp_off\n",
      "CPU times: user 22.9 s, sys: 12min 7s, total: 12min 29s\n",
      "Wall time: 12min 34s\n"
     ]
    },
    {
     "data": {
      "text/html": [
       "<div>\n",
       "<style scoped>\n",
       "    .dataframe tbody tr th:only-of-type {\n",
       "        vertical-align: middle;\n",
       "    }\n",
       "\n",
       "    .dataframe tbody tr th {\n",
       "        vertical-align: top;\n",
       "    }\n",
       "\n",
       "    .dataframe thead th {\n",
       "        text-align: right;\n",
       "    }\n",
       "</style>\n",
       "<table border=\"1\" class=\"dataframe\">\n",
       "  <thead>\n",
       "    <tr style=\"text-align: right;\">\n",
       "      <th></th>\n",
       "      <th>Present Day</th>\n",
       "      <th>Reference</th>\n",
       "      <th>1b</th>\n",
       "      <th>1c</th>\n",
       "      <th>1d</th>\n",
       "      <th>1e</th>\n",
       "      <th>2a</th>\n",
       "      <th>2b</th>\n",
       "    </tr>\n",
       "  </thead>\n",
       "  <tbody>\n",
       "    <tr>\n",
       "      <th>Hood</th>\n",
       "      <td>10.111491</td>\n",
       "      <td>8.361224</td>\n",
       "      <td>10.101732</td>\n",
       "      <td>10.049673</td>\n",
       "      <td>10.109265</td>\n",
       "      <td>10.104856</td>\n",
       "      <td>10.082336</td>\n",
       "      <td>10.168124</td>\n",
       "    </tr>\n",
       "    <tr>\n",
       "      <th>Main</th>\n",
       "      <td>0.000135</td>\n",
       "      <td>0.000019</td>\n",
       "      <td>0.000135</td>\n",
       "      <td>0.000135</td>\n",
       "      <td>0.000135</td>\n",
       "      <td>0.000135</td>\n",
       "      <td>0.000135</td>\n",
       "      <td>0.000140</td>\n",
       "    </tr>\n",
       "    <tr>\n",
       "      <th>SFJAdmiralty</th>\n",
       "      <td>0.018834</td>\n",
       "      <td>0.018137</td>\n",
       "      <td>0.018834</td>\n",
       "      <td>0.018722</td>\n",
       "      <td>0.018834</td>\n",
       "      <td>0.018834</td>\n",
       "      <td>0.018826</td>\n",
       "      <td>0.018911</td>\n",
       "    </tr>\n",
       "    <tr>\n",
       "      <th>SOG_Bellinghham</th>\n",
       "      <td>0.012143</td>\n",
       "      <td>0.010254</td>\n",
       "      <td>0.011509</td>\n",
       "      <td>0.010254</td>\n",
       "      <td>0.012143</td>\n",
       "      <td>0.011555</td>\n",
       "      <td>0.011232</td>\n",
       "      <td>0.015088</td>\n",
       "    </tr>\n",
       "    <tr>\n",
       "      <th>SouthSound</th>\n",
       "      <td>0.013458</td>\n",
       "      <td>0.002578</td>\n",
       "      <td>0.013458</td>\n",
       "      <td>0.013297</td>\n",
       "      <td>0.013458</td>\n",
       "      <td>0.013458</td>\n",
       "      <td>0.013458</td>\n",
       "      <td>0.013851</td>\n",
       "    </tr>\n",
       "    <tr>\n",
       "      <th>Whidbey</th>\n",
       "      <td>0.081937</td>\n",
       "      <td>0.039263</td>\n",
       "      <td>0.081497</td>\n",
       "      <td>0.081060</td>\n",
       "      <td>0.081937</td>\n",
       "      <td>0.081497</td>\n",
       "      <td>0.081497</td>\n",
       "      <td>0.082084</td>\n",
       "    </tr>\n",
       "    <tr>\n",
       "      <th>TOTAL</th>\n",
       "      <td>10.237997</td>\n",
       "      <td>8.431475</td>\n",
       "      <td>10.227164</td>\n",
       "      <td>10.173140</td>\n",
       "      <td>10.235772</td>\n",
       "      <td>10.230334</td>\n",
       "      <td>10.207483</td>\n",
       "      <td>10.298199</td>\n",
       "    </tr>\n",
       "  </tbody>\n",
       "</table>\n",
       "</div>"
      ],
      "text/plain": [
       "                 Present Day  Reference         1b         1c         1d  \\\n",
       "Hood               10.111491   8.361224  10.101732  10.049673  10.109265   \n",
       "Main                0.000135   0.000019   0.000135   0.000135   0.000135   \n",
       "SFJAdmiralty        0.018834   0.018137   0.018834   0.018722   0.018834   \n",
       "SOG_Bellinghham     0.012143   0.010254   0.011509   0.010254   0.012143   \n",
       "SouthSound          0.013458   0.002578   0.013458   0.013297   0.013458   \n",
       "Whidbey             0.081937   0.039263   0.081497   0.081060   0.081937   \n",
       "TOTAL              10.237997   8.431475  10.227164  10.173140  10.235772   \n",
       "\n",
       "                        1e         2a         2b  \n",
       "Hood             10.104856  10.082336  10.168124  \n",
       "Main              0.000135   0.000135   0.000140  \n",
       "SFJAdmiralty      0.018834   0.018826   0.018911  \n",
       "SOG_Bellinghham   0.011555   0.011232   0.015088  \n",
       "SouthSound        0.013458   0.013458   0.013851  \n",
       "Whidbey           0.081497   0.081497   0.082084  \n",
       "TOTAL            10.230334  10.207483  10.298199  "
      ]
     },
     "execution_count": 9,
     "metadata": {},
     "output_type": "execute_result"
    }
   ],
   "source": [
    "%%time\n",
    "DO_thresh=2\n",
    "H['2'], VD['2'], PVD['2']=calc_below_threshold(DO_thresh, shp, scope)\n",
    "PVD['2']"
   ]
  },
  {
   "cell_type": "code",
   "execution_count": 10,
   "id": "102ab10e-e4dc-45e4-85a9-a86f37d25920",
   "metadata": {
    "tags": []
   },
   "outputs": [
    {
     "name": "stdout",
     "output_type": "stream",
     "text": [
      "['DOXG_daily_min']\n",
      "(361, 10, 4144)\n",
      "['DOXG_daily_min']\n",
      "(361, 10, 4144)\n",
      "['DOXG_daily_min']\n",
      "(361, 10, 4144)\n",
      "['DOXG_daily_min']\n",
      "(361, 10, 4144)\n",
      "['DOXG_daily_min']\n",
      "(361, 10, 4144)\n",
      "['DOXG_daily_min']\n",
      "(361, 10, 4144)\n",
      "['DOXG_daily_min']\n",
      "(361, 10, 4144)\n",
      "['DOXG_daily_min']\n",
      "(361, 10, 4144)\n",
      "wqm_reference\n",
      "1c_all_sog_riv_off\n",
      "2b_sog_river_2times\n",
      "wqm_baseline\n",
      "2a_sog_river_0.5times\n",
      "1d_small_sog_wwtp_off\n",
      "1e_med_sog_wwtp_off\n",
      "1b_all_sog_wwtp_off\n",
      "CPU times: user 23.3 s, sys: 12min 7s, total: 12min 30s\n",
      "Wall time: 12min 34s\n"
     ]
    },
    {
     "data": {
      "text/html": [
       "<div>\n",
       "<style scoped>\n",
       "    .dataframe tbody tr th:only-of-type {\n",
       "        vertical-align: middle;\n",
       "    }\n",
       "\n",
       "    .dataframe tbody tr th {\n",
       "        vertical-align: top;\n",
       "    }\n",
       "\n",
       "    .dataframe thead th {\n",
       "        text-align: right;\n",
       "    }\n",
       "</style>\n",
       "<table border=\"1\" class=\"dataframe\">\n",
       "  <thead>\n",
       "    <tr style=\"text-align: right;\">\n",
       "      <th></th>\n",
       "      <th>Present Day</th>\n",
       "      <th>Reference</th>\n",
       "      <th>1b</th>\n",
       "      <th>1c</th>\n",
       "      <th>1d</th>\n",
       "      <th>1e</th>\n",
       "      <th>2a</th>\n",
       "      <th>2b</th>\n",
       "    </tr>\n",
       "  </thead>\n",
       "  <tbody>\n",
       "    <tr>\n",
       "      <th>Hood</th>\n",
       "      <td>234.559995</td>\n",
       "      <td>228.265732</td>\n",
       "      <td>234.529142</td>\n",
       "      <td>234.379398</td>\n",
       "      <td>234.552128</td>\n",
       "      <td>234.539976</td>\n",
       "      <td>234.470607</td>\n",
       "      <td>234.756986</td>\n",
       "    </tr>\n",
       "    <tr>\n",
       "      <th>Main</th>\n",
       "      <td>28.245747</td>\n",
       "      <td>19.965284</td>\n",
       "      <td>28.217717</td>\n",
       "      <td>28.072442</td>\n",
       "      <td>28.238500</td>\n",
       "      <td>28.226342</td>\n",
       "      <td>28.157495</td>\n",
       "      <td>28.426219</td>\n",
       "    </tr>\n",
       "    <tr>\n",
       "      <th>SFJAdmiralty</th>\n",
       "      <td>419.398338</td>\n",
       "      <td>418.893924</td>\n",
       "      <td>419.387856</td>\n",
       "      <td>419.374120</td>\n",
       "      <td>419.397341</td>\n",
       "      <td>419.390626</td>\n",
       "      <td>419.385274</td>\n",
       "      <td>419.443915</td>\n",
       "    </tr>\n",
       "    <tr>\n",
       "      <th>SOG_Bellinghham</th>\n",
       "      <td>212.922461</td>\n",
       "      <td>211.727027</td>\n",
       "      <td>212.887170</td>\n",
       "      <td>212.783898</td>\n",
       "      <td>212.919662</td>\n",
       "      <td>212.894987</td>\n",
       "      <td>212.845855</td>\n",
       "      <td>213.079347</td>\n",
       "    </tr>\n",
       "    <tr>\n",
       "      <th>SouthSound</th>\n",
       "      <td>15.096801</td>\n",
       "      <td>10.368231</td>\n",
       "      <td>15.088598</td>\n",
       "      <td>15.021201</td>\n",
       "      <td>15.094860</td>\n",
       "      <td>15.090096</td>\n",
       "      <td>15.058805</td>\n",
       "      <td>15.166802</td>\n",
       "    </tr>\n",
       "    <tr>\n",
       "      <th>Whidbey</th>\n",
       "      <td>91.992979</td>\n",
       "      <td>76.734087</td>\n",
       "      <td>91.958655</td>\n",
       "      <td>91.770736</td>\n",
       "      <td>91.984033</td>\n",
       "      <td>91.965194</td>\n",
       "      <td>91.890099</td>\n",
       "      <td>92.214295</td>\n",
       "    </tr>\n",
       "    <tr>\n",
       "      <th>TOTAL</th>\n",
       "      <td>1002.216320</td>\n",
       "      <td>965.954285</td>\n",
       "      <td>1002.069137</td>\n",
       "      <td>1001.401794</td>\n",
       "      <td>1002.186525</td>\n",
       "      <td>1002.107221</td>\n",
       "      <td>1001.808135</td>\n",
       "      <td>1003.087563</td>\n",
       "    </tr>\n",
       "  </tbody>\n",
       "</table>\n",
       "</div>"
      ],
      "text/plain": [
       "                 Present Day   Reference           1b           1c  \\\n",
       "Hood              234.559995  228.265732   234.529142   234.379398   \n",
       "Main               28.245747   19.965284    28.217717    28.072442   \n",
       "SFJAdmiralty      419.398338  418.893924   419.387856   419.374120   \n",
       "SOG_Bellinghham   212.922461  211.727027   212.887170   212.783898   \n",
       "SouthSound         15.096801   10.368231    15.088598    15.021201   \n",
       "Whidbey            91.992979   76.734087    91.958655    91.770736   \n",
       "TOTAL            1002.216320  965.954285  1002.069137  1001.401794   \n",
       "\n",
       "                          1d           1e           2a           2b  \n",
       "Hood              234.552128   234.539976   234.470607   234.756986  \n",
       "Main               28.238500    28.226342    28.157495    28.426219  \n",
       "SFJAdmiralty      419.397341   419.390626   419.385274   419.443915  \n",
       "SOG_Bellinghham   212.919662   212.894987   212.845855   213.079347  \n",
       "SouthSound         15.094860    15.090096    15.058805    15.166802  \n",
       "Whidbey            91.984033    91.965194    91.890099    92.214295  \n",
       "TOTAL            1002.186525  1002.107221  1001.808135  1003.087563  "
      ]
     },
     "execution_count": 10,
     "metadata": {},
     "output_type": "execute_result"
    }
   ],
   "source": [
    "%%time\n",
    "DO_thresh=5\n",
    "H['5'], VD['5'], PVD['5']=calc_below_threshold(DO_thresh, shp, scope)\n",
    "PVD['5']"
   ]
  },
  {
   "cell_type": "markdown",
   "id": "0511d363-aad1-4bd9-8ae9-a804daeff4ff",
   "metadata": {},
   "source": [
    "## Write to two files, one each for: \n",
    "- Impaired\n",
    "- Hypoxic"
   ]
  },
  {
   "cell_type": "code",
   "execution_count": 11,
   "id": "0977933c-b281-4322-8406-93735e91f0f7",
   "metadata": {},
   "outputs": [],
   "source": [
    "this_file = '=HYPERLINK(\"https://github.com/RachaelDMueller/KingCounty-Rachael/blob/main/notebooks/dev_days_impaired.ipynb\",\"dev_days_impaired.ipynb\")'\n",
    "run_description = '=HYPERLINK(\"https://uwnetid.sharepoint.com/:x:/r/sites/og_uwt_psi/Shared%20Documents/Nutrient%20Science/9.%20Modeling/Municipal%20%20model%20runs%20and%20scripting%20task%20list_0803.xlsx?d=wc2379d95258844a0b0b611347c90e748&csf=1&web=1&e=ENBajh\", \"Municipal  model runs and scripting task list\")'\n",
    "ndays = 'Number of days where DO < threshold anywhere in Region (or in benthic layer of region if benthic case)'\n",
    "vd = 'Total volume of cells in region that experienced DO < threshold over the course of the year'\n",
    "pvd='Percent of regional volume that experienced DO < threshold over the course of the year'\n",
    "\n",
    "created_by = 'Rachael D. Mueller'\n",
    "created_on = date.today().strftime(\"%B %d, %Y\")\n",
    "header = {\n",
    "    ' ':[created_by, created_on, this_file, run_description, ndays, vd, pvd]\n",
    "}\n",
    "header_df = pandas.DataFrame(header, index=['Created by:',\n",
    "                               'Created on:',\n",
    "                               'Created with:',\n",
    "                               'Reference:',\n",
    "                               'Number_of_Days',\n",
    "                               'Volume_Days [km^3]',\n",
    "                               'Percent_Volume_Days'])\n",
    "\n",
    "excel_output_path = pathlib.Path(ssm['paths']['processed_output'])/case\n",
    "if os.path.exists(excel_output_path)==False:\n",
    "        print(f'creating: {excel_output_path}')\n",
    "        os.umask(0) #clears permissions\n",
    "        os.makedirs(excel_output_path, mode=0o777,exist_ok=True)\n",
    "with pandas.ExcelWriter(excel_output_path/f'{case}_{scope}_DO-lt-DOstd.xlsx', mode='w') as writer:  \n",
    "    H['DO_std'].to_excel(writer, sheet_name='Number_of_Days')\n",
    "    VD['DO_std'].to_excel(writer, sheet_name='Volume_Days')\n",
    "    PVD['DO_std'].to_excel(writer, sheet_name='Percent_Volume_Days')\n",
    "    header_df.to_excel(writer, sheet_name='README')\n",
    "with pandas.ExcelWriter(excel_output_path/f'{case}_{scope}_DO-lt-2.xlsx', mode='w') as writer:  \n",
    "    H['2'].to_excel(writer, sheet_name='Number_of_Days')\n",
    "    VD['2'].to_excel(writer, sheet_name='Volume_Days')\n",
    "    PVD['2'].to_excel(writer, sheet_name='Percent_Volume_Days')\n",
    "    header_df.to_excel(writer, sheet_name='README')\n",
    "with pandas.ExcelWriter(excel_output_path/f'{case}_{scope}_DO-lt-5.xlsx', mode='w') as writer:  \n",
    "    H['5'].to_excel(writer, sheet_name='Number_of_Days')\n",
    "    VD['5'].to_excel(writer, sheet_name='Volume_Days')\n",
    "    PVD['5'].to_excel(writer, sheet_name='Percent_Volume_Days')\n",
    "    header_df.to_excel(writer, sheet_name='README')\n"
   ]
  },
  {
   "cell_type": "markdown",
   "id": "552fdda3-23da-406a-8ad6-16fb8f2c0e54",
   "metadata": {},
   "source": [
    "### Impaired\n",
    "As defined by the Optimization Scenario Report Appendix F, version(?) B (add link/definition)"
   ]
  },
  {
   "cell_type": "code",
   "execution_count": 12,
   "id": "9d01ddb7-1519-4ead-aebd-7bf2e7ed76e2",
   "metadata": {},
   "outputs": [],
   "source": [
    "def calc_impaired(shp, scope, impairment=-0.2):\n",
    "    \"\"\" \n",
    "    \"\"\"\n",
    "    # Initialize dictionaries\n",
    "    MinDO_full={} # Min, daily DO over all nodes\n",
    "    MinDO={} # Min, daily DO over all nodes in shapefile\n",
    "    DO_diff_lt_0p2={} # Boolean where DO<threshold\n",
    "    DO_diff_lt_0p2_days={} # Number of days where DOBelowThresh = True\n",
    "    DaysImpaired={} # Sum of days across regions\n",
    "    VolumeDaysImpaired={} # Percent of volume within region where DO<threshold\n",
    "    PercentVolumeDaysImpaired={}\n",
    "     \n",
    "    # Define dimension sizes and load shapefile\n",
    "    gdf = gpd.read_file(shp)\n",
    "    gdf = gdf.rename(columns={'region_inf':'Regions'})\n",
    "    regions = gdf[['node_id','Regions']].groupby('Regions').count().index.to_list()\n",
    "    regions.remove('Other')\n",
    "    \n",
    "    [Nnodes,nattrs]=gdf.shape\n",
    "    Nlevels=10\n",
    "    # Calculate volume for volume days\n",
    "    if scope=='benthic':\n",
    "        volume = np.asarray(gdf.volume*ssm['siglev_diff'][-1]/100) # just the bottom level\n",
    "    else: # water column\n",
    "        volume = np.asarray(gdf.volume)\n",
    "        depth_fraction = np.array(ssm['siglev_diff'])/100\n",
    "        volume2D = np.dot(volume.reshape(Nnodes,1),depth_fraction.reshape(1,Nlevels))\n",
    "    \n",
    "    # Get path for model output\n",
    "    model_var='DOXG' \n",
    "    processed_netcdf_dir = pathlib.Path(ssm['paths']['processed_output'])/model_var\n",
    "    \n",
    "    # Get list of run sub-directories in processed netcdf directory\n",
    "    dir_list = os.listdir(processed_netcdf_dir)\n",
    "    \n",
    "    # Load all runs   \n",
    "    if scope=='benthic':\n",
    "        for run_dir in dir_list:\n",
    "            try: \n",
    "                run_file=processed_netcdf_dir/run_dir/'bottom'/f'daily_min_{model_var}_bottom.nc'\n",
    "                with xarray.open_dataset(run_file) as ds:\n",
    "                    print([*ds])\n",
    "                    MinDO_full[run_dir]=ds[f'{model_var}_daily_min_bottom']\n",
    "                    # Sub-sample nodes (from 16012 nodes to 7494)\n",
    "                    MinDO[run_dir]=MinDO_full[run_dir][:,gdf['node_id']-1]\n",
    "                    print(MinDO[run_dir].shape)\n",
    "            except FileNotFoundError:\n",
    "                print(f'File Not Found: {run_file}')\n",
    "            if run_dir == dir_list[0]:\n",
    "                # Get number of days and nodes\n",
    "                [ndays,nnodes]=MinDO[run_dir].shape\n",
    "    else: # water column (with 10 levels)\n",
    "        for run_dir in dir_list:\n",
    "            try: \n",
    "                run_file=processed_netcdf_dir/run_dir/f'daily_min_{model_var}.nc'\n",
    "                with xarray.open_dataset(run_file) as ds:\n",
    "                    print([*ds])\n",
    "                    MinDO_full[run_dir]=ds[f'{model_var}_daily_min']\n",
    "                    # Sub-sample nodes (from 16012 nodes to 7494)\n",
    "                    MinDO[run_dir]=MinDO_full[run_dir][:,:,gdf['node_id']-1]\n",
    "                    print(MinDO[run_dir].shape)\n",
    "            except FileNotFoundError:\n",
    "                print(f'File Not Found: {run_file}')\n",
    "            if run_dir == dir_list[0]:\n",
    "                # Get number of days and nodes\n",
    "                [ndays,nlevels,nnodes]=MinDO[run_dir].shape\n",
    "\n",
    "    # Define reference run\n",
    "    reference = ssm['run_information']['reference']\n",
    "    dir_list.remove('wqm_reference')\n",
    "    \n",
    "    # Loop through all non-reference runs and calculate impairment\n",
    "    for run_type in dir_list:\n",
    "        print(f'Calculating difference for {run_type}')\n",
    "        # Create array of Dissolved Oxygen threshold values \n",
    "        DO_diff = MinDO[run_type] - MinDO[reference]\n",
    "        # Boolean where DO_diff<0.2\n",
    "        DO_diff_lt_0p2[run_type] = DO_diff<=impairment #361x4144 (nodes x time) or 361x10x4144\n",
    "        # Number of days where DO < threshold = True\n",
    "        if scope=='benthic':\n",
    "            DO_diff_lt_0p2_days[run_type]=DO_diff_lt_0p2[run_type].sum(axis=0) #4144 (nodes) or 10x4144\n",
    "            VolumeDays_all=volume*DO_diff_lt_0p2_days[run_type]\n",
    "        else: # water column: sum over days and take max value over depth\n",
    "            # First get a count of days impaired for each depth level\n",
    "            DO_diff_lt_0p2_days_wc=DO_diff_lt_0p2[run_type].sum(axis=0)\n",
    "            # Take max over depth to get result similar to benthic case where\n",
    "            # 1-day of impairement is counted if there is one or more levels impaired\n",
    "            DO_diff_lt_0p2_days[run_type]=DO_diff_lt_0p2[run_type].sum(axis=0).max(axis=0)\n",
    "            # Volume days: Use days impaired for each level  and element-wise \n",
    "            # multiplication of 10x4144 * 10x4144 matrices to get volume days by level\n",
    "            VolumeDays_wc=volume*DO_diff_lt_0p2_days_wc\n",
    "            # Add across levels to get total VolumeDays per node\n",
    "            VolumeDays_all = VolumeDays_wc.sum(axis=0)\n",
    "        \n",
    "        # Total number of days and percent volume days for each region\n",
    "        DaysImpaired[run_type]={}\n",
    "        VolumeDaysImpaired[run_type]={}\n",
    "        PercentVolumeDaysImpaired[run_type]={}\n",
    "        for region in regions:\n",
    "###            DaysImpaired[run_type][region]=np.array(DO_diff_lt_0p2_days[run_type])[\n",
    "###                (gdf['Regions']==region) &\n",
    "###                (gdf['included_i']==1)\n",
    "###            ].sum()\n",
    "            # create boolean of indices where True selects nodes of \n",
    "            # specified Region \n",
    "            idx = ((gdf['Regions']==region) &\n",
    "                (gdf['included_i']==1))            \n",
    "            # Note: The max of True/False will be True and initial sets False to zero.\n",
    "            # The \"where\" keywork specifies to only use values where idx=True,\n",
    "            # which in this case I set to specify the region.\n",
    "            if scope=='benthic':\n",
    "                # Assign the maximum (True) of DO < threshold occurrence across region\n",
    "                DaysImpaired[run_type][region] = DO_diff_lt_0p2[run_type].max(\n",
    "                    axis=1,where=idx,initial=0)\n",
    "            else:\n",
    "                # Assign the maximum (True) of DO < threshold occurrence across depths\n",
    "                DOBelowThresh_daysnodes = DO_diff_lt_0p2_days[run_type].max(axis=1,initial=0)\n",
    "                # Assign the maximum (True) of DO < threshold occurrence across region\n",
    "                DaysImpaired[run_type][region] = DOBelowThresh_daysnodes.max(\n",
    "                    axis=1,where=idx,initial=0)\n",
    "            \n",
    "            VolumeDaysImpaired[run_type][region]=np.array(VolumeDays_all)[\n",
    "                (gdf['Regions']==region) &\n",
    "                (gdf['included_i']==1)\n",
    "            ].sum()\n",
    "            # get regional volume\n",
    "            if scope=='benthic': # take fraction for bottom-level volume\n",
    "                RegionVolume = ssm['siglev_diff'][-1]/100*volume[\n",
    "                    (gdf['Regions']==region) &\n",
    "                    (gdf['included_i']==1)\n",
    "                ].sum()\n",
    "            else: # water column\n",
    "                RegionVolume = volume[\n",
    "                    (gdf['Regions']==region) &\n",
    "                    (gdf['included_i']==1)\n",
    "                ].sum()\n",
    "            PercentVolumeDaysImpaired[run_type][region]=100*(\n",
    "                VolumeDaysImpaired[run_type][region]/(RegionVolume*ndays)\n",
    "            )\n",
    "        # Add sum across all region to the dataframe\n",
    "        DaysImpaired[run_type]['TOTAL'] = np.array(\n",
    "            [DaysImpaired[run_type][region] for region in [*DaysImpaired[run_type]]]\n",
    "        ).sum()\n",
    "        VolumeDaysImpaired[run_type]['TOTAL'] = np.array(\n",
    "            [VolumeDaysImpaired[run_type][region] for region in [*VolumeDaysImpaired[run_type]]]\n",
    "        ).sum()\n",
    "        PercentVolumeDaysImpaired[run_type]['TOTAL'] = np.array(\n",
    "            [PercentVolumeDaysImpaired[run_type][region] for region in [*PercentVolumeDaysImpaired[run_type]]]\n",
    "        ).sum()\n",
    "    # Convert to dataframe and organize information\n",
    "    DaysImpaired_df = pandas.DataFrame(DaysImpaired)\n",
    "    DaysImpaired_df = DaysImpaired_df.rename(columns=ssm['run_information']['run_tag'])\n",
    "    DaysImpaired_df = DaysImpaired_df.reindex(columns=['Present Day','Reference','1b','1c','1d','1e','2a','2b'])\n",
    "    DaysImpaired_df = DaysImpaired_df.drop(['Reference'],axis=1) # drop empty column\n",
    "    # Percent of volume over the year in each region where DO change < threshold\n",
    "    VolumeDaysImpaired_df = pandas.DataFrame(VolumeDaysImpaired)\n",
    "    VolumeDaysImpaired_df = VolumeDaysImpaired_df.rename(\n",
    "        columns=ssm['run_information']['run_tag'])\n",
    "    VolumeDaysImpaired_df = VolumeDaysImpaired_df.reindex(\n",
    "        columns=['Present Day','Reference','1b','1c','1d','1e','2a','2b'])\n",
    "    VolumeDaysImpaired_df = VolumeDaysImpaired_df.drop(['Reference'],axis=1) # drop empty column\n",
    "    # Percent of cumulative volume over the year in eash region where DO change < threshold\n",
    "    PercentVolumeDaysImpaired_df = pandas.DataFrame(PercentVolumeDaysImpaired)\n",
    "    PercentVolumeDaysImpaired_df = PercentVolumeDaysImpaired_df.rename(\n",
    "        columns=ssm['run_information']['run_tag'])\n",
    "    PercentVolumeDaysImpaired_df = PercentVolumeDaysImpaired_df.reindex(\n",
    "        columns=['Present Day','Reference','1b','1c','1d','1e','2a','2b'])\n",
    "    VolumeDaysImpaired_df = VolumeDaysImpaired_df.drop(['Reference'],axis=1) # drop empty column\n",
    "    \n",
    "    return DaysImpaired_df,VolumeDaysImpaired_df,PercentVolumeDaysImpaired_df"
   ]
  },
  {
   "cell_type": "code",
   "execution_count": 13,
   "id": "f04523e7-9b93-441b-a67b-949df7a561a8",
   "metadata": {},
   "outputs": [
    {
     "name": "stdout",
     "output_type": "stream",
     "text": [
      "['DOXG_daily_min']\n",
      "(361, 10, 4144)\n",
      "['DOXG_daily_min']\n",
      "(361, 10, 4144)\n",
      "['DOXG_daily_min']\n",
      "(361, 10, 4144)\n",
      "['DOXG_daily_min']\n",
      "(361, 10, 4144)\n",
      "['DOXG_daily_min']\n",
      "(361, 10, 4144)\n",
      "['DOXG_daily_min']\n",
      "(361, 10, 4144)\n",
      "['DOXG_daily_min']\n",
      "(361, 10, 4144)\n",
      "['DOXG_daily_min']\n",
      "(361, 10, 4144)\n",
      "Calculating difference for 1c_all_sog_riv_off\n"
     ]
    },
    {
     "ename": "AttributeError",
     "evalue": "'dict' object has no attribute 'max'",
     "output_type": "error",
     "traceback": [
      "\u001b[0;31m---------------------------------------------------------------------------\u001b[0m",
      "\u001b[0;31mAttributeError\u001b[0m                            Traceback (most recent call last)",
      "File \u001b[0;32m<timed exec>:2\u001b[0m, in \u001b[0;36m<module>\u001b[0;34m\u001b[0m\n",
      "Input \u001b[0;32mIn [12]\u001b[0m, in \u001b[0;36mcalc_impaired\u001b[0;34m(shp, scope, impairment)\u001b[0m\n\u001b[1;32m    113\u001b[0m     DaysImpaired[run_type][region] \u001b[38;5;241m=\u001b[39m DO_diff_lt_0p2[run_type]\u001b[38;5;241m.\u001b[39mmax(\n\u001b[1;32m    114\u001b[0m         axis\u001b[38;5;241m=\u001b[39m\u001b[38;5;241m1\u001b[39m,where\u001b[38;5;241m=\u001b[39midx,initial\u001b[38;5;241m=\u001b[39m\u001b[38;5;241m0\u001b[39m)\n\u001b[1;32m    115\u001b[0m \u001b[38;5;28;01melse\u001b[39;00m:\n\u001b[1;32m    116\u001b[0m     \u001b[38;5;66;03m# Assign the maximum (True) of DO < threshold occurrence across depths\u001b[39;00m\n\u001b[0;32m--> 117\u001b[0m     DOBelowThresh_daysnodes \u001b[38;5;241m=\u001b[39m \u001b[43mDO_diff_lt_0p2_days\u001b[49m\u001b[38;5;241;43m.\u001b[39;49m\u001b[43mmax\u001b[49m(axis\u001b[38;5;241m=\u001b[39m\u001b[38;5;241m1\u001b[39m,initial\u001b[38;5;241m=\u001b[39m\u001b[38;5;241m0\u001b[39m)\n\u001b[1;32m    118\u001b[0m     \u001b[38;5;66;03m# Assign the maximum (True) of DO < threshold occurrence across region\u001b[39;00m\n\u001b[1;32m    119\u001b[0m     DaysImpaired[run_type][region] \u001b[38;5;241m=\u001b[39m DOBelowThresh_daysnodes\u001b[38;5;241m.\u001b[39mmax(\n\u001b[1;32m    120\u001b[0m         axis\u001b[38;5;241m=\u001b[39m\u001b[38;5;241m1\u001b[39m,where\u001b[38;5;241m=\u001b[39midx,initial\u001b[38;5;241m=\u001b[39m\u001b[38;5;241m0\u001b[39m)\n",
      "\u001b[0;31mAttributeError\u001b[0m: 'dict' object has no attribute 'max'"
     ]
    }
   ],
   "source": [
    "%%time\n",
    "scope = 'wc'\n",
    "DaysImpaired_df,VolumeDays_df,PercentVolumeDays_df = calc_impaired(shp, scope)"
   ]
  },
  {
   "cell_type": "code",
   "execution_count": 14,
   "id": "92d3b8dc-9b6f-4deb-b99e-0ae9217a4be0",
   "metadata": {},
   "outputs": [
    {
     "ename": "SyntaxError",
     "evalue": "unterminated string literal (detected at line 4) (1072400924.py, line 4)",
     "output_type": "error",
     "traceback": [
      "\u001b[0;36m  Input \u001b[0;32mIn [14]\u001b[0;36m\u001b[0m\n\u001b[0;31m    vd = 'Total volume of cells in region (or benthic layer in region) that experienced DO(scenario) - DO(reference) < -0.2 over the course of the years\"\u001b[0m\n\u001b[0m         ^\u001b[0m\n\u001b[0;31mSyntaxError\u001b[0m\u001b[0;31m:\u001b[0m unterminated string literal (detected at line 4)\n"
     ]
    }
   ],
   "source": [
    "this_file = '=HYPERLINK(\"https://github.com/RachaelDMueller/KingCounty-Rachael/blob/main/notebooks/dev_days_impaired.ipynb\",\"dev_days_impaired.ipynb\")'\n",
    "run_description = '=HYPERLINK(\"https://uwnetid.sharepoint.com/:x:/r/sites/og_uwt_psi/Shared%20Documents/Nutrient%20Science/9.%20Modeling/Municipal%20%20model%20runs%20and%20scripting%20task%20list_0803.xlsx?d=wc2379d95258844a0b0b611347c90e748&csf=1&web=1&e=ENBajh\", \"Municipal  model runs and scripting task list\")'\n",
    "ndays = 'Number of days where DO(scenario) - DO(reference) < -0.2 anywhere in Region (or in benthic layer of region if benthic case)'\n",
    "vd = 'Total volume of cells in region (or benthic layer in region) that experienced DO(scenario) - DO(reference) < -0.2 over the course of the years\"\n",
    "pvd='Percent of regional (or benthic) volume that experienced DO(scenario) - DO(reference) < -0.2 over the course of the year'\n",
    "\n",
    "created_by = 'Rachael D. Mueller'\n",
    "created_on = date.today().strftime(\"%B %d, %Y\")\n",
    "header = {\n",
    "    ' ':[created_by, created_on, this_file, run_description, ndays, vd, pvd]\n",
    "}\n",
    "header_df = pandas.DataFrame(header, index=['Created by:',\n",
    "                               'Created on:',\n",
    "                               'Created with:',\n",
    "                               'Reference:',\n",
    "                               'Impaired_Days',\n",
    "                               'Volume_Days [km^3]',\n",
    "                               'Percent_Volume_Days'])\n",
    "\n",
    "excel_output_path = pathlib.Path(ssm['paths']['processed_output'])/case   \n",
    "if os.path.exists(excel_output_path)==False:\n",
    "        print(f'creating: {excel_output_path}')\n",
    "        os.umask(0) #clears permissions\n",
    "        os.makedirs(excel_output_path, mode=0o777,exist_ok=True)\n",
    "with pandas.ExcelWriter(excel_output_path/f'{case}_{scope}_impaired.xlsx', mode='w') as writer:  \n",
    "    DaysImpaired_df.to_excel(writer, sheet_name='Impaired_Days')\n",
    "    VolumeDays_df.to_excel(writer, sheet_name='Volume_Days')\n",
    "    PercentVolumeDays_df.to_excel(writer, sheet_name='Percent_Volume_Days')\n",
    "    header_df.to_excel(writer, sheet_name='README')"
   ]
  },
  {
   "cell_type": "code",
   "execution_count": null,
   "id": "b9cfbe6c-0ce3-4751-8927-899a8bd5e74b",
   "metadata": {},
   "outputs": [],
   "source": []
  },
  {
   "cell_type": "markdown",
   "id": "05bc4fa9-9e0d-4d8c-b299-da9af74e9c76",
   "metadata": {},
   "source": [
    "## Test water columns calculation"
   ]
  },
  {
   "cell_type": "code",
   "execution_count": null,
   "id": "7be9fff3-469a-47ad-9fa5-b7141b0367ab",
   "metadata": {},
   "outputs": [],
   "source": [
    "benthic_file=processed_netcdf_dir/run_dir/'bottom'/f'daily_{np_operator}_{model_var}_bottom.nc'\n",
    "with xarray.open_dataset(benthic_file) as ds:\n",
    "    print([*ds])\n",
    "    MinDO_full=ds[f'{model_var}_daily_{np_operator}_bottom']\n",
    "    # Sub-sample basin footprint (from 16012 nodes to 7494)\n",
    "    MinDO=MinDO_full[:,gdf['node_id']-1]"
   ]
  },
  {
   "cell_type": "code",
   "execution_count": null,
   "id": "392d668d-dd9c-4da6-a6fb-f3a6f0d5ccb6",
   "metadata": {},
   "outputs": [],
   "source": [
    "wc_file = processed_netcdf_dir/run_dir/f'daily_{np_operator}_{model_var}.nc'\n",
    "with xarray.open_dataset(wc_file) as ds:\n",
    "    print([*ds])\n",
    "    MinDO_wc=ds[f'{model_var}_daily_{np_operator}']\n",
    "    MinDO=MinDO_wc[:,:,gdf['node_id']-1]\n",
    "volume2D = np.dot(volume.reshape(4144,1),depth_fraction.reshape(1,10))"
   ]
  },
  {
   "cell_type": "code",
   "execution_count": null,
   "id": "45b389f4-5c3c-4196-96d9-52ff1a2502b3",
   "metadata": {},
   "outputs": [],
   "source": [
    "MinDO_full"
   ]
  },
  {
   "cell_type": "code",
   "execution_count": null,
   "id": "a628eca9-89b1-46e6-95c7-c7f7fc9e06f5",
   "metadata": {},
   "outputs": [],
   "source": [
    "MinDO"
   ]
  },
  {
   "cell_type": "code",
   "execution_count": null,
   "id": "370854cb-fcdd-4801-aa6b-a8f98e3aa8ba",
   "metadata": {},
   "outputs": [],
   "source": [
    "volume = np.asarray(gdf.volume)\n",
    "volume.reshape(4144,1).shape"
   ]
  },
  {
   "cell_type": "code",
   "execution_count": null,
   "id": "6ec43198-5fac-41fe-a687-e3e3d297388b",
   "metadata": {},
   "outputs": [],
   "source": [
    "depth_fraction = np.array(ssm['siglev_diff'])/100\n",
    "depth_fraction.reshape(1,10).shape"
   ]
  },
  {
   "cell_type": "code",
   "execution_count": null,
   "id": "fde38ca4-582f-487d-a5cf-30348cebd2cf",
   "metadata": {},
   "outputs": [],
   "source": [
    "volume2D[0,:]"
   ]
  },
  {
   "cell_type": "code",
   "execution_count": null,
   "id": "ea13a1f5-800f-49a9-8c5e-3a8ab495ac28",
   "metadata": {},
   "outputs": [],
   "source": [
    "volume[0]*np.array(ssm['siglev_diff'])/100"
   ]
  },
  {
   "cell_type": "code",
   "execution_count": null,
   "id": "326430da-ffa3-49aa-b927-8cc8e1069b5d",
   "metadata": {},
   "outputs": [],
   "source": [
    "np.sum(volume[0]*np.array(ssm['siglev_diff'])/100) - volume[0]"
   ]
  },
  {
   "cell_type": "code",
   "execution_count": null,
   "id": "3755931d-0c77-4d6a-80d2-61b427c4e40e",
   "metadata": {},
   "outputs": [],
   "source": [
    "volume*np.array(ssm['siglev_diff'])/100"
   ]
  }
 ],
 "metadata": {
  "kernelspec": {
   "display_name": "Python 3 (ipykernel)",
   "language": "python",
   "name": "python3"
  },
  "language_info": {
   "codemirror_mode": {
    "name": "ipython",
    "version": 3
   },
   "file_extension": ".py",
   "mimetype": "text/x-python",
   "name": "python",
   "nbconvert_exporter": "python",
   "pygments_lexer": "ipython3",
   "version": "3.10.4"
  }
 },
 "nbformat": 4,
 "nbformat_minor": 5
}
